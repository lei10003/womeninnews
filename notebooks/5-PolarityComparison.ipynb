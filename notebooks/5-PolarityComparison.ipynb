{
 "cells": [
  {
   "cell_type": "code",
   "execution_count": 59,
   "metadata": {},
   "outputs": [],
   "source": [
    "import numpy as np\n",
    "import pandas as pd"
   ]
  },
  {
   "cell_type": "code",
   "execution_count": 76,
   "metadata": {},
   "outputs": [],
   "source": [
    "df_cl_sent_base = pd.read_csv('../data/processed/headlines_cl_sent_base.csv')\n",
    "df_cl_sent = pd.read_csv('../data/processed/headlines_cl_sent.csv')"
   ]
  },
  {
   "cell_type": "code",
   "execution_count": 88,
   "metadata": {},
   "outputs": [
    {
     "data": {
      "text/plain": [
       "'https://www.netwerk24.com/ZA/Distrikspos/Nuus/big-apple-beckons-for-cilliers-20201118-2&sa=U&ved=2ahUKEwjorZSZypntAhVMExoKHbOGBAIQxfQBMAN6BAgHEAE&usg=AOvVaw1dlYB7K3BPLb4OTkZ72yEK'"
      ]
     },
     "execution_count": 88,
     "metadata": {},
     "output_type": "execute_result"
    }
   ],
   "source": [
    "df_cl_sent['url'].iloc[3]"
   ]
  },
  {
   "cell_type": "code",
   "execution_count": 86,
   "metadata": {},
   "outputs": [
    {
     "data": {
      "text/plain": [
       "'Big Apple beckons for CilliersNetwerk24'"
      ]
     },
     "execution_count": 86,
     "metadata": {},
     "output_type": "execute_result"
    }
   ],
   "source": [
    "df_cl_sent['headline'].iloc[3]"
   ]
  },
  {
   "cell_type": "code",
   "execution_count": 61,
   "metadata": {},
   "outputs": [],
   "source": [
    "#df_cl_sent[df_cl_sent['site']=='aajtak.in']"
   ]
  },
  {
   "cell_type": "code",
   "execution_count": 62,
   "metadata": {},
   "outputs": [
    {
     "name": "stdout",
     "output_type": "stream",
     "text": [
      "Women related news\n",
      "This dataset has 7810 headlines from South Africa 6604 headlines from India 10971 headlines from the UK and 22169 headlines from the U.S.\n"
     ]
    }
   ],
   "source": [
    "print(\"Women related news\")\n",
    "df = df_cl_sent\n",
    "print(\"This dataset has\", len(df[df['country_of_pub']=='South Africa']), \"headlines from South Africa\", len(df[df['country_of_pub']=='India']), \"headlines from India\",\n",
    "      len(df[df['country_of_pub']=='UK']), \"headlines from the UK and\", len(df[df['country_of_pub']=='USA']), \"headlines from the U.S.\")\n",
    "\n"
   ]
  },
  {
   "cell_type": "code",
   "execution_count": 63,
   "metadata": {},
   "outputs": [],
   "source": [
    "df_cl_sent_base['polarity'] = np.abs(df_cl_sent_base['compound_s'].values)\n",
    "df_cl_sent['polarity'] = np.abs(df_cl_sent['compound_s'].values)"
   ]
  },
  {
   "cell_type": "code",
   "execution_count": 64,
   "metadata": {},
   "outputs": [],
   "source": [
    "df_cl_sent_base = df_cl_sent_base[['site', 'country_of_pub', 'polarity']]\n",
    "df_cl_sent = df_cl_sent[['site', 'country_of_pub',  'polarity']]"
   ]
  },
  {
   "cell_type": "code",
   "execution_count": 65,
   "metadata": {},
   "outputs": [],
   "source": [
    "df_cl_sent_base.columns = ['site', 'country_of_pub', 'polarity_base']\n",
    "df_cl_sent.columns = ['site', 'country_of_pub', 'polarity_women']"
   ]
  },
  {
   "cell_type": "code",
   "execution_count": 66,
   "metadata": {},
   "outputs": [],
   "source": [
    "df_cl_sent_base = df_cl_sent_base.groupby(['site', 'country_of_pub']).mean().reset_index()\n",
    "df_cl_sent = df_cl_sent.groupby(['site', 'country_of_pub']).mean().reset_index()"
   ]
  },
  {
   "cell_type": "code",
   "execution_count": 67,
   "metadata": {},
   "outputs": [],
   "source": [
    "polarity_comparison = pd.merge(df_cl_sent_base, df_cl_sent, on = ['site', 'country_of_pub'])"
   ]
  },
  {
   "cell_type": "code",
   "execution_count": 68,
   "metadata": {},
   "outputs": [],
   "source": [
    "polarity_comparison['difference'] = polarity_comparison['polarity_women'] - polarity_comparison['polarity_base']"
   ]
  },
  {
   "cell_type": "markdown",
   "metadata": {},
   "source": [
    "TODO :\n",
    "- Aaj tak is in Hindi. Scrape old data again for this. \n",
    "- Scrape old data again?"
   ]
  },
  {
   "cell_type": "code",
   "execution_count": 69,
   "metadata": {},
   "outputs": [
    {
     "data": {
      "text/html": [
       "<div>\n",
       "<style scoped>\n",
       "    .dataframe tbody tr th:only-of-type {\n",
       "        vertical-align: middle;\n",
       "    }\n",
       "\n",
       "    .dataframe tbody tr th {\n",
       "        vertical-align: top;\n",
       "    }\n",
       "\n",
       "    .dataframe thead th {\n",
       "        text-align: right;\n",
       "    }\n",
       "</style>\n",
       "<table border=\"1\" class=\"dataframe\">\n",
       "  <thead>\n",
       "    <tr style=\"text-align: right;\">\n",
       "      <th></th>\n",
       "      <th>site</th>\n",
       "      <th>country_of_pub</th>\n",
       "      <th>polarity_base</th>\n",
       "      <th>polarity_women</th>\n",
       "      <th>difference</th>\n",
       "    </tr>\n",
       "  </thead>\n",
       "  <tbody>\n",
       "    <tr>\n",
       "      <th>14</th>\n",
       "      <td>aajtak.in</td>\n",
       "      <td>India</td>\n",
       "      <td>0.501155</td>\n",
       "      <td>0.000000</td>\n",
       "      <td>-0.501155</td>\n",
       "    </tr>\n",
       "    <tr>\n",
       "      <th>39</th>\n",
       "      <td>dailystar.co.uk</td>\n",
       "      <td>UK</td>\n",
       "      <td>0.405107</td>\n",
       "      <td>0.397655</td>\n",
       "      <td>-0.007452</td>\n",
       "    </tr>\n",
       "    <tr>\n",
       "      <th>161</th>\n",
       "      <td>yahoo.com</td>\n",
       "      <td>USA</td>\n",
       "      <td>0.398656</td>\n",
       "      <td>0.285837</td>\n",
       "      <td>-0.112818</td>\n",
       "    </tr>\n",
       "    <tr>\n",
       "      <th>133</th>\n",
       "      <td>theblaze.com</td>\n",
       "      <td>USA</td>\n",
       "      <td>0.392968</td>\n",
       "      <td>0.383043</td>\n",
       "      <td>-0.009925</td>\n",
       "    </tr>\n",
       "    <tr>\n",
       "      <th>140</th>\n",
       "      <td>thesun.co.uk</td>\n",
       "      <td>UK</td>\n",
       "      <td>0.381614</td>\n",
       "      <td>0.362625</td>\n",
       "      <td>-0.018989</td>\n",
       "    </tr>\n",
       "    <tr>\n",
       "      <th>49</th>\n",
       "      <td>express.co.uk</td>\n",
       "      <td>UK</td>\n",
       "      <td>0.367856</td>\n",
       "      <td>0.314095</td>\n",
       "      <td>-0.053761</td>\n",
       "    </tr>\n",
       "    <tr>\n",
       "      <th>118</th>\n",
       "      <td>rt.com</td>\n",
       "      <td>USA</td>\n",
       "      <td>0.365768</td>\n",
       "      <td>0.369323</td>\n",
       "      <td>0.003555</td>\n",
       "    </tr>\n",
       "    <tr>\n",
       "      <th>38</th>\n",
       "      <td>dailyrecord.co.uk</td>\n",
       "      <td>UK</td>\n",
       "      <td>0.362521</td>\n",
       "      <td>0.464128</td>\n",
       "      <td>0.101607</td>\n",
       "    </tr>\n",
       "    <tr>\n",
       "      <th>36</th>\n",
       "      <td>dailycaller.com</td>\n",
       "      <td>USA</td>\n",
       "      <td>0.362366</td>\n",
       "      <td>0.293883</td>\n",
       "      <td>-0.068483</td>\n",
       "    </tr>\n",
       "    <tr>\n",
       "      <th>81</th>\n",
       "      <td>manchestereveningnews.co.uk</td>\n",
       "      <td>UK</td>\n",
       "      <td>0.360634</td>\n",
       "      <td>0.434016</td>\n",
       "      <td>0.073382</td>\n",
       "    </tr>\n",
       "  </tbody>\n",
       "</table>\n",
       "</div>"
      ],
      "text/plain": [
       "                            site country_of_pub  polarity_base  \\\n",
       "14                     aajtak.in          India       0.501155   \n",
       "39               dailystar.co.uk             UK       0.405107   \n",
       "161                    yahoo.com            USA       0.398656   \n",
       "133                 theblaze.com            USA       0.392968   \n",
       "140                 thesun.co.uk             UK       0.381614   \n",
       "49                 express.co.uk             UK       0.367856   \n",
       "118                       rt.com            USA       0.365768   \n",
       "38             dailyrecord.co.uk             UK       0.362521   \n",
       "36               dailycaller.com            USA       0.362366   \n",
       "81   manchestereveningnews.co.uk             UK       0.360634   \n",
       "\n",
       "     polarity_women  difference  \n",
       "14         0.000000   -0.501155  \n",
       "39         0.397655   -0.007452  \n",
       "161        0.285837   -0.112818  \n",
       "133        0.383043   -0.009925  \n",
       "140        0.362625   -0.018989  \n",
       "49         0.314095   -0.053761  \n",
       "118        0.369323    0.003555  \n",
       "38         0.464128    0.101607  \n",
       "36         0.293883   -0.068483  \n",
       "81         0.434016    0.073382  "
      ]
     },
     "execution_count": 69,
     "metadata": {},
     "output_type": "execute_result"
    }
   ],
   "source": [
    "polarity_comparison.sort_values(by = 'polarity_base', ascending = False)[0:10]"
   ]
  },
  {
   "cell_type": "code",
   "execution_count": 29,
   "metadata": {},
   "outputs": [
    {
     "data": {
      "text/html": [
       "<div>\n",
       "<style scoped>\n",
       "    .dataframe tbody tr th:only-of-type {\n",
       "        vertical-align: middle;\n",
       "    }\n",
       "\n",
       "    .dataframe tbody tr th {\n",
       "        vertical-align: top;\n",
       "    }\n",
       "\n",
       "    .dataframe thead th {\n",
       "        text-align: right;\n",
       "    }\n",
       "</style>\n",
       "<table border=\"1\" class=\"dataframe\">\n",
       "  <thead>\n",
       "    <tr style=\"text-align: right;\">\n",
       "      <th></th>\n",
       "      <th>site</th>\n",
       "      <th>country_of_pub</th>\n",
       "      <th>polarity_base</th>\n",
       "      <th>polarity_women</th>\n",
       "      <th>difference</th>\n",
       "    </tr>\n",
       "  </thead>\n",
       "  <tbody>\n",
       "    <tr>\n",
       "      <th>38</th>\n",
       "      <td>dailyrecord.co.uk</td>\n",
       "      <td>UK</td>\n",
       "      <td>0.362521</td>\n",
       "      <td>0.464128</td>\n",
       "      <td>0.101607</td>\n",
       "    </tr>\n",
       "    <tr>\n",
       "      <th>7</th>\n",
       "      <td>Ewn.co.za</td>\n",
       "      <td>South Africa</td>\n",
       "      <td>0.265800</td>\n",
       "      <td>0.453834</td>\n",
       "      <td>0.188034</td>\n",
       "    </tr>\n",
       "    <tr>\n",
       "      <th>19</th>\n",
       "      <td>birminghammail.co.uk</td>\n",
       "      <td>UK</td>\n",
       "      <td>0.292425</td>\n",
       "      <td>0.442649</td>\n",
       "      <td>0.150224</td>\n",
       "    </tr>\n",
       "    <tr>\n",
       "      <th>87</th>\n",
       "      <td>mirror.co.uk</td>\n",
       "      <td>UK</td>\n",
       "      <td>0.298589</td>\n",
       "      <td>0.436405</td>\n",
       "      <td>0.137816</td>\n",
       "    </tr>\n",
       "    <tr>\n",
       "      <th>81</th>\n",
       "      <td>manchestereveningnews.co.uk</td>\n",
       "      <td>UK</td>\n",
       "      <td>0.360634</td>\n",
       "      <td>0.434016</td>\n",
       "      <td>0.073382</td>\n",
       "    </tr>\n",
       "    <tr>\n",
       "      <th>95</th>\n",
       "      <td>news.sky.com</td>\n",
       "      <td>UK</td>\n",
       "      <td>0.302015</td>\n",
       "      <td>0.418851</td>\n",
       "      <td>0.116836</td>\n",
       "    </tr>\n",
       "    <tr>\n",
       "      <th>78</th>\n",
       "      <td>liverpoolecho.co.uk</td>\n",
       "      <td>UK</td>\n",
       "      <td>0.279502</td>\n",
       "      <td>0.415181</td>\n",
       "      <td>0.135679</td>\n",
       "    </tr>\n",
       "    <tr>\n",
       "      <th>30</th>\n",
       "      <td>chroniclelive.co.uk</td>\n",
       "      <td>UK</td>\n",
       "      <td>0.322342</td>\n",
       "      <td>0.399853</td>\n",
       "      <td>0.077511</td>\n",
       "    </tr>\n",
       "    <tr>\n",
       "      <th>39</th>\n",
       "      <td>dailystar.co.uk</td>\n",
       "      <td>UK</td>\n",
       "      <td>0.405107</td>\n",
       "      <td>0.397655</td>\n",
       "      <td>-0.007452</td>\n",
       "    </tr>\n",
       "    <tr>\n",
       "      <th>146</th>\n",
       "      <td>timesnownews.com</td>\n",
       "      <td>India</td>\n",
       "      <td>0.277199</td>\n",
       "      <td>0.394778</td>\n",
       "      <td>0.117579</td>\n",
       "    </tr>\n",
       "  </tbody>\n",
       "</table>\n",
       "</div>"
      ],
      "text/plain": [
       "                            site country_of_pub  polarity_base  \\\n",
       "38             dailyrecord.co.uk             UK       0.362521   \n",
       "7                      Ewn.co.za   South Africa       0.265800   \n",
       "19          birminghammail.co.uk             UK       0.292425   \n",
       "87                  mirror.co.uk             UK       0.298589   \n",
       "81   manchestereveningnews.co.uk             UK       0.360634   \n",
       "95                  news.sky.com             UK       0.302015   \n",
       "78           liverpoolecho.co.uk             UK       0.279502   \n",
       "30           chroniclelive.co.uk             UK       0.322342   \n",
       "39               dailystar.co.uk             UK       0.405107   \n",
       "146             timesnownews.com          India       0.277199   \n",
       "\n",
       "     polarity_women  difference  \n",
       "38         0.464128    0.101607  \n",
       "7          0.453834    0.188034  \n",
       "19         0.442649    0.150224  \n",
       "87         0.436405    0.137816  \n",
       "81         0.434016    0.073382  \n",
       "95         0.418851    0.116836  \n",
       "78         0.415181    0.135679  \n",
       "30         0.399853    0.077511  \n",
       "39         0.397655   -0.007452  \n",
       "146        0.394778    0.117579  "
      ]
     },
     "execution_count": 29,
     "metadata": {},
     "output_type": "execute_result"
    }
   ],
   "source": [
    "polarity_comparison.sort_values(by = 'polarity_women', ascending = False)[0:10]"
   ]
  },
  {
   "cell_type": "code",
   "execution_count": 30,
   "metadata": {},
   "outputs": [
    {
     "data": {
      "text/html": [
       "<div>\n",
       "<style scoped>\n",
       "    .dataframe tbody tr th:only-of-type {\n",
       "        vertical-align: middle;\n",
       "    }\n",
       "\n",
       "    .dataframe tbody tr th {\n",
       "        vertical-align: top;\n",
       "    }\n",
       "\n",
       "    .dataframe thead th {\n",
       "        text-align: right;\n",
       "    }\n",
       "</style>\n",
       "<table border=\"1\" class=\"dataframe\">\n",
       "  <thead>\n",
       "    <tr style=\"text-align: right;\">\n",
       "      <th></th>\n",
       "      <th>site</th>\n",
       "      <th>country_of_pub</th>\n",
       "      <th>polarity_base</th>\n",
       "      <th>polarity_women</th>\n",
       "      <th>difference</th>\n",
       "    </tr>\n",
       "  </thead>\n",
       "  <tbody>\n",
       "    <tr>\n",
       "      <th>7</th>\n",
       "      <td>Ewn.co.za</td>\n",
       "      <td>South Africa</td>\n",
       "      <td>0.265800</td>\n",
       "      <td>0.453834</td>\n",
       "      <td>0.188034</td>\n",
       "    </tr>\n",
       "    <tr>\n",
       "      <th>12</th>\n",
       "      <td>Thesouthafrican.com</td>\n",
       "      <td>South Africa</td>\n",
       "      <td>0.200801</td>\n",
       "      <td>0.354110</td>\n",
       "      <td>0.153309</td>\n",
       "    </tr>\n",
       "    <tr>\n",
       "      <th>19</th>\n",
       "      <td>birminghammail.co.uk</td>\n",
       "      <td>UK</td>\n",
       "      <td>0.292425</td>\n",
       "      <td>0.442649</td>\n",
       "      <td>0.150224</td>\n",
       "    </tr>\n",
       "    <tr>\n",
       "      <th>104</th>\n",
       "      <td>outlookindia.com</td>\n",
       "      <td>India</td>\n",
       "      <td>0.244231</td>\n",
       "      <td>0.390315</td>\n",
       "      <td>0.146084</td>\n",
       "    </tr>\n",
       "    <tr>\n",
       "      <th>103</th>\n",
       "      <td>oneindia.com</td>\n",
       "      <td>India</td>\n",
       "      <td>0.208652</td>\n",
       "      <td>0.351767</td>\n",
       "      <td>0.143115</td>\n",
       "    </tr>\n",
       "  </tbody>\n",
       "</table>\n",
       "</div>"
      ],
      "text/plain": [
       "                     site country_of_pub  polarity_base  polarity_women  \\\n",
       "7               Ewn.co.za   South Africa       0.265800        0.453834   \n",
       "12    Thesouthafrican.com   South Africa       0.200801        0.354110   \n",
       "19   birminghammail.co.uk             UK       0.292425        0.442649   \n",
       "104      outlookindia.com          India       0.244231        0.390315   \n",
       "103          oneindia.com          India       0.208652        0.351767   \n",
       "\n",
       "     difference  \n",
       "7      0.188034  \n",
       "12     0.153309  \n",
       "19     0.150224  \n",
       "104    0.146084  \n",
       "103    0.143115  "
      ]
     },
     "execution_count": 30,
     "metadata": {},
     "output_type": "execute_result"
    }
   ],
   "source": [
    "polarity_comparison.sort_values(by = 'difference', ascending = False)[0:5]"
   ]
  },
  {
   "cell_type": "code",
   "execution_count": 45,
   "metadata": {},
   "outputs": [
    {
     "data": {
      "text/html": [
       "<div>\n",
       "<style scoped>\n",
       "    .dataframe tbody tr th:only-of-type {\n",
       "        vertical-align: middle;\n",
       "    }\n",
       "\n",
       "    .dataframe tbody tr th {\n",
       "        vertical-align: top;\n",
       "    }\n",
       "\n",
       "    .dataframe thead th {\n",
       "        text-align: right;\n",
       "    }\n",
       "</style>\n",
       "<table border=\"1\" class=\"dataframe\">\n",
       "  <thead>\n",
       "    <tr style=\"text-align: right;\">\n",
       "      <th></th>\n",
       "      <th>site</th>\n",
       "      <th>country_of_pub</th>\n",
       "      <th>polarity_base</th>\n",
       "      <th>polarity_women</th>\n",
       "      <th>difference</th>\n",
       "    </tr>\n",
       "  </thead>\n",
       "  <tbody>\n",
       "    <tr>\n",
       "      <th>33</th>\n",
       "      <td>cnn.com</td>\n",
       "      <td>UK</td>\n",
       "      <td>0.263511</td>\n",
       "      <td>0.289615</td>\n",
       "      <td>0.026104</td>\n",
       "    </tr>\n",
       "  </tbody>\n",
       "</table>\n",
       "</div>"
      ],
      "text/plain": [
       "       site country_of_pub  polarity_base  polarity_women  difference\n",
       "33  cnn.com             UK       0.263511        0.289615    0.026104"
      ]
     },
     "execution_count": 45,
     "metadata": {},
     "output_type": "execute_result"
    }
   ],
   "source": [
    "polarity_comparison[polarity_comparison['site']=='cnn.com']"
   ]
  },
  {
   "cell_type": "code",
   "execution_count": 70,
   "metadata": {},
   "outputs": [],
   "source": [
    "polarity_comparison = polarity_comparison[polarity_comparison['site']!='aajtak.in']"
   ]
  },
  {
   "cell_type": "code",
   "execution_count": 51,
   "metadata": {},
   "outputs": [
    {
     "data": {
      "text/plain": [
       "<seaborn.axisgrid.FacetGrid at 0x1e8708a19d0>"
      ]
     },
     "execution_count": 51,
     "metadata": {},
     "output_type": "execute_result"
    },
    {
     "data": {
      "image/png": "[encoded data removed]",
      "image/svg+xml": [
       "<?xml version=\"1.0\" encoding=\"utf-8\" standalone=\"no\"?>\r\n",
       "<!DOCTYPE svg PUBLIC \"-//W3C//DTD SVG 1.1//EN\"\r\n",
       "  \"http://www.w3.org/Graphics/SVG/1.1/DTD/svg11.dtd\">\r\n",
       "<!-- Created with matplotlib (https://matplotlib.org/) -->\r\n",
       "<svg height=\"352.478125pt\" version=\"1.1\" viewBox=\"0 0 444.878125 352.478125\" width=\"444.878125pt\" xmlns=\"http://www.w3.org/2000/svg\" xmlns:xlink=\"http://www.w3.org/1999/xlink\">\r\n",
       " <metadata>\r\n",
       "  <rdf:RDF xmlns:cc=\"http://creativecommons.org/ns#\" xmlns:dc=\"http://purl.org/dc/elements/1.1/\" xmlns:rdf=\"http://www.w3.org/1999/02/22-rdf-syntax-ns#\">\r\n",
       "   <cc:Work>\r\n",
       "    <dc:type rdf:resource=\"http://purl.org/dc/dcmitype/StillImage\"/>\r\n",
       "    <dc:date>2021-05-14T19:05:43.930248</dc:date>\r\n",
       "    <dc:format>image/svg+xml</dc:format>\r\n",
       "    <dc:creator>\r\n",
       "     <cc:Agent>\r\n",
       "      <dc:title>Matplotlib v3.3.2, https://matplotlib.org/</dc:title>\r\n",
       "     </cc:Agent>\r\n",
       "    </dc:creator>\r\n",
       "   </cc:Work>\r\n",
       "  </rdf:RDF>\r\n",
       " </metadata>\r\n",
       " <defs>\r\n",
       "  <style type=\"text/css\">*{stroke-linecap:butt;stroke-linejoin:round;}</style>\r\n",
       " </defs>\r\n",
       " <g id=\"figure_1\">\r\n",
       "  <g id=\"patch_1\">\r\n",
       "   <path d=\"M 0 352.478125 \r\n",
       "L 444.878125 352.478125 \r\n",
       "L 444.878125 0 \r\n",
       "L 0 0 \r\n",
       "z\r\n",
       "\" style=\"fill:none;\"/>\r\n",
       "  </g>\r\n",
       "  <g id=\"axes_1\">\r\n",
       "   <g id=\"patch_2\">\r\n",
       "    <path d=\"M 40.603125 328.6 \r\n",
       "L 334.234213 328.6 \r\n",
       "L 334.234213 7.2 \r\n",
       "L 40.603125 7.2 \r\n",
       "z\r\n",
       "\" style=\"fill:#ffffff;\"/>\r\n",
       "   </g>\r\n",
       "   <g id=\"patch_3\">\r\n",
       "    <path clip-path=\"url(#p39dca7c8f0)\" d=\"M 53.949993 328.6 \r\n",
       "L 59.28874 328.6 \r\n",
       "L 59.28874 300.77316 \r\n",
       "L 53.949993 300.77316 \r\n",
       "z\r\n",
       "\" style=\"fill:#1f77b4;fill-opacity:0.75;stroke:#000000;stroke-linejoin:miter;stroke-width:0.558909;\"/>\r\n",
       "   </g>\r\n",
       "   <g id=\"patch_4\">\r\n",
       "    <path clip-path=\"url(#p39dca7c8f0)\" d=\"M 59.28874 328.6 \r\n",
       "L 64.627487 328.6 \r\n",
       "L 64.627487 328.6 \r\n",
       "L 59.28874 328.6 \r\n",
       "z\r\n",
       "\" style=\"fill:#1f77b4;fill-opacity:0.75;stroke:#000000;stroke-linejoin:miter;stroke-width:0.558909;\"/>\r\n",
       "   </g>\r\n",
       "   <g id=\"patch_5\">\r\n",
       "    <path clip-path=\"url(#p39dca7c8f0)\" d=\"M 64.627487 328.6 \r\n",
       "L 69.966234 328.6 \r\n",
       "L 69.966234 328.6 \r\n",
       "L 64.627487 328.6 \r\n",
       "z\r\n",
       "\" style=\"fill:#1f77b4;fill-opacity:0.75;stroke:#000000;stroke-linejoin:miter;stroke-width:0.558909;\"/>\r\n",
       "   </g>\r\n",
       "   <g id=\"patch_6\">\r\n",
       "    <path clip-path=\"url(#p39dca7c8f0)\" d=\"M 69.966234 328.6 \r\n",
       "L 75.304981 328.6 \r\n",
       "L 75.304981 328.6 \r\n",
       "L 69.966234 328.6 \r\n",
       "z\r\n",
       "\" style=\"fill:#1f77b4;fill-opacity:0.75;stroke:#000000;stroke-linejoin:miter;stroke-width:0.558909;\"/>\r\n",
       "   </g>\r\n",
       "   <g id=\"patch_7\">\r\n",
       "    <path clip-path=\"url(#p39dca7c8f0)\" d=\"M 75.304981 328.6 \r\n",
       "L 80.643728 328.6 \r\n",
       "L 80.643728 328.6 \r\n",
       "L 75.304981 328.6 \r\n",
       "z\r\n",
       "\" style=\"fill:#1f77b4;fill-opacity:0.75;stroke:#000000;stroke-linejoin:miter;stroke-width:0.558909;\"/>\r\n",
       "   </g>\r\n",
       "   <g id=\"patch_8\">\r\n",
       "    <path clip-path=\"url(#p39dca7c8f0)\" d=\"M 80.643728 328.6 \r\n",
       "L 85.982475 328.6 \r\n",
       "L 85.982475 328.6 \r\n",
       "L 80.643728 328.6 \r\n",
       "z\r\n",
       "\" style=\"fill:#1f77b4;fill-opacity:0.75;stroke:#000000;stroke-linejoin:miter;stroke-width:0.558909;\"/>\r\n",
       "   </g>\r\n",
       "   <g id=\"patch_9\">\r\n",
       "    <path clip-path=\"url(#p39dca7c8f0)\" d=\"M 85.982475 328.6 \r\n",
       "L 91.321222 328.6 \r\n",
       "L 91.321222 328.6 \r\n",
       "L 85.982475 328.6 \r\n",
       "z\r\n",
       "\" style=\"fill:#1f77b4;fill-opacity:0.75;stroke:#000000;stroke-linejoin:miter;stroke-width:0.558909;\"/>\r\n",
       "   </g>\r\n",
       "   <g id=\"patch_10\">\r\n",
       "    <path clip-path=\"url(#p39dca7c8f0)\" d=\"M 91.321222 328.6 \r\n",
       "L 96.659969 328.6 \r\n",
       "L 96.659969 300.77316 \r\n",
       "L 91.321222 300.77316 \r\n",
       "z\r\n",
       "\" style=\"fill:#1f77b4;fill-opacity:0.75;stroke:#000000;stroke-linejoin:miter;stroke-width:0.558909;\"/>\r\n",
       "   </g>\r\n",
       "   <g id=\"patch_11\">\r\n",
       "    <path clip-path=\"url(#p39dca7c8f0)\" d=\"M 96.659969 328.6 \r\n",
       "L 101.998716 328.6 \r\n",
       "L 101.998716 272.94632 \r\n",
       "L 96.659969 272.94632 \r\n",
       "z\r\n",
       "\" style=\"fill:#1f77b4;fill-opacity:0.75;stroke:#000000;stroke-linejoin:miter;stroke-width:0.558909;\"/>\r\n",
       "   </g>\r\n",
       "   <g id=\"patch_12\">\r\n",
       "    <path clip-path=\"url(#p39dca7c8f0)\" d=\"M 101.998716 328.6 \r\n",
       "L 107.337463 328.6 \r\n",
       "L 107.337463 300.77316 \r\n",
       "L 101.998716 300.77316 \r\n",
       "z\r\n",
       "\" style=\"fill:#1f77b4;fill-opacity:0.75;stroke:#000000;stroke-linejoin:miter;stroke-width:0.558909;\"/>\r\n",
       "   </g>\r\n",
       "   <g id=\"patch_13\">\r\n",
       "    <path clip-path=\"url(#p39dca7c8f0)\" d=\"M 107.337463 328.6 \r\n",
       "L 112.67621 328.6 \r\n",
       "L 112.67621 272.94632 \r\n",
       "L 107.337463 272.94632 \r\n",
       "z\r\n",
       "\" style=\"fill:#1f77b4;fill-opacity:0.75;stroke:#000000;stroke-linejoin:miter;stroke-width:0.558909;\"/>\r\n",
       "   </g>\r\n",
       "   <g id=\"patch_14\">\r\n",
       "    <path clip-path=\"url(#p39dca7c8f0)\" d=\"M 112.67621 328.6 \r\n",
       "L 118.014957 328.6 \r\n",
       "L 118.014957 328.6 \r\n",
       "L 112.67621 328.6 \r\n",
       "z\r\n",
       "\" style=\"fill:#1f77b4;fill-opacity:0.75;stroke:#000000;stroke-linejoin:miter;stroke-width:0.558909;\"/>\r\n",
       "   </g>\r\n",
       "   <g id=\"patch_15\">\r\n",
       "    <path clip-path=\"url(#p39dca7c8f0)\" d=\"M 118.014957 328.6 \r\n",
       "L 123.353704 328.6 \r\n",
       "L 123.353704 300.77316 \r\n",
       "L 118.014957 300.77316 \r\n",
       "z\r\n",
       "\" style=\"fill:#1f77b4;fill-opacity:0.75;stroke:#000000;stroke-linejoin:miter;stroke-width:0.558909;\"/>\r\n",
       "   </g>\r\n",
       "   <g id=\"patch_16\">\r\n",
       "    <path clip-path=\"url(#p39dca7c8f0)\" d=\"M 123.353704 328.6 \r\n",
       "L 128.692452 328.6 \r\n",
       "L 128.692452 300.77316 \r\n",
       "L 123.353704 300.77316 \r\n",
       "z\r\n",
       "\" style=\"fill:#1f77b4;fill-opacity:0.75;stroke:#000000;stroke-linejoin:miter;stroke-width:0.558909;\"/>\r\n",
       "   </g>\r\n",
       "   <g id=\"patch_17\">\r\n",
       "    <path clip-path=\"url(#p39dca7c8f0)\" d=\"M 128.692452 328.6 \r\n",
       "L 134.031199 328.6 \r\n",
       "L 134.031199 300.77316 \r\n",
       "L 128.692452 300.77316 \r\n",
       "z\r\n",
       "\" style=\"fill:#1f77b4;fill-opacity:0.75;stroke:#000000;stroke-linejoin:miter;stroke-width:0.558909;\"/>\r\n",
       "   </g>\r\n",
       "   <g id=\"patch_18\">\r\n",
       "    <path clip-path=\"url(#p39dca7c8f0)\" d=\"M 134.031199 328.6 \r\n",
       "L 139.369946 328.6 \r\n",
       "L 139.369946 300.77316 \r\n",
       "L 134.031199 300.77316 \r\n",
       "z\r\n",
       "\" style=\"fill:#1f77b4;fill-opacity:0.75;stroke:#000000;stroke-linejoin:miter;stroke-width:0.558909;\"/>\r\n",
       "   </g>\r\n",
       "   <g id=\"patch_19\">\r\n",
       "    <path clip-path=\"url(#p39dca7c8f0)\" d=\"M 139.369946 328.6 \r\n",
       "L 144.708693 328.6 \r\n",
       "L 144.708693 272.94632 \r\n",
       "L 139.369946 272.94632 \r\n",
       "z\r\n",
       "\" style=\"fill:#1f77b4;fill-opacity:0.75;stroke:#000000;stroke-linejoin:miter;stroke-width:0.558909;\"/>\r\n",
       "   </g>\r\n",
       "   <g id=\"patch_20\">\r\n",
       "    <path clip-path=\"url(#p39dca7c8f0)\" d=\"M 144.708693 328.6 \r\n",
       "L 150.04744 328.6 \r\n",
       "L 150.04744 161.638961 \r\n",
       "L 144.708693 161.638961 \r\n",
       "z\r\n",
       "\" style=\"fill:#1f77b4;fill-opacity:0.75;stroke:#000000;stroke-linejoin:miter;stroke-width:0.558909;\"/>\r\n",
       "   </g>\r\n",
       "   <g id=\"patch_21\">\r\n",
       "    <path clip-path=\"url(#p39dca7c8f0)\" d=\"M 150.04744 328.6 \r\n",
       "L 155.386187 328.6 \r\n",
       "L 155.386187 245.119481 \r\n",
       "L 150.04744 245.119481 \r\n",
       "z\r\n",
       "\" style=\"fill:#1f77b4;fill-opacity:0.75;stroke:#000000;stroke-linejoin:miter;stroke-width:0.558909;\"/>\r\n",
       "   </g>\r\n",
       "   <g id=\"patch_22\">\r\n",
       "    <path clip-path=\"url(#p39dca7c8f0)\" d=\"M 155.386187 328.6 \r\n",
       "L 160.724934 328.6 \r\n",
       "L 160.724934 78.158442 \r\n",
       "L 155.386187 78.158442 \r\n",
       "z\r\n",
       "\" style=\"fill:#1f77b4;fill-opacity:0.75;stroke:#000000;stroke-linejoin:miter;stroke-width:0.558909;\"/>\r\n",
       "   </g>\r\n",
       "   <g id=\"patch_23\">\r\n",
       "    <path clip-path=\"url(#p39dca7c8f0)\" d=\"M 160.724934 328.6 \r\n",
       "L 166.063681 328.6 \r\n",
       "L 166.063681 189.465801 \r\n",
       "L 160.724934 189.465801 \r\n",
       "z\r\n",
       "\" style=\"fill:#1f77b4;fill-opacity:0.75;stroke:#000000;stroke-linejoin:miter;stroke-width:0.558909;\"/>\r\n",
       "   </g>\r\n",
       "   <g id=\"patch_24\">\r\n",
       "    <path clip-path=\"url(#p39dca7c8f0)\" d=\"M 166.063681 328.6 \r\n",
       "L 171.402428 328.6 \r\n",
       "L 171.402428 105.985281 \r\n",
       "L 166.063681 105.985281 \r\n",
       "z\r\n",
       "\" style=\"fill:#1f77b4;fill-opacity:0.75;stroke:#000000;stroke-linejoin:miter;stroke-width:0.558909;\"/>\r\n",
       "   </g>\r\n",
       "   <g id=\"patch_25\">\r\n",
       "    <path clip-path=\"url(#p39dca7c8f0)\" d=\"M 171.402428 328.6 \r\n",
       "L 176.741175 328.6 \r\n",
       "L 176.741175 217.292641 \r\n",
       "L 171.402428 217.292641 \r\n",
       "z\r\n",
       "\" style=\"fill:#1f77b4;fill-opacity:0.75;stroke:#000000;stroke-linejoin:miter;stroke-width:0.558909;\"/>\r\n",
       "   </g>\r\n",
       "   <g id=\"patch_26\">\r\n",
       "    <path clip-path=\"url(#p39dca7c8f0)\" d=\"M 176.741175 328.6 \r\n",
       "L 182.079922 328.6 \r\n",
       "L 182.079922 245.119481 \r\n",
       "L 176.741175 245.119481 \r\n",
       "z\r\n",
       "\" style=\"fill:#1f77b4;fill-opacity:0.75;stroke:#000000;stroke-linejoin:miter;stroke-width:0.558909;\"/>\r\n",
       "   </g>\r\n",
       "   <g id=\"patch_27\">\r\n",
       "    <path clip-path=\"url(#p39dca7c8f0)\" d=\"M 182.079922 328.6 \r\n",
       "L 187.418669 328.6 \r\n",
       "L 187.418669 105.985281 \r\n",
       "L 182.079922 105.985281 \r\n",
       "z\r\n",
       "\" style=\"fill:#1f77b4;fill-opacity:0.75;stroke:#000000;stroke-linejoin:miter;stroke-width:0.558909;\"/>\r\n",
       "   </g>\r\n",
       "   <g id=\"patch_28\">\r\n",
       "    <path clip-path=\"url(#p39dca7c8f0)\" d=\"M 187.418669 328.6 \r\n",
       "L 192.757416 328.6 \r\n",
       "L 192.757416 50.331602 \r\n",
       "L 187.418669 50.331602 \r\n",
       "z\r\n",
       "\" style=\"fill:#1f77b4;fill-opacity:0.75;stroke:#000000;stroke-linejoin:miter;stroke-width:0.558909;\"/>\r\n",
       "   </g>\r\n",
       "   <g id=\"patch_29\">\r\n",
       "    <path clip-path=\"url(#p39dca7c8f0)\" d=\"M 192.757416 328.6 \r\n",
       "L 198.096163 328.6 \r\n",
       "L 198.096163 50.331602 \r\n",
       "L 192.757416 50.331602 \r\n",
       "z\r\n",
       "\" style=\"fill:#1f77b4;fill-opacity:0.75;stroke:#000000;stroke-linejoin:miter;stroke-width:0.558909;\"/>\r\n",
       "   </g>\r\n",
       "   <g id=\"patch_30\">\r\n",
       "    <path clip-path=\"url(#p39dca7c8f0)\" d=\"M 198.096163 328.6 \r\n",
       "L 203.43491 328.6 \r\n",
       "L 203.43491 22.504762 \r\n",
       "L 198.096163 22.504762 \r\n",
       "z\r\n",
       "\" style=\"fill:#1f77b4;fill-opacity:0.75;stroke:#000000;stroke-linejoin:miter;stroke-width:0.558909;\"/>\r\n",
       "   </g>\r\n",
       "   <g id=\"patch_31\">\r\n",
       "    <path clip-path=\"url(#p39dca7c8f0)\" d=\"M 203.43491 328.6 \r\n",
       "L 208.773657 328.6 \r\n",
       "L 208.773657 161.638961 \r\n",
       "L 203.43491 161.638961 \r\n",
       "z\r\n",
       "\" style=\"fill:#1f77b4;fill-opacity:0.75;stroke:#000000;stroke-linejoin:miter;stroke-width:0.558909;\"/>\r\n",
       "   </g>\r\n",
       "   <g id=\"patch_32\">\r\n",
       "    <path clip-path=\"url(#p39dca7c8f0)\" d=\"M 208.773657 328.6 \r\n",
       "L 214.112405 328.6 \r\n",
       "L 214.112405 105.985281 \r\n",
       "L 208.773657 105.985281 \r\n",
       "z\r\n",
       "\" style=\"fill:#1f77b4;fill-opacity:0.75;stroke:#000000;stroke-linejoin:miter;stroke-width:0.558909;\"/>\r\n",
       "   </g>\r\n",
       "   <g id=\"patch_33\">\r\n",
       "    <path clip-path=\"url(#p39dca7c8f0)\" d=\"M 214.112405 328.6 \r\n",
       "L 219.451152 328.6 \r\n",
       "L 219.451152 161.638961 \r\n",
       "L 214.112405 161.638961 \r\n",
       "z\r\n",
       "\" style=\"fill:#1f77b4;fill-opacity:0.75;stroke:#000000;stroke-linejoin:miter;stroke-width:0.558909;\"/>\r\n",
       "   </g>\r\n",
       "   <g id=\"patch_34\">\r\n",
       "    <path clip-path=\"url(#p39dca7c8f0)\" d=\"M 219.451152 328.6 \r\n",
       "L 224.789899 328.6 \r\n",
       "L 224.789899 133.812121 \r\n",
       "L 219.451152 133.812121 \r\n",
       "z\r\n",
       "\" style=\"fill:#1f77b4;fill-opacity:0.75;stroke:#000000;stroke-linejoin:miter;stroke-width:0.558909;\"/>\r\n",
       "   </g>\r\n",
       "   <g id=\"patch_35\">\r\n",
       "    <path clip-path=\"url(#p39dca7c8f0)\" d=\"M 224.789899 328.6 \r\n",
       "L 230.128646 328.6 \r\n",
       "L 230.128646 217.292641 \r\n",
       "L 224.789899 217.292641 \r\n",
       "z\r\n",
       "\" style=\"fill:#1f77b4;fill-opacity:0.75;stroke:#000000;stroke-linejoin:miter;stroke-width:0.558909;\"/>\r\n",
       "   </g>\r\n",
       "   <g id=\"patch_36\">\r\n",
       "    <path clip-path=\"url(#p39dca7c8f0)\" d=\"M 230.128646 328.6 \r\n",
       "L 235.467393 328.6 \r\n",
       "L 235.467393 133.812121 \r\n",
       "L 230.128646 133.812121 \r\n",
       "z\r\n",
       "\" style=\"fill:#1f77b4;fill-opacity:0.75;stroke:#000000;stroke-linejoin:miter;stroke-width:0.558909;\"/>\r\n",
       "   </g>\r\n",
       "   <g id=\"patch_37\">\r\n",
       "    <path clip-path=\"url(#p39dca7c8f0)\" d=\"M 235.467393 328.6 \r\n",
       "L 240.80614 328.6 \r\n",
       "L 240.80614 245.119481 \r\n",
       "L 235.467393 245.119481 \r\n",
       "z\r\n",
       "\" style=\"fill:#1f77b4;fill-opacity:0.75;stroke:#000000;stroke-linejoin:miter;stroke-width:0.558909;\"/>\r\n",
       "   </g>\r\n",
       "   <g id=\"patch_38\">\r\n",
       "    <path clip-path=\"url(#p39dca7c8f0)\" d=\"M 240.80614 328.6 \r\n",
       "L 246.144887 328.6 \r\n",
       "L 246.144887 272.94632 \r\n",
       "L 240.80614 272.94632 \r\n",
       "z\r\n",
       "\" style=\"fill:#1f77b4;fill-opacity:0.75;stroke:#000000;stroke-linejoin:miter;stroke-width:0.558909;\"/>\r\n",
       "   </g>\r\n",
       "   <g id=\"patch_39\">\r\n",
       "    <path clip-path=\"url(#p39dca7c8f0)\" d=\"M 246.144887 328.6 \r\n",
       "L 251.483634 328.6 \r\n",
       "L 251.483634 245.119481 \r\n",
       "L 246.144887 245.119481 \r\n",
       "z\r\n",
       "\" style=\"fill:#1f77b4;fill-opacity:0.75;stroke:#000000;stroke-linejoin:miter;stroke-width:0.558909;\"/>\r\n",
       "   </g>\r\n",
       "   <g id=\"patch_40\">\r\n",
       "    <path clip-path=\"url(#p39dca7c8f0)\" d=\"M 251.483634 328.6 \r\n",
       "L 256.822381 328.6 \r\n",
       "L 256.822381 189.465801 \r\n",
       "L 251.483634 189.465801 \r\n",
       "z\r\n",
       "\" style=\"fill:#1f77b4;fill-opacity:0.75;stroke:#000000;stroke-linejoin:miter;stroke-width:0.558909;\"/>\r\n",
       "   </g>\r\n",
       "   <g id=\"patch_41\">\r\n",
       "    <path clip-path=\"url(#p39dca7c8f0)\" d=\"M 256.822381 328.6 \r\n",
       "L 262.161128 328.6 \r\n",
       "L 262.161128 328.6 \r\n",
       "L 256.822381 328.6 \r\n",
       "z\r\n",
       "\" style=\"fill:#1f77b4;fill-opacity:0.75;stroke:#000000;stroke-linejoin:miter;stroke-width:0.558909;\"/>\r\n",
       "   </g>\r\n",
       "   <g id=\"patch_42\">\r\n",
       "    <path clip-path=\"url(#p39dca7c8f0)\" d=\"M 262.161128 328.6 \r\n",
       "L 267.499875 328.6 \r\n",
       "L 267.499875 161.638961 \r\n",
       "L 262.161128 161.638961 \r\n",
       "z\r\n",
       "\" style=\"fill:#1f77b4;fill-opacity:0.75;stroke:#000000;stroke-linejoin:miter;stroke-width:0.558909;\"/>\r\n",
       "   </g>\r\n",
       "   <g id=\"patch_43\">\r\n",
       "    <path clip-path=\"url(#p39dca7c8f0)\" d=\"M 267.499875 328.6 \r\n",
       "L 272.838622 328.6 \r\n",
       "L 272.838622 300.77316 \r\n",
       "L 267.499875 300.77316 \r\n",
       "z\r\n",
       "\" style=\"fill:#1f77b4;fill-opacity:0.75;stroke:#000000;stroke-linejoin:miter;stroke-width:0.558909;\"/>\r\n",
       "   </g>\r\n",
       "   <g id=\"patch_44\">\r\n",
       "    <path clip-path=\"url(#p39dca7c8f0)\" d=\"M 272.838622 328.6 \r\n",
       "L 278.177369 328.6 \r\n",
       "L 278.177369 272.94632 \r\n",
       "L 272.838622 272.94632 \r\n",
       "z\r\n",
       "\" style=\"fill:#1f77b4;fill-opacity:0.75;stroke:#000000;stroke-linejoin:miter;stroke-width:0.558909;\"/>\r\n",
       "   </g>\r\n",
       "   <g id=\"patch_45\">\r\n",
       "    <path clip-path=\"url(#p39dca7c8f0)\" d=\"M 278.177369 328.6 \r\n",
       "L 283.516116 328.6 \r\n",
       "L 283.516116 189.465801 \r\n",
       "L 278.177369 189.465801 \r\n",
       "z\r\n",
       "\" style=\"fill:#1f77b4;fill-opacity:0.75;stroke:#000000;stroke-linejoin:miter;stroke-width:0.558909;\"/>\r\n",
       "   </g>\r\n",
       "   <g id=\"patch_46\">\r\n",
       "    <path clip-path=\"url(#p39dca7c8f0)\" d=\"M 283.516116 328.6 \r\n",
       "L 288.854863 328.6 \r\n",
       "L 288.854863 245.119481 \r\n",
       "L 283.516116 245.119481 \r\n",
       "z\r\n",
       "\" style=\"fill:#1f77b4;fill-opacity:0.75;stroke:#000000;stroke-linejoin:miter;stroke-width:0.558909;\"/>\r\n",
       "   </g>\r\n",
       "   <g id=\"patch_47\">\r\n",
       "    <path clip-path=\"url(#p39dca7c8f0)\" d=\"M 288.854863 328.6 \r\n",
       "L 294.19361 328.6 \r\n",
       "L 294.19361 272.94632 \r\n",
       "L 288.854863 272.94632 \r\n",
       "z\r\n",
       "\" style=\"fill:#1f77b4;fill-opacity:0.75;stroke:#000000;stroke-linejoin:miter;stroke-width:0.558909;\"/>\r\n",
       "   </g>\r\n",
       "   <g id=\"patch_48\">\r\n",
       "    <path clip-path=\"url(#p39dca7c8f0)\" d=\"M 294.19361 328.6 \r\n",
       "L 299.532358 328.6 \r\n",
       "L 299.532358 300.77316 \r\n",
       "L 294.19361 300.77316 \r\n",
       "z\r\n",
       "\" style=\"fill:#1f77b4;fill-opacity:0.75;stroke:#000000;stroke-linejoin:miter;stroke-width:0.558909;\"/>\r\n",
       "   </g>\r\n",
       "   <g id=\"patch_49\">\r\n",
       "    <path clip-path=\"url(#p39dca7c8f0)\" d=\"M 299.532358 328.6 \r\n",
       "L 304.871105 328.6 \r\n",
       "L 304.871105 328.6 \r\n",
       "L 299.532358 328.6 \r\n",
       "z\r\n",
       "\" style=\"fill:#1f77b4;fill-opacity:0.75;stroke:#000000;stroke-linejoin:miter;stroke-width:0.558909;\"/>\r\n",
       "   </g>\r\n",
       "   <g id=\"patch_50\">\r\n",
       "    <path clip-path=\"url(#p39dca7c8f0)\" d=\"M 304.871105 328.6 \r\n",
       "L 310.209852 328.6 \r\n",
       "L 310.209852 328.6 \r\n",
       "L 304.871105 328.6 \r\n",
       "z\r\n",
       "\" style=\"fill:#1f77b4;fill-opacity:0.75;stroke:#000000;stroke-linejoin:miter;stroke-width:0.558909;\"/>\r\n",
       "   </g>\r\n",
       "   <g id=\"patch_51\">\r\n",
       "    <path clip-path=\"url(#p39dca7c8f0)\" d=\"M 310.209852 328.6 \r\n",
       "L 315.548599 328.6 \r\n",
       "L 315.548599 328.6 \r\n",
       "L 310.209852 328.6 \r\n",
       "z\r\n",
       "\" style=\"fill:#1f77b4;fill-opacity:0.75;stroke:#000000;stroke-linejoin:miter;stroke-width:0.558909;\"/>\r\n",
       "   </g>\r\n",
       "   <g id=\"patch_52\">\r\n",
       "    <path clip-path=\"url(#p39dca7c8f0)\" d=\"M 315.548599 328.6 \r\n",
       "L 320.887346 328.6 \r\n",
       "L 320.887346 300.77316 \r\n",
       "L 315.548599 300.77316 \r\n",
       "z\r\n",
       "\" style=\"fill:#1f77b4;fill-opacity:0.75;stroke:#000000;stroke-linejoin:miter;stroke-width:0.558909;\"/>\r\n",
       "   </g>\r\n",
       "   <g id=\"matplotlib.axis_1\">\r\n",
       "    <g id=\"xtick_1\">\r\n",
       "     <g id=\"line2d_1\">\r\n",
       "      <defs>\r\n",
       "       <path d=\"M 0 0 \r\n",
       "L 0 3.5 \r\n",
       "\" id=\"m157ea4eb5b\" style=\"stroke:#000000;stroke-width:0.8;\"/>\r\n",
       "      </defs>\r\n",
       "      <g>\r\n",
       "       <use style=\"stroke:#000000;stroke-width:0.8;\" x=\"66.448943\" xlink:href=\"#m157ea4eb5b\" y=\"328.6\"/>\r\n",
       "      </g>\r\n",
       "     </g>\r\n",
       "     <g id=\"text_1\">\r\n",
       "      <!-- −0.15 -->\r\n",
       "      <g transform=\"translate(51.126287 343.198437)scale(0.1 -0.1)\">\r\n",
       "       <defs>\r\n",
       "        <path d=\"M 10.59375 35.5 \r\n",
       "L 73.1875 35.5 \r\n",
       "L 73.1875 27.203125 \r\n",
       "L 10.59375 27.203125 \r\n",
       "z\r\n",
       "\" id=\"DejaVuSans-8722\"/>\r\n",
       "        <path d=\"M 31.78125 66.40625 \r\n",
       "Q 24.171875 66.40625 20.328125 58.90625 \r\n",
       "Q 16.5 51.421875 16.5 36.375 \r\n",
       "Q 16.5 21.390625 20.328125 13.890625 \r\n",
       "Q 24.171875 6.390625 31.78125 6.390625 \r\n",
       "Q 39.453125 6.390625 43.28125 13.890625 \r\n",
       "Q 47.125 21.390625 47.125 36.375 \r\n",
       "Q 47.125 51.421875 43.28125 58.90625 \r\n",
       "Q 39.453125 66.40625 31.78125 66.40625 \r\n",
       "z\r\n",
       "M 31.78125 74.21875 \r\n",
       "Q 44.046875 74.21875 50.515625 64.515625 \r\n",
       "Q 56.984375 54.828125 56.984375 36.375 \r\n",
       "Q 56.984375 17.96875 50.515625 8.265625 \r\n",
       "Q 44.046875 -1.421875 31.78125 -1.421875 \r\n",
       "Q 19.53125 -1.421875 13.0625 8.265625 \r\n",
       "Q 6.59375 17.96875 6.59375 36.375 \r\n",
       "Q 6.59375 54.828125 13.0625 64.515625 \r\n",
       "Q 19.53125 74.21875 31.78125 74.21875 \r\n",
       "z\r\n",
       "\" id=\"DejaVuSans-48\"/>\r\n",
       "        <path d=\"M 10.6875 12.40625 \r\n",
       "L 21 12.40625 \r\n",
       "L 21 0 \r\n",
       "L 10.6875 0 \r\n",
       "z\r\n",
       "\" id=\"DejaVuSans-46\"/>\r\n",
       "        <path d=\"M 12.40625 8.296875 \r\n",
       "L 28.515625 8.296875 \r\n",
       "L 28.515625 63.921875 \r\n",
       "L 10.984375 60.40625 \r\n",
       "L 10.984375 69.390625 \r\n",
       "L 28.421875 72.90625 \r\n",
       "L 38.28125 72.90625 \r\n",
       "L 38.28125 8.296875 \r\n",
       "L 54.390625 8.296875 \r\n",
       "L 54.390625 0 \r\n",
       "L 12.40625 0 \r\n",
       "z\r\n",
       "\" id=\"DejaVuSans-49\"/>\r\n",
       "        <path d=\"M 10.796875 72.90625 \r\n",
       "L 49.515625 72.90625 \r\n",
       "L 49.515625 64.59375 \r\n",
       "L 19.828125 64.59375 \r\n",
       "L 19.828125 46.734375 \r\n",
       "Q 21.96875 47.46875 24.109375 47.828125 \r\n",
       "Q 26.265625 48.1875 28.421875 48.1875 \r\n",
       "Q 40.625 48.1875 47.75 41.5 \r\n",
       "Q 54.890625 34.8125 54.890625 23.390625 \r\n",
       "Q 54.890625 11.625 47.5625 5.09375 \r\n",
       "Q 40.234375 -1.421875 26.90625 -1.421875 \r\n",
       "Q 22.3125 -1.421875 17.546875 -0.640625 \r\n",
       "Q 12.796875 0.140625 7.71875 1.703125 \r\n",
       "L 7.71875 11.625 \r\n",
       "Q 12.109375 9.234375 16.796875 8.0625 \r\n",
       "Q 21.484375 6.890625 26.703125 6.890625 \r\n",
       "Q 35.15625 6.890625 40.078125 11.328125 \r\n",
       "Q 45.015625 15.765625 45.015625 23.390625 \r\n",
       "Q 45.015625 31 40.078125 35.4375 \r\n",
       "Q 35.15625 39.890625 26.703125 39.890625 \r\n",
       "Q 22.75 39.890625 18.8125 39.015625 \r\n",
       "Q 14.890625 38.140625 10.796875 36.28125 \r\n",
       "z\r\n",
       "\" id=\"DejaVuSans-53\"/>\r\n",
       "       </defs>\r\n",
       "       <use xlink:href=\"#DejaVuSans-8722\"/>\r\n",
       "       <use x=\"83.789062\" xlink:href=\"#DejaVuSans-48\"/>\r\n",
       "       <use x=\"147.412109\" xlink:href=\"#DejaVuSans-46\"/>\r\n",
       "       <use x=\"179.199219\" xlink:href=\"#DejaVuSans-49\"/>\r\n",
       "       <use x=\"242.822266\" xlink:href=\"#DejaVuSans-53\"/>\r\n",
       "      </g>\r\n",
       "     </g>\r\n",
       "    </g>\r\n",
       "    <g id=\"xtick_2\">\r\n",
       "     <g id=\"line2d_2\">\r\n",
       "      <g>\r\n",
       "       <use style=\"stroke:#000000;stroke-width:0.8;\" x=\"104.084025\" xlink:href=\"#m157ea4eb5b\" y=\"328.6\"/>\r\n",
       "      </g>\r\n",
       "     </g>\r\n",
       "     <g id=\"text_2\">\r\n",
       "      <!-- −0.10 -->\r\n",
       "      <g transform=\"translate(88.761369 343.198437)scale(0.1 -0.1)\">\r\n",
       "       <use xlink:href=\"#DejaVuSans-8722\"/>\r\n",
       "       <use x=\"83.789062\" xlink:href=\"#DejaVuSans-48\"/>\r\n",
       "       <use x=\"147.412109\" xlink:href=\"#DejaVuSans-46\"/>\r\n",
       "       <use x=\"179.199219\" xlink:href=\"#DejaVuSans-49\"/>\r\n",
       "       <use x=\"242.822266\" xlink:href=\"#DejaVuSans-48\"/>\r\n",
       "      </g>\r\n",
       "     </g>\r\n",
       "    </g>\r\n",
       "    <g id=\"xtick_3\">\r\n",
       "     <g id=\"line2d_3\">\r\n",
       "      <g>\r\n",
       "       <use style=\"stroke:#000000;stroke-width:0.8;\" x=\"141.719106\" xlink:href=\"#m157ea4eb5b\" y=\"328.6\"/>\r\n",
       "      </g>\r\n",
       "     </g>\r\n",
       "     <g id=\"text_3\">\r\n",
       "      <!-- −0.05 -->\r\n",
       "      <g transform=\"translate(126.39645 343.198437)scale(0.1 -0.1)\">\r\n",
       "       <use xlink:href=\"#DejaVuSans-8722\"/>\r\n",
       "       <use x=\"83.789062\" xlink:href=\"#DejaVuSans-48\"/>\r\n",
       "       <use x=\"147.412109\" xlink:href=\"#DejaVuSans-46\"/>\r\n",
       "       <use x=\"179.199219\" xlink:href=\"#DejaVuSans-48\"/>\r\n",
       "       <use x=\"242.822266\" xlink:href=\"#DejaVuSans-53\"/>\r\n",
       "      </g>\r\n",
       "     </g>\r\n",
       "    </g>\r\n",
       "    <g id=\"xtick_4\">\r\n",
       "     <g id=\"line2d_4\">\r\n",
       "      <g>\r\n",
       "       <use style=\"stroke:#000000;stroke-width:0.8;\" x=\"179.354188\" xlink:href=\"#m157ea4eb5b\" y=\"328.6\"/>\r\n",
       "      </g>\r\n",
       "     </g>\r\n",
       "     <g id=\"text_4\">\r\n",
       "      <!-- 0.00 -->\r\n",
       "      <g transform=\"translate(168.221375 343.198437)scale(0.1 -0.1)\">\r\n",
       "       <use xlink:href=\"#DejaVuSans-48\"/>\r\n",
       "       <use x=\"63.623047\" xlink:href=\"#DejaVuSans-46\"/>\r\n",
       "       <use x=\"95.410156\" xlink:href=\"#DejaVuSans-48\"/>\r\n",
       "       <use x=\"159.033203\" xlink:href=\"#DejaVuSans-48\"/>\r\n",
       "      </g>\r\n",
       "     </g>\r\n",
       "    </g>\r\n",
       "    <g id=\"xtick_5\">\r\n",
       "     <g id=\"line2d_5\">\r\n",
       "      <g>\r\n",
       "       <use style=\"stroke:#000000;stroke-width:0.8;\" x=\"216.989269\" xlink:href=\"#m157ea4eb5b\" y=\"328.6\"/>\r\n",
       "      </g>\r\n",
       "     </g>\r\n",
       "     <g id=\"text_5\">\r\n",
       "      <!-- 0.05 -->\r\n",
       "      <g transform=\"translate(205.856457 343.198437)scale(0.1 -0.1)\">\r\n",
       "       <use xlink:href=\"#DejaVuSans-48\"/>\r\n",
       "       <use x=\"63.623047\" xlink:href=\"#DejaVuSans-46\"/>\r\n",
       "       <use x=\"95.410156\" xlink:href=\"#DejaVuSans-48\"/>\r\n",
       "       <use x=\"159.033203\" xlink:href=\"#DejaVuSans-53\"/>\r\n",
       "      </g>\r\n",
       "     </g>\r\n",
       "    </g>\r\n",
       "    <g id=\"xtick_6\">\r\n",
       "     <g id=\"line2d_6\">\r\n",
       "      <g>\r\n",
       "       <use style=\"stroke:#000000;stroke-width:0.8;\" x=\"254.624351\" xlink:href=\"#m157ea4eb5b\" y=\"328.6\"/>\r\n",
       "      </g>\r\n",
       "     </g>\r\n",
       "     <g id=\"text_6\">\r\n",
       "      <!-- 0.10 -->\r\n",
       "      <g transform=\"translate(243.491538 343.198437)scale(0.1 -0.1)\">\r\n",
       "       <use xlink:href=\"#DejaVuSans-48\"/>\r\n",
       "       <use x=\"63.623047\" xlink:href=\"#DejaVuSans-46\"/>\r\n",
       "       <use x=\"95.410156\" xlink:href=\"#DejaVuSans-49\"/>\r\n",
       "       <use x=\"159.033203\" xlink:href=\"#DejaVuSans-48\"/>\r\n",
       "      </g>\r\n",
       "     </g>\r\n",
       "    </g>\r\n",
       "    <g id=\"xtick_7\">\r\n",
       "     <g id=\"line2d_7\">\r\n",
       "      <g>\r\n",
       "       <use style=\"stroke:#000000;stroke-width:0.8;\" x=\"292.259432\" xlink:href=\"#m157ea4eb5b\" y=\"328.6\"/>\r\n",
       "      </g>\r\n",
       "     </g>\r\n",
       "     <g id=\"text_7\">\r\n",
       "      <!-- 0.15 -->\r\n",
       "      <g transform=\"translate(281.126619 343.198437)scale(0.1 -0.1)\">\r\n",
       "       <use xlink:href=\"#DejaVuSans-48\"/>\r\n",
       "       <use x=\"63.623047\" xlink:href=\"#DejaVuSans-46\"/>\r\n",
       "       <use x=\"95.410156\" xlink:href=\"#DejaVuSans-49\"/>\r\n",
       "       <use x=\"159.033203\" xlink:href=\"#DejaVuSans-53\"/>\r\n",
       "      </g>\r\n",
       "     </g>\r\n",
       "    </g>\r\n",
       "    <g id=\"xtick_8\">\r\n",
       "     <g id=\"line2d_8\">\r\n",
       "      <g>\r\n",
       "       <use style=\"stroke:#000000;stroke-width:0.8;\" x=\"329.894513\" xlink:href=\"#m157ea4eb5b\" y=\"328.6\"/>\r\n",
       "      </g>\r\n",
       "     </g>\r\n",
       "     <g id=\"text_8\">\r\n",
       "      <!-- 0.20 -->\r\n",
       "      <g transform=\"translate(318.761701 343.198437)scale(0.1 -0.1)\">\r\n",
       "       <defs>\r\n",
       "        <path d=\"M 19.1875 8.296875 \r\n",
       "L 53.609375 8.296875 \r\n",
       "L 53.609375 0 \r\n",
       "L 7.328125 0 \r\n",
       "L 7.328125 8.296875 \r\n",
       "Q 12.9375 14.109375 22.625 23.890625 \r\n",
       "Q 32.328125 33.6875 34.8125 36.53125 \r\n",
       "Q 39.546875 41.84375 41.421875 45.53125 \r\n",
       "Q 43.3125 49.21875 43.3125 52.78125 \r\n",
       "Q 43.3125 58.59375 39.234375 62.25 \r\n",
       "Q 35.15625 65.921875 28.609375 65.921875 \r\n",
       "Q 23.96875 65.921875 18.8125 64.3125 \r\n",
       "Q 13.671875 62.703125 7.8125 59.421875 \r\n",
       "L 7.8125 69.390625 \r\n",
       "Q 13.765625 71.78125 18.9375 73 \r\n",
       "Q 24.125 74.21875 28.421875 74.21875 \r\n",
       "Q 39.75 74.21875 46.484375 68.546875 \r\n",
       "Q 53.21875 62.890625 53.21875 53.421875 \r\n",
       "Q 53.21875 48.921875 51.53125 44.890625 \r\n",
       "Q 49.859375 40.875 45.40625 35.40625 \r\n",
       "Q 44.1875 33.984375 37.640625 27.21875 \r\n",
       "Q 31.109375 20.453125 19.1875 8.296875 \r\n",
       "z\r\n",
       "\" id=\"DejaVuSans-50\"/>\r\n",
       "       </defs>\r\n",
       "       <use xlink:href=\"#DejaVuSans-48\"/>\r\n",
       "       <use x=\"63.623047\" xlink:href=\"#DejaVuSans-46\"/>\r\n",
       "       <use x=\"95.410156\" xlink:href=\"#DejaVuSans-50\"/>\r\n",
       "       <use x=\"159.033203\" xlink:href=\"#DejaVuSans-48\"/>\r\n",
       "      </g>\r\n",
       "     </g>\r\n",
       "    </g>\r\n",
       "   </g>\r\n",
       "   <g id=\"matplotlib.axis_2\">\r\n",
       "    <g id=\"ytick_1\">\r\n",
       "     <g id=\"line2d_9\">\r\n",
       "      <defs>\r\n",
       "       <path d=\"M 0 0 \r\n",
       "L -3.5 0 \r\n",
       "\" id=\"mdc96d61644\" style=\"stroke:#000000;stroke-width:0.8;\"/>\r\n",
       "      </defs>\r\n",
       "      <g>\r\n",
       "       <use style=\"stroke:#000000;stroke-width:0.8;\" x=\"40.603125\" xlink:href=\"#mdc96d61644\" y=\"328.6\"/>\r\n",
       "      </g>\r\n",
       "     </g>\r\n",
       "     <g id=\"text_9\">\r\n",
       "      <!-- 0 -->\r\n",
       "      <g transform=\"translate(27.240625 332.399219)scale(0.1 -0.1)\">\r\n",
       "       <use xlink:href=\"#DejaVuSans-48\"/>\r\n",
       "      </g>\r\n",
       "     </g>\r\n",
       "    </g>\r\n",
       "    <g id=\"ytick_2\">\r\n",
       "     <g id=\"line2d_10\">\r\n",
       "      <g>\r\n",
       "       <use style=\"stroke:#000000;stroke-width:0.8;\" x=\"40.603125\" xlink:href=\"#mdc96d61644\" y=\"272.94632\"/>\r\n",
       "      </g>\r\n",
       "     </g>\r\n",
       "     <g id=\"text_10\">\r\n",
       "      <!-- 2 -->\r\n",
       "      <g transform=\"translate(27.240625 276.745539)scale(0.1 -0.1)\">\r\n",
       "       <use xlink:href=\"#DejaVuSans-50\"/>\r\n",
       "      </g>\r\n",
       "     </g>\r\n",
       "    </g>\r\n",
       "    <g id=\"ytick_3\">\r\n",
       "     <g id=\"line2d_11\">\r\n",
       "      <g>\r\n",
       "       <use style=\"stroke:#000000;stroke-width:0.8;\" x=\"40.603125\" xlink:href=\"#mdc96d61644\" y=\"217.292641\"/>\r\n",
       "      </g>\r\n",
       "     </g>\r\n",
       "     <g id=\"text_11\">\r\n",
       "      <!-- 4 -->\r\n",
       "      <g transform=\"translate(27.240625 221.091859)scale(0.1 -0.1)\">\r\n",
       "       <defs>\r\n",
       "        <path d=\"M 37.796875 64.3125 \r\n",
       "L 12.890625 25.390625 \r\n",
       "L 37.796875 25.390625 \r\n",
       "z\r\n",
       "M 35.203125 72.90625 \r\n",
       "L 47.609375 72.90625 \r\n",
       "L 47.609375 25.390625 \r\n",
       "L 58.015625 25.390625 \r\n",
       "L 58.015625 17.1875 \r\n",
       "L 47.609375 17.1875 \r\n",
       "L 47.609375 0 \r\n",
       "L 37.796875 0 \r\n",
       "L 37.796875 17.1875 \r\n",
       "L 4.890625 17.1875 \r\n",
       "L 4.890625 26.703125 \r\n",
       "z\r\n",
       "\" id=\"DejaVuSans-52\"/>\r\n",
       "       </defs>\r\n",
       "       <use xlink:href=\"#DejaVuSans-52\"/>\r\n",
       "      </g>\r\n",
       "     </g>\r\n",
       "    </g>\r\n",
       "    <g id=\"ytick_4\">\r\n",
       "     <g id=\"line2d_12\">\r\n",
       "      <g>\r\n",
       "       <use style=\"stroke:#000000;stroke-width:0.8;\" x=\"40.603125\" xlink:href=\"#mdc96d61644\" y=\"161.638961\"/>\r\n",
       "      </g>\r\n",
       "     </g>\r\n",
       "     <g id=\"text_12\">\r\n",
       "      <!-- 6 -->\r\n",
       "      <g transform=\"translate(27.240625 165.43818)scale(0.1 -0.1)\">\r\n",
       "       <defs>\r\n",
       "        <path d=\"M 33.015625 40.375 \r\n",
       "Q 26.375 40.375 22.484375 35.828125 \r\n",
       "Q 18.609375 31.296875 18.609375 23.390625 \r\n",
       "Q 18.609375 15.53125 22.484375 10.953125 \r\n",
       "Q 26.375 6.390625 33.015625 6.390625 \r\n",
       "Q 39.65625 6.390625 43.53125 10.953125 \r\n",
       "Q 47.40625 15.53125 47.40625 23.390625 \r\n",
       "Q 47.40625 31.296875 43.53125 35.828125 \r\n",
       "Q 39.65625 40.375 33.015625 40.375 \r\n",
       "z\r\n",
       "M 52.59375 71.296875 \r\n",
       "L 52.59375 62.3125 \r\n",
       "Q 48.875 64.0625 45.09375 64.984375 \r\n",
       "Q 41.3125 65.921875 37.59375 65.921875 \r\n",
       "Q 27.828125 65.921875 22.671875 59.328125 \r\n",
       "Q 17.53125 52.734375 16.796875 39.40625 \r\n",
       "Q 19.671875 43.65625 24.015625 45.921875 \r\n",
       "Q 28.375 48.1875 33.59375 48.1875 \r\n",
       "Q 44.578125 48.1875 50.953125 41.515625 \r\n",
       "Q 57.328125 34.859375 57.328125 23.390625 \r\n",
       "Q 57.328125 12.15625 50.6875 5.359375 \r\n",
       "Q 44.046875 -1.421875 33.015625 -1.421875 \r\n",
       "Q 20.359375 -1.421875 13.671875 8.265625 \r\n",
       "Q 6.984375 17.96875 6.984375 36.375 \r\n",
       "Q 6.984375 53.65625 15.1875 63.9375 \r\n",
       "Q 23.390625 74.21875 37.203125 74.21875 \r\n",
       "Q 40.921875 74.21875 44.703125 73.484375 \r\n",
       "Q 48.484375 72.75 52.59375 71.296875 \r\n",
       "z\r\n",
       "\" id=\"DejaVuSans-54\"/>\r\n",
       "       </defs>\r\n",
       "       <use xlink:href=\"#DejaVuSans-54\"/>\r\n",
       "      </g>\r\n",
       "     </g>\r\n",
       "    </g>\r\n",
       "    <g id=\"ytick_5\">\r\n",
       "     <g id=\"line2d_13\">\r\n",
       "      <g>\r\n",
       "       <use style=\"stroke:#000000;stroke-width:0.8;\" x=\"40.603125\" xlink:href=\"#mdc96d61644\" y=\"105.985281\"/>\r\n",
       "      </g>\r\n",
       "     </g>\r\n",
       "     <g id=\"text_13\">\r\n",
       "      <!-- 8 -->\r\n",
       "      <g transform=\"translate(27.240625 109.7845)scale(0.1 -0.1)\">\r\n",
       "       <defs>\r\n",
       "        <path d=\"M 31.78125 34.625 \r\n",
       "Q 24.75 34.625 20.71875 30.859375 \r\n",
       "Q 16.703125 27.09375 16.703125 20.515625 \r\n",
       "Q 16.703125 13.921875 20.71875 10.15625 \r\n",
       "Q 24.75 6.390625 31.78125 6.390625 \r\n",
       "Q 38.8125 6.390625 42.859375 10.171875 \r\n",
       "Q 46.921875 13.96875 46.921875 20.515625 \r\n",
       "Q 46.921875 27.09375 42.890625 30.859375 \r\n",
       "Q 38.875 34.625 31.78125 34.625 \r\n",
       "z\r\n",
       "M 21.921875 38.8125 \r\n",
       "Q 15.578125 40.375 12.03125 44.71875 \r\n",
       "Q 8.5 49.078125 8.5 55.328125 \r\n",
       "Q 8.5 64.0625 14.71875 69.140625 \r\n",
       "Q 20.953125 74.21875 31.78125 74.21875 \r\n",
       "Q 42.671875 74.21875 48.875 69.140625 \r\n",
       "Q 55.078125 64.0625 55.078125 55.328125 \r\n",
       "Q 55.078125 49.078125 51.53125 44.71875 \r\n",
       "Q 48 40.375 41.703125 38.8125 \r\n",
       "Q 48.828125 37.15625 52.796875 32.3125 \r\n",
       "Q 56.78125 27.484375 56.78125 20.515625 \r\n",
       "Q 56.78125 9.90625 50.3125 4.234375 \r\n",
       "Q 43.84375 -1.421875 31.78125 -1.421875 \r\n",
       "Q 19.734375 -1.421875 13.25 4.234375 \r\n",
       "Q 6.78125 9.90625 6.78125 20.515625 \r\n",
       "Q 6.78125 27.484375 10.78125 32.3125 \r\n",
       "Q 14.796875 37.15625 21.921875 38.8125 \r\n",
       "z\r\n",
       "M 18.3125 54.390625 \r\n",
       "Q 18.3125 48.734375 21.84375 45.5625 \r\n",
       "Q 25.390625 42.390625 31.78125 42.390625 \r\n",
       "Q 38.140625 42.390625 41.71875 45.5625 \r\n",
       "Q 45.3125 48.734375 45.3125 54.390625 \r\n",
       "Q 45.3125 60.0625 41.71875 63.234375 \r\n",
       "Q 38.140625 66.40625 31.78125 66.40625 \r\n",
       "Q 25.390625 66.40625 21.84375 63.234375 \r\n",
       "Q 18.3125 60.0625 18.3125 54.390625 \r\n",
       "z\r\n",
       "\" id=\"DejaVuSans-56\"/>\r\n",
       "       </defs>\r\n",
       "       <use xlink:href=\"#DejaVuSans-56\"/>\r\n",
       "      </g>\r\n",
       "     </g>\r\n",
       "    </g>\r\n",
       "    <g id=\"ytick_6\">\r\n",
       "     <g id=\"line2d_14\">\r\n",
       "      <g>\r\n",
       "       <use style=\"stroke:#000000;stroke-width:0.8;\" x=\"40.603125\" xlink:href=\"#mdc96d61644\" y=\"50.331602\"/>\r\n",
       "      </g>\r\n",
       "     </g>\r\n",
       "     <g id=\"text_14\">\r\n",
       "      <!-- 10 -->\r\n",
       "      <g transform=\"translate(20.878125 54.13082)scale(0.1 -0.1)\">\r\n",
       "       <use xlink:href=\"#DejaVuSans-49\"/>\r\n",
       "       <use x=\"63.623047\" xlink:href=\"#DejaVuSans-48\"/>\r\n",
       "      </g>\r\n",
       "     </g>\r\n",
       "    </g>\r\n",
       "    <g id=\"text_15\">\r\n",
       "     <!-- Count -->\r\n",
       "     <g transform=\"translate(14.798438 182.748437)rotate(-90)scale(0.1 -0.1)\">\r\n",
       "      <defs>\r\n",
       "       <path d=\"M 64.40625 67.28125 \r\n",
       "L 64.40625 56.890625 \r\n",
       "Q 59.421875 61.53125 53.78125 63.8125 \r\n",
       "Q 48.140625 66.109375 41.796875 66.109375 \r\n",
       "Q 29.296875 66.109375 22.65625 58.46875 \r\n",
       "Q 16.015625 50.828125 16.015625 36.375 \r\n",
       "Q 16.015625 21.96875 22.65625 14.328125 \r\n",
       "Q 29.296875 6.6875 41.796875 6.6875 \r\n",
       "Q 48.140625 6.6875 53.78125 8.984375 \r\n",
       "Q 59.421875 11.28125 64.40625 15.921875 \r\n",
       "L 64.40625 5.609375 \r\n",
       "Q 59.234375 2.09375 53.4375 0.328125 \r\n",
       "Q 47.65625 -1.421875 41.21875 -1.421875 \r\n",
       "Q 24.65625 -1.421875 15.125 8.703125 \r\n",
       "Q 5.609375 18.84375 5.609375 36.375 \r\n",
       "Q 5.609375 53.953125 15.125 64.078125 \r\n",
       "Q 24.65625 74.21875 41.21875 74.21875 \r\n",
       "Q 47.75 74.21875 53.53125 72.484375 \r\n",
       "Q 59.328125 70.75 64.40625 67.28125 \r\n",
       "z\r\n",
       "\" id=\"DejaVuSans-67\"/>\r\n",
       "       <path d=\"M 30.609375 48.390625 \r\n",
       "Q 23.390625 48.390625 19.1875 42.75 \r\n",
       "Q 14.984375 37.109375 14.984375 27.296875 \r\n",
       "Q 14.984375 17.484375 19.15625 11.84375 \r\n",
       "Q 23.34375 6.203125 30.609375 6.203125 \r\n",
       "Q 37.796875 6.203125 41.984375 11.859375 \r\n",
       "Q 46.1875 17.53125 46.1875 27.296875 \r\n",
       "Q 46.1875 37.015625 41.984375 42.703125 \r\n",
       "Q 37.796875 48.390625 30.609375 48.390625 \r\n",
       "z\r\n",
       "M 30.609375 56 \r\n",
       "Q 42.328125 56 49.015625 48.375 \r\n",
       "Q 55.71875 40.765625 55.71875 27.296875 \r\n",
       "Q 55.71875 13.875 49.015625 6.21875 \r\n",
       "Q 42.328125 -1.421875 30.609375 -1.421875 \r\n",
       "Q 18.84375 -1.421875 12.171875 6.21875 \r\n",
       "Q 5.515625 13.875 5.515625 27.296875 \r\n",
       "Q 5.515625 40.765625 12.171875 48.375 \r\n",
       "Q 18.84375 56 30.609375 56 \r\n",
       "z\r\n",
       "\" id=\"DejaVuSans-111\"/>\r\n",
       "       <path d=\"M 8.5 21.578125 \r\n",
       "L 8.5 54.6875 \r\n",
       "L 17.484375 54.6875 \r\n",
       "L 17.484375 21.921875 \r\n",
       "Q 17.484375 14.15625 20.5 10.265625 \r\n",
       "Q 23.53125 6.390625 29.59375 6.390625 \r\n",
       "Q 36.859375 6.390625 41.078125 11.03125 \r\n",
       "Q 45.3125 15.671875 45.3125 23.6875 \r\n",
       "L 45.3125 54.6875 \r\n",
       "L 54.296875 54.6875 \r\n",
       "L 54.296875 0 \r\n",
       "L 45.3125 0 \r\n",
       "L 45.3125 8.40625 \r\n",
       "Q 42.046875 3.421875 37.71875 1 \r\n",
       "Q 33.40625 -1.421875 27.6875 -1.421875 \r\n",
       "Q 18.265625 -1.421875 13.375 4.4375 \r\n",
       "Q 8.5 10.296875 8.5 21.578125 \r\n",
       "z\r\n",
       "M 31.109375 56 \r\n",
       "z\r\n",
       "\" id=\"DejaVuSans-117\"/>\r\n",
       "       <path d=\"M 54.890625 33.015625 \r\n",
       "L 54.890625 0 \r\n",
       "L 45.90625 0 \r\n",
       "L 45.90625 32.71875 \r\n",
       "Q 45.90625 40.484375 42.875 44.328125 \r\n",
       "Q 39.84375 48.1875 33.796875 48.1875 \r\n",
       "Q 26.515625 48.1875 22.3125 43.546875 \r\n",
       "Q 18.109375 38.921875 18.109375 30.90625 \r\n",
       "L 18.109375 0 \r\n",
       "L 9.078125 0 \r\n",
       "L 9.078125 54.6875 \r\n",
       "L 18.109375 54.6875 \r\n",
       "L 18.109375 46.1875 \r\n",
       "Q 21.34375 51.125 25.703125 53.5625 \r\n",
       "Q 30.078125 56 35.796875 56 \r\n",
       "Q 45.21875 56 50.046875 50.171875 \r\n",
       "Q 54.890625 44.34375 54.890625 33.015625 \r\n",
       "z\r\n",
       "\" id=\"DejaVuSans-110\"/>\r\n",
       "       <path d=\"M 18.3125 70.21875 \r\n",
       "L 18.3125 54.6875 \r\n",
       "L 36.8125 54.6875 \r\n",
       "L 36.8125 47.703125 \r\n",
       "L 18.3125 47.703125 \r\n",
       "L 18.3125 18.015625 \r\n",
       "Q 18.3125 11.328125 20.140625 9.421875 \r\n",
       "Q 21.96875 7.515625 27.59375 7.515625 \r\n",
       "L 36.8125 7.515625 \r\n",
       "L 36.8125 0 \r\n",
       "L 27.59375 0 \r\n",
       "Q 17.1875 0 13.234375 3.875 \r\n",
       "Q 9.28125 7.765625 9.28125 18.015625 \r\n",
       "L 9.28125 47.703125 \r\n",
       "L 2.6875 47.703125 \r\n",
       "L 2.6875 54.6875 \r\n",
       "L 9.28125 54.6875 \r\n",
       "L 9.28125 70.21875 \r\n",
       "z\r\n",
       "\" id=\"DejaVuSans-116\"/>\r\n",
       "      </defs>\r\n",
       "      <use xlink:href=\"#DejaVuSans-67\"/>\r\n",
       "      <use x=\"69.824219\" xlink:href=\"#DejaVuSans-111\"/>\r\n",
       "      <use x=\"131.005859\" xlink:href=\"#DejaVuSans-117\"/>\r\n",
       "      <use x=\"194.384766\" xlink:href=\"#DejaVuSans-110\"/>\r\n",
       "      <use x=\"257.763672\" xlink:href=\"#DejaVuSans-116\"/>\r\n",
       "     </g>\r\n",
       "    </g>\r\n",
       "   </g>\r\n",
       "   <g id=\"patch_53\">\r\n",
       "    <path d=\"M 40.603125 328.6 \r\n",
       "L 40.603125 7.2 \r\n",
       "\" style=\"fill:none;stroke:#000000;stroke-linecap:square;stroke-linejoin:miter;stroke-width:0.8;\"/>\r\n",
       "   </g>\r\n",
       "   <g id=\"patch_54\">\r\n",
       "    <path d=\"M 40.603125 328.6 \r\n",
       "L 334.234213 328.6 \r\n",
       "\" style=\"fill:none;stroke:#000000;stroke-linecap:square;stroke-linejoin:miter;stroke-width:0.8;\"/>\r\n",
       "   </g>\r\n",
       "  </g>\r\n",
       "  <g id=\"legend_1\">\r\n",
       "   <g id=\"patch_55\">\r\n",
       "    <path d=\"M 357.529687 178.998437 \r\n",
       "L 377.529687 178.998437 \r\n",
       "L 377.529687 171.998437 \r\n",
       "L 357.529687 171.998437 \r\n",
       "z\r\n",
       "\" style=\"fill:#1f77b4;fill-opacity:0.75;stroke:#000000;stroke-linejoin:miter;\"/>\r\n",
       "   </g>\r\n",
       "   <g id=\"text_16\">\r\n",
       "    <!-- difference -->\r\n",
       "    <g transform=\"translate(385.529687 178.998437)scale(0.1 -0.1)\">\r\n",
       "     <defs>\r\n",
       "      <path d=\"M 45.40625 46.390625 \r\n",
       "L 45.40625 75.984375 \r\n",
       "L 54.390625 75.984375 \r\n",
       "L 54.390625 0 \r\n",
       "L 45.40625 0 \r\n",
       "L 45.40625 8.203125 \r\n",
       "Q 42.578125 3.328125 38.25 0.953125 \r\n",
       "Q 33.9375 -1.421875 27.875 -1.421875 \r\n",
       "Q 17.96875 -1.421875 11.734375 6.484375 \r\n",
       "Q 5.515625 14.40625 5.515625 27.296875 \r\n",
       "Q 5.515625 40.1875 11.734375 48.09375 \r\n",
       "Q 17.96875 56 27.875 56 \r\n",
       "Q 33.9375 56 38.25 53.625 \r\n",
       "Q 42.578125 51.265625 45.40625 46.390625 \r\n",
       "z\r\n",
       "M 14.796875 27.296875 \r\n",
       "Q 14.796875 17.390625 18.875 11.75 \r\n",
       "Q 22.953125 6.109375 30.078125 6.109375 \r\n",
       "Q 37.203125 6.109375 41.296875 11.75 \r\n",
       "Q 45.40625 17.390625 45.40625 27.296875 \r\n",
       "Q 45.40625 37.203125 41.296875 42.84375 \r\n",
       "Q 37.203125 48.484375 30.078125 48.484375 \r\n",
       "Q 22.953125 48.484375 18.875 42.84375 \r\n",
       "Q 14.796875 37.203125 14.796875 27.296875 \r\n",
       "z\r\n",
       "\" id=\"DejaVuSans-100\"/>\r\n",
       "      <path d=\"M 9.421875 54.6875 \r\n",
       "L 18.40625 54.6875 \r\n",
       "L 18.40625 0 \r\n",
       "L 9.421875 0 \r\n",
       "z\r\n",
       "M 9.421875 75.984375 \r\n",
       "L 18.40625 75.984375 \r\n",
       "L 18.40625 64.59375 \r\n",
       "L 9.421875 64.59375 \r\n",
       "z\r\n",
       "\" id=\"DejaVuSans-105\"/>\r\n",
       "      <path d=\"M 37.109375 75.984375 \r\n",
       "L 37.109375 68.5 \r\n",
       "L 28.515625 68.5 \r\n",
       "Q 23.6875 68.5 21.796875 66.546875 \r\n",
       "Q 19.921875 64.59375 19.921875 59.515625 \r\n",
       "L 19.921875 54.6875 \r\n",
       "L 34.71875 54.6875 \r\n",
       "L 34.71875 47.703125 \r\n",
       "L 19.921875 47.703125 \r\n",
       "L 19.921875 0 \r\n",
       "L 10.890625 0 \r\n",
       "L 10.890625 47.703125 \r\n",
       "L 2.296875 47.703125 \r\n",
       "L 2.296875 54.6875 \r\n",
       "L 10.890625 54.6875 \r\n",
       "L 10.890625 58.5 \r\n",
       "Q 10.890625 67.625 15.140625 71.796875 \r\n",
       "Q 19.390625 75.984375 28.609375 75.984375 \r\n",
       "z\r\n",
       "\" id=\"DejaVuSans-102\"/>\r\n",
       "      <path d=\"M 56.203125 29.59375 \r\n",
       "L 56.203125 25.203125 \r\n",
       "L 14.890625 25.203125 \r\n",
       "Q 15.484375 15.921875 20.484375 11.0625 \r\n",
       "Q 25.484375 6.203125 34.421875 6.203125 \r\n",
       "Q 39.59375 6.203125 44.453125 7.46875 \r\n",
       "Q 49.3125 8.734375 54.109375 11.28125 \r\n",
       "L 54.109375 2.78125 \r\n",
       "Q 49.265625 0.734375 44.1875 -0.34375 \r\n",
       "Q 39.109375 -1.421875 33.890625 -1.421875 \r\n",
       "Q 20.796875 -1.421875 13.15625 6.1875 \r\n",
       "Q 5.515625 13.8125 5.515625 26.8125 \r\n",
       "Q 5.515625 40.234375 12.765625 48.109375 \r\n",
       "Q 20.015625 56 32.328125 56 \r\n",
       "Q 43.359375 56 49.78125 48.890625 \r\n",
       "Q 56.203125 41.796875 56.203125 29.59375 \r\n",
       "z\r\n",
       "M 47.21875 32.234375 \r\n",
       "Q 47.125 39.59375 43.09375 43.984375 \r\n",
       "Q 39.0625 48.390625 32.421875 48.390625 \r\n",
       "Q 24.90625 48.390625 20.390625 44.140625 \r\n",
       "Q 15.875 39.890625 15.1875 32.171875 \r\n",
       "z\r\n",
       "\" id=\"DejaVuSans-101\"/>\r\n",
       "      <path d=\"M 41.109375 46.296875 \r\n",
       "Q 39.59375 47.171875 37.8125 47.578125 \r\n",
       "Q 36.03125 48 33.890625 48 \r\n",
       "Q 26.265625 48 22.1875 43.046875 \r\n",
       "Q 18.109375 38.09375 18.109375 28.8125 \r\n",
       "L 18.109375 0 \r\n",
       "L 9.078125 0 \r\n",
       "L 9.078125 54.6875 \r\n",
       "L 18.109375 54.6875 \r\n",
       "L 18.109375 46.1875 \r\n",
       "Q 20.953125 51.171875 25.484375 53.578125 \r\n",
       "Q 30.03125 56 36.53125 56 \r\n",
       "Q 37.453125 56 38.578125 55.875 \r\n",
       "Q 39.703125 55.765625 41.0625 55.515625 \r\n",
       "z\r\n",
       "\" id=\"DejaVuSans-114\"/>\r\n",
       "      <path d=\"M 48.78125 52.59375 \r\n",
       "L 48.78125 44.1875 \r\n",
       "Q 44.96875 46.296875 41.140625 47.34375 \r\n",
       "Q 37.3125 48.390625 33.40625 48.390625 \r\n",
       "Q 24.65625 48.390625 19.8125 42.84375 \r\n",
       "Q 14.984375 37.3125 14.984375 27.296875 \r\n",
       "Q 14.984375 17.28125 19.8125 11.734375 \r\n",
       "Q 24.65625 6.203125 33.40625 6.203125 \r\n",
       "Q 37.3125 6.203125 41.140625 7.25 \r\n",
       "Q 44.96875 8.296875 48.78125 10.40625 \r\n",
       "L 48.78125 2.09375 \r\n",
       "Q 45.015625 0.34375 40.984375 -0.53125 \r\n",
       "Q 36.96875 -1.421875 32.421875 -1.421875 \r\n",
       "Q 20.0625 -1.421875 12.78125 6.34375 \r\n",
       "Q 5.515625 14.109375 5.515625 27.296875 \r\n",
       "Q 5.515625 40.671875 12.859375 48.328125 \r\n",
       "Q 20.21875 56 33.015625 56 \r\n",
       "Q 37.15625 56 41.109375 55.140625 \r\n",
       "Q 45.0625 54.296875 48.78125 52.59375 \r\n",
       "z\r\n",
       "\" id=\"DejaVuSans-99\"/>\r\n",
       "     </defs>\r\n",
       "     <use xlink:href=\"#DejaVuSans-100\"/>\r\n",
       "     <use x=\"63.476562\" xlink:href=\"#DejaVuSans-105\"/>\r\n",
       "     <use x=\"91.259766\" xlink:href=\"#DejaVuSans-102\"/>\r\n",
       "     <use x=\"126.464844\" xlink:href=\"#DejaVuSans-102\"/>\r\n",
       "     <use x=\"161.669922\" xlink:href=\"#DejaVuSans-101\"/>\r\n",
       "     <use x=\"223.193359\" xlink:href=\"#DejaVuSans-114\"/>\r\n",
       "     <use x=\"262.056641\" xlink:href=\"#DejaVuSans-101\"/>\r\n",
       "     <use x=\"323.580078\" xlink:href=\"#DejaVuSans-110\"/>\r\n",
       "     <use x=\"386.958984\" xlink:href=\"#DejaVuSans-99\"/>\r\n",
       "     <use x=\"441.939453\" xlink:href=\"#DejaVuSans-101\"/>\r\n",
       "    </g>\r\n",
       "   </g>\r\n",
       "  </g>\r\n",
       " </g>\r\n",
       " <defs>\r\n",
       "  <clipPath id=\"p39dca7c8f0\">\r\n",
       "   <rect height=\"321.4\" width=\"293.631088\" x=\"40.603125\" y=\"7.2\"/>\r\n",
       "  </clipPath>\r\n",
       " </defs>\r\n",
       "</svg>\r\n"
      ],
      "text/plain": [
       "<Figure size 446.625x360 with 1 Axes>"
      ]
     },
     "metadata": {
      "needs_background": "light"
     },
     "output_type": "display_data"
    }
   ],
   "source": [
    "sns.displot(polarity_comparison[['difference']], kind=\"hist\", bins = 50)"
   ]
  },
  {
   "cell_type": "code",
   "execution_count": 52,
   "metadata": {},
   "outputs": [
    {
     "data": {
      "text/plain": [
       "<seaborn.axisgrid.FacetGrid at 0x1e864ae4040>"
      ]
     },
     "execution_count": 52,
     "metadata": {},
     "output_type": "execute_result"
    },
    {
     "data": {
      "image/png": "[encoded data removed]",
      "image/svg+xml": [
       "<?xml version=\"1.0\" encoding=\"utf-8\" standalone=\"no\"?>\r\n",
       "<!DOCTYPE svg PUBLIC \"-//W3C//DTD SVG 1.1//EN\"\r\n",
       "  \"http://www.w3.org/Graphics/SVG/1.1/DTD/svg11.dtd\">\r\n",
       "<!-- Created with matplotlib (https://matplotlib.org/) -->\r\n",
       "<svg height=\"352.478125pt\" version=\"1.1\" viewBox=\"0 0 473.503125 352.478125\" width=\"473.503125pt\" xmlns=\"http://www.w3.org/2000/svg\" xmlns:xlink=\"http://www.w3.org/1999/xlink\">\r\n",
       " <metadata>\r\n",
       "  <rdf:RDF xmlns:cc=\"http://creativecommons.org/ns#\" xmlns:dc=\"http://purl.org/dc/elements/1.1/\" xmlns:rdf=\"http://www.w3.org/1999/02/22-rdf-syntax-ns#\">\r\n",
       "   <cc:Work>\r\n",
       "    <dc:type rdf:resource=\"http://purl.org/dc/dcmitype/StillImage\"/>\r\n",
       "    <dc:date>2021-05-14T19:05:49.729173</dc:date>\r\n",
       "    <dc:format>image/svg+xml</dc:format>\r\n",
       "    <dc:creator>\r\n",
       "     <cc:Agent>\r\n",
       "      <dc:title>Matplotlib v3.3.2, https://matplotlib.org/</dc:title>\r\n",
       "     </cc:Agent>\r\n",
       "    </dc:creator>\r\n",
       "   </cc:Work>\r\n",
       "  </rdf:RDF>\r\n",
       " </metadata>\r\n",
       " <defs>\r\n",
       "  <style type=\"text/css\">*{stroke-linecap:butt;stroke-linejoin:round;}</style>\r\n",
       " </defs>\r\n",
       " <g id=\"figure_1\">\r\n",
       "  <g id=\"patch_1\">\r\n",
       "   <path d=\"M 0 352.478125 \r\n",
       "L 473.503125 352.478125 \r\n",
       "L 473.503125 0 \r\n",
       "L 0 0 \r\n",
       "z\r\n",
       "\" style=\"fill:none;\"/>\r\n",
       "  </g>\r\n",
       "  <g id=\"axes_1\">\r\n",
       "   <g id=\"patch_2\">\r\n",
       "    <path d=\"M 40.603125 328.6 \r\n",
       "L 340.500625 328.6 \r\n",
       "L 340.500625 7.2 \r\n",
       "L 40.603125 7.2 \r\n",
       "z\r\n",
       "\" style=\"fill:#ffffff;\"/>\r\n",
       "   </g>\r\n",
       "   <g id=\"patch_3\">\r\n",
       "    <path clip-path=\"url(#pb1b8e1e7b9)\" d=\"M 54.23483 328.6 \r\n",
       "L 59.687511 328.6 \r\n",
       "L 59.687511 303.092063 \r\n",
       "L 54.23483 303.092063 \r\n",
       "z\r\n",
       "\" style=\"fill:#ff7f0e;fill-opacity:0.75;stroke:#000000;stroke-linejoin:miter;stroke-width:0.558909;\"/>\r\n",
       "   </g>\r\n",
       "   <g id=\"patch_4\">\r\n",
       "    <path clip-path=\"url(#pb1b8e1e7b9)\" d=\"M 59.687511 328.6 \r\n",
       "L 65.140193 328.6 \r\n",
       "L 65.140193 328.6 \r\n",
       "L 59.687511 328.6 \r\n",
       "z\r\n",
       "\" style=\"fill:#ff7f0e;fill-opacity:0.75;stroke:#000000;stroke-linejoin:miter;stroke-width:0.558909;\"/>\r\n",
       "   </g>\r\n",
       "   <g id=\"patch_5\">\r\n",
       "    <path clip-path=\"url(#pb1b8e1e7b9)\" d=\"M 65.140193 328.6 \r\n",
       "L 70.592875 328.6 \r\n",
       "L 70.592875 328.6 \r\n",
       "L 65.140193 328.6 \r\n",
       "z\r\n",
       "\" style=\"fill:#ff7f0e;fill-opacity:0.75;stroke:#000000;stroke-linejoin:miter;stroke-width:0.558909;\"/>\r\n",
       "   </g>\r\n",
       "   <g id=\"patch_6\">\r\n",
       "    <path clip-path=\"url(#pb1b8e1e7b9)\" d=\"M 70.592875 328.6 \r\n",
       "L 76.045557 328.6 \r\n",
       "L 76.045557 328.6 \r\n",
       "L 70.592875 328.6 \r\n",
       "z\r\n",
       "\" style=\"fill:#ff7f0e;fill-opacity:0.75;stroke:#000000;stroke-linejoin:miter;stroke-width:0.558909;\"/>\r\n",
       "   </g>\r\n",
       "   <g id=\"patch_7\">\r\n",
       "    <path clip-path=\"url(#pb1b8e1e7b9)\" d=\"M 76.045557 328.6 \r\n",
       "L 81.498239 328.6 \r\n",
       "L 81.498239 328.6 \r\n",
       "L 76.045557 328.6 \r\n",
       "z\r\n",
       "\" style=\"fill:#ff7f0e;fill-opacity:0.75;stroke:#000000;stroke-linejoin:miter;stroke-width:0.558909;\"/>\r\n",
       "   </g>\r\n",
       "   <g id=\"patch_8\">\r\n",
       "    <path clip-path=\"url(#pb1b8e1e7b9)\" d=\"M 81.498239 328.6 \r\n",
       "L 86.95092 328.6 \r\n",
       "L 86.95092 277.584127 \r\n",
       "L 81.498239 277.584127 \r\n",
       "z\r\n",
       "\" style=\"fill:#ff7f0e;fill-opacity:0.75;stroke:#000000;stroke-linejoin:miter;stroke-width:0.558909;\"/>\r\n",
       "   </g>\r\n",
       "   <g id=\"patch_9\">\r\n",
       "    <path clip-path=\"url(#pb1b8e1e7b9)\" d=\"M 86.95092 328.6 \r\n",
       "L 92.403602 328.6 \r\n",
       "L 92.403602 328.6 \r\n",
       "L 86.95092 328.6 \r\n",
       "z\r\n",
       "\" style=\"fill:#ff7f0e;fill-opacity:0.75;stroke:#000000;stroke-linejoin:miter;stroke-width:0.558909;\"/>\r\n",
       "   </g>\r\n",
       "   <g id=\"patch_10\">\r\n",
       "    <path clip-path=\"url(#pb1b8e1e7b9)\" d=\"M 92.403602 328.6 \r\n",
       "L 97.856284 328.6 \r\n",
       "L 97.856284 303.092063 \r\n",
       "L 92.403602 303.092063 \r\n",
       "z\r\n",
       "\" style=\"fill:#ff7f0e;fill-opacity:0.75;stroke:#000000;stroke-linejoin:miter;stroke-width:0.558909;\"/>\r\n",
       "   </g>\r\n",
       "   <g id=\"patch_11\">\r\n",
       "    <path clip-path=\"url(#pb1b8e1e7b9)\" d=\"M 97.856284 328.6 \r\n",
       "L 103.308966 328.6 \r\n",
       "L 103.308966 328.6 \r\n",
       "L 97.856284 328.6 \r\n",
       "z\r\n",
       "\" style=\"fill:#ff7f0e;fill-opacity:0.75;stroke:#000000;stroke-linejoin:miter;stroke-width:0.558909;\"/>\r\n",
       "   </g>\r\n",
       "   <g id=\"patch_12\">\r\n",
       "    <path clip-path=\"url(#pb1b8e1e7b9)\" d=\"M 103.308966 328.6 \r\n",
       "L 108.761648 328.6 \r\n",
       "L 108.761648 303.092063 \r\n",
       "L 103.308966 303.092063 \r\n",
       "z\r\n",
       "\" style=\"fill:#ff7f0e;fill-opacity:0.75;stroke:#000000;stroke-linejoin:miter;stroke-width:0.558909;\"/>\r\n",
       "   </g>\r\n",
       "   <g id=\"patch_13\">\r\n",
       "    <path clip-path=\"url(#pb1b8e1e7b9)\" d=\"M 108.761648 328.6 \r\n",
       "L 114.21433 328.6 \r\n",
       "L 114.21433 328.6 \r\n",
       "L 108.761648 328.6 \r\n",
       "z\r\n",
       "\" style=\"fill:#ff7f0e;fill-opacity:0.75;stroke:#000000;stroke-linejoin:miter;stroke-width:0.558909;\"/>\r\n",
       "   </g>\r\n",
       "   <g id=\"patch_14\">\r\n",
       "    <path clip-path=\"url(#pb1b8e1e7b9)\" d=\"M 114.21433 328.6 \r\n",
       "L 119.667011 328.6 \r\n",
       "L 119.667011 252.07619 \r\n",
       "L 114.21433 252.07619 \r\n",
       "z\r\n",
       "\" style=\"fill:#ff7f0e;fill-opacity:0.75;stroke:#000000;stroke-linejoin:miter;stroke-width:0.558909;\"/>\r\n",
       "   </g>\r\n",
       "   <g id=\"patch_15\">\r\n",
       "    <path clip-path=\"url(#pb1b8e1e7b9)\" d=\"M 119.667011 328.6 \r\n",
       "L 125.119693 328.6 \r\n",
       "L 125.119693 226.568254 \r\n",
       "L 119.667011 226.568254 \r\n",
       "z\r\n",
       "\" style=\"fill:#ff7f0e;fill-opacity:0.75;stroke:#000000;stroke-linejoin:miter;stroke-width:0.558909;\"/>\r\n",
       "   </g>\r\n",
       "   <g id=\"patch_16\">\r\n",
       "    <path clip-path=\"url(#pb1b8e1e7b9)\" d=\"M 125.119693 328.6 \r\n",
       "L 130.572375 328.6 \r\n",
       "L 130.572375 303.092063 \r\n",
       "L 125.119693 303.092063 \r\n",
       "z\r\n",
       "\" style=\"fill:#ff7f0e;fill-opacity:0.75;stroke:#000000;stroke-linejoin:miter;stroke-width:0.558909;\"/>\r\n",
       "   </g>\r\n",
       "   <g id=\"patch_17\">\r\n",
       "    <path clip-path=\"url(#pb1b8e1e7b9)\" d=\"M 130.572375 328.6 \r\n",
       "L 136.025057 328.6 \r\n",
       "L 136.025057 201.060317 \r\n",
       "L 130.572375 201.060317 \r\n",
       "z\r\n",
       "\" style=\"fill:#ff7f0e;fill-opacity:0.75;stroke:#000000;stroke-linejoin:miter;stroke-width:0.558909;\"/>\r\n",
       "   </g>\r\n",
       "   <g id=\"patch_18\">\r\n",
       "    <path clip-path=\"url(#pb1b8e1e7b9)\" d=\"M 136.025057 328.6 \r\n",
       "L 141.477739 328.6 \r\n",
       "L 141.477739 252.07619 \r\n",
       "L 136.025057 252.07619 \r\n",
       "z\r\n",
       "\" style=\"fill:#ff7f0e;fill-opacity:0.75;stroke:#000000;stroke-linejoin:miter;stroke-width:0.558909;\"/>\r\n",
       "   </g>\r\n",
       "   <g id=\"patch_19\">\r\n",
       "    <path clip-path=\"url(#pb1b8e1e7b9)\" d=\"M 141.477739 328.6 \r\n",
       "L 146.93042 328.6 \r\n",
       "L 146.93042 175.552381 \r\n",
       "L 141.477739 175.552381 \r\n",
       "z\r\n",
       "\" style=\"fill:#ff7f0e;fill-opacity:0.75;stroke:#000000;stroke-linejoin:miter;stroke-width:0.558909;\"/>\r\n",
       "   </g>\r\n",
       "   <g id=\"patch_20\">\r\n",
       "    <path clip-path=\"url(#pb1b8e1e7b9)\" d=\"M 146.93042 328.6 \r\n",
       "L 152.383102 328.6 \r\n",
       "L 152.383102 73.520635 \r\n",
       "L 146.93042 73.520635 \r\n",
       "z\r\n",
       "\" style=\"fill:#ff7f0e;fill-opacity:0.75;stroke:#000000;stroke-linejoin:miter;stroke-width:0.558909;\"/>\r\n",
       "   </g>\r\n",
       "   <g id=\"patch_21\">\r\n",
       "    <path clip-path=\"url(#pb1b8e1e7b9)\" d=\"M 152.383102 328.6 \r\n",
       "L 157.835784 328.6 \r\n",
       "L 157.835784 175.552381 \r\n",
       "L 152.383102 175.552381 \r\n",
       "z\r\n",
       "\" style=\"fill:#ff7f0e;fill-opacity:0.75;stroke:#000000;stroke-linejoin:miter;stroke-width:0.558909;\"/>\r\n",
       "   </g>\r\n",
       "   <g id=\"patch_22\">\r\n",
       "    <path clip-path=\"url(#pb1b8e1e7b9)\" d=\"M 157.835784 328.6 \r\n",
       "L 163.288466 328.6 \r\n",
       "L 163.288466 201.060317 \r\n",
       "L 157.835784 201.060317 \r\n",
       "z\r\n",
       "\" style=\"fill:#ff7f0e;fill-opacity:0.75;stroke:#000000;stroke-linejoin:miter;stroke-width:0.558909;\"/>\r\n",
       "   </g>\r\n",
       "   <g id=\"patch_23\">\r\n",
       "    <path clip-path=\"url(#pb1b8e1e7b9)\" d=\"M 163.288466 328.6 \r\n",
       "L 168.741148 328.6 \r\n",
       "L 168.741148 226.568254 \r\n",
       "L 163.288466 226.568254 \r\n",
       "z\r\n",
       "\" style=\"fill:#ff7f0e;fill-opacity:0.75;stroke:#000000;stroke-linejoin:miter;stroke-width:0.558909;\"/>\r\n",
       "   </g>\r\n",
       "   <g id=\"patch_24\">\r\n",
       "    <path clip-path=\"url(#pb1b8e1e7b9)\" d=\"M 168.741148 328.6 \r\n",
       "L 174.19383 328.6 \r\n",
       "L 174.19383 48.012698 \r\n",
       "L 168.741148 48.012698 \r\n",
       "z\r\n",
       "\" style=\"fill:#ff7f0e;fill-opacity:0.75;stroke:#000000;stroke-linejoin:miter;stroke-width:0.558909;\"/>\r\n",
       "   </g>\r\n",
       "   <g id=\"patch_25\">\r\n",
       "    <path clip-path=\"url(#pb1b8e1e7b9)\" d=\"M 174.19383 328.6 \r\n",
       "L 179.646511 328.6 \r\n",
       "L 179.646511 124.536508 \r\n",
       "L 174.19383 124.536508 \r\n",
       "z\r\n",
       "\" style=\"fill:#ff7f0e;fill-opacity:0.75;stroke:#000000;stroke-linejoin:miter;stroke-width:0.558909;\"/>\r\n",
       "   </g>\r\n",
       "   <g id=\"patch_26\">\r\n",
       "    <path clip-path=\"url(#pb1b8e1e7b9)\" d=\"M 179.646511 328.6 \r\n",
       "L 185.099193 328.6 \r\n",
       "L 185.099193 22.504762 \r\n",
       "L 179.646511 22.504762 \r\n",
       "z\r\n",
       "\" style=\"fill:#ff7f0e;fill-opacity:0.75;stroke:#000000;stroke-linejoin:miter;stroke-width:0.558909;\"/>\r\n",
       "   </g>\r\n",
       "   <g id=\"patch_27\">\r\n",
       "    <path clip-path=\"url(#pb1b8e1e7b9)\" d=\"M 185.099193 328.6 \r\n",
       "L 190.551875 328.6 \r\n",
       "L 190.551875 175.552381 \r\n",
       "L 185.099193 175.552381 \r\n",
       "z\r\n",
       "\" style=\"fill:#ff7f0e;fill-opacity:0.75;stroke:#000000;stroke-linejoin:miter;stroke-width:0.558909;\"/>\r\n",
       "   </g>\r\n",
       "   <g id=\"patch_28\">\r\n",
       "    <path clip-path=\"url(#pb1b8e1e7b9)\" d=\"M 190.551875 328.6 \r\n",
       "L 196.004557 328.6 \r\n",
       "L 196.004557 175.552381 \r\n",
       "L 190.551875 175.552381 \r\n",
       "z\r\n",
       "\" style=\"fill:#ff7f0e;fill-opacity:0.75;stroke:#000000;stroke-linejoin:miter;stroke-width:0.558909;\"/>\r\n",
       "   </g>\r\n",
       "   <g id=\"patch_29\">\r\n",
       "    <path clip-path=\"url(#pb1b8e1e7b9)\" d=\"M 196.004557 328.6 \r\n",
       "L 201.457239 328.6 \r\n",
       "L 201.457239 175.552381 \r\n",
       "L 196.004557 175.552381 \r\n",
       "z\r\n",
       "\" style=\"fill:#ff7f0e;fill-opacity:0.75;stroke:#000000;stroke-linejoin:miter;stroke-width:0.558909;\"/>\r\n",
       "   </g>\r\n",
       "   <g id=\"patch_30\">\r\n",
       "    <path clip-path=\"url(#pb1b8e1e7b9)\" d=\"M 201.457239 328.6 \r\n",
       "L 206.90992 328.6 \r\n",
       "L 206.90992 175.552381 \r\n",
       "L 201.457239 175.552381 \r\n",
       "z\r\n",
       "\" style=\"fill:#ff7f0e;fill-opacity:0.75;stroke:#000000;stroke-linejoin:miter;stroke-width:0.558909;\"/>\r\n",
       "   </g>\r\n",
       "   <g id=\"patch_31\">\r\n",
       "    <path clip-path=\"url(#pb1b8e1e7b9)\" d=\"M 206.90992 328.6 \r\n",
       "L 212.362602 328.6 \r\n",
       "L 212.362602 73.520635 \r\n",
       "L 206.90992 73.520635 \r\n",
       "z\r\n",
       "\" style=\"fill:#ff7f0e;fill-opacity:0.75;stroke:#000000;stroke-linejoin:miter;stroke-width:0.558909;\"/>\r\n",
       "   </g>\r\n",
       "   <g id=\"patch_32\">\r\n",
       "    <path clip-path=\"url(#pb1b8e1e7b9)\" d=\"M 212.362602 328.6 \r\n",
       "L 217.815284 328.6 \r\n",
       "L 217.815284 73.520635 \r\n",
       "L 212.362602 73.520635 \r\n",
       "z\r\n",
       "\" style=\"fill:#ff7f0e;fill-opacity:0.75;stroke:#000000;stroke-linejoin:miter;stroke-width:0.558909;\"/>\r\n",
       "   </g>\r\n",
       "   <g id=\"patch_33\">\r\n",
       "    <path clip-path=\"url(#pb1b8e1e7b9)\" d=\"M 217.815284 328.6 \r\n",
       "L 223.267966 328.6 \r\n",
       "L 223.267966 175.552381 \r\n",
       "L 217.815284 175.552381 \r\n",
       "z\r\n",
       "\" style=\"fill:#ff7f0e;fill-opacity:0.75;stroke:#000000;stroke-linejoin:miter;stroke-width:0.558909;\"/>\r\n",
       "   </g>\r\n",
       "   <g id=\"patch_34\">\r\n",
       "    <path clip-path=\"url(#pb1b8e1e7b9)\" d=\"M 223.267966 328.6 \r\n",
       "L 228.720648 328.6 \r\n",
       "L 228.720648 175.552381 \r\n",
       "L 223.267966 175.552381 \r\n",
       "z\r\n",
       "\" style=\"fill:#ff7f0e;fill-opacity:0.75;stroke:#000000;stroke-linejoin:miter;stroke-width:0.558909;\"/>\r\n",
       "   </g>\r\n",
       "   <g id=\"patch_35\">\r\n",
       "    <path clip-path=\"url(#pb1b8e1e7b9)\" d=\"M 228.720648 328.6 \r\n",
       "L 234.17333 328.6 \r\n",
       "L 234.17333 175.552381 \r\n",
       "L 228.720648 175.552381 \r\n",
       "z\r\n",
       "\" style=\"fill:#ff7f0e;fill-opacity:0.75;stroke:#000000;stroke-linejoin:miter;stroke-width:0.558909;\"/>\r\n",
       "   </g>\r\n",
       "   <g id=\"patch_36\">\r\n",
       "    <path clip-path=\"url(#pb1b8e1e7b9)\" d=\"M 234.17333 328.6 \r\n",
       "L 239.626011 328.6 \r\n",
       "L 239.626011 252.07619 \r\n",
       "L 234.17333 252.07619 \r\n",
       "z\r\n",
       "\" style=\"fill:#ff7f0e;fill-opacity:0.75;stroke:#000000;stroke-linejoin:miter;stroke-width:0.558909;\"/>\r\n",
       "   </g>\r\n",
       "   <g id=\"patch_37\">\r\n",
       "    <path clip-path=\"url(#pb1b8e1e7b9)\" d=\"M 239.626011 328.6 \r\n",
       "L 245.078693 328.6 \r\n",
       "L 245.078693 277.584127 \r\n",
       "L 239.626011 277.584127 \r\n",
       "z\r\n",
       "\" style=\"fill:#ff7f0e;fill-opacity:0.75;stroke:#000000;stroke-linejoin:miter;stroke-width:0.558909;\"/>\r\n",
       "   </g>\r\n",
       "   <g id=\"patch_38\">\r\n",
       "    <path clip-path=\"url(#pb1b8e1e7b9)\" d=\"M 245.078693 328.6 \r\n",
       "L 250.531375 328.6 \r\n",
       "L 250.531375 277.584127 \r\n",
       "L 245.078693 277.584127 \r\n",
       "z\r\n",
       "\" style=\"fill:#ff7f0e;fill-opacity:0.75;stroke:#000000;stroke-linejoin:miter;stroke-width:0.558909;\"/>\r\n",
       "   </g>\r\n",
       "   <g id=\"patch_39\">\r\n",
       "    <path clip-path=\"url(#pb1b8e1e7b9)\" d=\"M 250.531375 328.6 \r\n",
       "L 255.984057 328.6 \r\n",
       "L 255.984057 226.568254 \r\n",
       "L 250.531375 226.568254 \r\n",
       "z\r\n",
       "\" style=\"fill:#ff7f0e;fill-opacity:0.75;stroke:#000000;stroke-linejoin:miter;stroke-width:0.558909;\"/>\r\n",
       "   </g>\r\n",
       "   <g id=\"patch_40\">\r\n",
       "    <path clip-path=\"url(#pb1b8e1e7b9)\" d=\"M 255.984057 328.6 \r\n",
       "L 261.436739 328.6 \r\n",
       "L 261.436739 277.584127 \r\n",
       "L 255.984057 277.584127 \r\n",
       "z\r\n",
       "\" style=\"fill:#ff7f0e;fill-opacity:0.75;stroke:#000000;stroke-linejoin:miter;stroke-width:0.558909;\"/>\r\n",
       "   </g>\r\n",
       "   <g id=\"patch_41\">\r\n",
       "    <path clip-path=\"url(#pb1b8e1e7b9)\" d=\"M 261.436739 328.6 \r\n",
       "L 266.88942 328.6 \r\n",
       "L 266.88942 328.6 \r\n",
       "L 261.436739 328.6 \r\n",
       "z\r\n",
       "\" style=\"fill:#ff7f0e;fill-opacity:0.75;stroke:#000000;stroke-linejoin:miter;stroke-width:0.558909;\"/>\r\n",
       "   </g>\r\n",
       "   <g id=\"patch_42\">\r\n",
       "    <path clip-path=\"url(#pb1b8e1e7b9)\" d=\"M 266.88942 328.6 \r\n",
       "L 272.342102 328.6 \r\n",
       "L 272.342102 303.092063 \r\n",
       "L 266.88942 303.092063 \r\n",
       "z\r\n",
       "\" style=\"fill:#ff7f0e;fill-opacity:0.75;stroke:#000000;stroke-linejoin:miter;stroke-width:0.558909;\"/>\r\n",
       "   </g>\r\n",
       "   <g id=\"patch_43\">\r\n",
       "    <path clip-path=\"url(#pb1b8e1e7b9)\" d=\"M 272.342102 328.6 \r\n",
       "L 277.794784 328.6 \r\n",
       "L 277.794784 303.092063 \r\n",
       "L 272.342102 303.092063 \r\n",
       "z\r\n",
       "\" style=\"fill:#ff7f0e;fill-opacity:0.75;stroke:#000000;stroke-linejoin:miter;stroke-width:0.558909;\"/>\r\n",
       "   </g>\r\n",
       "   <g id=\"patch_44\">\r\n",
       "    <path clip-path=\"url(#pb1b8e1e7b9)\" d=\"M 277.794784 328.6 \r\n",
       "L 283.247466 328.6 \r\n",
       "L 283.247466 303.092063 \r\n",
       "L 277.794784 303.092063 \r\n",
       "z\r\n",
       "\" style=\"fill:#ff7f0e;fill-opacity:0.75;stroke:#000000;stroke-linejoin:miter;stroke-width:0.558909;\"/>\r\n",
       "   </g>\r\n",
       "   <g id=\"patch_45\">\r\n",
       "    <path clip-path=\"url(#pb1b8e1e7b9)\" d=\"M 283.247466 328.6 \r\n",
       "L 288.700148 328.6 \r\n",
       "L 288.700148 303.092063 \r\n",
       "L 283.247466 303.092063 \r\n",
       "z\r\n",
       "\" style=\"fill:#ff7f0e;fill-opacity:0.75;stroke:#000000;stroke-linejoin:miter;stroke-width:0.558909;\"/>\r\n",
       "   </g>\r\n",
       "   <g id=\"patch_46\">\r\n",
       "    <path clip-path=\"url(#pb1b8e1e7b9)\" d=\"M 288.700148 328.6 \r\n",
       "L 294.15283 328.6 \r\n",
       "L 294.15283 328.6 \r\n",
       "L 288.700148 328.6 \r\n",
       "z\r\n",
       "\" style=\"fill:#ff7f0e;fill-opacity:0.75;stroke:#000000;stroke-linejoin:miter;stroke-width:0.558909;\"/>\r\n",
       "   </g>\r\n",
       "   <g id=\"patch_47\">\r\n",
       "    <path clip-path=\"url(#pb1b8e1e7b9)\" d=\"M 294.15283 328.6 \r\n",
       "L 299.605511 328.6 \r\n",
       "L 299.605511 328.6 \r\n",
       "L 294.15283 328.6 \r\n",
       "z\r\n",
       "\" style=\"fill:#ff7f0e;fill-opacity:0.75;stroke:#000000;stroke-linejoin:miter;stroke-width:0.558909;\"/>\r\n",
       "   </g>\r\n",
       "   <g id=\"patch_48\">\r\n",
       "    <path clip-path=\"url(#pb1b8e1e7b9)\" d=\"M 299.605511 328.6 \r\n",
       "L 305.058193 328.6 \r\n",
       "L 305.058193 328.6 \r\n",
       "L 299.605511 328.6 \r\n",
       "z\r\n",
       "\" style=\"fill:#ff7f0e;fill-opacity:0.75;stroke:#000000;stroke-linejoin:miter;stroke-width:0.558909;\"/>\r\n",
       "   </g>\r\n",
       "   <g id=\"patch_49\">\r\n",
       "    <path clip-path=\"url(#pb1b8e1e7b9)\" d=\"M 305.058193 328.6 \r\n",
       "L 310.510875 328.6 \r\n",
       "L 310.510875 328.6 \r\n",
       "L 305.058193 328.6 \r\n",
       "z\r\n",
       "\" style=\"fill:#ff7f0e;fill-opacity:0.75;stroke:#000000;stroke-linejoin:miter;stroke-width:0.558909;\"/>\r\n",
       "   </g>\r\n",
       "   <g id=\"patch_50\">\r\n",
       "    <path clip-path=\"url(#pb1b8e1e7b9)\" d=\"M 310.510875 328.6 \r\n",
       "L 315.963557 328.6 \r\n",
       "L 315.963557 328.6 \r\n",
       "L 310.510875 328.6 \r\n",
       "z\r\n",
       "\" style=\"fill:#ff7f0e;fill-opacity:0.75;stroke:#000000;stroke-linejoin:miter;stroke-width:0.558909;\"/>\r\n",
       "   </g>\r\n",
       "   <g id=\"patch_51\">\r\n",
       "    <path clip-path=\"url(#pb1b8e1e7b9)\" d=\"M 315.963557 328.6 \r\n",
       "L 321.416239 328.6 \r\n",
       "L 321.416239 328.6 \r\n",
       "L 315.963557 328.6 \r\n",
       "z\r\n",
       "\" style=\"fill:#ff7f0e;fill-opacity:0.75;stroke:#000000;stroke-linejoin:miter;stroke-width:0.558909;\"/>\r\n",
       "   </g>\r\n",
       "   <g id=\"patch_52\">\r\n",
       "    <path clip-path=\"url(#pb1b8e1e7b9)\" d=\"M 321.416239 328.6 \r\n",
       "L 326.86892 328.6 \r\n",
       "L 326.86892 328.6 \r\n",
       "L 321.416239 328.6 \r\n",
       "z\r\n",
       "\" style=\"fill:#ff7f0e;fill-opacity:0.75;stroke:#000000;stroke-linejoin:miter;stroke-width:0.558909;\"/>\r\n",
       "   </g>\r\n",
       "   <g id=\"patch_53\">\r\n",
       "    <path clip-path=\"url(#pb1b8e1e7b9)\" d=\"M 54.23483 328.6 \r\n",
       "L 59.687511 328.6 \r\n",
       "L 59.687511 328.6 \r\n",
       "L 54.23483 328.6 \r\n",
       "z\r\n",
       "\" style=\"fill:#1f77b4;fill-opacity:0.75;stroke:#000000;stroke-linejoin:miter;stroke-width:0.558909;\"/>\r\n",
       "   </g>\r\n",
       "   <g id=\"patch_54\">\r\n",
       "    <path clip-path=\"url(#pb1b8e1e7b9)\" d=\"M 59.687511 328.6 \r\n",
       "L 65.140193 328.6 \r\n",
       "L 65.140193 328.6 \r\n",
       "L 59.687511 328.6 \r\n",
       "z\r\n",
       "\" style=\"fill:#1f77b4;fill-opacity:0.75;stroke:#000000;stroke-linejoin:miter;stroke-width:0.558909;\"/>\r\n",
       "   </g>\r\n",
       "   <g id=\"patch_55\">\r\n",
       "    <path clip-path=\"url(#pb1b8e1e7b9)\" d=\"M 65.140193 328.6 \r\n",
       "L 70.592875 328.6 \r\n",
       "L 70.592875 303.092063 \r\n",
       "L 65.140193 303.092063 \r\n",
       "z\r\n",
       "\" style=\"fill:#1f77b4;fill-opacity:0.75;stroke:#000000;stroke-linejoin:miter;stroke-width:0.558909;\"/>\r\n",
       "   </g>\r\n",
       "   <g id=\"patch_56\">\r\n",
       "    <path clip-path=\"url(#pb1b8e1e7b9)\" d=\"M 70.592875 328.6 \r\n",
       "L 76.045557 328.6 \r\n",
       "L 76.045557 328.6 \r\n",
       "L 70.592875 328.6 \r\n",
       "z\r\n",
       "\" style=\"fill:#1f77b4;fill-opacity:0.75;stroke:#000000;stroke-linejoin:miter;stroke-width:0.558909;\"/>\r\n",
       "   </g>\r\n",
       "   <g id=\"patch_57\">\r\n",
       "    <path clip-path=\"url(#pb1b8e1e7b9)\" d=\"M 76.045557 328.6 \r\n",
       "L 81.498239 328.6 \r\n",
       "L 81.498239 328.6 \r\n",
       "L 76.045557 328.6 \r\n",
       "z\r\n",
       "\" style=\"fill:#1f77b4;fill-opacity:0.75;stroke:#000000;stroke-linejoin:miter;stroke-width:0.558909;\"/>\r\n",
       "   </g>\r\n",
       "   <g id=\"patch_58\">\r\n",
       "    <path clip-path=\"url(#pb1b8e1e7b9)\" d=\"M 81.498239 328.6 \r\n",
       "L 86.95092 328.6 \r\n",
       "L 86.95092 328.6 \r\n",
       "L 81.498239 328.6 \r\n",
       "z\r\n",
       "\" style=\"fill:#1f77b4;fill-opacity:0.75;stroke:#000000;stroke-linejoin:miter;stroke-width:0.558909;\"/>\r\n",
       "   </g>\r\n",
       "   <g id=\"patch_59\">\r\n",
       "    <path clip-path=\"url(#pb1b8e1e7b9)\" d=\"M 86.95092 328.6 \r\n",
       "L 92.403602 328.6 \r\n",
       "L 92.403602 328.6 \r\n",
       "L 86.95092 328.6 \r\n",
       "z\r\n",
       "\" style=\"fill:#1f77b4;fill-opacity:0.75;stroke:#000000;stroke-linejoin:miter;stroke-width:0.558909;\"/>\r\n",
       "   </g>\r\n",
       "   <g id=\"patch_60\">\r\n",
       "    <path clip-path=\"url(#pb1b8e1e7b9)\" d=\"M 92.403602 328.6 \r\n",
       "L 97.856284 328.6 \r\n",
       "L 97.856284 328.6 \r\n",
       "L 92.403602 328.6 \r\n",
       "z\r\n",
       "\" style=\"fill:#1f77b4;fill-opacity:0.75;stroke:#000000;stroke-linejoin:miter;stroke-width:0.558909;\"/>\r\n",
       "   </g>\r\n",
       "   <g id=\"patch_61\">\r\n",
       "    <path clip-path=\"url(#pb1b8e1e7b9)\" d=\"M 97.856284 328.6 \r\n",
       "L 103.308966 328.6 \r\n",
       "L 103.308966 277.584127 \r\n",
       "L 97.856284 277.584127 \r\n",
       "z\r\n",
       "\" style=\"fill:#1f77b4;fill-opacity:0.75;stroke:#000000;stroke-linejoin:miter;stroke-width:0.558909;\"/>\r\n",
       "   </g>\r\n",
       "   <g id=\"patch_62\">\r\n",
       "    <path clip-path=\"url(#pb1b8e1e7b9)\" d=\"M 103.308966 328.6 \r\n",
       "L 108.761648 328.6 \r\n",
       "L 108.761648 328.6 \r\n",
       "L 103.308966 328.6 \r\n",
       "z\r\n",
       "\" style=\"fill:#1f77b4;fill-opacity:0.75;stroke:#000000;stroke-linejoin:miter;stroke-width:0.558909;\"/>\r\n",
       "   </g>\r\n",
       "   <g id=\"patch_63\">\r\n",
       "    <path clip-path=\"url(#pb1b8e1e7b9)\" d=\"M 108.761648 328.6 \r\n",
       "L 114.21433 328.6 \r\n",
       "L 114.21433 303.092063 \r\n",
       "L 108.761648 303.092063 \r\n",
       "z\r\n",
       "\" style=\"fill:#1f77b4;fill-opacity:0.75;stroke:#000000;stroke-linejoin:miter;stroke-width:0.558909;\"/>\r\n",
       "   </g>\r\n",
       "   <g id=\"patch_64\">\r\n",
       "    <path clip-path=\"url(#pb1b8e1e7b9)\" d=\"M 114.21433 328.6 \r\n",
       "L 119.667011 328.6 \r\n",
       "L 119.667011 328.6 \r\n",
       "L 114.21433 328.6 \r\n",
       "z\r\n",
       "\" style=\"fill:#1f77b4;fill-opacity:0.75;stroke:#000000;stroke-linejoin:miter;stroke-width:0.558909;\"/>\r\n",
       "   </g>\r\n",
       "   <g id=\"patch_65\">\r\n",
       "    <path clip-path=\"url(#pb1b8e1e7b9)\" d=\"M 119.667011 328.6 \r\n",
       "L 125.119693 328.6 \r\n",
       "L 125.119693 277.584127 \r\n",
       "L 119.667011 277.584127 \r\n",
       "z\r\n",
       "\" style=\"fill:#1f77b4;fill-opacity:0.75;stroke:#000000;stroke-linejoin:miter;stroke-width:0.558909;\"/>\r\n",
       "   </g>\r\n",
       "   <g id=\"patch_66\">\r\n",
       "    <path clip-path=\"url(#pb1b8e1e7b9)\" d=\"M 125.119693 328.6 \r\n",
       "L 130.572375 328.6 \r\n",
       "L 130.572375 328.6 \r\n",
       "L 125.119693 328.6 \r\n",
       "z\r\n",
       "\" style=\"fill:#1f77b4;fill-opacity:0.75;stroke:#000000;stroke-linejoin:miter;stroke-width:0.558909;\"/>\r\n",
       "   </g>\r\n",
       "   <g id=\"patch_67\">\r\n",
       "    <path clip-path=\"url(#pb1b8e1e7b9)\" d=\"M 130.572375 328.6 \r\n",
       "L 136.025057 328.6 \r\n",
       "L 136.025057 226.568254 \r\n",
       "L 130.572375 226.568254 \r\n",
       "z\r\n",
       "\" style=\"fill:#1f77b4;fill-opacity:0.75;stroke:#000000;stroke-linejoin:miter;stroke-width:0.558909;\"/>\r\n",
       "   </g>\r\n",
       "   <g id=\"patch_68\">\r\n",
       "    <path clip-path=\"url(#pb1b8e1e7b9)\" d=\"M 136.025057 328.6 \r\n",
       "L 141.477739 328.6 \r\n",
       "L 141.477739 201.060317 \r\n",
       "L 136.025057 201.060317 \r\n",
       "z\r\n",
       "\" style=\"fill:#1f77b4;fill-opacity:0.75;stroke:#000000;stroke-linejoin:miter;stroke-width:0.558909;\"/>\r\n",
       "   </g>\r\n",
       "   <g id=\"patch_69\">\r\n",
       "    <path clip-path=\"url(#pb1b8e1e7b9)\" d=\"M 141.477739 328.6 \r\n",
       "L 146.93042 328.6 \r\n",
       "L 146.93042 252.07619 \r\n",
       "L 141.477739 252.07619 \r\n",
       "z\r\n",
       "\" style=\"fill:#1f77b4;fill-opacity:0.75;stroke:#000000;stroke-linejoin:miter;stroke-width:0.558909;\"/>\r\n",
       "   </g>\r\n",
       "   <g id=\"patch_70\">\r\n",
       "    <path clip-path=\"url(#pb1b8e1e7b9)\" d=\"M 146.93042 328.6 \r\n",
       "L 152.383102 328.6 \r\n",
       "L 152.383102 303.092063 \r\n",
       "L 146.93042 303.092063 \r\n",
       "z\r\n",
       "\" style=\"fill:#1f77b4;fill-opacity:0.75;stroke:#000000;stroke-linejoin:miter;stroke-width:0.558909;\"/>\r\n",
       "   </g>\r\n",
       "   <g id=\"patch_71\">\r\n",
       "    <path clip-path=\"url(#pb1b8e1e7b9)\" d=\"M 152.383102 328.6 \r\n",
       "L 157.835784 328.6 \r\n",
       "L 157.835784 150.044444 \r\n",
       "L 152.383102 150.044444 \r\n",
       "z\r\n",
       "\" style=\"fill:#1f77b4;fill-opacity:0.75;stroke:#000000;stroke-linejoin:miter;stroke-width:0.558909;\"/>\r\n",
       "   </g>\r\n",
       "   <g id=\"patch_72\">\r\n",
       "    <path clip-path=\"url(#pb1b8e1e7b9)\" d=\"M 157.835784 328.6 \r\n",
       "L 163.288466 328.6 \r\n",
       "L 163.288466 201.060317 \r\n",
       "L 157.835784 201.060317 \r\n",
       "z\r\n",
       "\" style=\"fill:#1f77b4;fill-opacity:0.75;stroke:#000000;stroke-linejoin:miter;stroke-width:0.558909;\"/>\r\n",
       "   </g>\r\n",
       "   <g id=\"patch_73\">\r\n",
       "    <path clip-path=\"url(#pb1b8e1e7b9)\" d=\"M 163.288466 328.6 \r\n",
       "L 168.741148 328.6 \r\n",
       "L 168.741148 150.044444 \r\n",
       "L 163.288466 150.044444 \r\n",
       "z\r\n",
       "\" style=\"fill:#1f77b4;fill-opacity:0.75;stroke:#000000;stroke-linejoin:miter;stroke-width:0.558909;\"/>\r\n",
       "   </g>\r\n",
       "   <g id=\"patch_74\">\r\n",
       "    <path clip-path=\"url(#pb1b8e1e7b9)\" d=\"M 168.741148 328.6 \r\n",
       "L 174.19383 328.6 \r\n",
       "L 174.19383 99.028571 \r\n",
       "L 168.741148 99.028571 \r\n",
       "z\r\n",
       "\" style=\"fill:#1f77b4;fill-opacity:0.75;stroke:#000000;stroke-linejoin:miter;stroke-width:0.558909;\"/>\r\n",
       "   </g>\r\n",
       "   <g id=\"patch_75\">\r\n",
       "    <path clip-path=\"url(#pb1b8e1e7b9)\" d=\"M 174.19383 328.6 \r\n",
       "L 179.646511 328.6 \r\n",
       "L 179.646511 175.552381 \r\n",
       "L 174.19383 175.552381 \r\n",
       "z\r\n",
       "\" style=\"fill:#1f77b4;fill-opacity:0.75;stroke:#000000;stroke-linejoin:miter;stroke-width:0.558909;\"/>\r\n",
       "   </g>\r\n",
       "   <g id=\"patch_76\">\r\n",
       "    <path clip-path=\"url(#pb1b8e1e7b9)\" d=\"M 179.646511 328.6 \r\n",
       "L 185.099193 328.6 \r\n",
       "L 185.099193 252.07619 \r\n",
       "L 179.646511 252.07619 \r\n",
       "z\r\n",
       "\" style=\"fill:#1f77b4;fill-opacity:0.75;stroke:#000000;stroke-linejoin:miter;stroke-width:0.558909;\"/>\r\n",
       "   </g>\r\n",
       "   <g id=\"patch_77\">\r\n",
       "    <path clip-path=\"url(#pb1b8e1e7b9)\" d=\"M 185.099193 328.6 \r\n",
       "L 190.551875 328.6 \r\n",
       "L 190.551875 175.552381 \r\n",
       "L 185.099193 175.552381 \r\n",
       "z\r\n",
       "\" style=\"fill:#1f77b4;fill-opacity:0.75;stroke:#000000;stroke-linejoin:miter;stroke-width:0.558909;\"/>\r\n",
       "   </g>\r\n",
       "   <g id=\"patch_78\">\r\n",
       "    <path clip-path=\"url(#pb1b8e1e7b9)\" d=\"M 190.551875 328.6 \r\n",
       "L 196.004557 328.6 \r\n",
       "L 196.004557 226.568254 \r\n",
       "L 190.551875 226.568254 \r\n",
       "z\r\n",
       "\" style=\"fill:#1f77b4;fill-opacity:0.75;stroke:#000000;stroke-linejoin:miter;stroke-width:0.558909;\"/>\r\n",
       "   </g>\r\n",
       "   <g id=\"patch_79\">\r\n",
       "    <path clip-path=\"url(#pb1b8e1e7b9)\" d=\"M 196.004557 328.6 \r\n",
       "L 201.457239 328.6 \r\n",
       "L 201.457239 48.012698 \r\n",
       "L 196.004557 48.012698 \r\n",
       "z\r\n",
       "\" style=\"fill:#1f77b4;fill-opacity:0.75;stroke:#000000;stroke-linejoin:miter;stroke-width:0.558909;\"/>\r\n",
       "   </g>\r\n",
       "   <g id=\"patch_80\">\r\n",
       "    <path clip-path=\"url(#pb1b8e1e7b9)\" d=\"M 201.457239 328.6 \r\n",
       "L 206.90992 328.6 \r\n",
       "L 206.90992 150.044444 \r\n",
       "L 201.457239 150.044444 \r\n",
       "z\r\n",
       "\" style=\"fill:#1f77b4;fill-opacity:0.75;stroke:#000000;stroke-linejoin:miter;stroke-width:0.558909;\"/>\r\n",
       "   </g>\r\n",
       "   <g id=\"patch_81\">\r\n",
       "    <path clip-path=\"url(#pb1b8e1e7b9)\" d=\"M 206.90992 328.6 \r\n",
       "L 212.362602 328.6 \r\n",
       "L 212.362602 201.060317 \r\n",
       "L 206.90992 201.060317 \r\n",
       "z\r\n",
       "\" style=\"fill:#1f77b4;fill-opacity:0.75;stroke:#000000;stroke-linejoin:miter;stroke-width:0.558909;\"/>\r\n",
       "   </g>\r\n",
       "   <g id=\"patch_82\">\r\n",
       "    <path clip-path=\"url(#pb1b8e1e7b9)\" d=\"M 212.362602 328.6 \r\n",
       "L 217.815284 328.6 \r\n",
       "L 217.815284 201.060317 \r\n",
       "L 212.362602 201.060317 \r\n",
       "z\r\n",
       "\" style=\"fill:#1f77b4;fill-opacity:0.75;stroke:#000000;stroke-linejoin:miter;stroke-width:0.558909;\"/>\r\n",
       "   </g>\r\n",
       "   <g id=\"patch_83\">\r\n",
       "    <path clip-path=\"url(#pb1b8e1e7b9)\" d=\"M 217.815284 328.6 \r\n",
       "L 223.267966 328.6 \r\n",
       "L 223.267966 124.536508 \r\n",
       "L 217.815284 124.536508 \r\n",
       "z\r\n",
       "\" style=\"fill:#1f77b4;fill-opacity:0.75;stroke:#000000;stroke-linejoin:miter;stroke-width:0.558909;\"/>\r\n",
       "   </g>\r\n",
       "   <g id=\"patch_84\">\r\n",
       "    <path clip-path=\"url(#pb1b8e1e7b9)\" d=\"M 223.267966 328.6 \r\n",
       "L 228.720648 328.6 \r\n",
       "L 228.720648 226.568254 \r\n",
       "L 223.267966 226.568254 \r\n",
       "z\r\n",
       "\" style=\"fill:#1f77b4;fill-opacity:0.75;stroke:#000000;stroke-linejoin:miter;stroke-width:0.558909;\"/>\r\n",
       "   </g>\r\n",
       "   <g id=\"patch_85\">\r\n",
       "    <path clip-path=\"url(#pb1b8e1e7b9)\" d=\"M 228.720648 328.6 \r\n",
       "L 234.17333 328.6 \r\n",
       "L 234.17333 175.552381 \r\n",
       "L 228.720648 175.552381 \r\n",
       "z\r\n",
       "\" style=\"fill:#1f77b4;fill-opacity:0.75;stroke:#000000;stroke-linejoin:miter;stroke-width:0.558909;\"/>\r\n",
       "   </g>\r\n",
       "   <g id=\"patch_86\">\r\n",
       "    <path clip-path=\"url(#pb1b8e1e7b9)\" d=\"M 234.17333 328.6 \r\n",
       "L 239.626011 328.6 \r\n",
       "L 239.626011 150.044444 \r\n",
       "L 234.17333 150.044444 \r\n",
       "z\r\n",
       "\" style=\"fill:#1f77b4;fill-opacity:0.75;stroke:#000000;stroke-linejoin:miter;stroke-width:0.558909;\"/>\r\n",
       "   </g>\r\n",
       "   <g id=\"patch_87\">\r\n",
       "    <path clip-path=\"url(#pb1b8e1e7b9)\" d=\"M 239.626011 328.6 \r\n",
       "L 245.078693 328.6 \r\n",
       "L 245.078693 226.568254 \r\n",
       "L 239.626011 226.568254 \r\n",
       "z\r\n",
       "\" style=\"fill:#1f77b4;fill-opacity:0.75;stroke:#000000;stroke-linejoin:miter;stroke-width:0.558909;\"/>\r\n",
       "   </g>\r\n",
       "   <g id=\"patch_88\">\r\n",
       "    <path clip-path=\"url(#pb1b8e1e7b9)\" d=\"M 245.078693 328.6 \r\n",
       "L 250.531375 328.6 \r\n",
       "L 250.531375 175.552381 \r\n",
       "L 245.078693 175.552381 \r\n",
       "z\r\n",
       "\" style=\"fill:#1f77b4;fill-opacity:0.75;stroke:#000000;stroke-linejoin:miter;stroke-width:0.558909;\"/>\r\n",
       "   </g>\r\n",
       "   <g id=\"patch_89\">\r\n",
       "    <path clip-path=\"url(#pb1b8e1e7b9)\" d=\"M 250.531375 328.6 \r\n",
       "L 255.984057 328.6 \r\n",
       "L 255.984057 150.044444 \r\n",
       "L 250.531375 150.044444 \r\n",
       "z\r\n",
       "\" style=\"fill:#1f77b4;fill-opacity:0.75;stroke:#000000;stroke-linejoin:miter;stroke-width:0.558909;\"/>\r\n",
       "   </g>\r\n",
       "   <g id=\"patch_90\">\r\n",
       "    <path clip-path=\"url(#pb1b8e1e7b9)\" d=\"M 255.984057 328.6 \r\n",
       "L 261.436739 328.6 \r\n",
       "L 261.436739 124.536508 \r\n",
       "L 255.984057 124.536508 \r\n",
       "z\r\n",
       "\" style=\"fill:#1f77b4;fill-opacity:0.75;stroke:#000000;stroke-linejoin:miter;stroke-width:0.558909;\"/>\r\n",
       "   </g>\r\n",
       "   <g id=\"patch_91\">\r\n",
       "    <path clip-path=\"url(#pb1b8e1e7b9)\" d=\"M 261.436739 328.6 \r\n",
       "L 266.88942 328.6 \r\n",
       "L 266.88942 277.584127 \r\n",
       "L 261.436739 277.584127 \r\n",
       "z\r\n",
       "\" style=\"fill:#1f77b4;fill-opacity:0.75;stroke:#000000;stroke-linejoin:miter;stroke-width:0.558909;\"/>\r\n",
       "   </g>\r\n",
       "   <g id=\"patch_92\">\r\n",
       "    <path clip-path=\"url(#pb1b8e1e7b9)\" d=\"M 266.88942 328.6 \r\n",
       "L 272.342102 328.6 \r\n",
       "L 272.342102 201.060317 \r\n",
       "L 266.88942 201.060317 \r\n",
       "z\r\n",
       "\" style=\"fill:#1f77b4;fill-opacity:0.75;stroke:#000000;stroke-linejoin:miter;stroke-width:0.558909;\"/>\r\n",
       "   </g>\r\n",
       "   <g id=\"patch_93\">\r\n",
       "    <path clip-path=\"url(#pb1b8e1e7b9)\" d=\"M 272.342102 328.6 \r\n",
       "L 277.794784 328.6 \r\n",
       "L 277.794784 277.584127 \r\n",
       "L 272.342102 277.584127 \r\n",
       "z\r\n",
       "\" style=\"fill:#1f77b4;fill-opacity:0.75;stroke:#000000;stroke-linejoin:miter;stroke-width:0.558909;\"/>\r\n",
       "   </g>\r\n",
       "   <g id=\"patch_94\">\r\n",
       "    <path clip-path=\"url(#pb1b8e1e7b9)\" d=\"M 277.794784 328.6 \r\n",
       "L 283.247466 328.6 \r\n",
       "L 283.247466 277.584127 \r\n",
       "L 277.794784 277.584127 \r\n",
       "z\r\n",
       "\" style=\"fill:#1f77b4;fill-opacity:0.75;stroke:#000000;stroke-linejoin:miter;stroke-width:0.558909;\"/>\r\n",
       "   </g>\r\n",
       "   <g id=\"patch_95\">\r\n",
       "    <path clip-path=\"url(#pb1b8e1e7b9)\" d=\"M 283.247466 328.6 \r\n",
       "L 288.700148 328.6 \r\n",
       "L 288.700148 328.6 \r\n",
       "L 283.247466 328.6 \r\n",
       "z\r\n",
       "\" style=\"fill:#1f77b4;fill-opacity:0.75;stroke:#000000;stroke-linejoin:miter;stroke-width:0.558909;\"/>\r\n",
       "   </g>\r\n",
       "   <g id=\"patch_96\">\r\n",
       "    <path clip-path=\"url(#pb1b8e1e7b9)\" d=\"M 288.700148 328.6 \r\n",
       "L 294.15283 328.6 \r\n",
       "L 294.15283 303.092063 \r\n",
       "L 288.700148 303.092063 \r\n",
       "z\r\n",
       "\" style=\"fill:#1f77b4;fill-opacity:0.75;stroke:#000000;stroke-linejoin:miter;stroke-width:0.558909;\"/>\r\n",
       "   </g>\r\n",
       "   <g id=\"patch_97\">\r\n",
       "    <path clip-path=\"url(#pb1b8e1e7b9)\" d=\"M 294.15283 328.6 \r\n",
       "L 299.605511 328.6 \r\n",
       "L 299.605511 303.092063 \r\n",
       "L 294.15283 303.092063 \r\n",
       "z\r\n",
       "\" style=\"fill:#1f77b4;fill-opacity:0.75;stroke:#000000;stroke-linejoin:miter;stroke-width:0.558909;\"/>\r\n",
       "   </g>\r\n",
       "   <g id=\"patch_98\">\r\n",
       "    <path clip-path=\"url(#pb1b8e1e7b9)\" d=\"M 299.605511 328.6 \r\n",
       "L 305.058193 328.6 \r\n",
       "L 305.058193 328.6 \r\n",
       "L 299.605511 328.6 \r\n",
       "z\r\n",
       "\" style=\"fill:#1f77b4;fill-opacity:0.75;stroke:#000000;stroke-linejoin:miter;stroke-width:0.558909;\"/>\r\n",
       "   </g>\r\n",
       "   <g id=\"patch_99\">\r\n",
       "    <path clip-path=\"url(#pb1b8e1e7b9)\" d=\"M 305.058193 328.6 \r\n",
       "L 310.510875 328.6 \r\n",
       "L 310.510875 277.584127 \r\n",
       "L 305.058193 277.584127 \r\n",
       "z\r\n",
       "\" style=\"fill:#1f77b4;fill-opacity:0.75;stroke:#000000;stroke-linejoin:miter;stroke-width:0.558909;\"/>\r\n",
       "   </g>\r\n",
       "   <g id=\"patch_100\">\r\n",
       "    <path clip-path=\"url(#pb1b8e1e7b9)\" d=\"M 310.510875 328.6 \r\n",
       "L 315.963557 328.6 \r\n",
       "L 315.963557 303.092063 \r\n",
       "L 310.510875 303.092063 \r\n",
       "z\r\n",
       "\" style=\"fill:#1f77b4;fill-opacity:0.75;stroke:#000000;stroke-linejoin:miter;stroke-width:0.558909;\"/>\r\n",
       "   </g>\r\n",
       "   <g id=\"patch_101\">\r\n",
       "    <path clip-path=\"url(#pb1b8e1e7b9)\" d=\"M 315.963557 328.6 \r\n",
       "L 321.416239 328.6 \r\n",
       "L 321.416239 303.092063 \r\n",
       "L 315.963557 303.092063 \r\n",
       "z\r\n",
       "\" style=\"fill:#1f77b4;fill-opacity:0.75;stroke:#000000;stroke-linejoin:miter;stroke-width:0.558909;\"/>\r\n",
       "   </g>\r\n",
       "   <g id=\"patch_102\">\r\n",
       "    <path clip-path=\"url(#pb1b8e1e7b9)\" d=\"M 321.416239 328.6 \r\n",
       "L 326.86892 328.6 \r\n",
       "L 326.86892 303.092063 \r\n",
       "L 321.416239 303.092063 \r\n",
       "z\r\n",
       "\" style=\"fill:#1f77b4;fill-opacity:0.75;stroke:#000000;stroke-linejoin:miter;stroke-width:0.558909;\"/>\r\n",
       "   </g>\r\n",
       "   <g id=\"matplotlib.axis_1\">\r\n",
       "    <g id=\"xtick_1\">\r\n",
       "     <g id=\"line2d_1\">\r\n",
       "      <defs>\r\n",
       "       <path d=\"M 0 0 \r\n",
       "L 0 3.5 \r\n",
       "\" id=\"mba86b68165\" style=\"stroke:#000000;stroke-width:0.8;\"/>\r\n",
       "      </defs>\r\n",
       "      <g>\r\n",
       "       <use style=\"stroke:#000000;stroke-width:0.8;\" x=\"65.189864\" xlink:href=\"#mba86b68165\" y=\"328.6\"/>\r\n",
       "      </g>\r\n",
       "     </g>\r\n",
       "     <g id=\"text_1\">\r\n",
       "      <!-- 0.10 -->\r\n",
       "      <g transform=\"translate(54.057051 343.198437)scale(0.1 -0.1)\">\r\n",
       "       <defs>\r\n",
       "        <path d=\"M 31.78125 66.40625 \r\n",
       "Q 24.171875 66.40625 20.328125 58.90625 \r\n",
       "Q 16.5 51.421875 16.5 36.375 \r\n",
       "Q 16.5 21.390625 20.328125 13.890625 \r\n",
       "Q 24.171875 6.390625 31.78125 6.390625 \r\n",
       "Q 39.453125 6.390625 43.28125 13.890625 \r\n",
       "Q 47.125 21.390625 47.125 36.375 \r\n",
       "Q 47.125 51.421875 43.28125 58.90625 \r\n",
       "Q 39.453125 66.40625 31.78125 66.40625 \r\n",
       "z\r\n",
       "M 31.78125 74.21875 \r\n",
       "Q 44.046875 74.21875 50.515625 64.515625 \r\n",
       "Q 56.984375 54.828125 56.984375 36.375 \r\n",
       "Q 56.984375 17.96875 50.515625 8.265625 \r\n",
       "Q 44.046875 -1.421875 31.78125 -1.421875 \r\n",
       "Q 19.53125 -1.421875 13.0625 8.265625 \r\n",
       "Q 6.59375 17.96875 6.59375 36.375 \r\n",
       "Q 6.59375 54.828125 13.0625 64.515625 \r\n",
       "Q 19.53125 74.21875 31.78125 74.21875 \r\n",
       "z\r\n",
       "\" id=\"DejaVuSans-48\"/>\r\n",
       "        <path d=\"M 10.6875 12.40625 \r\n",
       "L 21 12.40625 \r\n",
       "L 21 0 \r\n",
       "L 10.6875 0 \r\n",
       "z\r\n",
       "\" id=\"DejaVuSans-46\"/>\r\n",
       "        <path d=\"M 12.40625 8.296875 \r\n",
       "L 28.515625 8.296875 \r\n",
       "L 28.515625 63.921875 \r\n",
       "L 10.984375 60.40625 \r\n",
       "L 10.984375 69.390625 \r\n",
       "L 28.421875 72.90625 \r\n",
       "L 38.28125 72.90625 \r\n",
       "L 38.28125 8.296875 \r\n",
       "L 54.390625 8.296875 \r\n",
       "L 54.390625 0 \r\n",
       "L 12.40625 0 \r\n",
       "z\r\n",
       "\" id=\"DejaVuSans-49\"/>\r\n",
       "       </defs>\r\n",
       "       <use xlink:href=\"#DejaVuSans-48\"/>\r\n",
       "       <use x=\"63.623047\" xlink:href=\"#DejaVuSans-46\"/>\r\n",
       "       <use x=\"95.410156\" xlink:href=\"#DejaVuSans-49\"/>\r\n",
       "       <use x=\"159.033203\" xlink:href=\"#DejaVuSans-48\"/>\r\n",
       "      </g>\r\n",
       "     </g>\r\n",
       "    </g>\r\n",
       "    <g id=\"xtick_2\">\r\n",
       "     <g id=\"line2d_2\">\r\n",
       "      <g>\r\n",
       "       <use style=\"stroke:#000000;stroke-width:0.8;\" x=\"101.122145\" xlink:href=\"#mba86b68165\" y=\"328.6\"/>\r\n",
       "      </g>\r\n",
       "     </g>\r\n",
       "     <g id=\"text_2\">\r\n",
       "      <!-- 0.15 -->\r\n",
       "      <g transform=\"translate(89.989333 343.198437)scale(0.1 -0.1)\">\r\n",
       "       <defs>\r\n",
       "        <path d=\"M 10.796875 72.90625 \r\n",
       "L 49.515625 72.90625 \r\n",
       "L 49.515625 64.59375 \r\n",
       "L 19.828125 64.59375 \r\n",
       "L 19.828125 46.734375 \r\n",
       "Q 21.96875 47.46875 24.109375 47.828125 \r\n",
       "Q 26.265625 48.1875 28.421875 48.1875 \r\n",
       "Q 40.625 48.1875 47.75 41.5 \r\n",
       "Q 54.890625 34.8125 54.890625 23.390625 \r\n",
       "Q 54.890625 11.625 47.5625 5.09375 \r\n",
       "Q 40.234375 -1.421875 26.90625 -1.421875 \r\n",
       "Q 22.3125 -1.421875 17.546875 -0.640625 \r\n",
       "Q 12.796875 0.140625 7.71875 1.703125 \r\n",
       "L 7.71875 11.625 \r\n",
       "Q 12.109375 9.234375 16.796875 8.0625 \r\n",
       "Q 21.484375 6.890625 26.703125 6.890625 \r\n",
       "Q 35.15625 6.890625 40.078125 11.328125 \r\n",
       "Q 45.015625 15.765625 45.015625 23.390625 \r\n",
       "Q 45.015625 31 40.078125 35.4375 \r\n",
       "Q 35.15625 39.890625 26.703125 39.890625 \r\n",
       "Q 22.75 39.890625 18.8125 39.015625 \r\n",
       "Q 14.890625 38.140625 10.796875 36.28125 \r\n",
       "z\r\n",
       "\" id=\"DejaVuSans-53\"/>\r\n",
       "       </defs>\r\n",
       "       <use xlink:href=\"#DejaVuSans-48\"/>\r\n",
       "       <use x=\"63.623047\" xlink:href=\"#DejaVuSans-46\"/>\r\n",
       "       <use x=\"95.410156\" xlink:href=\"#DejaVuSans-49\"/>\r\n",
       "       <use x=\"159.033203\" xlink:href=\"#DejaVuSans-53\"/>\r\n",
       "      </g>\r\n",
       "     </g>\r\n",
       "    </g>\r\n",
       "    <g id=\"xtick_3\">\r\n",
       "     <g id=\"line2d_3\">\r\n",
       "      <g>\r\n",
       "       <use style=\"stroke:#000000;stroke-width:0.8;\" x=\"137.054427\" xlink:href=\"#mba86b68165\" y=\"328.6\"/>\r\n",
       "      </g>\r\n",
       "     </g>\r\n",
       "     <g id=\"text_3\">\r\n",
       "      <!-- 0.20 -->\r\n",
       "      <g transform=\"translate(125.921615 343.198437)scale(0.1 -0.1)\">\r\n",
       "       <defs>\r\n",
       "        <path d=\"M 19.1875 8.296875 \r\n",
       "L 53.609375 8.296875 \r\n",
       "L 53.609375 0 \r\n",
       "L 7.328125 0 \r\n",
       "L 7.328125 8.296875 \r\n",
       "Q 12.9375 14.109375 22.625 23.890625 \r\n",
       "Q 32.328125 33.6875 34.8125 36.53125 \r\n",
       "Q 39.546875 41.84375 41.421875 45.53125 \r\n",
       "Q 43.3125 49.21875 43.3125 52.78125 \r\n",
       "Q 43.3125 58.59375 39.234375 62.25 \r\n",
       "Q 35.15625 65.921875 28.609375 65.921875 \r\n",
       "Q 23.96875 65.921875 18.8125 64.3125 \r\n",
       "Q 13.671875 62.703125 7.8125 59.421875 \r\n",
       "L 7.8125 69.390625 \r\n",
       "Q 13.765625 71.78125 18.9375 73 \r\n",
       "Q 24.125 74.21875 28.421875 74.21875 \r\n",
       "Q 39.75 74.21875 46.484375 68.546875 \r\n",
       "Q 53.21875 62.890625 53.21875 53.421875 \r\n",
       "Q 53.21875 48.921875 51.53125 44.890625 \r\n",
       "Q 49.859375 40.875 45.40625 35.40625 \r\n",
       "Q 44.1875 33.984375 37.640625 27.21875 \r\n",
       "Q 31.109375 20.453125 19.1875 8.296875 \r\n",
       "z\r\n",
       "\" id=\"DejaVuSans-50\"/>\r\n",
       "       </defs>\r\n",
       "       <use xlink:href=\"#DejaVuSans-48\"/>\r\n",
       "       <use x=\"63.623047\" xlink:href=\"#DejaVuSans-46\"/>\r\n",
       "       <use x=\"95.410156\" xlink:href=\"#DejaVuSans-50\"/>\r\n",
       "       <use x=\"159.033203\" xlink:href=\"#DejaVuSans-48\"/>\r\n",
       "      </g>\r\n",
       "     </g>\r\n",
       "    </g>\r\n",
       "    <g id=\"xtick_4\">\r\n",
       "     <g id=\"line2d_4\">\r\n",
       "      <g>\r\n",
       "       <use style=\"stroke:#000000;stroke-width:0.8;\" x=\"172.986709\" xlink:href=\"#mba86b68165\" y=\"328.6\"/>\r\n",
       "      </g>\r\n",
       "     </g>\r\n",
       "     <g id=\"text_4\">\r\n",
       "      <!-- 0.25 -->\r\n",
       "      <g transform=\"translate(161.853896 343.198437)scale(0.1 -0.1)\">\r\n",
       "       <use xlink:href=\"#DejaVuSans-48\"/>\r\n",
       "       <use x=\"63.623047\" xlink:href=\"#DejaVuSans-46\"/>\r\n",
       "       <use x=\"95.410156\" xlink:href=\"#DejaVuSans-50\"/>\r\n",
       "       <use x=\"159.033203\" xlink:href=\"#DejaVuSans-53\"/>\r\n",
       "      </g>\r\n",
       "     </g>\r\n",
       "    </g>\r\n",
       "    <g id=\"xtick_5\">\r\n",
       "     <g id=\"line2d_5\">\r\n",
       "      <g>\r\n",
       "       <use style=\"stroke:#000000;stroke-width:0.8;\" x=\"208.918991\" xlink:href=\"#mba86b68165\" y=\"328.6\"/>\r\n",
       "      </g>\r\n",
       "     </g>\r\n",
       "     <g id=\"text_5\">\r\n",
       "      <!-- 0.30 -->\r\n",
       "      <g transform=\"translate(197.786178 343.198437)scale(0.1 -0.1)\">\r\n",
       "       <defs>\r\n",
       "        <path d=\"M 40.578125 39.3125 \r\n",
       "Q 47.65625 37.796875 51.625 33 \r\n",
       "Q 55.609375 28.21875 55.609375 21.1875 \r\n",
       "Q 55.609375 10.40625 48.1875 4.484375 \r\n",
       "Q 40.765625 -1.421875 27.09375 -1.421875 \r\n",
       "Q 22.515625 -1.421875 17.65625 -0.515625 \r\n",
       "Q 12.796875 0.390625 7.625 2.203125 \r\n",
       "L 7.625 11.71875 \r\n",
       "Q 11.71875 9.328125 16.59375 8.109375 \r\n",
       "Q 21.484375 6.890625 26.8125 6.890625 \r\n",
       "Q 36.078125 6.890625 40.9375 10.546875 \r\n",
       "Q 45.796875 14.203125 45.796875 21.1875 \r\n",
       "Q 45.796875 27.640625 41.28125 31.265625 \r\n",
       "Q 36.765625 34.90625 28.71875 34.90625 \r\n",
       "L 20.21875 34.90625 \r\n",
       "L 20.21875 43.015625 \r\n",
       "L 29.109375 43.015625 \r\n",
       "Q 36.375 43.015625 40.234375 45.921875 \r\n",
       "Q 44.09375 48.828125 44.09375 54.296875 \r\n",
       "Q 44.09375 59.90625 40.109375 62.90625 \r\n",
       "Q 36.140625 65.921875 28.71875 65.921875 \r\n",
       "Q 24.65625 65.921875 20.015625 65.03125 \r\n",
       "Q 15.375 64.15625 9.8125 62.3125 \r\n",
       "L 9.8125 71.09375 \r\n",
       "Q 15.4375 72.65625 20.34375 73.4375 \r\n",
       "Q 25.25 74.21875 29.59375 74.21875 \r\n",
       "Q 40.828125 74.21875 47.359375 69.109375 \r\n",
       "Q 53.90625 64.015625 53.90625 55.328125 \r\n",
       "Q 53.90625 49.265625 50.4375 45.09375 \r\n",
       "Q 46.96875 40.921875 40.578125 39.3125 \r\n",
       "z\r\n",
       "\" id=\"DejaVuSans-51\"/>\r\n",
       "       </defs>\r\n",
       "       <use xlink:href=\"#DejaVuSans-48\"/>\r\n",
       "       <use x=\"63.623047\" xlink:href=\"#DejaVuSans-46\"/>\r\n",
       "       <use x=\"95.410156\" xlink:href=\"#DejaVuSans-51\"/>\r\n",
       "       <use x=\"159.033203\" xlink:href=\"#DejaVuSans-48\"/>\r\n",
       "      </g>\r\n",
       "     </g>\r\n",
       "    </g>\r\n",
       "    <g id=\"xtick_6\">\r\n",
       "     <g id=\"line2d_6\">\r\n",
       "      <g>\r\n",
       "       <use style=\"stroke:#000000;stroke-width:0.8;\" x=\"244.851272\" xlink:href=\"#mba86b68165\" y=\"328.6\"/>\r\n",
       "      </g>\r\n",
       "     </g>\r\n",
       "     <g id=\"text_6\">\r\n",
       "      <!-- 0.35 -->\r\n",
       "      <g transform=\"translate(233.71846 343.198437)scale(0.1 -0.1)\">\r\n",
       "       <use xlink:href=\"#DejaVuSans-48\"/>\r\n",
       "       <use x=\"63.623047\" xlink:href=\"#DejaVuSans-46\"/>\r\n",
       "       <use x=\"95.410156\" xlink:href=\"#DejaVuSans-51\"/>\r\n",
       "       <use x=\"159.033203\" xlink:href=\"#DejaVuSans-53\"/>\r\n",
       "      </g>\r\n",
       "     </g>\r\n",
       "    </g>\r\n",
       "    <g id=\"xtick_7\">\r\n",
       "     <g id=\"line2d_7\">\r\n",
       "      <g>\r\n",
       "       <use style=\"stroke:#000000;stroke-width:0.8;\" x=\"280.783554\" xlink:href=\"#mba86b68165\" y=\"328.6\"/>\r\n",
       "      </g>\r\n",
       "     </g>\r\n",
       "     <g id=\"text_7\">\r\n",
       "      <!-- 0.40 -->\r\n",
       "      <g transform=\"translate(269.650742 343.198437)scale(0.1 -0.1)\">\r\n",
       "       <defs>\r\n",
       "        <path d=\"M 37.796875 64.3125 \r\n",
       "L 12.890625 25.390625 \r\n",
       "L 37.796875 25.390625 \r\n",
       "z\r\n",
       "M 35.203125 72.90625 \r\n",
       "L 47.609375 72.90625 \r\n",
       "L 47.609375 25.390625 \r\n",
       "L 58.015625 25.390625 \r\n",
       "L 58.015625 17.1875 \r\n",
       "L 47.609375 17.1875 \r\n",
       "L 47.609375 0 \r\n",
       "L 37.796875 0 \r\n",
       "L 37.796875 17.1875 \r\n",
       "L 4.890625 17.1875 \r\n",
       "L 4.890625 26.703125 \r\n",
       "z\r\n",
       "\" id=\"DejaVuSans-52\"/>\r\n",
       "       </defs>\r\n",
       "       <use xlink:href=\"#DejaVuSans-48\"/>\r\n",
       "       <use x=\"63.623047\" xlink:href=\"#DejaVuSans-46\"/>\r\n",
       "       <use x=\"95.410156\" xlink:href=\"#DejaVuSans-52\"/>\r\n",
       "       <use x=\"159.033203\" xlink:href=\"#DejaVuSans-48\"/>\r\n",
       "      </g>\r\n",
       "     </g>\r\n",
       "    </g>\r\n",
       "    <g id=\"xtick_8\">\r\n",
       "     <g id=\"line2d_8\">\r\n",
       "      <g>\r\n",
       "       <use style=\"stroke:#000000;stroke-width:0.8;\" x=\"316.715836\" xlink:href=\"#mba86b68165\" y=\"328.6\"/>\r\n",
       "      </g>\r\n",
       "     </g>\r\n",
       "     <g id=\"text_8\">\r\n",
       "      <!-- 0.45 -->\r\n",
       "      <g transform=\"translate(305.583023 343.198437)scale(0.1 -0.1)\">\r\n",
       "       <use xlink:href=\"#DejaVuSans-48\"/>\r\n",
       "       <use x=\"63.623047\" xlink:href=\"#DejaVuSans-46\"/>\r\n",
       "       <use x=\"95.410156\" xlink:href=\"#DejaVuSans-52\"/>\r\n",
       "       <use x=\"159.033203\" xlink:href=\"#DejaVuSans-53\"/>\r\n",
       "      </g>\r\n",
       "     </g>\r\n",
       "    </g>\r\n",
       "   </g>\r\n",
       "   <g id=\"matplotlib.axis_2\">\r\n",
       "    <g id=\"ytick_1\">\r\n",
       "     <g id=\"line2d_9\">\r\n",
       "      <defs>\r\n",
       "       <path d=\"M 0 0 \r\n",
       "L -3.5 0 \r\n",
       "\" id=\"m9a32e22fbf\" style=\"stroke:#000000;stroke-width:0.8;\"/>\r\n",
       "      </defs>\r\n",
       "      <g>\r\n",
       "       <use style=\"stroke:#000000;stroke-width:0.8;\" x=\"40.603125\" xlink:href=\"#m9a32e22fbf\" y=\"328.6\"/>\r\n",
       "      </g>\r\n",
       "     </g>\r\n",
       "     <g id=\"text_9\">\r\n",
       "      <!-- 0 -->\r\n",
       "      <g transform=\"translate(27.240625 332.399219)scale(0.1 -0.1)\">\r\n",
       "       <use xlink:href=\"#DejaVuSans-48\"/>\r\n",
       "      </g>\r\n",
       "     </g>\r\n",
       "    </g>\r\n",
       "    <g id=\"ytick_2\">\r\n",
       "     <g id=\"line2d_10\">\r\n",
       "      <g>\r\n",
       "       <use style=\"stroke:#000000;stroke-width:0.8;\" x=\"40.603125\" xlink:href=\"#m9a32e22fbf\" y=\"277.584127\"/>\r\n",
       "      </g>\r\n",
       "     </g>\r\n",
       "     <g id=\"text_10\">\r\n",
       "      <!-- 2 -->\r\n",
       "      <g transform=\"translate(27.240625 281.383346)scale(0.1 -0.1)\">\r\n",
       "       <use xlink:href=\"#DejaVuSans-50\"/>\r\n",
       "      </g>\r\n",
       "     </g>\r\n",
       "    </g>\r\n",
       "    <g id=\"ytick_3\">\r\n",
       "     <g id=\"line2d_11\">\r\n",
       "      <g>\r\n",
       "       <use style=\"stroke:#000000;stroke-width:0.8;\" x=\"40.603125\" xlink:href=\"#m9a32e22fbf\" y=\"226.568254\"/>\r\n",
       "      </g>\r\n",
       "     </g>\r\n",
       "     <g id=\"text_11\">\r\n",
       "      <!-- 4 -->\r\n",
       "      <g transform=\"translate(27.240625 230.367473)scale(0.1 -0.1)\">\r\n",
       "       <use xlink:href=\"#DejaVuSans-52\"/>\r\n",
       "      </g>\r\n",
       "     </g>\r\n",
       "    </g>\r\n",
       "    <g id=\"ytick_4\">\r\n",
       "     <g id=\"line2d_12\">\r\n",
       "      <g>\r\n",
       "       <use style=\"stroke:#000000;stroke-width:0.8;\" x=\"40.603125\" xlink:href=\"#m9a32e22fbf\" y=\"175.552381\"/>\r\n",
       "      </g>\r\n",
       "     </g>\r\n",
       "     <g id=\"text_12\">\r\n",
       "      <!-- 6 -->\r\n",
       "      <g transform=\"translate(27.240625 179.3516)scale(0.1 -0.1)\">\r\n",
       "       <defs>\r\n",
       "        <path d=\"M 33.015625 40.375 \r\n",
       "Q 26.375 40.375 22.484375 35.828125 \r\n",
       "Q 18.609375 31.296875 18.609375 23.390625 \r\n",
       "Q 18.609375 15.53125 22.484375 10.953125 \r\n",
       "Q 26.375 6.390625 33.015625 6.390625 \r\n",
       "Q 39.65625 6.390625 43.53125 10.953125 \r\n",
       "Q 47.40625 15.53125 47.40625 23.390625 \r\n",
       "Q 47.40625 31.296875 43.53125 35.828125 \r\n",
       "Q 39.65625 40.375 33.015625 40.375 \r\n",
       "z\r\n",
       "M 52.59375 71.296875 \r\n",
       "L 52.59375 62.3125 \r\n",
       "Q 48.875 64.0625 45.09375 64.984375 \r\n",
       "Q 41.3125 65.921875 37.59375 65.921875 \r\n",
       "Q 27.828125 65.921875 22.671875 59.328125 \r\n",
       "Q 17.53125 52.734375 16.796875 39.40625 \r\n",
       "Q 19.671875 43.65625 24.015625 45.921875 \r\n",
       "Q 28.375 48.1875 33.59375 48.1875 \r\n",
       "Q 44.578125 48.1875 50.953125 41.515625 \r\n",
       "Q 57.328125 34.859375 57.328125 23.390625 \r\n",
       "Q 57.328125 12.15625 50.6875 5.359375 \r\n",
       "Q 44.046875 -1.421875 33.015625 -1.421875 \r\n",
       "Q 20.359375 -1.421875 13.671875 8.265625 \r\n",
       "Q 6.984375 17.96875 6.984375 36.375 \r\n",
       "Q 6.984375 53.65625 15.1875 63.9375 \r\n",
       "Q 23.390625 74.21875 37.203125 74.21875 \r\n",
       "Q 40.921875 74.21875 44.703125 73.484375 \r\n",
       "Q 48.484375 72.75 52.59375 71.296875 \r\n",
       "z\r\n",
       "\" id=\"DejaVuSans-54\"/>\r\n",
       "       </defs>\r\n",
       "       <use xlink:href=\"#DejaVuSans-54\"/>\r\n",
       "      </g>\r\n",
       "     </g>\r\n",
       "    </g>\r\n",
       "    <g id=\"ytick_5\">\r\n",
       "     <g id=\"line2d_13\">\r\n",
       "      <g>\r\n",
       "       <use style=\"stroke:#000000;stroke-width:0.8;\" x=\"40.603125\" xlink:href=\"#m9a32e22fbf\" y=\"124.536508\"/>\r\n",
       "      </g>\r\n",
       "     </g>\r\n",
       "     <g id=\"text_13\">\r\n",
       "      <!-- 8 -->\r\n",
       "      <g transform=\"translate(27.240625 128.335727)scale(0.1 -0.1)\">\r\n",
       "       <defs>\r\n",
       "        <path d=\"M 31.78125 34.625 \r\n",
       "Q 24.75 34.625 20.71875 30.859375 \r\n",
       "Q 16.703125 27.09375 16.703125 20.515625 \r\n",
       "Q 16.703125 13.921875 20.71875 10.15625 \r\n",
       "Q 24.75 6.390625 31.78125 6.390625 \r\n",
       "Q 38.8125 6.390625 42.859375 10.171875 \r\n",
       "Q 46.921875 13.96875 46.921875 20.515625 \r\n",
       "Q 46.921875 27.09375 42.890625 30.859375 \r\n",
       "Q 38.875 34.625 31.78125 34.625 \r\n",
       "z\r\n",
       "M 21.921875 38.8125 \r\n",
       "Q 15.578125 40.375 12.03125 44.71875 \r\n",
       "Q 8.5 49.078125 8.5 55.328125 \r\n",
       "Q 8.5 64.0625 14.71875 69.140625 \r\n",
       "Q 20.953125 74.21875 31.78125 74.21875 \r\n",
       "Q 42.671875 74.21875 48.875 69.140625 \r\n",
       "Q 55.078125 64.0625 55.078125 55.328125 \r\n",
       "Q 55.078125 49.078125 51.53125 44.71875 \r\n",
       "Q 48 40.375 41.703125 38.8125 \r\n",
       "Q 48.828125 37.15625 52.796875 32.3125 \r\n",
       "Q 56.78125 27.484375 56.78125 20.515625 \r\n",
       "Q 56.78125 9.90625 50.3125 4.234375 \r\n",
       "Q 43.84375 -1.421875 31.78125 -1.421875 \r\n",
       "Q 19.734375 -1.421875 13.25 4.234375 \r\n",
       "Q 6.78125 9.90625 6.78125 20.515625 \r\n",
       "Q 6.78125 27.484375 10.78125 32.3125 \r\n",
       "Q 14.796875 37.15625 21.921875 38.8125 \r\n",
       "z\r\n",
       "M 18.3125 54.390625 \r\n",
       "Q 18.3125 48.734375 21.84375 45.5625 \r\n",
       "Q 25.390625 42.390625 31.78125 42.390625 \r\n",
       "Q 38.140625 42.390625 41.71875 45.5625 \r\n",
       "Q 45.3125 48.734375 45.3125 54.390625 \r\n",
       "Q 45.3125 60.0625 41.71875 63.234375 \r\n",
       "Q 38.140625 66.40625 31.78125 66.40625 \r\n",
       "Q 25.390625 66.40625 21.84375 63.234375 \r\n",
       "Q 18.3125 60.0625 18.3125 54.390625 \r\n",
       "z\r\n",
       "\" id=\"DejaVuSans-56\"/>\r\n",
       "       </defs>\r\n",
       "       <use xlink:href=\"#DejaVuSans-56\"/>\r\n",
       "      </g>\r\n",
       "     </g>\r\n",
       "    </g>\r\n",
       "    <g id=\"ytick_6\">\r\n",
       "     <g id=\"line2d_14\">\r\n",
       "      <g>\r\n",
       "       <use style=\"stroke:#000000;stroke-width:0.8;\" x=\"40.603125\" xlink:href=\"#m9a32e22fbf\" y=\"73.520635\"/>\r\n",
       "      </g>\r\n",
       "     </g>\r\n",
       "     <g id=\"text_14\">\r\n",
       "      <!-- 10 -->\r\n",
       "      <g transform=\"translate(20.878125 77.319854)scale(0.1 -0.1)\">\r\n",
       "       <use xlink:href=\"#DejaVuSans-49\"/>\r\n",
       "       <use x=\"63.623047\" xlink:href=\"#DejaVuSans-48\"/>\r\n",
       "      </g>\r\n",
       "     </g>\r\n",
       "    </g>\r\n",
       "    <g id=\"ytick_7\">\r\n",
       "     <g id=\"line2d_15\">\r\n",
       "      <g>\r\n",
       "       <use style=\"stroke:#000000;stroke-width:0.8;\" x=\"40.603125\" xlink:href=\"#m9a32e22fbf\" y=\"22.504762\"/>\r\n",
       "      </g>\r\n",
       "     </g>\r\n",
       "     <g id=\"text_15\">\r\n",
       "      <!-- 12 -->\r\n",
       "      <g transform=\"translate(20.878125 26.303981)scale(0.1 -0.1)\">\r\n",
       "       <use xlink:href=\"#DejaVuSans-49\"/>\r\n",
       "       <use x=\"63.623047\" xlink:href=\"#DejaVuSans-50\"/>\r\n",
       "      </g>\r\n",
       "     </g>\r\n",
       "    </g>\r\n",
       "    <g id=\"text_16\">\r\n",
       "     <!-- Count -->\r\n",
       "     <g transform=\"translate(14.798438 182.748437)rotate(-90)scale(0.1 -0.1)\">\r\n",
       "      <defs>\r\n",
       "       <path d=\"M 64.40625 67.28125 \r\n",
       "L 64.40625 56.890625 \r\n",
       "Q 59.421875 61.53125 53.78125 63.8125 \r\n",
       "Q 48.140625 66.109375 41.796875 66.109375 \r\n",
       "Q 29.296875 66.109375 22.65625 58.46875 \r\n",
       "Q 16.015625 50.828125 16.015625 36.375 \r\n",
       "Q 16.015625 21.96875 22.65625 14.328125 \r\n",
       "Q 29.296875 6.6875 41.796875 6.6875 \r\n",
       "Q 48.140625 6.6875 53.78125 8.984375 \r\n",
       "Q 59.421875 11.28125 64.40625 15.921875 \r\n",
       "L 64.40625 5.609375 \r\n",
       "Q 59.234375 2.09375 53.4375 0.328125 \r\n",
       "Q 47.65625 -1.421875 41.21875 -1.421875 \r\n",
       "Q 24.65625 -1.421875 15.125 8.703125 \r\n",
       "Q 5.609375 18.84375 5.609375 36.375 \r\n",
       "Q 5.609375 53.953125 15.125 64.078125 \r\n",
       "Q 24.65625 74.21875 41.21875 74.21875 \r\n",
       "Q 47.75 74.21875 53.53125 72.484375 \r\n",
       "Q 59.328125 70.75 64.40625 67.28125 \r\n",
       "z\r\n",
       "\" id=\"DejaVuSans-67\"/>\r\n",
       "       <path d=\"M 30.609375 48.390625 \r\n",
       "Q 23.390625 48.390625 19.1875 42.75 \r\n",
       "Q 14.984375 37.109375 14.984375 27.296875 \r\n",
       "Q 14.984375 17.484375 19.15625 11.84375 \r\n",
       "Q 23.34375 6.203125 30.609375 6.203125 \r\n",
       "Q 37.796875 6.203125 41.984375 11.859375 \r\n",
       "Q 46.1875 17.53125 46.1875 27.296875 \r\n",
       "Q 46.1875 37.015625 41.984375 42.703125 \r\n",
       "Q 37.796875 48.390625 30.609375 48.390625 \r\n",
       "z\r\n",
       "M 30.609375 56 \r\n",
       "Q 42.328125 56 49.015625 48.375 \r\n",
       "Q 55.71875 40.765625 55.71875 27.296875 \r\n",
       "Q 55.71875 13.875 49.015625 6.21875 \r\n",
       "Q 42.328125 -1.421875 30.609375 -1.421875 \r\n",
       "Q 18.84375 -1.421875 12.171875 6.21875 \r\n",
       "Q 5.515625 13.875 5.515625 27.296875 \r\n",
       "Q 5.515625 40.765625 12.171875 48.375 \r\n",
       "Q 18.84375 56 30.609375 56 \r\n",
       "z\r\n",
       "\" id=\"DejaVuSans-111\"/>\r\n",
       "       <path d=\"M 8.5 21.578125 \r\n",
       "L 8.5 54.6875 \r\n",
       "L 17.484375 54.6875 \r\n",
       "L 17.484375 21.921875 \r\n",
       "Q 17.484375 14.15625 20.5 10.265625 \r\n",
       "Q 23.53125 6.390625 29.59375 6.390625 \r\n",
       "Q 36.859375 6.390625 41.078125 11.03125 \r\n",
       "Q 45.3125 15.671875 45.3125 23.6875 \r\n",
       "L 45.3125 54.6875 \r\n",
       "L 54.296875 54.6875 \r\n",
       "L 54.296875 0 \r\n",
       "L 45.3125 0 \r\n",
       "L 45.3125 8.40625 \r\n",
       "Q 42.046875 3.421875 37.71875 1 \r\n",
       "Q 33.40625 -1.421875 27.6875 -1.421875 \r\n",
       "Q 18.265625 -1.421875 13.375 4.4375 \r\n",
       "Q 8.5 10.296875 8.5 21.578125 \r\n",
       "z\r\n",
       "M 31.109375 56 \r\n",
       "z\r\n",
       "\" id=\"DejaVuSans-117\"/>\r\n",
       "       <path d=\"M 54.890625 33.015625 \r\n",
       "L 54.890625 0 \r\n",
       "L 45.90625 0 \r\n",
       "L 45.90625 32.71875 \r\n",
       "Q 45.90625 40.484375 42.875 44.328125 \r\n",
       "Q 39.84375 48.1875 33.796875 48.1875 \r\n",
       "Q 26.515625 48.1875 22.3125 43.546875 \r\n",
       "Q 18.109375 38.921875 18.109375 30.90625 \r\n",
       "L 18.109375 0 \r\n",
       "L 9.078125 0 \r\n",
       "L 9.078125 54.6875 \r\n",
       "L 18.109375 54.6875 \r\n",
       "L 18.109375 46.1875 \r\n",
       "Q 21.34375 51.125 25.703125 53.5625 \r\n",
       "Q 30.078125 56 35.796875 56 \r\n",
       "Q 45.21875 56 50.046875 50.171875 \r\n",
       "Q 54.890625 44.34375 54.890625 33.015625 \r\n",
       "z\r\n",
       "\" id=\"DejaVuSans-110\"/>\r\n",
       "       <path d=\"M 18.3125 70.21875 \r\n",
       "L 18.3125 54.6875 \r\n",
       "L 36.8125 54.6875 \r\n",
       "L 36.8125 47.703125 \r\n",
       "L 18.3125 47.703125 \r\n",
       "L 18.3125 18.015625 \r\n",
       "Q 18.3125 11.328125 20.140625 9.421875 \r\n",
       "Q 21.96875 7.515625 27.59375 7.515625 \r\n",
       "L 36.8125 7.515625 \r\n",
       "L 36.8125 0 \r\n",
       "L 27.59375 0 \r\n",
       "Q 17.1875 0 13.234375 3.875 \r\n",
       "Q 9.28125 7.765625 9.28125 18.015625 \r\n",
       "L 9.28125 47.703125 \r\n",
       "L 2.6875 47.703125 \r\n",
       "L 2.6875 54.6875 \r\n",
       "L 9.28125 54.6875 \r\n",
       "L 9.28125 70.21875 \r\n",
       "z\r\n",
       "\" id=\"DejaVuSans-116\"/>\r\n",
       "      </defs>\r\n",
       "      <use xlink:href=\"#DejaVuSans-67\"/>\r\n",
       "      <use x=\"69.824219\" xlink:href=\"#DejaVuSans-111\"/>\r\n",
       "      <use x=\"131.005859\" xlink:href=\"#DejaVuSans-117\"/>\r\n",
       "      <use x=\"194.384766\" xlink:href=\"#DejaVuSans-110\"/>\r\n",
       "      <use x=\"257.763672\" xlink:href=\"#DejaVuSans-116\"/>\r\n",
       "     </g>\r\n",
       "    </g>\r\n",
       "   </g>\r\n",
       "   <g id=\"patch_103\">\r\n",
       "    <path d=\"M 40.603125 328.6 \r\n",
       "L 40.603125 7.2 \r\n",
       "\" style=\"fill:none;stroke:#000000;stroke-linecap:square;stroke-linejoin:miter;stroke-width:0.8;\"/>\r\n",
       "   </g>\r\n",
       "   <g id=\"patch_104\">\r\n",
       "    <path d=\"M 40.603125 328.6 \r\n",
       "L 340.500625 328.6 \r\n",
       "\" style=\"fill:none;stroke:#000000;stroke-linecap:square;stroke-linejoin:miter;stroke-width:0.8;\"/>\r\n",
       "   </g>\r\n",
       "  </g>\r\n",
       "  <g id=\"legend_1\">\r\n",
       "   <g id=\"patch_105\">\r\n",
       "    <path d=\"M 356.873437 171.38125 \r\n",
       "L 376.873437 171.38125 \r\n",
       "L 376.873437 164.38125 \r\n",
       "L 356.873437 164.38125 \r\n",
       "z\r\n",
       "\" style=\"fill:#1f77b4;fill-opacity:0.75;stroke:#000000;stroke-linejoin:miter;\"/>\r\n",
       "   </g>\r\n",
       "   <g id=\"text_17\">\r\n",
       "    <!-- polarity_women -->\r\n",
       "    <g transform=\"translate(384.873437 171.38125)scale(0.1 -0.1)\">\r\n",
       "     <defs>\r\n",
       "      <path d=\"M 18.109375 8.203125 \r\n",
       "L 18.109375 -20.796875 \r\n",
       "L 9.078125 -20.796875 \r\n",
       "L 9.078125 54.6875 \r\n",
       "L 18.109375 54.6875 \r\n",
       "L 18.109375 46.390625 \r\n",
       "Q 20.953125 51.265625 25.265625 53.625 \r\n",
       "Q 29.59375 56 35.59375 56 \r\n",
       "Q 45.5625 56 51.78125 48.09375 \r\n",
       "Q 58.015625 40.1875 58.015625 27.296875 \r\n",
       "Q 58.015625 14.40625 51.78125 6.484375 \r\n",
       "Q 45.5625 -1.421875 35.59375 -1.421875 \r\n",
       "Q 29.59375 -1.421875 25.265625 0.953125 \r\n",
       "Q 20.953125 3.328125 18.109375 8.203125 \r\n",
       "z\r\n",
       "M 48.6875 27.296875 \r\n",
       "Q 48.6875 37.203125 44.609375 42.84375 \r\n",
       "Q 40.53125 48.484375 33.40625 48.484375 \r\n",
       "Q 26.265625 48.484375 22.1875 42.84375 \r\n",
       "Q 18.109375 37.203125 18.109375 27.296875 \r\n",
       "Q 18.109375 17.390625 22.1875 11.75 \r\n",
       "Q 26.265625 6.109375 33.40625 6.109375 \r\n",
       "Q 40.53125 6.109375 44.609375 11.75 \r\n",
       "Q 48.6875 17.390625 48.6875 27.296875 \r\n",
       "z\r\n",
       "\" id=\"DejaVuSans-112\"/>\r\n",
       "      <path d=\"M 9.421875 75.984375 \r\n",
       "L 18.40625 75.984375 \r\n",
       "L 18.40625 0 \r\n",
       "L 9.421875 0 \r\n",
       "z\r\n",
       "\" id=\"DejaVuSans-108\"/>\r\n",
       "      <path d=\"M 34.28125 27.484375 \r\n",
       "Q 23.390625 27.484375 19.1875 25 \r\n",
       "Q 14.984375 22.515625 14.984375 16.5 \r\n",
       "Q 14.984375 11.71875 18.140625 8.90625 \r\n",
       "Q 21.296875 6.109375 26.703125 6.109375 \r\n",
       "Q 34.1875 6.109375 38.703125 11.40625 \r\n",
       "Q 43.21875 16.703125 43.21875 25.484375 \r\n",
       "L 43.21875 27.484375 \r\n",
       "z\r\n",
       "M 52.203125 31.203125 \r\n",
       "L 52.203125 0 \r\n",
       "L 43.21875 0 \r\n",
       "L 43.21875 8.296875 \r\n",
       "Q 40.140625 3.328125 35.546875 0.953125 \r\n",
       "Q 30.953125 -1.421875 24.3125 -1.421875 \r\n",
       "Q 15.921875 -1.421875 10.953125 3.296875 \r\n",
       "Q 6 8.015625 6 15.921875 \r\n",
       "Q 6 25.140625 12.171875 29.828125 \r\n",
       "Q 18.359375 34.515625 30.609375 34.515625 \r\n",
       "L 43.21875 34.515625 \r\n",
       "L 43.21875 35.40625 \r\n",
       "Q 43.21875 41.609375 39.140625 45 \r\n",
       "Q 35.0625 48.390625 27.6875 48.390625 \r\n",
       "Q 23 48.390625 18.546875 47.265625 \r\n",
       "Q 14.109375 46.140625 10.015625 43.890625 \r\n",
       "L 10.015625 52.203125 \r\n",
       "Q 14.9375 54.109375 19.578125 55.046875 \r\n",
       "Q 24.21875 56 28.609375 56 \r\n",
       "Q 40.484375 56 46.34375 49.84375 \r\n",
       "Q 52.203125 43.703125 52.203125 31.203125 \r\n",
       "z\r\n",
       "\" id=\"DejaVuSans-97\"/>\r\n",
       "      <path d=\"M 41.109375 46.296875 \r\n",
       "Q 39.59375 47.171875 37.8125 47.578125 \r\n",
       "Q 36.03125 48 33.890625 48 \r\n",
       "Q 26.265625 48 22.1875 43.046875 \r\n",
       "Q 18.109375 38.09375 18.109375 28.8125 \r\n",
       "L 18.109375 0 \r\n",
       "L 9.078125 0 \r\n",
       "L 9.078125 54.6875 \r\n",
       "L 18.109375 54.6875 \r\n",
       "L 18.109375 46.1875 \r\n",
       "Q 20.953125 51.171875 25.484375 53.578125 \r\n",
       "Q 30.03125 56 36.53125 56 \r\n",
       "Q 37.453125 56 38.578125 55.875 \r\n",
       "Q 39.703125 55.765625 41.0625 55.515625 \r\n",
       "z\r\n",
       "\" id=\"DejaVuSans-114\"/>\r\n",
       "      <path d=\"M 9.421875 54.6875 \r\n",
       "L 18.40625 54.6875 \r\n",
       "L 18.40625 0 \r\n",
       "L 9.421875 0 \r\n",
       "z\r\n",
       "M 9.421875 75.984375 \r\n",
       "L 18.40625 75.984375 \r\n",
       "L 18.40625 64.59375 \r\n",
       "L 9.421875 64.59375 \r\n",
       "z\r\n",
       "\" id=\"DejaVuSans-105\"/>\r\n",
       "      <path d=\"M 32.171875 -5.078125 \r\n",
       "Q 28.375 -14.84375 24.75 -17.8125 \r\n",
       "Q 21.140625 -20.796875 15.09375 -20.796875 \r\n",
       "L 7.90625 -20.796875 \r\n",
       "L 7.90625 -13.28125 \r\n",
       "L 13.1875 -13.28125 \r\n",
       "Q 16.890625 -13.28125 18.9375 -11.515625 \r\n",
       "Q 21 -9.765625 23.484375 -3.21875 \r\n",
       "L 25.09375 0.875 \r\n",
       "L 2.984375 54.6875 \r\n",
       "L 12.5 54.6875 \r\n",
       "L 29.59375 11.921875 \r\n",
       "L 46.6875 54.6875 \r\n",
       "L 56.203125 54.6875 \r\n",
       "z\r\n",
       "\" id=\"DejaVuSans-121\"/>\r\n",
       "      <path d=\"M 50.984375 -16.609375 \r\n",
       "L 50.984375 -23.578125 \r\n",
       "L -0.984375 -23.578125 \r\n",
       "L -0.984375 -16.609375 \r\n",
       "z\r\n",
       "\" id=\"DejaVuSans-95\"/>\r\n",
       "      <path d=\"M 4.203125 54.6875 \r\n",
       "L 13.1875 54.6875 \r\n",
       "L 24.421875 12.015625 \r\n",
       "L 35.59375 54.6875 \r\n",
       "L 46.1875 54.6875 \r\n",
       "L 57.421875 12.015625 \r\n",
       "L 68.609375 54.6875 \r\n",
       "L 77.59375 54.6875 \r\n",
       "L 63.28125 0 \r\n",
       "L 52.6875 0 \r\n",
       "L 40.921875 44.828125 \r\n",
       "L 29.109375 0 \r\n",
       "L 18.5 0 \r\n",
       "z\r\n",
       "\" id=\"DejaVuSans-119\"/>\r\n",
       "      <path d=\"M 52 44.1875 \r\n",
       "Q 55.375 50.25 60.0625 53.125 \r\n",
       "Q 64.75 56 71.09375 56 \r\n",
       "Q 79.640625 56 84.28125 50.015625 \r\n",
       "Q 88.921875 44.046875 88.921875 33.015625 \r\n",
       "L 88.921875 0 \r\n",
       "L 79.890625 0 \r\n",
       "L 79.890625 32.71875 \r\n",
       "Q 79.890625 40.578125 77.09375 44.375 \r\n",
       "Q 74.3125 48.1875 68.609375 48.1875 \r\n",
       "Q 61.625 48.1875 57.5625 43.546875 \r\n",
       "Q 53.515625 38.921875 53.515625 30.90625 \r\n",
       "L 53.515625 0 \r\n",
       "L 44.484375 0 \r\n",
       "L 44.484375 32.71875 \r\n",
       "Q 44.484375 40.625 41.703125 44.40625 \r\n",
       "Q 38.921875 48.1875 33.109375 48.1875 \r\n",
       "Q 26.21875 48.1875 22.15625 43.53125 \r\n",
       "Q 18.109375 38.875 18.109375 30.90625 \r\n",
       "L 18.109375 0 \r\n",
       "L 9.078125 0 \r\n",
       "L 9.078125 54.6875 \r\n",
       "L 18.109375 54.6875 \r\n",
       "L 18.109375 46.1875 \r\n",
       "Q 21.1875 51.21875 25.484375 53.609375 \r\n",
       "Q 29.78125 56 35.6875 56 \r\n",
       "Q 41.65625 56 45.828125 52.96875 \r\n",
       "Q 50 49.953125 52 44.1875 \r\n",
       "z\r\n",
       "\" id=\"DejaVuSans-109\"/>\r\n",
       "      <path d=\"M 56.203125 29.59375 \r\n",
       "L 56.203125 25.203125 \r\n",
       "L 14.890625 25.203125 \r\n",
       "Q 15.484375 15.921875 20.484375 11.0625 \r\n",
       "Q 25.484375 6.203125 34.421875 6.203125 \r\n",
       "Q 39.59375 6.203125 44.453125 7.46875 \r\n",
       "Q 49.3125 8.734375 54.109375 11.28125 \r\n",
       "L 54.109375 2.78125 \r\n",
       "Q 49.265625 0.734375 44.1875 -0.34375 \r\n",
       "Q 39.109375 -1.421875 33.890625 -1.421875 \r\n",
       "Q 20.796875 -1.421875 13.15625 6.1875 \r\n",
       "Q 5.515625 13.8125 5.515625 26.8125 \r\n",
       "Q 5.515625 40.234375 12.765625 48.109375 \r\n",
       "Q 20.015625 56 32.328125 56 \r\n",
       "Q 43.359375 56 49.78125 48.890625 \r\n",
       "Q 56.203125 41.796875 56.203125 29.59375 \r\n",
       "z\r\n",
       "M 47.21875 32.234375 \r\n",
       "Q 47.125 39.59375 43.09375 43.984375 \r\n",
       "Q 39.0625 48.390625 32.421875 48.390625 \r\n",
       "Q 24.90625 48.390625 20.390625 44.140625 \r\n",
       "Q 15.875 39.890625 15.1875 32.171875 \r\n",
       "z\r\n",
       "\" id=\"DejaVuSans-101\"/>\r\n",
       "     </defs>\r\n",
       "     <use xlink:href=\"#DejaVuSans-112\"/>\r\n",
       "     <use x=\"63.476562\" xlink:href=\"#DejaVuSans-111\"/>\r\n",
       "     <use x=\"124.658203\" xlink:href=\"#DejaVuSans-108\"/>\r\n",
       "     <use x=\"152.441406\" xlink:href=\"#DejaVuSans-97\"/>\r\n",
       "     <use x=\"213.720703\" xlink:href=\"#DejaVuSans-114\"/>\r\n",
       "     <use x=\"254.833984\" xlink:href=\"#DejaVuSans-105\"/>\r\n",
       "     <use x=\"282.617188\" xlink:href=\"#DejaVuSans-116\"/>\r\n",
       "     <use x=\"321.826172\" xlink:href=\"#DejaVuSans-121\"/>\r\n",
       "     <use x=\"381.005859\" xlink:href=\"#DejaVuSans-95\"/>\r\n",
       "     <use x=\"431.005859\" xlink:href=\"#DejaVuSans-119\"/>\r\n",
       "     <use x=\"512.792969\" xlink:href=\"#DejaVuSans-111\"/>\r\n",
       "     <use x=\"573.974609\" xlink:href=\"#DejaVuSans-109\"/>\r\n",
       "     <use x=\"671.386719\" xlink:href=\"#DejaVuSans-101\"/>\r\n",
       "     <use x=\"732.910156\" xlink:href=\"#DejaVuSans-110\"/>\r\n",
       "    </g>\r\n",
       "   </g>\r\n",
       "   <g id=\"patch_106\">\r\n",
       "    <path d=\"M 356.873437 186.3375 \r\n",
       "L 376.873437 186.3375 \r\n",
       "L 376.873437 179.3375 \r\n",
       "L 356.873437 179.3375 \r\n",
       "z\r\n",
       "\" style=\"fill:#ff7f0e;fill-opacity:0.75;stroke:#000000;stroke-linejoin:miter;\"/>\r\n",
       "   </g>\r\n",
       "   <g id=\"text_18\">\r\n",
       "    <!-- polarity_base -->\r\n",
       "    <g transform=\"translate(384.873437 186.3375)scale(0.1 -0.1)\">\r\n",
       "     <defs>\r\n",
       "      <path d=\"M 48.6875 27.296875 \r\n",
       "Q 48.6875 37.203125 44.609375 42.84375 \r\n",
       "Q 40.53125 48.484375 33.40625 48.484375 \r\n",
       "Q 26.265625 48.484375 22.1875 42.84375 \r\n",
       "Q 18.109375 37.203125 18.109375 27.296875 \r\n",
       "Q 18.109375 17.390625 22.1875 11.75 \r\n",
       "Q 26.265625 6.109375 33.40625 6.109375 \r\n",
       "Q 40.53125 6.109375 44.609375 11.75 \r\n",
       "Q 48.6875 17.390625 48.6875 27.296875 \r\n",
       "z\r\n",
       "M 18.109375 46.390625 \r\n",
       "Q 20.953125 51.265625 25.265625 53.625 \r\n",
       "Q 29.59375 56 35.59375 56 \r\n",
       "Q 45.5625 56 51.78125 48.09375 \r\n",
       "Q 58.015625 40.1875 58.015625 27.296875 \r\n",
       "Q 58.015625 14.40625 51.78125 6.484375 \r\n",
       "Q 45.5625 -1.421875 35.59375 -1.421875 \r\n",
       "Q 29.59375 -1.421875 25.265625 0.953125 \r\n",
       "Q 20.953125 3.328125 18.109375 8.203125 \r\n",
       "L 18.109375 0 \r\n",
       "L 9.078125 0 \r\n",
       "L 9.078125 75.984375 \r\n",
       "L 18.109375 75.984375 \r\n",
       "z\r\n",
       "\" id=\"DejaVuSans-98\"/>\r\n",
       "      <path d=\"M 44.28125 53.078125 \r\n",
       "L 44.28125 44.578125 \r\n",
       "Q 40.484375 46.53125 36.375 47.5 \r\n",
       "Q 32.28125 48.484375 27.875 48.484375 \r\n",
       "Q 21.1875 48.484375 17.84375 46.4375 \r\n",
       "Q 14.5 44.390625 14.5 40.28125 \r\n",
       "Q 14.5 37.15625 16.890625 35.375 \r\n",
       "Q 19.28125 33.59375 26.515625 31.984375 \r\n",
       "L 29.59375 31.296875 \r\n",
       "Q 39.15625 29.25 43.1875 25.515625 \r\n",
       "Q 47.21875 21.78125 47.21875 15.09375 \r\n",
       "Q 47.21875 7.46875 41.1875 3.015625 \r\n",
       "Q 35.15625 -1.421875 24.609375 -1.421875 \r\n",
       "Q 20.21875 -1.421875 15.453125 -0.5625 \r\n",
       "Q 10.6875 0.296875 5.421875 2 \r\n",
       "L 5.421875 11.28125 \r\n",
       "Q 10.40625 8.6875 15.234375 7.390625 \r\n",
       "Q 20.0625 6.109375 24.8125 6.109375 \r\n",
       "Q 31.15625 6.109375 34.5625 8.28125 \r\n",
       "Q 37.984375 10.453125 37.984375 14.40625 \r\n",
       "Q 37.984375 18.0625 35.515625 20.015625 \r\n",
       "Q 33.0625 21.96875 24.703125 23.78125 \r\n",
       "L 21.578125 24.515625 \r\n",
       "Q 13.234375 26.265625 9.515625 29.90625 \r\n",
       "Q 5.8125 33.546875 5.8125 39.890625 \r\n",
       "Q 5.8125 47.609375 11.28125 51.796875 \r\n",
       "Q 16.75 56 26.8125 56 \r\n",
       "Q 31.78125 56 36.171875 55.265625 \r\n",
       "Q 40.578125 54.546875 44.28125 53.078125 \r\n",
       "z\r\n",
       "\" id=\"DejaVuSans-115\"/>\r\n",
       "     </defs>\r\n",
       "     <use xlink:href=\"#DejaVuSans-112\"/>\r\n",
       "     <use x=\"63.476562\" xlink:href=\"#DejaVuSans-111\"/>\r\n",
       "     <use x=\"124.658203\" xlink:href=\"#DejaVuSans-108\"/>\r\n",
       "     <use x=\"152.441406\" xlink:href=\"#DejaVuSans-97\"/>\r\n",
       "     <use x=\"213.720703\" xlink:href=\"#DejaVuSans-114\"/>\r\n",
       "     <use x=\"254.833984\" xlink:href=\"#DejaVuSans-105\"/>\r\n",
       "     <use x=\"282.617188\" xlink:href=\"#DejaVuSans-116\"/>\r\n",
       "     <use x=\"321.826172\" xlink:href=\"#DejaVuSans-121\"/>\r\n",
       "     <use x=\"381.005859\" xlink:href=\"#DejaVuSans-95\"/>\r\n",
       "     <use x=\"431.005859\" xlink:href=\"#DejaVuSans-98\"/>\r\n",
       "     <use x=\"494.482422\" xlink:href=\"#DejaVuSans-97\"/>\r\n",
       "     <use x=\"555.761719\" xlink:href=\"#DejaVuSans-115\"/>\r\n",
       "     <use x=\"607.861328\" xlink:href=\"#DejaVuSans-101\"/>\r\n",
       "    </g>\r\n",
       "   </g>\r\n",
       "  </g>\r\n",
       " </g>\r\n",
       " <defs>\r\n",
       "  <clipPath id=\"pb1b8e1e7b9\">\r\n",
       "   <rect height=\"321.4\" width=\"299.8975\" x=\"40.603125\" y=\"7.2\"/>\r\n",
       "  </clipPath>\r\n",
       " </defs>\r\n",
       "</svg>\r\n"
      ],
      "text/plain": [
       "<Figure size 475.25x360 with 1 Axes>"
      ]
     },
     "metadata": {
      "needs_background": "light"
     },
     "output_type": "display_data"
    }
   ],
   "source": [
    "import seaborn as sns\n",
    "\n",
    "sns.displot(polarity_comparison[['polarity_women', 'polarity_base']], kind=\"hist\", bins = 50)"
   ]
  },
  {
   "cell_type": "code",
   "execution_count": 33,
   "metadata": {},
   "outputs": [
    {
     "data": {
      "application/vnd.plotly.v1+json": {
       "config": {
        "plotlyServerURL": "https://plot.ly"
       },
       "data": [
        {
         "alignmentgroup": "True",
         "hovertemplate": "site=%{x}<br>polarity_base=%{y}<extra></extra>",
         "legendgroup": "",
         "marker": {
          "color": "#636efa"
         },
         "name": "",
         "offsetgroup": "",
         "orientation": "v",
         "showlegend": false,
         "textposition": "auto",
         "type": "bar",
         "x": [
          "aajtak.in",
          "dailystar.co.uk",
          "yahoo.com",
          "theblaze.com",
          "thesun.co.uk",
          "express.co.uk",
          "rt.com",
          "dailyrecord.co.uk",
          "dailycaller.com",
          "manchestereveningnews.co.uk",
          "salon.com",
          "Sowetanlive.co.za",
          "buzzfeed.com",
          "people.com",
          "dispatchlive.co.za",
          "usmagazine.com",
          "tmz.com",
          "thedailybeast.com",
          "realsimple.com",
          "standard.co.uk",
          "rawstory.com",
          "mensxp.com",
          "swarajyamag.com",
          "usatoday.com",
          "news18.com",
          "littlethings.com",
          "chroniclelive.co.uk",
          "scoopwhoop.com",
          "metro.co.uk",
          "Timeslive.co.za",
          "breitbart.com",
          "news.yahoo.com",
          "givemesport.com",
          "vogue.in",
          "heraldlive.co.za",
          "ksl.com",
          "makeuseof.com",
          "plymouthherald.co.uk",
          "dailymail.co.uk",
          "eonline.com",
          "nbcnews.com",
          "abcnews.go.com",
          "indianexpress.com",
          "ibtimes.co.uk",
          "telegraph.co.uk",
          "nypost.com",
          "digitaltrends.com",
          "mashable.com",
          "nydailynews.com",
          "news.sky.com",
          "thisismoney.co.uk",
          "cnbc.com",
          "newsmax.com",
          "mirror.co.uk",
          "huffingtonpost.co.uk",
          "timesofindia.com",
          "msnbc.com",
          "marketwatch.com",
          "birminghammail.co.uk",
          "theguardian.com",
          "thebetterindia.com",
          "refinery29.com",
          "washingtonpost.com",
          "foxnews.com",
          "cbsnews.com",
          "chron.com",
          "which.co.uk",
          "time.com",
          "Citizen.co.za",
          "cbssports.com",
          "liverpoolecho.co.uk",
          "zululandobserver.co.za",
          "timesnownews.com",
          "thetimes.co.uk",
          "lowvelder.co.za",
          "theladbible.com",
          "slate.com",
          "vox.com",
          "cosmopolitan.com",
          "finance.yahoo.com",
          "digitalspy.com",
          "fivethirtyeight.com",
          "independent.co.uk",
          "Ewn.co.za",
          "News24.com",
          "vice.com",
          "sports.yahoo.com",
          "chicagotribune.com",
          "cnn.com",
          "health.com",
          "rollingstone.com",
          "reuters.com",
          "complex.com",
          "india.com",
          "latimes.com",
          "greaterkashmir.com",
          "hindustantimes.com",
          "deccanchronicle.com",
          "forbes.com",
          "skysports.com",
          "Dailymaverick.co.za",
          "realclearpolitics.com",
          "politico.com",
          "sfgate.com",
          "prokerala.com",
          "mg.co.za",
          "msn.com",
          "nbcsports.com",
          "vogue.com",
          "iol.co.za",
          "outlookindia.com",
          "wired.com",
          "bloomberg.com",
          "ndtv.com",
          "rediff.com",
          "indiatimes.com",
          "cnet.com",
          "bleacherreport.com",
          "indiatoday.in",
          "thequint.com",
          "ft.com",
          "nature.com",
          "unilad.co.uk",
          "ew.com",
          "Capetownetc.com",
          "nationalgeographic.com",
          "timeout.com",
          "npr.org",
          "bbc.co.uk",
          "walesonline.co.uk",
          "pitchfork.com",
          "edition.cnn.com",
          "nytimes.com",
          "Moneyweb.co.za",
          "thehill.com",
          "bbc.com",
          "MyBroadband.co.za",
          "hollywoodreporter.com",
          "oneindia.com",
          "thehindu.com",
          "gamespot.com",
          "Businesslive.co.za",
          "gizmodo.com",
          "Thesouthafrican.com",
          "Enca.com",
          "espn.co.uk",
          "telegraphindia.com",
          "theatlantic.com",
          "seekingalpha.com",
          "lifehacker.com",
          "wsj.com",
          "cbn.co.za",
          "BusinessTech.co.za",
          "businessinsider.com",
          "ign.com",
          "Businessinsider.co.za",
          "theverge.com",
          "si.com",
          "espncricinfo.com",
          "livemint.com",
          "autoexpress.co.uk",
          "pcmag.com",
          "howtogeek.com"
         ],
         "xaxis": "x",
         "y": [
          0.5011545454545454,
          0.40510700000000005,
          0.39865555555555543,
          0.3929680000000001,
          0.38161399999999984,
          0.367856,
          0.365768,
          0.36252099999999987,
          0.36236599999999997,
          0.3606339999999999,
          0.358741,
          0.353634,
          0.3517490196078431,
          0.348983,
          0.34702200000000005,
          0.33996800000000005,
          0.33582899999999993,
          0.3356069306930694,
          0.334987,
          0.334238,
          0.3337487804878049,
          0.329304,
          0.32808800000000005,
          0.32794599999999996,
          0.32617300000000005,
          0.323386,
          0.322342,
          0.3221080000000001,
          0.32127900000000004,
          0.320491,
          0.3198100000000001,
          0.3152173469387754,
          0.3150430000000001,
          0.31480800000000003,
          0.313972,
          0.3134280000000001,
          0.3115402061855671,
          0.3102190000000001,
          0.31018,
          0.309525,
          0.30929999999999996,
          0.3085872549019607,
          0.30854300000000007,
          0.30781200000000003,
          0.306927,
          0.305731,
          0.30368599999999996,
          0.30270100000000005,
          0.3025809999999999,
          0.302015,
          0.30116500000000007,
          0.3001640000000001,
          0.298813,
          0.298589,
          0.29841399999999996,
          0.29805699999999996,
          0.2948262626262626,
          0.2946470000000001,
          0.29242499999999993,
          0.29103599999999985,
          0.290827,
          0.289765,
          0.2888820000000001,
          0.2879969999999999,
          0.28797999999999996,
          0.2871676767676768,
          0.28642699999999993,
          0.2835970000000001,
          0.28186700000000003,
          0.2812029999999999,
          0.2795019999999999,
          0.278086,
          0.27719900000000003,
          0.27488399999999996,
          0.270598,
          0.27033000000000007,
          0.2685580000000001,
          0.2679277227722772,
          0.2679210000000001,
          0.2674956834532372,
          0.26672599999999996,
          0.2662265957446809,
          0.2659619999999999,
          0.26580000000000004,
          0.2655739999999999,
          0.26466300000000004,
          0.2637555555555555,
          0.2636860000000001,
          0.2635107142857144,
          0.261228,
          0.260112,
          0.25942763157894727,
          0.25895300000000004,
          0.2575039999999999,
          0.2568529411764706,
          0.25661200000000006,
          0.255508,
          0.253642,
          0.2533990196078431,
          0.25186000000000003,
          0.25146099999999993,
          0.251092,
          0.2488168316831684,
          0.246901,
          0.24572399999999991,
          0.24520999999999998,
          0.24513676470588236,
          0.2450630769230769,
          0.24480800000000003,
          0.24460600000000002,
          0.24423099999999995,
          0.24368800000000002,
          0.2413943396226416,
          0.24094099999999993,
          0.23847100000000002,
          0.23384400000000002,
          0.23351400000000003,
          0.23164099999999999,
          0.23085300000000003,
          0.22934600000000002,
          0.226779,
          0.22600471698113206,
          0.2257729999999999,
          0.22564400000000004,
          0.225273,
          0.22413799999999992,
          0.2209420000000001,
          0.22081300000000006,
          0.22045699999999996,
          0.219753,
          0.2193609999999999,
          0.21546000000000004,
          0.21477359413202915,
          0.21476900000000002,
          0.21404100000000004,
          0.21391496062992119,
          0.212301,
          0.20937900000000004,
          0.20865199999999992,
          0.20849300000000004,
          0.20797999999999997,
          0.20679399999999998,
          0.20614848484848483,
          0.20080099999999998,
          0.20022600000000002,
          0.19848799999999997,
          0.19581599999999988,
          0.19576969696969695,
          0.19413099999999997,
          0.1918564705882353,
          0.1875821782178218,
          0.17870273972602735,
          0.17732299999999998,
          0.17654,
          0.17624949494949493,
          0.17429499999999995,
          0.17102685185185182,
          0.17014599999999994,
          0.15428099999999997,
          0.145191,
          0.129387,
          0.123859,
          0.084756
         ],
         "yaxis": "y"
        }
       ],
       "layout": {
        "autosize": true,
        "barmode": "relative",
        "legend": {
         "tracegroupgap": 0
        },
        "margin": {
         "t": 60
        },
        "template": {
         "data": {
          "bar": [
           {
            "error_x": {
             "color": "#2a3f5f"
            },
            "error_y": {
             "color": "#2a3f5f"
            },
            "marker": {
             "line": {
              "color": "#E5ECF6",
              "width": 0.5
             }
            },
            "type": "bar"
           }
          ],
          "barpolar": [
           {
            "marker": {
             "line": {
              "color": "#E5ECF6",
              "width": 0.5
             }
            },
            "type": "barpolar"
           }
          ],
          "carpet": [
           {
            "aaxis": {
             "endlinecolor": "#2a3f5f",
             "gridcolor": "white",
             "linecolor": "white",
             "minorgridcolor": "white",
             "startlinecolor": "#2a3f5f"
            },
            "baxis": {
             "endlinecolor": "#2a3f5f",
             "gridcolor": "white",
             "linecolor": "white",
             "minorgridcolor": "white",
             "startlinecolor": "#2a3f5f"
            },
            "type": "carpet"
           }
          ],
          "choropleth": [
           {
            "colorbar": {
             "outlinewidth": 0,
             "ticks": ""
            },
            "type": "choropleth"
           }
          ],
          "contour": [
           {
            "colorbar": {
             "outlinewidth": 0,
             "ticks": ""
            },
            "colorscale": [
             [
              0,
              "#0d0887"
             ],
             [
              0.1111111111111111,
              "#46039f"
             ],
             [
              0.2222222222222222,
              "#7201a8"
             ],
             [
              0.3333333333333333,
              "#9c179e"
             ],
             [
              0.4444444444444444,
              "#bd3786"
             ],
             [
              0.5555555555555556,
              "#d8576b"
             ],
             [
              0.6666666666666666,
              "#ed7953"
             ],
             [
              0.7777777777777778,
              "#fb9f3a"
             ],
             [
              0.8888888888888888,
              "#fdca26"
             ],
             [
              1,
              "#f0f921"
             ]
            ],
            "type": "contour"
           }
          ],
          "contourcarpet": [
           {
            "colorbar": {
             "outlinewidth": 0,
             "ticks": ""
            },
            "type": "contourcarpet"
           }
          ],
          "heatmap": [
           {
            "colorbar": {
             "outlinewidth": 0,
             "ticks": ""
            },
            "colorscale": [
             [
              0,
              "#0d0887"
             ],
             [
              0.1111111111111111,
              "#46039f"
             ],
             [
              0.2222222222222222,
              "#7201a8"
             ],
             [
              0.3333333333333333,
              "#9c179e"
             ],
             [
              0.4444444444444444,
              "#bd3786"
             ],
             [
              0.5555555555555556,
              "#d8576b"
             ],
             [
              0.6666666666666666,
              "#ed7953"
             ],
             [
              0.7777777777777778,
              "#fb9f3a"
             ],
             [
              0.8888888888888888,
              "#fdca26"
             ],
             [
              1,
              "#f0f921"
             ]
            ],
            "type": "heatmap"
           }
          ],
          "heatmapgl": [
           {
            "colorbar": {
             "outlinewidth": 0,
             "ticks": ""
            },
            "colorscale": [
             [
              0,
              "#0d0887"
             ],
             [
              0.1111111111111111,
              "#46039f"
             ],
             [
              0.2222222222222222,
              "#7201a8"
             ],
             [
              0.3333333333333333,
              "#9c179e"
             ],
             [
              0.4444444444444444,
              "#bd3786"
             ],
             [
              0.5555555555555556,
              "#d8576b"
             ],
             [
              0.6666666666666666,
              "#ed7953"
             ],
             [
              0.7777777777777778,
              "#fb9f3a"
             ],
             [
              0.8888888888888888,
              "#fdca26"
             ],
             [
              1,
              "#f0f921"
             ]
            ],
            "type": "heatmapgl"
           }
          ],
          "histogram": [
           {
            "marker": {
             "colorbar": {
              "outlinewidth": 0,
              "ticks": ""
             }
            },
            "type": "histogram"
           }
          ],
          "histogram2d": [
           {
            "colorbar": {
             "outlinewidth": 0,
             "ticks": ""
            },
            "colorscale": [
             [
              0,
              "#0d0887"
             ],
             [
              0.1111111111111111,
              "#46039f"
             ],
             [
              0.2222222222222222,
              "#7201a8"
             ],
             [
              0.3333333333333333,
              "#9c179e"
             ],
             [
              0.4444444444444444,
              "#bd3786"
             ],
             [
              0.5555555555555556,
              "#d8576b"
             ],
             [
              0.6666666666666666,
              "#ed7953"
             ],
             [
              0.7777777777777778,
              "#fb9f3a"
             ],
             [
              0.8888888888888888,
              "#fdca26"
             ],
             [
              1,
              "#f0f921"
             ]
            ],
            "type": "histogram2d"
           }
          ],
          "histogram2dcontour": [
           {
            "colorbar": {
             "outlinewidth": 0,
             "ticks": ""
            },
            "colorscale": [
             [
              0,
              "#0d0887"
             ],
             [
              0.1111111111111111,
              "#46039f"
             ],
             [
              0.2222222222222222,
              "#7201a8"
             ],
             [
              0.3333333333333333,
              "#9c179e"
             ],
             [
              0.4444444444444444,
              "#bd3786"
             ],
             [
              0.5555555555555556,
              "#d8576b"
             ],
             [
              0.6666666666666666,
              "#ed7953"
             ],
             [
              0.7777777777777778,
              "#fb9f3a"
             ],
             [
              0.8888888888888888,
              "#fdca26"
             ],
             [
              1,
              "#f0f921"
             ]
            ],
            "type": "histogram2dcontour"
           }
          ],
          "mesh3d": [
           {
            "colorbar": {
             "outlinewidth": 0,
             "ticks": ""
            },
            "type": "mesh3d"
           }
          ],
          "parcoords": [
           {
            "line": {
             "colorbar": {
              "outlinewidth": 0,
              "ticks": ""
             }
            },
            "type": "parcoords"
           }
          ],
          "pie": [
           {
            "automargin": true,
            "type": "pie"
           }
          ],
          "scatter": [
           {
            "marker": {
             "colorbar": {
              "outlinewidth": 0,
              "ticks": ""
             }
            },
            "type": "scatter"
           }
          ],
          "scatter3d": [
           {
            "line": {
             "colorbar": {
              "outlinewidth": 0,
              "ticks": ""
             }
            },
            "marker": {
             "colorbar": {
              "outlinewidth": 0,
              "ticks": ""
             }
            },
            "type": "scatter3d"
           }
          ],
          "scattercarpet": [
           {
            "marker": {
             "colorbar": {
              "outlinewidth": 0,
              "ticks": ""
             }
            },
            "type": "scattercarpet"
           }
          ],
          "scattergeo": [
           {
            "marker": {
             "colorbar": {
              "outlinewidth": 0,
              "ticks": ""
             }
            },
            "type": "scattergeo"
           }
          ],
          "scattergl": [
           {
            "marker": {
             "colorbar": {
              "outlinewidth": 0,
              "ticks": ""
             }
            },
            "type": "scattergl"
           }
          ],
          "scattermapbox": [
           {
            "marker": {
             "colorbar": {
              "outlinewidth": 0,
              "ticks": ""
             }
            },
            "type": "scattermapbox"
           }
          ],
          "scatterpolar": [
           {
            "marker": {
             "colorbar": {
              "outlinewidth": 0,
              "ticks": ""
             }
            },
            "type": "scatterpolar"
           }
          ],
          "scatterpolargl": [
           {
            "marker": {
             "colorbar": {
              "outlinewidth": 0,
              "ticks": ""
             }
            },
            "type": "scatterpolargl"
           }
          ],
          "scatterternary": [
           {
            "marker": {
             "colorbar": {
              "outlinewidth": 0,
              "ticks": ""
             }
            },
            "type": "scatterternary"
           }
          ],
          "surface": [
           {
            "colorbar": {
             "outlinewidth": 0,
             "ticks": ""
            },
            "colorscale": [
             [
              0,
              "#0d0887"
             ],
             [
              0.1111111111111111,
              "#46039f"
             ],
             [
              0.2222222222222222,
              "#7201a8"
             ],
             [
              0.3333333333333333,
              "#9c179e"
             ],
             [
              0.4444444444444444,
              "#bd3786"
             ],
             [
              0.5555555555555556,
              "#d8576b"
             ],
             [
              0.6666666666666666,
              "#ed7953"
             ],
             [
              0.7777777777777778,
              "#fb9f3a"
             ],
             [
              0.8888888888888888,
              "#fdca26"
             ],
             [
              1,
              "#f0f921"
             ]
            ],
            "type": "surface"
           }
          ],
          "table": [
           {
            "cells": {
             "fill": {
              "color": "#EBF0F8"
             },
             "line": {
              "color": "white"
             }
            },
            "header": {
             "fill": {
              "color": "#C8D4E3"
             },
             "line": {
              "color": "white"
             }
            },
            "type": "table"
           }
          ]
         },
         "layout": {
          "annotationdefaults": {
           "arrowcolor": "#2a3f5f",
           "arrowhead": 0,
           "arrowwidth": 1
          },
          "autotypenumbers": "strict",
          "coloraxis": {
           "colorbar": {
            "outlinewidth": 0,
            "ticks": ""
           }
          },
          "colorscale": {
           "diverging": [
            [
             0,
             "#8e0152"
            ],
            [
             0.1,
             "#c51b7d"
            ],
            [
             0.2,
             "#de77ae"
            ],
            [
             0.3,
             "#f1b6da"
            ],
            [
             0.4,
             "#fde0ef"
            ],
            [
             0.5,
             "#f7f7f7"
            ],
            [
             0.6,
             "#e6f5d0"
            ],
            [
             0.7,
             "#b8e186"
            ],
            [
             0.8,
             "#7fbc41"
            ],
            [
             0.9,
             "#4d9221"
            ],
            [
             1,
             "#276419"
            ]
           ],
           "sequential": [
            [
             0,
             "#0d0887"
            ],
            [
             0.1111111111111111,
             "#46039f"
            ],
            [
             0.2222222222222222,
             "#7201a8"
            ],
            [
             0.3333333333333333,
             "#9c179e"
            ],
            [
             0.4444444444444444,
             "#bd3786"
            ],
            [
             0.5555555555555556,
             "#d8576b"
            ],
            [
             0.6666666666666666,
             "#ed7953"
            ],
            [
             0.7777777777777778,
             "#fb9f3a"
            ],
            [
             0.8888888888888888,
             "#fdca26"
            ],
            [
             1,
             "#f0f921"
            ]
           ],
           "sequentialminus": [
            [
             0,
             "#0d0887"
            ],
            [
             0.1111111111111111,
             "#46039f"
            ],
            [
             0.2222222222222222,
             "#7201a8"
            ],
            [
             0.3333333333333333,
             "#9c179e"
            ],
            [
             0.4444444444444444,
             "#bd3786"
            ],
            [
             0.5555555555555556,
             "#d8576b"
            ],
            [
             0.6666666666666666,
             "#ed7953"
            ],
            [
             0.7777777777777778,
             "#fb9f3a"
            ],
            [
             0.8888888888888888,
             "#fdca26"
            ],
            [
             1,
             "#f0f921"
            ]
           ]
          },
          "colorway": [
           "#636efa",
           "#EF553B",
           "#00cc96",
           "#ab63fa",
           "#FFA15A",
           "#19d3f3",
           "#FF6692",
           "#B6E880",
           "#FF97FF",
           "#FECB52"
          ],
          "font": {
           "color": "#2a3f5f"
          },
          "geo": {
           "bgcolor": "white",
           "lakecolor": "white",
           "landcolor": "#E5ECF6",
           "showlakes": true,
           "showland": true,
           "subunitcolor": "white"
          },
          "hoverlabel": {
           "align": "left"
          },
          "hovermode": "closest",
          "mapbox": {
           "style": "light"
          },
          "paper_bgcolor": "white",
          "plot_bgcolor": "#E5ECF6",
          "polar": {
           "angularaxis": {
            "gridcolor": "white",
            "linecolor": "white",
            "ticks": ""
           },
           "bgcolor": "#E5ECF6",
           "radialaxis": {
            "gridcolor": "white",
            "linecolor": "white",
            "ticks": ""
           }
          },
          "scene": {
           "xaxis": {
            "backgroundcolor": "#E5ECF6",
            "gridcolor": "white",
            "gridwidth": 2,
            "linecolor": "white",
            "showbackground": true,
            "ticks": "",
            "zerolinecolor": "white"
           },
           "yaxis": {
            "backgroundcolor": "#E5ECF6",
            "gridcolor": "white",
            "gridwidth": 2,
            "linecolor": "white",
            "showbackground": true,
            "ticks": "",
            "zerolinecolor": "white"
           },
           "zaxis": {
            "backgroundcolor": "#E5ECF6",
            "gridcolor": "white",
            "gridwidth": 2,
            "linecolor": "white",
            "showbackground": true,
            "ticks": "",
            "zerolinecolor": "white"
           }
          },
          "shapedefaults": {
           "line": {
            "color": "#2a3f5f"
           }
          },
          "ternary": {
           "aaxis": {
            "gridcolor": "white",
            "linecolor": "white",
            "ticks": ""
           },
           "baxis": {
            "gridcolor": "white",
            "linecolor": "white",
            "ticks": ""
           },
           "bgcolor": "#E5ECF6",
           "caxis": {
            "gridcolor": "white",
            "linecolor": "white",
            "ticks": ""
           }
          },
          "title": {
           "x": 0.05
          },
          "xaxis": {
           "automargin": true,
           "gridcolor": "white",
           "linecolor": "white",
           "ticks": "",
           "title": {
            "standoff": 15
           },
           "zerolinecolor": "white",
           "zerolinewidth": 2
          },
          "yaxis": {
           "automargin": true,
           "gridcolor": "white",
           "linecolor": "white",
           "ticks": "",
           "title": {
            "standoff": 15
           },
           "zerolinecolor": "white",
           "zerolinewidth": 2
          }
         }
        },
        "xaxis": {
         "anchor": "y",
         "autorange": true,
         "domain": [
          0,
          1
         ],
         "range": [
          -0.5,
          162.5
         ],
         "title": {
          "text": "site"
         },
         "type": "category"
        },
        "yaxis": {
         "anchor": "x",
         "autorange": true,
         "domain": [
          0,
          1
         ],
         "range": [
          0,
          0.5275311004784689
         ],
         "title": {
          "text": "polarity_base"
         },
         "type": "linear"
        }
       }
      },
      "image/png": "[encoded data removed]"
     },
     "metadata": {},
     "output_type": "display_data"
    }
   ],
   "source": [
    "import plotly.express as px\n",
    "fig = px.bar(polarity_comparison.sort_values(by = 'polarity_base', ascending = False), x = 'site', y ='polarity_base')\n",
    "fig.show()"
   ]
  },
  {
   "cell_type": "code",
   "execution_count": 34,
   "metadata": {},
   "outputs": [
    {
     "data": {
      "application/vnd.plotly.v1+json": {
       "config": {
        "plotlyServerURL": "https://plot.ly"
       },
       "data": [
        {
         "alignmentgroup": "True",
         "hovertemplate": "site=%{x}<br>polarity_women=%{y}<extra></extra>",
         "legendgroup": "",
         "marker": {
          "color": "#636efa"
         },
         "name": "",
         "offsetgroup": "",
         "orientation": "v",
         "showlegend": false,
         "textposition": "auto",
         "type": "bar",
         "x": [
          "dailyrecord.co.uk",
          "Ewn.co.za",
          "birminghammail.co.uk",
          "mirror.co.uk",
          "manchestereveningnews.co.uk",
          "news.sky.com",
          "liverpoolecho.co.uk",
          "chroniclelive.co.uk",
          "dailystar.co.uk",
          "timesnownews.com",
          "outlookindia.com",
          "nypost.com",
          "Sowetanlive.co.za",
          "standard.co.uk",
          "chron.com",
          "theblaze.com",
          "plymouthherald.co.uk",
          "ndtv.com",
          "Citizen.co.za",
          "iol.co.za",
          "ksl.com",
          "nydailynews.com",
          "rt.com",
          "india.com",
          "swarajyamag.com",
          "hindustantimes.com",
          "rawstory.com",
          "indiatoday.in",
          "thesun.co.uk",
          "bbc.co.uk",
          "news18.com",
          "ibtimes.co.uk",
          "dispatchlive.co.za",
          "dailymail.co.uk",
          "walesonline.co.uk",
          "bbc.com",
          "Thesouthafrican.com",
          "foxnews.com",
          "oneindia.com",
          "cbsnews.com",
          "reuters.com",
          "msn.com",
          "sfgate.com",
          "heraldlive.co.za",
          "realsimple.com",
          "metro.co.uk",
          "people.com",
          "news.yahoo.com",
          "health.com",
          "scoopwhoop.com",
          "News24.com",
          "lowvelder.co.za",
          "telegraph.co.uk",
          "abcnews.go.com",
          "indianexpress.com",
          "cbssports.com",
          "timesofindia.com",
          "tmz.com",
          "zululandobserver.co.za",
          "Timeslive.co.za",
          "makeuseof.com",
          "thebetterindia.com",
          "theguardian.com",
          "greaterkashmir.com",
          "mensxp.com",
          "Enca.com",
          "express.co.uk",
          "latimes.com",
          "Capetownetc.com",
          "independent.co.uk",
          "washingtonpost.com",
          "edition.cnn.com",
          "nbcnews.com",
          "complex.com",
          "thehindu.com",
          "which.co.uk",
          "finance.yahoo.com",
          "chicagotribune.com",
          "breitbart.com",
          "rediff.com",
          "dailycaller.com",
          "Dailymaverick.co.za",
          "telegraphindia.com",
          "indiatimes.com",
          "digitaltrends.com",
          "cnn.com",
          "vogue.in",
          "thedailybeast.com",
          "Businessinsider.co.za",
          "yahoo.com",
          "thetimes.co.uk",
          "mashable.com",
          "usatoday.com",
          "marketwatch.com",
          "vice.com",
          "cnet.com",
          "sports.yahoo.com",
          "bleacherreport.com",
          "slate.com",
          "ew.com",
          "cnbc.com",
          "huffingtonpost.co.uk",
          "refinery29.com",
          "time.com",
          "skysports.com",
          "eonline.com",
          "ft.com",
          "gizmodo.com",
          "deccanchronicle.com",
          "nbcsports.com",
          "buzzfeed.com",
          "nytimes.com",
          "vox.com",
          "Moneyweb.co.za",
          "theatlantic.com",
          "pcmag.com",
          "salon.com",
          "businessinsider.com",
          "thequint.com",
          "newsmax.com",
          "msnbc.com",
          "mg.co.za",
          "Businesslive.co.za",
          "thehill.com",
          "theverge.com",
          "cosmopolitan.com",
          "npr.org",
          "theladbible.com",
          "unilad.co.uk",
          "nature.com",
          "wired.com",
          "usmagazine.com",
          "bloomberg.com",
          "nationalgeographic.com",
          "wsj.com",
          "espn.co.uk",
          "livemint.com",
          "forbes.com",
          "prokerala.com",
          "littlethings.com",
          "rollingstone.com",
          "hollywoodreporter.com",
          "thisismoney.co.uk",
          "givemesport.com",
          "politico.com",
          "espncricinfo.com",
          "realclearpolitics.com",
          "cbn.co.za",
          "vogue.com",
          "MyBroadband.co.za",
          "fivethirtyeight.com",
          "howtogeek.com",
          "lifehacker.com",
          "si.com",
          "BusinessTech.co.za",
          "pitchfork.com",
          "gamespot.com",
          "timeout.com",
          "seekingalpha.com",
          "autoexpress.co.uk",
          "ign.com",
          "digitalspy.com",
          "aajtak.in"
         ],
         "xaxis": "x",
         "y": [
          0.4641280821917804,
          0.4538335483870964,
          0.4426493506493508,
          0.4364052264808358,
          0.43401578947368435,
          0.41885096774193514,
          0.41518111111111106,
          0.39985258064516127,
          0.3976550335570466,
          0.39477806451612873,
          0.3903151612903222,
          0.38431000000000004,
          0.38417193548387063,
          0.38375137931034503,
          0.38352916666666625,
          0.38304258064516106,
          0.37966956521739126,
          0.37409290322580624,
          0.37287870967741904,
          0.37204290322580646,
          0.371152258064516,
          0.37069109589041094,
          0.36932258064516116,
          0.3683706293706292,
          0.3674745161290322,
          0.36624032258064504,
          0.3653316129032256,
          0.3635190322580644,
          0.36262482269503504,
          0.361190909090909,
          0.35922200647249153,
          0.35921225806451573,
          0.3579974193548387,
          0.3559870967741934,
          0.35441326530612227,
          0.35427365591397847,
          0.35411032258064523,
          0.3529314960629923,
          0.3517671532846713,
          0.35006032258064484,
          0.3480761290322575,
          0.3459230769230769,
          0.34285510204081626,
          0.3425250814332246,
          0.3422186046511623,
          0.34173948220064715,
          0.3367003484320557,
          0.3363449275362317,
          0.3355650557620815,
          0.3354986798679864,
          0.3341842307692304,
          0.33414208633093506,
          0.3321319354838709,
          0.33098580645161263,
          0.32934951456310646,
          0.3291931407942237,
          0.32396333333333316,
          0.3239248387096773,
          0.32233690036900353,
          0.32083903225806415,
          0.3188476923076919,
          0.31881677419354804,
          0.3177796774193545,
          0.3175977419354836,
          0.31631838709677385,
          0.31451129032258035,
          0.314094584837545,
          0.31364903225806423,
          0.3117651612903223,
          0.3085375912408758,
          0.3072358064516125,
          0.3071399999999998,
          0.30591666666666656,
          0.3026251612903223,
          0.3017012903225805,
          0.300451020408163,
          0.2999023076923075,
          0.29766287425149685,
          0.2964925806451608,
          0.2945033557046977,
          0.29388258064516115,
          0.2934106451612902,
          0.2930451612903222,
          0.2904603225806449,
          0.2903954838709676,
          0.289614657980456,
          0.28871753554502366,
          0.28811290322580635,
          0.28641773049645397,
          0.2858372727272727,
          0.2850912903225805,
          0.2845335740072199,
          0.28396575342465746,
          0.2837145762711862,
          0.2833351612903222,
          0.283294838709677,
          0.28149749999999996,
          0.2805493548387093,
          0.27838612903225807,
          0.27663908794788244,
          0.27441411764705864,
          0.271681512605042,
          0.27018297101449235,
          0.269994516129032,
          0.2694390322580644,
          0.26899055118110216,
          0.26216741935483845,
          0.26058461538461536,
          0.2592852631578947,
          0.25842809523809496,
          0.2568906077348065,
          0.2566393548387095,
          0.25644612903225794,
          0.25321044776119384,
          0.25316032258064475,
          0.251647846889952,
          0.251358709677419,
          0.25069403973509913,
          0.25064587155963297,
          0.2498245161290319,
          0.24941812865497068,
          0.24888903225806427,
          0.24559709677419334,
          0.24526096774193534,
          0.2431332258064514,
          0.2423115942028986,
          0.24221838709677404,
          0.24009297658862863,
          0.23769774193548374,
          0.23762569832402242,
          0.2366170967741933,
          0.23538451612903222,
          0.23366419354838694,
          0.23101516129032243,
          0.23015999999999995,
          0.2295462686567164,
          0.2266777419354838,
          0.2261658064516126,
          0.22602117647058823,
          0.2241733333333333,
          0.22399677419354808,
          0.22339387096774174,
          0.22276666666666664,
          0.2197381578947365,
          0.2134210526315789,
          0.2113064885496182,
          0.2072530744336568,
          0.20593758389261735,
          0.2037806451612902,
          0.20139240924092408,
          0.19909342105263156,
          0.19857468354430374,
          0.19651461538461545,
          0.19465161290322577,
          0.1940519031141868,
          0.1925338709677418,
          0.18041354838709675,
          0.17963462783171505,
          0.16191371237458185,
          0.15167306397306385,
          0.14549000000000004,
          0.10012054794520549,
          0
         ],
         "yaxis": "y"
        }
       ],
       "layout": {
        "autosize": true,
        "barmode": "relative",
        "legend": {
         "tracegroupgap": 0
        },
        "margin": {
         "t": 60
        },
        "template": {
         "data": {
          "bar": [
           {
            "error_x": {
             "color": "#2a3f5f"
            },
            "error_y": {
             "color": "#2a3f5f"
            },
            "marker": {
             "line": {
              "color": "#E5ECF6",
              "width": 0.5
             }
            },
            "type": "bar"
           }
          ],
          "barpolar": [
           {
            "marker": {
             "line": {
              "color": "#E5ECF6",
              "width": 0.5
             }
            },
            "type": "barpolar"
           }
          ],
          "carpet": [
           {
            "aaxis": {
             "endlinecolor": "#2a3f5f",
             "gridcolor": "white",
             "linecolor": "white",
             "minorgridcolor": "white",
             "startlinecolor": "#2a3f5f"
            },
            "baxis": {
             "endlinecolor": "#2a3f5f",
             "gridcolor": "white",
             "linecolor": "white",
             "minorgridcolor": "white",
             "startlinecolor": "#2a3f5f"
            },
            "type": "carpet"
           }
          ],
          "choropleth": [
           {
            "colorbar": {
             "outlinewidth": 0,
             "ticks": ""
            },
            "type": "choropleth"
           }
          ],
          "contour": [
           {
            "colorbar": {
             "outlinewidth": 0,
             "ticks": ""
            },
            "colorscale": [
             [
              0,
              "#0d0887"
             ],
             [
              0.1111111111111111,
              "#46039f"
             ],
             [
              0.2222222222222222,
              "#7201a8"
             ],
             [
              0.3333333333333333,
              "#9c179e"
             ],
             [
              0.4444444444444444,
              "#bd3786"
             ],
             [
              0.5555555555555556,
              "#d8576b"
             ],
             [
              0.6666666666666666,
              "#ed7953"
             ],
             [
              0.7777777777777778,
              "#fb9f3a"
             ],
             [
              0.8888888888888888,
              "#fdca26"
             ],
             [
              1,
              "#f0f921"
             ]
            ],
            "type": "contour"
           }
          ],
          "contourcarpet": [
           {
            "colorbar": {
             "outlinewidth": 0,
             "ticks": ""
            },
            "type": "contourcarpet"
           }
          ],
          "heatmap": [
           {
            "colorbar": {
             "outlinewidth": 0,
             "ticks": ""
            },
            "colorscale": [
             [
              0,
              "#0d0887"
             ],
             [
              0.1111111111111111,
              "#46039f"
             ],
             [
              0.2222222222222222,
              "#7201a8"
             ],
             [
              0.3333333333333333,
              "#9c179e"
             ],
             [
              0.4444444444444444,
              "#bd3786"
             ],
             [
              0.5555555555555556,
              "#d8576b"
             ],
             [
              0.6666666666666666,
              "#ed7953"
             ],
             [
              0.7777777777777778,
              "#fb9f3a"
             ],
             [
              0.8888888888888888,
              "#fdca26"
             ],
             [
              1,
              "#f0f921"
             ]
            ],
            "type": "heatmap"
           }
          ],
          "heatmapgl": [
           {
            "colorbar": {
             "outlinewidth": 0,
             "ticks": ""
            },
            "colorscale": [
             [
              0,
              "#0d0887"
             ],
             [
              0.1111111111111111,
              "#46039f"
             ],
             [
              0.2222222222222222,
              "#7201a8"
             ],
             [
              0.3333333333333333,
              "#9c179e"
             ],
             [
              0.4444444444444444,
              "#bd3786"
             ],
             [
              0.5555555555555556,
              "#d8576b"
             ],
             [
              0.6666666666666666,
              "#ed7953"
             ],
             [
              0.7777777777777778,
              "#fb9f3a"
             ],
             [
              0.8888888888888888,
              "#fdca26"
             ],
             [
              1,
              "#f0f921"
             ]
            ],
            "type": "heatmapgl"
           }
          ],
          "histogram": [
           {
            "marker": {
             "colorbar": {
              "outlinewidth": 0,
              "ticks": ""
             }
            },
            "type": "histogram"
           }
          ],
          "histogram2d": [
           {
            "colorbar": {
             "outlinewidth": 0,
             "ticks": ""
            },
            "colorscale": [
             [
              0,
              "#0d0887"
             ],
             [
              0.1111111111111111,
              "#46039f"
             ],
             [
              0.2222222222222222,
              "#7201a8"
             ],
             [
              0.3333333333333333,
              "#9c179e"
             ],
             [
              0.4444444444444444,
              "#bd3786"
             ],
             [
              0.5555555555555556,
              "#d8576b"
             ],
             [
              0.6666666666666666,
              "#ed7953"
             ],
             [
              0.7777777777777778,
              "#fb9f3a"
             ],
             [
              0.8888888888888888,
              "#fdca26"
             ],
             [
              1,
              "#f0f921"
             ]
            ],
            "type": "histogram2d"
           }
          ],
          "histogram2dcontour": [
           {
            "colorbar": {
             "outlinewidth": 0,
             "ticks": ""
            },
            "colorscale": [
             [
              0,
              "#0d0887"
             ],
             [
              0.1111111111111111,
              "#46039f"
             ],
             [
              0.2222222222222222,
              "#7201a8"
             ],
             [
              0.3333333333333333,
              "#9c179e"
             ],
             [
              0.4444444444444444,
              "#bd3786"
             ],
             [
              0.5555555555555556,
              "#d8576b"
             ],
             [
              0.6666666666666666,
              "#ed7953"
             ],
             [
              0.7777777777777778,
              "#fb9f3a"
             ],
             [
              0.8888888888888888,
              "#fdca26"
             ],
             [
              1,
              "#f0f921"
             ]
            ],
            "type": "histogram2dcontour"
           }
          ],
          "mesh3d": [
           {
            "colorbar": {
             "outlinewidth": 0,
             "ticks": ""
            },
            "type": "mesh3d"
           }
          ],
          "parcoords": [
           {
            "line": {
             "colorbar": {
              "outlinewidth": 0,
              "ticks": ""
             }
            },
            "type": "parcoords"
           }
          ],
          "pie": [
           {
            "automargin": true,
            "type": "pie"
           }
          ],
          "scatter": [
           {
            "marker": {
             "colorbar": {
              "outlinewidth": 0,
              "ticks": ""
             }
            },
            "type": "scatter"
           }
          ],
          "scatter3d": [
           {
            "line": {
             "colorbar": {
              "outlinewidth": 0,
              "ticks": ""
             }
            },
            "marker": {
             "colorbar": {
              "outlinewidth": 0,
              "ticks": ""
             }
            },
            "type": "scatter3d"
           }
          ],
          "scattercarpet": [
           {
            "marker": {
             "colorbar": {
              "outlinewidth": 0,
              "ticks": ""
             }
            },
            "type": "scattercarpet"
           }
          ],
          "scattergeo": [
           {
            "marker": {
             "colorbar": {
              "outlinewidth": 0,
              "ticks": ""
             }
            },
            "type": "scattergeo"
           }
          ],
          "scattergl": [
           {
            "marker": {
             "colorbar": {
              "outlinewidth": 0,
              "ticks": ""
             }
            },
            "type": "scattergl"
           }
          ],
          "scattermapbox": [
           {
            "marker": {
             "colorbar": {
              "outlinewidth": 0,
              "ticks": ""
             }
            },
            "type": "scattermapbox"
           }
          ],
          "scatterpolar": [
           {
            "marker": {
             "colorbar": {
              "outlinewidth": 0,
              "ticks": ""
             }
            },
            "type": "scatterpolar"
           }
          ],
          "scatterpolargl": [
           {
            "marker": {
             "colorbar": {
              "outlinewidth": 0,
              "ticks": ""
             }
            },
            "type": "scatterpolargl"
           }
          ],
          "scatterternary": [
           {
            "marker": {
             "colorbar": {
              "outlinewidth": 0,
              "ticks": ""
             }
            },
            "type": "scatterternary"
           }
          ],
          "surface": [
           {
            "colorbar": {
             "outlinewidth": 0,
             "ticks": ""
            },
            "colorscale": [
             [
              0,
              "#0d0887"
             ],
             [
              0.1111111111111111,
              "#46039f"
             ],
             [
              0.2222222222222222,
              "#7201a8"
             ],
             [
              0.3333333333333333,
              "#9c179e"
             ],
             [
              0.4444444444444444,
              "#bd3786"
             ],
             [
              0.5555555555555556,
              "#d8576b"
             ],
             [
              0.6666666666666666,
              "#ed7953"
             ],
             [
              0.7777777777777778,
              "#fb9f3a"
             ],
             [
              0.8888888888888888,
              "#fdca26"
             ],
             [
              1,
              "#f0f921"
             ]
            ],
            "type": "surface"
           }
          ],
          "table": [
           {
            "cells": {
             "fill": {
              "color": "#EBF0F8"
             },
             "line": {
              "color": "white"
             }
            },
            "header": {
             "fill": {
              "color": "#C8D4E3"
             },
             "line": {
              "color": "white"
             }
            },
            "type": "table"
           }
          ]
         },
         "layout": {
          "annotationdefaults": {
           "arrowcolor": "#2a3f5f",
           "arrowhead": 0,
           "arrowwidth": 1
          },
          "autotypenumbers": "strict",
          "coloraxis": {
           "colorbar": {
            "outlinewidth": 0,
            "ticks": ""
           }
          },
          "colorscale": {
           "diverging": [
            [
             0,
             "#8e0152"
            ],
            [
             0.1,
             "#c51b7d"
            ],
            [
             0.2,
             "#de77ae"
            ],
            [
             0.3,
             "#f1b6da"
            ],
            [
             0.4,
             "#fde0ef"
            ],
            [
             0.5,
             "#f7f7f7"
            ],
            [
             0.6,
             "#e6f5d0"
            ],
            [
             0.7,
             "#b8e186"
            ],
            [
             0.8,
             "#7fbc41"
            ],
            [
             0.9,
             "#4d9221"
            ],
            [
             1,
             "#276419"
            ]
           ],
           "sequential": [
            [
             0,
             "#0d0887"
            ],
            [
             0.1111111111111111,
             "#46039f"
            ],
            [
             0.2222222222222222,
             "#7201a8"
            ],
            [
             0.3333333333333333,
             "#9c179e"
            ],
            [
             0.4444444444444444,
             "#bd3786"
            ],
            [
             0.5555555555555556,
             "#d8576b"
            ],
            [
             0.6666666666666666,
             "#ed7953"
            ],
            [
             0.7777777777777778,
             "#fb9f3a"
            ],
            [
             0.8888888888888888,
             "#fdca26"
            ],
            [
             1,
             "#f0f921"
            ]
           ],
           "sequentialminus": [
            [
             0,
             "#0d0887"
            ],
            [
             0.1111111111111111,
             "#46039f"
            ],
            [
             0.2222222222222222,
             "#7201a8"
            ],
            [
             0.3333333333333333,
             "#9c179e"
            ],
            [
             0.4444444444444444,
             "#bd3786"
            ],
            [
             0.5555555555555556,
             "#d8576b"
            ],
            [
             0.6666666666666666,
             "#ed7953"
            ],
            [
             0.7777777777777778,
             "#fb9f3a"
            ],
            [
             0.8888888888888888,
             "#fdca26"
            ],
            [
             1,
             "#f0f921"
            ]
           ]
          },
          "colorway": [
           "#636efa",
           "#EF553B",
           "#00cc96",
           "#ab63fa",
           "#FFA15A",
           "#19d3f3",
           "#FF6692",
           "#B6E880",
           "#FF97FF",
           "#FECB52"
          ],
          "font": {
           "color": "#2a3f5f"
          },
          "geo": {
           "bgcolor": "white",
           "lakecolor": "white",
           "landcolor": "#E5ECF6",
           "showlakes": true,
           "showland": true,
           "subunitcolor": "white"
          },
          "hoverlabel": {
           "align": "left"
          },
          "hovermode": "closest",
          "mapbox": {
           "style": "light"
          },
          "paper_bgcolor": "white",
          "plot_bgcolor": "#E5ECF6",
          "polar": {
           "angularaxis": {
            "gridcolor": "white",
            "linecolor": "white",
            "ticks": ""
           },
           "bgcolor": "#E5ECF6",
           "radialaxis": {
            "gridcolor": "white",
            "linecolor": "white",
            "ticks": ""
           }
          },
          "scene": {
           "xaxis": {
            "backgroundcolor": "#E5ECF6",
            "gridcolor": "white",
            "gridwidth": 2,
            "linecolor": "white",
            "showbackground": true,
            "ticks": "",
            "zerolinecolor": "white"
           },
           "yaxis": {
            "backgroundcolor": "#E5ECF6",
            "gridcolor": "white",
            "gridwidth": 2,
            "linecolor": "white",
            "showbackground": true,
            "ticks": "",
            "zerolinecolor": "white"
           },
           "zaxis": {
            "backgroundcolor": "#E5ECF6",
            "gridcolor": "white",
            "gridwidth": 2,
            "linecolor": "white",
            "showbackground": true,
            "ticks": "",
            "zerolinecolor": "white"
           }
          },
          "shapedefaults": {
           "line": {
            "color": "#2a3f5f"
           }
          },
          "ternary": {
           "aaxis": {
            "gridcolor": "white",
            "linecolor": "white",
            "ticks": ""
           },
           "baxis": {
            "gridcolor": "white",
            "linecolor": "white",
            "ticks": ""
           },
           "bgcolor": "#E5ECF6",
           "caxis": {
            "gridcolor": "white",
            "linecolor": "white",
            "ticks": ""
           }
          },
          "title": {
           "x": 0.05
          },
          "xaxis": {
           "automargin": true,
           "gridcolor": "white",
           "linecolor": "white",
           "ticks": "",
           "title": {
            "standoff": 15
           },
           "zerolinecolor": "white",
           "zerolinewidth": 2
          },
          "yaxis": {
           "automargin": true,
           "gridcolor": "white",
           "linecolor": "white",
           "ticks": "",
           "title": {
            "standoff": 15
           },
           "zerolinecolor": "white",
           "zerolinewidth": 2
          }
         }
        },
        "xaxis": {
         "anchor": "y",
         "autorange": true,
         "domain": [
          0,
          1
         ],
         "range": [
          -0.5,
          162.5
         ],
         "title": {
          "text": "site"
         },
         "type": "category"
        },
        "yaxis": {
         "anchor": "x",
         "autorange": true,
         "domain": [
          0,
          1
         ],
         "range": [
          0,
          0.4885558759913478
         ],
         "title": {
          "text": "polarity_women"
         },
         "type": "linear"
        }
       }
      },
      "image/png": "[encoded data removed]"
     },
     "metadata": {},
     "output_type": "display_data"
    }
   ],
   "source": [
    "import plotly.express as px\n",
    "fig = px.bar(polarity_comparison.sort_values(by = 'polarity_women', ascending = False), x = 'site', y ='polarity_women')\n",
    "fig.show()"
   ]
  },
  {
   "cell_type": "code",
   "execution_count": 71,
   "metadata": {},
   "outputs": [
    {
     "data": {
      "application/vnd.plotly.v1+json": {
       "config": {
        "plotlyServerURL": "https://plot.ly"
       },
       "data": [
        {
         "alignmentgroup": "True",
         "hovertemplate": "site=%{x}<br>difference=%{y}<extra></extra>",
         "legendgroup": "",
         "marker": {
          "color": "#636efa"
         },
         "name": "",
         "offsetgroup": "",
         "orientation": "v",
         "showlegend": false,
         "textposition": "auto",
         "type": "bar",
         "x": [
          "vogue.in",
          "prokerala.com",
          "mensxp.com",
          "deccanchronicle.com",
          "scoopwhoop.com",
          "indianexpress.com",
          "thequint.com",
          "timesofindia.com",
          "thebetterindia.com",
          "news18.com",
          "swarajyamag.com",
          "rediff.com",
          "indiatimes.com",
          "greaterkashmir.com",
          "livemint.com",
          "thehindu.com",
          "hindustantimes.com",
          "india.com",
          "timesnownews.com",
          "indiatoday.in",
          "ndtv.com",
          "oneindia.com",
          "outlookindia.com"
         ],
         "xaxis": "x",
         "y": [
          -0.02609046445497637,
          -0.01970282352941169,
          -0.01298561290322614,
          0.005643263157894707,
          0.01339067986798631,
          0.020806514563106393,
          0.02129987155963295,
          0.025906333333333198,
          0.027989774193548034,
          0.03304900647249148,
          0.039386516129032156,
          0.056032355704697695,
          0.05661632258064489,
          0.06098574193548356,
          0.0814867419354838,
          0.09320829032258043,
          0.11073232258064503,
          0.1108666293706293,
          0.1175790645161287,
          0.1326660322580644,
          0.1331519032258063,
          0.14311515328467136,
          0.14608416129032223
         ],
         "yaxis": "y"
        }
       ],
       "layout": {
        "autosize": true,
        "barmode": "relative",
        "legend": {
         "tracegroupgap": 0
        },
        "margin": {
         "t": 60
        },
        "template": {
         "data": {
          "bar": [
           {
            "error_x": {
             "color": "#2a3f5f"
            },
            "error_y": {
             "color": "#2a3f5f"
            },
            "marker": {
             "line": {
              "color": "#E5ECF6",
              "width": 0.5
             }
            },
            "type": "bar"
           }
          ],
          "barpolar": [
           {
            "marker": {
             "line": {
              "color": "#E5ECF6",
              "width": 0.5
             }
            },
            "type": "barpolar"
           }
          ],
          "carpet": [
           {
            "aaxis": {
             "endlinecolor": "#2a3f5f",
             "gridcolor": "white",
             "linecolor": "white",
             "minorgridcolor": "white",
             "startlinecolor": "#2a3f5f"
            },
            "baxis": {
             "endlinecolor": "#2a3f5f",
             "gridcolor": "white",
             "linecolor": "white",
             "minorgridcolor": "white",
             "startlinecolor": "#2a3f5f"
            },
            "type": "carpet"
           }
          ],
          "choropleth": [
           {
            "colorbar": {
             "outlinewidth": 0,
             "ticks": ""
            },
            "type": "choropleth"
           }
          ],
          "contour": [
           {
            "colorbar": {
             "outlinewidth": 0,
             "ticks": ""
            },
            "colorscale": [
             [
              0,
              "#0d0887"
             ],
             [
              0.1111111111111111,
              "#46039f"
             ],
             [
              0.2222222222222222,
              "#7201a8"
             ],
             [
              0.3333333333333333,
              "#9c179e"
             ],
             [
              0.4444444444444444,
              "#bd3786"
             ],
             [
              0.5555555555555556,
              "#d8576b"
             ],
             [
              0.6666666666666666,
              "#ed7953"
             ],
             [
              0.7777777777777778,
              "#fb9f3a"
             ],
             [
              0.8888888888888888,
              "#fdca26"
             ],
             [
              1,
              "#f0f921"
             ]
            ],
            "type": "contour"
           }
          ],
          "contourcarpet": [
           {
            "colorbar": {
             "outlinewidth": 0,
             "ticks": ""
            },
            "type": "contourcarpet"
           }
          ],
          "heatmap": [
           {
            "colorbar": {
             "outlinewidth": 0,
             "ticks": ""
            },
            "colorscale": [
             [
              0,
              "#0d0887"
             ],
             [
              0.1111111111111111,
              "#46039f"
             ],
             [
              0.2222222222222222,
              "#7201a8"
             ],
             [
              0.3333333333333333,
              "#9c179e"
             ],
             [
              0.4444444444444444,
              "#bd3786"
             ],
             [
              0.5555555555555556,
              "#d8576b"
             ],
             [
              0.6666666666666666,
              "#ed7953"
             ],
             [
              0.7777777777777778,
              "#fb9f3a"
             ],
             [
              0.8888888888888888,
              "#fdca26"
             ],
             [
              1,
              "#f0f921"
             ]
            ],
            "type": "heatmap"
           }
          ],
          "heatmapgl": [
           {
            "colorbar": {
             "outlinewidth": 0,
             "ticks": ""
            },
            "colorscale": [
             [
              0,
              "#0d0887"
             ],
             [
              0.1111111111111111,
              "#46039f"
             ],
             [
              0.2222222222222222,
              "#7201a8"
             ],
             [
              0.3333333333333333,
              "#9c179e"
             ],
             [
              0.4444444444444444,
              "#bd3786"
             ],
             [
              0.5555555555555556,
              "#d8576b"
             ],
             [
              0.6666666666666666,
              "#ed7953"
             ],
             [
              0.7777777777777778,
              "#fb9f3a"
             ],
             [
              0.8888888888888888,
              "#fdca26"
             ],
             [
              1,
              "#f0f921"
             ]
            ],
            "type": "heatmapgl"
           }
          ],
          "histogram": [
           {
            "marker": {
             "colorbar": {
              "outlinewidth": 0,
              "ticks": ""
             }
            },
            "type": "histogram"
           }
          ],
          "histogram2d": [
           {
            "colorbar": {
             "outlinewidth": 0,
             "ticks": ""
            },
            "colorscale": [
             [
              0,
              "#0d0887"
             ],
             [
              0.1111111111111111,
              "#46039f"
             ],
             [
              0.2222222222222222,
              "#7201a8"
             ],
             [
              0.3333333333333333,
              "#9c179e"
             ],
             [
              0.4444444444444444,
              "#bd3786"
             ],
             [
              0.5555555555555556,
              "#d8576b"
             ],
             [
              0.6666666666666666,
              "#ed7953"
             ],
             [
              0.7777777777777778,
              "#fb9f3a"
             ],
             [
              0.8888888888888888,
              "#fdca26"
             ],
             [
              1,
              "#f0f921"
             ]
            ],
            "type": "histogram2d"
           }
          ],
          "histogram2dcontour": [
           {
            "colorbar": {
             "outlinewidth": 0,
             "ticks": ""
            },
            "colorscale": [
             [
              0,
              "#0d0887"
             ],
             [
              0.1111111111111111,
              "#46039f"
             ],
             [
              0.2222222222222222,
              "#7201a8"
             ],
             [
              0.3333333333333333,
              "#9c179e"
             ],
             [
              0.4444444444444444,
              "#bd3786"
             ],
             [
              0.5555555555555556,
              "#d8576b"
             ],
             [
              0.6666666666666666,
              "#ed7953"
             ],
             [
              0.7777777777777778,
              "#fb9f3a"
             ],
             [
              0.8888888888888888,
              "#fdca26"
             ],
             [
              1,
              "#f0f921"
             ]
            ],
            "type": "histogram2dcontour"
           }
          ],
          "mesh3d": [
           {
            "colorbar": {
             "outlinewidth": 0,
             "ticks": ""
            },
            "type": "mesh3d"
           }
          ],
          "parcoords": [
           {
            "line": {
             "colorbar": {
              "outlinewidth": 0,
              "ticks": ""
             }
            },
            "type": "parcoords"
           }
          ],
          "pie": [
           {
            "automargin": true,
            "type": "pie"
           }
          ],
          "scatter": [
           {
            "marker": {
             "colorbar": {
              "outlinewidth": 0,
              "ticks": ""
             }
            },
            "type": "scatter"
           }
          ],
          "scatter3d": [
           {
            "line": {
             "colorbar": {
              "outlinewidth": 0,
              "ticks": ""
             }
            },
            "marker": {
             "colorbar": {
              "outlinewidth": 0,
              "ticks": ""
             }
            },
            "type": "scatter3d"
           }
          ],
          "scattercarpet": [
           {
            "marker": {
             "colorbar": {
              "outlinewidth": 0,
              "ticks": ""
             }
            },
            "type": "scattercarpet"
           }
          ],
          "scattergeo": [
           {
            "marker": {
             "colorbar": {
              "outlinewidth": 0,
              "ticks": ""
             }
            },
            "type": "scattergeo"
           }
          ],
          "scattergl": [
           {
            "marker": {
             "colorbar": {
              "outlinewidth": 0,
              "ticks": ""
             }
            },
            "type": "scattergl"
           }
          ],
          "scattermapbox": [
           {
            "marker": {
             "colorbar": {
              "outlinewidth": 0,
              "ticks": ""
             }
            },
            "type": "scattermapbox"
           }
          ],
          "scatterpolar": [
           {
            "marker": {
             "colorbar": {
              "outlinewidth": 0,
              "ticks": ""
             }
            },
            "type": "scatterpolar"
           }
          ],
          "scatterpolargl": [
           {
            "marker": {
             "colorbar": {
              "outlinewidth": 0,
              "ticks": ""
             }
            },
            "type": "scatterpolargl"
           }
          ],
          "scatterternary": [
           {
            "marker": {
             "colorbar": {
              "outlinewidth": 0,
              "ticks": ""
             }
            },
            "type": "scatterternary"
           }
          ],
          "surface": [
           {
            "colorbar": {
             "outlinewidth": 0,
             "ticks": ""
            },
            "colorscale": [
             [
              0,
              "#0d0887"
             ],
             [
              0.1111111111111111,
              "#46039f"
             ],
             [
              0.2222222222222222,
              "#7201a8"
             ],
             [
              0.3333333333333333,
              "#9c179e"
             ],
             [
              0.4444444444444444,
              "#bd3786"
             ],
             [
              0.5555555555555556,
              "#d8576b"
             ],
             [
              0.6666666666666666,
              "#ed7953"
             ],
             [
              0.7777777777777778,
              "#fb9f3a"
             ],
             [
              0.8888888888888888,
              "#fdca26"
             ],
             [
              1,
              "#f0f921"
             ]
            ],
            "type": "surface"
           }
          ],
          "table": [
           {
            "cells": {
             "fill": {
              "color": "#EBF0F8"
             },
             "line": {
              "color": "white"
             }
            },
            "header": {
             "fill": {
              "color": "#C8D4E3"
             },
             "line": {
              "color": "white"
             }
            },
            "type": "table"
           }
          ]
         },
         "layout": {
          "annotationdefaults": {
           "arrowcolor": "#2a3f5f",
           "arrowhead": 0,
           "arrowwidth": 1
          },
          "autotypenumbers": "strict",
          "coloraxis": {
           "colorbar": {
            "outlinewidth": 0,
            "ticks": ""
           }
          },
          "colorscale": {
           "diverging": [
            [
             0,
             "#8e0152"
            ],
            [
             0.1,
             "#c51b7d"
            ],
            [
             0.2,
             "#de77ae"
            ],
            [
             0.3,
             "#f1b6da"
            ],
            [
             0.4,
             "#fde0ef"
            ],
            [
             0.5,
             "#f7f7f7"
            ],
            [
             0.6,
             "#e6f5d0"
            ],
            [
             0.7,
             "#b8e186"
            ],
            [
             0.8,
             "#7fbc41"
            ],
            [
             0.9,
             "#4d9221"
            ],
            [
             1,
             "#276419"
            ]
           ],
           "sequential": [
            [
             0,
             "#0d0887"
            ],
            [
             0.1111111111111111,
             "#46039f"
            ],
            [
             0.2222222222222222,
             "#7201a8"
            ],
            [
             0.3333333333333333,
             "#9c179e"
            ],
            [
             0.4444444444444444,
             "#bd3786"
            ],
            [
             0.5555555555555556,
             "#d8576b"
            ],
            [
             0.6666666666666666,
             "#ed7953"
            ],
            [
             0.7777777777777778,
             "#fb9f3a"
            ],
            [
             0.8888888888888888,
             "#fdca26"
            ],
            [
             1,
             "#f0f921"
            ]
           ],
           "sequentialminus": [
            [
             0,
             "#0d0887"
            ],
            [
             0.1111111111111111,
             "#46039f"
            ],
            [
             0.2222222222222222,
             "#7201a8"
            ],
            [
             0.3333333333333333,
             "#9c179e"
            ],
            [
             0.4444444444444444,
             "#bd3786"
            ],
            [
             0.5555555555555556,
             "#d8576b"
            ],
            [
             0.6666666666666666,
             "#ed7953"
            ],
            [
             0.7777777777777778,
             "#fb9f3a"
            ],
            [
             0.8888888888888888,
             "#fdca26"
            ],
            [
             1,
             "#f0f921"
            ]
           ]
          },
          "colorway": [
           "#636efa",
           "#EF553B",
           "#00cc96",
           "#ab63fa",
           "#FFA15A",
           "#19d3f3",
           "#FF6692",
           "#B6E880",
           "#FF97FF",
           "#FECB52"
          ],
          "font": {
           "color": "#2a3f5f"
          },
          "geo": {
           "bgcolor": "white",
           "lakecolor": "white",
           "landcolor": "#E5ECF6",
           "showlakes": true,
           "showland": true,
           "subunitcolor": "white"
          },
          "hoverlabel": {
           "align": "left"
          },
          "hovermode": "closest",
          "mapbox": {
           "style": "light"
          },
          "paper_bgcolor": "white",
          "plot_bgcolor": "#E5ECF6",
          "polar": {
           "angularaxis": {
            "gridcolor": "white",
            "linecolor": "white",
            "ticks": ""
           },
           "bgcolor": "#E5ECF6",
           "radialaxis": {
            "gridcolor": "white",
            "linecolor": "white",
            "ticks": ""
           }
          },
          "scene": {
           "xaxis": {
            "backgroundcolor": "#E5ECF6",
            "gridcolor": "white",
            "gridwidth": 2,
            "linecolor": "white",
            "showbackground": true,
            "ticks": "",
            "zerolinecolor": "white"
           },
           "yaxis": {
            "backgroundcolor": "#E5ECF6",
            "gridcolor": "white",
            "gridwidth": 2,
            "linecolor": "white",
            "showbackground": true,
            "ticks": "",
            "zerolinecolor": "white"
           },
           "zaxis": {
            "backgroundcolor": "#E5ECF6",
            "gridcolor": "white",
            "gridwidth": 2,
            "linecolor": "white",
            "showbackground": true,
            "ticks": "",
            "zerolinecolor": "white"
           }
          },
          "shapedefaults": {
           "line": {
            "color": "#2a3f5f"
           }
          },
          "ternary": {
           "aaxis": {
            "gridcolor": "white",
            "linecolor": "white",
            "ticks": ""
           },
           "baxis": {
            "gridcolor": "white",
            "linecolor": "white",
            "ticks": ""
           },
           "bgcolor": "#E5ECF6",
           "caxis": {
            "gridcolor": "white",
            "linecolor": "white",
            "ticks": ""
           }
          },
          "title": {
           "x": 0.05
          },
          "xaxis": {
           "automargin": true,
           "gridcolor": "white",
           "linecolor": "white",
           "ticks": "",
           "title": {
            "standoff": 15
           },
           "zerolinecolor": "white",
           "zerolinewidth": 2
          },
          "yaxis": {
           "automargin": true,
           "gridcolor": "white",
           "linecolor": "white",
           "ticks": "",
           "title": {
            "standoff": 15
           },
           "zerolinecolor": "white",
           "zerolinewidth": 2
          }
         }
        },
        "xaxis": {
         "anchor": "y",
         "autorange": true,
         "domain": [
          0,
          1
         ],
         "range": [
          -0.5,
          22.5
         ],
         "title": {
          "text": "site"
         },
         "type": "category"
        },
        "yaxis": {
         "anchor": "x",
         "autorange": true,
         "domain": [
          0,
          1
         ],
         "range": [
          -0.03565572144082629,
          0.15564941827617215
         ],
         "title": {
          "text": "difference"
         },
         "type": "linear"
        }
       }
      },
      "image/png": "[encoded data removed]"
     },
     "metadata": {},
     "output_type": "display_data"
    }
   ],
   "source": [
    "import plotly.express as px\n",
    "df = polarity_comparison[polarity_comparison['country_of_pub']=='India']\n",
    "df = df.sort_values(by = 'difference', ascending = True)\n",
    "fig = px.bar(df, x = 'site', y ='difference')\n",
    "fig.show()"
   ]
  },
  {
   "cell_type": "code",
   "execution_count": 75,
   "metadata": {},
   "outputs": [
    {
     "data": {
      "application/vnd.plotly.v1+json": {
       "config": {
        "plotlyServerURL": "https://plot.ly"
       },
       "data": [
        {
         "alignmentgroup": "True",
         "hovertemplate": "site=%{x}<br>difference=%{y}<extra></extra>",
         "legendgroup": "",
         "marker": {
          "color": "#636efa"
         },
         "name": "",
         "offsetgroup": "",
         "orientation": "v",
         "showlegend": false,
         "textposition": "auto",
         "type": "bar",
         "x": [
          "digitalspy.com",
          "givemesport.com",
          "thisismoney.co.uk",
          "express.co.uk",
          "timeout.com",
          "theladbible.com",
          "huffingtonpost.co.uk",
          "thesun.co.uk",
          "dailystar.co.uk",
          "makeuseof.com",
          "thetimes.co.uk",
          "nature.com",
          "unilad.co.uk",
          "which.co.uk",
          "skysports.com",
          "metro.co.uk",
          "autoexpress.co.uk",
          "telegraph.co.uk",
          "cnn.com",
          "theguardian.com",
          "espn.co.uk",
          "ft.com",
          "independent.co.uk",
          "dailymail.co.uk",
          "standard.co.uk",
          "ibtimes.co.uk",
          "plymouthherald.co.uk",
          "manchestereveningnews.co.uk",
          "chroniclelive.co.uk",
          "edition.cnn.com",
          "telegraphindia.com",
          "dailyrecord.co.uk",
          "news.sky.com",
          "walesonline.co.uk",
          "liverpoolecho.co.uk",
          "mirror.co.uk",
          "bbc.com",
          "bbc.co.uk",
          "birminghammail.co.uk"
         ],
         "xaxis": "x",
         "y": [
          -0.1666054520547945,
          -0.09530484210526358,
          -0.07839833333333343,
          -0.05376141516245503,
          -0.04130737216828506,
          -0.03023702341137144,
          -0.026732487394957982,
          -0.0189891773049648,
          -0.007451966442953428,
          0.007307486122124784,
          0.010207290322580553,
          0.011620981342890357,
          0.011924741935483846,
          0.014024020408163085,
          0.017579032258064398,
          0.020460482200647112,
          0.022286063973063847,
          0.02520493548387087,
          0.026103943694741616,
          0.026743677419354628,
          0.03105826865671643,
          0.03538841935483844,
          0.0425755912408759,
          0.04580709677419337,
          0.04951337931034505,
          0.0514002580645157,
          0.06945056521739118,
          0.07338178947368446,
          0.07751058064516125,
          0.09167999999999976,
          0.09722916129032233,
          0.10160708219178055,
          0.11683596774193516,
          0.13466026530612227,
          0.13567911111111114,
          0.1378162264808358,
          0.14035869528405728,
          0.14073390909090905,
          0.15022435064935086
         ],
         "yaxis": "y"
        }
       ],
       "layout": {
        "autosize": true,
        "barmode": "relative",
        "legend": {
         "tracegroupgap": 0
        },
        "margin": {
         "t": 60
        },
        "template": {
         "data": {
          "bar": [
           {
            "error_x": {
             "color": "#2a3f5f"
            },
            "error_y": {
             "color": "#2a3f5f"
            },
            "marker": {
             "line": {
              "color": "#E5ECF6",
              "width": 0.5
             }
            },
            "type": "bar"
           }
          ],
          "barpolar": [
           {
            "marker": {
             "line": {
              "color": "#E5ECF6",
              "width": 0.5
             }
            },
            "type": "barpolar"
           }
          ],
          "carpet": [
           {
            "aaxis": {
             "endlinecolor": "#2a3f5f",
             "gridcolor": "white",
             "linecolor": "white",
             "minorgridcolor": "white",
             "startlinecolor": "#2a3f5f"
            },
            "baxis": {
             "endlinecolor": "#2a3f5f",
             "gridcolor": "white",
             "linecolor": "white",
             "minorgridcolor": "white",
             "startlinecolor": "#2a3f5f"
            },
            "type": "carpet"
           }
          ],
          "choropleth": [
           {
            "colorbar": {
             "outlinewidth": 0,
             "ticks": ""
            },
            "type": "choropleth"
           }
          ],
          "contour": [
           {
            "colorbar": {
             "outlinewidth": 0,
             "ticks": ""
            },
            "colorscale": [
             [
              0,
              "#0d0887"
             ],
             [
              0.1111111111111111,
              "#46039f"
             ],
             [
              0.2222222222222222,
              "#7201a8"
             ],
             [
              0.3333333333333333,
              "#9c179e"
             ],
             [
              0.4444444444444444,
              "#bd3786"
             ],
             [
              0.5555555555555556,
              "#d8576b"
             ],
             [
              0.6666666666666666,
              "#ed7953"
             ],
             [
              0.7777777777777778,
              "#fb9f3a"
             ],
             [
              0.8888888888888888,
              "#fdca26"
             ],
             [
              1,
              "#f0f921"
             ]
            ],
            "type": "contour"
           }
          ],
          "contourcarpet": [
           {
            "colorbar": {
             "outlinewidth": 0,
             "ticks": ""
            },
            "type": "contourcarpet"
           }
          ],
          "heatmap": [
           {
            "colorbar": {
             "outlinewidth": 0,
             "ticks": ""
            },
            "colorscale": [
             [
              0,
              "#0d0887"
             ],
             [
              0.1111111111111111,
              "#46039f"
             ],
             [
              0.2222222222222222,
              "#7201a8"
             ],
             [
              0.3333333333333333,
              "#9c179e"
             ],
             [
              0.4444444444444444,
              "#bd3786"
             ],
             [
              0.5555555555555556,
              "#d8576b"
             ],
             [
              0.6666666666666666,
              "#ed7953"
             ],
             [
              0.7777777777777778,
              "#fb9f3a"
             ],
             [
              0.8888888888888888,
              "#fdca26"
             ],
             [
              1,
              "#f0f921"
             ]
            ],
            "type": "heatmap"
           }
          ],
          "heatmapgl": [
           {
            "colorbar": {
             "outlinewidth": 0,
             "ticks": ""
            },
            "colorscale": [
             [
              0,
              "#0d0887"
             ],
             [
              0.1111111111111111,
              "#46039f"
             ],
             [
              0.2222222222222222,
              "#7201a8"
             ],
             [
              0.3333333333333333,
              "#9c179e"
             ],
             [
              0.4444444444444444,
              "#bd3786"
             ],
             [
              0.5555555555555556,
              "#d8576b"
             ],
             [
              0.6666666666666666,
              "#ed7953"
             ],
             [
              0.7777777777777778,
              "#fb9f3a"
             ],
             [
              0.8888888888888888,
              "#fdca26"
             ],
             [
              1,
              "#f0f921"
             ]
            ],
            "type": "heatmapgl"
           }
          ],
          "histogram": [
           {
            "marker": {
             "colorbar": {
              "outlinewidth": 0,
              "ticks": ""
             }
            },
            "type": "histogram"
           }
          ],
          "histogram2d": [
           {
            "colorbar": {
             "outlinewidth": 0,
             "ticks": ""
            },
            "colorscale": [
             [
              0,
              "#0d0887"
             ],
             [
              0.1111111111111111,
              "#46039f"
             ],
             [
              0.2222222222222222,
              "#7201a8"
             ],
             [
              0.3333333333333333,
              "#9c179e"
             ],
             [
              0.4444444444444444,
              "#bd3786"
             ],
             [
              0.5555555555555556,
              "#d8576b"
             ],
             [
              0.6666666666666666,
              "#ed7953"
             ],
             [
              0.7777777777777778,
              "#fb9f3a"
             ],
             [
              0.8888888888888888,
              "#fdca26"
             ],
             [
              1,
              "#f0f921"
             ]
            ],
            "type": "histogram2d"
           }
          ],
          "histogram2dcontour": [
           {
            "colorbar": {
             "outlinewidth": 0,
             "ticks": ""
            },
            "colorscale": [
             [
              0,
              "#0d0887"
             ],
             [
              0.1111111111111111,
              "#46039f"
             ],
             [
              0.2222222222222222,
              "#7201a8"
             ],
             [
              0.3333333333333333,
              "#9c179e"
             ],
             [
              0.4444444444444444,
              "#bd3786"
             ],
             [
              0.5555555555555556,
              "#d8576b"
             ],
             [
              0.6666666666666666,
              "#ed7953"
             ],
             [
              0.7777777777777778,
              "#fb9f3a"
             ],
             [
              0.8888888888888888,
              "#fdca26"
             ],
             [
              1,
              "#f0f921"
             ]
            ],
            "type": "histogram2dcontour"
           }
          ],
          "mesh3d": [
           {
            "colorbar": {
             "outlinewidth": 0,
             "ticks": ""
            },
            "type": "mesh3d"
           }
          ],
          "parcoords": [
           {
            "line": {
             "colorbar": {
              "outlinewidth": 0,
              "ticks": ""
             }
            },
            "type": "parcoords"
           }
          ],
          "pie": [
           {
            "automargin": true,
            "type": "pie"
           }
          ],
          "scatter": [
           {
            "marker": {
             "colorbar": {
              "outlinewidth": 0,
              "ticks": ""
             }
            },
            "type": "scatter"
           }
          ],
          "scatter3d": [
           {
            "line": {
             "colorbar": {
              "outlinewidth": 0,
              "ticks": ""
             }
            },
            "marker": {
             "colorbar": {
              "outlinewidth": 0,
              "ticks": ""
             }
            },
            "type": "scatter3d"
           }
          ],
          "scattercarpet": [
           {
            "marker": {
             "colorbar": {
              "outlinewidth": 0,
              "ticks": ""
             }
            },
            "type": "scattercarpet"
           }
          ],
          "scattergeo": [
           {
            "marker": {
             "colorbar": {
              "outlinewidth": 0,
              "ticks": ""
             }
            },
            "type": "scattergeo"
           }
          ],
          "scattergl": [
           {
            "marker": {
             "colorbar": {
              "outlinewidth": 0,
              "ticks": ""
             }
            },
            "type": "scattergl"
           }
          ],
          "scattermapbox": [
           {
            "marker": {
             "colorbar": {
              "outlinewidth": 0,
              "ticks": ""
             }
            },
            "type": "scattermapbox"
           }
          ],
          "scatterpolar": [
           {
            "marker": {
             "colorbar": {
              "outlinewidth": 0,
              "ticks": ""
             }
            },
            "type": "scatterpolar"
           }
          ],
          "scatterpolargl": [
           {
            "marker": {
             "colorbar": {
              "outlinewidth": 0,
              "ticks": ""
             }
            },
            "type": "scatterpolargl"
           }
          ],
          "scatterternary": [
           {
            "marker": {
             "colorbar": {
              "outlinewidth": 0,
              "ticks": ""
             }
            },
            "type": "scatterternary"
           }
          ],
          "surface": [
           {
            "colorbar": {
             "outlinewidth": 0,
             "ticks": ""
            },
            "colorscale": [
             [
              0,
              "#0d0887"
             ],
             [
              0.1111111111111111,
              "#46039f"
             ],
             [
              0.2222222222222222,
              "#7201a8"
             ],
             [
              0.3333333333333333,
              "#9c179e"
             ],
             [
              0.4444444444444444,
              "#bd3786"
             ],
             [
              0.5555555555555556,
              "#d8576b"
             ],
             [
              0.6666666666666666,
              "#ed7953"
             ],
             [
              0.7777777777777778,
              "#fb9f3a"
             ],
             [
              0.8888888888888888,
              "#fdca26"
             ],
             [
              1,
              "#f0f921"
             ]
            ],
            "type": "surface"
           }
          ],
          "table": [
           {
            "cells": {
             "fill": {
              "color": "#EBF0F8"
             },
             "line": {
              "color": "white"
             }
            },
            "header": {
             "fill": {
              "color": "#C8D4E3"
             },
             "line": {
              "color": "white"
             }
            },
            "type": "table"
           }
          ]
         },
         "layout": {
          "annotationdefaults": {
           "arrowcolor": "#2a3f5f",
           "arrowhead": 0,
           "arrowwidth": 1
          },
          "autotypenumbers": "strict",
          "coloraxis": {
           "colorbar": {
            "outlinewidth": 0,
            "ticks": ""
           }
          },
          "colorscale": {
           "diverging": [
            [
             0,
             "#8e0152"
            ],
            [
             0.1,
             "#c51b7d"
            ],
            [
             0.2,
             "#de77ae"
            ],
            [
             0.3,
             "#f1b6da"
            ],
            [
             0.4,
             "#fde0ef"
            ],
            [
             0.5,
             "#f7f7f7"
            ],
            [
             0.6,
             "#e6f5d0"
            ],
            [
             0.7,
             "#b8e186"
            ],
            [
             0.8,
             "#7fbc41"
            ],
            [
             0.9,
             "#4d9221"
            ],
            [
             1,
             "#276419"
            ]
           ],
           "sequential": [
            [
             0,
             "#0d0887"
            ],
            [
             0.1111111111111111,
             "#46039f"
            ],
            [
             0.2222222222222222,
             "#7201a8"
            ],
            [
             0.3333333333333333,
             "#9c179e"
            ],
            [
             0.4444444444444444,
             "#bd3786"
            ],
            [
             0.5555555555555556,
             "#d8576b"
            ],
            [
             0.6666666666666666,
             "#ed7953"
            ],
            [
             0.7777777777777778,
             "#fb9f3a"
            ],
            [
             0.8888888888888888,
             "#fdca26"
            ],
            [
             1,
             "#f0f921"
            ]
           ],
           "sequentialminus": [
            [
             0,
             "#0d0887"
            ],
            [
             0.1111111111111111,
             "#46039f"
            ],
            [
             0.2222222222222222,
             "#7201a8"
            ],
            [
             0.3333333333333333,
             "#9c179e"
            ],
            [
             0.4444444444444444,
             "#bd3786"
            ],
            [
             0.5555555555555556,
             "#d8576b"
            ],
            [
             0.6666666666666666,
             "#ed7953"
            ],
            [
             0.7777777777777778,
             "#fb9f3a"
            ],
            [
             0.8888888888888888,
             "#fdca26"
            ],
            [
             1,
             "#f0f921"
            ]
           ]
          },
          "colorway": [
           "#636efa",
           "#EF553B",
           "#00cc96",
           "#ab63fa",
           "#FFA15A",
           "#19d3f3",
           "#FF6692",
           "#B6E880",
           "#FF97FF",
           "#FECB52"
          ],
          "font": {
           "color": "#2a3f5f"
          },
          "geo": {
           "bgcolor": "white",
           "lakecolor": "white",
           "landcolor": "#E5ECF6",
           "showlakes": true,
           "showland": true,
           "subunitcolor": "white"
          },
          "hoverlabel": {
           "align": "left"
          },
          "hovermode": "closest",
          "mapbox": {
           "style": "light"
          },
          "paper_bgcolor": "white",
          "plot_bgcolor": "#E5ECF6",
          "polar": {
           "angularaxis": {
            "gridcolor": "white",
            "linecolor": "white",
            "ticks": ""
           },
           "bgcolor": "#E5ECF6",
           "radialaxis": {
            "gridcolor": "white",
            "linecolor": "white",
            "ticks": ""
           }
          },
          "scene": {
           "xaxis": {
            "backgroundcolor": "#E5ECF6",
            "gridcolor": "white",
            "gridwidth": 2,
            "linecolor": "white",
            "showbackground": true,
            "ticks": "",
            "zerolinecolor": "white"
           },
           "yaxis": {
            "backgroundcolor": "#E5ECF6",
            "gridcolor": "white",
            "gridwidth": 2,
            "linecolor": "white",
            "showbackground": true,
            "ticks": "",
            "zerolinecolor": "white"
           },
           "zaxis": {
            "backgroundcolor": "#E5ECF6",
            "gridcolor": "white",
            "gridwidth": 2,
            "linecolor": "white",
            "showbackground": true,
            "ticks": "",
            "zerolinecolor": "white"
           }
          },
          "shapedefaults": {
           "line": {
            "color": "#2a3f5f"
           }
          },
          "ternary": {
           "aaxis": {
            "gridcolor": "white",
            "linecolor": "white",
            "ticks": ""
           },
           "baxis": {
            "gridcolor": "white",
            "linecolor": "white",
            "ticks": ""
           },
           "bgcolor": "#E5ECF6",
           "caxis": {
            "gridcolor": "white",
            "linecolor": "white",
            "ticks": ""
           }
          },
          "title": {
           "x": 0.05
          },
          "xaxis": {
           "automargin": true,
           "gridcolor": "white",
           "linecolor": "white",
           "ticks": "",
           "title": {
            "standoff": 15
           },
           "zerolinecolor": "white",
           "zerolinewidth": 2
          },
          "yaxis": {
           "automargin": true,
           "gridcolor": "white",
           "linecolor": "white",
           "ticks": "",
           "title": {
            "standoff": 15
           },
           "zerolinecolor": "white",
           "zerolinewidth": 2
          }
         }
        },
        "xaxis": {
         "anchor": "y",
         "autorange": true,
         "domain": [
          0,
          1
         ],
         "range": [
          -0.5,
          38.5
         ],
         "title": {
          "text": "site"
         },
         "type": "category"
        },
        "yaxis": {
         "anchor": "x",
         "autorange": true,
         "domain": [
          0,
          1
         ],
         "range": [
          -0.18420710776058036,
          0.16782600635513673
         ],
         "title": {
          "text": "difference"
         },
         "type": "linear"
        }
       }
      },
      "image/png": "[encoded data removed]"
     },
     "metadata": {},
     "output_type": "display_data"
    }
   ],
   "source": [
    "import plotly.express as px\n",
    "df = polarity_comparison[polarity_comparison['country_of_pub']=='UK']\n",
    "df = df.sort_values(by = 'difference', ascending = True)\n",
    "fig = px.bar(df, x = 'site', y ='difference')\n",
    "fig.show()"
   ]
  },
  {
   "cell_type": "code",
   "execution_count": 74,
   "metadata": {},
   "outputs": [
    {
     "data": {
      "application/vnd.plotly.v1+json": {
       "config": {
        "plotlyServerURL": "https://plot.ly"
       },
       "data": [
        {
         "alignmentgroup": "True",
         "hovertemplate": "site=%{x}<br>difference=%{y}<extra></extra>",
         "legendgroup": "",
         "marker": {
          "color": "#636efa"
         },
         "name": "",
         "offsetgroup": "",
         "orientation": "v",
         "showlegend": false,
         "textposition": "auto",
         "type": "bar",
         "x": [
          "MyBroadband.co.za",
          "Timeslive.co.za",
          "mg.co.za",
          "dispatchlive.co.za",
          "BusinessTech.co.za",
          "cbn.co.za",
          "heraldlive.co.za",
          "Sowetanlive.co.za",
          "Moneyweb.co.za",
          "Businesslive.co.za",
          "Dailymaverick.co.za",
          "zululandobserver.co.za",
          "lowvelder.co.za",
          "News24.com",
          "Capetownetc.com",
          "Citizen.co.za",
          "Businessinsider.co.za",
          "Enca.com",
          "iol.co.za",
          "Thesouthafrican.com",
          "Ewn.co.za"
         ],
         "xaxis": "x",
         "y": [
          -0.010908590759075909,
          0.00034803225806412375,
          0.003679032258064291,
          0.010975419354838645,
          0.016728903114186816,
          0.02723484416659,
          0.028553081433224603,
          0.030537935483870626,
          0.03844144776119382,
          0.03880309677419336,
          0.04194964516129024,
          0.04425090036900353,
          0.06354408633093506,
          0.06861023076923045,
          0.08649216129032228,
          0.091011709677419,
          0.11212273049645402,
          0.11428529032258034,
          0.12743690322580645,
          0.15330932258064525,
          0.18803354838709635
         ],
         "yaxis": "y"
        }
       ],
       "layout": {
        "autosize": true,
        "barmode": "relative",
        "legend": {
         "tracegroupgap": 0
        },
        "margin": {
         "t": 60
        },
        "template": {
         "data": {
          "bar": [
           {
            "error_x": {
             "color": "#2a3f5f"
            },
            "error_y": {
             "color": "#2a3f5f"
            },
            "marker": {
             "line": {
              "color": "#E5ECF6",
              "width": 0.5
             }
            },
            "type": "bar"
           }
          ],
          "barpolar": [
           {
            "marker": {
             "line": {
              "color": "#E5ECF6",
              "width": 0.5
             }
            },
            "type": "barpolar"
           }
          ],
          "carpet": [
           {
            "aaxis": {
             "endlinecolor": "#2a3f5f",
             "gridcolor": "white",
             "linecolor": "white",
             "minorgridcolor": "white",
             "startlinecolor": "#2a3f5f"
            },
            "baxis": {
             "endlinecolor": "#2a3f5f",
             "gridcolor": "white",
             "linecolor": "white",
             "minorgridcolor": "white",
             "startlinecolor": "#2a3f5f"
            },
            "type": "carpet"
           }
          ],
          "choropleth": [
           {
            "colorbar": {
             "outlinewidth": 0,
             "ticks": ""
            },
            "type": "choropleth"
           }
          ],
          "contour": [
           {
            "colorbar": {
             "outlinewidth": 0,
             "ticks": ""
            },
            "colorscale": [
             [
              0,
              "#0d0887"
             ],
             [
              0.1111111111111111,
              "#46039f"
             ],
             [
              0.2222222222222222,
              "#7201a8"
             ],
             [
              0.3333333333333333,
              "#9c179e"
             ],
             [
              0.4444444444444444,
              "#bd3786"
             ],
             [
              0.5555555555555556,
              "#d8576b"
             ],
             [
              0.6666666666666666,
              "#ed7953"
             ],
             [
              0.7777777777777778,
              "#fb9f3a"
             ],
             [
              0.8888888888888888,
              "#fdca26"
             ],
             [
              1,
              "#f0f921"
             ]
            ],
            "type": "contour"
           }
          ],
          "contourcarpet": [
           {
            "colorbar": {
             "outlinewidth": 0,
             "ticks": ""
            },
            "type": "contourcarpet"
           }
          ],
          "heatmap": [
           {
            "colorbar": {
             "outlinewidth": 0,
             "ticks": ""
            },
            "colorscale": [
             [
              0,
              "#0d0887"
             ],
             [
              0.1111111111111111,
              "#46039f"
             ],
             [
              0.2222222222222222,
              "#7201a8"
             ],
             [
              0.3333333333333333,
              "#9c179e"
             ],
             [
              0.4444444444444444,
              "#bd3786"
             ],
             [
              0.5555555555555556,
              "#d8576b"
             ],
             [
              0.6666666666666666,
              "#ed7953"
             ],
             [
              0.7777777777777778,
              "#fb9f3a"
             ],
             [
              0.8888888888888888,
              "#fdca26"
             ],
             [
              1,
              "#f0f921"
             ]
            ],
            "type": "heatmap"
           }
          ],
          "heatmapgl": [
           {
            "colorbar": {
             "outlinewidth": 0,
             "ticks": ""
            },
            "colorscale": [
             [
              0,
              "#0d0887"
             ],
             [
              0.1111111111111111,
              "#46039f"
             ],
             [
              0.2222222222222222,
              "#7201a8"
             ],
             [
              0.3333333333333333,
              "#9c179e"
             ],
             [
              0.4444444444444444,
              "#bd3786"
             ],
             [
              0.5555555555555556,
              "#d8576b"
             ],
             [
              0.6666666666666666,
              "#ed7953"
             ],
             [
              0.7777777777777778,
              "#fb9f3a"
             ],
             [
              0.8888888888888888,
              "#fdca26"
             ],
             [
              1,
              "#f0f921"
             ]
            ],
            "type": "heatmapgl"
           }
          ],
          "histogram": [
           {
            "marker": {
             "colorbar": {
              "outlinewidth": 0,
              "ticks": ""
             }
            },
            "type": "histogram"
           }
          ],
          "histogram2d": [
           {
            "colorbar": {
             "outlinewidth": 0,
             "ticks": ""
            },
            "colorscale": [
             [
              0,
              "#0d0887"
             ],
             [
              0.1111111111111111,
              "#46039f"
             ],
             [
              0.2222222222222222,
              "#7201a8"
             ],
             [
              0.3333333333333333,
              "#9c179e"
             ],
             [
              0.4444444444444444,
              "#bd3786"
             ],
             [
              0.5555555555555556,
              "#d8576b"
             ],
             [
              0.6666666666666666,
              "#ed7953"
             ],
             [
              0.7777777777777778,
              "#fb9f3a"
             ],
             [
              0.8888888888888888,
              "#fdca26"
             ],
             [
              1,
              "#f0f921"
             ]
            ],
            "type": "histogram2d"
           }
          ],
          "histogram2dcontour": [
           {
            "colorbar": {
             "outlinewidth": 0,
             "ticks": ""
            },
            "colorscale": [
             [
              0,
              "#0d0887"
             ],
             [
              0.1111111111111111,
              "#46039f"
             ],
             [
              0.2222222222222222,
              "#7201a8"
             ],
             [
              0.3333333333333333,
              "#9c179e"
             ],
             [
              0.4444444444444444,
              "#bd3786"
             ],
             [
              0.5555555555555556,
              "#d8576b"
             ],
             [
              0.6666666666666666,
              "#ed7953"
             ],
             [
              0.7777777777777778,
              "#fb9f3a"
             ],
             [
              0.8888888888888888,
              "#fdca26"
             ],
             [
              1,
              "#f0f921"
             ]
            ],
            "type": "histogram2dcontour"
           }
          ],
          "mesh3d": [
           {
            "colorbar": {
             "outlinewidth": 0,
             "ticks": ""
            },
            "type": "mesh3d"
           }
          ],
          "parcoords": [
           {
            "line": {
             "colorbar": {
              "outlinewidth": 0,
              "ticks": ""
             }
            },
            "type": "parcoords"
           }
          ],
          "pie": [
           {
            "automargin": true,
            "type": "pie"
           }
          ],
          "scatter": [
           {
            "marker": {
             "colorbar": {
              "outlinewidth": 0,
              "ticks": ""
             }
            },
            "type": "scatter"
           }
          ],
          "scatter3d": [
           {
            "line": {
             "colorbar": {
              "outlinewidth": 0,
              "ticks": ""
             }
            },
            "marker": {
             "colorbar": {
              "outlinewidth": 0,
              "ticks": ""
             }
            },
            "type": "scatter3d"
           }
          ],
          "scattercarpet": [
           {
            "marker": {
             "colorbar": {
              "outlinewidth": 0,
              "ticks": ""
             }
            },
            "type": "scattercarpet"
           }
          ],
          "scattergeo": [
           {
            "marker": {
             "colorbar": {
              "outlinewidth": 0,
              "ticks": ""
             }
            },
            "type": "scattergeo"
           }
          ],
          "scattergl": [
           {
            "marker": {
             "colorbar": {
              "outlinewidth": 0,
              "ticks": ""
             }
            },
            "type": "scattergl"
           }
          ],
          "scattermapbox": [
           {
            "marker": {
             "colorbar": {
              "outlinewidth": 0,
              "ticks": ""
             }
            },
            "type": "scattermapbox"
           }
          ],
          "scatterpolar": [
           {
            "marker": {
             "colorbar": {
              "outlinewidth": 0,
              "ticks": ""
             }
            },
            "type": "scatterpolar"
           }
          ],
          "scatterpolargl": [
           {
            "marker": {
             "colorbar": {
              "outlinewidth": 0,
              "ticks": ""
             }
            },
            "type": "scatterpolargl"
           }
          ],
          "scatterternary": [
           {
            "marker": {
             "colorbar": {
              "outlinewidth": 0,
              "ticks": ""
             }
            },
            "type": "scatterternary"
           }
          ],
          "surface": [
           {
            "colorbar": {
             "outlinewidth": 0,
             "ticks": ""
            },
            "colorscale": [
             [
              0,
              "#0d0887"
             ],
             [
              0.1111111111111111,
              "#46039f"
             ],
             [
              0.2222222222222222,
              "#7201a8"
             ],
             [
              0.3333333333333333,
              "#9c179e"
             ],
             [
              0.4444444444444444,
              "#bd3786"
             ],
             [
              0.5555555555555556,
              "#d8576b"
             ],
             [
              0.6666666666666666,
              "#ed7953"
             ],
             [
              0.7777777777777778,
              "#fb9f3a"
             ],
             [
              0.8888888888888888,
              "#fdca26"
             ],
             [
              1,
              "#f0f921"
             ]
            ],
            "type": "surface"
           }
          ],
          "table": [
           {
            "cells": {
             "fill": {
              "color": "#EBF0F8"
             },
             "line": {
              "color": "white"
             }
            },
            "header": {
             "fill": {
              "color": "#C8D4E3"
             },
             "line": {
              "color": "white"
             }
            },
            "type": "table"
           }
          ]
         },
         "layout": {
          "annotationdefaults": {
           "arrowcolor": "#2a3f5f",
           "arrowhead": 0,
           "arrowwidth": 1
          },
          "autotypenumbers": "strict",
          "coloraxis": {
           "colorbar": {
            "outlinewidth": 0,
            "ticks": ""
           }
          },
          "colorscale": {
           "diverging": [
            [
             0,
             "#8e0152"
            ],
            [
             0.1,
             "#c51b7d"
            ],
            [
             0.2,
             "#de77ae"
            ],
            [
             0.3,
             "#f1b6da"
            ],
            [
             0.4,
             "#fde0ef"
            ],
            [
             0.5,
             "#f7f7f7"
            ],
            [
             0.6,
             "#e6f5d0"
            ],
            [
             0.7,
             "#b8e186"
            ],
            [
             0.8,
             "#7fbc41"
            ],
            [
             0.9,
             "#4d9221"
            ],
            [
             1,
             "#276419"
            ]
           ],
           "sequential": [
            [
             0,
             "#0d0887"
            ],
            [
             0.1111111111111111,
             "#46039f"
            ],
            [
             0.2222222222222222,
             "#7201a8"
            ],
            [
             0.3333333333333333,
             "#9c179e"
            ],
            [
             0.4444444444444444,
             "#bd3786"
            ],
            [
             0.5555555555555556,
             "#d8576b"
            ],
            [
             0.6666666666666666,
             "#ed7953"
            ],
            [
             0.7777777777777778,
             "#fb9f3a"
            ],
            [
             0.8888888888888888,
             "#fdca26"
            ],
            [
             1,
             "#f0f921"
            ]
           ],
           "sequentialminus": [
            [
             0,
             "#0d0887"
            ],
            [
             0.1111111111111111,
             "#46039f"
            ],
            [
             0.2222222222222222,
             "#7201a8"
            ],
            [
             0.3333333333333333,
             "#9c179e"
            ],
            [
             0.4444444444444444,
             "#bd3786"
            ],
            [
             0.5555555555555556,
             "#d8576b"
            ],
            [
             0.6666666666666666,
             "#ed7953"
            ],
            [
             0.7777777777777778,
             "#fb9f3a"
            ],
            [
             0.8888888888888888,
             "#fdca26"
            ],
            [
             1,
             "#f0f921"
            ]
           ]
          },
          "colorway": [
           "#636efa",
           "#EF553B",
           "#00cc96",
           "#ab63fa",
           "#FFA15A",
           "#19d3f3",
           "#FF6692",
           "#B6E880",
           "#FF97FF",
           "#FECB52"
          ],
          "font": {
           "color": "#2a3f5f"
          },
          "geo": {
           "bgcolor": "white",
           "lakecolor": "white",
           "landcolor": "#E5ECF6",
           "showlakes": true,
           "showland": true,
           "subunitcolor": "white"
          },
          "hoverlabel": {
           "align": "left"
          },
          "hovermode": "closest",
          "mapbox": {
           "style": "light"
          },
          "paper_bgcolor": "white",
          "plot_bgcolor": "#E5ECF6",
          "polar": {
           "angularaxis": {
            "gridcolor": "white",
            "linecolor": "white",
            "ticks": ""
           },
           "bgcolor": "#E5ECF6",
           "radialaxis": {
            "gridcolor": "white",
            "linecolor": "white",
            "ticks": ""
           }
          },
          "scene": {
           "xaxis": {
            "backgroundcolor": "#E5ECF6",
            "gridcolor": "white",
            "gridwidth": 2,
            "linecolor": "white",
            "showbackground": true,
            "ticks": "",
            "zerolinecolor": "white"
           },
           "yaxis": {
            "backgroundcolor": "#E5ECF6",
            "gridcolor": "white",
            "gridwidth": 2,
            "linecolor": "white",
            "showbackground": true,
            "ticks": "",
            "zerolinecolor": "white"
           },
           "zaxis": {
            "backgroundcolor": "#E5ECF6",
            "gridcolor": "white",
            "gridwidth": 2,
            "linecolor": "white",
            "showbackground": true,
            "ticks": "",
            "zerolinecolor": "white"
           }
          },
          "shapedefaults": {
           "line": {
            "color": "#2a3f5f"
           }
          },
          "ternary": {
           "aaxis": {
            "gridcolor": "white",
            "linecolor": "white",
            "ticks": ""
           },
           "baxis": {
            "gridcolor": "white",
            "linecolor": "white",
            "ticks": ""
           },
           "bgcolor": "#E5ECF6",
           "caxis": {
            "gridcolor": "white",
            "linecolor": "white",
            "ticks": ""
           }
          },
          "title": {
           "x": 0.05
          },
          "xaxis": {
           "automargin": true,
           "gridcolor": "white",
           "linecolor": "white",
           "ticks": "",
           "title": {
            "standoff": 15
           },
           "zerolinecolor": "white",
           "zerolinewidth": 2
          },
          "yaxis": {
           "automargin": true,
           "gridcolor": "white",
           "linecolor": "white",
           "ticks": "",
           "title": {
            "standoff": 15
           },
           "zerolinecolor": "white",
           "zerolinewidth": 2
          }
         }
        },
        "xaxis": {
         "anchor": "y",
         "autorange": true,
         "domain": [
          0,
          1
         ],
         "range": [
          -0.5,
          20.5
         ],
         "title": {
          "text": "site"
         },
         "type": "category"
        },
        "yaxis": {
         "anchor": "x",
         "autorange": true,
         "domain": [
          0,
          1
         ],
         "range": [
          -0.021960931822752147,
          0.19908588945077257
         ],
         "title": {
          "text": "difference"
         },
         "type": "linear"
        }
       }
      },
      "image/png": "[encoded data removed]"
     },
     "metadata": {},
     "output_type": "display_data"
    }
   ],
   "source": [
    "import plotly.express as px\n",
    "df = polarity_comparison[polarity_comparison['country_of_pub']=='South Africa']\n",
    "df = df.sort_values(by = 'difference', ascending = True)\n",
    "fig = px.bar(df, x = 'site', y ='difference')\n",
    "fig.show()"
   ]
  },
  {
   "cell_type": "code",
   "execution_count": 72,
   "metadata": {},
   "outputs": [
    {
     "data": {
      "application/vnd.plotly.v1+json": {
       "config": {
        "plotlyServerURL": "https://plot.ly"
       },
       "data": [
        {
         "alignmentgroup": "True",
         "hovertemplate": "site=%{x}<br>difference=%{y}<extra></extra>",
         "legendgroup": "",
         "marker": {
          "color": "#636efa"
         },
         "name": "",
         "offsetgroup": "",
         "orientation": "v",
         "showlegend": false,
         "textposition": "auto",
         "type": "bar",
         "x": [
          "yahoo.com",
          "salon.com",
          "usmagazine.com",
          "littlethings.com",
          "buzzfeed.com",
          "dailycaller.com",
          "fivethirtyeight.com",
          "newsmax.com",
          "thedailybeast.com",
          "msnbc.com",
          "usatoday.com",
          "realclearpolitics.com",
          "vogue.com",
          "eonline.com",
          "rollingstone.com",
          "politico.com",
          "seekingalpha.com",
          "ign.com",
          "gamespot.com",
          "forbes.com",
          "pitchfork.com",
          "cnbc.com",
          "cosmopolitan.com",
          "breitbart.com",
          "refinery29.com",
          "mashable.com",
          "time.com",
          "digitaltrends.com",
          "people.com",
          "tmz.com",
          "vox.com",
          "marketwatch.com",
          "theblaze.com",
          "bloomberg.com",
          "wired.com",
          "nbcnews.com",
          "rt.com",
          "lifehacker.com",
          "nationalgeographic.com",
          "realsimple.com",
          "slate.com",
          "nbcsports.com",
          "hollywoodreporter.com",
          "sports.yahoo.com",
          "washingtonpost.com",
          "vice.com",
          "news.yahoo.com",
          "npr.org",
          "abcnews.go.com",
          "si.com",
          "thehill.com",
          "rawstory.com",
          "finance.yahoo.com",
          "chicagotribune.com",
          "nytimes.com",
          "wsj.com",
          "complex.com",
          "cbssports.com",
          "bleacherreport.com",
          "cnet.com",
          "ew.com",
          "gizmodo.com",
          "latimes.com",
          "espncricinfo.com",
          "theatlantic.com",
          "ksl.com",
          "cbsnews.com",
          "foxnews.com",
          "nydailynews.com",
          "theverge.com",
          "businessinsider.com",
          "health.com",
          "nypost.com",
          "reuters.com",
          "sfgate.com",
          "chron.com",
          "msn.com",
          "howtogeek.com",
          "pcmag.com"
         ],
         "xaxis": "x",
         "y": [
          -0.11281828282828271,
          -0.10738229032258095,
          -0.10458348387096783,
          -0.0992126666666667,
          -0.09485841187303662,
          -0.06848341935483881,
          -0.06713317469204932,
          -0.0489884838709681,
          -0.047494027467263056,
          -0.045408133971291925,
          -0.043980246575342496,
          -0.043838925566343195,
          -0.04102735483870981,
          -0.04053444881889784,
          -0.036115225806451934,
          -0.0353957790515895,
          -0.03221728762541812,
          -0.030759494949494898,
          -0.02756645161290322,
          -0.027233213156230507,
          -0.02682712903225809,
          -0.025749882352941456,
          -0.02560940579710147,
          -0.023317419354839275,
          -0.01958202898550765,
          -0.01816742599278015,
          -0.013602483870968074,
          -0.01329051612903237,
          -0.01228265156794428,
          -0.011904161290322623,
          -0.01148159374001928,
          -0.010932423728813923,
          -0.009925419354839038,
          -0.007730146074254651,
          -0.007070903225806724,
          -0.003383333333333405,
          0.003554580645161176,
          0.004658144796380159,
          0.006877161290322509,
          0.007231604651162293,
          0.009828129032257993,
          0.013365018315018046,
          0.014014870967741705,
          0.017741944444444435,
          0.018353806451612442,
          0.018672161290322176,
          0.021127580597456286,
          0.021405387096773976,
          0.022398551549651924,
          0.024505612903225837,
          0.031219967741935306,
          0.0315828324154207,
          0.032406624239070314,
          0.03397687425149676,
          0.04186576070668033,
          0.042577821782178144,
          0.04367216129032225,
          0.04799014079422376,
          0.04890835483870931,
          0.04978083870967695,
          0.050995087947882406,
          0.05443613053613053,
          0.056796091081593614,
          0.057025488549618225,
          0.05739062561094779,
          0.05772425806451592,
          0.06208032258064489,
          0.0649344960629924,
          0.06811009589041106,
          0.07210637395459957,
          0.07415403973509913,
          0.0743370557620815,
          0.07857900000000007,
          0.08864849745331022,
          0.09595410204081625,
          0.09636148989898946,
          0.10078631221719453,
          0.11381868354430374,
          0.127788846889952
         ],
         "yaxis": "y"
        }
       ],
       "layout": {
        "autosize": true,
        "barmode": "relative",
        "legend": {
         "tracegroupgap": 0
        },
        "margin": {
         "t": 60
        },
        "template": {
         "data": {
          "bar": [
           {
            "error_x": {
             "color": "#2a3f5f"
            },
            "error_y": {
             "color": "#2a3f5f"
            },
            "marker": {
             "line": {
              "color": "#E5ECF6",
              "width": 0.5
             }
            },
            "type": "bar"
           }
          ],
          "barpolar": [
           {
            "marker": {
             "line": {
              "color": "#E5ECF6",
              "width": 0.5
             }
            },
            "type": "barpolar"
           }
          ],
          "carpet": [
           {
            "aaxis": {
             "endlinecolor": "#2a3f5f",
             "gridcolor": "white",
             "linecolor": "white",
             "minorgridcolor": "white",
             "startlinecolor": "#2a3f5f"
            },
            "baxis": {
             "endlinecolor": "#2a3f5f",
             "gridcolor": "white",
             "linecolor": "white",
             "minorgridcolor": "white",
             "startlinecolor": "#2a3f5f"
            },
            "type": "carpet"
           }
          ],
          "choropleth": [
           {
            "colorbar": {
             "outlinewidth": 0,
             "ticks": ""
            },
            "type": "choropleth"
           }
          ],
          "contour": [
           {
            "colorbar": {
             "outlinewidth": 0,
             "ticks": ""
            },
            "colorscale": [
             [
              0,
              "#0d0887"
             ],
             [
              0.1111111111111111,
              "#46039f"
             ],
             [
              0.2222222222222222,
              "#7201a8"
             ],
             [
              0.3333333333333333,
              "#9c179e"
             ],
             [
              0.4444444444444444,
              "#bd3786"
             ],
             [
              0.5555555555555556,
              "#d8576b"
             ],
             [
              0.6666666666666666,
              "#ed7953"
             ],
             [
              0.7777777777777778,
              "#fb9f3a"
             ],
             [
              0.8888888888888888,
              "#fdca26"
             ],
             [
              1,
              "#f0f921"
             ]
            ],
            "type": "contour"
           }
          ],
          "contourcarpet": [
           {
            "colorbar": {
             "outlinewidth": 0,
             "ticks": ""
            },
            "type": "contourcarpet"
           }
          ],
          "heatmap": [
           {
            "colorbar": {
             "outlinewidth": 0,
             "ticks": ""
            },
            "colorscale": [
             [
              0,
              "#0d0887"
             ],
             [
              0.1111111111111111,
              "#46039f"
             ],
             [
              0.2222222222222222,
              "#7201a8"
             ],
             [
              0.3333333333333333,
              "#9c179e"
             ],
             [
              0.4444444444444444,
              "#bd3786"
             ],
             [
              0.5555555555555556,
              "#d8576b"
             ],
             [
              0.6666666666666666,
              "#ed7953"
             ],
             [
              0.7777777777777778,
              "#fb9f3a"
             ],
             [
              0.8888888888888888,
              "#fdca26"
             ],
             [
              1,
              "#f0f921"
             ]
            ],
            "type": "heatmap"
           }
          ],
          "heatmapgl": [
           {
            "colorbar": {
             "outlinewidth": 0,
             "ticks": ""
            },
            "colorscale": [
             [
              0,
              "#0d0887"
             ],
             [
              0.1111111111111111,
              "#46039f"
             ],
             [
              0.2222222222222222,
              "#7201a8"
             ],
             [
              0.3333333333333333,
              "#9c179e"
             ],
             [
              0.4444444444444444,
              "#bd3786"
             ],
             [
              0.5555555555555556,
              "#d8576b"
             ],
             [
              0.6666666666666666,
              "#ed7953"
             ],
             [
              0.7777777777777778,
              "#fb9f3a"
             ],
             [
              0.8888888888888888,
              "#fdca26"
             ],
             [
              1,
              "#f0f921"
             ]
            ],
            "type": "heatmapgl"
           }
          ],
          "histogram": [
           {
            "marker": {
             "colorbar": {
              "outlinewidth": 0,
              "ticks": ""
             }
            },
            "type": "histogram"
           }
          ],
          "histogram2d": [
           {
            "colorbar": {
             "outlinewidth": 0,
             "ticks": ""
            },
            "colorscale": [
             [
              0,
              "#0d0887"
             ],
             [
              0.1111111111111111,
              "#46039f"
             ],
             [
              0.2222222222222222,
              "#7201a8"
             ],
             [
              0.3333333333333333,
              "#9c179e"
             ],
             [
              0.4444444444444444,
              "#bd3786"
             ],
             [
              0.5555555555555556,
              "#d8576b"
             ],
             [
              0.6666666666666666,
              "#ed7953"
             ],
             [
              0.7777777777777778,
              "#fb9f3a"
             ],
             [
              0.8888888888888888,
              "#fdca26"
             ],
             [
              1,
              "#f0f921"
             ]
            ],
            "type": "histogram2d"
           }
          ],
          "histogram2dcontour": [
           {
            "colorbar": {
             "outlinewidth": 0,
             "ticks": ""
            },
            "colorscale": [
             [
              0,
              "#0d0887"
             ],
             [
              0.1111111111111111,
              "#46039f"
             ],
             [
              0.2222222222222222,
              "#7201a8"
             ],
             [
              0.3333333333333333,
              "#9c179e"
             ],
             [
              0.4444444444444444,
              "#bd3786"
             ],
             [
              0.5555555555555556,
              "#d8576b"
             ],
             [
              0.6666666666666666,
              "#ed7953"
             ],
             [
              0.7777777777777778,
              "#fb9f3a"
             ],
             [
              0.8888888888888888,
              "#fdca26"
             ],
             [
              1,
              "#f0f921"
             ]
            ],
            "type": "histogram2dcontour"
           }
          ],
          "mesh3d": [
           {
            "colorbar": {
             "outlinewidth": 0,
             "ticks": ""
            },
            "type": "mesh3d"
           }
          ],
          "parcoords": [
           {
            "line": {
             "colorbar": {
              "outlinewidth": 0,
              "ticks": ""
             }
            },
            "type": "parcoords"
           }
          ],
          "pie": [
           {
            "automargin": true,
            "type": "pie"
           }
          ],
          "scatter": [
           {
            "marker": {
             "colorbar": {
              "outlinewidth": 0,
              "ticks": ""
             }
            },
            "type": "scatter"
           }
          ],
          "scatter3d": [
           {
            "line": {
             "colorbar": {
              "outlinewidth": 0,
              "ticks": ""
             }
            },
            "marker": {
             "colorbar": {
              "outlinewidth": 0,
              "ticks": ""
             }
            },
            "type": "scatter3d"
           }
          ],
          "scattercarpet": [
           {
            "marker": {
             "colorbar": {
              "outlinewidth": 0,
              "ticks": ""
             }
            },
            "type": "scattercarpet"
           }
          ],
          "scattergeo": [
           {
            "marker": {
             "colorbar": {
              "outlinewidth": 0,
              "ticks": ""
             }
            },
            "type": "scattergeo"
           }
          ],
          "scattergl": [
           {
            "marker": {
             "colorbar": {
              "outlinewidth": 0,
              "ticks": ""
             }
            },
            "type": "scattergl"
           }
          ],
          "scattermapbox": [
           {
            "marker": {
             "colorbar": {
              "outlinewidth": 0,
              "ticks": ""
             }
            },
            "type": "scattermapbox"
           }
          ],
          "scatterpolar": [
           {
            "marker": {
             "colorbar": {
              "outlinewidth": 0,
              "ticks": ""
             }
            },
            "type": "scatterpolar"
           }
          ],
          "scatterpolargl": [
           {
            "marker": {
             "colorbar": {
              "outlinewidth": 0,
              "ticks": ""
             }
            },
            "type": "scatterpolargl"
           }
          ],
          "scatterternary": [
           {
            "marker": {
             "colorbar": {
              "outlinewidth": 0,
              "ticks": ""
             }
            },
            "type": "scatterternary"
           }
          ],
          "surface": [
           {
            "colorbar": {
             "outlinewidth": 0,
             "ticks": ""
            },
            "colorscale": [
             [
              0,
              "#0d0887"
             ],
             [
              0.1111111111111111,
              "#46039f"
             ],
             [
              0.2222222222222222,
              "#7201a8"
             ],
             [
              0.3333333333333333,
              "#9c179e"
             ],
             [
              0.4444444444444444,
              "#bd3786"
             ],
             [
              0.5555555555555556,
              "#d8576b"
             ],
             [
              0.6666666666666666,
              "#ed7953"
             ],
             [
              0.7777777777777778,
              "#fb9f3a"
             ],
             [
              0.8888888888888888,
              "#fdca26"
             ],
             [
              1,
              "#f0f921"
             ]
            ],
            "type": "surface"
           }
          ],
          "table": [
           {
            "cells": {
             "fill": {
              "color": "#EBF0F8"
             },
             "line": {
              "color": "white"
             }
            },
            "header": {
             "fill": {
              "color": "#C8D4E3"
             },
             "line": {
              "color": "white"
             }
            },
            "type": "table"
           }
          ]
         },
         "layout": {
          "annotationdefaults": {
           "arrowcolor": "#2a3f5f",
           "arrowhead": 0,
           "arrowwidth": 1
          },
          "autotypenumbers": "strict",
          "coloraxis": {
           "colorbar": {
            "outlinewidth": 0,
            "ticks": ""
           }
          },
          "colorscale": {
           "diverging": [
            [
             0,
             "#8e0152"
            ],
            [
             0.1,
             "#c51b7d"
            ],
            [
             0.2,
             "#de77ae"
            ],
            [
             0.3,
             "#f1b6da"
            ],
            [
             0.4,
             "#fde0ef"
            ],
            [
             0.5,
             "#f7f7f7"
            ],
            [
             0.6,
             "#e6f5d0"
            ],
            [
             0.7,
             "#b8e186"
            ],
            [
             0.8,
             "#7fbc41"
            ],
            [
             0.9,
             "#4d9221"
            ],
            [
             1,
             "#276419"
            ]
           ],
           "sequential": [
            [
             0,
             "#0d0887"
            ],
            [
             0.1111111111111111,
             "#46039f"
            ],
            [
             0.2222222222222222,
             "#7201a8"
            ],
            [
             0.3333333333333333,
             "#9c179e"
            ],
            [
             0.4444444444444444,
             "#bd3786"
            ],
            [
             0.5555555555555556,
             "#d8576b"
            ],
            [
             0.6666666666666666,
             "#ed7953"
            ],
            [
             0.7777777777777778,
             "#fb9f3a"
            ],
            [
             0.8888888888888888,
             "#fdca26"
            ],
            [
             1,
             "#f0f921"
            ]
           ],
           "sequentialminus": [
            [
             0,
             "#0d0887"
            ],
            [
             0.1111111111111111,
             "#46039f"
            ],
            [
             0.2222222222222222,
             "#7201a8"
            ],
            [
             0.3333333333333333,
             "#9c179e"
            ],
            [
             0.4444444444444444,
             "#bd3786"
            ],
            [
             0.5555555555555556,
             "#d8576b"
            ],
            [
             0.6666666666666666,
             "#ed7953"
            ],
            [
             0.7777777777777778,
             "#fb9f3a"
            ],
            [
             0.8888888888888888,
             "#fdca26"
            ],
            [
             1,
             "#f0f921"
            ]
           ]
          },
          "colorway": [
           "#636efa",
           "#EF553B",
           "#00cc96",
           "#ab63fa",
           "#FFA15A",
           "#19d3f3",
           "#FF6692",
           "#B6E880",
           "#FF97FF",
           "#FECB52"
          ],
          "font": {
           "color": "#2a3f5f"
          },
          "geo": {
           "bgcolor": "white",
           "lakecolor": "white",
           "landcolor": "#E5ECF6",
           "showlakes": true,
           "showland": true,
           "subunitcolor": "white"
          },
          "hoverlabel": {
           "align": "left"
          },
          "hovermode": "closest",
          "mapbox": {
           "style": "light"
          },
          "paper_bgcolor": "white",
          "plot_bgcolor": "#E5ECF6",
          "polar": {
           "angularaxis": {
            "gridcolor": "white",
            "linecolor": "white",
            "ticks": ""
           },
           "bgcolor": "#E5ECF6",
           "radialaxis": {
            "gridcolor": "white",
            "linecolor": "white",
            "ticks": ""
           }
          },
          "scene": {
           "xaxis": {
            "backgroundcolor": "#E5ECF6",
            "gridcolor": "white",
            "gridwidth": 2,
            "linecolor": "white",
            "showbackground": true,
            "ticks": "",
            "zerolinecolor": "white"
           },
           "yaxis": {
            "backgroundcolor": "#E5ECF6",
            "gridcolor": "white",
            "gridwidth": 2,
            "linecolor": "white",
            "showbackground": true,
            "ticks": "",
            "zerolinecolor": "white"
           },
           "zaxis": {
            "backgroundcolor": "#E5ECF6",
            "gridcolor": "white",
            "gridwidth": 2,
            "linecolor": "white",
            "showbackground": true,
            "ticks": "",
            "zerolinecolor": "white"
           }
          },
          "shapedefaults": {
           "line": {
            "color": "#2a3f5f"
           }
          },
          "ternary": {
           "aaxis": {
            "gridcolor": "white",
            "linecolor": "white",
            "ticks": ""
           },
           "baxis": {
            "gridcolor": "white",
            "linecolor": "white",
            "ticks": ""
           },
           "bgcolor": "#E5ECF6",
           "caxis": {
            "gridcolor": "white",
            "linecolor": "white",
            "ticks": ""
           }
          },
          "title": {
           "x": 0.05
          },
          "xaxis": {
           "automargin": true,
           "gridcolor": "white",
           "linecolor": "white",
           "ticks": "",
           "title": {
            "standoff": 15
           },
           "zerolinecolor": "white",
           "zerolinewidth": 2
          },
          "yaxis": {
           "automargin": true,
           "gridcolor": "white",
           "linecolor": "white",
           "ticks": "",
           "title": {
            "standoff": 15
           },
           "zerolinecolor": "white",
           "zerolinewidth": 2
          }
         }
        },
        "xaxis": {
         "anchor": "y",
         "autorange": true,
         "domain": [
          0,
          1
         ],
         "range": [
          -0.5,
          78.5
         ],
         "title": {
          "text": "site"
         },
         "type": "category"
        },
        "yaxis": {
         "anchor": "x",
         "autorange": true,
         "domain": [
          0,
          1
         ],
         "range": [
          -0.12618534559040687,
          0.14115590965207617
         ],
         "title": {
          "text": "difference"
         },
         "type": "linear"
        }
       }
      },
      "image/png": "[encoded data removed]"
     },
     "metadata": {},
     "output_type": "display_data"
    }
   ],
   "source": [
    "import plotly.express as px\n",
    "df = polarity_comparison[polarity_comparison['country_of_pub']=='USA']\n",
    "df = df.sort_values(by = 'difference', ascending = True)\n",
    "fig = px.bar(df, x = 'site', y ='difference')\n",
    "fig.show()"
   ]
  },
  {
   "cell_type": "code",
   "execution_count": 12,
   "metadata": {},
   "outputs": [
    {
     "data": {
      "text/plain": [
       "(8049, 17)"
      ]
     },
     "execution_count": 12,
     "metadata": {},
     "output_type": "execute_result"
    }
   ],
   "source": [
    "df_cl_sent_base.shape"
   ]
  },
  {
   "cell_type": "code",
   "execution_count": null,
   "metadata": {},
   "outputs": [],
   "source": []
  }
 ],
 "metadata": {
  "kernelspec": {
   "display_name": "Python 3",
   "language": "python",
   "name": "python3"
  },
  "language_info": {
   "codemirror_mode": {
    "name": "ipython",
    "version": 3
   },
   "file_extension": ".py",
   "mimetype": "text/x-python",
   "name": "python",
   "nbconvert_exporter": "python",
   "pygments_lexer": "ipython3",
   "version": "3.7.3"
  }
 },
 "nbformat": 4,
 "nbformat_minor": 4
}
