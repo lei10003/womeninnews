{
 "cells": [
  {
   "cell_type": "code",
   "execution_count": 61,
   "metadata": {},
   "outputs": [],
   "source": [
    "import pandas as pd\n",
    "\n",
    "df = pd.read_csv('../data/processed/headlines_cl_sent.csv')"
   ]
  },
  {
   "cell_type": "code",
   "execution_count": 52,
   "metadata": {},
   "outputs": [],
   "source": [
    "from datetime import datetime\n",
    "from datetime import timedelta\n",
    "import time"
   ]
  },
  {
   "cell_type": "code",
   "execution_count": 136,
   "metadata": {},
   "outputs": [
    {
     "data": {
      "text/plain": [
       "Index(['site', 'country_of_pub', 'bias', 'male_words', 'empowerement',\n",
       "       'monthly_visits', 'polarity'],\n",
       "      dtype='object')"
      ]
     },
     "execution_count": 136,
     "metadata": {},
     "output_type": "execute_result"
    }
   ],
   "source": [
    "df_site.columns"
   ]
  },
  {
   "cell_type": "code",
   "execution_count": 62,
   "metadata": {},
   "outputs": [],
   "source": [
    "import ast\n",
    "df['clean_hl_words'] = df['clean_hl_words'].apply(lambda row: ast.literal_eval(row))\n",
    "# turn words into sets so we can compute intersection\n",
    "df['clean_hl_words'] = df['clean_hl_words'].apply(lambda row: set([w.lower() for w in row]))\n",
    "df['hl_words'] = df['headline_no_site'].apply(lambda row: set([w.lower() for w in row.split()]))"
   ]
  },
  {
   "cell_type": "code",
   "execution_count": 63,
   "metadata": {},
   "outputs": [],
   "source": [
    "# def calc_publishing_time(scrape_date, duration):\n",
    "#     date = 0\n",
    "#     if duration[1] in ['week', 'weeks', 'weken']:\n",
    "#         date = datetime(scrape_date) - timedelta(weeks=int(duration[0]))\n",
    "#     elif duration[1] in ['days', 'day', 'dagen']:\n",
    "#         date = datetime(scrape_date) - timedelta(days=int(duration[0]))\n",
    "#     elif duration[1] in ['hour', 'hours', 'uur']:\n",
    "#         date = datetime(scrape_date) - timedelta(hours=int(duration[0]))\n",
    "#     return date\n",
    "    "
   ]
  },
  {
   "cell_type": "code",
   "execution_count": 56,
   "metadata": {},
   "outputs": [],
   "source": [
    "#calc_publishing_time(df['scrape_date'][0], df['time'].str.split(' ')[0])"
   ]
  },
  {
   "cell_type": "code",
   "execution_count": 156,
   "metadata": {},
   "outputs": [],
   "source": [
    "#Two lists  of words that are used when a man or woman is present, based on Danielle Sucher's https://github.com/DanielleSucher/Jailbreak-the-Patriarchy\n",
    "# male_words=set(['guy','spokesman','chairman',\"men's\",'men','him',\"he's\",'his','boy','boyfriend','boyfriends','boys','brother','brothers','dad','dads','dude','father','fathers','fiance','gentleman','gentlemen','god','grandfather','grandpa','grandson','groom','he','himself','husband','husbands','king','male','man','mr','nephew','nephews','priest','prince','son','sons','uncle','uncles','waiter','widower','widowers'])\n",
    "female_words=set(['heroine','spokeswoman','chairwoman',\"women's\",'actress','women',\"she's\",'her','aunt',\n",
    "                  'aunts','bride','daughter','daughters','female','fiancee','girl','girlfriend','girlfriends',\n",
    "                  'girls','goddess','granddaughter','grandma','grandmother','herself','ladies','lady','lady',\n",
    "                  'mom','moms','mother','mothers','mrs','ms','niece','nieces','priestess','princess',\n",
    "                  'she','sister','sisters','waitress','widow','widows','wife','wives','woman', 'beautiful', \n",
    "                  'beauty', 'she', 'housewife', 'queen', 'gender', 'pregnant', 'queen', 'madam', 'mum', 'mummy', \n",
    "                  'mums', 'mistress'])\n",
    "\n",
    "bias_words = set(['fair', 'weight', 'beauty', 'frail', 'weak', 'modest', 'virgin', \n",
    "                  'sex', 'feminine', 'sensitive', 'emotional', 'gentle', 'soft', \n",
    "                  'pretty', 'bitch', 'sexual', 'harassment', 'shopping','shop',\n",
    "                  'sale', 'cook', 'cooking', 'sexual', 'baby', 'child', 'breast', 'breasts'])\n",
    "\n",
    "male_words = set(['hero', 'man',  'men', 'his', 'him', 'he', 'husband', 'father', 'male', 'son', 'god',\n",
    "                  'prince', 'king', 'mr', 'sir', 'brother', 'grandfather', 'uncle', 'nephew', 'master'])\n",
    "\n",
    "empowerement_words = set(['chairperson', 'leader','leadership',  'chairwoman', 'minister', 'power','powerful', 'authority', \n",
    "                          'queen', 'manager', 'success', 'successful', 'successes', 'career', 'job',\n",
    "                         'CEO','CFO', 'chief', 'officer', 'employment', 'employed', 'millionaire', \n",
    "                          'wealth', 'wealthy', 'strong', 'strength', 'courage'\n",
    "                         , 'achievement', 'achievements', 'achieve', 'goal', 'ambition', 'ambitious',\n",
    "                         'passionate','passion' ,'badass', 'confident', 'confidence', 'breakthrough',\n",
    "                         'inspiring', 'inspiration', 'inspire', 'empower', 'empowered', 'empowerement'\n",
    "                         'genius', 'expert', 'mastery', 'owner', 'businesswoman', 'intelligent', 'smart', \n",
    "                          'clever', 'wise', 'worth'])\n",
    "\n",
    "violence_words = set(['violent', 'violence', 'crime', 'rape','rapist', 'raped', 'murder','kill', 'killed','killer',\n",
    "                      'murdered', 'murderer', 'attack', 'alleged', 'criminal', 'stab', 'knife', 'gun', 'guns', 'knives',\n",
    "                     'blood', 'bloodshed', 'court', ''])"
   ]
  },
  {
   "cell_type": "code",
   "execution_count": 121,
   "metadata": {},
   "outputs": [],
   "source": [
    "# def gender_the_sentence(sentence_words):\n",
    "#     mw_length=len(male_words.intersection(sentence_words))\n",
    "#     fw_length=len(female_words.intersection(sentence_words))\n",
    "\n",
    "#     if mw_length>0 and fw_length==0:\n",
    "#         gender='male'\n",
    "#     elif mw_length==0 and fw_length>0: \n",
    "#         gender='female'\n",
    "#     elif mw_length>0 and fw_length>0: \n",
    "#         gender='both'\n",
    "#     else:\n",
    "#         gender='none'\n",
    "#     return gender"
   ]
  },
  {
   "cell_type": "code",
   "execution_count": 65,
   "metadata": {},
   "outputs": [],
   "source": [
    "def gender_the_sentence(sentence_words, type_words):\n",
    "#     mw_length=len(male_words.intersection(sentence_words))\n",
    "    fw_length=len(type_words.intersection(sentence_words))\n",
    "\n",
    "#     if mw_length>0 and fw_length==0:\n",
    "#         gender='male'\n",
    "    if fw_length>0: \n",
    "        gender=1\n",
    "    else:\n",
    "        gender=0\n",
    "    return gender"
   ]
  },
  {
   "cell_type": "code",
   "execution_count": 58,
   "metadata": {},
   "outputs": [],
   "source": [
    "def quantify_bias(sentence_words, type_words):\n",
    "#     mw_length=len(male_words.intersection(sentence_words))\n",
    "    type_length=len(type_words.intersection(sentence_words))\n",
    "    bias_length = len(bias_words.intersection(sentence_words))\n",
    "#     if bias_length>0:\n",
    "#         print(sentence_words)\n",
    "#         print(bias_length)\n",
    "\n",
    "#     if mw_length>0 and fw_length==0:\n",
    "#         gender='male'\n",
    "    if type_length>0 and type_words == 'female_words': \n",
    "        bias=type_length + bias_length\n",
    "    elif type_length>0 :\n",
    "        bias = type_length\n",
    "    else:\n",
    "        bias=0\n",
    "    return bias"
   ]
  },
  {
   "cell_type": "code",
   "execution_count": 6,
   "metadata": {},
   "outputs": [
    {
     "data": {
      "text/plain": [
       "0        {william, waarheid, moet, s, uit, diana, onder...\n",
       "1        {k, die, ooievaar, plaaslike, onder, doenig, b...\n",
       "2                       {artist, coast, dream, west, live}\n",
       "3                            {beckon, cillier, apple, big}\n",
       "4        {alderman, bazier, honours, councillor, title,...\n",
       "                               ...                        \n",
       "47549              {hospital, life, crash, fight, maghull}\n",
       "47550    {ex, slap, treat, fiancee, finger, break, canc...\n",
       "47551    {disabled, thug, ear, bloodstained, bite, blad...\n",
       "47552    {heartbreaking, dad, share, wish, terminal, ca...\n",
       "47553    {worker, food, order, mconald, share, wrong, f...\n",
       "Name: clean_hl_words, Length: 47554, dtype: object"
      ]
     },
     "execution_count": 6,
     "metadata": {},
     "output_type": "execute_result"
    }
   ],
   "source": [
    "df['clean_hl_words']"
   ]
  },
  {
   "cell_type": "code",
   "execution_count": 148,
   "metadata": {},
   "outputs": [],
   "source": [
    "# create bias columns\n",
    "df['gendered'] = df['hl_words'].apply(lambda row: gender_the_sentence(row, female_words))\n",
    "df['bias'] = df['hl_words'].apply(lambda row: quantify_bias(row, female_words))\n",
    "df['empowerement'] = df['hl_words'].apply(lambda row:quantify_bias(row, empowerement_words) )\n",
    "df['male_words'] = df['hl_words'].apply(lambda row:quantify_bias(row, male_words) )"
   ]
  },
  {
   "cell_type": "code",
   "execution_count": 155,
   "metadata": {},
   "outputs": [
    {
     "data": {
      "text/plain": [
       "'Dad forces daughter to quit her job after seeing her work uniform: ‘Absolutely not’Yahoo Canada Shine On'"
      ]
     },
     "execution_count": 155,
     "metadata": {},
     "output_type": "execute_result"
    }
   ],
   "source": [
    "df[df['empowerement'] > 1]['headline'][842]"
   ]
  },
  {
   "cell_type": "code",
   "execution_count": 71,
   "metadata": {},
   "outputs": [
    {
     "data": {
      "text/plain": [
       "(5208, 24)"
      ]
     },
     "execution_count": 71,
     "metadata": {},
     "output_type": "execute_result"
    }
   ],
   "source": [
    "df[df['bias']>1].shape"
   ]
  },
  {
   "cell_type": "code",
   "execution_count": 77,
   "metadata": {},
   "outputs": [
    {
     "data": {
      "text/plain": [
       "Index(['Unnamed: 0', 'url', 'headline', 'subtitle', 'time', 'scrape_date',\n",
       "       'site', 'monthly_visits', 'country', 'country_of_pub',\n",
       "       'headline_no_site', 'clean_headline', 'clean_subtitle',\n",
       "       'clean_hl_words_no_women', 'clean_hl_words', 'compound_s', 'positive_s',\n",
       "       'negative_s', 'neutral_s', 'hl_words', 'gendered', 'bias',\n",
       "       'empowerement', 'male_words'],\n",
       "      dtype='object')"
      ]
     },
     "execution_count": 77,
     "metadata": {},
     "output_type": "execute_result"
    }
   ],
   "source": [
    "df.columns"
   ]
  },
  {
   "cell_type": "code",
   "execution_count": 103,
   "metadata": {},
   "outputs": [],
   "source": [
    "import numpy as np\n",
    "df['polarity'] = np.abs(df['compound_s'].values)"
   ]
  },
  {
   "cell_type": "code",
   "execution_count": 106,
   "metadata": {},
   "outputs": [],
   "source": [
    "df_site = df.groupby(by=['site', 'country_of_pub']).agg({'bias': 'sum', 'male_words' : 'sum', \n",
    "                                      'empowerement': 'sum', 'monthly_visits' :'mean', \n",
    "                                                        'polarity' : 'mean'}).reset_index().sort_values(by = 'bias', ascending = False).reset_index(drop=True)"
   ]
  },
  {
   "cell_type": "code",
   "execution_count": 110,
   "metadata": {},
   "outputs": [],
   "source": [
    "import sklearn\n",
    "from sklearn.preprocessing import MinMaxScaler\n",
    "Scaler = MinMaxScaler()\n",
    "df_site['bias'] = Scaler.fit_transform(df_site[['bias']])"
   ]
  },
  {
   "cell_type": "code",
   "execution_count": 120,
   "metadata": {},
   "outputs": [],
   "source": [
    "df_site['polarity'] = Scaler.fit_transform(df_site[['polarity']])"
   ]
  },
  {
   "cell_type": "code",
   "execution_count": null,
   "metadata": {},
   "outputs": [],
   "source": [
    "newsrooms = pd.read_csv('../data/raw/newsrooms.csv')\n",
    "newsrooms.columns = ['site', 'monthly_visits', 'country', 'country_of_pub']\n",
    "site_views = newsrooms.groupby(by='site').agg({'monthly_visits': 'sum'}).reset_index()\n",
    "df_site = site_views.join(df_site[['site', 'country_of_pub', 'bias', 'male_words', 'empowerement', 'polarity']].set_index('site'), on = 'site')"
   ]
  },
  {
   "cell_type": "code",
   "execution_count": 146,
   "metadata": {},
   "outputs": [],
   "source": [
    "df_site.to_csv('../data/processed/headlines_site.csv')"
   ]
  },
  {
   "cell_type": "code",
   "execution_count": 97,
   "metadata": {},
   "outputs": [],
   "source": [
    "df_country = df_site.groupby(by='country_of_pub').agg({'bias': 'sum', 'male_words' : 'sum', \n",
    "                                      'empowerement': 'sum', 'monthly_visits' :'mean', \n",
    "                                        'site_count': 'sum'}).reset_index().sort_values(by = 'bias', ascending = False).reset_index(drop=True)"
   ]
  },
  {
   "cell_type": "code",
   "execution_count": 98,
   "metadata": {},
   "outputs": [
    {
     "data": {
      "text/html": [
       "<div>\n",
       "<style scoped>\n",
       "    .dataframe tbody tr th:only-of-type {\n",
       "        vertical-align: middle;\n",
       "    }\n",
       "\n",
       "    .dataframe tbody tr th {\n",
       "        vertical-align: top;\n",
       "    }\n",
       "\n",
       "    .dataframe thead th {\n",
       "        text-align: right;\n",
       "    }\n",
       "</style>\n",
       "<table border=\"1\" class=\"dataframe\">\n",
       "  <thead>\n",
       "    <tr style=\"text-align: right;\">\n",
       "      <th></th>\n",
       "      <th>country_of_pub</th>\n",
       "      <th>bias</th>\n",
       "      <th>male_words</th>\n",
       "      <th>empowerement</th>\n",
       "      <th>monthly_visits</th>\n",
       "      <th>site_count</th>\n",
       "    </tr>\n",
       "  </thead>\n",
       "  <tbody>\n",
       "    <tr>\n",
       "      <th>0</th>\n",
       "      <td>USA</td>\n",
       "      <td>15140</td>\n",
       "      <td>1636</td>\n",
       "      <td>234</td>\n",
       "      <td>9.758486e+07</td>\n",
       "      <td>90</td>\n",
       "    </tr>\n",
       "    <tr>\n",
       "      <th>1</th>\n",
       "      <td>UK</td>\n",
       "      <td>9366</td>\n",
       "      <td>1094</td>\n",
       "      <td>144</td>\n",
       "      <td>6.463730e+07</td>\n",
       "      <td>43</td>\n",
       "    </tr>\n",
       "    <tr>\n",
       "      <th>2</th>\n",
       "      <td>India</td>\n",
       "      <td>6008</td>\n",
       "      <td>858</td>\n",
       "      <td>97</td>\n",
       "      <td>5.053054e+07</td>\n",
       "      <td>24</td>\n",
       "    </tr>\n",
       "    <tr>\n",
       "      <th>3</th>\n",
       "      <td>South Africa</td>\n",
       "      <td>3766</td>\n",
       "      <td>555</td>\n",
       "      <td>94</td>\n",
       "      <td>1.748276e+07</td>\n",
       "      <td>29</td>\n",
       "    </tr>\n",
       "  </tbody>\n",
       "</table>\n",
       "</div>"
      ],
      "text/plain": [
       "  country_of_pub   bias  male_words  empowerement  monthly_visits  site_count\n",
       "0            USA  15140        1636           234    9.758486e+07          90\n",
       "1             UK   9366        1094           144    6.463730e+07          43\n",
       "2          India   6008         858            97    5.053054e+07          24\n",
       "3   South Africa   3766         555            94    1.748276e+07          29"
      ]
     },
     "execution_count": 98,
     "metadata": {},
     "output_type": "execute_result"
    }
   ],
   "source": [
    "df_country"
   ]
  }
 ],
 "metadata": {
  "kernelspec": {
   "display_name": "Python 3",
   "language": "python",
   "name": "python3"
  },
  "language_info": {
   "codemirror_mode": {
    "name": "ipython",
    "version": 3
   },
   "file_extension": ".py",
   "mimetype": "text/x-python",
   "name": "python",
   "nbconvert_exporter": "python",
   "pygments_lexer": "ipython3",
   "version": "3.8.5"
  }
 },
 "nbformat": 4,
 "nbformat_minor": 4
}
