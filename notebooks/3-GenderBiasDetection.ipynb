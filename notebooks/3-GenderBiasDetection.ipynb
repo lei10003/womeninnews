{
 "cells": [
  {
   "cell_type": "code",
   "execution_count": 1,
   "metadata": {},
   "outputs": [],
   "source": [
    "from datetime import datetime\n",
    "from datetime import timedelta\n",
    "import time\n",
    "from nltk.stem import PorterStemmer\n",
    "from nltk.stem import LancasterStemmer\n",
    "import sklearn\n",
    "from sklearn.preprocessing import MinMaxScaler\n",
    "import numpy as np\n",
    "import pandas as pd\n",
    "import seaborn as sns\n",
    "from functools import reduce\n",
    "import ast\n",
    "\n",
    "Scaler = MinMaxScaler()\n",
    "porter = PorterStemmer()\n",
    "lancaster=LancasterStemmer()"
   ]
  },
  {
   "cell_type": "code",
   "execution_count": 17,
   "metadata": {},
   "outputs": [],
   "source": [
    "df = pd.read_csv('../data/processed/headlines_cl_sent.csv').drop([\"Unnamed: 0\", \"clean_headline_str\"], axis=1)\n",
    "df_base = pd.read_csv('../data/processed/headlines_cl_sent_base.csv').drop(\"Unnamed: 0\", axis=1)"
   ]
  },
  {
   "cell_type": "code",
   "execution_count": 19,
   "metadata": {},
   "outputs": [],
   "source": [
    "df['clean_hl_words'] = df['clean_hl_words'].apply(lambda row: ast.literal_eval(row))\n",
    "# turn words into sets so we can compute intersection\n",
    "df['clean_hl_words'] = df['clean_hl_words'].apply(lambda row: set([w.lower() for w in row]))\n",
    "df['hl_words'] = df['headline_no_site'].apply(lambda row: set([w.lower() for w in row.split()]))"
   ]
  },
  {
   "cell_type": "code",
   "execution_count": 213,
   "metadata": {},
   "outputs": [],
   "source": [
    "# def calc_publishing_time(scrape_date, duration):\n",
    "#     date = 0\n",
    "#     if duration[1] in ['week', 'weeks', 'weken']:\n",
    "#         date = datetime(scrape_date) - timedelta(weeks=int(duration[0]))\n",
    "#     elif duration[1] in ['days', 'day', 'dagen']:\n",
    "#         date = datetime(scrape_date) - timedelta(days=int(duration[0]))\n",
    "#     elif duration[1] in ['hour', 'hours', 'uur']:\n",
    "#         date = datetime(scrape_date) - timedelta(hours=int(duration[0]))\n",
    "#     return date\n",
    "    "
   ]
  },
  {
   "cell_type": "code",
   "execution_count": 214,
   "metadata": {},
   "outputs": [],
   "source": [
    "#calc_publishing_time(df['scrape_date'][0], df['time'].str.split(' ')[0])"
   ]
  },
  {
   "cell_type": "code",
   "execution_count": 20,
   "metadata": {},
   "outputs": [],
   "source": [
    "#Two lists  of words that are used when a man or woman is present, based on Danielle Sucher's https://github.com/DanielleSucher/Jailbreak-the-Patriarchy\n",
    "# male_words=set(['guy','spokesman','chairman',\"men's\",'men','him',\"he's\",'his','boy','boyfriend','boyfriends','boys','brother','brothers','dad','dads','dude','father','fathers','fiance','gentleman','gentlemen','god','grandfather','grandpa','grandson','groom','he','himself','husband','husbands','king','male','man','mr','nephew','nephews','priest','prince','son','sons','uncle','uncles','waiter','widower','widowers'])\n",
    "\n",
    "female_words=set(['actress',  'actresses',  'airwomen',  'alderwoman',  'alderwomen',  'anchorwoman',  'anchorwomen',  \n",
    "                  'archduchess',  'archduchesses',  'assemblywoman',  'assemblywomen',  'aunt',  'aunts',  'baroness',  \n",
    "                  'baronesses',  'baronetess',  'baronetesses',  'bogeywoman',  'bogeywomen',  'bondswoman',  'bondswomen',  \n",
    "                  'bride',  'businesswoman',  'businesswomen',  'camerawoman',  'camerawomen',  'cavewoman',  'cavewomen',  \n",
    "                  'chairwoman',  'chairwomen',  'clergywoman',  'clergywomen',  'comtesse',  'congresswoman',  'congresswomen',  \n",
    "                  'councilwoman',  'councilwomen',  'countess',  'countesses',  'countrywoman',  'countrywomen',  'craftswoman',  \n",
    "                  'craftswomen',  'damsel',  'daughter',  'daughters',  'deaconess',  'deaconesses',  'diva',  'donna’, ‘housewife',  \n",
    "                  'doorwoman',  'doorwomen',  'duchess',  'duchesses',  'empress',  'empresses',  'fem',  'female',  'females',  \n",
    "                  'fiancee',  'firewoman',  'firewomen',  'fisherwoman',  'fisherwomen',  'forewoman',  'forewomen',  'freshwoman',  \n",
    "                  'freshwomen',  'gal',  'galpal',  'gals',  'garbagewoman',  'garbagewomen',  'gentleman',  'girl',  'girlfriend',  \n",
    "                  'girlfriends',  'girls',  'goddess',  'goddesshead',  'goddesshood',  'goddessliness',  'goddessly',  'godmother',  \n",
    "                  'granddaughter',  'grandma',  'grandmas',  'grandmother',  'handywoman',  'handywomen',  'hangwoman',  'hangwomen',  \n",
    "                  'henchwoman',  'henchwomen',  'her',  'heroine',  'heroines',  'herself',  'housewife',  'journeywoman',  'journeywomen',  \n",
    "                  'kinswoman',  'kinswomen',  'klanswoman',  'ladies',  'ladiez',  'lady',  'lady-romance',  'ladysplain',  'laydeez',  \n",
    "                  'laywoman',  'laywomen',  \"ma'am\",  'madam',  'madwoman',  'madwomen',  'maiden',  'mailwoman',  'mailwomen',  'mama',  \n",
    "                  'marchioness',  'margravine',  'markswoman',  'markswomen',  'marquise',  'middlewoman',  'middlewomen',  'milkwoman',  \n",
    "                  'milkwomen',  'miss',  'mistress',  'mom',  'momma',  'mommies',  'mommy',  'moms',  'mother',  'mothersmrs',  'ms',  \n",
    "                  'mum',  'mummy',  'mums',  'niece',  'nieces',  'noblewoman',  'noblewomen',  'ombudswoman',  'ombudswomen',  'policewoman',  \n",
    "                  'policewomen',  'postwoman',  'postwomen',  'priestess',  'priestesses',  'princess',  'princesses',  'prostitute',  'queen',  \n",
    "                  'queens',  'repairwoman',  'repairwomen',  'saleswoman',  'saleswomen',  'sandwoman',  'sandwomen',  'servicewoman',  \n",
    "                  'servicewomen',  'she',  \"she's\",  'showwoman',  'showwomen',  'sis',  'sistagrammer',  'sistas',  'sister',  'sisters',  \n",
    "                  'snowwoman',  'spacewoman',  'spacewomen',  'spokeswoman',  'spokeswomen',  'sportswoman',  'sportswomen',  'stateswoman',  \n",
    "                  'stateswomen',  'stepmother',  'stepsister',  'superwoman',  'superwomen',  'unwoman',  'viscountess',  'viscountesses',  \n",
    "                  'waitress',  'watchwoman',  'watchwomen',  'weatherwoman',  'weatherwomen',  'widow',  'widows',  'wife',  'wives',  \n",
    "                  'woman',  'womanhood',  'womankind',  'women',  \"women's\",  'workwoman',  'workwomen'])\n",
    "\n",
    "# this list of words\n",
    "female_bias_words = set(['adorable',  'affair',  'affection',  'affectionate',  'afraid',  'agree',  'angel',  'baby',  'banshee',  'barren',  \n",
    "                         'beautiful',  'beauty',  'bikini',  'birth',  'bitch',  'bitchfest',  'bitchy',  'body',  'bossy',  'breast',  'bride',  \n",
    "                         'bridezilla',  'bubbly',  'care',  'caress',  'caring',  'catfight',  'catty',  'chatty',  'cheat',  'cheer',  'child',  \n",
    "                         'clotheshorse',  'clucky',  'co-operate',  'cold',  'collab',  'commit',  'commitment',  'committed',  'communal',  \n",
    "                         'compassion',  'compassionate',  'conscientious',  'considerate',  'cook',  'cooking',  'cooperate',  'cougar',  \n",
    "                         'cries',  'cry',  'crying',  'dedicated',  'demure',  'depend',  'dependable',  'diligent',  'ditzy',  'divorce',  \n",
    "                         'domestic',  'drama',  'dramatic',  'dress',  'easy',  'emotion',  'emotiona',  'emotional',  'emotions',  'empath',  \n",
    "                         'empathetic',  'empathize',  'enthusias',  'family',  'fear',  'feel',  'feeling',  'feisty',  'femaleness',  'feminazi',  \n",
    "                         'feminine',  'fishwife',  'flaky',  'flatter',  'flatterable',  'flirty',  'frail',  'frigid',  'frumpy',  'gentle',  \n",
    "                         'girlhood',  'girlier',  'girliest',  'girly',  'gossip',  'gossipy',  'helpful',  'honest',  'hormonal',  'houseproud',  \n",
    "                         'humourless',  'hysterical',  'ice queen',  'inclusive',  'inter-dependen',  'inter-dependence',  'inter-dependent',  \n",
    "                         'inter-personal',  'interdependence',  'interdependent',  'interpersonal',  'irrational',  'kid',  'kind',  'kinship',  \n",
    "                         'ladylike',  'lie',  'lippy',  'loose',  'love',  'lover',  'loyal',  'maid',  'makeup',  'man-eater',  'man-hater',  \n",
    "                         'marriage',  'married',  'marrigeable',  'marry',  'maternal',  'maternal ',  'menstrual ',  'mistress',  'modest',  \n",
    "                         'modesty',  'moody',  'mousey',  'mumpreneur',  'mumsy',  'nag',  'naked',  'neurotic',  'new born',  'new-born',  \n",
    "                         'newborn',  'nurse',  'nurtur',  'nurture',  'nurtures',  'nurturing',  'obedient',  'obey',  'over-sensitive',  \n",
    "                         'pleasant',  'polite',  'powerless',  'pregnancy',  'pretty',  'prostitute',  'prude',  'quiet',  'relationship',  \n",
    "                         'respon',  'sassy',  'secretary',  'seduce',  'seductive',  'sensitiv',  'sensitive',  'sex',  'sexual',  'sexually',  \n",
    "                         'share',  'sharin',  'shop',  'shopping',  'shrew',  'single',  'slut',  'slutty',  'soft',  'spinster',  'submissive',  \n",
    "                         'supermum',  'support',  'sympath',  'sympathy',  'tactful',  'tease',  'tender',  'together',  'tomboy ',  'trollop',  \n",
    "                         'trust',  'understand',  'victim',  'virgin',  'vivacious',  'warm',  'weak',  'wedding',  'weight',  'whin',  \n",
    "                         'whitefemaleness',  'whore',  'womanlier',  'womanliest',  'womanliness',  'womanly',  'yield'])\n",
    "\n",
    "male_words = set(['hero', 'man',  'men', 'his', 'him', 'he', 'husband', 'father', 'male', 'son', 'god',\n",
    "                  'prince', 'king', 'mr', 'sir', 'brother', 'grandfather', 'uncle', 'nephew', 'master', 'patriarch',\n",
    "                 'chairman', 'chairmen', \"boy\",\"boyfriend\", \"save\", \"guy\", \"dad\"])\n",
    "\n",
    "discrimination_words = set(['race', 'caste', 'casteless', 'black', 'SC', 'ST', 'african american', 'white', 'colour', \n",
    "                            'color', \"brown\", \"asian\", \"native\", \"racial\", \"minority\", \"ethnic\", \"ethnicity\", \"indian\",\n",
    "                            'hindu', \"muslim\", \"chinese\", \"indian\"])\n",
    "\n",
    "male_bias_words = set([\"active\", \"adventurous\", \"aggression\",'aggressive', \"ambition\", \"assert\", 'assertive',\n",
    "                       \"athlete\", 'athletic', \"battle\", \"champion\", \"decisive\", 'head', 'dominate', 'dominant',\n",
    "                        \"driven\", 'confident', 'strong', 'force', 'master', 'superior', 'strength', 'bold', \n",
    "                       'ambitious', 'power', 'intelligent', 'greedy', 'hostile', 'uncaring', 'logic', 'logical', 'rational',\n",
    "                       \"fearless\",'stubborn', 'independent', 'objective', \"charismatic\"])\n",
    "\n",
    "empowerement_words = set(['chairperson', 'leader','leadership',  'chairwoman', 'minister', 'power','powerful', 'authority', \n",
    "                          'queen', 'manager', 'success', 'successful', 'successes', 'career', 'job',\n",
    "                         'CEO','CFO', 'chief', 'officer', 'employment', 'employed', 'millionaire', \n",
    "                          'wealth', 'wealthy', 'strong', 'strength', 'courage','achievement', 'achievements', \n",
    "                          'achieve', 'goal', 'ambition', 'ambitious', 'passionate','passion', 'badass', \n",
    "                          'confident', 'confidence', 'breakthrough', \"inspirational\", \"educated\"\n",
    "                         'inspiring', 'inspiration', 'inspire', 'empower', 'empowered', 'empowerement',\n",
    "                         'genius', 'expert', 'mastery', 'owner', 'businesswoman', 'intelligent', 'smart', \n",
    "                          'clever', 'wise', 'worth', 'role model', 'role-model', 'activist', \"pay\", \"work\", \n",
    "                          \"business\", \"win\", \"award\", \"appoint\", \"lead\", \"star\", \"boss\", \"dream\",'goddess', \n",
    "                          \"actor\", 'queen', \"launch\", \"worker\", \"lawyer\", \"education\", \"director\", \"protester\", \n",
    "                          \"protest\", \"governor\", \"survive\", \"stallion\", \"doctor\", \"voice\", \"perfect\", \"author\",\n",
    "                          \"mayor\", \"founder\", \"abortion\", \"rise\", \"1st\", \"winner\", \"artist\", \"graduate\", \n",
    "                          \"employee\", \"earning\", \"survivor\", \"scientist\", \"equality\", \"equal\", \"deputy\", \n",
    "                          \"entrepreneur\", \"survive\", \"parent\"])\n",
    "\n",
    "politics_words = set([\"trump\", \"biden\", \"kamala\", \"harris\", \"joe\", \"vote\", \"election\", \"president\", \"elect\", \n",
    "                      \"state\", \"government\", \"obama\", \"office\", \"campaign\", \"melania\", \"vice\", \"govt\", \"donald\", \n",
    "                      \"voter\", \"congress\", \"candidate\", \"political\", \"breonna\", \"taylor\", \"pelosi\", \"democratic\",\n",
    "                      \"politic\", \"democrats\", \"republican\", \"ivanka\", \"republicans\", \"hillary\", \"clinton\", \"susan\", \n",
    "                      \"collins\", \"warren\", \"rep\", \"rally\", \"debate\", \"senate\", \"washington\", \"speech\", \"presidential\",\n",
    "                      \"boris\", \"mandela\"])\n",
    "\n",
    "violence_words = set([\"find\", \"allegedly\", \"fire\", \"life\", 'violent', 'violence', 'crime', 'rape','rapist', 'raped', 'murder','kill', 'killed','killer',\n",
    "                     'murdered', 'murderer', 'attack', 'alleged', 'criminal', 'stab', 'knife', 'gun', 'guns', 'knives',\n",
    "                     'blood', 'bloodshed', 'court', 'rage', 'outrage', 'rob', 'steal', 'robber', 'stealer', 'beater', \"beaten\",\n",
    "                     'domestic violence', 'aggression', 'aggressor', 'war', 'battle', 'abduction', 'assault', 'assaulted',\n",
    "                     'drug', 'abuse', 'child abuse', 'prison', 'fraud', 'human traffic', 'homicide', 'organised crime',\n",
    "                     'organized crime', 'genocide', 'fight', 'manslaughter', 'terrorist', 'weapon', 'smuggl', 'shoplift',\n",
    "                     'vandalism', 'crime', 'theft', 'penalty', 'prison sentence', 'detained', 'guilty', 'trial',\n",
    "                     'defense', 'defend', 'armed', 'jail', 'illegal', 'accomplice',\n",
    "                     'alcohol', 'allegation', 'arson', 'bail', 'battery', 'dead', 'death', 'deadly', 'corrupt', 'killer', \n",
    "                     'sex crime', 'wanted', \"arrest\", \"police\", \"die\", \"charge\", \"suspect\", \"shoot\", \"sentence\", \"cop\", \"hit\", \n",
    "                     \"break\", \"beat\", \"judge\", \"kidnap\", \"law\", \"corruption\", \"gang\", \"suicide\", \"critically injured\", 'harassment',\n",
    "                     \"run\", \"crash\", \"hospital\", 'security', \"report\", \"risk\", \"fall\", \"burn\", \"escape\", \"threaten\", \"slam\",\n",
    "                     \"gangrape\", \"harass\", \"brutally\", \"drown\", \"justice\", \"hate\", \"racist\", \"allege\", \"lawsuit\", \"injure\", \"racism\", \n",
    "                      \"thug\", \"suffer\", \"injury\", \"horror\", \"killing\", \"robbery\", \"plead\", \"wound\", \"kidnapping\", \"convict\", \"shooting\"])\n",
    "\n",
    "female_bias = female_words.union(female_bias_words)\n",
    "male_bias = male_words.union(male_bias_words)"
   ]
  },
  {
   "cell_type": "code",
   "execution_count": 216,
   "metadata": {},
   "outputs": [],
   "source": [
    "# def gender_the_sentence(sentence_words):\n",
    "#     mw_length=len(male_words.intersection(sentence_words))\n",
    "#     fw_length=len(female_words.intersection(sentence_words))\n",
    "\n",
    "#     if mw_length>0 and fw_length==0:\n",
    "#         gender='male'\n",
    "#     elif mw_length==0 and fw_length>0: \n",
    "#         gender='female'\n",
    "#     elif mw_length>0 and fw_length>0: \n",
    "#         gender='both'\n",
    "#     else:\n",
    "#         gender='none'\n",
    "#     return gender"
   ]
  },
  {
   "cell_type": "code",
   "execution_count": 21,
   "metadata": {},
   "outputs": [],
   "source": [
    "def gender_the_sentence(sentence_words, type_words):\n",
    "#     mw_length=len(male_words.intersection(sentence_words))\n",
    "    sentence_words = set([porter.stem(word) for word in sentence_words])\n",
    "    type_words = set([porter.stem(word) for word in type_words])\n",
    "    \n",
    "    fw_length=len(type_words.intersection(sentence_words))\n",
    "\n",
    "#     if mw_length>0 and fw_length==0:\n",
    "#         gender='male'\n",
    "    if fw_length>0: \n",
    "        \n",
    "        gender=1\n",
    "    else:\n",
    "        gender=0\n",
    "    return gender"
   ]
  },
  {
   "cell_type": "code",
   "execution_count": 22,
   "metadata": {},
   "outputs": [],
   "source": [
    "def quantify_bias(sentence_words, type_words):\n",
    "#     mw_length=len(male_words.intersection(sentence_words))\n",
    "\n",
    "    sentence_words = set([porter.stem(word) for word in sentence_words])\n",
    "    type_words = set([porter.stem(word) for word in type_words])\n",
    "    f_bias_words = set([porter.stem(word) for word in female_bias_words])\n",
    "    m_bias_words = set([porter.stem(word) for word in male_bias_words])\n",
    "    \n",
    "    type_length=len(type_words.intersection(sentence_words))\n",
    "    bias_length = len(f_bias_words.intersection(sentence_words))\n",
    "#     if bias_length>0:\n",
    "#         print(sentence_words)\n",
    "#         print(bias_length)\n",
    "\n",
    "#     if mw_length>0 and fw_length==0:\n",
    "#         gender='male'\n",
    "    if type_length>0 and type_words == 'female_words': \n",
    "        bias=type_length + bias_length\n",
    "    elif type_length>0 and type_words == 'male_words': \n",
    "        bias=type_length + len(m_bias_words.intersection(sentence_words))\n",
    "    elif type_length>0 :\n",
    "        bias = type_length\n",
    "    else:\n",
    "        bias=0\n",
    "    return bias"
   ]
  },
  {
   "cell_type": "code",
   "execution_count": 23,
   "metadata": {},
   "outputs": [],
   "source": [
    "def label_word_theme(word, type_words, themes):\n",
    "    \n",
    "    \n",
    "    fw_length=len([porter.stem(word) for word in type_words[0]].intersection(set([porter.stem(word)])))\n",
    "    mw_length=len([porter.stem(word) for word in type_words[1]].intersection(set([porter.stem(word)])))\n",
    "    ew_length=len([porter.stem(word) for word in type_words[2]].intersection(set([porter.stem(word)])))\n",
    "    vw_length=len([porter.stem(word) for word in type_words[3]].intersection(set([porter.stem(word)])))\n",
    "#     r_length=len(type_words[4].intersection(set([word])))\n",
    "#     p_length=len(type_words[5].intersection(set([word])))\n",
    "#     if mw_length>0 and fw_length==0:\n",
    "#         gender='male'\n",
    "    if fw_length>0: \n",
    "        label=themes[0]\n",
    "        \n",
    "    elif mw_length>0: \n",
    "        label=themes[1]\n",
    "        \n",
    "    elif ew_length>0: \n",
    "        label=themes[2]\n",
    "        \n",
    "    elif vw_length>0: \n",
    "        label=themes[3]\n",
    "        \n",
    "#     elif r_length>0: \n",
    "#         label=themes[4]\n",
    "        \n",
    "#     elif p_length>0: \n",
    "#         label=themes[5]\n",
    "    else:\n",
    "        label=np.NaN\n",
    "    return label\n"
   ]
  },
  {
   "cell_type": "code",
   "execution_count": 24,
   "metadata": {},
   "outputs": [],
   "source": [
    "def label_word_theme(word, type_words, themes):\n",
    "#     mw_length=len(male_words.intersection(sentence_words))\n",
    "    fw_length=len([porter.stem(word) for word in type_words[0]].intersection(set([porter.stem(word)])))\n",
    "    mw_length=len([porter.stem(word) for word in type_words[1]].intersection(set([porter.stem(word)])))\n",
    "    ew_length=len([porter.stem(word) for word in type_words[2]].intersection(set([porter.stem(word)])))\n",
    "    vw_length=len([porter.stem(word) for word in type_words[3]].intersection(set([porter.stem(word)])))\n",
    "    r_length=len([porter.stem(word) for word in type_words[4]].intersection(set([porter.stem(word)])))\n",
    "    p_length=len([porter.stem(word) for word in type_words[5]].intersection(set([porter.stem(word)])))\n",
    "#     if mw_length>0 and fw_length==0:\n",
    "#         gender='male'\n",
    "    if fw_length>0: \n",
    "        label=themes[0]\n",
    "        \n",
    "    elif mw_length>0: \n",
    "        label=themes[1]\n",
    "        \n",
    "    elif ew_length>0: \n",
    "        label=themes[2]\n",
    "        \n",
    "    elif vw_length>0: \n",
    "        label=themes[3]\n",
    "        \n",
    "    elif r_length>0: \n",
    "        label=themes[4]\n",
    "        \n",
    "    elif p_length>0: \n",
    "        label=themes[5]\n",
    "    else:\n",
    "        label=np.NaN\n",
    "    return label\n"
   ]
  },
  {
   "cell_type": "code",
   "execution_count": 25,
   "metadata": {},
   "outputs": [
    {
     "name": "stdout",
     "output_type": "stream",
     "text": [
      "Wall time: 2h 4min 30s\n"
     ]
    }
   ],
   "source": [
    "%%time\n",
    "# create bias columns\n",
    "df['gendered'] = df['hl_words'].apply(lambda row: gender_the_sentence(row, female_words))\n",
    "df['bias'] = df['hl_words'].apply(lambda row: quantify_bias(row, female_words))\n",
    "# df['empowerement'] = df['hl_words'].apply(lambda row:quantify_bias(row, empowerement_words) )\n",
    "# #df['male_words'] = df['hl_words'].apply(lambda row:quantify_bias(row, male_words) )\n",
    "# df['male_bias'] = df['hl_words'].apply(lambda row:quantify_bias(row, male_words) )\n",
    "# df['violence'] = df['hl_words'].apply(lambda row:quantify_bias(row, violence_words) )"
   ]
  },
  {
   "cell_type": "code",
   "execution_count": 26,
   "metadata": {},
   "outputs": [],
   "source": [
    "# bias calculation\n",
    "df['bias'] = df['hl_words'].apply(lambda row: quantify_bias(row, female_words))"
   ]
  },
  {
   "cell_type": "code",
   "execution_count": 28,
   "metadata": {},
   "outputs": [],
   "source": [
    "#polarity calculation\n",
    "df['polarity'] = np.abs(df['compound_s'].values)\n",
    "df_base['polarity_base'] = np.abs(df_base['compound_s'].values)"
   ]
  },
  {
   "cell_type": "code",
   "execution_count": 29,
   "metadata": {},
   "outputs": [],
   "source": [
    "datatype = \"rapi\"\n",
    "df.to_csv(f\"../data/processed/headlines_cl_sent_pol_{datatype}.csv\")\n",
    "df = pd.read_csv(f\"../data/processed/headlines_cl_sent_pol_{datatype}.csv\")"
   ]
  },
  {
   "cell_type": "code",
   "execution_count": 30,
   "metadata": {},
   "outputs": [],
   "source": [
    "# aggregate by site\n",
    "df_site = df.groupby(by=['site', 'country_of_pub']).agg({'bias': 'sum', \n",
    "                                       'monthly_visits' :'mean', \n",
    "                                                        'polarity' : 'mean'}).reset_index().sort_values(by = 'bias', ascending = False).reset_index(drop=True)\n",
    "\n",
    "df_site_base = df_base.groupby(by=['site', 'country_of_pub']).agg({\n",
    "                                       'monthly_visits' :'mean', \n",
    "                                                        'polarity_base' : 'mean'}).reset_index()"
   ]
  },
  {
   "cell_type": "code",
   "execution_count": 31,
   "metadata": {},
   "outputs": [],
   "source": [
    "# scale bias and polarity for both agg site data and raw data\n",
    "df['bias'] = Scaler.fit_transform(df[['bias']])\n",
    "df_site['bias'] = Scaler.fit_transform(df_site[['bias']])\n",
    "df['polarity'] = Scaler.fit_transform(df[['polarity']])\n",
    "df_site['polarity'] = Scaler.fit_transform(df_site[['polarity']])\n",
    "df_site_base['polarity_base'] = Scaler.fit_transform(df_site_base[['polarity_base']])"
   ]
  },
  {
   "cell_type": "code",
   "execution_count": 32,
   "metadata": {},
   "outputs": [],
   "source": [
    "df[['url', 'headline_no_site','site', 'time', 'country', 'bias']].to_csv(f'../data/processed/headlines_cl_sent_sm_{datatype}.csv')"
   ]
  },
  {
   "cell_type": "code",
   "execution_count": 33,
   "metadata": {},
   "outputs": [],
   "source": [
    "newsrooms = pd.read_csv('../data/raw/newsrooms.csv')\n",
    "newsrooms.columns = ['site', 'monthly_visits', 'country', 'country_of_pub']\n",
    "site_views = newsrooms.groupby(by='site').agg({'monthly_visits': 'sum'}).reset_index()\n",
    "#df_site = site_views.join(df_site[['site', 'country_of_pub', 'bias', 'male_bias', 'empowerement', 'polarity', 'violence']].set_index('site'), on = 'site')"
   ]
  },
  {
   "cell_type": "code",
   "execution_count": 34,
   "metadata": {},
   "outputs": [
    {
     "name": "stderr",
     "output_type": "stream",
     "text": [
      "C:\\Users\\Leonardo\\Anaconda3\\lib\\site-packages\\seaborn\\distributions.py:2551: FutureWarning: `distplot` is a deprecated function and will be removed in a future version. Please adapt your code to use either `displot` (a figure-level function with similar flexibility) or `histplot` (an axes-level function for histograms).\n",
      "  warnings.warn(msg, FutureWarning)\n"
     ]
    },
    {
     "data": {
      "text/plain": [
       "<matplotlib.axes._subplots.AxesSubplot at 0x1fb0b1304e0>"
      ]
     },
     "execution_count": 34,
     "metadata": {},
     "output_type": "execute_result"
    },
    {
     "data": {
      "image/png": "[encoded data removed]",
      "text/plain": [
       "<Figure size 432x288 with 1 Axes>"
      ]
     },
     "metadata": {
      "needs_background": "light"
     },
     "output_type": "display_data"
    }
   ],
   "source": [
    "sns.distplot(df_site['polarity'])"
   ]
  },
  {
   "cell_type": "code",
   "execution_count": 35,
   "metadata": {},
   "outputs": [
    {
     "data": {
      "text/html": [
       "<div>\n",
       "<style scoped>\n",
       "    .dataframe tbody tr th:only-of-type {\n",
       "        vertical-align: middle;\n",
       "    }\n",
       "\n",
       "    .dataframe tbody tr th {\n",
       "        vertical-align: top;\n",
       "    }\n",
       "\n",
       "    .dataframe thead th {\n",
       "        text-align: right;\n",
       "    }\n",
       "</style>\n",
       "<table border=\"1\" class=\"dataframe\">\n",
       "  <thead>\n",
       "    <tr style=\"text-align: right;\">\n",
       "      <th></th>\n",
       "      <th>site</th>\n",
       "      <th>monthly_visits</th>\n",
       "      <th>country</th>\n",
       "      <th>country_of_pub</th>\n",
       "    </tr>\n",
       "  </thead>\n",
       "  <tbody>\n",
       "    <tr>\n",
       "      <th>0</th>\n",
       "      <td>economictimes.indiatimes.com</td>\n",
       "      <td>0</td>\n",
       "      <td>India</td>\n",
       "      <td>India</td>\n",
       "    </tr>\n",
       "    <tr>\n",
       "      <th>1</th>\n",
       "      <td>aajtak.in</td>\n",
       "      <td>681400000</td>\n",
       "      <td>India</td>\n",
       "      <td>India</td>\n",
       "    </tr>\n",
       "    <tr>\n",
       "      <th>2</th>\n",
       "      <td>yahoo.com</td>\n",
       "      <td>85920000</td>\n",
       "      <td>India</td>\n",
       "      <td>USA</td>\n",
       "    </tr>\n",
       "    <tr>\n",
       "      <th>3</th>\n",
       "      <td>indiatimes.com</td>\n",
       "      <td>81500000</td>\n",
       "      <td>India</td>\n",
       "      <td>India</td>\n",
       "    </tr>\n",
       "    <tr>\n",
       "      <th>4</th>\n",
       "      <td>ndtv.com</td>\n",
       "      <td>77830000</td>\n",
       "      <td>India</td>\n",
       "      <td>India</td>\n",
       "    </tr>\n",
       "  </tbody>\n",
       "</table>\n",
       "</div>"
      ],
      "text/plain": [
       "                           site  monthly_visits country country_of_pub\n",
       "0  economictimes.indiatimes.com               0   India          India\n",
       "1                     aajtak.in       681400000   India          India\n",
       "2                     yahoo.com        85920000   India            USA\n",
       "3                indiatimes.com        81500000   India          India\n",
       "4                      ndtv.com        77830000   India          India"
      ]
     },
     "execution_count": 35,
     "metadata": {},
     "output_type": "execute_result"
    }
   ],
   "source": [
    "newsrooms.head()"
   ]
  },
  {
   "cell_type": "code",
   "execution_count": 99,
   "metadata": {},
   "outputs": [
    {
     "data": {
      "text/html": [
       "<div>\n",
       "<style scoped>\n",
       "    .dataframe tbody tr th:only-of-type {\n",
       "        vertical-align: middle;\n",
       "    }\n",
       "\n",
       "    .dataframe tbody tr th {\n",
       "        vertical-align: top;\n",
       "    }\n",
       "\n",
       "    .dataframe thead th {\n",
       "        text-align: right;\n",
       "    }\n",
       "</style>\n",
       "<table border=\"1\" class=\"dataframe\">\n",
       "  <thead>\n",
       "    <tr style=\"text-align: right;\">\n",
       "      <th></th>\n",
       "      <th>site</th>\n",
       "      <th>country_of_pub</th>\n",
       "      <th>bias</th>\n",
       "      <th>monthly_visits</th>\n",
       "      <th>polarity</th>\n",
       "    </tr>\n",
       "  </thead>\n",
       "  <tbody>\n",
       "    <tr>\n",
       "      <th>0</th>\n",
       "      <td>dailymail.co.uk</td>\n",
       "      <td>UK</td>\n",
       "      <td>1.000000</td>\n",
       "      <td>2429000</td>\n",
       "      <td>0.587956</td>\n",
       "    </tr>\n",
       "    <tr>\n",
       "      <th>1</th>\n",
       "      <td>mirror.co.uk</td>\n",
       "      <td>UK</td>\n",
       "      <td>0.762101</td>\n",
       "      <td>55700000</td>\n",
       "      <td>0.660242</td>\n",
       "    </tr>\n",
       "    <tr>\n",
       "      <th>2</th>\n",
       "      <td>telegraph.co.uk</td>\n",
       "      <td>UK</td>\n",
       "      <td>0.687277</td>\n",
       "      <td>169500000</td>\n",
       "      <td>0.501216</td>\n",
       "    </tr>\n",
       "    <tr>\n",
       "      <th>3</th>\n",
       "      <td>abcnews.go.com</td>\n",
       "      <td>USA</td>\n",
       "      <td>0.649811</td>\n",
       "      <td>159709000</td>\n",
       "      <td>0.530927</td>\n",
       "    </tr>\n",
       "    <tr>\n",
       "      <th>4</th>\n",
       "      <td>nydailynews.com</td>\n",
       "      <td>USA</td>\n",
       "      <td>0.644288</td>\n",
       "      <td>150664000</td>\n",
       "      <td>0.725295</td>\n",
       "    </tr>\n",
       "    <tr>\n",
       "      <th>...</th>\n",
       "      <td>...</td>\n",
       "      <td>...</td>\n",
       "      <td>...</td>\n",
       "      <td>...</td>\n",
       "      <td>...</td>\n",
       "    </tr>\n",
       "    <tr>\n",
       "      <th>180</th>\n",
       "      <td>news.google.com</td>\n",
       "      <td>USA</td>\n",
       "      <td>0.000217</td>\n",
       "      <td>19480000</td>\n",
       "      <td>0.733448</td>\n",
       "    </tr>\n",
       "    <tr>\n",
       "      <th>181</th>\n",
       "      <td>howtogeek.com</td>\n",
       "      <td>USA</td>\n",
       "      <td>0.000108</td>\n",
       "      <td>7200000</td>\n",
       "      <td>1.000000</td>\n",
       "    </tr>\n",
       "    <tr>\n",
       "      <th>182</th>\n",
       "      <td>dailysun.co.za</td>\n",
       "      <td>South Africa</td>\n",
       "      <td>0.000108</td>\n",
       "      <td>0</td>\n",
       "      <td>0.801696</td>\n",
       "    </tr>\n",
       "    <tr>\n",
       "      <th>183</th>\n",
       "      <td>makeuseof.com</td>\n",
       "      <td>UK</td>\n",
       "      <td>0.000108</td>\n",
       "      <td>6200000</td>\n",
       "      <td>0.000000</td>\n",
       "    </tr>\n",
       "    <tr>\n",
       "      <th>184</th>\n",
       "      <td>pcadvisor.co.uk</td>\n",
       "      <td>UK</td>\n",
       "      <td>0.000000</td>\n",
       "      <td>10400000</td>\n",
       "      <td>0.567122</td>\n",
       "    </tr>\n",
       "  </tbody>\n",
       "</table>\n",
       "<p>185 rows × 5 columns</p>\n",
       "</div>"
      ],
      "text/plain": [
       "                site country_of_pub      bias  monthly_visits  polarity\n",
       "0    dailymail.co.uk             UK  1.000000         2429000  0.587956\n",
       "1       mirror.co.uk             UK  0.762101        55700000  0.660242\n",
       "2    telegraph.co.uk             UK  0.687277       169500000  0.501216\n",
       "3     abcnews.go.com            USA  0.649811       159709000  0.530927\n",
       "4    nydailynews.com            USA  0.644288       150664000  0.725295\n",
       "..               ...            ...       ...             ...       ...\n",
       "180  news.google.com            USA  0.000217        19480000  0.733448\n",
       "181    howtogeek.com            USA  0.000108         7200000  1.000000\n",
       "182   dailysun.co.za   South Africa  0.000108               0  0.801696\n",
       "183    makeuseof.com             UK  0.000108         6200000  0.000000\n",
       "184  pcadvisor.co.uk             UK  0.000000        10400000  0.567122\n",
       "\n",
       "[185 rows x 5 columns]"
      ]
     },
     "execution_count": 99,
     "metadata": {},
     "output_type": "execute_result"
    }
   ],
   "source": [
    "df_site"
   ]
  },
  {
   "cell_type": "code",
   "execution_count": 35,
   "metadata": {},
   "outputs": [],
   "source": [
    "dfs = [df_site[['site', 'bias', 'polarity','country_of_pub']], site_views[['site', 'monthly_visits']]]\n",
    "df_site_f = reduce(lambda left, right: pd.merge(left, right, on = 'site'), dfs)\n",
    "df_site_f = pd.merge(df_site_f, df_site_base[['site', 'polarity_base']], on='site', how=\"left\")"
   ]
  },
  {
   "cell_type": "code",
   "execution_count": 36,
   "metadata": {},
   "outputs": [],
   "source": [
    "df_site_f['polarity_delta'] = (df_site_f['polarity']-df_site_f['polarity_base'])/df_site_f['polarity_base']"
   ]
  },
  {
   "cell_type": "code",
   "execution_count": 116,
   "metadata": {},
   "outputs": [],
   "source": [
    "# df_site_f.describe()"
   ]
  },
  {
   "cell_type": "code",
   "execution_count": 37,
   "metadata": {},
   "outputs": [],
   "source": [
    "df_site_f.to_csv(f'../data/processed/headlines_site_{datatype}.csv')"
   ]
  },
  {
   "cell_type": "code",
   "execution_count": 43,
   "metadata": {},
   "outputs": [
    {
     "data": {
      "text/html": [
       "<div>\n",
       "<style scoped>\n",
       "    .dataframe tbody tr th:only-of-type {\n",
       "        vertical-align: middle;\n",
       "    }\n",
       "\n",
       "    .dataframe tbody tr th {\n",
       "        vertical-align: top;\n",
       "    }\n",
       "\n",
       "    .dataframe thead th {\n",
       "        text-align: right;\n",
       "    }\n",
       "</style>\n",
       "<table border=\"1\" class=\"dataframe\">\n",
       "  <thead>\n",
       "    <tr style=\"text-align: right;\">\n",
       "      <th></th>\n",
       "      <th>site</th>\n",
       "      <th>bias</th>\n",
       "      <th>polarity</th>\n",
       "      <th>country_of_pub</th>\n",
       "      <th>monthly_visits</th>\n",
       "      <th>polarity_base</th>\n",
       "      <th>polarity_delta</th>\n",
       "    </tr>\n",
       "  </thead>\n",
       "  <tbody>\n",
       "    <tr>\n",
       "      <th>174</th>\n",
       "      <td>ft.com</td>\n",
       "      <td>0.002776</td>\n",
       "      <td>0.328646</td>\n",
       "      <td>UK</td>\n",
       "      <td>19400000</td>\n",
       "      <td>0.341075</td>\n",
       "      <td>-0.03644</td>\n",
       "    </tr>\n",
       "  </tbody>\n",
       "</table>\n",
       "</div>"
      ],
      "text/plain": [
       "       site      bias  polarity country_of_pub  monthly_visits  polarity_base  \\\n",
       "174  ft.com  0.002776  0.328646             UK        19400000       0.341075   \n",
       "\n",
       "     polarity_delta  \n",
       "174        -0.03644  "
      ]
     },
     "execution_count": 43,
     "metadata": {},
     "output_type": "execute_result"
    }
   ],
   "source": [
    "df_site_f[df_site_f['site'] == \"ft.com\"]"
   ]
  },
  {
   "cell_type": "code",
   "execution_count": 43,
   "metadata": {},
   "outputs": [],
   "source": [
    "# df_country"
   ]
  },
  {
   "cell_type": "markdown",
   "metadata": {},
   "source": [
    "#### Label word frequencies"
   ]
  },
  {
   "cell_type": "code",
   "execution_count": 61,
   "metadata": {},
   "outputs": [
    {
     "name": "stderr",
     "output_type": "stream",
     "text": [
      "C:\\Users\\Leonardo\\Anaconda3\\lib\\site-packages\\IPython\\core\\interactiveshell.py:3147: DtypeWarning: Columns (7) have mixed types.Specify dtype option on import or set low_memory=False.\n",
      "  interactivity=interactivity, compiler=compiler, result=result)\n"
     ]
    }
   ],
   "source": [
    "# word frequencies\n",
    "import numpy as np\n",
    "countries_freq = pd.read_csv('../data/processed/countries_freq.csv')\n",
    "sites_freq = pd.read_csv('../data/processed/sites_freq.csv')"
   ]
  },
  {
   "cell_type": "code",
   "execution_count": 62,
   "metadata": {},
   "outputs": [
    {
     "name": "stderr",
     "output_type": "stream",
     "text": [
      "C:\\Users\\Leonardo\\Anaconda3\\lib\\site-packages\\ipykernel_launcher.py:13: SettingWithCopyWarning: \n",
      "A value is trying to be set on a copy of a slice from a DataFrame\n",
      "\n",
      "See the caveats in the documentation: https://pandas.pydata.org/pandas-docs/stable/user_guide/indexing.html#returning-a-view-versus-a-copy\n",
      "  del sys.path[0]\n",
      "C:\\Users\\Leonardo\\Anaconda3\\lib\\site-packages\\ipykernel_launcher.py:15: SettingWithCopyWarning: \n",
      "A value is trying to be set on a copy of a slice from a DataFrame\n",
      "\n",
      "See the caveats in the documentation: https://pandas.pydata.org/pandas-docs/stable/user_guide/indexing.html#returning-a-view-versus-a-copy\n",
      "  from ipykernel import kernelapp as app\n"
     ]
    }
   ],
   "source": [
    "countries_freq['theme'] = countries_freq['word'].apply(lambda word: label_word_theme(word, type_words=[female_bias, male_bias, \n",
    "                                                                                                       empowerement_words, violence_words, discrimination_words, politics_words], \n",
    "                                                                                     themes = [\"female\", \"male\", \"empowerment\", \"violence\", \"race\", \"politics\"]))\n",
    "\n",
    "sites_freq['theme'] = countries_freq['word'].apply(lambda word: label_word_theme(word, type_words=[female_bias, male_words, \n",
    "                                                                                                       empowerement_words, violence_words, discrimination_words, politics_words], \n",
    "                                                                                     themes = [\"female\", \"male\", \"empowerment\", \"violence\", \"race\", \"politics\"]))\n",
    "# normalize word frequencies within each country\n",
    "countries_freq['perc_freq'] = np.NaN\n",
    "sites_freq['perc_freq'] = np.NaN\n",
    "\n",
    "for country in countries_freq['country'].unique():\n",
    "    countries_freq['perc_freq'][countries_freq['country'] == country] = countries_freq['frequency'][countries_freq['country'] == country]/countries_freq['frequency'][countries_freq['country'] == country].head(1000).sum()\n",
    "for site in sites_freq['site'].unique():\n",
    "    sites_freq['perc_freq'][sites_freq['site'] == site] = sites_freq['frequency'][sites_freq['site'] == site]/sites_freq['frequency'][sites_freq['site'] == site].head(1000).sum()"
   ]
  },
  {
   "cell_type": "code",
   "execution_count": 65,
   "metadata": {},
   "outputs": [
    {
     "data": {
      "text/plain": [
       "array([nan, 'male', 'violence', 'female', 'race', 'empowerment',\n",
       "       'politics'], dtype=object)"
      ]
     },
     "execution_count": 65,
     "metadata": {},
     "output_type": "execute_result"
    }
   ],
   "source": [
    "countries_freq.theme.unique()"
   ]
  },
  {
   "cell_type": "code",
   "execution_count": 67,
   "metadata": {},
   "outputs": [],
   "source": [
    "remove_words = ['say', 'new', 'time', \"south\", \"africa\", \"india\", \"england\", \"united states\", \"american\", \"americans\", \n",
    "             \"UK\", \"get\", \"video\", \"tell\", \"cape\", \"makesefakese\", \"not\", \"no\", \"ask\", \"november\", \"c19\", \"covid19\"]"
   ]
  },
  {
   "cell_type": "code",
   "execution_count": 69,
   "metadata": {},
   "outputs": [],
   "source": [
    "countries_freq = countries_freq[~countries_freq['word'].isin(remove_words)]"
   ]
  },
  {
   "cell_type": "code",
   "execution_count": 70,
   "metadata": {},
   "outputs": [
    {
     "data": {
      "text/plain": [
       "1569"
      ]
     },
     "execution_count": 70,
     "metadata": {},
     "output_type": "execute_result"
    }
   ],
   "source": [
    "len(countries_freq[countries_freq.theme.isna()==False])"
   ]
  },
  {
   "cell_type": "code",
   "execution_count": 71,
   "metadata": {},
   "outputs": [
    {
     "data": {
      "text/plain": [
       "1512"
      ]
     },
     "execution_count": 71,
     "metadata": {},
     "output_type": "execute_result"
    }
   ],
   "source": [
    "len(sites_freq[sites_freq.theme.isna()==False])"
   ]
  },
  {
   "cell_type": "code",
   "execution_count": 72,
   "metadata": {},
   "outputs": [
    {
     "name": "stderr",
     "output_type": "stream",
     "text": [
      "C:\\Users\\Leonardo\\Anaconda3\\lib\\site-packages\\ipykernel_launcher.py:1: SettingWithCopyWarning: \n",
      "A value is trying to be set on a copy of a slice from a DataFrame.\n",
      "Try using .loc[row_indexer,col_indexer] = value instead\n",
      "\n",
      "See the caveats in the documentation: https://pandas.pydata.org/pandas-docs/stable/user_guide/indexing.html#returning-a-view-versus-a-copy\n",
      "  \"\"\"Entry point for launching an IPython kernel.\n",
      "C:\\Users\\Leonardo\\Anaconda3\\lib\\site-packages\\ipykernel_launcher.py:3: SettingWithCopyWarning: \n",
      "A value is trying to be set on a copy of a slice from a DataFrame\n",
      "\n",
      "See the caveats in the documentation: https://pandas.pydata.org/pandas-docs/stable/user_guide/indexing.html#returning-a-view-versus-a-copy\n",
      "  This is separate from the ipykernel package so we can avoid doing imports until\n",
      "C:\\Users\\Leonardo\\Anaconda3\\lib\\site-packages\\pandas\\core\\generic.py:8767: SettingWithCopyWarning: \n",
      "A value is trying to be set on a copy of a slice from a DataFrame\n",
      "\n",
      "See the caveats in the documentation: https://pandas.pydata.org/pandas-docs/stable/user_guide/indexing.html#returning-a-view-versus-a-copy\n",
      "  self._update_inplace(new_data)\n"
     ]
    }
   ],
   "source": [
    "countries_freq['cluster'] = np.NaN\n",
    "for country in countries_freq['country'].unique():\n",
    "    countries_freq['cluster'][countries_freq['country'] == country] = countries_freq['country'][countries_freq['country'] == country]+\", \"+ countries_freq['theme'][countries_freq['country'] == country]"
   ]
  },
  {
   "cell_type": "code",
   "execution_count": 78,
   "metadata": {},
   "outputs": [],
   "source": [
    "countries_clusters = countries_freq[countries_freq['theme'].isin([\"female\", \"male\", \"empowerment\", \"violence\"])].dropna()"
   ]
  },
  {
   "cell_type": "code",
   "execution_count": 79,
   "metadata": {},
   "outputs": [
    {
     "data": {
      "text/plain": [
       "array(['male', 'violence', 'female', 'empowerment'], dtype=object)"
      ]
     },
     "execution_count": 79,
     "metadata": {},
     "output_type": "execute_result"
    }
   ],
   "source": [
    "countries_clusters.theme.unique()"
   ]
  },
  {
   "cell_type": "code",
   "execution_count": 82,
   "metadata": {},
   "outputs": [],
   "source": [
    "# countries_freq[countries_freq['country']==\"India\"].iloc[100:150, :]"
   ]
  },
  {
   "cell_type": "code",
   "execution_count": 80,
   "metadata": {},
   "outputs": [],
   "source": [
    "countries_freq.to_csv('../data/processed/countries_freq.csv')\n",
    "countries_clusters.to_csv('../data/processed/countries_clusters.csv')\n",
    "sites_freq.to_csv('../data/processed/sites_freq.csv')"
   ]
  }
 ],
 "metadata": {
  "kernelspec": {
   "display_name": "Python 3",
   "language": "python",
   "name": "python3"
  },
  "language_info": {
   "codemirror_mode": {
    "name": "ipython",
    "version": 3
   },
   "file_extension": ".py",
   "mimetype": "text/x-python",
   "name": "python",
   "nbconvert_exporter": "python",
   "pygments_lexer": "ipython3",
   "version": "3.7.3"
  }
 },
 "nbformat": 4,
 "nbformat_minor": 4
}
