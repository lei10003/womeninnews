{
 "metadata": {
  "language_info": {
   "codemirror_mode": {
    "name": "ipython",
    "version": 3
   },
   "file_extension": ".py",
   "mimetype": "text/x-python",
   "name": "python",
   "nbconvert_exporter": "python",
   "pygments_lexer": "ipython3",
   "version": "3.8.5"
  },
  "orig_nbformat": 2,
  "kernelspec": {
   "name": "python385jvsc74a57bd0c377a3a05ba1d31fd00218651f72b0a27b3c45e2b83cef10397a5da0ee866dc9",
   "display_name": "Python 3.8.5 64-bit ('base': conda)"
  }
 },
 "nbformat": 4,
 "nbformat_minor": 2,
 "cells": [
  {
   "cell_type": "code",
   "execution_count": 1,
   "metadata": {},
   "outputs": [],
   "source": [
    "import pandas as pd\n",
    "import numpy as np"
   ]
  },
  {
   "cell_type": "code",
   "execution_count": 2,
   "metadata": {},
   "outputs": [],
   "source": [
    "headlines = pd.read_csv('../data/processed/headlines_cl_sent_pol_rapi.csv')"
   ]
  },
  {
   "cell_type": "code",
   "execution_count": 3,
   "metadata": {},
   "outputs": [],
   "source": [
    "headlines.drop_duplicates(subset = ['clean_hl_words'], inplace = True)"
   ]
  },
  {
   "cell_type": "code",
   "execution_count": 4,
   "metadata": {},
   "outputs": [],
   "source": [
    "countries_freq = pd.read_csv('../data/processed/countries_freq_rapi.csv')"
   ]
  },
  {
   "cell_type": "code",
   "execution_count": 5,
   "metadata": {},
   "outputs": [
    {
     "output_type": "execute_result",
     "data": {
      "text/plain": [
       "        Unnamed: 0         word  frequency       country\n",
       "0                0          man        616  South Africa\n",
       "1                1           sa        568  South Africa\n",
       "2                2         kill        552  South Africa\n",
       "3                3        watch        541  South Africa\n",
       "4                4         rape        481  South Africa\n",
       "...            ...          ...        ...           ...\n",
       "110905       29351       rogers          1         India\n",
       "110906       29352    pocketful          1         India\n",
       "110907       29353       blasts          1         India\n",
       "110908       29354  candlelight          1         India\n",
       "110909       29355    digangana          1         India\n",
       "\n",
       "[110910 rows x 4 columns]"
      ],
      "text/html": "<div>\n<style scoped>\n    .dataframe tbody tr th:only-of-type {\n        vertical-align: middle;\n    }\n\n    .dataframe tbody tr th {\n        vertical-align: top;\n    }\n\n    .dataframe thead th {\n        text-align: right;\n    }\n</style>\n<table border=\"1\" class=\"dataframe\">\n  <thead>\n    <tr style=\"text-align: right;\">\n      <th></th>\n      <th>Unnamed: 0</th>\n      <th>word</th>\n      <th>frequency</th>\n      <th>country</th>\n    </tr>\n  </thead>\n  <tbody>\n    <tr>\n      <th>0</th>\n      <td>0</td>\n      <td>man</td>\n      <td>616</td>\n      <td>South Africa</td>\n    </tr>\n    <tr>\n      <th>1</th>\n      <td>1</td>\n      <td>sa</td>\n      <td>568</td>\n      <td>South Africa</td>\n    </tr>\n    <tr>\n      <th>2</th>\n      <td>2</td>\n      <td>kill</td>\n      <td>552</td>\n      <td>South Africa</td>\n    </tr>\n    <tr>\n      <th>3</th>\n      <td>3</td>\n      <td>watch</td>\n      <td>541</td>\n      <td>South Africa</td>\n    </tr>\n    <tr>\n      <th>4</th>\n      <td>4</td>\n      <td>rape</td>\n      <td>481</td>\n      <td>South Africa</td>\n    </tr>\n    <tr>\n      <th>...</th>\n      <td>...</td>\n      <td>...</td>\n      <td>...</td>\n      <td>...</td>\n    </tr>\n    <tr>\n      <th>110905</th>\n      <td>29351</td>\n      <td>rogers</td>\n      <td>1</td>\n      <td>India</td>\n    </tr>\n    <tr>\n      <th>110906</th>\n      <td>29352</td>\n      <td>pocketful</td>\n      <td>1</td>\n      <td>India</td>\n    </tr>\n    <tr>\n      <th>110907</th>\n      <td>29353</td>\n      <td>blasts</td>\n      <td>1</td>\n      <td>India</td>\n    </tr>\n    <tr>\n      <th>110908</th>\n      <td>29354</td>\n      <td>candlelight</td>\n      <td>1</td>\n      <td>India</td>\n    </tr>\n    <tr>\n      <th>110909</th>\n      <td>29355</td>\n      <td>digangana</td>\n      <td>1</td>\n      <td>India</td>\n    </tr>\n  </tbody>\n</table>\n<p>110910 rows × 4 columns</p>\n</div>"
     },
     "metadata": {},
     "execution_count": 5
    }
   ],
   "source": [
    "countries_freq"
   ]
  },
  {
   "cell_type": "code",
   "execution_count": 6,
   "metadata": {},
   "outputs": [],
   "source": [
    "headlines['time']= headlines.time.str.split('+', expand=True)[0]"
   ]
  },
  {
   "cell_type": "code",
   "execution_count": 7,
   "metadata": {},
   "outputs": [],
   "source": [
    "df = headlines[['clean_hl_words', 'country', 'time']]"
   ]
  },
  {
   "cell_type": "code",
   "execution_count": 8,
   "metadata": {},
   "outputs": [
    {
     "output_type": "stream",
     "name": "stderr",
     "text": [
      "<ipython-input-8-6351246ca3f1>:2: SettingWithCopyWarning: \nA value is trying to be set on a copy of a slice from a DataFrame.\nTry using .loc[row_indexer,col_indexer] = value instead\n\nSee the caveats in the documentation: https://pandas.pydata.org/pandas-docs/stable/user_guide/indexing.html#returning-a-view-versus-a-copy\n  df['time'] = df['time'].apply(lambda x: datetime.strptime(x, '%Y-%m-%d %H:%M:%S'))\n"
     ]
    }
   ],
   "source": [
    "from datetime import datetime\n",
    "df['time'] = df['time'].apply(lambda x: datetime.strptime(x, '%Y-%m-%d %H:%M:%S'))"
   ]
  },
  {
   "cell_type": "code",
   "execution_count": 9,
   "metadata": {},
   "outputs": [
    {
     "output_type": "stream",
     "name": "stderr",
     "text": [
      "<ipython-input-9-68623b5807f2>:1: SettingWithCopyWarning: \n",
      "A value is trying to be set on a copy of a slice from a DataFrame.\n",
      "Try using .loc[row_indexer,col_indexer] = value instead\n",
      "\n",
      "See the caveats in the documentation: https://pandas.pydata.org/pandas-docs/stable/user_guide/indexing.html#returning-a-view-versus-a-copy\n",
      "  df['clean_hl_words'] = df['clean_hl_words'].str.replace('{', '')\n",
      "<ipython-input-9-68623b5807f2>:2: SettingWithCopyWarning: \n",
      "A value is trying to be set on a copy of a slice from a DataFrame.\n",
      "Try using .loc[row_indexer,col_indexer] = value instead\n",
      "\n",
      "See the caveats in the documentation: https://pandas.pydata.org/pandas-docs/stable/user_guide/indexing.html#returning-a-view-versus-a-copy\n",
      "  df['clean_hl_words'] = df['clean_hl_words'].str.replace('}', '')\n",
      "<ipython-input-9-68623b5807f2>:3: SettingWithCopyWarning: \n",
      "A value is trying to be set on a copy of a slice from a DataFrame.\n",
      "Try using .loc[row_indexer,col_indexer] = value instead\n",
      "\n",
      "See the caveats in the documentation: https://pandas.pydata.org/pandas-docs/stable/user_guide/indexing.html#returning-a-view-versus-a-copy\n",
      "  df['clean_hl_words'] = df['clean_hl_words'].str.split(\",\")\n"
     ]
    }
   ],
   "source": [
    "df['clean_hl_words'] = df['clean_hl_words'].str.replace('{', '')\n",
    "df['clean_hl_words'] = df['clean_hl_words'].str.replace('}', '')\n",
    "df['clean_hl_words'] = df['clean_hl_words'].str.split(\",\")"
   ]
  },
  {
   "cell_type": "code",
   "execution_count": 10,
   "metadata": {},
   "outputs": [],
   "source": [
    "%%time\n",
    "freq = df.set_index('time').groupby([pd.Grouper(freq = 'Y'), 'country']).sum()"
   ]
  },
  {
   "cell_type": "code",
   "execution_count": 11,
   "metadata": {},
   "outputs": [
    {
     "output_type": "stream",
     "name": "stdout",
     "text": [
      "There is  17 year of data\n"
     ]
    }
   ],
   "source": [
    "print(\"There is \" ,len(freq.reset_index()['time'].unique()), \"year of data\")"
   ]
  },
  {
   "cell_type": "code",
   "execution_count": 12,
   "metadata": {},
   "outputs": [],
   "source": [
    "freq = freq.reset_index()"
   ]
  },
  {
   "cell_type": "code",
   "execution_count": 18,
   "metadata": {},
   "outputs": [
    {
     "output_type": "execute_result",
     "data": {
      "text/plain": [
       "         time       country                                     clean_hl_words\n",
       "0  2005-12-31         India  {''aug'': 2, ' 'son'': 2, ' 'monster'': 2, ' '...\n",
       "1  2005-12-31  South Africa      {''monroe'': 1, ' 'stand'': 1, ' 'night'': 1}\n",
       "2  2005-12-31            UK  {''call'': 1, ' 'kill'': 3, ' 'parent'': 1, ''...\n",
       "3  2005-12-31           USA  {''iowa'': 1, ' 'snatch'': 1, ' 'dead'': 2, ' ...\n",
       "4  2006-12-31         India  {''ramsey'': 1, ' 'jun'': 1, ' 'die'': 2, ' 'j...\n",
       "..        ...           ...                                                ...\n",
       "61 2020-12-31           USA  {''young'': 1, ' 'batter'': 1, ' 'chicago'': 1...\n",
       "62 2021-12-31         India  {''leader'': 2, ' 'world'': 2, ' 'aspire'': 1,...\n",
       "63 2021-12-31  South Africa  {''reinhart'': 1, ' 'nation'': 1, ' 'bank'': 1...\n",
       "64 2021-12-31            UK  {''tills'': 1, ' 'young'': 1, ' 'elderly'': 2,...\n",
       "65 2021-12-31           USA  {''make'': 1, ' 'policy'': 1, ' 'scout'': 1, '...\n",
       "\n",
       "[66 rows x 3 columns]"
      ],
      "text/html": "<div>\n<style scoped>\n    .dataframe tbody tr th:only-of-type {\n        vertical-align: middle;\n    }\n\n    .dataframe tbody tr th {\n        vertical-align: top;\n    }\n\n    .dataframe thead th {\n        text-align: right;\n    }\n</style>\n<table border=\"1\" class=\"dataframe\">\n  <thead>\n    <tr style=\"text-align: right;\">\n      <th></th>\n      <th>time</th>\n      <th>country</th>\n      <th>clean_hl_words</th>\n    </tr>\n  </thead>\n  <tbody>\n    <tr>\n      <th>0</th>\n      <td>2005-12-31</td>\n      <td>India</td>\n      <td>{''aug'': 2, ' 'son'': 2, ' 'monster'': 2, ' '...</td>\n    </tr>\n    <tr>\n      <th>1</th>\n      <td>2005-12-31</td>\n      <td>South Africa</td>\n      <td>{''monroe'': 1, ' 'stand'': 1, ' 'night'': 1}</td>\n    </tr>\n    <tr>\n      <th>2</th>\n      <td>2005-12-31</td>\n      <td>UK</td>\n      <td>{''call'': 1, ' 'kill'': 3, ' 'parent'': 1, ''...</td>\n    </tr>\n    <tr>\n      <th>3</th>\n      <td>2005-12-31</td>\n      <td>USA</td>\n      <td>{''iowa'': 1, ' 'snatch'': 1, ' 'dead'': 2, ' ...</td>\n    </tr>\n    <tr>\n      <th>4</th>\n      <td>2006-12-31</td>\n      <td>India</td>\n      <td>{''ramsey'': 1, ' 'jun'': 1, ' 'die'': 2, ' 'j...</td>\n    </tr>\n    <tr>\n      <th>...</th>\n      <td>...</td>\n      <td>...</td>\n      <td>...</td>\n    </tr>\n    <tr>\n      <th>61</th>\n      <td>2020-12-31</td>\n      <td>USA</td>\n      <td>{''young'': 1, ' 'batter'': 1, ' 'chicago'': 1...</td>\n    </tr>\n    <tr>\n      <th>62</th>\n      <td>2021-12-31</td>\n      <td>India</td>\n      <td>{''leader'': 2, ' 'world'': 2, ' 'aspire'': 1,...</td>\n    </tr>\n    <tr>\n      <th>63</th>\n      <td>2021-12-31</td>\n      <td>South Africa</td>\n      <td>{''reinhart'': 1, ' 'nation'': 1, ' 'bank'': 1...</td>\n    </tr>\n    <tr>\n      <th>64</th>\n      <td>2021-12-31</td>\n      <td>UK</td>\n      <td>{''tills'': 1, ' 'young'': 1, ' 'elderly'': 2,...</td>\n    </tr>\n    <tr>\n      <th>65</th>\n      <td>2021-12-31</td>\n      <td>USA</td>\n      <td>{''make'': 1, ' 'policy'': 1, ' 'scout'': 1, '...</td>\n    </tr>\n  </tbody>\n</table>\n<p>66 rows × 3 columns</p>\n</div>"
     },
     "metadata": {},
     "execution_count": 18
    }
   ],
   "source": [
    "freq"
   ]
  },
  {
   "cell_type": "code",
   "execution_count": 17,
   "metadata": {},
   "outputs": [],
   "source": [
    "import collections\n",
    "freq['clean_hl_words'] = freq['clean_hl_words'].apply(lambda x: collections.Counter(x))"
   ]
  },
  {
   "cell_type": "code",
   "execution_count": null,
   "metadata": {},
   "outputs": [],
   "source": [
    "def prop(list):\n",
    "    "
   ]
  },
  {
   "cell_type": "code",
   "execution_count": 85,
   "metadata": {},
   "outputs": [
    {
     "output_type": "execute_result",
     "data": {
      "text/plain": [
       "dict_values([3, 1])"
      ]
     },
     "metadata": {},
     "execution_count": 85
    }
   ],
   "source": [
    "test = [1,1,1,0]\n",
    "a = collections.Counter(test)\n"
   ]
  },
  {
   "cell_type": "code",
   "execution_count": 92,
   "metadata": {},
   "outputs": [],
   "source": [
    "def get_proportional_frequency(dict):\n",
    "    return {k: 100*(v/ sum([v for k,v in dict.items()])) for k,v in dict.items()}"
   ]
  },
  {
   "cell_type": "code",
   "execution_count": 94,
   "metadata": {},
   "outputs": [],
   "source": [
    "freq['clean_hl_words_prop']= freq['clean_hl_words'].apply(lambda x: get_proportional_frequency(x))"
   ]
  },
  {
   "cell_type": "code",
   "execution_count": 95,
   "metadata": {},
   "outputs": [],
   "source": [
    "import json\n",
    "df2 = freq.join(freq.clean_hl_words_prop.apply(pd.Series), how = 'left').melt(id_vars=['time', 'country', 'clean_hl_words', 'clean_hl_words_prop'])"
   ]
  },
  {
   "cell_type": "code",
   "execution_count": null,
   "metadata": {},
   "outputs": [],
   "source": [
    "df2.drop(columns = ['clean_hl_words', 'clean_hl_words_prop'], inplace = True)"
   ]
  },
  {
   "cell_type": "code",
   "execution_count": 99,
   "metadata": {},
   "outputs": [
    {
     "output_type": "execute_result",
     "data": {
      "text/plain": [
       "              time       country   variable     value\n",
       "0       2005-12-31         India      'aug'  0.450450\n",
       "1       2005-12-31  South Africa      'aug'       NaN\n",
       "2       2005-12-31            UK      'aug'       NaN\n",
       "3       2005-12-31           USA      'aug'       NaN\n",
       "4       2006-12-31         India      'aug'       NaN\n",
       "...            ...           ...        ...       ...\n",
       "5397343 2020-12-31           USA   'mynatt'       NaN\n",
       "5397344 2021-12-31         India   'mynatt'       NaN\n",
       "5397345 2021-12-31  South Africa   'mynatt'       NaN\n",
       "5397346 2021-12-31            UK   'mynatt'       NaN\n",
       "5397347 2021-12-31           USA   'mynatt'  0.943396\n",
       "\n",
       "[5397348 rows x 4 columns]"
      ],
      "text/html": "<div>\n<style scoped>\n    .dataframe tbody tr th:only-of-type {\n        vertical-align: middle;\n    }\n\n    .dataframe tbody tr th {\n        vertical-align: top;\n    }\n\n    .dataframe thead th {\n        text-align: right;\n    }\n</style>\n<table border=\"1\" class=\"dataframe\">\n  <thead>\n    <tr style=\"text-align: right;\">\n      <th></th>\n      <th>time</th>\n      <th>country</th>\n      <th>variable</th>\n      <th>value</th>\n    </tr>\n  </thead>\n  <tbody>\n    <tr>\n      <th>0</th>\n      <td>2005-12-31</td>\n      <td>India</td>\n      <td>'aug'</td>\n      <td>0.450450</td>\n    </tr>\n    <tr>\n      <th>1</th>\n      <td>2005-12-31</td>\n      <td>South Africa</td>\n      <td>'aug'</td>\n      <td>NaN</td>\n    </tr>\n    <tr>\n      <th>2</th>\n      <td>2005-12-31</td>\n      <td>UK</td>\n      <td>'aug'</td>\n      <td>NaN</td>\n    </tr>\n    <tr>\n      <th>3</th>\n      <td>2005-12-31</td>\n      <td>USA</td>\n      <td>'aug'</td>\n      <td>NaN</td>\n    </tr>\n    <tr>\n      <th>4</th>\n      <td>2006-12-31</td>\n      <td>India</td>\n      <td>'aug'</td>\n      <td>NaN</td>\n    </tr>\n    <tr>\n      <th>...</th>\n      <td>...</td>\n      <td>...</td>\n      <td>...</td>\n      <td>...</td>\n    </tr>\n    <tr>\n      <th>5397343</th>\n      <td>2020-12-31</td>\n      <td>USA</td>\n      <td>'mynatt'</td>\n      <td>NaN</td>\n    </tr>\n    <tr>\n      <th>5397344</th>\n      <td>2021-12-31</td>\n      <td>India</td>\n      <td>'mynatt'</td>\n      <td>NaN</td>\n    </tr>\n    <tr>\n      <th>5397345</th>\n      <td>2021-12-31</td>\n      <td>South Africa</td>\n      <td>'mynatt'</td>\n      <td>NaN</td>\n    </tr>\n    <tr>\n      <th>5397346</th>\n      <td>2021-12-31</td>\n      <td>UK</td>\n      <td>'mynatt'</td>\n      <td>NaN</td>\n    </tr>\n    <tr>\n      <th>5397347</th>\n      <td>2021-12-31</td>\n      <td>USA</td>\n      <td>'mynatt'</td>\n      <td>0.943396</td>\n    </tr>\n  </tbody>\n</table>\n<p>5397348 rows × 4 columns</p>\n</div>"
     },
     "metadata": {},
     "execution_count": 99
    }
   ],
   "source": [
    "df2.dropna"
   ]
  },
  {
   "cell_type": "code",
   "execution_count": 100,
   "metadata": {},
   "outputs": [],
   "source": [
    "df2.columns = ['time', 'country', 'word', 'prop_frequency']"
   ]
  },
  {
   "cell_type": "code",
   "execution_count": 102,
   "metadata": {},
   "outputs": [],
   "source": [
    "df2['word'] = df2['word'].str.strip(\"'\").str.strip(\"'\")\n",
    "#df['word'] "
   ]
  },
  {
   "cell_type": "code",
   "execution_count": 104,
   "metadata": {},
   "outputs": [],
   "source": [
    "df = df.merge(df2, on = ['time', 'country', 'word'])"
   ]
  },
  {
   "cell_type": "code",
   "execution_count": 22,
   "metadata": {},
   "outputs": [],
   "source": [
    "df.drop(columns = ['clean_hl_words'], inplace = True)"
   ]
  },
  {
   "cell_type": "code",
   "execution_count": 175,
   "metadata": {},
   "outputs": [],
   "source": [
    "df.drop(columns = ['clean_hl_words', 'clean_hl_freq'], inplace = True)"
   ]
  },
  {
   "cell_type": "code",
   "execution_count": 26,
   "metadata": {},
   "outputs": [
    {
     "output_type": "execute_result",
     "data": {
      "text/plain": [
       "              time       country       word  frequency\n",
       "0       2005-12-31         India      'aug'        2.0\n",
       "1       2005-12-31  South Africa      'aug'        NaN\n",
       "2       2005-12-31            UK      'aug'        NaN\n",
       "3       2005-12-31           USA      'aug'        NaN\n",
       "4       2006-12-31         India      'aug'        NaN\n",
       "...            ...           ...        ...        ...\n",
       "5397343 2020-12-31           USA   'mynatt'        NaN\n",
       "5397344 2021-12-31         India   'mynatt'        NaN\n",
       "5397345 2021-12-31  South Africa   'mynatt'        NaN\n",
       "5397346 2021-12-31            UK   'mynatt'        NaN\n",
       "5397347 2021-12-31           USA   'mynatt'        1.0\n",
       "\n",
       "[5397348 rows x 4 columns]"
      ],
      "text/html": "<div>\n<style scoped>\n    .dataframe tbody tr th:only-of-type {\n        vertical-align: middle;\n    }\n\n    .dataframe tbody tr th {\n        vertical-align: top;\n    }\n\n    .dataframe thead th {\n        text-align: right;\n    }\n</style>\n<table border=\"1\" class=\"dataframe\">\n  <thead>\n    <tr style=\"text-align: right;\">\n      <th></th>\n      <th>time</th>\n      <th>country</th>\n      <th>word</th>\n      <th>frequency</th>\n    </tr>\n  </thead>\n  <tbody>\n    <tr>\n      <th>0</th>\n      <td>2005-12-31</td>\n      <td>India</td>\n      <td>'aug'</td>\n      <td>2.0</td>\n    </tr>\n    <tr>\n      <th>1</th>\n      <td>2005-12-31</td>\n      <td>South Africa</td>\n      <td>'aug'</td>\n      <td>NaN</td>\n    </tr>\n    <tr>\n      <th>2</th>\n      <td>2005-12-31</td>\n      <td>UK</td>\n      <td>'aug'</td>\n      <td>NaN</td>\n    </tr>\n    <tr>\n      <th>3</th>\n      <td>2005-12-31</td>\n      <td>USA</td>\n      <td>'aug'</td>\n      <td>NaN</td>\n    </tr>\n    <tr>\n      <th>4</th>\n      <td>2006-12-31</td>\n      <td>India</td>\n      <td>'aug'</td>\n      <td>NaN</td>\n    </tr>\n    <tr>\n      <th>...</th>\n      <td>...</td>\n      <td>...</td>\n      <td>...</td>\n      <td>...</td>\n    </tr>\n    <tr>\n      <th>5397343</th>\n      <td>2020-12-31</td>\n      <td>USA</td>\n      <td>'mynatt'</td>\n      <td>NaN</td>\n    </tr>\n    <tr>\n      <th>5397344</th>\n      <td>2021-12-31</td>\n      <td>India</td>\n      <td>'mynatt'</td>\n      <td>NaN</td>\n    </tr>\n    <tr>\n      <th>5397345</th>\n      <td>2021-12-31</td>\n      <td>South Africa</td>\n      <td>'mynatt'</td>\n      <td>NaN</td>\n    </tr>\n    <tr>\n      <th>5397346</th>\n      <td>2021-12-31</td>\n      <td>UK</td>\n      <td>'mynatt'</td>\n      <td>NaN</td>\n    </tr>\n    <tr>\n      <th>5397347</th>\n      <td>2021-12-31</td>\n      <td>USA</td>\n      <td>'mynatt'</td>\n      <td>1.0</td>\n    </tr>\n  </tbody>\n</table>\n<p>5397348 rows × 4 columns</p>\n</div>"
     },
     "metadata": {},
     "execution_count": 26
    }
   ],
   "source": [
    "df"
   ]
  },
  {
   "cell_type": "code",
   "execution_count": 39,
   "metadata": {},
   "outputs": [
    {
     "output_type": "execute_result",
     "data": {
      "text/plain": [
       "       Unnamed: 0    word  frequency country\n",
       "10432           0    year       7656     USA\n",
       "10433           1     new       7171     USA\n",
       "10434           2     say       6755     USA\n",
       "10435           3     man       6466     USA\n",
       "10436           4     old       5386     USA\n",
       "49863           0     man       4996      UK\n",
       "49864           1    year       4563      UK\n",
       "81554           0   india       4106   India\n",
       "81555           1    year       3929   India\n",
       "10437           5    gaga       3858     USA\n",
       "10438           6    find       3826     USA\n",
       "10439           7    kill       3626     USA\n",
       "81556           2     man       3617   India\n",
       "81557           3     old       3417   India\n",
       "10440           8     get       3417     USA\n",
       "81558           4  indian       3384   India\n",
       "10441           9    baby       3199     USA\n",
       "10442          10   trump       3190     USA\n",
       "81559           5     say       3084   India\n",
       "10443          11     die       2934     USA"
      ],
      "text/html": "<div>\n<style scoped>\n    .dataframe tbody tr th:only-of-type {\n        vertical-align: middle;\n    }\n\n    .dataframe tbody tr th {\n        vertical-align: top;\n    }\n\n    .dataframe thead th {\n        text-align: right;\n    }\n</style>\n<table border=\"1\" class=\"dataframe\">\n  <thead>\n    <tr style=\"text-align: right;\">\n      <th></th>\n      <th>Unnamed: 0</th>\n      <th>word</th>\n      <th>frequency</th>\n      <th>country</th>\n    </tr>\n  </thead>\n  <tbody>\n    <tr>\n      <th>10432</th>\n      <td>0</td>\n      <td>year</td>\n      <td>7656</td>\n      <td>USA</td>\n    </tr>\n    <tr>\n      <th>10433</th>\n      <td>1</td>\n      <td>new</td>\n      <td>7171</td>\n      <td>USA</td>\n    </tr>\n    <tr>\n      <th>10434</th>\n      <td>2</td>\n      <td>say</td>\n      <td>6755</td>\n      <td>USA</td>\n    </tr>\n    <tr>\n      <th>10435</th>\n      <td>3</td>\n      <td>man</td>\n      <td>6466</td>\n      <td>USA</td>\n    </tr>\n    <tr>\n      <th>10436</th>\n      <td>4</td>\n      <td>old</td>\n      <td>5386</td>\n      <td>USA</td>\n    </tr>\n    <tr>\n      <th>49863</th>\n      <td>0</td>\n      <td>man</td>\n      <td>4996</td>\n      <td>UK</td>\n    </tr>\n    <tr>\n      <th>49864</th>\n      <td>1</td>\n      <td>year</td>\n      <td>4563</td>\n      <td>UK</td>\n    </tr>\n    <tr>\n      <th>81554</th>\n      <td>0</td>\n      <td>india</td>\n      <td>4106</td>\n      <td>India</td>\n    </tr>\n    <tr>\n      <th>81555</th>\n      <td>1</td>\n      <td>year</td>\n      <td>3929</td>\n      <td>India</td>\n    </tr>\n    <tr>\n      <th>10437</th>\n      <td>5</td>\n      <td>gaga</td>\n      <td>3858</td>\n      <td>USA</td>\n    </tr>\n    <tr>\n      <th>10438</th>\n      <td>6</td>\n      <td>find</td>\n      <td>3826</td>\n      <td>USA</td>\n    </tr>\n    <tr>\n      <th>10439</th>\n      <td>7</td>\n      <td>kill</td>\n      <td>3626</td>\n      <td>USA</td>\n    </tr>\n    <tr>\n      <th>81556</th>\n      <td>2</td>\n      <td>man</td>\n      <td>3617</td>\n      <td>India</td>\n    </tr>\n    <tr>\n      <th>81557</th>\n      <td>3</td>\n      <td>old</td>\n      <td>3417</td>\n      <td>India</td>\n    </tr>\n    <tr>\n      <th>10440</th>\n      <td>8</td>\n      <td>get</td>\n      <td>3417</td>\n      <td>USA</td>\n    </tr>\n    <tr>\n      <th>81558</th>\n      <td>4</td>\n      <td>indian</td>\n      <td>3384</td>\n      <td>India</td>\n    </tr>\n    <tr>\n      <th>10441</th>\n      <td>9</td>\n      <td>baby</td>\n      <td>3199</td>\n      <td>USA</td>\n    </tr>\n    <tr>\n      <th>10442</th>\n      <td>10</td>\n      <td>trump</td>\n      <td>3190</td>\n      <td>USA</td>\n    </tr>\n    <tr>\n      <th>81559</th>\n      <td>5</td>\n      <td>say</td>\n      <td>3084</td>\n      <td>India</td>\n    </tr>\n    <tr>\n      <th>10443</th>\n      <td>11</td>\n      <td>die</td>\n      <td>2934</td>\n      <td>USA</td>\n    </tr>\n  </tbody>\n</table>\n</div>"
     },
     "metadata": {},
     "execution_count": 39
    }
   ],
   "source": [
    "countries_freq.sort_values(by='frequency', ascending = False).head(20)"
   ]
  },
  {
   "cell_type": "code",
   "execution_count": 64,
   "metadata": {},
   "outputs": [],
   "source": [
    "df['word'] = df['word'].str.strip(\"'\").str.strip(\"'\")\n",
    "df['word'] "
   ]
  },
  {
   "cell_type": "code",
   "execution_count": 107,
   "metadata": {},
   "outputs": [],
   "source": [
    "df.to_csv('../data/processed/country_time_freq_rapi.csv')"
   ]
  },
  {
   "cell_type": "code",
   "execution_count": 106,
   "metadata": {},
   "outputs": [
    {
     "output_type": "execute_result",
     "data": {
      "text/plain": [
       "           time country  word  frequency  prop_frequency\n",
       "1518 2005-12-31   India  kill        4.0        0.900901\n",
       "1522 2006-12-31   India  kill        1.0        0.189394\n",
       "1526 2007-12-31   India  kill        3.0        0.224551\n",
       "1529 2008-12-31   India  kill        8.0        0.181324\n",
       "1532 2009-12-31   India  kill       14.0        0.186517\n",
       "1536 2010-12-31   India  kill       17.0        0.172047\n",
       "1540 2011-12-31   India  kill       25.0        0.173503\n",
       "1544 2012-12-31   India  kill       34.0        0.154223\n",
       "1548 2013-12-31   India  kill       41.0        0.139617\n",
       "1552 2014-12-31   India  kill       64.0        0.142838\n",
       "1556 2015-12-31   India  kill       76.0        0.119679\n",
       "1560 2016-12-31   India  kill      116.0        0.131204\n",
       "1564 2017-12-31   India  kill      117.0        0.104861\n",
       "1568 2018-12-31   India  kill      161.0        0.120536\n",
       "1572 2019-12-31   India  kill      185.0        0.123377\n",
       "1576 2020-12-31   India  kill        NaN             NaN\n",
       "1580 2021-12-31   India  kill        2.0        0.215983"
      ],
      "text/html": "<div>\n<style scoped>\n    .dataframe tbody tr th:only-of-type {\n        vertical-align: middle;\n    }\n\n    .dataframe tbody tr th {\n        vertical-align: top;\n    }\n\n    .dataframe thead th {\n        text-align: right;\n    }\n</style>\n<table border=\"1\" class=\"dataframe\">\n  <thead>\n    <tr style=\"text-align: right;\">\n      <th></th>\n      <th>time</th>\n      <th>country</th>\n      <th>word</th>\n      <th>frequency</th>\n      <th>prop_frequency</th>\n    </tr>\n  </thead>\n  <tbody>\n    <tr>\n      <th>1518</th>\n      <td>2005-12-31</td>\n      <td>India</td>\n      <td>kill</td>\n      <td>4.0</td>\n      <td>0.900901</td>\n    </tr>\n    <tr>\n      <th>1522</th>\n      <td>2006-12-31</td>\n      <td>India</td>\n      <td>kill</td>\n      <td>1.0</td>\n      <td>0.189394</td>\n    </tr>\n    <tr>\n      <th>1526</th>\n      <td>2007-12-31</td>\n      <td>India</td>\n      <td>kill</td>\n      <td>3.0</td>\n      <td>0.224551</td>\n    </tr>\n    <tr>\n      <th>1529</th>\n      <td>2008-12-31</td>\n      <td>India</td>\n      <td>kill</td>\n      <td>8.0</td>\n      <td>0.181324</td>\n    </tr>\n    <tr>\n      <th>1532</th>\n      <td>2009-12-31</td>\n      <td>India</td>\n      <td>kill</td>\n      <td>14.0</td>\n      <td>0.186517</td>\n    </tr>\n    <tr>\n      <th>1536</th>\n      <td>2010-12-31</td>\n      <td>India</td>\n      <td>kill</td>\n      <td>17.0</td>\n      <td>0.172047</td>\n    </tr>\n    <tr>\n      <th>1540</th>\n      <td>2011-12-31</td>\n      <td>India</td>\n      <td>kill</td>\n      <td>25.0</td>\n      <td>0.173503</td>\n    </tr>\n    <tr>\n      <th>1544</th>\n      <td>2012-12-31</td>\n      <td>India</td>\n      <td>kill</td>\n      <td>34.0</td>\n      <td>0.154223</td>\n    </tr>\n    <tr>\n      <th>1548</th>\n      <td>2013-12-31</td>\n      <td>India</td>\n      <td>kill</td>\n      <td>41.0</td>\n      <td>0.139617</td>\n    </tr>\n    <tr>\n      <th>1552</th>\n      <td>2014-12-31</td>\n      <td>India</td>\n      <td>kill</td>\n      <td>64.0</td>\n      <td>0.142838</td>\n    </tr>\n    <tr>\n      <th>1556</th>\n      <td>2015-12-31</td>\n      <td>India</td>\n      <td>kill</td>\n      <td>76.0</td>\n      <td>0.119679</td>\n    </tr>\n    <tr>\n      <th>1560</th>\n      <td>2016-12-31</td>\n      <td>India</td>\n      <td>kill</td>\n      <td>116.0</td>\n      <td>0.131204</td>\n    </tr>\n    <tr>\n      <th>1564</th>\n      <td>2017-12-31</td>\n      <td>India</td>\n      <td>kill</td>\n      <td>117.0</td>\n      <td>0.104861</td>\n    </tr>\n    <tr>\n      <th>1568</th>\n      <td>2018-12-31</td>\n      <td>India</td>\n      <td>kill</td>\n      <td>161.0</td>\n      <td>0.120536</td>\n    </tr>\n    <tr>\n      <th>1572</th>\n      <td>2019-12-31</td>\n      <td>India</td>\n      <td>kill</td>\n      <td>185.0</td>\n      <td>0.123377</td>\n    </tr>\n    <tr>\n      <th>1576</th>\n      <td>2020-12-31</td>\n      <td>India</td>\n      <td>kill</td>\n      <td>NaN</td>\n      <td>NaN</td>\n    </tr>\n    <tr>\n      <th>1580</th>\n      <td>2021-12-31</td>\n      <td>India</td>\n      <td>kill</td>\n      <td>2.0</td>\n      <td>0.215983</td>\n    </tr>\n  </tbody>\n</table>\n</div>"
     },
     "metadata": {},
     "execution_count": 106
    }
   ],
   "source": [
    "df[(df['word'] == 'kill')& (df['country']=='India')]"
   ]
  },
  {
   "cell_type": "code",
   "execution_count": null,
   "metadata": {},
   "outputs": [],
   "source": [
    "df.groupby(['country', 'word']).sum().sort_values(by = 'frequency')"
   ]
  }
 ]
}