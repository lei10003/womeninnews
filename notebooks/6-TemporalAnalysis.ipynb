{
 "metadata": {
  "language_info": {
   "codemirror_mode": {
    "name": "ipython",
    "version": 3
   },
   "file_extension": ".py",
   "mimetype": "text/x-python",
   "name": "python",
   "nbconvert_exporter": "python",
   "pygments_lexer": "ipython3",
   "version": "3.8.5"
  },
  "orig_nbformat": 2,
  "kernelspec": {
   "name": "python385jvsc74a57bd0c377a3a05ba1d31fd00218651f72b0a27b3c45e2b83cef10397a5da0ee866dc9",
   "display_name": "Python 3.8.5 64-bit ('base': conda)"
  }
 },
 "nbformat": 4,
 "nbformat_minor": 2,
 "cells": [
  {
   "cell_type": "code",
   "execution_count": 1,
   "metadata": {},
   "outputs": [],
   "source": [
    "import pandas as pd\n",
    "import numpy as np"
   ]
  },
  {
   "cell_type": "code",
   "execution_count": 91,
   "metadata": {},
   "outputs": [],
   "source": [
    "headlines = pd.read_csv('../data/processed/headlines_cl_sent_pol_rapi.csv')"
   ]
  },
  {
   "cell_type": "code",
   "execution_count": 115,
   "metadata": {},
   "outputs": [
    {
     "output_type": "execute_result",
     "data": {
      "text/plain": [
       "        Unnamed: 0  Unnamed: 0.1  \\\n",
       "0                0             0   \n",
       "1                1             1   \n",
       "2                2             2   \n",
       "3                3             3   \n",
       "4                4             4   \n",
       "...            ...           ...   \n",
       "298078      298078        298078   \n",
       "298079      298079        298079   \n",
       "298081      298081        298081   \n",
       "298082      298082        298082   \n",
       "298083      298083        298083   \n",
       "\n",
       "                                                      url  \\\n",
       "0       https://www.iol.co.za/entertainment/movies-the...   \n",
       "1       https://www.iol.co.za/entertainment/music/the-...   \n",
       "2       https://www.iol.co.za/entertainment/celebrity-...   \n",
       "3       https://www.iol.co.za/news/south-africa/wester...   \n",
       "4       https://www.iol.co.za/business-report/careers/...   \n",
       "...                                                   ...   \n",
       "298078  https://www.businessinsider.co.za/lady-gaga-fa...   \n",
       "298079  https://www.businessinsider.co.za/trump-epstei...   \n",
       "298081  https://www.businessinsider.co.za/watch-more-a...   \n",
       "298082  https://www.businessinsider.co.za/this-teenage...   \n",
       "298083  https://www.businessinsider.co.za/photos-celeb...   \n",
       "\n",
       "                                                 headline  \\\n",
       "0       'Lady Bird' buzzes through young sexuality - I...   \n",
       "1       The shadowy urban POP super Starrah who loves ...   \n",
       "2       Rihanna pens heartfelt tribute to her mom in b...   \n",
       "3       Shock as woman accused of killing teen girlfri...   \n",
       "4       TOP STORY: Meet South Africa's new first lady ...   \n",
       "...                                                   ...   \n",
       "298078  Lady Gaga is facing a backlash after launching...   \n",
       "298079  A new report claims Trump hosted a party for a...   \n",
       "298081  Watch: More women are having babies in their 3...   \n",
       "298082  This teenage quadruple amputee is inspiring ot...   \n",
       "298083  These plus-size Asian women posed in ball gown...   \n",
       "\n",
       "                       time scrape_date                   site  \\\n",
       "0       2018-02-23 08:00:00  15/05/2021              iol.co.za   \n",
       "1       2018-01-10 08:00:00  15/05/2021              iol.co.za   \n",
       "2       2018-02-21 08:00:00  15/05/2021              iol.co.za   \n",
       "3       2018-02-27 08:00:00  15/05/2021              iol.co.za   \n",
       "4       2018-02-15 08:00:00  15/05/2021              iol.co.za   \n",
       "...                     ...         ...                    ...   \n",
       "298078  2019-07-16 07:00:00  15/05/2021  Businessinsider.co.za   \n",
       "298079  2019-07-10 07:00:00  15/05/2021  Businessinsider.co.za   \n",
       "298081  2019-07-24 07:00:00  15/05/2021  Businessinsider.co.za   \n",
       "298082  2019-07-07 07:00:00  15/05/2021  Businessinsider.co.za   \n",
       "298083  2019-08-07 07:00:00  15/05/2021  Businessinsider.co.za   \n",
       "\n",
       "        monthly_visits       country country_of_pub  ...  \\\n",
       "0                    0  South Africa   South Africa  ...   \n",
       "1                    0  South Africa   South Africa  ...   \n",
       "2                    0  South Africa   South Africa  ...   \n",
       "3                    0  South Africa   South Africa  ...   \n",
       "4                    0  South Africa   South Africa  ...   \n",
       "...                ...           ...            ...  ...   \n",
       "298078        15000000  South Africa   South Africa  ...   \n",
       "298079        15000000  South Africa   South Africa  ...   \n",
       "298081        15000000  South Africa   South Africa  ...   \n",
       "298082        15000000  South Africa   South Africa  ...   \n",
       "298083        15000000  South Africa   South Africa  ...   \n",
       "\n",
       "                                           clean_hl_words  \\\n",
       "0                  {'sexuality', 'young', 'buzz', 'bird'}   \n",
       "1       {'shadowy', 'starrah', 'super', 'privacy', 'po...   \n",
       "2       {'mom', 'tribute', 'heartfelt', 'pen', 'birthd...   \n",
       "3       {'teen', 'shock', 'kill', 'laugh', 'court', 'a...   \n",
       "4       {'new', 'south', 'africa', 'motsepe', 'story',...   \n",
       "...                                                   ...   \n",
       "298078  {'beauty', 'backlash', 'launch', 'face', 'gaga...   \n",
       "298079  {'new', 'trump', 'report', 'trafficking', 'sex...   \n",
       "298081  {'healthy', 'baby', '30', '20', 'have', 'run',...   \n",
       "298082  {'beauty', 'tutorial', 'inspire', 'teenage', '...   \n",
       "298083  {'plus', 'shoot', 'ball', 'photo', 'statement'...   \n",
       "\n",
       "                                  clean_hl_words_no_women compound_s  \\\n",
       "0                  ['bird', 'buzz', 'young', 'sexuality']     0.0000   \n",
       "1       ['shadowy', 'urban', 'pop', 'super', 'starrah'...     0.8225   \n",
       "2       ['rihanna', 'pen', 'heartfelt', 'tribute', 'mo...     0.5423   \n",
       "3       ['shock', 'accuse', 'kill', 'teen', 'girlfrien...    -0.7184   \n",
       "4       ['story', 'meet', 'south', 'africa', 'new', 't...     0.3680   \n",
       "...                                                   ...        ...   \n",
       "298078  ['gaga', 'face', 'backlash', 'launch', 'beauty...     0.5859   \n",
       "298079  ['new', 'report', 'claim', 'trump', 'host', 'p...     0.2263   \n",
       "298081  ['watch', 'have', 'baby', '30', '20', 'study',...     0.0000   \n",
       "298082  ['teenage', 'quadruple', 'amputee', 'inspire',...     0.7650   \n",
       "298083  ['plus', 'size', 'asian', 'pose', 'ball', 'gow...     0.1531   \n",
       "\n",
       "       positive_s  negative_s  neutral_s  \\\n",
       "0           0.000       0.000      1.000   \n",
       "1           0.487       0.000      0.513   \n",
       "2           0.280       0.000      0.720   \n",
       "3           0.165       0.474      0.361   \n",
       "4           0.220       0.000      0.780   \n",
       "...           ...         ...        ...   \n",
       "298078      0.275       0.000      0.725   \n",
       "298079      0.132       0.088      0.780   \n",
       "298081      0.000       0.000      1.000   \n",
       "298082      0.423       0.000      0.577   \n",
       "298083      0.123       0.098      0.779   \n",
       "\n",
       "                                                 hl_words  gendered bias  \\\n",
       "0       {'young', \"bird'\", 'through', 'buzzes', 'sexua...         0    0   \n",
       "1       {'shadowy', 'super', 'starrah', 'who', 'pop', ...         1    1   \n",
       "2       {'mom', 'tribute', 'heartfelt', 'pens', 'to', ...         1    2   \n",
       "3       {'teen', 'shock', 'as', 'of', 'court', 'killin...         1    2   \n",
       "4       {'new', 'south', 'motsepe', \"africa's\", 'tshep...         1    1   \n",
       "...                                                   ...       ...  ...   \n",
       "298078  {'beauty', 'backlash', 'a', 'launching', 'afte...         1    2   \n",
       "298079  {'new', 'for', 'claims', 'report', 'trump', 't...         0    0   \n",
       "298081  {'women', 'and', 'their', 'long', 'the', \"it's...         1    1   \n",
       "298082  {'beauty', 'this', 'others', 'tutorials', 'wit...         1    1   \n",
       "298083  {'women', 'to', 'representation', 'photo', 'go...         1    1   \n",
       "\n",
       "        polarity  \n",
       "0         0.0000  \n",
       "1         0.8225  \n",
       "2         0.5423  \n",
       "3         0.7184  \n",
       "4         0.3680  \n",
       "...          ...  \n",
       "298078    0.5859  \n",
       "298079    0.2263  \n",
       "298081    0.0000  \n",
       "298082    0.7650  \n",
       "298083    0.1531  \n",
       "\n",
       "[285129 rows x 22 columns]"
      ],
      "text/html": "<div>\n<style scoped>\n    .dataframe tbody tr th:only-of-type {\n        vertical-align: middle;\n    }\n\n    .dataframe tbody tr th {\n        vertical-align: top;\n    }\n\n    .dataframe thead th {\n        text-align: right;\n    }\n</style>\n<table border=\"1\" class=\"dataframe\">\n  <thead>\n    <tr style=\"text-align: right;\">\n      <th></th>\n      <th>Unnamed: 0</th>\n      <th>Unnamed: 0.1</th>\n      <th>url</th>\n      <th>headline</th>\n      <th>time</th>\n      <th>scrape_date</th>\n      <th>site</th>\n      <th>monthly_visits</th>\n      <th>country</th>\n      <th>country_of_pub</th>\n      <th>...</th>\n      <th>clean_hl_words</th>\n      <th>clean_hl_words_no_women</th>\n      <th>compound_s</th>\n      <th>positive_s</th>\n      <th>negative_s</th>\n      <th>neutral_s</th>\n      <th>hl_words</th>\n      <th>gendered</th>\n      <th>bias</th>\n      <th>polarity</th>\n    </tr>\n  </thead>\n  <tbody>\n    <tr>\n      <th>0</th>\n      <td>0</td>\n      <td>0</td>\n      <td>https://www.iol.co.za/entertainment/movies-the...</td>\n      <td>'Lady Bird' buzzes through young sexuality - I...</td>\n      <td>2018-02-23 08:00:00</td>\n      <td>15/05/2021</td>\n      <td>iol.co.za</td>\n      <td>0</td>\n      <td>South Africa</td>\n      <td>South Africa</td>\n      <td>...</td>\n      <td>{'sexuality', 'young', 'buzz', 'bird'}</td>\n      <td>['bird', 'buzz', 'young', 'sexuality']</td>\n      <td>0.0000</td>\n      <td>0.000</td>\n      <td>0.000</td>\n      <td>1.000</td>\n      <td>{'young', \"bird'\", 'through', 'buzzes', 'sexua...</td>\n      <td>0</td>\n      <td>0</td>\n      <td>0.0000</td>\n    </tr>\n    <tr>\n      <th>1</th>\n      <td>1</td>\n      <td>1</td>\n      <td>https://www.iol.co.za/entertainment/music/the-...</td>\n      <td>The shadowy urban POP super Starrah who loves ...</td>\n      <td>2018-01-10 08:00:00</td>\n      <td>15/05/2021</td>\n      <td>iol.co.za</td>\n      <td>0</td>\n      <td>South Africa</td>\n      <td>South Africa</td>\n      <td>...</td>\n      <td>{'shadowy', 'starrah', 'super', 'privacy', 'po...</td>\n      <td>['shadowy', 'urban', 'pop', 'super', 'starrah'...</td>\n      <td>0.8225</td>\n      <td>0.487</td>\n      <td>0.000</td>\n      <td>0.513</td>\n      <td>{'shadowy', 'super', 'starrah', 'who', 'pop', ...</td>\n      <td>1</td>\n      <td>1</td>\n      <td>0.8225</td>\n    </tr>\n    <tr>\n      <th>2</th>\n      <td>2</td>\n      <td>2</td>\n      <td>https://www.iol.co.za/entertainment/celebrity-...</td>\n      <td>Rihanna pens heartfelt tribute to her mom in b...</td>\n      <td>2018-02-21 08:00:00</td>\n      <td>15/05/2021</td>\n      <td>iol.co.za</td>\n      <td>0</td>\n      <td>South Africa</td>\n      <td>South Africa</td>\n      <td>...</td>\n      <td>{'mom', 'tribute', 'heartfelt', 'pen', 'birthd...</td>\n      <td>['rihanna', 'pen', 'heartfelt', 'tribute', 'mo...</td>\n      <td>0.5423</td>\n      <td>0.280</td>\n      <td>0.000</td>\n      <td>0.720</td>\n      <td>{'mom', 'tribute', 'heartfelt', 'pens', 'to', ...</td>\n      <td>1</td>\n      <td>2</td>\n      <td>0.5423</td>\n    </tr>\n    <tr>\n      <th>3</th>\n      <td>3</td>\n      <td>3</td>\n      <td>https://www.iol.co.za/news/south-africa/wester...</td>\n      <td>Shock as woman accused of killing teen girlfri...</td>\n      <td>2018-02-27 08:00:00</td>\n      <td>15/05/2021</td>\n      <td>iol.co.za</td>\n      <td>0</td>\n      <td>South Africa</td>\n      <td>South Africa</td>\n      <td>...</td>\n      <td>{'teen', 'shock', 'kill', 'laugh', 'court', 'a...</td>\n      <td>['shock', 'accuse', 'kill', 'teen', 'girlfrien...</td>\n      <td>-0.7184</td>\n      <td>0.165</td>\n      <td>0.474</td>\n      <td>0.361</td>\n      <td>{'teen', 'shock', 'as', 'of', 'court', 'killin...</td>\n      <td>1</td>\n      <td>2</td>\n      <td>0.7184</td>\n    </tr>\n    <tr>\n      <th>4</th>\n      <td>4</td>\n      <td>4</td>\n      <td>https://www.iol.co.za/business-report/careers/...</td>\n      <td>TOP STORY: Meet South Africa's new first lady ...</td>\n      <td>2018-02-15 08:00:00</td>\n      <td>15/05/2021</td>\n      <td>iol.co.za</td>\n      <td>0</td>\n      <td>South Africa</td>\n      <td>South Africa</td>\n      <td>...</td>\n      <td>{'new', 'south', 'africa', 'motsepe', 'story',...</td>\n      <td>['story', 'meet', 'south', 'africa', 'new', 't...</td>\n      <td>0.3680</td>\n      <td>0.220</td>\n      <td>0.000</td>\n      <td>0.780</td>\n      <td>{'new', 'south', 'motsepe', \"africa's\", 'tshep...</td>\n      <td>1</td>\n      <td>1</td>\n      <td>0.3680</td>\n    </tr>\n    <tr>\n      <th>...</th>\n      <td>...</td>\n      <td>...</td>\n      <td>...</td>\n      <td>...</td>\n      <td>...</td>\n      <td>...</td>\n      <td>...</td>\n      <td>...</td>\n      <td>...</td>\n      <td>...</td>\n      <td>...</td>\n      <td>...</td>\n      <td>...</td>\n      <td>...</td>\n      <td>...</td>\n      <td>...</td>\n      <td>...</td>\n      <td>...</td>\n      <td>...</td>\n      <td>...</td>\n      <td>...</td>\n    </tr>\n    <tr>\n      <th>298078</th>\n      <td>298078</td>\n      <td>298078</td>\n      <td>https://www.businessinsider.co.za/lady-gaga-fa...</td>\n      <td>Lady Gaga is facing a backlash after launching...</td>\n      <td>2019-07-16 07:00:00</td>\n      <td>15/05/2021</td>\n      <td>Businessinsider.co.za</td>\n      <td>15000000</td>\n      <td>South Africa</td>\n      <td>South Africa</td>\n      <td>...</td>\n      <td>{'beauty', 'backlash', 'launch', 'face', 'gaga...</td>\n      <td>['gaga', 'face', 'backlash', 'launch', 'beauty...</td>\n      <td>0.5859</td>\n      <td>0.275</td>\n      <td>0.000</td>\n      <td>0.725</td>\n      <td>{'beauty', 'backlash', 'a', 'launching', 'afte...</td>\n      <td>1</td>\n      <td>2</td>\n      <td>0.5859</td>\n    </tr>\n    <tr>\n      <th>298079</th>\n      <td>298079</td>\n      <td>298079</td>\n      <td>https://www.businessinsider.co.za/trump-epstei...</td>\n      <td>A new report claims Trump hosted a party for a...</td>\n      <td>2019-07-10 07:00:00</td>\n      <td>15/05/2021</td>\n      <td>Businessinsider.co.za</td>\n      <td>15000000</td>\n      <td>South Africa</td>\n      <td>South Africa</td>\n      <td>...</td>\n      <td>{'new', 'trump', 'report', 'trafficking', 'sex...</td>\n      <td>['new', 'report', 'claim', 'trump', 'host', 'p...</td>\n      <td>0.2263</td>\n      <td>0.132</td>\n      <td>0.088</td>\n      <td>0.780</td>\n      <td>{'new', 'for', 'claims', 'report', 'trump', 't...</td>\n      <td>0</td>\n      <td>0</td>\n      <td>0.2263</td>\n    </tr>\n    <tr>\n      <th>298081</th>\n      <td>298081</td>\n      <td>298081</td>\n      <td>https://www.businessinsider.co.za/watch-more-a...</td>\n      <td>Watch: More women are having babies in their 3...</td>\n      <td>2019-07-24 07:00:00</td>\n      <td>15/05/2021</td>\n      <td>Businessinsider.co.za</td>\n      <td>15000000</td>\n      <td>South Africa</td>\n      <td>South Africa</td>\n      <td>...</td>\n      <td>{'healthy', 'baby', '30', '20', 'have', 'run',...</td>\n      <td>['watch', 'have', 'baby', '30', '20', 'study',...</td>\n      <td>0.0000</td>\n      <td>0.000</td>\n      <td>0.000</td>\n      <td>1.000</td>\n      <td>{'women', 'and', 'their', 'long', 'the', \"it's...</td>\n      <td>1</td>\n      <td>1</td>\n      <td>0.0000</td>\n    </tr>\n    <tr>\n      <th>298082</th>\n      <td>298082</td>\n      <td>298082</td>\n      <td>https://www.businessinsider.co.za/this-teenage...</td>\n      <td>This teenage quadruple amputee is inspiring ot...</td>\n      <td>2019-07-07 07:00:00</td>\n      <td>15/05/2021</td>\n      <td>Businessinsider.co.za</td>\n      <td>15000000</td>\n      <td>South Africa</td>\n      <td>South Africa</td>\n      <td>...</td>\n      <td>{'beauty', 'tutorial', 'inspire', 'teenage', '...</td>\n      <td>['teenage', 'quadruple', 'amputee', 'inspire',...</td>\n      <td>0.7650</td>\n      <td>0.423</td>\n      <td>0.000</td>\n      <td>0.577</td>\n      <td>{'beauty', 'this', 'others', 'tutorials', 'wit...</td>\n      <td>1</td>\n      <td>1</td>\n      <td>0.7650</td>\n    </tr>\n    <tr>\n      <th>298083</th>\n      <td>298083</td>\n      <td>298083</td>\n      <td>https://www.businessinsider.co.za/photos-celeb...</td>\n      <td>These plus-size Asian women posed in ball gown...</td>\n      <td>2019-08-07 07:00:00</td>\n      <td>15/05/2021</td>\n      <td>Businessinsider.co.za</td>\n      <td>15000000</td>\n      <td>South Africa</td>\n      <td>South Africa</td>\n      <td>...</td>\n      <td>{'plus', 'shoot', 'ball', 'photo', 'statement'...</td>\n      <td>['plus', 'size', 'asian', 'pose', 'ball', 'gow...</td>\n      <td>0.1531</td>\n      <td>0.123</td>\n      <td>0.098</td>\n      <td>0.779</td>\n      <td>{'women', 'to', 'representation', 'photo', 'go...</td>\n      <td>1</td>\n      <td>1</td>\n      <td>0.1531</td>\n    </tr>\n  </tbody>\n</table>\n<p>285129 rows × 22 columns</p>\n</div>"
     },
     "metadata": {},
     "execution_count": 115
    }
   ],
   "source": []
  },
  {
   "cell_type": "code",
   "execution_count": 92,
   "metadata": {},
   "outputs": [],
   "source": [
    "headlines.drop_duplicates(subset = ['clean_hl_words'], inplace = True)"
   ]
  },
  {
   "cell_type": "code",
   "execution_count": 4,
   "metadata": {},
   "outputs": [],
   "source": [
    "countries_freq = pd.read_csv('../data/processed/countries_freq_rapi.csv')"
   ]
  },
  {
   "cell_type": "code",
   "execution_count": 5,
   "metadata": {},
   "outputs": [
    {
     "output_type": "execute_result",
     "data": {
      "text/plain": [
       "        Unnamed: 0         word  frequency       country\n",
       "0                0          man        616  South Africa\n",
       "1                1           sa        568  South Africa\n",
       "2                2         kill        552  South Africa\n",
       "3                3        watch        541  South Africa\n",
       "4                4         rape        481  South Africa\n",
       "...            ...          ...        ...           ...\n",
       "110905       29351       rogers          1         India\n",
       "110906       29352    pocketful          1         India\n",
       "110907       29353       blasts          1         India\n",
       "110908       29354  candlelight          1         India\n",
       "110909       29355    digangana          1         India\n",
       "\n",
       "[110910 rows x 4 columns]"
      ],
      "text/html": "<div>\n<style scoped>\n    .dataframe tbody tr th:only-of-type {\n        vertical-align: middle;\n    }\n\n    .dataframe tbody tr th {\n        vertical-align: top;\n    }\n\n    .dataframe thead th {\n        text-align: right;\n    }\n</style>\n<table border=\"1\" class=\"dataframe\">\n  <thead>\n    <tr style=\"text-align: right;\">\n      <th></th>\n      <th>Unnamed: 0</th>\n      <th>word</th>\n      <th>frequency</th>\n      <th>country</th>\n    </tr>\n  </thead>\n  <tbody>\n    <tr>\n      <th>0</th>\n      <td>0</td>\n      <td>man</td>\n      <td>616</td>\n      <td>South Africa</td>\n    </tr>\n    <tr>\n      <th>1</th>\n      <td>1</td>\n      <td>sa</td>\n      <td>568</td>\n      <td>South Africa</td>\n    </tr>\n    <tr>\n      <th>2</th>\n      <td>2</td>\n      <td>kill</td>\n      <td>552</td>\n      <td>South Africa</td>\n    </tr>\n    <tr>\n      <th>3</th>\n      <td>3</td>\n      <td>watch</td>\n      <td>541</td>\n      <td>South Africa</td>\n    </tr>\n    <tr>\n      <th>4</th>\n      <td>4</td>\n      <td>rape</td>\n      <td>481</td>\n      <td>South Africa</td>\n    </tr>\n    <tr>\n      <th>...</th>\n      <td>...</td>\n      <td>...</td>\n      <td>...</td>\n      <td>...</td>\n    </tr>\n    <tr>\n      <th>110905</th>\n      <td>29351</td>\n      <td>rogers</td>\n      <td>1</td>\n      <td>India</td>\n    </tr>\n    <tr>\n      <th>110906</th>\n      <td>29352</td>\n      <td>pocketful</td>\n      <td>1</td>\n      <td>India</td>\n    </tr>\n    <tr>\n      <th>110907</th>\n      <td>29353</td>\n      <td>blasts</td>\n      <td>1</td>\n      <td>India</td>\n    </tr>\n    <tr>\n      <th>110908</th>\n      <td>29354</td>\n      <td>candlelight</td>\n      <td>1</td>\n      <td>India</td>\n    </tr>\n    <tr>\n      <th>110909</th>\n      <td>29355</td>\n      <td>digangana</td>\n      <td>1</td>\n      <td>India</td>\n    </tr>\n  </tbody>\n</table>\n<p>110910 rows × 4 columns</p>\n</div>"
     },
     "metadata": {},
     "execution_count": 5
    }
   ],
   "source": [
    "countries_freq"
   ]
  },
  {
   "cell_type": "code",
   "execution_count": 93,
   "metadata": {},
   "outputs": [],
   "source": [
    "headlines['time']= headlines.time.str.split('+', expand=True)[0]"
   ]
  },
  {
   "cell_type": "code",
   "execution_count": 94,
   "metadata": {},
   "outputs": [],
   "source": [
    "df = headlines[['clean_hl_words', 'country', 'time']]"
   ]
  },
  {
   "cell_type": "code",
   "execution_count": null,
   "metadata": {},
   "outputs": [],
   "source": []
  },
  {
   "cell_type": "code",
   "execution_count": 95,
   "metadata": {},
   "outputs": [
    {
     "output_type": "stream",
     "name": "stderr",
     "text": [
      "<ipython-input-95-6351246ca3f1>:2: SettingWithCopyWarning:\n\n\nA value is trying to be set on a copy of a slice from a DataFrame.\nTry using .loc[row_indexer,col_indexer] = value instead\n\nSee the caveats in the documentation: https://pandas.pydata.org/pandas-docs/stable/user_guide/indexing.html#returning-a-view-versus-a-copy\n\n"
     ]
    }
   ],
   "source": [
    "from datetime import datetime\n",
    "df['time'] = df['time'].apply(lambda x: datetime.strptime(x, '%Y-%m-%d %H:%M:%S'))"
   ]
  },
  {
   "cell_type": "code",
   "execution_count": 96,
   "metadata": {},
   "outputs": [
    {
     "output_type": "stream",
     "name": "stderr",
     "text": [
      "<ipython-input-96-68623b5807f2>:1: SettingWithCopyWarning:\n",
      "\n",
      "\n",
      "A value is trying to be set on a copy of a slice from a DataFrame.\n",
      "Try using .loc[row_indexer,col_indexer] = value instead\n",
      "\n",
      "See the caveats in the documentation: https://pandas.pydata.org/pandas-docs/stable/user_guide/indexing.html#returning-a-view-versus-a-copy\n",
      "\n",
      "<ipython-input-96-68623b5807f2>:2: SettingWithCopyWarning:\n",
      "\n",
      "\n",
      "A value is trying to be set on a copy of a slice from a DataFrame.\n",
      "Try using .loc[row_indexer,col_indexer] = value instead\n",
      "\n",
      "See the caveats in the documentation: https://pandas.pydata.org/pandas-docs/stable/user_guide/indexing.html#returning-a-view-versus-a-copy\n",
      "\n",
      "<ipython-input-96-68623b5807f2>:3: SettingWithCopyWarning:\n",
      "\n",
      "\n",
      "A value is trying to be set on a copy of a slice from a DataFrame.\n",
      "Try using .loc[row_indexer,col_indexer] = value instead\n",
      "\n",
      "See the caveats in the documentation: https://pandas.pydata.org/pandas-docs/stable/user_guide/indexing.html#returning-a-view-versus-a-copy\n",
      "\n"
     ]
    }
   ],
   "source": [
    "df['clean_hl_words'] = df['clean_hl_words'].str.replace('{', '')\n",
    "df['clean_hl_words'] = df['clean_hl_words'].str.replace('}', '')\n",
    "df['clean_hl_words'] = df['clean_hl_words'].str.split(\",\")"
   ]
  },
  {
   "cell_type": "code",
   "execution_count": 97,
   "metadata": {},
   "outputs": [
    {
     "output_type": "stream",
     "name": "stdout",
     "text": [
      "Wall time: 1min 54s\n"
     ]
    }
   ],
   "source": [
    "%%time\n",
    "freq = df.set_index('time').groupby([pd.Grouper(freq = 'Y'), 'country']).sum()"
   ]
  },
  {
   "cell_type": "code",
   "execution_count": 110,
   "metadata": {},
   "outputs": [
    {
     "output_type": "stream",
     "name": "stderr",
     "text": [
      "<ipython-input-110-254362376b42>:1: SettingWithCopyWarning:\n\n\nA value is trying to be set on a copy of a slice from a DataFrame.\nTry using .loc[row_indexer,col_indexer] = value instead\n\nSee the caveats in the documentation: https://pandas.pydata.org/pandas-docs/stable/user_guide/indexing.html#returning-a-view-versus-a-copy\n\n"
     ]
    }
   ],
   "source": [
    "df['year']= df['time'].dt.year"
   ]
  },
  {
   "cell_type": "code",
   "execution_count": 114,
   "metadata": {},
   "outputs": [
    {
     "output_type": "execute_result",
     "data": {
      "text/plain": [
       "                                                      clean_hl_words\n",
       "year country                                                        \n",
       "2005 India         ['aug',  'son',  'monster',  'rudolph',  'not'...\n",
       "     South Africa                     ['monroe',  'stand',  'night']\n",
       "     UK            ['call',  'kill',  'parent', 'man',  'motel', ...\n",
       "     USA           ['iowa',  'snatch',  'dead',  'find', 'look', ...\n",
       "2006 India         ['ramsey',  'jun',  'die',  'jonbenet',  'pats...\n",
       "...                                                              ...\n",
       "2020 USA           ['young',  'batter',  'chicago',  'break',  'c...\n",
       "2021 India         ['leader',  'world',  'aspire',  'role',  'mod...\n",
       "     South Africa  ['reinhart',  'nation',  'bank',  'world',  'p...\n",
       "     UK            ['tills',  'young',  'elderly',  'move',  'kin...\n",
       "     USA           ['make',  'policy',  'scout',  'cookie',  'sal...\n",
       "\n",
       "[66 rows x 1 columns]"
      ],
      "text/html": "<div>\n<style scoped>\n    .dataframe tbody tr th:only-of-type {\n        vertical-align: middle;\n    }\n\n    .dataframe tbody tr th {\n        vertical-align: top;\n    }\n\n    .dataframe thead th {\n        text-align: right;\n    }\n</style>\n<table border=\"1\" class=\"dataframe\">\n  <thead>\n    <tr style=\"text-align: right;\">\n      <th></th>\n      <th></th>\n      <th>clean_hl_words</th>\n    </tr>\n    <tr>\n      <th>year</th>\n      <th>country</th>\n      <th></th>\n    </tr>\n  </thead>\n  <tbody>\n    <tr>\n      <th rowspan=\"4\" valign=\"top\">2005</th>\n      <th>India</th>\n      <td>['aug',  'son',  'monster',  'rudolph',  'not'...</td>\n    </tr>\n    <tr>\n      <th>South Africa</th>\n      <td>['monroe',  'stand',  'night']</td>\n    </tr>\n    <tr>\n      <th>UK</th>\n      <td>['call',  'kill',  'parent', 'man',  'motel', ...</td>\n    </tr>\n    <tr>\n      <th>USA</th>\n      <td>['iowa',  'snatch',  'dead',  'find', 'look', ...</td>\n    </tr>\n    <tr>\n      <th>2006</th>\n      <th>India</th>\n      <td>['ramsey',  'jun',  'die',  'jonbenet',  'pats...</td>\n    </tr>\n    <tr>\n      <th>...</th>\n      <th>...</th>\n      <td>...</td>\n    </tr>\n    <tr>\n      <th>2020</th>\n      <th>USA</th>\n      <td>['young',  'batter',  'chicago',  'break',  'c...</td>\n    </tr>\n    <tr>\n      <th rowspan=\"4\" valign=\"top\">2021</th>\n      <th>India</th>\n      <td>['leader',  'world',  'aspire',  'role',  'mod...</td>\n    </tr>\n    <tr>\n      <th>South Africa</th>\n      <td>['reinhart',  'nation',  'bank',  'world',  'p...</td>\n    </tr>\n    <tr>\n      <th>UK</th>\n      <td>['tills',  'young',  'elderly',  'move',  'kin...</td>\n    </tr>\n    <tr>\n      <th>USA</th>\n      <td>['make',  'policy',  'scout',  'cookie',  'sal...</td>\n    </tr>\n  </tbody>\n</table>\n<p>66 rows × 1 columns</p>\n</div>"
     },
     "metadata": {},
     "execution_count": 114
    }
   ],
   "source": [
    "df.groupby(['year', 'country']).sum()"
   ]
  },
  {
   "cell_type": "code",
   "execution_count": 107,
   "metadata": {},
   "outputs": [
    {
     "output_type": "error",
     "ename": "KeyboardInterrupt",
     "evalue": "",
     "traceback": [
      "\u001b[1;31m---------------------------------------------------------------------------\u001b[0m",
      "\u001b[1;31mKeyboardInterrupt\u001b[0m                         Traceback (most recent call last)",
      "\u001b[1;32m<ipython-input-107-91938433bc2d>\u001b[0m in \u001b[0;36m<module>\u001b[1;34m\u001b[0m\n\u001b[1;32m----> 1\u001b[1;33m \u001b[0mdf\u001b[0m\u001b[1;33m.\u001b[0m\u001b[0mset_index\u001b[0m\u001b[1;33m(\u001b[0m\u001b[1;34m'time'\u001b[0m\u001b[1;33m)\u001b[0m\u001b[1;33m.\u001b[0m\u001b[0mgroupby\u001b[0m\u001b[1;33m(\u001b[0m\u001b[1;33m[\u001b[0m\u001b[0mpd\u001b[0m\u001b[1;33m.\u001b[0m\u001b[0mGrouper\u001b[0m\u001b[1;33m(\u001b[0m\u001b[0mfreq\u001b[0m \u001b[1;33m=\u001b[0m \u001b[1;34m'Y'\u001b[0m\u001b[1;33m)\u001b[0m\u001b[1;33m,\u001b[0m \u001b[1;34m'country'\u001b[0m\u001b[1;33m]\u001b[0m\u001b[1;33m)\u001b[0m\u001b[1;33m.\u001b[0m\u001b[0msum\u001b[0m\u001b[1;33m(\u001b[0m\u001b[1;33m)\u001b[0m\u001b[1;33m\u001b[0m\u001b[1;33m\u001b[0m\u001b[0m\n\u001b[0m",
      "\u001b[1;32m~\\anaconda3\\lib\\site-packages\\pandas\\core\\groupby\\groupby.py\u001b[0m in \u001b[0;36msum\u001b[1;34m(self, numeric_only, min_count)\u001b[0m\n\u001b[0;32m   1537\u001b[0m     \u001b[1;33m@\u001b[0m\u001b[0mdoc\u001b[0m\u001b[1;33m(\u001b[0m\u001b[0m_groupby_agg_method_template\u001b[0m\u001b[1;33m,\u001b[0m \u001b[0mfname\u001b[0m\u001b[1;33m=\u001b[0m\u001b[1;34m\"sum\"\u001b[0m\u001b[1;33m,\u001b[0m \u001b[0mno\u001b[0m\u001b[1;33m=\u001b[0m\u001b[1;32mTrue\u001b[0m\u001b[1;33m,\u001b[0m \u001b[0mmc\u001b[0m\u001b[1;33m=\u001b[0m\u001b[1;36m0\u001b[0m\u001b[1;33m)\u001b[0m\u001b[1;33m\u001b[0m\u001b[1;33m\u001b[0m\u001b[0m\n\u001b[0;32m   1538\u001b[0m     \u001b[1;32mdef\u001b[0m \u001b[0msum\u001b[0m\u001b[1;33m(\u001b[0m\u001b[0mself\u001b[0m\u001b[1;33m,\u001b[0m \u001b[0mnumeric_only\u001b[0m\u001b[1;33m:\u001b[0m \u001b[0mbool\u001b[0m \u001b[1;33m=\u001b[0m \u001b[1;32mTrue\u001b[0m\u001b[1;33m,\u001b[0m \u001b[0mmin_count\u001b[0m\u001b[1;33m:\u001b[0m \u001b[0mint\u001b[0m \u001b[1;33m=\u001b[0m \u001b[1;36m0\u001b[0m\u001b[1;33m)\u001b[0m\u001b[1;33m:\u001b[0m\u001b[1;33m\u001b[0m\u001b[1;33m\u001b[0m\u001b[0m\n\u001b[1;32m-> 1539\u001b[1;33m         return self._agg_general(\n\u001b[0m\u001b[0;32m   1540\u001b[0m             \u001b[0mnumeric_only\u001b[0m\u001b[1;33m=\u001b[0m\u001b[0mnumeric_only\u001b[0m\u001b[1;33m,\u001b[0m \u001b[0mmin_count\u001b[0m\u001b[1;33m=\u001b[0m\u001b[0mmin_count\u001b[0m\u001b[1;33m,\u001b[0m \u001b[0malias\u001b[0m\u001b[1;33m=\u001b[0m\u001b[1;34m\"add\"\u001b[0m\u001b[1;33m,\u001b[0m \u001b[0mnpfunc\u001b[0m\u001b[1;33m=\u001b[0m\u001b[0mnp\u001b[0m\u001b[1;33m.\u001b[0m\u001b[0msum\u001b[0m\u001b[1;33m\u001b[0m\u001b[1;33m\u001b[0m\u001b[0m\n\u001b[0;32m   1541\u001b[0m         )\n",
      "\u001b[1;32m~\\anaconda3\\lib\\site-packages\\pandas\\core\\groupby\\groupby.py\u001b[0m in \u001b[0;36m_agg_general\u001b[1;34m(self, numeric_only, min_count, alias, npfunc)\u001b[0m\n\u001b[0;32m   1013\u001b[0m \u001b[1;33m\u001b[0m\u001b[0m\n\u001b[0;32m   1014\u001b[0m         \u001b[1;31m# apply a non-cython aggregation\u001b[0m\u001b[1;33m\u001b[0m\u001b[1;33m\u001b[0m\u001b[1;33m\u001b[0m\u001b[0m\n\u001b[1;32m-> 1015\u001b[1;33m         \u001b[0mresult\u001b[0m \u001b[1;33m=\u001b[0m \u001b[0mself\u001b[0m\u001b[1;33m.\u001b[0m\u001b[0maggregate\u001b[0m\u001b[1;33m(\u001b[0m\u001b[1;32mlambda\u001b[0m \u001b[0mx\u001b[0m\u001b[1;33m:\u001b[0m \u001b[0mnpfunc\u001b[0m\u001b[1;33m(\u001b[0m\u001b[0mx\u001b[0m\u001b[1;33m,\u001b[0m \u001b[0maxis\u001b[0m\u001b[1;33m=\u001b[0m\u001b[0mself\u001b[0m\u001b[1;33m.\u001b[0m\u001b[0maxis\u001b[0m\u001b[1;33m)\u001b[0m\u001b[1;33m)\u001b[0m\u001b[1;33m\u001b[0m\u001b[1;33m\u001b[0m\u001b[0m\n\u001b[0m\u001b[0;32m   1016\u001b[0m         \u001b[1;32mreturn\u001b[0m \u001b[0mresult\u001b[0m\u001b[1;33m\u001b[0m\u001b[1;33m\u001b[0m\u001b[0m\n\u001b[0;32m   1017\u001b[0m \u001b[1;33m\u001b[0m\u001b[0m\n",
      "\u001b[1;32m~\\anaconda3\\lib\\site-packages\\pandas\\core\\groupby\\generic.py\u001b[0m in \u001b[0;36maggregate\u001b[1;34m(self, func, engine, engine_kwargs, *args, **kwargs)\u001b[0m\n\u001b[0;32m    957\u001b[0m             \u001b[1;31m# grouper specific aggregations\u001b[0m\u001b[1;33m\u001b[0m\u001b[1;33m\u001b[0m\u001b[1;33m\u001b[0m\u001b[0m\n\u001b[0;32m    958\u001b[0m             \u001b[1;32mif\u001b[0m \u001b[0mself\u001b[0m\u001b[1;33m.\u001b[0m\u001b[0mgrouper\u001b[0m\u001b[1;33m.\u001b[0m\u001b[0mnkeys\u001b[0m \u001b[1;33m>\u001b[0m \u001b[1;36m1\u001b[0m\u001b[1;33m:\u001b[0m\u001b[1;33m\u001b[0m\u001b[1;33m\u001b[0m\u001b[0m\n\u001b[1;32m--> 959\u001b[1;33m                 \u001b[1;32mreturn\u001b[0m \u001b[0mself\u001b[0m\u001b[1;33m.\u001b[0m\u001b[0m_python_agg_general\u001b[0m\u001b[1;33m(\u001b[0m\u001b[0mfunc\u001b[0m\u001b[1;33m,\u001b[0m \u001b[1;33m*\u001b[0m\u001b[0margs\u001b[0m\u001b[1;33m,\u001b[0m \u001b[1;33m**\u001b[0m\u001b[0mkwargs\u001b[0m\u001b[1;33m)\u001b[0m\u001b[1;33m\u001b[0m\u001b[1;33m\u001b[0m\u001b[0m\n\u001b[0m\u001b[0;32m    960\u001b[0m             \u001b[1;32melif\u001b[0m \u001b[0margs\u001b[0m \u001b[1;32mor\u001b[0m \u001b[0mkwargs\u001b[0m\u001b[1;33m:\u001b[0m\u001b[1;33m\u001b[0m\u001b[1;33m\u001b[0m\u001b[0m\n\u001b[0;32m    961\u001b[0m                 \u001b[0mresult\u001b[0m \u001b[1;33m=\u001b[0m \u001b[0mself\u001b[0m\u001b[1;33m.\u001b[0m\u001b[0m_aggregate_frame\u001b[0m\u001b[1;33m(\u001b[0m\u001b[0mfunc\u001b[0m\u001b[1;33m,\u001b[0m \u001b[1;33m*\u001b[0m\u001b[0margs\u001b[0m\u001b[1;33m,\u001b[0m \u001b[1;33m**\u001b[0m\u001b[0mkwargs\u001b[0m\u001b[1;33m)\u001b[0m\u001b[1;33m\u001b[0m\u001b[1;33m\u001b[0m\u001b[0m\n",
      "\u001b[1;32m~\\anaconda3\\lib\\site-packages\\pandas\\core\\groupby\\groupby.py\u001b[0m in \u001b[0;36m_python_agg_general\u001b[1;34m(self, func, engine, engine_kwargs, *args, **kwargs)\u001b[0m\n\u001b[0;32m   1081\u001b[0m                 \u001b[1;32mtry\u001b[0m\u001b[1;33m:\u001b[0m\u001b[1;33m\u001b[0m\u001b[1;33m\u001b[0m\u001b[0m\n\u001b[0;32m   1082\u001b[0m                     \u001b[1;31m# if this function is invalid for this dtype, we will ignore it.\u001b[0m\u001b[1;33m\u001b[0m\u001b[1;33m\u001b[0m\u001b[1;33m\u001b[0m\u001b[0m\n\u001b[1;32m-> 1083\u001b[1;33m                     \u001b[0mresult\u001b[0m\u001b[1;33m,\u001b[0m \u001b[0mcounts\u001b[0m \u001b[1;33m=\u001b[0m \u001b[0mself\u001b[0m\u001b[1;33m.\u001b[0m\u001b[0mgrouper\u001b[0m\u001b[1;33m.\u001b[0m\u001b[0magg_series\u001b[0m\u001b[1;33m(\u001b[0m\u001b[0mobj\u001b[0m\u001b[1;33m,\u001b[0m \u001b[0mf\u001b[0m\u001b[1;33m)\u001b[0m\u001b[1;33m\u001b[0m\u001b[1;33m\u001b[0m\u001b[0m\n\u001b[0m\u001b[0;32m   1084\u001b[0m                 \u001b[1;32mexcept\u001b[0m \u001b[0mTypeError\u001b[0m\u001b[1;33m:\u001b[0m\u001b[1;33m\u001b[0m\u001b[1;33m\u001b[0m\u001b[0m\n\u001b[0;32m   1085\u001b[0m                     \u001b[1;32mcontinue\u001b[0m\u001b[1;33m\u001b[0m\u001b[1;33m\u001b[0m\u001b[0m\n",
      "\u001b[1;32m~\\anaconda3\\lib\\site-packages\\pandas\\core\\groupby\\ops.py\u001b[0m in \u001b[0;36magg_series\u001b[1;34m(self, obj, func, engine, engine_kwargs, *args, **kwargs)\u001b[0m\n\u001b[0;32m    642\u001b[0m \u001b[1;33m\u001b[0m\u001b[0m\n\u001b[0;32m    643\u001b[0m         \u001b[1;32mtry\u001b[0m\u001b[1;33m:\u001b[0m\u001b[1;33m\u001b[0m\u001b[1;33m\u001b[0m\u001b[0m\n\u001b[1;32m--> 644\u001b[1;33m             \u001b[1;32mreturn\u001b[0m \u001b[0mself\u001b[0m\u001b[1;33m.\u001b[0m\u001b[0m_aggregate_series_fast\u001b[0m\u001b[1;33m(\u001b[0m\u001b[0mobj\u001b[0m\u001b[1;33m,\u001b[0m \u001b[0mfunc\u001b[0m\u001b[1;33m)\u001b[0m\u001b[1;33m\u001b[0m\u001b[1;33m\u001b[0m\u001b[0m\n\u001b[0m\u001b[0;32m    645\u001b[0m         \u001b[1;32mexcept\u001b[0m \u001b[0mValueError\u001b[0m \u001b[1;32mas\u001b[0m \u001b[0merr\u001b[0m\u001b[1;33m:\u001b[0m\u001b[1;33m\u001b[0m\u001b[1;33m\u001b[0m\u001b[0m\n\u001b[0;32m    646\u001b[0m             \u001b[1;32mif\u001b[0m \u001b[1;34m\"Function does not reduce\"\u001b[0m \u001b[1;32min\u001b[0m \u001b[0mstr\u001b[0m\u001b[1;33m(\u001b[0m\u001b[0merr\u001b[0m\u001b[1;33m)\u001b[0m\u001b[1;33m:\u001b[0m\u001b[1;33m\u001b[0m\u001b[1;33m\u001b[0m\u001b[0m\n",
      "\u001b[1;32m~\\anaconda3\\lib\\site-packages\\pandas\\core\\groupby\\ops.py\u001b[0m in \u001b[0;36m_aggregate_series_fast\u001b[1;34m(self, obj, func)\u001b[0m\n\u001b[0;32m    667\u001b[0m         \u001b[0mgroup_index\u001b[0m \u001b[1;33m=\u001b[0m \u001b[0malgorithms\u001b[0m\u001b[1;33m.\u001b[0m\u001b[0mtake_nd\u001b[0m\u001b[1;33m(\u001b[0m\u001b[0mgroup_index\u001b[0m\u001b[1;33m,\u001b[0m \u001b[0mindexer\u001b[0m\u001b[1;33m,\u001b[0m \u001b[0mallow_fill\u001b[0m\u001b[1;33m=\u001b[0m\u001b[1;32mFalse\u001b[0m\u001b[1;33m)\u001b[0m\u001b[1;33m\u001b[0m\u001b[1;33m\u001b[0m\u001b[0m\n\u001b[0;32m    668\u001b[0m         \u001b[0mgrouper\u001b[0m \u001b[1;33m=\u001b[0m \u001b[0mlibreduction\u001b[0m\u001b[1;33m.\u001b[0m\u001b[0mSeriesGrouper\u001b[0m\u001b[1;33m(\u001b[0m\u001b[0mobj\u001b[0m\u001b[1;33m,\u001b[0m \u001b[0mfunc\u001b[0m\u001b[1;33m,\u001b[0m \u001b[0mgroup_index\u001b[0m\u001b[1;33m,\u001b[0m \u001b[0mngroups\u001b[0m\u001b[1;33m,\u001b[0m \u001b[0mdummy\u001b[0m\u001b[1;33m)\u001b[0m\u001b[1;33m\u001b[0m\u001b[1;33m\u001b[0m\u001b[0m\n\u001b[1;32m--> 669\u001b[1;33m         \u001b[0mresult\u001b[0m\u001b[1;33m,\u001b[0m \u001b[0mcounts\u001b[0m \u001b[1;33m=\u001b[0m \u001b[0mgrouper\u001b[0m\u001b[1;33m.\u001b[0m\u001b[0mget_result\u001b[0m\u001b[1;33m(\u001b[0m\u001b[1;33m)\u001b[0m\u001b[1;33m\u001b[0m\u001b[1;33m\u001b[0m\u001b[0m\n\u001b[0m\u001b[0;32m    670\u001b[0m         \u001b[1;32mreturn\u001b[0m \u001b[0mresult\u001b[0m\u001b[1;33m,\u001b[0m \u001b[0mcounts\u001b[0m\u001b[1;33m\u001b[0m\u001b[1;33m\u001b[0m\u001b[0m\n\u001b[0;32m    671\u001b[0m \u001b[1;33m\u001b[0m\u001b[0m\n",
      "\u001b[1;32mpandas\\_libs\\reduction.pyx\u001b[0m in \u001b[0;36mpandas._libs.reduction.SeriesGrouper.get_result\u001b[1;34m()\u001b[0m\n",
      "\u001b[1;32mpandas\\_libs\\reduction.pyx\u001b[0m in \u001b[0;36mpandas._libs.reduction._BaseGrouper._apply_to_group\u001b[1;34m()\u001b[0m\n",
      "\u001b[1;32m~\\anaconda3\\lib\\site-packages\\pandas\\core\\groupby\\groupby.py\u001b[0m in \u001b[0;36m<lambda>\u001b[1;34m(x)\u001b[0m\n\u001b[0;32m   1058\u001b[0m         \u001b[0mfunc\u001b[0m \u001b[1;33m=\u001b[0m \u001b[0mself\u001b[0m\u001b[1;33m.\u001b[0m\u001b[0m_is_builtin_func\u001b[0m\u001b[1;33m(\u001b[0m\u001b[0mfunc\u001b[0m\u001b[1;33m)\u001b[0m\u001b[1;33m\u001b[0m\u001b[1;33m\u001b[0m\u001b[0m\n\u001b[0;32m   1059\u001b[0m         \u001b[1;32mif\u001b[0m \u001b[0mengine\u001b[0m \u001b[1;33m!=\u001b[0m \u001b[1;34m\"numba\"\u001b[0m\u001b[1;33m:\u001b[0m\u001b[1;33m\u001b[0m\u001b[1;33m\u001b[0m\u001b[0m\n\u001b[1;32m-> 1060\u001b[1;33m             \u001b[0mf\u001b[0m \u001b[1;33m=\u001b[0m \u001b[1;32mlambda\u001b[0m \u001b[0mx\u001b[0m\u001b[1;33m:\u001b[0m \u001b[0mfunc\u001b[0m\u001b[1;33m(\u001b[0m\u001b[0mx\u001b[0m\u001b[1;33m,\u001b[0m \u001b[1;33m*\u001b[0m\u001b[0margs\u001b[0m\u001b[1;33m,\u001b[0m \u001b[1;33m**\u001b[0m\u001b[0mkwargs\u001b[0m\u001b[1;33m)\u001b[0m\u001b[1;33m\u001b[0m\u001b[1;33m\u001b[0m\u001b[0m\n\u001b[0m\u001b[0;32m   1061\u001b[0m \u001b[1;33m\u001b[0m\u001b[0m\n\u001b[0;32m   1062\u001b[0m         \u001b[1;31m# iterate through \"columns\" ex exclusions to populate output dict\u001b[0m\u001b[1;33m\u001b[0m\u001b[1;33m\u001b[0m\u001b[1;33m\u001b[0m\u001b[0m\n",
      "\u001b[1;32m~\\anaconda3\\lib\\site-packages\\pandas\\core\\groupby\\groupby.py\u001b[0m in \u001b[0;36m<lambda>\u001b[1;34m(x)\u001b[0m\n\u001b[0;32m   1013\u001b[0m \u001b[1;33m\u001b[0m\u001b[0m\n\u001b[0;32m   1014\u001b[0m         \u001b[1;31m# apply a non-cython aggregation\u001b[0m\u001b[1;33m\u001b[0m\u001b[1;33m\u001b[0m\u001b[1;33m\u001b[0m\u001b[0m\n\u001b[1;32m-> 1015\u001b[1;33m         \u001b[0mresult\u001b[0m \u001b[1;33m=\u001b[0m \u001b[0mself\u001b[0m\u001b[1;33m.\u001b[0m\u001b[0maggregate\u001b[0m\u001b[1;33m(\u001b[0m\u001b[1;32mlambda\u001b[0m \u001b[0mx\u001b[0m\u001b[1;33m:\u001b[0m \u001b[0mnpfunc\u001b[0m\u001b[1;33m(\u001b[0m\u001b[0mx\u001b[0m\u001b[1;33m,\u001b[0m \u001b[0maxis\u001b[0m\u001b[1;33m=\u001b[0m\u001b[0mself\u001b[0m\u001b[1;33m.\u001b[0m\u001b[0maxis\u001b[0m\u001b[1;33m)\u001b[0m\u001b[1;33m)\u001b[0m\u001b[1;33m\u001b[0m\u001b[1;33m\u001b[0m\u001b[0m\n\u001b[0m\u001b[0;32m   1016\u001b[0m         \u001b[1;32mreturn\u001b[0m \u001b[0mresult\u001b[0m\u001b[1;33m\u001b[0m\u001b[1;33m\u001b[0m\u001b[0m\n\u001b[0;32m   1017\u001b[0m \u001b[1;33m\u001b[0m\u001b[0m\n",
      "\u001b[1;32m<__array_function__ internals>\u001b[0m in \u001b[0;36msum\u001b[1;34m(*args, **kwargs)\u001b[0m\n",
      "\u001b[1;32m~\\anaconda3\\lib\\site-packages\\numpy\\core\\fromnumeric.py\u001b[0m in \u001b[0;36msum\u001b[1;34m(a, axis, dtype, out, keepdims, initial, where)\u001b[0m\n\u001b[0;32m   2245\u001b[0m         \u001b[1;32mreturn\u001b[0m \u001b[0mres\u001b[0m\u001b[1;33m\u001b[0m\u001b[1;33m\u001b[0m\u001b[0m\n\u001b[0;32m   2246\u001b[0m \u001b[1;33m\u001b[0m\u001b[0m\n\u001b[1;32m-> 2247\u001b[1;33m     return _wrapreduction(a, np.add, 'sum', axis, dtype, out, keepdims=keepdims,\n\u001b[0m\u001b[0;32m   2248\u001b[0m                           initial=initial, where=where)\n\u001b[0;32m   2249\u001b[0m \u001b[1;33m\u001b[0m\u001b[0m\n",
      "\u001b[1;32m~\\anaconda3\\lib\\site-packages\\numpy\\core\\fromnumeric.py\u001b[0m in \u001b[0;36m_wrapreduction\u001b[1;34m(obj, ufunc, method, axis, dtype, out, **kwargs)\u001b[0m\n\u001b[0;32m     83\u001b[0m                 \u001b[1;32mreturn\u001b[0m \u001b[0mreduction\u001b[0m\u001b[1;33m(\u001b[0m\u001b[0maxis\u001b[0m\u001b[1;33m=\u001b[0m\u001b[0maxis\u001b[0m\u001b[1;33m,\u001b[0m \u001b[0mdtype\u001b[0m\u001b[1;33m=\u001b[0m\u001b[0mdtype\u001b[0m\u001b[1;33m,\u001b[0m \u001b[0mout\u001b[0m\u001b[1;33m=\u001b[0m\u001b[0mout\u001b[0m\u001b[1;33m,\u001b[0m \u001b[1;33m**\u001b[0m\u001b[0mpasskwargs\u001b[0m\u001b[1;33m)\u001b[0m\u001b[1;33m\u001b[0m\u001b[1;33m\u001b[0m\u001b[0m\n\u001b[0;32m     84\u001b[0m             \u001b[1;32melse\u001b[0m\u001b[1;33m:\u001b[0m\u001b[1;33m\u001b[0m\u001b[1;33m\u001b[0m\u001b[0m\n\u001b[1;32m---> 85\u001b[1;33m                 \u001b[1;32mreturn\u001b[0m \u001b[0mreduction\u001b[0m\u001b[1;33m(\u001b[0m\u001b[0maxis\u001b[0m\u001b[1;33m=\u001b[0m\u001b[0maxis\u001b[0m\u001b[1;33m,\u001b[0m \u001b[0mout\u001b[0m\u001b[1;33m=\u001b[0m\u001b[0mout\u001b[0m\u001b[1;33m,\u001b[0m \u001b[1;33m**\u001b[0m\u001b[0mpasskwargs\u001b[0m\u001b[1;33m)\u001b[0m\u001b[1;33m\u001b[0m\u001b[1;33m\u001b[0m\u001b[0m\n\u001b[0m\u001b[0;32m     86\u001b[0m \u001b[1;33m\u001b[0m\u001b[0m\n\u001b[0;32m     87\u001b[0m     \u001b[1;32mreturn\u001b[0m \u001b[0mufunc\u001b[0m\u001b[1;33m.\u001b[0m\u001b[0mreduce\u001b[0m\u001b[1;33m(\u001b[0m\u001b[0mobj\u001b[0m\u001b[1;33m,\u001b[0m \u001b[0maxis\u001b[0m\u001b[1;33m,\u001b[0m \u001b[0mdtype\u001b[0m\u001b[1;33m,\u001b[0m \u001b[0mout\u001b[0m\u001b[1;33m,\u001b[0m \u001b[1;33m**\u001b[0m\u001b[0mpasskwargs\u001b[0m\u001b[1;33m)\u001b[0m\u001b[1;33m\u001b[0m\u001b[1;33m\u001b[0m\u001b[0m\n",
      "\u001b[1;32m~\\anaconda3\\lib\\site-packages\\pandas\\core\\generic.py\u001b[0m in \u001b[0;36mstat_func\u001b[1;34m(self, axis, skipna, level, numeric_only, min_count, **kwargs)\u001b[0m\n\u001b[0;32m  11420\u001b[0m                 \u001b[0mname\u001b[0m\u001b[1;33m,\u001b[0m \u001b[0maxis\u001b[0m\u001b[1;33m=\u001b[0m\u001b[0maxis\u001b[0m\u001b[1;33m,\u001b[0m \u001b[0mlevel\u001b[0m\u001b[1;33m=\u001b[0m\u001b[0mlevel\u001b[0m\u001b[1;33m,\u001b[0m \u001b[0mskipna\u001b[0m\u001b[1;33m=\u001b[0m\u001b[0mskipna\u001b[0m\u001b[1;33m,\u001b[0m \u001b[0mmin_count\u001b[0m\u001b[1;33m=\u001b[0m\u001b[0mmin_count\u001b[0m\u001b[1;33m\u001b[0m\u001b[1;33m\u001b[0m\u001b[0m\n\u001b[0;32m  11421\u001b[0m             )\n\u001b[1;32m> 11422\u001b[1;33m         return self._reduce(\n\u001b[0m\u001b[0;32m  11423\u001b[0m             \u001b[0mfunc\u001b[0m\u001b[1;33m,\u001b[0m\u001b[1;33m\u001b[0m\u001b[1;33m\u001b[0m\u001b[0m\n\u001b[0;32m  11424\u001b[0m             \u001b[0mname\u001b[0m\u001b[1;33m=\u001b[0m\u001b[0mname\u001b[0m\u001b[1;33m,\u001b[0m\u001b[1;33m\u001b[0m\u001b[1;33m\u001b[0m\u001b[0m\n",
      "\u001b[1;32m~\\anaconda3\\lib\\site-packages\\pandas\\core\\series.py\u001b[0m in \u001b[0;36m_reduce\u001b[1;34m(self, op, name, axis, skipna, numeric_only, filter_type, **kwds)\u001b[0m\n\u001b[0;32m   4234\u001b[0m                 )\n\u001b[0;32m   4235\u001b[0m             \u001b[1;32mwith\u001b[0m \u001b[0mnp\u001b[0m\u001b[1;33m.\u001b[0m\u001b[0merrstate\u001b[0m\u001b[1;33m(\u001b[0m\u001b[0mall\u001b[0m\u001b[1;33m=\u001b[0m\u001b[1;34m\"ignore\"\u001b[0m\u001b[1;33m)\u001b[0m\u001b[1;33m:\u001b[0m\u001b[1;33m\u001b[0m\u001b[1;33m\u001b[0m\u001b[0m\n\u001b[1;32m-> 4236\u001b[1;33m                 \u001b[1;32mreturn\u001b[0m \u001b[0mop\u001b[0m\u001b[1;33m(\u001b[0m\u001b[0mdelegate\u001b[0m\u001b[1;33m,\u001b[0m \u001b[0mskipna\u001b[0m\u001b[1;33m=\u001b[0m\u001b[0mskipna\u001b[0m\u001b[1;33m,\u001b[0m \u001b[1;33m**\u001b[0m\u001b[0mkwds\u001b[0m\u001b[1;33m)\u001b[0m\u001b[1;33m\u001b[0m\u001b[1;33m\u001b[0m\u001b[0m\n\u001b[0m\u001b[0;32m   4237\u001b[0m \u001b[1;33m\u001b[0m\u001b[0m\n\u001b[0;32m   4238\u001b[0m     \u001b[1;32mdef\u001b[0m \u001b[0m_reindex_indexer\u001b[0m\u001b[1;33m(\u001b[0m\u001b[0mself\u001b[0m\u001b[1;33m,\u001b[0m \u001b[0mnew_index\u001b[0m\u001b[1;33m,\u001b[0m \u001b[0mindexer\u001b[0m\u001b[1;33m,\u001b[0m \u001b[0mcopy\u001b[0m\u001b[1;33m)\u001b[0m\u001b[1;33m:\u001b[0m\u001b[1;33m\u001b[0m\u001b[1;33m\u001b[0m\u001b[0m\n",
      "\u001b[1;32m~\\anaconda3\\lib\\site-packages\\pandas\\core\\nanops.py\u001b[0m in \u001b[0;36m_f\u001b[1;34m(*args, **kwargs)\u001b[0m\n\u001b[0;32m     69\u001b[0m             \u001b[1;32mtry\u001b[0m\u001b[1;33m:\u001b[0m\u001b[1;33m\u001b[0m\u001b[1;33m\u001b[0m\u001b[0m\n\u001b[0;32m     70\u001b[0m                 \u001b[1;32mwith\u001b[0m \u001b[0mnp\u001b[0m\u001b[1;33m.\u001b[0m\u001b[0merrstate\u001b[0m\u001b[1;33m(\u001b[0m\u001b[0minvalid\u001b[0m\u001b[1;33m=\u001b[0m\u001b[1;34m\"ignore\"\u001b[0m\u001b[1;33m)\u001b[0m\u001b[1;33m:\u001b[0m\u001b[1;33m\u001b[0m\u001b[1;33m\u001b[0m\u001b[0m\n\u001b[1;32m---> 71\u001b[1;33m                     \u001b[1;32mreturn\u001b[0m \u001b[0mf\u001b[0m\u001b[1;33m(\u001b[0m\u001b[1;33m*\u001b[0m\u001b[0margs\u001b[0m\u001b[1;33m,\u001b[0m \u001b[1;33m**\u001b[0m\u001b[0mkwargs\u001b[0m\u001b[1;33m)\u001b[0m\u001b[1;33m\u001b[0m\u001b[1;33m\u001b[0m\u001b[0m\n\u001b[0m\u001b[0;32m     72\u001b[0m             \u001b[1;32mexcept\u001b[0m \u001b[0mValueError\u001b[0m \u001b[1;32mas\u001b[0m \u001b[0me\u001b[0m\u001b[1;33m:\u001b[0m\u001b[1;33m\u001b[0m\u001b[1;33m\u001b[0m\u001b[0m\n\u001b[0;32m     73\u001b[0m                 \u001b[1;31m# we want to transform an object array\u001b[0m\u001b[1;33m\u001b[0m\u001b[1;33m\u001b[0m\u001b[1;33m\u001b[0m\u001b[0m\n",
      "\u001b[1;32m~\\anaconda3\\lib\\site-packages\\pandas\\core\\nanops.py\u001b[0m in \u001b[0;36mnansum\u001b[1;34m(values, axis, skipna, min_count, mask)\u001b[0m\n\u001b[0;32m    507\u001b[0m     \u001b[1;32melif\u001b[0m \u001b[0mis_timedelta64_dtype\u001b[0m\u001b[1;33m(\u001b[0m\u001b[0mdtype\u001b[0m\u001b[1;33m)\u001b[0m\u001b[1;33m:\u001b[0m\u001b[1;33m\u001b[0m\u001b[1;33m\u001b[0m\u001b[0m\n\u001b[0;32m    508\u001b[0m         \u001b[0mdtype_sum\u001b[0m \u001b[1;33m=\u001b[0m \u001b[0mnp\u001b[0m\u001b[1;33m.\u001b[0m\u001b[0mfloat64\u001b[0m\u001b[1;33m\u001b[0m\u001b[1;33m\u001b[0m\u001b[0m\n\u001b[1;32m--> 509\u001b[1;33m     \u001b[0mthe_sum\u001b[0m \u001b[1;33m=\u001b[0m \u001b[0mvalues\u001b[0m\u001b[1;33m.\u001b[0m\u001b[0msum\u001b[0m\u001b[1;33m(\u001b[0m\u001b[0maxis\u001b[0m\u001b[1;33m,\u001b[0m \u001b[0mdtype\u001b[0m\u001b[1;33m=\u001b[0m\u001b[0mdtype_sum\u001b[0m\u001b[1;33m)\u001b[0m\u001b[1;33m\u001b[0m\u001b[1;33m\u001b[0m\u001b[0m\n\u001b[0m\u001b[0;32m    510\u001b[0m     \u001b[0mthe_sum\u001b[0m \u001b[1;33m=\u001b[0m \u001b[0m_maybe_null_out\u001b[0m\u001b[1;33m(\u001b[0m\u001b[0mthe_sum\u001b[0m\u001b[1;33m,\u001b[0m \u001b[0maxis\u001b[0m\u001b[1;33m,\u001b[0m \u001b[0mmask\u001b[0m\u001b[1;33m,\u001b[0m \u001b[0mvalues\u001b[0m\u001b[1;33m.\u001b[0m\u001b[0mshape\u001b[0m\u001b[1;33m,\u001b[0m \u001b[0mmin_count\u001b[0m\u001b[1;33m=\u001b[0m\u001b[0mmin_count\u001b[0m\u001b[1;33m)\u001b[0m\u001b[1;33m\u001b[0m\u001b[1;33m\u001b[0m\u001b[0m\n\u001b[0;32m    511\u001b[0m \u001b[1;33m\u001b[0m\u001b[0m\n",
      "\u001b[1;31mKeyboardInterrupt\u001b[0m: "
     ]
    }
   ],
   "source": [
    "df.set_index('time').groupby([pd.Grouper(freq = 'Y'), 'country']).sum()"
   ]
  },
  {
   "cell_type": "code",
   "execution_count": 103,
   "metadata": {},
   "outputs": [
    {
     "output_type": "execute_result",
     "data": {
      "text/plain": [
       "         time       country                                     clean_hl_words\n",
       "0  2005-12-31         India  {''aug'': 2, ' 'son'': 2, ' 'monster'': 2, ' '...\n",
       "1  2005-12-31  South Africa      {''monroe'': 1, ' 'stand'': 1, ' 'night'': 1}\n",
       "2  2005-12-31            UK  {''call'': 1, ' 'kill'': 3, ' 'parent'': 1, ''...\n",
       "3  2005-12-31           USA  {''iowa'': 1, ' 'snatch'': 1, ' 'dead'': 2, ' ...\n",
       "4  2006-12-31         India  {''ramsey'': 1, ' 'jun'': 1, ' 'die'': 2, ' 'j...\n",
       "..        ...           ...                                                ...\n",
       "61 2020-12-31           USA  {''young'': 1, ' 'batter'': 1, ' 'chicago'': 1...\n",
       "62 2021-12-31         India  {''leader'': 2, ' 'world'': 2, ' 'aspire'': 1,...\n",
       "63 2021-12-31  South Africa  {''reinhart'': 1, ' 'nation'': 1, ' 'bank'': 1...\n",
       "64 2021-12-31            UK  {''tills'': 1, ' 'young'': 1, ' 'elderly'': 2,...\n",
       "65 2021-12-31           USA  {''make'': 1, ' 'policy'': 1, ' 'scout'': 1, '...\n",
       "\n",
       "[66 rows x 3 columns]"
      ],
      "text/html": "<div>\n<style scoped>\n    .dataframe tbody tr th:only-of-type {\n        vertical-align: middle;\n    }\n\n    .dataframe tbody tr th {\n        vertical-align: top;\n    }\n\n    .dataframe thead th {\n        text-align: right;\n    }\n</style>\n<table border=\"1\" class=\"dataframe\">\n  <thead>\n    <tr style=\"text-align: right;\">\n      <th></th>\n      <th>time</th>\n      <th>country</th>\n      <th>clean_hl_words</th>\n    </tr>\n  </thead>\n  <tbody>\n    <tr>\n      <th>0</th>\n      <td>2005-12-31</td>\n      <td>India</td>\n      <td>{''aug'': 2, ' 'son'': 2, ' 'monster'': 2, ' '...</td>\n    </tr>\n    <tr>\n      <th>1</th>\n      <td>2005-12-31</td>\n      <td>South Africa</td>\n      <td>{''monroe'': 1, ' 'stand'': 1, ' 'night'': 1}</td>\n    </tr>\n    <tr>\n      <th>2</th>\n      <td>2005-12-31</td>\n      <td>UK</td>\n      <td>{''call'': 1, ' 'kill'': 3, ' 'parent'': 1, ''...</td>\n    </tr>\n    <tr>\n      <th>3</th>\n      <td>2005-12-31</td>\n      <td>USA</td>\n      <td>{''iowa'': 1, ' 'snatch'': 1, ' 'dead'': 2, ' ...</td>\n    </tr>\n    <tr>\n      <th>4</th>\n      <td>2006-12-31</td>\n      <td>India</td>\n      <td>{''ramsey'': 1, ' 'jun'': 1, ' 'die'': 2, ' 'j...</td>\n    </tr>\n    <tr>\n      <th>...</th>\n      <td>...</td>\n      <td>...</td>\n      <td>...</td>\n    </tr>\n    <tr>\n      <th>61</th>\n      <td>2020-12-31</td>\n      <td>USA</td>\n      <td>{''young'': 1, ' 'batter'': 1, ' 'chicago'': 1...</td>\n    </tr>\n    <tr>\n      <th>62</th>\n      <td>2021-12-31</td>\n      <td>India</td>\n      <td>{''leader'': 2, ' 'world'': 2, ' 'aspire'': 1,...</td>\n    </tr>\n    <tr>\n      <th>63</th>\n      <td>2021-12-31</td>\n      <td>South Africa</td>\n      <td>{''reinhart'': 1, ' 'nation'': 1, ' 'bank'': 1...</td>\n    </tr>\n    <tr>\n      <th>64</th>\n      <td>2021-12-31</td>\n      <td>UK</td>\n      <td>{''tills'': 1, ' 'young'': 1, ' 'elderly'': 2,...</td>\n    </tr>\n    <tr>\n      <th>65</th>\n      <td>2021-12-31</td>\n      <td>USA</td>\n      <td>{''make'': 1, ' 'policy'': 1, ' 'scout'': 1, '...</td>\n    </tr>\n  </tbody>\n</table>\n<p>66 rows × 3 columns</p>\n</div>"
     },
     "metadata": {},
     "execution_count": 103
    }
   ],
   "source": [
    "freq"
   ]
  },
  {
   "cell_type": "code",
   "execution_count": 98,
   "metadata": {},
   "outputs": [
    {
     "output_type": "stream",
     "name": "stdout",
     "text": [
      "There is  17 year of data\n"
     ]
    }
   ],
   "source": [
    "print(\"There is \" ,len(freq.reset_index()['time'].unique()), \"year of data\")"
   ]
  },
  {
   "cell_type": "code",
   "execution_count": 99,
   "metadata": {},
   "outputs": [],
   "source": [
    "freq = freq.reset_index()"
   ]
  },
  {
   "cell_type": "code",
   "execution_count": 18,
   "metadata": {},
   "outputs": [
    {
     "output_type": "execute_result",
     "data": {
      "text/plain": [
       "         time       country                                     clean_hl_words\n",
       "0  2005-12-31         India  {''aug'': 2, ' 'son'': 2, ' 'monster'': 2, ' '...\n",
       "1  2005-12-31  South Africa      {''monroe'': 1, ' 'stand'': 1, ' 'night'': 1}\n",
       "2  2005-12-31            UK  {''call'': 1, ' 'kill'': 3, ' 'parent'': 1, ''...\n",
       "3  2005-12-31           USA  {''iowa'': 1, ' 'snatch'': 1, ' 'dead'': 2, ' ...\n",
       "4  2006-12-31         India  {''ramsey'': 1, ' 'jun'': 1, ' 'die'': 2, ' 'j...\n",
       "..        ...           ...                                                ...\n",
       "61 2020-12-31           USA  {''young'': 1, ' 'batter'': 1, ' 'chicago'': 1...\n",
       "62 2021-12-31         India  {''leader'': 2, ' 'world'': 2, ' 'aspire'': 1,...\n",
       "63 2021-12-31  South Africa  {''reinhart'': 1, ' 'nation'': 1, ' 'bank'': 1...\n",
       "64 2021-12-31            UK  {''tills'': 1, ' 'young'': 1, ' 'elderly'': 2,...\n",
       "65 2021-12-31           USA  {''make'': 1, ' 'policy'': 1, ' 'scout'': 1, '...\n",
       "\n",
       "[66 rows x 3 columns]"
      ],
      "text/html": "<div>\n<style scoped>\n    .dataframe tbody tr th:only-of-type {\n        vertical-align: middle;\n    }\n\n    .dataframe tbody tr th {\n        vertical-align: top;\n    }\n\n    .dataframe thead th {\n        text-align: right;\n    }\n</style>\n<table border=\"1\" class=\"dataframe\">\n  <thead>\n    <tr style=\"text-align: right;\">\n      <th></th>\n      <th>time</th>\n      <th>country</th>\n      <th>clean_hl_words</th>\n    </tr>\n  </thead>\n  <tbody>\n    <tr>\n      <th>0</th>\n      <td>2005-12-31</td>\n      <td>India</td>\n      <td>{''aug'': 2, ' 'son'': 2, ' 'monster'': 2, ' '...</td>\n    </tr>\n    <tr>\n      <th>1</th>\n      <td>2005-12-31</td>\n      <td>South Africa</td>\n      <td>{''monroe'': 1, ' 'stand'': 1, ' 'night'': 1}</td>\n    </tr>\n    <tr>\n      <th>2</th>\n      <td>2005-12-31</td>\n      <td>UK</td>\n      <td>{''call'': 1, ' 'kill'': 3, ' 'parent'': 1, ''...</td>\n    </tr>\n    <tr>\n      <th>3</th>\n      <td>2005-12-31</td>\n      <td>USA</td>\n      <td>{''iowa'': 1, ' 'snatch'': 1, ' 'dead'': 2, ' ...</td>\n    </tr>\n    <tr>\n      <th>4</th>\n      <td>2006-12-31</td>\n      <td>India</td>\n      <td>{''ramsey'': 1, ' 'jun'': 1, ' 'die'': 2, ' 'j...</td>\n    </tr>\n    <tr>\n      <th>...</th>\n      <td>...</td>\n      <td>...</td>\n      <td>...</td>\n    </tr>\n    <tr>\n      <th>61</th>\n      <td>2020-12-31</td>\n      <td>USA</td>\n      <td>{''young'': 1, ' 'batter'': 1, ' 'chicago'': 1...</td>\n    </tr>\n    <tr>\n      <th>62</th>\n      <td>2021-12-31</td>\n      <td>India</td>\n      <td>{''leader'': 2, ' 'world'': 2, ' 'aspire'': 1,...</td>\n    </tr>\n    <tr>\n      <th>63</th>\n      <td>2021-12-31</td>\n      <td>South Africa</td>\n      <td>{''reinhart'': 1, ' 'nation'': 1, ' 'bank'': 1...</td>\n    </tr>\n    <tr>\n      <th>64</th>\n      <td>2021-12-31</td>\n      <td>UK</td>\n      <td>{''tills'': 1, ' 'young'': 1, ' 'elderly'': 2,...</td>\n    </tr>\n    <tr>\n      <th>65</th>\n      <td>2021-12-31</td>\n      <td>USA</td>\n      <td>{''make'': 1, ' 'policy'': 1, ' 'scout'': 1, '...</td>\n    </tr>\n  </tbody>\n</table>\n<p>66 rows × 3 columns</p>\n</div>"
     },
     "metadata": {},
     "execution_count": 18
    }
   ],
   "source": [
    "freq"
   ]
  },
  {
   "cell_type": "code",
   "execution_count": 100,
   "metadata": {},
   "outputs": [],
   "source": [
    "import collections\n",
    "freq['clean_hl_words'] = freq['clean_hl_words'].apply(lambda x: collections.Counter(x))"
   ]
  },
  {
   "cell_type": "code",
   "execution_count": null,
   "metadata": {},
   "outputs": [],
   "source": [
    "def prop(list):\n",
    "    "
   ]
  },
  {
   "cell_type": "code",
   "execution_count": 85,
   "metadata": {},
   "outputs": [
    {
     "output_type": "execute_result",
     "data": {
      "text/plain": [
       "dict_values([3, 1])"
      ]
     },
     "metadata": {},
     "execution_count": 85
    }
   ],
   "source": [
    "test = [1,1,1,0]\n",
    "a = collections.Counter(test)\n"
   ]
  },
  {
   "cell_type": "code",
   "execution_count": 102,
   "metadata": {},
   "outputs": [
    {
     "output_type": "execute_result",
     "data": {
      "text/plain": [
       "         time       country                                     clean_hl_words\n",
       "0  2005-12-31         India  {''aug'': 2, ' 'son'': 2, ' 'monster'': 2, ' '...\n",
       "1  2005-12-31  South Africa      {''monroe'': 1, ' 'stand'': 1, ' 'night'': 1}\n",
       "2  2005-12-31            UK  {''call'': 1, ' 'kill'': 3, ' 'parent'': 1, ''...\n",
       "3  2005-12-31           USA  {''iowa'': 1, ' 'snatch'': 1, ' 'dead'': 2, ' ...\n",
       "4  2006-12-31         India  {''ramsey'': 1, ' 'jun'': 1, ' 'die'': 2, ' 'j...\n",
       "..        ...           ...                                                ...\n",
       "61 2020-12-31           USA  {''young'': 1, ' 'batter'': 1, ' 'chicago'': 1...\n",
       "62 2021-12-31         India  {''leader'': 2, ' 'world'': 2, ' 'aspire'': 1,...\n",
       "63 2021-12-31  South Africa  {''reinhart'': 1, ' 'nation'': 1, ' 'bank'': 1...\n",
       "64 2021-12-31            UK  {''tills'': 1, ' 'young'': 1, ' 'elderly'': 2,...\n",
       "65 2021-12-31           USA  {''make'': 1, ' 'policy'': 1, ' 'scout'': 1, '...\n",
       "\n",
       "[66 rows x 3 columns]"
      ],
      "text/html": "<div>\n<style scoped>\n    .dataframe tbody tr th:only-of-type {\n        vertical-align: middle;\n    }\n\n    .dataframe tbody tr th {\n        vertical-align: top;\n    }\n\n    .dataframe thead th {\n        text-align: right;\n    }\n</style>\n<table border=\"1\" class=\"dataframe\">\n  <thead>\n    <tr style=\"text-align: right;\">\n      <th></th>\n      <th>time</th>\n      <th>country</th>\n      <th>clean_hl_words</th>\n    </tr>\n  </thead>\n  <tbody>\n    <tr>\n      <th>0</th>\n      <td>2005-12-31</td>\n      <td>India</td>\n      <td>{''aug'': 2, ' 'son'': 2, ' 'monster'': 2, ' '...</td>\n    </tr>\n    <tr>\n      <th>1</th>\n      <td>2005-12-31</td>\n      <td>South Africa</td>\n      <td>{''monroe'': 1, ' 'stand'': 1, ' 'night'': 1}</td>\n    </tr>\n    <tr>\n      <th>2</th>\n      <td>2005-12-31</td>\n      <td>UK</td>\n      <td>{''call'': 1, ' 'kill'': 3, ' 'parent'': 1, ''...</td>\n    </tr>\n    <tr>\n      <th>3</th>\n      <td>2005-12-31</td>\n      <td>USA</td>\n      <td>{''iowa'': 1, ' 'snatch'': 1, ' 'dead'': 2, ' ...</td>\n    </tr>\n    <tr>\n      <th>4</th>\n      <td>2006-12-31</td>\n      <td>India</td>\n      <td>{''ramsey'': 1, ' 'jun'': 1, ' 'die'': 2, ' 'j...</td>\n    </tr>\n    <tr>\n      <th>...</th>\n      <td>...</td>\n      <td>...</td>\n      <td>...</td>\n    </tr>\n    <tr>\n      <th>61</th>\n      <td>2020-12-31</td>\n      <td>USA</td>\n      <td>{''young'': 1, ' 'batter'': 1, ' 'chicago'': 1...</td>\n    </tr>\n    <tr>\n      <th>62</th>\n      <td>2021-12-31</td>\n      <td>India</td>\n      <td>{''leader'': 2, ' 'world'': 2, ' 'aspire'': 1,...</td>\n    </tr>\n    <tr>\n      <th>63</th>\n      <td>2021-12-31</td>\n      <td>South Africa</td>\n      <td>{''reinhart'': 1, ' 'nation'': 1, ' 'bank'': 1...</td>\n    </tr>\n    <tr>\n      <th>64</th>\n      <td>2021-12-31</td>\n      <td>UK</td>\n      <td>{''tills'': 1, ' 'young'': 1, ' 'elderly'': 2,...</td>\n    </tr>\n    <tr>\n      <th>65</th>\n      <td>2021-12-31</td>\n      <td>USA</td>\n      <td>{''make'': 1, ' 'policy'': 1, ' 'scout'': 1, '...</td>\n    </tr>\n  </tbody>\n</table>\n<p>66 rows × 3 columns</p>\n</div>"
     },
     "metadata": {},
     "execution_count": 102
    }
   ],
   "source": [
    "freq"
   ]
  },
  {
   "cell_type": "code",
   "execution_count": 101,
   "metadata": {},
   "outputs": [],
   "source": [
    "def get_proportional_frequency(dict):\n",
    "    return {k: 100*(v/ sum([v for k,v in dict.items()])) for k,v in dict.items()}"
   ]
  },
  {
   "cell_type": "code",
   "execution_count": 94,
   "metadata": {},
   "outputs": [],
   "source": [
    "freq['clean_hl_words_prop']= freq['clean_hl_words'].apply(lambda x: get_proportional_frequency(x))"
   ]
  },
  {
   "cell_type": "code",
   "execution_count": 95,
   "metadata": {},
   "outputs": [],
   "source": [
    "import json\n",
    "df2 = freq.join(freq.clean_hl_words_prop.apply(pd.Series), how = 'left').melt(id_vars=['time', 'country', 'clean_hl_words', 'clean_hl_words_prop'])"
   ]
  },
  {
   "cell_type": "code",
   "execution_count": null,
   "metadata": {},
   "outputs": [],
   "source": [
    "df2.drop(columns = ['clean_hl_words', 'clean_hl_words_prop'], inplace = True)"
   ]
  },
  {
   "cell_type": "code",
   "execution_count": 99,
   "metadata": {},
   "outputs": [
    {
     "output_type": "execute_result",
     "data": {
      "text/plain": [
       "              time       country   variable     value\n",
       "0       2005-12-31         India      'aug'  0.450450\n",
       "1       2005-12-31  South Africa      'aug'       NaN\n",
       "2       2005-12-31            UK      'aug'       NaN\n",
       "3       2005-12-31           USA      'aug'       NaN\n",
       "4       2006-12-31         India      'aug'       NaN\n",
       "...            ...           ...        ...       ...\n",
       "5397343 2020-12-31           USA   'mynatt'       NaN\n",
       "5397344 2021-12-31         India   'mynatt'       NaN\n",
       "5397345 2021-12-31  South Africa   'mynatt'       NaN\n",
       "5397346 2021-12-31            UK   'mynatt'       NaN\n",
       "5397347 2021-12-31           USA   'mynatt'  0.943396\n",
       "\n",
       "[5397348 rows x 4 columns]"
      ],
      "text/html": "<div>\n<style scoped>\n    .dataframe tbody tr th:only-of-type {\n        vertical-align: middle;\n    }\n\n    .dataframe tbody tr th {\n        vertical-align: top;\n    }\n\n    .dataframe thead th {\n        text-align: right;\n    }\n</style>\n<table border=\"1\" class=\"dataframe\">\n  <thead>\n    <tr style=\"text-align: right;\">\n      <th></th>\n      <th>time</th>\n      <th>country</th>\n      <th>variable</th>\n      <th>value</th>\n    </tr>\n  </thead>\n  <tbody>\n    <tr>\n      <th>0</th>\n      <td>2005-12-31</td>\n      <td>India</td>\n      <td>'aug'</td>\n      <td>0.450450</td>\n    </tr>\n    <tr>\n      <th>1</th>\n      <td>2005-12-31</td>\n      <td>South Africa</td>\n      <td>'aug'</td>\n      <td>NaN</td>\n    </tr>\n    <tr>\n      <th>2</th>\n      <td>2005-12-31</td>\n      <td>UK</td>\n      <td>'aug'</td>\n      <td>NaN</td>\n    </tr>\n    <tr>\n      <th>3</th>\n      <td>2005-12-31</td>\n      <td>USA</td>\n      <td>'aug'</td>\n      <td>NaN</td>\n    </tr>\n    <tr>\n      <th>4</th>\n      <td>2006-12-31</td>\n      <td>India</td>\n      <td>'aug'</td>\n      <td>NaN</td>\n    </tr>\n    <tr>\n      <th>...</th>\n      <td>...</td>\n      <td>...</td>\n      <td>...</td>\n      <td>...</td>\n    </tr>\n    <tr>\n      <th>5397343</th>\n      <td>2020-12-31</td>\n      <td>USA</td>\n      <td>'mynatt'</td>\n      <td>NaN</td>\n    </tr>\n    <tr>\n      <th>5397344</th>\n      <td>2021-12-31</td>\n      <td>India</td>\n      <td>'mynatt'</td>\n      <td>NaN</td>\n    </tr>\n    <tr>\n      <th>5397345</th>\n      <td>2021-12-31</td>\n      <td>South Africa</td>\n      <td>'mynatt'</td>\n      <td>NaN</td>\n    </tr>\n    <tr>\n      <th>5397346</th>\n      <td>2021-12-31</td>\n      <td>UK</td>\n      <td>'mynatt'</td>\n      <td>NaN</td>\n    </tr>\n    <tr>\n      <th>5397347</th>\n      <td>2021-12-31</td>\n      <td>USA</td>\n      <td>'mynatt'</td>\n      <td>0.943396</td>\n    </tr>\n  </tbody>\n</table>\n<p>5397348 rows × 4 columns</p>\n</div>"
     },
     "metadata": {},
     "execution_count": 99
    }
   ],
   "source": [
    "df2.dropna"
   ]
  },
  {
   "cell_type": "code",
   "execution_count": 100,
   "metadata": {},
   "outputs": [],
   "source": [
    "df2.columns = ['time', 'country', 'word', 'prop_frequency']"
   ]
  },
  {
   "cell_type": "code",
   "execution_count": 102,
   "metadata": {},
   "outputs": [],
   "source": [
    "df2['word'] = df2['word'].str.strip(\"'\").str.strip(\"'\")\n",
    "#df['word'] "
   ]
  },
  {
   "cell_type": "code",
   "execution_count": 104,
   "metadata": {},
   "outputs": [],
   "source": [
    "df = df.merge(df2, on = ['time', 'country', 'word'])"
   ]
  },
  {
   "cell_type": "code",
   "execution_count": 22,
   "metadata": {},
   "outputs": [],
   "source": [
    "df.drop(columns = ['clean_hl_words'], inplace = True)"
   ]
  },
  {
   "cell_type": "code",
   "execution_count": 175,
   "metadata": {},
   "outputs": [],
   "source": [
    "df.drop(columns = ['clean_hl_words', 'clean_hl_freq'], inplace = True)"
   ]
  },
  {
   "cell_type": "code",
   "execution_count": 64,
   "metadata": {},
   "outputs": [],
   "source": [
    "df['word'] = df['word'].str.strip(\"'\").str.strip(\"'\")\n",
    "df['word'] "
   ]
  },
  {
   "cell_type": "code",
   "execution_count": 107,
   "metadata": {},
   "outputs": [],
   "source": [
    "df.to_csv('../data/processed/country_time_freq_rapi.csv')"
   ]
  },
  {
   "cell_type": "code",
   "execution_count": 2,
   "metadata": {},
   "outputs": [],
   "source": [
    "import pandas as pd"
   ]
  },
  {
   "cell_type": "code",
   "execution_count": 13,
   "metadata": {},
   "outputs": [],
   "source": [
    "df = pd.read_csv('../data/processed/country_time_freq_rapi.csv')"
   ]
  },
  {
   "cell_type": "code",
   "execution_count": 9,
   "metadata": {},
   "outputs": [],
   "source": [
    "countries_freq = pd.read_csv('../data/processed/countries_freq_rapi.csv')"
   ]
  },
  {
   "cell_type": "code",
   "execution_count": 10,
   "metadata": {},
   "outputs": [
    {
     "output_type": "execute_result",
     "data": {
      "text/plain": [
       "       Unnamed: 0    word  frequency country\n",
       "10432           0    year       7656     USA\n",
       "10433           1     new       7171     USA\n",
       "10434           2     say       6755     USA\n",
       "10435           3     man       6466     USA\n",
       "10436           4     old       5386     USA\n",
       "49863           0     man       4996      UK\n",
       "49864           1    year       4563      UK\n",
       "81554           0   india       4106   India\n",
       "81555           1    year       3929   India\n",
       "10437           5    gaga       3858     USA\n",
       "10438           6    find       3826     USA\n",
       "10439           7    kill       3626     USA\n",
       "81556           2     man       3617   India\n",
       "81557           3     old       3417   India\n",
       "10440           8     get       3417     USA\n",
       "81558           4  indian       3384   India\n",
       "10441           9    baby       3199     USA\n",
       "10442          10   trump       3190     USA\n",
       "81559           5     say       3084   India\n",
       "10443          11     die       2934     USA"
      ],
      "text/html": "<div>\n<style scoped>\n    .dataframe tbody tr th:only-of-type {\n        vertical-align: middle;\n    }\n\n    .dataframe tbody tr th {\n        vertical-align: top;\n    }\n\n    .dataframe thead th {\n        text-align: right;\n    }\n</style>\n<table border=\"1\" class=\"dataframe\">\n  <thead>\n    <tr style=\"text-align: right;\">\n      <th></th>\n      <th>Unnamed: 0</th>\n      <th>word</th>\n      <th>frequency</th>\n      <th>country</th>\n    </tr>\n  </thead>\n  <tbody>\n    <tr>\n      <th>10432</th>\n      <td>0</td>\n      <td>year</td>\n      <td>7656</td>\n      <td>USA</td>\n    </tr>\n    <tr>\n      <th>10433</th>\n      <td>1</td>\n      <td>new</td>\n      <td>7171</td>\n      <td>USA</td>\n    </tr>\n    <tr>\n      <th>10434</th>\n      <td>2</td>\n      <td>say</td>\n      <td>6755</td>\n      <td>USA</td>\n    </tr>\n    <tr>\n      <th>10435</th>\n      <td>3</td>\n      <td>man</td>\n      <td>6466</td>\n      <td>USA</td>\n    </tr>\n    <tr>\n      <th>10436</th>\n      <td>4</td>\n      <td>old</td>\n      <td>5386</td>\n      <td>USA</td>\n    </tr>\n    <tr>\n      <th>49863</th>\n      <td>0</td>\n      <td>man</td>\n      <td>4996</td>\n      <td>UK</td>\n    </tr>\n    <tr>\n      <th>49864</th>\n      <td>1</td>\n      <td>year</td>\n      <td>4563</td>\n      <td>UK</td>\n    </tr>\n    <tr>\n      <th>81554</th>\n      <td>0</td>\n      <td>india</td>\n      <td>4106</td>\n      <td>India</td>\n    </tr>\n    <tr>\n      <th>81555</th>\n      <td>1</td>\n      <td>year</td>\n      <td>3929</td>\n      <td>India</td>\n    </tr>\n    <tr>\n      <th>10437</th>\n      <td>5</td>\n      <td>gaga</td>\n      <td>3858</td>\n      <td>USA</td>\n    </tr>\n    <tr>\n      <th>10438</th>\n      <td>6</td>\n      <td>find</td>\n      <td>3826</td>\n      <td>USA</td>\n    </tr>\n    <tr>\n      <th>10439</th>\n      <td>7</td>\n      <td>kill</td>\n      <td>3626</td>\n      <td>USA</td>\n    </tr>\n    <tr>\n      <th>81556</th>\n      <td>2</td>\n      <td>man</td>\n      <td>3617</td>\n      <td>India</td>\n    </tr>\n    <tr>\n      <th>81557</th>\n      <td>3</td>\n      <td>old</td>\n      <td>3417</td>\n      <td>India</td>\n    </tr>\n    <tr>\n      <th>10440</th>\n      <td>8</td>\n      <td>get</td>\n      <td>3417</td>\n      <td>USA</td>\n    </tr>\n    <tr>\n      <th>81558</th>\n      <td>4</td>\n      <td>indian</td>\n      <td>3384</td>\n      <td>India</td>\n    </tr>\n    <tr>\n      <th>10441</th>\n      <td>9</td>\n      <td>baby</td>\n      <td>3199</td>\n      <td>USA</td>\n    </tr>\n    <tr>\n      <th>10442</th>\n      <td>10</td>\n      <td>trump</td>\n      <td>3190</td>\n      <td>USA</td>\n    </tr>\n    <tr>\n      <th>81559</th>\n      <td>5</td>\n      <td>say</td>\n      <td>3084</td>\n      <td>India</td>\n    </tr>\n    <tr>\n      <th>10443</th>\n      <td>11</td>\n      <td>die</td>\n      <td>2934</td>\n      <td>USA</td>\n    </tr>\n  </tbody>\n</table>\n</div>"
     },
     "metadata": {},
     "execution_count": 10
    }
   ],
   "source": [
    "countries_freq.sort_values(by='frequency', ascending = False).head(20)"
   ]
  },
  {
   "cell_type": "code",
   "execution_count": 24,
   "metadata": {},
   "outputs": [],
   "source": [
    "df['time'] = pd.to_datetime(df['time'])"
   ]
  },
  {
   "cell_type": "code",
   "execution_count": 47,
   "metadata": {},
   "outputs": [],
   "source": [
    "df1['word'] = df1['word'].str.strip(\" '\")"
   ]
  },
  {
   "cell_type": "code",
   "execution_count": 51,
   "metadata": {},
   "outputs": [
    {
     "output_type": "execute_result",
     "data": {
      "text/plain": [
       "         Unnamed: 0       time country      word  frequency  prop_frequency\n",
       "67866         67866 2010-12-31   India    allege        NaN             NaN\n",
       "67870         67870 2011-12-31   India    allege        NaN             NaN\n",
       "67874         67874 2012-12-31   India    allege        NaN             NaN\n",
       "67878         67878 2013-12-31   India    allege        NaN             NaN\n",
       "67882         67882 2014-12-31   India    allege        NaN             NaN\n",
       "...             ...        ...     ...       ...        ...             ...\n",
       "3993574     3993574 2017-12-31   India  allegedy        1.0        0.000896\n",
       "3993578     3993578 2018-12-31   India  allegedy        NaN             NaN\n",
       "3993582     3993582 2019-12-31   India  allegedy        NaN             NaN\n",
       "3993586     3993586 2020-12-31   India  allegedy        NaN             NaN\n",
       "3993590     3993590 2021-12-31   India  allegedy        NaN             NaN\n",
       "\n",
       "[84 rows x 6 columns]"
      ],
      "text/html": "<div>\n<style scoped>\n    .dataframe tbody tr th:only-of-type {\n        vertical-align: middle;\n    }\n\n    .dataframe tbody tr th {\n        vertical-align: top;\n    }\n\n    .dataframe thead th {\n        text-align: right;\n    }\n</style>\n<table border=\"1\" class=\"dataframe\">\n  <thead>\n    <tr style=\"text-align: right;\">\n      <th></th>\n      <th>Unnamed: 0</th>\n      <th>time</th>\n      <th>country</th>\n      <th>word</th>\n      <th>frequency</th>\n      <th>prop_frequency</th>\n    </tr>\n  </thead>\n  <tbody>\n    <tr>\n      <th>67866</th>\n      <td>67866</td>\n      <td>2010-12-31</td>\n      <td>India</td>\n      <td>allege</td>\n      <td>NaN</td>\n      <td>NaN</td>\n    </tr>\n    <tr>\n      <th>67870</th>\n      <td>67870</td>\n      <td>2011-12-31</td>\n      <td>India</td>\n      <td>allege</td>\n      <td>NaN</td>\n      <td>NaN</td>\n    </tr>\n    <tr>\n      <th>67874</th>\n      <td>67874</td>\n      <td>2012-12-31</td>\n      <td>India</td>\n      <td>allege</td>\n      <td>NaN</td>\n      <td>NaN</td>\n    </tr>\n    <tr>\n      <th>67878</th>\n      <td>67878</td>\n      <td>2013-12-31</td>\n      <td>India</td>\n      <td>allege</td>\n      <td>NaN</td>\n      <td>NaN</td>\n    </tr>\n    <tr>\n      <th>67882</th>\n      <td>67882</td>\n      <td>2014-12-31</td>\n      <td>India</td>\n      <td>allege</td>\n      <td>NaN</td>\n      <td>NaN</td>\n    </tr>\n    <tr>\n      <th>...</th>\n      <td>...</td>\n      <td>...</td>\n      <td>...</td>\n      <td>...</td>\n      <td>...</td>\n      <td>...</td>\n    </tr>\n    <tr>\n      <th>3993574</th>\n      <td>3993574</td>\n      <td>2017-12-31</td>\n      <td>India</td>\n      <td>allegedy</td>\n      <td>1.0</td>\n      <td>0.000896</td>\n    </tr>\n    <tr>\n      <th>3993578</th>\n      <td>3993578</td>\n      <td>2018-12-31</td>\n      <td>India</td>\n      <td>allegedy</td>\n      <td>NaN</td>\n      <td>NaN</td>\n    </tr>\n    <tr>\n      <th>3993582</th>\n      <td>3993582</td>\n      <td>2019-12-31</td>\n      <td>India</td>\n      <td>allegedy</td>\n      <td>NaN</td>\n      <td>NaN</td>\n    </tr>\n    <tr>\n      <th>3993586</th>\n      <td>3993586</td>\n      <td>2020-12-31</td>\n      <td>India</td>\n      <td>allegedy</td>\n      <td>NaN</td>\n      <td>NaN</td>\n    </tr>\n    <tr>\n      <th>3993590</th>\n      <td>3993590</td>\n      <td>2021-12-31</td>\n      <td>India</td>\n      <td>allegedy</td>\n      <td>NaN</td>\n      <td>NaN</td>\n    </tr>\n  </tbody>\n</table>\n<p>84 rows × 6 columns</p>\n</div>"
     },
     "metadata": {},
     "execution_count": 51
    }
   ],
   "source": [
    "df1"
   ]
  },
  {
   "cell_type": "code",
   "execution_count": 90,
   "metadata": {},
   "outputs": [
    {
     "output_type": "stream",
     "name": "stderr",
     "text": [
      "<ipython-input-90-1731a88ef44f>:11: UserWarning:\n\nBoolean Series key will be reindexed to match DataFrame index.\n\n"
     ]
    },
    {
     "output_type": "display_data",
     "data": {
      "application/vnd.plotly.v1+json": {
       "config": {
        "plotlyServerURL": "https://plot.ly"
       },
       "data": [
        {
         "type": "scatter",
         "x": [
          "2010-12-31T00:00:00",
          "2011-12-31T00:00:00",
          "2012-12-31T00:00:00",
          "2013-12-31T00:00:00",
          "2014-12-31T00:00:00",
          "2015-12-31T00:00:00",
          "2016-12-31T00:00:00",
          "2017-12-31T00:00:00",
          "2018-12-31T00:00:00",
          "2019-12-31T00:00:00",
          "2020-12-31T00:00:00",
          "2021-12-31T00:00:00"
         ],
         "xaxis": "x",
         "y": [
          0.17204736362716325,
          0.17350267194114788,
          0.15422298829719674,
          0.13961724443233672,
          0.1428380127661474,
          0.11967938522589484,
          0.1312039089716328,
          0.10486126048612604,
          0.12053604851388786,
          0.12337692651403495,
          null,
          0.21598272138228944
         ],
         "yaxis": "y"
        },
        {
         "type": "scatter",
         "x": [
          "2010-12-31T00:00:00",
          "2011-12-31T00:00:00",
          "2012-12-31T00:00:00",
          "2013-12-31T00:00:00",
          "2014-12-31T00:00:00",
          "2015-12-31T00:00:00",
          "2016-12-31T00:00:00",
          "2017-12-31T00:00:00",
          "2018-12-31T00:00:00",
          "2019-12-31T00:00:00",
          "2020-12-31T00:00:00",
          "2021-12-31T00:00:00"
         ],
         "xaxis": "x2",
         "y": [
          17,
          25,
          34,
          41,
          64,
          76,
          116,
          117,
          161,
          185,
          null,
          2
         ],
         "yaxis": "y2"
        }
       ],
       "layout": {
        "annotations": [
         {
          "font": {
           "size": 16
          },
          "showarrow": false,
          "text": "trend by proportional frequency",
          "x": 0.225,
          "xanchor": "center",
          "xref": "paper",
          "y": 1,
          "yanchor": "bottom",
          "yref": "paper"
         },
         {
          "font": {
           "size": 16
          },
          "showarrow": false,
          "text": "trend by frequency",
          "x": 0.775,
          "xanchor": "center",
          "xref": "paper",
          "y": 1,
          "yanchor": "bottom",
          "yref": "paper"
         }
        ],
        "height": 500,
        "showlegend": false,
        "template": {
         "data": {
          "bar": [
           {
            "error_x": {
             "color": "#2a3f5f"
            },
            "error_y": {
             "color": "#2a3f5f"
            },
            "marker": {
             "line": {
              "color": "#E5ECF6",
              "width": 0.5
             }
            },
            "type": "bar"
           }
          ],
          "barpolar": [
           {
            "marker": {
             "line": {
              "color": "#E5ECF6",
              "width": 0.5
             }
            },
            "type": "barpolar"
           }
          ],
          "carpet": [
           {
            "aaxis": {
             "endlinecolor": "#2a3f5f",
             "gridcolor": "white",
             "linecolor": "white",
             "minorgridcolor": "white",
             "startlinecolor": "#2a3f5f"
            },
            "baxis": {
             "endlinecolor": "#2a3f5f",
             "gridcolor": "white",
             "linecolor": "white",
             "minorgridcolor": "white",
             "startlinecolor": "#2a3f5f"
            },
            "type": "carpet"
           }
          ],
          "choropleth": [
           {
            "colorbar": {
             "outlinewidth": 0,
             "ticks": ""
            },
            "type": "choropleth"
           }
          ],
          "contour": [
           {
            "colorbar": {
             "outlinewidth": 0,
             "ticks": ""
            },
            "colorscale": [
             [
              0,
              "#0d0887"
             ],
             [
              0.1111111111111111,
              "#46039f"
             ],
             [
              0.2222222222222222,
              "#7201a8"
             ],
             [
              0.3333333333333333,
              "#9c179e"
             ],
             [
              0.4444444444444444,
              "#bd3786"
             ],
             [
              0.5555555555555556,
              "#d8576b"
             ],
             [
              0.6666666666666666,
              "#ed7953"
             ],
             [
              0.7777777777777778,
              "#fb9f3a"
             ],
             [
              0.8888888888888888,
              "#fdca26"
             ],
             [
              1,
              "#f0f921"
             ]
            ],
            "type": "contour"
           }
          ],
          "contourcarpet": [
           {
            "colorbar": {
             "outlinewidth": 0,
             "ticks": ""
            },
            "type": "contourcarpet"
           }
          ],
          "heatmap": [
           {
            "colorbar": {
             "outlinewidth": 0,
             "ticks": ""
            },
            "colorscale": [
             [
              0,
              "#0d0887"
             ],
             [
              0.1111111111111111,
              "#46039f"
             ],
             [
              0.2222222222222222,
              "#7201a8"
             ],
             [
              0.3333333333333333,
              "#9c179e"
             ],
             [
              0.4444444444444444,
              "#bd3786"
             ],
             [
              0.5555555555555556,
              "#d8576b"
             ],
             [
              0.6666666666666666,
              "#ed7953"
             ],
             [
              0.7777777777777778,
              "#fb9f3a"
             ],
             [
              0.8888888888888888,
              "#fdca26"
             ],
             [
              1,
              "#f0f921"
             ]
            ],
            "type": "heatmap"
           }
          ],
          "heatmapgl": [
           {
            "colorbar": {
             "outlinewidth": 0,
             "ticks": ""
            },
            "colorscale": [
             [
              0,
              "#0d0887"
             ],
             [
              0.1111111111111111,
              "#46039f"
             ],
             [
              0.2222222222222222,
              "#7201a8"
             ],
             [
              0.3333333333333333,
              "#9c179e"
             ],
             [
              0.4444444444444444,
              "#bd3786"
             ],
             [
              0.5555555555555556,
              "#d8576b"
             ],
             [
              0.6666666666666666,
              "#ed7953"
             ],
             [
              0.7777777777777778,
              "#fb9f3a"
             ],
             [
              0.8888888888888888,
              "#fdca26"
             ],
             [
              1,
              "#f0f921"
             ]
            ],
            "type": "heatmapgl"
           }
          ],
          "histogram": [
           {
            "marker": {
             "colorbar": {
              "outlinewidth": 0,
              "ticks": ""
             }
            },
            "type": "histogram"
           }
          ],
          "histogram2d": [
           {
            "colorbar": {
             "outlinewidth": 0,
             "ticks": ""
            },
            "colorscale": [
             [
              0,
              "#0d0887"
             ],
             [
              0.1111111111111111,
              "#46039f"
             ],
             [
              0.2222222222222222,
              "#7201a8"
             ],
             [
              0.3333333333333333,
              "#9c179e"
             ],
             [
              0.4444444444444444,
              "#bd3786"
             ],
             [
              0.5555555555555556,
              "#d8576b"
             ],
             [
              0.6666666666666666,
              "#ed7953"
             ],
             [
              0.7777777777777778,
              "#fb9f3a"
             ],
             [
              0.8888888888888888,
              "#fdca26"
             ],
             [
              1,
              "#f0f921"
             ]
            ],
            "type": "histogram2d"
           }
          ],
          "histogram2dcontour": [
           {
            "colorbar": {
             "outlinewidth": 0,
             "ticks": ""
            },
            "colorscale": [
             [
              0,
              "#0d0887"
             ],
             [
              0.1111111111111111,
              "#46039f"
             ],
             [
              0.2222222222222222,
              "#7201a8"
             ],
             [
              0.3333333333333333,
              "#9c179e"
             ],
             [
              0.4444444444444444,
              "#bd3786"
             ],
             [
              0.5555555555555556,
              "#d8576b"
             ],
             [
              0.6666666666666666,
              "#ed7953"
             ],
             [
              0.7777777777777778,
              "#fb9f3a"
             ],
             [
              0.8888888888888888,
              "#fdca26"
             ],
             [
              1,
              "#f0f921"
             ]
            ],
            "type": "histogram2dcontour"
           }
          ],
          "mesh3d": [
           {
            "colorbar": {
             "outlinewidth": 0,
             "ticks": ""
            },
            "type": "mesh3d"
           }
          ],
          "parcoords": [
           {
            "line": {
             "colorbar": {
              "outlinewidth": 0,
              "ticks": ""
             }
            },
            "type": "parcoords"
           }
          ],
          "pie": [
           {
            "automargin": true,
            "type": "pie"
           }
          ],
          "scatter": [
           {
            "marker": {
             "colorbar": {
              "outlinewidth": 0,
              "ticks": ""
             }
            },
            "type": "scatter"
           }
          ],
          "scatter3d": [
           {
            "line": {
             "colorbar": {
              "outlinewidth": 0,
              "ticks": ""
             }
            },
            "marker": {
             "colorbar": {
              "outlinewidth": 0,
              "ticks": ""
             }
            },
            "type": "scatter3d"
           }
          ],
          "scattercarpet": [
           {
            "marker": {
             "colorbar": {
              "outlinewidth": 0,
              "ticks": ""
             }
            },
            "type": "scattercarpet"
           }
          ],
          "scattergeo": [
           {
            "marker": {
             "colorbar": {
              "outlinewidth": 0,
              "ticks": ""
             }
            },
            "type": "scattergeo"
           }
          ],
          "scattergl": [
           {
            "marker": {
             "colorbar": {
              "outlinewidth": 0,
              "ticks": ""
             }
            },
            "type": "scattergl"
           }
          ],
          "scattermapbox": [
           {
            "marker": {
             "colorbar": {
              "outlinewidth": 0,
              "ticks": ""
             }
            },
            "type": "scattermapbox"
           }
          ],
          "scatterpolar": [
           {
            "marker": {
             "colorbar": {
              "outlinewidth": 0,
              "ticks": ""
             }
            },
            "type": "scatterpolar"
           }
          ],
          "scatterpolargl": [
           {
            "marker": {
             "colorbar": {
              "outlinewidth": 0,
              "ticks": ""
             }
            },
            "type": "scatterpolargl"
           }
          ],
          "scatterternary": [
           {
            "marker": {
             "colorbar": {
              "outlinewidth": 0,
              "ticks": ""
             }
            },
            "type": "scatterternary"
           }
          ],
          "surface": [
           {
            "colorbar": {
             "outlinewidth": 0,
             "ticks": ""
            },
            "colorscale": [
             [
              0,
              "#0d0887"
             ],
             [
              0.1111111111111111,
              "#46039f"
             ],
             [
              0.2222222222222222,
              "#7201a8"
             ],
             [
              0.3333333333333333,
              "#9c179e"
             ],
             [
              0.4444444444444444,
              "#bd3786"
             ],
             [
              0.5555555555555556,
              "#d8576b"
             ],
             [
              0.6666666666666666,
              "#ed7953"
             ],
             [
              0.7777777777777778,
              "#fb9f3a"
             ],
             [
              0.8888888888888888,
              "#fdca26"
             ],
             [
              1,
              "#f0f921"
             ]
            ],
            "type": "surface"
           }
          ],
          "table": [
           {
            "cells": {
             "fill": {
              "color": "#EBF0F8"
             },
             "line": {
              "color": "white"
             }
            },
            "header": {
             "fill": {
              "color": "#C8D4E3"
             },
             "line": {
              "color": "white"
             }
            },
            "type": "table"
           }
          ]
         },
         "layout": {
          "annotationdefaults": {
           "arrowcolor": "#2a3f5f",
           "arrowhead": 0,
           "arrowwidth": 1
          },
          "autotypenumbers": "strict",
          "coloraxis": {
           "colorbar": {
            "outlinewidth": 0,
            "ticks": ""
           }
          },
          "colorscale": {
           "diverging": [
            [
             0,
             "#8e0152"
            ],
            [
             0.1,
             "#c51b7d"
            ],
            [
             0.2,
             "#de77ae"
            ],
            [
             0.3,
             "#f1b6da"
            ],
            [
             0.4,
             "#fde0ef"
            ],
            [
             0.5,
             "#f7f7f7"
            ],
            [
             0.6,
             "#e6f5d0"
            ],
            [
             0.7,
             "#b8e186"
            ],
            [
             0.8,
             "#7fbc41"
            ],
            [
             0.9,
             "#4d9221"
            ],
            [
             1,
             "#276419"
            ]
           ],
           "sequential": [
            [
             0,
             "#0d0887"
            ],
            [
             0.1111111111111111,
             "#46039f"
            ],
            [
             0.2222222222222222,
             "#7201a8"
            ],
            [
             0.3333333333333333,
             "#9c179e"
            ],
            [
             0.4444444444444444,
             "#bd3786"
            ],
            [
             0.5555555555555556,
             "#d8576b"
            ],
            [
             0.6666666666666666,
             "#ed7953"
            ],
            [
             0.7777777777777778,
             "#fb9f3a"
            ],
            [
             0.8888888888888888,
             "#fdca26"
            ],
            [
             1,
             "#f0f921"
            ]
           ],
           "sequentialminus": [
            [
             0,
             "#0d0887"
            ],
            [
             0.1111111111111111,
             "#46039f"
            ],
            [
             0.2222222222222222,
             "#7201a8"
            ],
            [
             0.3333333333333333,
             "#9c179e"
            ],
            [
             0.4444444444444444,
             "#bd3786"
            ],
            [
             0.5555555555555556,
             "#d8576b"
            ],
            [
             0.6666666666666666,
             "#ed7953"
            ],
            [
             0.7777777777777778,
             "#fb9f3a"
            ],
            [
             0.8888888888888888,
             "#fdca26"
            ],
            [
             1,
             "#f0f921"
            ]
           ]
          },
          "colorway": [
           "#636efa",
           "#EF553B",
           "#00cc96",
           "#ab63fa",
           "#FFA15A",
           "#19d3f3",
           "#FF6692",
           "#B6E880",
           "#FF97FF",
           "#FECB52"
          ],
          "font": {
           "color": "#2a3f5f"
          },
          "geo": {
           "bgcolor": "white",
           "lakecolor": "white",
           "landcolor": "#E5ECF6",
           "showlakes": true,
           "showland": true,
           "subunitcolor": "white"
          },
          "hoverlabel": {
           "align": "left"
          },
          "hovermode": "closest",
          "mapbox": {
           "style": "light"
          },
          "paper_bgcolor": "white",
          "plot_bgcolor": "#E5ECF6",
          "polar": {
           "angularaxis": {
            "gridcolor": "white",
            "linecolor": "white",
            "ticks": ""
           },
           "bgcolor": "#E5ECF6",
           "radialaxis": {
            "gridcolor": "white",
            "linecolor": "white",
            "ticks": ""
           }
          },
          "scene": {
           "xaxis": {
            "backgroundcolor": "#E5ECF6",
            "gridcolor": "white",
            "gridwidth": 2,
            "linecolor": "white",
            "showbackground": true,
            "ticks": "",
            "zerolinecolor": "white"
           },
           "yaxis": {
            "backgroundcolor": "#E5ECF6",
            "gridcolor": "white",
            "gridwidth": 2,
            "linecolor": "white",
            "showbackground": true,
            "ticks": "",
            "zerolinecolor": "white"
           },
           "zaxis": {
            "backgroundcolor": "#E5ECF6",
            "gridcolor": "white",
            "gridwidth": 2,
            "linecolor": "white",
            "showbackground": true,
            "ticks": "",
            "zerolinecolor": "white"
           }
          },
          "shapedefaults": {
           "line": {
            "color": "#2a3f5f"
           }
          },
          "ternary": {
           "aaxis": {
            "gridcolor": "white",
            "linecolor": "white",
            "ticks": ""
           },
           "baxis": {
            "gridcolor": "white",
            "linecolor": "white",
            "ticks": ""
           },
           "bgcolor": "#E5ECF6",
           "caxis": {
            "gridcolor": "white",
            "linecolor": "white",
            "ticks": ""
           }
          },
          "title": {
           "x": 0.05
          },
          "xaxis": {
           "automargin": true,
           "gridcolor": "white",
           "linecolor": "white",
           "ticks": "",
           "title": {
            "standoff": 15
           },
           "zerolinecolor": "white",
           "zerolinewidth": 2
          },
          "yaxis": {
           "automargin": true,
           "gridcolor": "white",
           "linecolor": "white",
           "ticks": "",
           "title": {
            "standoff": 15
           },
           "zerolinecolor": "white",
           "zerolinewidth": 2
          }
         }
        },
        "width": 800,
        "xaxis": {
         "anchor": "y",
         "domain": [
          0,
          0.45
         ]
        },
        "xaxis2": {
         "anchor": "y2",
         "domain": [
          0.55,
          1
         ]
        },
        "yaxis": {
         "anchor": "x",
         "domain": [
          0,
          1
         ]
        },
        "yaxis2": {
         "anchor": "x2",
         "domain": [
          0,
          1
         ]
        }
       }
      }
     },
     "metadata": {}
    }
   ],
   "source": [
    "import plotly.express as px\n",
    "import plotly.graph_objects as go\n",
    "from plotly.subplots import make_subplots\n",
    "\n",
    "word = 'kill'\n",
    "country = 'India'\n",
    "\n",
    "fig = make_subplots(rows = 1, cols = 2, subplot_titles=(\"trend by proportional frequency\", \"trend by frequency\"))\n",
    "\n",
    "df1 = df[(df['word']== word)& (df['country']==country)]\n",
    "df1 = df1[df['time'].dt.year>2009]\n",
    "\n",
    "fig.add_trace(go.Scatter( x = df1['time'], y=df1['prop_frequency']), row=1, col=1 )\n",
    "fig.add_trace(go.Scatter( x = df1['time'], y=df1['frequency']), row=1, col=2 )\n",
    "\n",
    "fig.update_layout(height = 500, width = 800, showlegend = False)\n",
    "\n",
    "#fig = px.line(df1.sort_values(by = 'time', ascending = False), x = 'time', y ='prop_frequency')\n",
    "fig.show()"
   ]
  }
 ]
}