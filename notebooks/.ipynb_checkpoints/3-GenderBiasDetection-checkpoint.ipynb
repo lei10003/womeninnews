{
 "cells": [
  {
   "cell_type": "code",
   "execution_count": 63,
   "metadata": {},
   "outputs": [],
   "source": [
    "import pandas as pd\n",
    "\n",
    "df = pd.read_csv('../data/processed/headlines_cl_sent.csv')"
   ]
  },
  {
   "cell_type": "code",
   "execution_count": 95,
   "metadata": {},
   "outputs": [],
   "source": [
    "import ast\n",
    "df['clean_hl_words'] = df['clean_hl_words'].apply(lambda row: ast.literal_eval(row))\n",
    "# turn words into sets so we can compute intersection\n",
    "df['clean_hl_words'] = df['clean_hl_words'].apply(lambda row: set([w.lower() for w in row]))\n",
    "df['hl_words'] = df['headline_no_site'].apply(lambda row: set([w.lower() for w in row.split()]))"
   ]
  },
  {
   "cell_type": "code",
   "execution_count": 97,
   "metadata": {},
   "outputs": [],
   "source": [
    "#Two lists  of words that are used when a man or woman is present, based on Danielle Sucher's https://github.com/DanielleSucher/Jailbreak-the-Patriarchy\n",
    "# male_words=set(['guy','spokesman','chairman',\"men's\",'men','him',\"he's\",'his','boy','boyfriend','boyfriends','boys','brother','brothers','dad','dads','dude','father','fathers','fiance','gentleman','gentlemen','god','grandfather','grandpa','grandson','groom','he','himself','husband','husbands','king','male','man','mr','nephew','nephews','priest','prince','son','sons','uncle','uncles','waiter','widower','widowers'])\n",
    "female_words=set(['heroine','spokeswoman','chairwoman',\"women's\",'actress','women',\"she's\",'her','aunt',\n",
    "                  'aunts','bride','daughter','daughters','female','fiancee','girl','girlfriend','girlfriends',\n",
    "                  'girls','goddess','granddaughter','grandma','grandmother','herself','ladies','lady','lady',\n",
    "                  'mom','moms','mother','mothers','mrs','ms','niece','nieces','priestess','princess','queens',\n",
    "                  'she','sister','sisters','waitress','widow','widows','wife','wives','woman', 'beautiful', \n",
    "                  'beauty', 'she', 'housewife', ])"
   ]
  },
  {
   "cell_type": "code",
   "execution_count": 121,
   "metadata": {},
   "outputs": [],
   "source": [
    "# def gender_the_sentence(sentence_words):\n",
    "#     mw_length=len(male_words.intersection(sentence_words))\n",
    "#     fw_length=len(female_words.intersection(sentence_words))\n",
    "\n",
    "#     if mw_length>0 and fw_length==0:\n",
    "#         gender='male'\n",
    "#     elif mw_length==0 and fw_length>0: \n",
    "#         gender='female'\n",
    "#     elif mw_length>0 and fw_length>0: \n",
    "#         gender='both'\n",
    "#     else:\n",
    "#         gender='none'\n",
    "#     return gender"
   ]
  },
  {
   "cell_type": "code",
   "execution_count": 66,
   "metadata": {},
   "outputs": [],
   "source": [
    "def gender_the_sentence(sentence_words):\n",
    "#     mw_length=len(male_words.intersection(sentence_words))\n",
    "    fw_length=len(female_words.intersection(sentence_words))\n",
    "\n",
    "#     if mw_length>0 and fw_length==0:\n",
    "#         gender='male'\n",
    "    if fw_length>0: \n",
    "        gender=1\n",
    "    else:\n",
    "        gender=0\n",
    "    return gender"
   ]
  },
  {
   "cell_type": "code",
   "execution_count": 68,
   "metadata": {},
   "outputs": [],
   "source": [
    "def quantify_bias(sentence_words):\n",
    "#     mw_length=len(male_words.intersection(sentence_words))\n",
    "    fw_length=len(female_words.intersection(sentence_words))\n",
    "\n",
    "#     if mw_length>0 and fw_length==0:\n",
    "#         gender='male'\n",
    "    if fw_length>0: \n",
    "        bias=fw_length\n",
    "    else:\n",
    "        bias=0\n",
    "    return bias"
   ]
  },
  {
   "cell_type": "code",
   "execution_count": 51,
   "metadata": {},
   "outputs": [
    {
     "data": {
      "text/plain": [
       "0        {s, william, oor, diana, onderhoud, waarheid, ...\n",
       "1        {onder, k, plaaslike, die, doenig, ooievaar, b...\n",
       "2                       {dream, west, live, coast, artist}\n",
       "3                            {cillier, big, apple, beckon}\n",
       "4        {bazier, alderman, city, honours, p, councillo...\n",
       "                               ...                        \n",
       "47549              {hospital, crash, fight, life, maghull}\n",
       "47550    {finger, fiancee, break, ex, slap, footballer,...\n",
       "47551    {bite, bloodstained, thug, blade, confront, ea...\n",
       "47552    {terminal, young, dad, wish, cancer, share, he...\n",
       "47553    {food, worker, mconald, order, share, wrong, f...\n",
       "Name: clean_hl_words, Length: 47554, dtype: object"
      ]
     },
     "execution_count": 51,
     "metadata": {},
     "output_type": "execute_result"
    }
   ],
   "source": [
    "df['clean_hl_words']"
   ]
  },
  {
   "cell_type": "code",
   "execution_count": 98,
   "metadata": {},
   "outputs": [],
   "source": [
    "# create bias columns\n",
    "df['gendered'] = df['hl_words'].apply(lambda row: gender_the_sentence(row))\n",
    "df['bias'] = df['hl_words'].apply(lambda row: quantify_bias(row))"
   ]
  },
  {
   "cell_type": "code",
   "execution_count": 101,
   "metadata": {},
   "outputs": [
    {
     "data": {
      "text/plain": [
       "2        1\n",
       "5        1\n",
       "8        1\n",
       "12       1\n",
       "14       1\n",
       "        ..\n",
       "47548    1\n",
       "47549    1\n",
       "47550    1\n",
       "47551    1\n",
       "47552    1\n",
       "Name: gendered, Length: 28163, dtype: int64"
      ]
     },
     "execution_count": 101,
     "metadata": {},
     "output_type": "execute_result"
    }
   ],
   "source": [
    "df[df['gendered'] > 0]['gendered']"
   ]
  }
 ],
 "metadata": {
  "kernelspec": {
   "display_name": "Python 3",
   "language": "python",
   "name": "python3"
  },
  "language_info": {
   "codemirror_mode": {
    "name": "ipython",
    "version": 3
   },
   "file_extension": ".py",
   "mimetype": "text/x-python",
   "name": "python",
   "nbconvert_exporter": "python",
   "pygments_lexer": "ipython3",
   "version": "3.7.3"
  }
 },
 "nbformat": 4,
 "nbformat_minor": 4
}
