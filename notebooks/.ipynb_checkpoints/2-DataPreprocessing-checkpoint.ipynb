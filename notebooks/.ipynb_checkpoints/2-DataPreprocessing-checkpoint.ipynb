{
 "cells": [
  {
   "cell_type": "code",
   "execution_count": 1,
   "metadata": {},
   "outputs": [],
   "source": [
    "import pandas as pd\n",
    "import numpy as np\n",
    "import glob\n",
    "import os\n",
    "import re\n",
    "import string\n",
    "from textblob import TextBlob\n",
    "import preprocessor as p\n",
    "import nltk\n",
    "from nltk.corpus import stopwords\n",
    "from nltk.tokenize import word_tokenize"
   ]
  },
  {
   "cell_type": "code",
   "execution_count": 2,
   "metadata": {},
   "outputs": [],
   "source": [
    "# read all files \n",
    "files = sorted(glob.glob(\"../data/raw_temporal/*_articles.csv\"))\n",
    "\n",
    "file_names = []\n",
    "\n",
    "for file_path in files:\n",
    "    file_name = re.split(\"_\", os.path.basename(file_path))[1].split('.')[0]\n",
    "    \n",
    "    hd = pd.read_csv(file_path)\n",
    "    file_names.append(hd)\n",
    "    \n",
    "df = pd.concat(file_names).reset_index().drop([\"Unnamed: 0\", \"index\"], axis=1)\n",
    "df.time = pd.to_datetime(df.time)"
   ]
  },
  {
   "cell_type": "code",
   "execution_count": 8,
   "metadata": {},
   "outputs": [],
   "source": [
    "# read metadata file\n",
    "newsrooms = pd.read_csv('../data/raw/newsrooms.csv')\n",
    "newsrooms.columns = ['site', 'monthly_visits', 'country', 'country_of_pub']\n",
    "newsrooms.dropna(inplace=True)\n",
    "newsrooms = newsrooms.drop_duplicates(subset = 'site')\n",
    "newsrooms = newsrooms.sort_values(by=['country_of_pub', 'monthly_visits'], ascending=False).reset_index().drop('index', axis=1)"
   ]
  },
  {
   "cell_type": "code",
   "execution_count": 10,
   "metadata": {},
   "outputs": [],
   "source": [
    "df = pd.merge(df, newsrooms)"
   ]
  },
  {
   "cell_type": "code",
   "execution_count": 12,
   "metadata": {},
   "outputs": [
    {
     "name": "stdout",
     "output_type": "stream",
     "text": [
      "This dataset has 12057 headlines from South Africa 66687 headlines from India 78355 headlines from the UK and 140985 headlines from the U.S.\n"
     ]
    }
   ],
   "source": [
    "print(\"This dataset has\", len(df[df['country_of_pub']=='South Africa']), \"headlines from South Africa\", len(df[df['country_of_pub']=='India']), \"headlines from India\",\n",
    "      len(df[df['country_of_pub']=='UK']), \"headlines from the UK and\", len(df[df['country_of_pub']=='USA']), \"headlines from the U.S.\")"
   ]
  },
  {
   "cell_type": "code",
   "execution_count": 13,
   "metadata": {},
   "outputs": [
    {
     "name": "stdout",
     "output_type": "stream",
     "text": [
      "This dataset covers 23 news outlets from South Africa 35 news outlets from India 41 news outlets from the UK and 86 news outlets from the U.S.\n"
     ]
    }
   ],
   "source": [
    "print(\"This dataset covers\", len(df.site[df['country_of_pub']=='South Africa'].unique()), \"news outlets from South Africa\", len(df.site[df['country_of_pub']=='India'].unique()), \n",
    "      \"news outlets from India\", len(df.site[df['country_of_pub']=='UK'].unique()), \"news outlets from the UK and\", len(df.site[df['country_of_pub']=='USA'].unique()), \"news outlets from the U.S.\")"
   ]
  },
  {
   "cell_type": "code",
   "execution_count": 149,
   "metadata": {},
   "outputs": [],
   "source": [
    "# emoticons_happy = set([\n",
    "#     ':-)', ':)', ';)', ':o)', ':]', ':3', ':c)', ':>', '=]', '8)', '=)', ':}',\n",
    "#     ':^)', ':-D', ':D', '8-D', '8D', 'x-D', 'xD', 'X-D', 'XD', '=-D', '=D',\n",
    "#     '=-3', '=3', ':-))', \":'-)\", \":')\", ':*', ':^*', '>:P', ':-P', ':P', 'X-P',\n",
    "#     'x-p', 'xp', 'XP', ':-p', ':p', '=p', ':-b', ':b', '>:)', '>;)', '>:-)',\n",
    "#     '<3'\n",
    "#     ])\n",
    "\n",
    "# # Sad Emoticons\n",
    "# emoticons_sad = set([\n",
    "#     ':L', ':-/', '>:/', ':S', '>:[', ':@', ':-(', ':[', ':-||', '=L', ':<',\n",
    "#     ':-[', ':-<', '=\\\\', '=/', '>:(', ':(', '>.<', \":'-(\", \":'(\", ':\\\\', ':-c',\n",
    "#     ':c', ':{', '>:\\\\', ';('\n",
    "#     ])\n",
    "\n",
    "# #Emoji patterns\n",
    "# emoji_pattern = re.compile(\"[\"\n",
    "#          u\"\\U0001F600-\\U0001F64F\"  # emoticons\n",
    "#          u\"\\U0001F300-\\U0001F5FF\"  # symbols & pictographs\n",
    "#          u\"\\U0001F680-\\U0001F6FF\"  # transport & map symbols\n",
    "#          u\"\\U0001F1E0-\\U0001F1FF\"  # flags (iOS)\n",
    "#          u\"\\U00002702-\\U000027B0\"\n",
    "#          u\"\\U000024C2-\\U0001F251\"\n",
    "#          \"]+\", flags=re.UNICODE)\n",
    "\n",
    "# #combine sad and happy emoticons\n",
    "# emoticons = emoticons_happy.union(emoticons_sad)"
   ]
  },
  {
   "cell_type": "code",
   "execution_count": 167,
   "metadata": {},
   "outputs": [],
   "source": [
    "# def clean_tweets(tweet):\n",
    " \n",
    "#     stop_words = set(stopwords.words('english'))\n",
    "#     word_tokens = word_tokenize(tweet)\n",
    "#     #after tweepy preprocessing the colon symbol left remain after      #removing mentions\n",
    "#     tweet = re.sub(r':', '', tweet)\n",
    "#     tweet = re.sub(r'‚Ä¶', '', tweet)\n",
    "#     tweet = tweet.replace(\"'s\", '')\n",
    "#     #replace consecutive non-ASCII characters with a space\n",
    "#     tweet = re.sub(r'[^\\x00-\\x7F]+',' ', tweet)\n",
    "#     #remove emojis from tweet\n",
    "#     tweet = emoji_pattern.sub(r'', tweet)\n",
    "#     tweet = tweet.lower()\n",
    "#     #filter using NLTK library append it to a string\n",
    "#     filtered_tweet = [w for w in word_tokens if not w in stop_words]\n",
    "#     filtered_tweet = []\n",
    "#     #looping through conditions\n",
    "#     for w in word_tokens:\n",
    "#     #check tokens against stop words , emoticons and punctuations\n",
    "#         if w not in stop_words and w not in emoticons and w not in string.punctuation:\n",
    "#             filtered_tweet.append(w)\n",
    "#     return ' '.join(filtered_tweet)\n",
    "#     #print(word_tokens)\n",
    "#     #print(filtered_sentence)return tweet\n",
    "    "
   ]
  },
  {
   "cell_type": "code",
   "execution_count": 130,
   "metadata": {},
   "outputs": [],
   "source": [
    "# %%time\n",
    "# def remove_pattern(input_txt, pattern):\n",
    "#     r = re.findall(pattern, input_txt)\n",
    "#     for i in r:\n",
    "#         input_txt = re.sub(i, '', input_txt)        \n",
    "#     return input_txt\n",
    "\n",
    "# def vec_tweets(tweets):\n",
    "#     #remove twitter Return handles (RT @xxx:)\n",
    "#     tweets = np.vectorize(remove_pattern)(tweets, \"RT @[\\w]*:\") \n",
    "    \n",
    "#     #remove twitter handles (@xxx)\n",
    "#     tweets = np.vectorize(remove_pattern)(tweets, \"@[\\w]*\")\n",
    "    \n",
    "#     #remove URL links (httpxxx)\n",
    "#     tweets = np.vectorize(remove_pattern)(tweets, \"https?://[A-Za-z0-9./]*\")\n",
    "\n",
    "#     #remove special characters, numbers, punctuations (except for #)\n",
    "#     tweets = np.core.defchararray.replace(tweets, \"[^a-zA-Z]\", \" \")\n",
    "    \n",
    "#     return tweets\n",
    "\n",
    "# tweets_df['clean_text']= clean_tweets(tweets_df['clean_text'].astype('str')) #The function clean_tweets were put to use.\n",
    "# # tweets_df.tail()"
   ]
  },
  {
   "cell_type": "code",
   "execution_count": 14,
   "metadata": {},
   "outputs": [],
   "source": [
    "# from https://towardsdatascience.com/nlp-text-preprocessing-a-practical-guide-and-template-d80874676e79\n",
    "from bs4 import BeautifulSoup\n",
    "import spacy\n",
    "import unidecode\n",
    "from word2number import w2n\n",
    "from pycontractions import Contractions\n",
    "import gensim.downloader as api\n",
    "\n",
    "nlp = spacy.load('en_core_web_lg')\n",
    "\n",
    "# Choose model accordingly for contractions function\n",
    "# model = api.load(\"glove-twitter-25\")\n",
    "# # model = api.load(\"glove-twitter-100\")\n",
    "# model = api.load(\"word2vec-google-news-300\")\n",
    "\n",
    "# cont = Contractions(kv_model=model)\n",
    "# cont.load_models()\n",
    "\n",
    "\n",
    "# exclude words from spacy stopwords list\n",
    "deselect_stop_words = ['no', 'not']\n",
    "for w in deselect_stop_words:\n",
    "    nlp.vocab[w].is_stop = False\n",
    "\n",
    "\n",
    "def strip_html_tags(text):\n",
    "    \"\"\"remove html tags from text\"\"\"\n",
    "    soup = BeautifulSoup(text, \"html.parser\")\n",
    "    stripped_text = soup.get_text(separator=\" \")\n",
    "    return stripped_text\n",
    "\n",
    "\n",
    "def remove_whitespace(text):\n",
    "    \"\"\"remove extra whitespaces from text\"\"\"\n",
    "    text = text.strip()\n",
    "    return \" \".join(text.split())\n",
    "\n",
    "\n",
    "def remove_accented_chars(text):\n",
    "    \"\"\"remove accented characters from text, e.g. café\"\"\"\n",
    "    text = unidecode.unidecode(text)\n",
    "    return text\n",
    "\n",
    "\n",
    "# def expand_contractions(text):\n",
    "#     \"\"\"expand shortened words, e.g. don't to do not\"\"\"\n",
    "#     text = list(cont.expand_texts([text], precise=True))[0]\n",
    "#     return text\n",
    "\n",
    "\n",
    "def text_preprocessing(text, accented_chars=True, contractions=False, \n",
    "                       convert_num=True, extra_whitespace=True, \n",
    "                       lemmatization=True, lowercase=True, punctuations=True,\n",
    "                       remove_html=True, remove_num=True, special_chars=True, \n",
    "                       stop_words=True):\n",
    "    \"\"\"preprocess text with default option set to true for all steps\"\"\"\n",
    "    if remove_html == True: #remove html tags\n",
    "        text = strip_html_tags(text)\n",
    "    if extra_whitespace == True: #remove extra whitespaces\n",
    "        text = remove_whitespace(text)\n",
    "    if accented_chars == True: #remove accented characters\n",
    "        text = remove_accented_chars(text)\n",
    "    if contractions == True: #expand contractions\n",
    "        text = expand_contractions(text)\n",
    "    if lowercase == True: #convert all characters to lowercase\n",
    "        text = text.lower()\n",
    "\n",
    "    doc = nlp(text) #tokenise text\n",
    "\n",
    "    clean_text = []\n",
    "    \n",
    "    for token in doc:\n",
    "        flag = True\n",
    "        edit = token.text\n",
    "        # remove stop words\n",
    "        if stop_words == True and token.is_stop and token.pos_ != 'NUM': \n",
    "            flag = False\n",
    "        # remove punctuations\n",
    "        if punctuations == True and token.pos_ == 'PUNCT' and flag == True: \n",
    "            flag = False\n",
    "        # remove special characters\n",
    "        if special_chars == True and token.pos_ == 'SYM' and flag == True: \n",
    "            flag = False\n",
    "        # remove numbers\n",
    "        if remove_num == True and (token.pos_ == 'NUM' or token.text.isnumeric()) \\\n",
    "        and flag == True:\n",
    "            flag = False\n",
    "        # convert number words to numeric numbers\n",
    "        if convert_num == True and token.pos_ == 'NUM' and flag == True:\n",
    "            edit = w2n.word_to_num(token.text)\n",
    "        # convert tokens to base form\n",
    "        elif lemmatization == True and token.lemma_ != \"-PRON-\" and flag == True:\n",
    "            edit = token.lemma_\n",
    "        # append tokens edited and not removed to list \n",
    "        if edit != \"\" and flag == True:\n",
    "            clean_text.append(edit)        \n",
    "    return clean_text"
   ]
  },
  {
   "cell_type": "code",
   "execution_count": null,
   "metadata": {},
   "outputs": [],
   "source": [
    "# df['headline_no_site'] = df['headline'].apply(lambda x: x.replace('\"', \"\").replace(\")\", \"\").replace(\"]\", \"\").replace(\",\", \"\")) #replace(\"'\", \"\")\n",
    "# df['headline_no_site'] = df['headline_no_site'].apply(lambda x: ''.join(re.split(\"(?<=[a-z0-9.!’?!\\\\-…”*�%'`A-Z])[A-Z]\", x)[:-1]))"
   ]
  },
  {
   "cell_type": "code",
   "execution_count": 50,
   "metadata": {},
   "outputs": [
    {
     "name": "stdout",
     "output_type": "stream",
     "text": [
      "Wall time: 42min 48s\n"
     ]
    }
   ],
   "source": [
    "%%time\n",
    "# df['headline_no_site'] = df['headline'].apply(lambda x: x.replace('\"', \"\").replace(\")\", \"\").replace(\"]\", \"\").replace(\",\", \"\")) #replace(\"'\", \"\")\n",
    "# df['headline_no_site'] = df['headline_no_site'].apply(lambda x: ''.join(re.split(\"(?<=[a-z0-9.!’?!\\\\-…”*�%'`A-Z])[A-Z]\", x)[:-1]))\n",
    "df['headline_no_site'] = df['headline'].apply(lambda x: ' '.join(x.split(\"-\")[:-1]).strip()) #replace(\"'\", \"\")\n",
    "df['clean_headline'] = df['headline_no_site'].apply(text_preprocessing)\n",
    "# df['subtitle'][df['subtitle'].isna() == True] = \"\"\n",
    "# df['clean_subtitle'] = df['subtitle'].apply(text_preprocessing)"
   ]
  },
  {
   "cell_type": "code",
   "execution_count": 51,
   "metadata": {},
   "outputs": [],
   "source": [
    "def remove_women(words, stopwords):\n",
    "    for word in list(words):  # iterating on a copy since removing will mess things up\n",
    "        if word in stopwords:\n",
    "            words.remove(word)\n",
    "    return words"
   ]
  },
  {
   "cell_type": "code",
   "execution_count": 52,
   "metadata": {},
   "outputs": [],
   "source": [
    "import ast\n",
    "women_words = [\"women\", \"woman\", \"girl\", \"female\", \"lady\", \"ladies\", \"she\", \"her\", \"herself\", \"aunt\", \"grandmother\", \"mother\", \"sister\"]\n",
    "df['clean_hl_words'] = df['clean_headline'] #.apply(lambda row: ast.literal_eval(row))\n",
    "df['clean_hl_words_no_women'] = df['clean_hl_words'].apply(lambda row: remove_women(row, women_words))"
   ]
  },
  {
   "cell_type": "code",
   "execution_count": 53,
   "metadata": {},
   "outputs": [],
   "source": [
    "datatype = \"rapi\"\n",
    "df.to_csv(f'../data/processed/headlines_cl_{datatype}.csv')"
   ]
  },
  {
   "cell_type": "code",
   "execution_count": 264,
   "metadata": {},
   "outputs": [],
   "source": [
    "df_cl = pd.read_csv('../data/processed/headlines_cl.csv')"
   ]
  },
  {
   "cell_type": "code",
   "execution_count": 122,
   "metadata": {},
   "outputs": [],
   "source": [
    "# df_cl['headline_no_site'] = df_cl['headline'].apply(lambda x: x.replace('\"', \"\").replace(\")\", \"\").replace(\"]\", \"\").replace(\",\", \"\")) #replace(\"'\", \"\")\n",
    "# df_cl['headline_no_site'] = df_cl['headline_no_site'].apply(lambda x: ''.join(re.split(\"(?<=[a-z0-9.!’?!\\\\-…”*�%'`A-Z])[A-Z]\", x)[:-1]))"
   ]
  },
  {
   "cell_type": "code",
   "execution_count": 73,
   "metadata": {},
   "outputs": [],
   "source": [
    "# # translate time to english\n",
    "# from googletrans import Translator\n",
    "# translator = Translator()\n",
    "# # = translator.translate('9 ore fa', src='it', dest='en')"
   ]
  },
  {
   "cell_type": "code",
   "execution_count": 72,
   "metadata": {},
   "outputs": [],
   "source": [
    "# df_cl['headline_lang'] = df_cl['headline'].apply(lambda row: translator.translate(row, des='en').src)"
   ]
  },
  {
   "cell_type": "code",
   "execution_count": null,
   "metadata": {},
   "outputs": [],
   "source": [
    "# translator.translate(row, des='en').src"
   ]
  },
  {
   "cell_type": "code",
   "execution_count": 144,
   "metadata": {},
   "outputs": [],
   "source": [
    "# df['headline_no_site'][1030]"
   ]
  },
  {
   "cell_type": "code",
   "execution_count": 138,
   "metadata": {},
   "outputs": [],
   "source": [
    "# df_cl.to_csv('../data/processed/headlines_cl_sent.csv')"
   ]
  },
  {
   "cell_type": "markdown",
   "metadata": {},
   "source": [
    "### Sentiment Analysis"
   ]
  },
  {
   "cell_type": "code",
   "execution_count": 55,
   "metadata": {},
   "outputs": [],
   "source": [
    "# drop NAs for sentiment analyzer\n",
    "df_cl = df_cl[df_cl['headline_no_site'].isna()==False].reset_index()"
   ]
  },
  {
   "cell_type": "code",
   "execution_count": 61,
   "metadata": {},
   "outputs": [
    {
     "name": "stdout",
     "output_type": "stream",
     "text": [
      "Wall time: 2min 35s\n"
     ]
    }
   ],
   "source": [
    "%%time\n",
    "column = \"headline_no_site\"\n",
    "#importing and initialising the VADER analyser\n",
    "from vaderSentiment.vaderSentiment import SentimentIntensityAnalyzer\n",
    "analyzer = SentimentIntensityAnalyzer()\n",
    "\n",
    "#Storing the scores in list of dictionaries\n",
    "scores = []\n",
    "# Declare variables for scores\n",
    "compound_list = []\n",
    "positive_list = []\n",
    "negative_list = []\n",
    "neutral_list = []\n",
    "for i in range(df_cl['headline_no_site'].shape[0]):\n",
    "#print(analyser.polarity_scores(sentiments_pd['Tweet'][i]))\n",
    "    compound = analyzer.polarity_scores(df_cl[column][i])[\"compound\"]\n",
    "    pos = analyzer.polarity_scores(df_cl[column][i])[\"pos\"]\n",
    "    neu = analyzer.polarity_scores(df_cl[column][i])[\"neu\"]\n",
    "    neg = analyzer.polarity_scores(df_cl[column][i])[\"neg\"]\n",
    "    \n",
    "    scores.append({\"compound_s\": compound,\n",
    "                       \"positive_s\": pos,\n",
    "                       \"negative_s\": neg,\n",
    "                       \"neutral_s\": neu\n",
    "                  })\n",
    "\n",
    "#Appending the scores into the dataframe for further analysis \n",
    "sentiments_score = pd.DataFrame.from_dict(scores)\n",
    "df_cl_sent = df_cl.join(sentiments_score)"
   ]
  },
  {
   "cell_type": "code",
   "execution_count": 63,
   "metadata": {},
   "outputs": [
    {
     "data": {
      "text/plain": [
       "Text(0.5, 0, 'Compound Sentiment')"
      ]
     },
     "execution_count": 63,
     "metadata": {},
     "output_type": "execute_result"
    },
    {
     "data": {
      "image/png": "[encoded data removed]",
      "text/plain": [
       "<Figure size 432x288 with 1 Axes>"
      ]
     },
     "metadata": {},
     "output_type": "display_data"
    }
   ],
   "source": [
    "import matplotlib.pyplot as plt\n",
    "plt.style.use('dark_background')\n",
    "plt.hist(df_cl_sent['compound_s'].values, bins=40)\n",
    "plt.title('Histogram of Compound Sentiment')\n",
    "plt.ylabel('Number of Headlines')\n",
    "plt.xlabel('Compound Sentiment')"
   ]
  },
  {
   "cell_type": "code",
   "execution_count": 65,
   "metadata": {},
   "outputs": [],
   "source": [
    "df_cl_sent.drop(['index'], axis=1).to_csv('../data/processed/headlines_cl_sent.csv')"
   ]
  },
  {
   "cell_type": "code",
   "execution_count": 8,
   "metadata": {},
   "outputs": [],
   "source": [
    "# df_cl_sent = pd.read_csv('../data/processed/headlines_cl_sent.csv')"
   ]
  },
  {
   "cell_type": "code",
   "execution_count": 6,
   "metadata": {},
   "outputs": [],
   "source": [
    "df_cl_sent = pd.read_csv('../data/processed/headlines_cl_sent_pol.csv')"
   ]
  },
  {
   "cell_type": "code",
   "execution_count": null,
   "metadata": {},
   "outputs": [],
   "source": [
    "df_cl_sent.drop(columns=['url', 'scrape_date', 'clean_hl_words', 'clean_hl_words_no_women']).to_csv('../hosted_data/headlines_cl_sent_pol.csv')"
   ]
  },
  {
   "cell_type": "markdown",
   "metadata": {},
   "source": [
    "### Word Frequencies"
   ]
  },
  {
   "cell_type": "code",
   "execution_count": 13,
   "metadata": {},
   "outputs": [],
   "source": [
    "#total word frequency\n",
    "import ast\n",
    "df_cl_sent['clean_hl_words'] = df_cl_sent['clean_hl_words'].apply(lambda row: ast.literal_eval(row))\n",
    "df_cl_sent['clean_headline_str'] = df_cl_sent['clean_hl_words'].apply(lambda x: ' '.join(x))\n",
    "df_cl_sent['clean_headline_str'] =  df_cl_sent['clean_headline_str'].str.replace('[^\\w\\s]','')\n",
    "df_cl_sent['clean_headline_str'] = df_cl_sent['clean_headline_str'].apply(lambda row: ' '.join( [w for w in row.split() if len(w)>1] ))\n",
    "df_cl_sent['clean_hl_words'] = df_cl_sent['clean_headline_str'].apply(lambda x: list(x.split(\" \")))\n",
    "word_freq = pd.DataFrame(df_cl_sent.clean_headline_str.str.split(expand=True).stack().value_counts()).reset_index()\n",
    "word_freq.columns = ['word','frequency']"
   ]
  },
  {
   "cell_type": "code",
   "execution_count": 15,
   "metadata": {},
   "outputs": [],
   "source": [
    "word_freq.to_csv('../data/processed/words_freq.csv')"
   ]
  },
  {
   "cell_type": "code",
   "execution_count": 291,
   "metadata": {},
   "outputs": [],
   "source": [
    "# SA_freq = pd.DataFrame(df_cl_sent.clean_headline_str[df_cl_sent[\"country_of_pub\"] == 'South Africa'].str.split(expand=True).stack().value_counts()).reset_index()\n",
    "# SA_freq.columns = ['word','frequency']"
   ]
  },
  {
   "cell_type": "code",
   "execution_count": 292,
   "metadata": {},
   "outputs": [],
   "source": [
    "# word frequency by country\n",
    "dfs = []\n",
    "\n",
    "for country in df_cl_sent.country_of_pub.unique():\n",
    "    country_freq = pd.DataFrame(df_cl_sent.clean_headline_str[df_cl_sent[\"country_of_pub\"] == country].str.split(expand=True).stack().value_counts()).reset_index()\n",
    "    country_freq.columns = ['word','frequency']\n",
    "    country_freq['country'] = country\n",
    "    dfs.append(country_freq)\n",
    "    \n",
    "countries_freq = pd.concat(dfs)"
   ]
  },
  {
   "cell_type": "code",
   "execution_count": 316,
   "metadata": {},
   "outputs": [
    {
     "data": {
      "text/plain": [
       "'drudgereport.com'"
      ]
     },
     "execution_count": 316,
     "metadata": {},
     "output_type": "execute_result"
    }
   ],
   "source": [
    "df_cl_sent.site.unique()[20]"
   ]
  },
  {
   "cell_type": "code",
   "execution_count": 321,
   "metadata": {},
   "outputs": [],
   "source": [
    "# word frequency by publication\n",
    "dfs = []\n",
    "\n",
    "for site in df_cl_sent[df_cl_sent[\"site\"] != 'drudgereport.com'].site.unique():\n",
    "    site_freq = pd.DataFrame(df_cl_sent[df_cl_sent[\"site\"] != 'drudgereport.com'].clean_headline_str[df_cl_sent[\"site\"] == site].str.split(expand=True).stack().value_counts()).reset_index()\n",
    "    site_freq.columns = ['word','frequency']\n",
    "    site_freq['site'] = site\n",
    "    dfs.append(site_freq)\n",
    "    \n",
    "sites_freq = pd.concat(dfs)"
   ]
  },
  {
   "cell_type": "code",
   "execution_count": 335,
   "metadata": {},
   "outputs": [],
   "source": [
    "# sites_freq[sites_freq['site'] == 'nytimes.com']"
   ]
  },
  {
   "cell_type": "code",
   "execution_count": 327,
   "metadata": {},
   "outputs": [],
   "source": [
    "# test.sort_values('frequency South Africa')"
   ]
  },
  {
   "cell_type": "code",
   "execution_count": 337,
   "metadata": {},
   "outputs": [],
   "source": [
    "# countries_freq"
   ]
  },
  {
   "cell_type": "code",
   "execution_count": 255,
   "metadata": {},
   "outputs": [],
   "source": [
    "# df_cl_sent.clean_headline_str[df_cl_sent['country_of_pub'] == country]"
   ]
  },
  {
   "cell_type": "code",
   "execution_count": 323,
   "metadata": {},
   "outputs": [],
   "source": [
    "countries_freq.to_csv('../data/processed/countries_freq.csv')\n",
    "sites_freq.to_csv('../data/processed/sites_freq.csv')"
   ]
  },
  {
   "cell_type": "code",
   "execution_count": null,
   "metadata": {},
   "outputs": [],
   "source": [
    "from wordcloud import WordCloud, STOPWORDS\n",
    "text = df_cl_sent['clean_headline_str'].tolist() \n",
    "\n",
    "# join the list and lowercase all the words\n",
    "text = ' '.join(text).lower()\n",
    "#text\n",
    "#create the wordcloud object\n",
    "wordcloud = WordCloud(stopwords = STOPWORDS,\n",
    "                      collocations=True).generate(text)\n",
    "\n",
    "#plot the wordcloud object\n",
    "plt.imshow(wordcloud, interpolation='bilInear')\n",
    "plt.axis('off')\n",
    "plt.show()"
   ]
  },
  {
   "cell_type": "markdown",
   "metadata": {},
   "source": [
    "### Topic Modelling"
   ]
  },
  {
   "cell_type": "code",
   "execution_count": 340,
   "metadata": {},
   "outputs": [
    {
     "name": "stderr",
     "output_type": "stream",
     "text": [
      "C:\\Users\\Leonardo\\Anaconda3\\lib\\site-packages\\scipy\\sparse\\sparsetools.py:21: DeprecationWarning: `scipy.sparse.sparsetools` is deprecated!\n",
      "scipy.sparse.sparsetools is a private module for scipy.sparse, and should not be used.\n",
      "  _deprecated()\n"
     ]
    }
   ],
   "source": [
    "#Base and Cleaning \n",
    "import json\n",
    "import requests\n",
    "import pandas as pd\n",
    "import numpy as np\n",
    "import emoji\n",
    "import regex\n",
    "import re\n",
    "import string\n",
    "from collections import Counter\n",
    "\n",
    "#Visualizations\n",
    "import plotly.express as px\n",
    "import seaborn as sns\n",
    "import matplotlib.pyplot as plt \n",
    "import pyLDAvis.gensim\n",
    "import chart_studio\n",
    "import chart_studio.plotly as py \n",
    "import chart_studio.tools as tls\n",
    "\n",
    "#Natural Language Processing (NLP)\n",
    "import spacy\n",
    "import gensim\n",
    "from spacy.tokenizer import Tokenizer\n",
    "from gensim.corpora import Dictionary\n",
    "from gensim.models.ldamulticore import LdaMulticore\n",
    "from gensim.models.coherencemodel import CoherenceModel\n",
    "from gensim.parsing.preprocessing import STOPWORDS as SW\n",
    "from sklearn.decomposition import LatentDirichletAllocation, TruncatedSVD\n",
    "from sklearn.feature_extraction.text import CountVectorizer, TfidfVectorizer\n",
    "from sklearn.model_selection import GridSearchCV\n",
    "from pprint import pprint\n",
    "from wordcloud import STOPWORDS\n",
    "stopwords = set(STOPWORDS)"
   ]
  },
  {
   "cell_type": "markdown",
   "metadata": {},
   "source": [
    "#### Overall Topics Across all data"
   ]
  },
  {
   "cell_type": "markdown",
   "metadata": {},
   "source": [
    "##### Base Model"
   ]
  },
  {
   "cell_type": "code",
   "execution_count": 351,
   "metadata": {},
   "outputs": [
    {
     "name": "stderr",
     "output_type": "stream",
     "text": [
      "C:\\Users\\Leonardo\\Anaconda3\\lib\\site-packages\\ipykernel\\ipkernel.py:287: DeprecationWarning: `should_run_async` will not call `transform_cell` automatically in the future. Please pass the result to `transformed_cell` argument and any exception that happen during thetransform in `preprocessing_exc_tuple` in IPython 7.17 and above.\n",
      "  and should_run_async(code)\n"
     ]
    },
    {
     "name": "stdout",
     "output_type": "stream",
     "text": [
      "30399\n",
      "15027\n",
      "------ Topic 0 ------\n",
      "old man  new find rape arrest year police covid19\n",
      "\n",
      "------ Topic 1 ------\n",
      "say black  go november sale baby new trump time\n",
      "\n",
      "------ Topic 2 ------\n",
      " good life south watch new year lose africa wonder\n",
      "\n",
      "------ Topic 3 ------\n",
      " say trump biden win harris world kamala face reveal\n",
      "\n",
      "------ Topic 4 ------\n",
      "man say new day die look covid south  share\n",
      "\n"
     ]
    }
   ],
   "source": [
    "\n",
    "# Create a id2word dictionary\n",
    "id2word = Dictionary(df_cl_sent['clean_hl_words'])\n",
    "print(len(id2word))\n",
    "\n",
    "# Filtering Extremes\n",
    "id2word.filter_extremes(no_below=2, no_above=.99)\n",
    "print(len(id2word))\n",
    "\n",
    "# Creating a corpus object \n",
    "corpus = [id2word.doc2bow(d) for d in df_cl_sent['clean_hl_words']]\n",
    "\n",
    "# Instantiating a Base LDA model \n",
    "base_model = LdaMulticore(corpus=corpus, num_topics=5, id2word=id2word, workers=12, passes=5)\n",
    "\n",
    "# Filtering for words \n",
    "words = [re.findall(r'\"([^\"]*)\"',t[1]) for t in base_model.print_topics()]\n",
    "\n",
    "# Create Topics\n",
    "topics = [' '.join(t[0:10]) for t in words]\n",
    "\n",
    "# Getting the topics\n",
    "for id, t in enumerate(topics): \n",
    "    print(f\"------ Topic {id} ------\")\n",
    "    print(t, end=\"\\n\\n\")"
   ]
  },
  {
   "cell_type": "code",
   "execution_count": 352,
   "metadata": {},
   "outputs": [
    {
     "name": "stderr",
     "output_type": "stream",
     "text": [
      "C:\\Users\\Leonardo\\Anaconda3\\lib\\site-packages\\ipykernel\\ipkernel.py:287: DeprecationWarning: `should_run_async` will not call `transform_cell` automatically in the future. Please pass the result to `transformed_cell` argument and any exception that happen during thetransform in `preprocessing_exc_tuple` in IPython 7.17 and above.\n",
      "  and should_run_async(code)\n"
     ]
    },
    {
     "name": "stdout",
     "output_type": "stream",
     "text": [
      "\n",
      "Perplexity:  -8.479534488507339\n",
      "\n",
      "Coherence Score:  0.25925526842265817\n"
     ]
    }
   ],
   "source": [
    "# Compute Perplexity\n",
    "# a measure of how good the model is. lower the better\n",
    "base_perplexity = base_model.log_perplexity(corpus)\n",
    "print('\\nPerplexity: ', base_perplexity) \n",
    "\n",
    "# Compute Coherence Score\n",
    "coherence_model = CoherenceModel(model=base_model, texts=df_cl_sent['clean_hl_words'], \n",
    "                                   dictionary=id2word, coherence='c_v')\n",
    "coherence_lda_model_base = coherence_model.get_coherence()\n",
    "print('\\nCoherence Score: ', coherence_lda_model_base)"
   ]
  },
  {
   "cell_type": "code",
   "execution_count": 353,
   "metadata": {},
   "outputs": [
    {
     "name": "stderr",
     "output_type": "stream",
     "text": [
      "C:\\Users\\Leonardo\\Anaconda3\\lib\\site-packages\\ipykernel\\ipkernel.py:287: DeprecationWarning: `should_run_async` will not call `transform_cell` automatically in the future. Please pass the result to `transformed_cell` argument and any exception that happen during thetransform in `preprocessing_exc_tuple` in IPython 7.17 and above.\n",
      "  and should_run_async(code)\n"
     ]
    },
    {
     "data": {
      "text/html": [
       "\n",
       "<link rel=\"stylesheet\" type=\"text/css\" href=\"https://cdn.rawgit.com/bmabey/pyLDAvis/files/ldavis.v1.0.0.css\">\n",
       "\n",
       "\n",
       "<div id=\"ldavis_el1893618007221611208751686551\"></div>\n",
       "<script type=\"text/javascript\">\n",
       "\n",
       "var ldavis_el1893618007221611208751686551_data = {\"mdsDat\": {\"x\": [0.0439107636868018, 0.008690844400371758, 0.05562663325220035, 0.051689693214825354, -0.1599179345541991], \"y\": [0.027450624853986222, -0.09378683437286887, -0.040453358063949896, 0.08949374970838198, 0.017295817874450614], \"topics\": [1, 2, 3, 4, 5], \"cluster\": [1, 1, 1, 1, 1], \"Freq\": [23.801179885864258, 20.029809951782227, 19.845827102661133, 19.212656021118164, 17.110525131225586]}, \"tinfo\": {\"Term\": [\"\", \"old\", \"good\", \"man\", \"find\", \"arrest\", \"rape\", \"harris\", \"biden\", \"kamala\", \"november\", \"covid\", \"south\", \"miss\", \"win\", \"sale\", \"year\", \"go\", \"life\", \"look\", \"amy\", \"africa\", \"world\", \"body\", \"death\", \"way\", \"makesefakese\", \"barrett\", \"ginsburg\", \"test\", \"nikita\", \"lara\", \"promotion\", \"easter\", \"6year\", \"lovecraft\", \"royals\", \"verdict\", \"25year\", \"u17\", \"60year\", \"8year\", \"valhalla\", \"faridabad\", \"maboe\", \"creed\", \"assassin\", \"outdoor\", \"jolie\", \"wuhan\", \"uri\", \"grohl\", \"canal\", \"douse\", \"nikola\", \"13year\", \"tomar\", \"hostage\", \"trample\", \"decomposed\", \"salt\", \"marlins\", \"gangrape\", \"convert\", \"22year\", \"ng\", \"gang\", \"reference\", \"miss\", \"bike\", \"old\", \"soccer\", \"minor\", \"rape\", \"find\", \"16year\", \"punjab\", \"arrest\", \"14year\", \"knife\", \"12year\", \"army\", \"man\", \"teenage\", \"death\", \"team\", \"covid19\", \"dead\", \"harassment\", \"kill\", \"delhi\", \"police\", \"year\", \"new\", \"pandemic\", \"allegedly\", \"body\", \"get\", \"video\", \"attack\", \"murder\", \"suspect\", \"business\", \"review\", \"hold\", \"trump\", \"family\", \"coronavirus\", \"die\", \"\", \"say\", \"child\", \"accuse\", \"bader\", \"ruth\", \"ginsburg\", \"khushbu\", \"sundar\", \"langsford\", \"pentagon\", \"palin\", \"daisy\", \"cutie\", \"reddy\", \"hammond\", \"sherrock\", \"zombie\", \"stellenbosch\", \"scooter\", \"brie\", \"alternative\", \"nadal\", \"mcann\", \"alison\", \"amendment\", \"recycle\", \"outdated\", \"braun\", \"goswami\", \"consort\", \"inspire\", \"robbery\", \"empower\", \"vp\", \"german\", \"harris\", \"kamala\", \"vmas\", \"semenya\", \"osaka\", \"makeup\", \"talent\", \"biden\", \"gaga\", \"swift\", \"caster\", \"viewer\", \"singer\", \"race\", \"win\", \"naomi\", \"poll\", \"pick\", \"lead\", \"britney\", \"joe\", \"world\", \"taylor\", \"war\", \"vice\", \"face\", \"meet\", \"theill\", \"trump\", \"role\", \"bank\", \"talk\", \"say\", \"little\", \"state\", \"\", \"reveal\", \"president\", \"not\", \"star\", \"big\", \"change\", \"arrest\", \"die\", \"watch\", \"black\", \"home\", \"new\", \"claim\", \"make\", \"review\", \"court\", \"car\", \"coney\", \"channel\", \"rowling\", \"jason\", \"inner\", \"dragon\", \"loud\", \"cocker\", \"spaniel\", \"amy\", \"tick\", \"wilde\", \"garraway\", \"ig\", \"astronaut\", \"ferdinand\", \"malik\", \"owens\", \"wednesday\", \"certify\", \"wayne\", \"barrett\", \"zayn\", \"batwoman\", \"isabel\", \"kalk\", \"bulldog\", \"eyeball\", \"tongue\", \"accessory\", \"heel\", \"plant\", \"wound\", \"november\", \"wine\", \"depp\", \"puppy\", \"stallion\", \"sale\", \"thee\", \"rose\", \"kiss\", \"go\", \"jk\", \"w\", \"gigi\", \"app\", \"republican\", \"choke\", \"tikok\", \"vodacom\", \"welcome\", \"baby\", \"guide\", \"megan\", \"transcript\", \"need\", \"vote\", \"stop\", \"photo\", \"black\", \"election\", \"open\", \"time\", \"come\", \"say\", \"sport\", \"court\", \"call\", \"help\", \"viral\", \"husband\", \"know\", \"year\", \"shoot\", \"want\", \"leave\", \"trump\", \"new\", \"star\", \"police\", \"\", \"not\", \"man\", \"share\", \"old\", \"get\", \"reveal\", \"raw\", \"indira\", \"course\", \"rafale\", \"kanye\", \"rani\", \"asuka\", \"duff\", \"shroff\", \"library\", \"dominic\", \"survival\", \"40th\", \"weinstein\", \"inhuman\", \"hilary\", \"tsakani\", \"maluleke\", \"ernst\", \"grooming\", \"rollins\", \"diver\", \"vermis\", \"hologram\", \"gf\", \"jio\", \"parineeti\", \"dan\", \"precious\", \"retweet\", \"flat\", \"rewrite\", \"idol\", \"kardashian\", \"nicki\", \"minaj\", \"khloe\", \"capitan\", \"covid\", \"sunderland\", \"hillary\", \"sasha\", \"way\", \"abrahams\", \"podcast\", \"political\", \"look\", \"maternity\", \"expert\", \"tribute\", \"wwe\", \"birthday\", \"great\", \"test\", \"announce\", \"anniversary\", \"bake\", \"gandhi\", \"house\", \"fire\", \"day\", \"gender\", \"white\", \"south\", \"share\", \"pay\", \"long\", \"pregnant\", \"make\", \"history\", \"man\", \"die\", \"child\", \"leave\", \"say\", \"coronavirus\", \"home\", \"africa\", \"black\", \"new\", \"right\", \"body\", \"life\", \"find\", \"\", \"rape\", \"mother\", \"police\", \"know\", \"crawley\", \"nutritionist\", \"halep\", \"suu\", \"kyi\", \"toyota\", \"acceptance\", \"simona\", \"aung\", \"cookbook\", \"unapologetically\", \"bois\", \"bang\", \"jacket\", \"locker\", \"peaceful\", \"porsche\", \"taliban\", \"stalwart\", \"folklore\", \"dale\", \"lazy\", \"miscarry\", \"homage\", \"unisa\", \"guild\", \"kaley\", \"racecard\", \"derail\", \"guatemalan\", \"mobile\", \"makesefakese\", \"\", \"upgrade\", \"theater\", \"cuoco\", \"sentence\", \"billboard\", \"max\", \"hbo\", \"accommodation\", \"diplomat\", \"good\", \"wonder\", \"gossip\", \"ghislaine\", \"warning\", \"clare\", \"maxwell\", \"tik\", \"china\", \"bachelorette\", \"life\", \"lesson\", \"cardi\", \"africa\", \"lose\", \"south\", \"espncricinfocom\", \"b\", \"prison\", \"drive\", \"crime\", \"obama\", \"michelle\", \"watch\", \"week\", \"thing\", \"princess\", \"netflix\", \"diana\", \"power\", \"year\", \"save\", \"want\", \"not\", \"game\", \"new\", \"pay\", \"coronavirus\", \"take\", \"news\", \"black\", \"job\", \"say\", \"man\", \"day\", \"show\", \"covid19\", \"video\"], \"Freq\": [11870.0, 1303.0, 684.0, 1471.0, 908.0, 664.0, 743.0, 391.0, 562.0, 330.0, 332.0, 338.0, 575.0, 453.0, 554.0, 344.0, 862.0, 446.0, 676.0, 397.0, 170.0, 326.0, 558.0, 368.0, 608.0, 277.0, 139.0, 145.0, 124.0, 303.0, 14.43798542022705, 13.578152656555176, 16.882675170898438, 27.608118057250977, 25.042884826660156, 15.026190757751465, 12.503886222839355, 9.825075149536133, 15.865376472473145, 9.559517860412598, 12.346564292907715, 16.478906631469727, 11.293976783752441, 7.8281378746032715, 8.674690246582031, 12.93547534942627, 16.360891342163086, 9.429388999938965, 10.367653846740723, 11.995895385742188, 10.381927490234375, 7.6871867179870605, 12.823923110961914, 6.0947160720825195, 6.09481143951416, 34.698814392089844, 6.880278587341309, 6.843490123748779, 6.839684963226318, 5.992166519165039, 24.81898307800293, 25.752872467041016, 31.545333862304688, 18.909305572509766, 12.035014152526855, 42.58344268798828, 106.59038543701172, 20.07994270324707, 348.55108642578125, 42.58723831176758, 944.2449340820312, 43.25065231323242, 105.50008392333984, 503.5552062988281, 600.9984130859375, 33.4087028503418, 17.59781265258789, 432.140869140625, 28.27023696899414, 38.937232971191406, 44.36985397338867, 49.8234977722168, 788.6220092773438, 80.0765609741211, 355.6802978515625, 174.8169403076172, 413.74993896484375, 219.46470642089844, 54.853755950927734, 387.40789794921875, 120.61624908447266, 415.3602600097656, 431.0290222167969, 660.2107543945312, 205.60020446777344, 148.00100708007812, 199.83799743652344, 320.83251953125, 330.88201904296875, 210.0103302001953, 268.1176452636719, 92.5634765625, 161.10476684570312, 214.47686767578125, 148.87176513671875, 411.09075927734375, 204.17855834960938, 252.24734497070312, 260.2699890136719, 704.1648559570312, 302.3754577636719, 191.01890563964844, 167.8677520751953, 83.32757568359375, 103.63987731933594, 117.99897766113281, 11.60555648803711, 11.499555587768555, 13.094232559204102, 17.477571487426758, 7.9209771156311035, 11.303690910339355, 10.430438995361328, 21.725181579589844, 7.695889949798584, 8.780854225158691, 7.736106872558594, 7.669502258300781, 34.150211334228516, 14.592972755432129, 12.145418167114258, 6.792795658111572, 9.2782564163208, 16.0738525390625, 17.01460838317871, 7.576136589050293, 6.695553302764893, 26.156343460083008, 10.052525520324707, 6.681488037109375, 111.75460815429688, 28.706966400146484, 41.287376403808594, 60.940269470214844, 30.119569778442383, 312.3325500488281, 263.5545959472656, 24.78017234802246, 28.743017196655273, 37.76332092285156, 39.93717575073242, 21.859886169433594, 365.317138671875, 164.90615844726562, 78.77788543701172, 26.082927703857422, 41.25231170654297, 74.45481872558594, 81.35531616210938, 330.9219970703125, 39.909568786621094, 52.80902862548828, 113.1205062866211, 177.4156951904297, 42.62598419189453, 110.06380462646484, 290.03466796875, 120.10609436035156, 70.34452056884766, 73.69667053222656, 249.7889404296875, 175.01736450195312, 145.0362548828125, 373.1414489746094, 80.03119659423828, 71.15499114990234, 111.85014343261719, 399.4137268066406, 110.19142150878906, 115.75808715820312, 1264.71337890625, 202.38658142089844, 126.16682434082031, 201.91268920898438, 175.78219604492188, 128.2661895751953, 129.9092254638672, 172.57037353515625, 181.36468505859375, 158.11512756347656, 174.46119689941406, 153.71511840820312, 189.46792602539062, 127.99075317382812, 125.4444351196289, 128.2864532470703, 127.86189270019531, 125.53801727294922, 100.89805603027344, 29.034711837768555, 56.956783294677734, 12.423887252807617, 10.654579162597656, 14.105415344238281, 12.295225143432617, 12.20644760131836, 14.81454086303711, 155.48193359375, 7.823123931884766, 13.99931526184082, 9.492050170898438, 8.182698249816895, 36.66877746582031, 6.87738561630249, 13.787134170532227, 12.104826927185059, 8.976558685302734, 7.745456695556641, 14.03270149230957, 129.73492431640625, 11.208087921142578, 15.372617721557617, 7.687276363372803, 6.055211067199707, 16.879426956176758, 5.946515083312988, 16.335538864135742, 8.511857986450195, 11.853245735168457, 25.814796447753906, 25.80644416809082, 262.047607421875, 27.73891258239746, 16.768007278442383, 82.83112335205078, 62.47488021850586, 252.98204040527344, 61.983882904052734, 41.17502975463867, 29.639373779296875, 285.8287353515625, 71.04547119140625, 46.61227035522461, 24.885286331176758, 78.15162658691406, 50.14152526855469, 23.4759464263916, 87.199462890625, 45.86457824707031, 64.67112731933594, 249.60995483398438, 51.01569747924805, 73.98866271972656, 38.04235076904297, 150.81161499023438, 120.5510025024414, 113.51473999023438, 128.5318145751953, 315.2495422363281, 134.8019561767578, 156.27330017089844, 201.58529663085938, 126.3930892944336, 384.90997314453125, 141.78164672851562, 158.6577911376953, 142.79733276367188, 182.66290283203125, 109.42402648925781, 146.12937927246094, 132.61705017089844, 196.65777587890625, 120.88514709472656, 136.68408203125, 139.8685760498047, 203.72760009765625, 222.49147033691406, 145.64053344726562, 157.0747528076172, 299.3811340332031, 143.0836639404297, 163.70086669921875, 135.0594940185547, 142.55905151367188, 136.514404296875, 134.29196166992188, 30.943979263305664, 25.343616485595703, 34.583534240722656, 11.859049797058105, 32.14689636230469, 9.653671264648438, 11.629010200500488, 11.308974266052246, 8.774106979370117, 12.205780029296875, 8.68525505065918, 10.367589950561523, 10.785740852355957, 13.993230819702148, 5.999749660491943, 14.480411529541016, 10.678706169128418, 12.362403869628906, 7.700066566467285, 7.085860252380371, 5.484755992889404, 5.340568542480469, 9.211918830871582, 13.547830581665039, 5.895798206329346, 6.6806721687316895, 5.0808939933776855, 5.886903762817383, 5.061005592346191, 5.060424327850342, 60.53086471557617, 8.552225112915039, 10.991202354431152, 68.22840881347656, 20.421152114868164, 20.408750534057617, 17.198509216308594, 13.316513061523438, 240.716064453125, 21.41548728942871, 38.52827453613281, 23.332901000976562, 186.75350952148438, 18.356298446655273, 44.17283248901367, 54.5908317565918, 241.44915771484375, 28.89726448059082, 63.94245529174805, 75.15318298339844, 115.20600891113281, 131.8973846435547, 103.57362365722656, 174.02259826660156, 124.1297607421875, 40.2373046875, 25.4686279296875, 42.88308334350586, 191.40089416503906, 153.46922302246094, 259.0641174316406, 132.66973876953125, 182.04322814941406, 239.43359375, 226.80604553222656, 175.8669891357422, 113.95634460449219, 126.72256469726562, 151.4197540283203, 113.31295013427734, 375.49798583984375, 250.58212280273438, 191.7791748046875, 172.28089904785156, 372.3917541503906, 216.77694702148438, 196.12603759765625, 132.8870391845703, 224.3903350830078, 261.65838623046875, 131.74374389648438, 134.2515106201172, 163.22396850585938, 162.94580078125, 234.23388671875, 149.26824951171875, 135.2933807373047, 141.6030731201172, 133.3971405029297, 13.58810806274414, 6.973992824554443, 12.431709289550781, 10.127025604248047, 10.124838829040527, 8.454925537109375, 7.692288398742676, 11.556506156921387, 9.268109321594238, 5.421914577484131, 5.408594608306885, 5.274319648742676, 5.987109661102295, 14.874053955078125, 6.001104831695557, 5.246685028076172, 5.315396308898926, 11.223423957824707, 6.02881383895874, 5.214396953582764, 6.708819389343262, 4.435226917266846, 5.509720802307129, 10.47452163696289, 6.010107517242432, 8.125859260559082, 8.842062950134277, 5.941110610961914, 8.135031700134277, 6.024386882781982, 32.235836029052734, 116.59845733642578, 9367.705078125, 12.502914428710938, 29.249271392822266, 8.8306303024292, 83.0527572631836, 17.491172790527344, 74.10934448242188, 69.86923217773438, 10.821391105651855, 21.956090927124023, 421.8580017089844, 142.6588592529297, 32.59880065917969, 27.925907135009766, 21.723901748657227, 18.899219512939453, 32.72231674194336, 39.17644500732422, 59.46968078613281, 23.348833084106445, 294.439453125, 41.17222213745117, 45.16109085083008, 146.979248046875, 162.4302215576172, 224.03147888183594, 98.68528747558594, 55.17159652709961, 54.21875, 77.92852783203125, 54.603118896484375, 67.78663635253906, 48.8516845703125, 197.70028686523438, 92.83383178710938, 81.13191986083984, 65.78694915771484, 87.53398132324219, 64.40946197509766, 67.58271026611328, 169.6105194091797, 88.88884735107422, 113.28844451904297, 141.85208129882812, 88.8060302734375, 195.71099853515625, 103.69744110107422, 128.2505645751953, 97.2024154663086, 100.05461120605469, 126.60003662109375, 85.65999603271484, 137.77166748046875, 118.14099884033203, 98.07601928710938, 86.10867309570312, 92.1290054321289, 87.45018005371094], \"Total\": [11870.0, 1303.0, 684.0, 1471.0, 908.0, 664.0, 743.0, 391.0, 562.0, 330.0, 332.0, 338.0, 575.0, 453.0, 554.0, 344.0, 862.0, 446.0, 676.0, 397.0, 170.0, 326.0, 558.0, 368.0, 608.0, 277.0, 139.0, 145.0, 124.0, 303.0, 15.584526062011719, 14.668875694274902, 18.278226852416992, 30.057025909423828, 27.344249725341797, 16.48350715637207, 13.747183799743652, 10.827839851379395, 17.56378746032715, 10.589231491088867, 13.715287208557129, 18.36015510559082, 12.605325698852539, 8.740041732788086, 9.713541030883789, 14.50422191619873, 18.345561981201172, 10.576746940612793, 11.63037109375, 13.463725090026855, 11.656024932861328, 8.63712215423584, 14.409486770629883, 6.852047443389893, 6.852212429046631, 39.013824462890625, 7.745961666107178, 7.705419063568115, 7.702661514282227, 6.750893592834473, 28.026643753051758, 29.131216049194336, 35.81217575073242, 21.396324157714844, 13.586858749389648, 49.1952018737793, 125.59190368652344, 23.188478469848633, 453.90997314453125, 50.82786560058594, 1303.8780517578125, 51.917808532714844, 133.8282928466797, 743.5884399414062, 908.96533203125, 40.83374786376953, 20.35584259033203, 664.687744140625, 34.153831481933594, 48.76909637451172, 56.581844329833984, 64.66110229492188, 1471.0245361328125, 111.15706634521484, 608.031494140625, 272.2348327636719, 738.9370727539062, 358.2410888671875, 72.91503143310547, 693.5789794921875, 187.64395141601562, 819.0000610351562, 862.6301879882812, 1529.53955078125, 375.90325927734375, 252.2842254638672, 368.47161865234375, 666.3084716796875, 707.1318359375, 402.87908935546875, 553.1642456054688, 144.4230194091797, 302.09857177734375, 456.2237548828125, 278.7203369140625, 1162.3387451171875, 509.5706481933594, 736.2590942382812, 804.48876953125, 11870.1982421875, 1596.862548828125, 541.654052734375, 413.6311950683594, 86.839599609375, 108.75041198730469, 124.48377227783203, 12.47414493560791, 12.475807189941406, 14.227103233337402, 19.152090072631836, 8.68066120147705, 12.49515151977539, 11.546387672424316, 24.088056564331055, 8.533050537109375, 9.737244606018066, 8.602217674255371, 8.538334846496582, 38.17318344116211, 16.37413215637207, 13.634186744689941, 7.643856525421143, 10.457854270935059, 18.1212215423584, 19.21697998046875, 8.580828666687012, 7.615330219268799, 29.77201271057129, 11.46854305267334, 7.623791694641113, 127.5925521850586, 32.85511016845703, 47.32195281982422, 69.99295043945312, 34.73579406738281, 391.34576416015625, 330.3851623535156, 29.450347900390625, 34.70712661743164, 46.525489807128906, 49.65602111816406, 26.124414443969727, 562.47265625, 240.0761260986328, 107.0455322265625, 31.825517654418945, 53.117984771728516, 103.22850799560547, 114.1902847290039, 554.22607421875, 51.31675338745117, 71.7998046875, 175.28135681152344, 301.1656494140625, 56.544921875, 172.80844116210938, 558.6246337890625, 194.512451171875, 103.21466827392578, 109.39225769042969, 500.37823486328125, 371.2046203613281, 298.0077209472656, 1162.3387451171875, 135.37254333496094, 116.72952270507812, 228.9794464111328, 1596.862548828125, 227.68316650390625, 246.58168029785156, 11870.1982421875, 616.6784057617188, 291.00390625, 688.6253662109375, 543.5222778320312, 330.6875305175781, 341.8501281738281, 664.687744140625, 804.48876953125, 571.6922607421875, 977.6412353515625, 642.6900634765625, 1529.53955078125, 395.71026611328125, 364.6452941894531, 456.2237548828125, 442.18927001953125, 372.9974060058594, 106.76766967773438, 30.76409339904785, 60.8308219909668, 13.431707382202148, 11.55847454071045, 15.347651481628418, 13.393290519714355, 13.306779861450195, 16.156648635864258, 170.36500549316406, 8.584044456481934, 15.361214637756348, 10.479232788085938, 9.065053939819336, 40.700191497802734, 7.636195659637451, 15.327179908752441, 13.478734970092773, 10.00942325592041, 8.644845962524414, 15.716912269592285, 145.69017028808594, 12.595494270324707, 17.27861785888672, 8.653815269470215, 6.817539691925049, 19.02093505859375, 6.7051520347595215, 18.42616081237793, 9.615592002868652, 13.417743682861328, 29.74155616760254, 29.97319984436035, 332.81658935546875, 32.84906005859375, 19.353944778442383, 104.27584075927734, 77.5032730102539, 344.1850891113281, 77.49745178222656, 50.957035064697266, 36.542877197265625, 446.7216491699219, 98.2237548828125, 63.419185638427734, 30.620250701904297, 119.3753433227539, 70.9955062866211, 28.923892974853516, 140.9987335205078, 65.00466918945312, 101.88815307617188, 554.2337646484375, 76.7923812866211, 124.87899017333984, 53.323448181152344, 321.379150390625, 241.08338928222656, 226.77098083496094, 273.56494140625, 977.6412353515625, 301.61895751953125, 374.6073913574219, 539.0513916015625, 279.50018310546875, 1596.862548828125, 361.114501953125, 442.18927001953125, 374.27227783203125, 557.3366088867188, 256.8783264160156, 455.5762939453125, 379.4749450683594, 862.6301879882812, 319.47650146484375, 442.8357238769531, 473.4780578613281, 1162.3387451171875, 1529.53955078125, 543.5222778320312, 819.0000610351562, 11870.1982421875, 688.6253662109375, 1471.0245361328125, 559.0772094726562, 1303.8780517578125, 666.3084716796875, 616.6784057617188, 33.093448638916016, 27.127534866333008, 37.05962371826172, 12.72061538696289, 35.00187301635742, 10.649237632751465, 12.851262092590332, 12.548940658569336, 9.755281448364258, 13.580461502075195, 9.679924964904785, 11.60910701751709, 12.109460830688477, 15.758092880249023, 6.759159564971924, 16.36301612854004, 12.085031509399414, 14.00928020477295, 8.75468921661377, 8.058876037597656, 6.239768981933594, 6.097597122192383, 10.531630516052246, 15.491421699523926, 6.744835376739502, 7.66910982131958, 5.836209297180176, 6.762320041656494, 5.816610813140869, 5.816348552703857, 70.56462097167969, 9.830286979675293, 12.668566703796387, 81.49729919433594, 24.131196975708008, 24.13016700744629, 20.41628074645996, 15.768606185913086, 338.75439453125, 26.024093627929688, 49.2874641418457, 28.940330505371094, 277.60906982421875, 22.358755111694336, 58.800323486328125, 74.51526641845703, 397.09979248046875, 36.825218200683594, 89.95388793945312, 109.80213165283203, 179.05343627929688, 209.6912384033203, 161.1032257080078, 303.765380859375, 206.37307739257812, 56.19029998779297, 33.02372360229492, 62.89548110961914, 399.67181396484375, 308.6022644042969, 594.3703002929688, 260.7078857421875, 395.59326171875, 575.5431518554688, 559.0772094726562, 401.17596435546875, 227.897705078125, 274.26275634765625, 364.6452941894531, 244.93663024902344, 1471.0245361328125, 804.48876953125, 541.654052734375, 473.4780578613281, 1596.862548828125, 736.2590942382812, 642.6900634765625, 326.873291015625, 977.6412353515625, 1529.53955078125, 343.7314453125, 368.47161865234375, 676.5694580078125, 908.96533203125, 11870.1982421875, 743.5884399414062, 409.17767333984375, 819.0000610351562, 379.4749450683594, 14.717248916625977, 7.757632255554199, 13.882702827453613, 11.355751037597656, 11.354310989379883, 9.519073486328125, 8.668118476867676, 13.03828239440918, 10.488602638244629, 6.204084396362305, 6.204167366027832, 6.103367805480957, 6.929013729095459, 17.286508560180664, 6.984001636505127, 6.106619834899902, 6.2129645347595215, 13.125149726867676, 7.06157922744751, 6.111093044281006, 7.867440223693848, 5.215099811553955, 6.486741065979004, 12.332589149475098, 7.080111980438232, 9.613481521606445, 10.461341857910156, 7.030090808868408, 9.62692928314209, 7.136764049530029, 38.19305419921875, 139.98231506347656, 11870.1982421875, 14.861783981323242, 35.45465850830078, 10.46348762512207, 103.36209106445312, 21.15980339050293, 94.37039184570312, 92.09085083007812, 12.962714195251465, 27.446971893310547, 684.4776611328125, 211.83868408203125, 42.89283752441406, 36.80221176147461, 28.111217498779297, 24.622257232666016, 46.07988739013672, 57.00712585449219, 94.53694915771484, 31.742321014404297, 676.5694580078125, 64.29732513427734, 74.3001708984375, 326.873291015625, 376.1649169921875, 575.5431518554688, 203.07949829101562, 97.25175476074219, 95.28832244873047, 153.8109130859375, 96.4617919921875, 130.76950073242188, 84.6534423828125, 571.6922607421875, 210.0828857421875, 183.786376953125, 138.27041625976562, 220.04319763183594, 135.65591430664062, 147.34494018554688, 862.6301879882812, 263.3523254394531, 442.8357238769531, 688.6253662109375, 275.45611572265625, 1529.53955078125, 401.17596435546875, 736.2590942382812, 422.0908508300781, 466.77337646484375, 977.6412353515625, 303.884521484375, 1596.862548828125, 1471.0245361328125, 594.3703002929688, 358.4359436035156, 738.9370727539062, 707.1318359375], \"Category\": [\"Default\", \"Default\", \"Default\", \"Default\", \"Default\", \"Default\", \"Default\", \"Default\", \"Default\", \"Default\", \"Default\", \"Default\", \"Default\", \"Default\", \"Default\", \"Default\", \"Default\", \"Default\", \"Default\", \"Default\", \"Default\", \"Default\", \"Default\", \"Default\", \"Default\", \"Default\", \"Default\", \"Default\", \"Default\", \"Default\", \"Topic1\", \"Topic1\", \"Topic1\", \"Topic1\", \"Topic1\", \"Topic1\", \"Topic1\", \"Topic1\", \"Topic1\", \"Topic1\", \"Topic1\", \"Topic1\", \"Topic1\", \"Topic1\", \"Topic1\", \"Topic1\", \"Topic1\", \"Topic1\", \"Topic1\", \"Topic1\", \"Topic1\", \"Topic1\", \"Topic1\", \"Topic1\", \"Topic1\", \"Topic1\", \"Topic1\", \"Topic1\", \"Topic1\", \"Topic1\", \"Topic1\", \"Topic1\", \"Topic1\", \"Topic1\", \"Topic1\", \"Topic1\", \"Topic1\", \"Topic1\", \"Topic1\", \"Topic1\", \"Topic1\", \"Topic1\", \"Topic1\", \"Topic1\", \"Topic1\", \"Topic1\", \"Topic1\", \"Topic1\", \"Topic1\", \"Topic1\", \"Topic1\", \"Topic1\", \"Topic1\", \"Topic1\", \"Topic1\", \"Topic1\", \"Topic1\", \"Topic1\", \"Topic1\", \"Topic1\", \"Topic1\", \"Topic1\", \"Topic1\", \"Topic1\", \"Topic1\", \"Topic1\", \"Topic1\", \"Topic1\", \"Topic1\", \"Topic1\", \"Topic1\", \"Topic1\", \"Topic1\", \"Topic1\", \"Topic1\", \"Topic1\", \"Topic1\", \"Topic1\", \"Topic1\", \"Topic1\", \"Topic1\", \"Topic1\", \"Topic1\", \"Topic2\", \"Topic2\", \"Topic2\", \"Topic2\", \"Topic2\", \"Topic2\", \"Topic2\", \"Topic2\", \"Topic2\", \"Topic2\", \"Topic2\", \"Topic2\", \"Topic2\", \"Topic2\", \"Topic2\", \"Topic2\", \"Topic2\", \"Topic2\", \"Topic2\", \"Topic2\", \"Topic2\", \"Topic2\", \"Topic2\", \"Topic2\", \"Topic2\", \"Topic2\", \"Topic2\", \"Topic2\", \"Topic2\", \"Topic2\", \"Topic2\", \"Topic2\", \"Topic2\", \"Topic2\", \"Topic2\", \"Topic2\", \"Topic2\", \"Topic2\", \"Topic2\", \"Topic2\", \"Topic2\", \"Topic2\", \"Topic2\", \"Topic2\", \"Topic2\", \"Topic2\", \"Topic2\", \"Topic2\", \"Topic2\", \"Topic2\", \"Topic2\", \"Topic2\", \"Topic2\", \"Topic2\", \"Topic2\", \"Topic2\", \"Topic2\", \"Topic2\", \"Topic2\", \"Topic2\", \"Topic2\", \"Topic2\", \"Topic2\", \"Topic2\", \"Topic2\", \"Topic2\", \"Topic2\", \"Topic2\", \"Topic2\", \"Topic2\", \"Topic2\", \"Topic2\", \"Topic2\", \"Topic2\", \"Topic2\", \"Topic2\", \"Topic2\", \"Topic2\", \"Topic2\", \"Topic2\", \"Topic2\", \"Topic2\", \"Topic2\", \"Topic2\", \"Topic2\", \"Topic3\", \"Topic3\", \"Topic3\", \"Topic3\", \"Topic3\", \"Topic3\", \"Topic3\", \"Topic3\", \"Topic3\", \"Topic3\", \"Topic3\", \"Topic3\", \"Topic3\", \"Topic3\", \"Topic3\", \"Topic3\", \"Topic3\", \"Topic3\", \"Topic3\", \"Topic3\", \"Topic3\", \"Topic3\", \"Topic3\", \"Topic3\", \"Topic3\", \"Topic3\", \"Topic3\", \"Topic3\", \"Topic3\", \"Topic3\", \"Topic3\", \"Topic3\", \"Topic3\", \"Topic3\", \"Topic3\", \"Topic3\", \"Topic3\", \"Topic3\", \"Topic3\", \"Topic3\", \"Topic3\", \"Topic3\", \"Topic3\", \"Topic3\", \"Topic3\", \"Topic3\", \"Topic3\", \"Topic3\", \"Topic3\", \"Topic3\", \"Topic3\", \"Topic3\", \"Topic3\", \"Topic3\", \"Topic3\", \"Topic3\", \"Topic3\", \"Topic3\", \"Topic3\", \"Topic3\", \"Topic3\", \"Topic3\", \"Topic3\", \"Topic3\", \"Topic3\", \"Topic3\", \"Topic3\", \"Topic3\", \"Topic3\", \"Topic3\", \"Topic3\", \"Topic3\", \"Topic3\", \"Topic3\", \"Topic3\", \"Topic3\", \"Topic3\", \"Topic3\", \"Topic3\", \"Topic3\", \"Topic3\", \"Topic3\", \"Topic3\", \"Topic3\", \"Topic3\", \"Topic3\", \"Topic3\", \"Topic3\", \"Topic4\", \"Topic4\", \"Topic4\", \"Topic4\", \"Topic4\", \"Topic4\", \"Topic4\", \"Topic4\", \"Topic4\", \"Topic4\", \"Topic4\", \"Topic4\", \"Topic4\", \"Topic4\", \"Topic4\", \"Topic4\", \"Topic4\", \"Topic4\", \"Topic4\", \"Topic4\", \"Topic4\", \"Topic4\", \"Topic4\", \"Topic4\", \"Topic4\", \"Topic4\", \"Topic4\", \"Topic4\", \"Topic4\", \"Topic4\", \"Topic4\", \"Topic4\", \"Topic4\", \"Topic4\", \"Topic4\", \"Topic4\", \"Topic4\", \"Topic4\", \"Topic4\", \"Topic4\", \"Topic4\", \"Topic4\", \"Topic4\", \"Topic4\", \"Topic4\", \"Topic4\", \"Topic4\", \"Topic4\", \"Topic4\", \"Topic4\", \"Topic4\", \"Topic4\", \"Topic4\", \"Topic4\", \"Topic4\", \"Topic4\", \"Topic4\", \"Topic4\", \"Topic4\", \"Topic4\", \"Topic4\", \"Topic4\", \"Topic4\", \"Topic4\", \"Topic4\", \"Topic4\", \"Topic4\", \"Topic4\", \"Topic4\", \"Topic4\", \"Topic4\", \"Topic4\", \"Topic4\", \"Topic4\", \"Topic4\", \"Topic4\", \"Topic4\", \"Topic4\", \"Topic4\", \"Topic4\", \"Topic4\", \"Topic4\", \"Topic4\", \"Topic4\", \"Topic4\", \"Topic4\", \"Topic4\", \"Topic4\", \"Topic4\", \"Topic5\", \"Topic5\", \"Topic5\", \"Topic5\", \"Topic5\", \"Topic5\", \"Topic5\", \"Topic5\", \"Topic5\", \"Topic5\", \"Topic5\", \"Topic5\", \"Topic5\", \"Topic5\", \"Topic5\", \"Topic5\", \"Topic5\", \"Topic5\", \"Topic5\", \"Topic5\", \"Topic5\", \"Topic5\", \"Topic5\", \"Topic5\", \"Topic5\", \"Topic5\", \"Topic5\", \"Topic5\", \"Topic5\", \"Topic5\", \"Topic5\", \"Topic5\", \"Topic5\", \"Topic5\", \"Topic5\", \"Topic5\", \"Topic5\", \"Topic5\", \"Topic5\", \"Topic5\", \"Topic5\", \"Topic5\", \"Topic5\", \"Topic5\", \"Topic5\", \"Topic5\", \"Topic5\", \"Topic5\", \"Topic5\", \"Topic5\", \"Topic5\", \"Topic5\", \"Topic5\", \"Topic5\", \"Topic5\", \"Topic5\", \"Topic5\", \"Topic5\", \"Topic5\", \"Topic5\", \"Topic5\", \"Topic5\", \"Topic5\", \"Topic5\", \"Topic5\", \"Topic5\", \"Topic5\", \"Topic5\", \"Topic5\", \"Topic5\", \"Topic5\", \"Topic5\", \"Topic5\", \"Topic5\", \"Topic5\", \"Topic5\", \"Topic5\", \"Topic5\", \"Topic5\", \"Topic5\", \"Topic5\", \"Topic5\", \"Topic5\", \"Topic5\", \"Topic5\", \"Topic5\", \"Topic5\", \"Topic5\", \"Topic5\", \"Topic5\"], \"logprob\": [30.0, 29.0, 28.0, 27.0, 26.0, 25.0, 24.0, 23.0, 22.0, 21.0, 20.0, 19.0, 18.0, 17.0, 16.0, 15.0, 14.0, 13.0, 12.0, 11.0, 10.0, 9.0, 8.0, 7.0, 6.0, 5.0, 4.0, 3.0, 2.0, 1.0, -8.433500289916992, -8.49489974975586, -8.277000427246094, -7.785200119018555, -7.882699966430664, -8.393500328063965, -8.577300071716309, -8.818400382995605, -8.339200019836426, -8.845800399780273, -8.589900016784668, -8.301199913024902, -8.679100036621094, -9.045599937438965, -8.942899703979492, -8.543299674987793, -8.30840015411377, -8.85949993133545, -8.764599800109863, -8.618800163269043, -8.763299942016602, -9.063799858093262, -8.552000045776367, -9.295900344848633, -9.295900344848633, -7.556600093841553, -9.174699783325195, -9.180000305175781, -9.1806001663208, -9.312899589538574, -7.89169979095459, -7.854800224304199, -7.651899814605713, -8.163700103759766, -8.615500450134277, -7.351900100708008, -6.434299945831299, -8.103599548339844, -5.249499797821045, -7.351799964904785, -4.252900123596191, -7.336299896240234, -6.4446001052856445, -4.8815999031066895, -4.704699993133545, -7.5945000648498535, -8.23550033569336, -5.034599781036377, -7.761499881744385, -7.441400051116943, -7.310800075531006, -7.194799900054932, -4.433000087738037, -6.720300197601318, -5.229300022125244, -5.939599990844727, -5.078100204467773, -5.712100028991699, -7.098599910736084, -5.143799781799316, -6.310699939727783, -5.07420015335083, -5.037099838256836, -4.610799789428711, -5.777400016784668, -6.106100082397461, -5.805799961090088, -5.332399845123291, -5.301599979400635, -5.756199836730957, -5.511899948120117, -6.575399875640869, -6.021299839019775, -5.735099792480469, -6.100200176239014, -5.084499835968018, -5.784299850463867, -5.57289981842041, -5.541600227355957, -4.546299934387207, -5.39169979095459, -5.850900173187256, -5.980100154876709, -6.507999897003174, -6.289899826049805, -6.160099983215332, -8.479299545288086, -8.488499641418457, -8.358599662780762, -8.069899559020996, -8.861300468444824, -8.50570011138916, -8.586099624633789, -7.85230016708374, -8.89009952545166, -8.758199691772461, -8.884900093078613, -8.893600463867188, -7.400000095367432, -8.250300407409668, -8.433899879455566, -9.014900207519531, -8.703100204467773, -8.153599739074707, -8.096699714660645, -8.905799865722656, -9.029399871826172, -7.6666998863220215, -8.623000144958496, -9.031499862670898, -6.2144999504089355, -7.573699951171875, -7.21019983291626, -6.820899963378906, -7.525599956512451, -5.186699867248535, -5.356500148773193, -7.720799922943115, -7.572400093078613, -7.299499988555908, -7.243500232696533, -7.846199989318848, -5.03000020980835, -5.825399875640869, -6.564199924468994, -7.66949987411499, -7.211100101470947, -6.62060022354126, -6.5320000648498535, -5.128900051116943, -7.244200229644775, -6.964099884033203, -6.202400207519531, -5.752299785614014, -7.178299903869629, -6.229700088500977, -5.260799884796143, -6.142399787902832, -6.6774001121521, -6.630799770355225, -5.410200119018555, -5.765900135040283, -5.953800201416016, -5.008800029754639, -6.548399925231934, -6.665900230407715, -6.213600158691406, -4.940800189971924, -6.228600025177002, -6.179299831390381, -3.7881999015808105, -5.62060022354126, -6.093200206756592, -5.623000144958496, -5.761600017547607, -6.076700210571289, -6.064000129699707, -5.78000020980835, -5.730299949645996, -5.867499828338623, -5.769100189208984, -5.895699977874756, -5.686600208282471, -6.078800201416016, -6.098899841308594, -6.076499938964844, -6.079899787902832, -6.098199844360352, -6.307499885559082, -7.553100109100342, -6.879300117492676, -8.402000427246094, -8.5556001663208, -8.274999618530273, -8.412400245666504, -8.419599533081055, -8.22599983215332, -5.875, -8.864500045776367, -8.282600402832031, -8.671099662780762, -8.819600105285645, -7.319699764251709, -8.993300437927246, -8.297800064086914, -8.428000450134277, -8.72700023651123, -8.874500274658203, -8.280200004577637, -6.056099891662598, -8.504899978637695, -8.189000129699707, -8.881999969482422, -9.120699882507324, -8.095499992370605, -9.138799667358398, -8.128199577331543, -8.780099868774414, -8.449000358581543, -7.670599937438965, -7.671000003814697, -5.353099822998047, -7.598700046539307, -8.102100372314453, -6.504799842834473, -6.786799907684326, -5.388299942016602, -6.7947001457214355, -7.203700065612793, -7.53249979019165, -5.266200065612793, -6.658299922943115, -7.079699993133545, -7.707300186157227, -6.562900066375732, -7.006700038909912, -7.765600204467773, -6.453400135040283, -7.095900058746338, -6.752299785614014, -5.401700019836426, -6.9893999099731445, -6.617700099945068, -7.282899856567383, -5.9054999351501465, -6.129499912261963, -6.189599990844727, -6.065400123596191, -5.1682000160217285, -6.0177998542785645, -5.869999885559082, -5.6153998374938965, -6.082200050354004, -4.968599796295166, -5.967299938201904, -5.854800224304199, -5.96019983291626, -5.713900089263916, -6.22629976272583, -5.937099933624268, -6.03410005569458, -5.640100002288818, -6.126699924468994, -6.003900051116943, -5.980899810791016, -5.604800224304199, -5.51669979095459, -5.940400123596191, -5.8649001121521, -5.219900131225586, -5.958199977874756, -5.823500156402588, -6.015900135040283, -5.9618000984191895, -6.005099773406982, -6.021599769592285, -7.456999778747559, -7.656599998474121, -7.345799922943115, -8.416099548339844, -7.418799877166748, -8.621800422668457, -8.435700416564941, -8.463600158691406, -8.717399597167969, -8.387200355529785, -8.727499961853027, -8.55049991607666, -8.510899543762207, -8.25059986114502, -9.097399711608887, -8.216400146484375, -8.520899772644043, -8.374500274658203, -8.847900390625, -8.931099891662598, -9.187199592590332, -9.213800430297852, -8.668700218200684, -8.282899856567383, -9.114899635314941, -8.989899635314941, -9.263699531555176, -9.116399765014648, -9.267600059509277, -9.2677001953125, -6.785999774932861, -8.743000030517578, -8.49209976196289, -6.666299819946289, -7.872600078582764, -7.873199939727783, -8.044300079345703, -8.300200462341309, -5.4054999351501465, -7.824999809265137, -7.237800121307373, -7.739299774169922, -5.65939998626709, -7.9791998863220215, -7.10099983215332, -6.8892998695373535, -5.402500152587891, -7.525400161743164, -6.731200218200684, -6.5696001052856445, -6.142399787902832, -6.0071001052856445, -6.248899936676025, -5.730000019073486, -6.067800045013428, -7.194399833679199, -7.651700019836426, -7.13070011138916, -5.634799957275391, -5.8557000160217285, -5.332099914550781, -6.001299858093262, -5.684899806976318, -5.410900115966797, -5.465099811553955, -5.719399929046631, -6.153299808502197, -6.0472002029418945, -5.869100093841553, -6.158999919891357, -4.960899829864502, -5.3653998374938965, -5.632800102233887, -5.739999771118164, -4.969200134277344, -5.510300159454346, -5.610400199890137, -5.99970006942749, -5.475800037384033, -5.3221001625061035, -6.008299827575684, -5.9893999099731445, -5.794000148773193, -5.7957000732421875, -5.432799816131592, -5.883399963378906, -5.9816999435424805, -5.936100006103516, -5.995800018310547, -8.16409969329834, -8.831100463867188, -8.253000259399414, -8.458100318908691, -8.45829963684082, -8.638500213623047, -8.733099937438965, -8.326000213623047, -8.546699523925781, -9.082799911499023, -9.08530044555664, -9.110400199890137, -8.983699798583984, -8.073699951171875, -8.981300354003906, -9.115699768066406, -9.102700233459473, -8.355299949645996, -8.976699829101562, -9.121899604797363, -8.86989974975586, -9.283699989318848, -9.066800117492676, -8.424300193786621, -8.9798002243042, -8.678199768066406, -8.593799591064453, -8.991399765014648, -8.67710018157959, -8.977499961853027, -7.30019998550415, -6.014500141143799, -1.6282999515533447, -8.247300148010254, -7.39739990234375, -8.595100402832031, -6.353799819946289, -7.911600112915039, -6.467700004577637, -6.526700019836426, -8.391799926757812, -7.684199810028076, -4.728600025177002, -5.81279993057251, -7.289000034332275, -7.443699836730957, -7.694900035858154, -7.834199905395508, -7.285200119018555, -7.105199813842773, -6.68779993057251, -7.622700214385986, -5.088200092315674, -7.055500030517578, -6.9629998207092285, -5.7829999923706055, -5.683000087738037, -5.361499786376953, -6.181300163269043, -6.762800216674805, -6.780300140380859, -6.417500019073486, -6.773200035095215, -6.5569000244140625, -6.884500026702881, -5.486499786376953, -6.242499828338623, -6.377200126647949, -6.586900234222412, -6.301300048828125, -6.607999801635742, -6.559899806976318, -5.639800071716309, -6.285900115966797, -6.043300151824951, -5.81850004196167, -6.286799907684326, -5.496600151062012, -6.131800174713135, -5.919300079345703, -6.196499824523926, -6.167600154876709, -5.932199954986572, -6.32289981842041, -5.847700119018555, -6.001399993896484, -6.1875, -6.317699909210205, -6.250100135803223, -6.302199840545654], \"loglift\": [30.0, 29.0, 28.0, 27.0, 26.0, 25.0, 24.0, 23.0, 22.0, 21.0, 20.0, 19.0, 18.0, 17.0, 16.0, 15.0, 14.0, 13.0, 12.0, 11.0, 10.0, 9.0, 8.0, 7.0, 6.0, 5.0, 4.0, 3.0, 2.0, 1.0, 1.3589999675750732, 1.358199954032898, 1.3559999465942383, 1.3503999710083008, 1.347499966621399, 1.342900037765503, 1.3406000137329102, 1.3382999897003174, 1.3336999416351318, 1.3330999612808228, 1.330299973487854, 1.327299952507019, 1.325600028038025, 1.3251999616622925, 1.3222999572753906, 1.3209999799728394, 1.3208999633789062, 1.3206000328063965, 1.3205000162124634, 1.3200000524520874, 1.319700002670288, 1.3188999891281128, 1.3188999891281128, 1.3183000087738037, 1.3183000087738037, 1.3181999921798706, 1.3169000148773193, 1.3167999982833862, 1.31659996509552, 1.3162000179290771, 1.3138999938964844, 1.3121999502182007, 1.3085999488830566, 1.311900019645691, 1.3142000436782837, 1.291100025177002, 1.271399974822998, 1.2914999723434448, 1.1713000535964966, 1.2584999799728394, 1.1126999855041504, 1.2527999877929688, 1.19760000705719, 1.0456000566482544, 1.0217000246047974, 1.2346999645233154, 1.2898000478744507, 1.0048999786376953, 1.246399998664856, 1.2102999687194824, 1.1922999620437622, 1.1748000383377075, 0.8119999766349792, 1.1074999570846558, 0.8992000222206116, 0.9925000071525574, 0.8554999828338623, 0.9453999996185303, 1.1507999897003174, 0.8529999852180481, 0.9934999942779541, 0.7565000057220459, 0.741599977016449, 0.595300018787384, 0.8320000171661377, 0.9021000266075134, 0.8235999941825867, 0.7045999765396118, 0.6759999990463257, 0.7839999794960022, 0.7111999988555908, 0.9905999898910522, 0.8066999912261963, 0.6807000041007996, 0.8083000183105469, 0.3961000144481659, 0.5209000110626221, 0.364300012588501, 0.3068999946117401, -1.389299988746643, -0.22869999706745148, 0.39320001006126404, 0.5335999727249146, 1.5666999816894531, 1.5598000288009644, 1.5543999671936035, 1.5357999801635742, 1.5264999866485596, 1.524999976158142, 1.5164999961853027, 1.5163999795913696, 1.507699966430664, 1.5062999725341797, 1.504699945449829, 1.504699945449829, 1.5046000480651855, 1.5017999410629272, 1.500599980354309, 1.4966000318527222, 1.492799997329712, 1.492300033569336, 1.48989999294281, 1.4882999658584595, 1.4881000518798828, 1.486199975013733, 1.4833999872207642, 1.479200005531311, 1.4785000085830688, 1.476199984550476, 1.4759999513626099, 1.4753999710083008, 1.4730000495910645, 1.471500039100647, 1.4694000482559204, 1.465399980545044, 1.3824000358581543, 1.3818999528884888, 1.4352999925613403, 1.4193999767303467, 1.3992999792099, 1.3901000022888184, 1.4297000169754028, 1.1763999462127686, 1.2323999404907227, 1.301300048828125, 1.409000039100647, 1.3551000356674194, 1.2812000513076782, 1.2689000368118286, 1.0923000574111938, 1.3565000295639038, 1.3006999492645264, 1.1699999570846558, 1.0787999629974365, 1.3253999948501587, 1.1568000316619873, 0.9524999856948853, 1.1258000135421753, 1.2244999408721924, 1.2130000591278076, 0.9132000207901001, 0.8561000227928162, 0.8877999782562256, 0.4717000126838684, 1.0822999477386475, 1.1129000186920166, 0.8914999961853027, 0.22220000624656677, 0.8822000026702881, 0.8518000245094299, -0.6312000155448914, 0.49380001425743103, 0.7721999883651733, 0.38109999895095825, 0.47909998893737793, 0.6608999967575073, 0.6403999924659729, 0.25940001010894775, 0.11829999834299088, 0.32269999384880066, -0.11550000309944153, 0.17739999294281006, -0.4805999994277954, 0.47920000553131104, 0.5408999919891357, 0.3391999900341034, 0.36719998717308044, 0.5189999938011169, 1.5606000423431396, 1.5592999458312988, 1.5513999462127686, 1.539199948310852, 1.5356999635696411, 1.5327999591827393, 1.531599998474121, 1.530900001525879, 1.530500054359436, 1.5257999897003174, 1.524399995803833, 1.5242999792099, 1.5182000398635864, 1.514799952507019, 1.5128999948501587, 1.5125000476837158, 1.511299967765808, 1.5096999406814575, 1.5082999467849731, 1.5073000192642212, 1.5038000345230103, 1.5011999607086182, 1.500499963760376, 1.5003000497817993, 1.4987000226974487, 1.4986000061035156, 1.4976999759674072, 1.4970999956130981, 1.4967000484466553, 1.495300054550171, 1.4931999444961548, 1.475600004196167, 1.4674999713897705, 1.378100037574768, 1.448099970817566, 1.4737999439239502, 1.3868999481201172, 1.4016000032424927, 1.3092999458312988, 1.3938000202178955, 1.4040000438690186, 1.4077999591827393, 1.1706000566482544, 1.2932000160217285, 1.3092999458312988, 1.4098000526428223, 1.193600058555603, 1.2694000005722046, 1.4084999561309814, 1.1366000175476074, 1.268399953842163, 1.162600040435791, 0.8195000290870667, 1.2081999778747559, 1.0937000513076782, 1.2795000076293945, 0.8605999946594238, 0.9240999817848206, 0.9251999855041504, 0.8618000149726868, 0.48539999127388, 0.8118000030517578, 0.742900013923645, 0.6335999965667725, 0.8235999941825867, 0.19439999759197235, 0.6822999715805054, 0.592199981212616, 0.6535999774932861, 0.5016000270843506, 0.7638000249862671, 0.48010000586509705, 0.5659000277519226, 0.1386999934911728, 0.6452999711036682, 0.4415999948978424, 0.3977999985218048, -0.1242000013589859, -0.310699999332428, 0.3001999855041504, -0.03420000150799751, -2.0629000663757324, 0.045899998396635056, -0.578499972820282, 0.19660000503063202, -0.5961999893188477, 0.03189999982714653, 0.09279999881982803, 1.5823999643325806, 1.5815999507904053, 1.5805000066757202, 1.5794999599456787, 1.5644999742507935, 1.5514999628067017, 1.5497000217437744, 1.5456000566482544, 1.5435999631881714, 1.5428999662399292, 1.541200041770935, 1.5364999771118164, 1.5338000059127808, 1.5307999849319458, 1.530400037765503, 1.527400016784668, 1.5259000062942505, 1.5245000123977661, 1.5211999416351318, 1.520900011062622, 1.5205999612808228, 1.5169999599456787, 1.5156999826431274, 1.5154999494552612, 1.5151000022888184, 1.5116000175476074, 1.5110000371932983, 1.5110000371932983, 1.5104000568389893, 1.5104000568389893, 1.4961999654769897, 1.5103000402450562, 1.507599949836731, 1.4718999862670898, 1.482699990272522, 1.482100009918213, 1.4780999422073364, 1.4805999994277954, 1.3078999519348145, 1.454699993133545, 1.4033000469207764, 1.4342000484466553, 1.2532000541687012, 1.4523999691009521, 1.3636000156402588, 1.3385000228881836, 1.1520999670028687, 1.4071999788284302, 1.3083000183105469, 1.270400047302246, 1.2086000442504883, 1.1859999895095825, 1.207800030708313, 1.0924999713897705, 1.1411999464035034, 1.3157000541687012, 1.389799952507019, 1.2666000127792358, 0.9132999777793884, 0.9509999752044678, 0.8191999793052673, 0.9740999937057495, 0.8734999895095825, 0.772599995136261, 0.7473999857902527, 0.8248999714851379, 0.9564999938011169, 0.8774999976158142, 0.7706999778747559, 0.8787999749183655, 0.2840999960899353, 0.4832000136375427, 0.611299991607666, 0.6385999917984009, 0.19380000233650208, 0.4268999993801117, 0.4627000093460083, 0.7494999766349792, 0.1777999997138977, -0.1160999983549118, 0.6905999779701233, 0.6399999856948853, 0.22769999504089355, -0.06930000334978104, -2.275899887084961, 0.04390000179409981, 0.542900025844574, -0.1054999977350235, 0.6040999889373779, 1.6857000589370728, 1.659000039100647, 1.6550999879837036, 1.6510000228881836, 1.6509000062942505, 1.6469000577926636, 1.6460000276565552, 1.6447999477386475, 1.641800045967102, 1.6306999921798706, 1.6282000541687012, 1.6195000410079956, 1.6194000244140625, 1.6152000427246094, 1.613800048828125, 1.613700032234192, 1.6094000339508057, 1.6088999509811401, 1.6073999404907227, 1.6067999601364136, 1.6061999797821045, 1.6035000085830688, 1.6022000312805176, 1.6022000312805176, 1.6016000509262085, 1.5973999500274658, 1.5973000526428223, 1.5972000360488892, 1.597100019454956, 1.5959999561309814, 1.595900058746338, 1.5827000141143799, 1.5286999940872192, 1.5925999879837036, 1.573099970817566, 1.5958000421524048, 1.5467000007629395, 1.5750999450683594, 1.523800015449524, 1.489300012588501, 1.5849000215530396, 1.5422999858856201, 1.281499981880188, 1.3701000213623047, 1.4910000562667847, 1.4895000457763672, 1.507699966430664, 1.5009000301361084, 1.423200011253357, 1.3904000520706177, 1.3020000457763672, 1.458400011062622, 0.9334999918937683, 1.319700002670288, 1.2676000595092773, 0.9661999940872192, 0.9257000088691711, 0.8219000101089478, 1.0437999963760376, 1.1986000537872314, 1.2015999555587769, 1.0855000019073486, 1.1964000463485718, 1.1083999872207642, 1.2157000303268433, 0.7035999894142151, 0.9488000273704529, 0.9477999806404114, 1.0226999521255493, 0.8436999917030334, 1.0205999612808228, 0.9861000180244446, 0.13899999856948853, 0.6794000267982483, 0.40220001339912415, 0.18559999763965607, 0.6334999799728394, -0.2906000018119812, 0.41260001063346863, 0.017899999395012856, 0.2971000075340271, 0.22529999911785126, -0.2786000072956085, 0.4991999864578247, -0.6847000122070312, -0.7563999891281128, -0.03629999980330467, 0.3393000066280365, -0.3165000081062317, -0.3246999979019165]}, \"token.table\": {\"Topic\": [1, 2, 3, 4, 5, 1, 2, 3, 4, 5, 1, 2, 3, 4, 5, 1, 2, 3, 4, 5, 1, 3, 4, 5, 1, 1, 4, 3, 4, 1, 1, 2, 3, 4, 1, 3, 4, 1, 3, 4, 5, 5, 3, 2, 5, 1, 2, 3, 4, 5, 1, 2, 3, 4, 5, 1, 2, 3, 1, 2, 3, 4, 5, 2, 5, 2, 3, 4, 1, 2, 3, 4, 5, 1, 2, 3, 4, 5, 1, 2, 3, 4, 5, 1, 2, 3, 4, 5, 1, 2, 4, 5, 1, 2, 3, 4, 5, 1, 3, 4, 5, 1, 2, 3, 4, 5, 2, 4, 1, 2, 3, 4, 5, 5, 1, 2, 3, 4, 5, 1, 2, 3, 4, 5, 1, 2, 3, 4, 5, 2, 3, 4, 5, 1, 2, 3, 4, 5, 5, 1, 2, 3, 4, 5, 1, 2, 3, 4, 5, 1, 3, 5, 1, 2, 3, 4, 5, 1, 2, 3, 4, 5, 1, 2, 3, 4, 5, 1, 3, 4, 5, 1, 2, 3, 4, 5, 1, 2, 3, 4, 5, 1, 2, 3, 4, 5, 5, 2, 4, 5, 2, 3, 1, 2, 3, 4, 5, 1, 2, 3, 1, 2, 3, 4, 5, 1, 2, 3, 4, 5, 1, 4, 5, 1, 2, 4, 1, 2, 3, 4, 5, 1, 2, 3, 4, 5, 1, 2, 3, 5, 3, 1, 2, 3, 4, 5, 3, 5, 1, 2, 3, 4, 5, 1, 2, 3, 4, 5, 1, 2, 3, 4, 5, 1, 2, 3, 4, 5, 2, 3, 4, 5, 3, 1, 2, 3, 4, 5, 2, 3, 4, 5, 2, 1, 3, 5, 5, 1, 2, 3, 4, 5, 1, 3, 4, 5, 1, 2, 3, 4, 5, 1, 2, 3, 4, 5, 1, 2, 3, 4, 5, 5, 1, 4, 5, 1, 2, 3, 4, 5, 1, 3, 5, 2, 2, 5, 4, 1, 2, 3, 4, 5, 1, 2, 3, 4, 5, 1, 2, 3, 4, 5, 1, 1, 2, 3, 4, 5, 1, 3, 5, 2, 5, 1, 2, 3, 4, 5, 1, 2, 3, 4, 5, 2, 3, 5, 4, 4, 1, 1, 3, 1, 2, 3, 4, 5, 4, 1, 2, 5, 1, 2, 3, 4, 5, 1, 2, 3, 5, 4, 1, 2, 3, 4, 5, 1, 2, 3, 4, 5, 3, 1, 2, 3, 4, 5, 1, 2, 3, 4, 5, 1, 3, 1, 2, 3, 4, 5, 1, 2, 3, 4, 5, 1, 2, 3, 4, 5, 5, 1, 2, 3, 4, 5, 1, 2, 3, 4, 5, 2, 3, 4, 5, 1, 2, 3, 4, 5, 1, 2, 3, 4, 3, 1, 2, 3, 4, 5, 1, 2, 3, 4, 5, 1, 2, 3, 4, 5, 4, 3, 4, 5, 2, 3, 4, 1, 2, 3, 4, 5, 1, 2, 3, 4, 5, 1, 2, 3, 4, 5, 1, 2, 4, 5, 1, 2, 1, 2, 3, 4, 5, 1, 4, 5, 1, 2, 3, 4, 5, 2, 5, 2, 5, 2, 1, 2, 3, 4, 5, 1, 2, 3, 4, 5, 1, 2, 3, 4, 5, 3, 4, 1, 2, 3, 4, 5, 1, 4, 1, 2, 3, 4, 1, 2, 3, 4, 5, 1, 2, 3, 4, 5, 1, 4, 1, 2, 5, 1, 2, 3, 4, 5, 1, 1, 2, 3, 4, 5, 1, 2, 3, 4, 5, 4, 5, 3, 4, 5, 4, 3, 1, 2, 3, 4, 5, 3, 1, 2, 4, 5, 3, 4, 1, 2, 3, 4, 5, 1, 2, 3, 4, 5, 1, 2, 3, 4, 5, 1, 1, 3, 5, 3, 1, 2, 3, 4, 5, 3, 4, 5, 1, 2, 3, 4, 5, 1, 3, 4, 5, 2, 1, 2, 3, 4, 5, 1, 2, 3, 4, 1, 2, 3, 4, 5, 1, 2, 3, 4, 5, 5, 2, 3, 1, 3, 5, 1, 2, 3, 4, 5, 1, 2, 3, 4, 5, 1, 2, 3, 4, 5, 4, 1, 2, 3, 4, 5, 1, 2, 3, 4, 5, 5, 1, 2, 3, 4, 5, 1, 2, 3, 4, 5, 1, 2, 3, 4, 5, 3, 1, 1, 1, 2, 3, 4, 5, 1, 2, 3, 4, 5, 1, 2, 3, 4, 5, 2, 3, 4, 5, 1, 2, 3, 4, 5, 1, 4, 5, 1, 2, 3, 4, 5, 1, 2, 3, 4, 5, 1, 2, 3, 4, 5, 2, 1, 2, 3, 4, 5, 1, 2, 3, 4, 5, 1, 2, 3, 4, 5, 1, 2, 3, 4, 5, 1, 2, 3, 4, 5, 5, 1, 2, 3, 4, 5, 1, 3, 4, 5, 1, 2, 3, 4, 5, 1, 2, 3, 4, 5, 2, 1, 2, 3, 4, 5, 1, 2, 3, 4, 5, 1, 2, 3, 4, 5, 1, 2, 3, 4, 5, 1, 2, 3, 4, 5, 1, 3, 4, 5, 1, 2, 3, 4, 5, 1, 1, 1, 2, 3, 4, 5, 1, 2, 3, 4, 5, 5, 1, 2, 3, 4, 5, 1, 2, 3, 4, 5, 1, 2, 3, 4, 5, 2, 3, 5, 2, 1, 2, 3, 2, 1, 2, 3, 4, 5, 4, 1, 2, 3, 4, 5, 5, 1, 2, 1, 2, 3, 4, 5, 1, 2, 3, 4, 5, 2, 3, 4, 5, 1, 2, 4, 5, 1, 2, 3, 4, 5, 1, 2, 3, 4, 5, 1, 2, 3, 4, 5, 5, 1, 2, 3, 4, 5, 4, 1, 2, 3, 4, 5, 1, 2, 3, 4, 5, 1, 2, 3, 4, 5, 1, 2, 3, 4, 5, 1, 3, 1, 3, 4, 1, 2, 3, 4, 5, 1, 2, 3, 4, 5, 5, 4, 4, 1, 2, 3, 4, 5, 3, 4, 2, 2, 3, 1, 2, 3, 5, 1, 2, 3, 4, 5, 4, 1, 2, 3, 4, 5, 1, 2, 3, 4, 5, 4, 1, 2, 3, 4, 5, 1, 2, 3, 4, 5, 1, 2, 3, 4, 5, 4, 1, 2, 3, 4, 5, 1, 2, 3, 4, 5, 1, 2, 3, 4, 5, 1, 2, 3, 4, 5, 1, 2, 3, 5, 2, 3, 4, 5, 1, 2, 3, 4, 5, 1, 2, 3, 4, 5, 1, 2, 4, 5, 1, 2, 3, 4, 5, 1, 2, 3, 4, 5, 1, 2, 3, 4, 5, 2, 1, 2, 3, 4, 5, 1, 2, 3, 4, 5, 4, 2, 5, 1, 2, 3, 4, 5, 1, 2, 3, 4, 5, 1, 2, 3, 4, 5, 3, 1, 2, 3, 4, 5, 1, 2, 3, 4, 5, 1, 2, 3, 4, 5, 1, 2, 3, 4, 5, 2, 1, 2, 3, 4, 5, 2, 3, 4, 5, 3, 4, 1, 2, 3, 4, 5, 5, 1, 2, 3, 4, 5, 1, 2, 3, 4, 5, 1, 2, 4, 5, 4, 5, 1, 2, 3, 4, 5, 1, 2, 3, 4, 5, 1, 2, 3, 4, 5, 1, 2, 3, 4, 5, 1, 2, 3, 4, 5, 1, 2, 5, 1, 2, 3, 4, 1, 2, 3, 4, 5, 1, 2, 3, 4, 5, 3, 1, 2, 3, 4, 5, 1, 2, 3, 4, 5, 1, 2, 3, 4, 5, 1, 3, 4, 5, 5, 1, 1, 2, 3, 4, 1, 2, 3, 4, 5, 1, 2, 3, 4, 5, 4, 5, 1, 5, 5, 1, 2, 3, 5, 1, 4, 1, 1, 3, 4, 1, 2, 3, 4, 5, 1, 2, 3, 4, 5, 1, 2, 3, 4, 5, 1, 2, 3, 4, 5, 2, 4, 5, 1, 2, 3, 4, 5, 1, 2, 3, 4, 5, 1, 2, 3, 4, 5, 1, 2, 3, 4, 5, 1, 2, 3, 4, 5, 1, 2, 3, 4, 5, 1, 2, 3, 5, 1, 2, 3, 4, 5, 1, 2, 3, 4, 5, 1, 3, 3, 1, 2, 3, 4, 5, 2, 4, 5, 1, 2, 3, 4, 5, 1, 2, 3, 4, 5, 3, 1, 2, 3, 4, 5, 2, 3, 4, 5, 1, 2, 3, 4, 5, 1, 2, 3, 4, 5, 1, 2, 3, 4, 5, 1, 5, 1, 2, 3, 4, 5, 1, 2, 3, 4, 5, 3, 2], \"Freq\": [0.05930819362401962, 0.10656940937042236, 0.02518913336098194, 0.019713234156370163, 0.7892033457756042, 0.7776346206665039, 0.03534702584147453, 0.03534702584147453, 0.12371459603309631, 0.017673512920737267, 0.8971179127693176, 0.025631939992308617, 0.025631939992308617, 0.05126387998461723, 0.025631939992308617, 0.8198201656341553, 0.02927929162979126, 0.08783787488937378, 0.05855858325958252, 0.02927929162979126, 0.8081550598144531, 0.024489548057317734, 0.09795819222927094, 0.024489548057317734, 0.8832063674926758, 0.9109652638435364, 0.056935328990221024, 0.08258005976676941, 0.9083806872367859, 0.8749361038208008, 0.9142690300941467, 0.03657076135277748, 0.03657076135277748, 0.03657076135277748, 0.8714523315429688, 0.05446577072143555, 0.05446577072143555, 0.0447252094745636, 0.0894504189491272, 0.8050537705421448, 0.0447252094745636, 0.9229223132133484, 0.9359797835350037, 0.07714433968067169, 0.848587691783905, 0.4061589241027832, 0.23934364318847656, 0.19824422895908356, 0.11846301704645157, 0.03626418858766556, 0.039770763367414474, 0.045889340341091156, 0.05812649801373482, 0.4068855047225952, 0.4497155547142029, 0.05518391728401184, 0.8829426765441895, 0.05518391728401184, 0.586639940738678, 0.1308048516511917, 0.16251511871814728, 0.09909458458423615, 0.01981891691684723, 0.880140483379364, 0.07334504276514053, 0.8846343159675598, 0.052037313580513, 0.052037313580513, 0.011739499866962433, 0.029348749667406082, 0.90981125831604, 0.011739499866962433, 0.0352184996008873, 0.03559333086013794, 0.21355998516082764, 0.01779666543006897, 0.7118666172027588, 0.01779666543006897, 0.014536780305206776, 0.014536780305206776, 0.24227966368198395, 0.6008535623550415, 0.12598542869091034, 0.0753924548625946, 0.04188469797372818, 0.653401255607605, 0.05863857641816139, 0.16753879189491272, 0.7732624411582947, 0.12372198700904846, 0.030930496752262115, 0.06186099350452423, 0.6499292254447937, 0.2602725923061371, 0.019558055326342583, 0.007522329222410917, 0.06318756192922592, 0.8721455335617065, 0.05450909584760666, 0.05450909584760666, 0.05450909584760666, 0.024569908156991005, 0.024569908156991005, 0.9090866446495056, 0.024569908156991005, 0.024569908156991005, 0.07781337201595306, 0.933760404586792, 0.5212482213973999, 0.2060171514749527, 0.13651739060878754, 0.0943211019039154, 0.042196281254291534, 0.8580742478370667, 0.0719781368970871, 0.06169554591178894, 0.2570647597312927, 0.03084777295589447, 0.5655425190925598, 0.23455806076526642, 0.05773736909031868, 0.45107319951057434, 0.18403786420822144, 0.07397600263357162, 0.06300736218690872, 0.09451104700565338, 0.06300736218690872, 0.03150368109345436, 0.724584698677063, 0.9557851552963257, 0.011515484191477299, 0.023030968382954597, 0.011515484191477299, 0.06056252121925354, 0.03028126060962677, 0.12112504243850708, 0.7570315003395081, 0.03028126060962677, 0.8659241199493408, 0.017133625224232674, 0.6082437038421631, 0.008566812612116337, 0.10280175507068634, 0.25700438022613525, 0.006863880902528763, 0.0549110472202301, 0.892304539680481, 0.013727761805057526, 0.034319404512643814, 0.057874999940395355, 0.8681250214576721, 0.057874999940395355, 0.14045126736164093, 0.6489204168319702, 0.023112233728170395, 0.1511184573173523, 0.03555728495121002, 0.1784161627292633, 0.38707235455513, 0.16632014513015747, 0.11793610453605652, 0.1481761336326599, 0.8459926247596741, 0.05902274325489998, 0.05902274325489998, 0.01967424713075161, 0.03934849426150322, 0.09451884031295776, 0.04725942015647888, 0.04725942015647888, 0.8034101128578186, 0.10014724731445312, 0.10014724731445312, 0.16214315593242645, 0.6294969916343689, 0.0095378328114748, 0.14013320207595825, 0.17797939479351044, 0.3222040832042694, 0.22912290692329407, 0.12990450859069824, 0.5427826642990112, 0.051564350724220276, 0.02985304594039917, 0.3636643588542938, 0.013569566421210766, 0.8192198276519775, 0.8733034133911133, 0.0671771839261055, 0.03358859196305275, 0.9160791039466858, 0.06107193976640701, 0.0353701077401638, 0.7604573369026184, 0.17685054242610931, 0.0176850538700819, 0.0176850538700819, 0.05257365107536316, 0.05257365107536316, 0.8937520384788513, 0.5329386591911316, 0.2217819094657898, 0.11916640400886536, 0.0794442668557167, 0.04634248837828636, 0.06145258620381355, 0.2645133137702942, 0.382074773311615, 0.1229051724076271, 0.1709984987974167, 0.9021834135055542, 0.06939872354269028, 0.06939872354269028, 0.06341714411973953, 0.06341714411973953, 0.8244228959083557, 0.2841842770576477, 0.3378039598464966, 0.07238656282424927, 0.10723935067653656, 0.2010737806558609, 0.06729459762573242, 0.02691783756017685, 0.2691783905029297, 0.02691783756017685, 0.6056513786315918, 0.09426397830247879, 0.816954493522644, 0.03142132610082626, 0.06284265220165253, 0.9254068732261658, 0.10823456197977066, 0.3802835941314697, 0.13456189632415771, 0.33055421710014343, 0.04387887939810753, 0.9426574110984802, 0.032505426555871964, 0.3526235818862915, 0.0535397082567215, 0.14031095802783966, 0.35446980595588684, 0.09784843027591705, 0.19040174782276154, 0.11635661870241165, 0.042311497032642365, 0.010577874258160591, 0.6240946054458618, 0.10372047871351242, 0.03457349166274071, 0.7951903343200684, 0.06914698332548141, 0.03457349166274071, 0.22238492965698242, 0.32346898317337036, 0.2046952247619629, 0.05812333524227142, 0.1920597106218338, 0.08122732490301132, 0.04061366245150566, 0.12184098362922668, 0.7716595530509949, 0.9017959237098694, 0.09302319586277008, 0.2289801687002182, 0.4508047103881836, 0.16457949578762054, 0.06082285940647125, 0.018732262775301933, 0.9459792375564575, 0.009366131387650967, 0.018732262775301933, 0.9181782603263855, 0.8880029916763306, 0.04673700034618378, 0.04673700034618378, 0.8059207201004028, 0.3422708213329315, 0.04753761366009712, 0.14125461876392365, 0.2947331964969635, 0.1738518476486206, 0.02698354423046112, 0.02698354423046112, 0.944424033164978, 0.02698354423046112, 0.21710160374641418, 0.28946879506111145, 0.3595745265483856, 0.08367457985877991, 0.05201392620801926, 0.02361593022942543, 0.21254336833953857, 0.026567921042442322, 0.7114298939704895, 0.029519911855459213, 0.5602642297744751, 0.16916190087795258, 0.08119770884513855, 0.06631146371364594, 0.12450315803289413, 0.9512647390365601, 0.8962907791137695, 0.06894544512033463, 0.06894544512033463, 0.10366798937320709, 0.10366798937320709, 0.11403478682041168, 0.11403478682041168, 0.5701739192008972, 0.09557043015956879, 0.09557043015956879, 0.8601338863372803, 0.8660717606544495, 0.8803414702415466, 0.8897430300712585, 0.8872694373130798, 0.15646810829639435, 0.09758226573467255, 0.14469094574451447, 0.43575528264045715, 0.16488038003444672, 0.6113201379776001, 0.1004909873008728, 0.08095107227563858, 0.13957081735134125, 0.06699398905038834, 0.5854960083961487, 0.2055814564228058, 0.11841491609811783, 0.0723646730184555, 0.019735820591449738, 0.8887712359428406, 0.644838273525238, 0.14921876788139343, 0.06928014755249023, 0.04263393580913544, 0.09592635184526443, 0.051669053733348846, 0.878373920917511, 0.051669053733348846, 0.10387527942657471, 0.8310022354125977, 0.3980659544467926, 0.07371591776609421, 0.036857958883047104, 0.007371591404080391, 0.471781849861145, 0.32318660616874695, 0.22498759627342224, 0.10317111015319824, 0.3119993805885315, 0.036047738045454025, 0.14573556184768677, 0.03643389046192169, 0.8015456199645996, 0.8199951648712158, 0.9297592639923096, 0.8756507039070129, 0.06515654921531677, 0.9121916890144348, 0.30557000637054443, 0.039008934050798416, 0.12352829426527023, 0.026005957275629044, 0.5071161389350891, 0.8765680193901062, 0.9315625429153442, 0.03327009081840515, 0.03327009081840515, 0.11935589462518692, 0.2784970700740814, 0.4475845992565155, 0.10940957069396973, 0.046416182070970535, 0.06339552253484726, 0.8664054870605469, 0.042263682931661606, 0.021131841465830803, 0.9137960076332092, 0.2905266284942627, 0.13295285403728485, 0.03446925804018974, 0.059090159833431244, 0.4874938130378723, 0.08893445134162903, 0.022233612835407257, 0.1556352972984314, 0.7114756107330322, 0.011116806417703629, 0.8948342800140381, 0.047963716089725494, 0.49962204694747925, 0.2178352177143097, 0.10791835933923721, 0.12590475380420685, 0.4003370404243469, 0.11774618178606033, 0.23156750202178955, 0.17073196172714233, 0.08045989274978638, 0.9153274297714233, 0.9166868329048157, 0.6611913442611694, 0.015402127988636494, 0.09241276234388351, 0.17932477593421936, 0.052807293832302094, 0.24951210618019104, 0.10693375766277313, 0.08101042360067368, 0.4957837760448456, 0.06480833888053894, 0.07085704058408737, 0.04251422360539436, 0.01417140755802393, 0.8644558787345886, 0.01417140755802393, 0.8181842565536499, 0.14995244145393372, 0.6872820258140564, 0.016661381348967552, 0.041653454303741455, 0.10829897969961166, 0.26138463616371155, 0.05445513501763344, 0.06171581894159317, 0.2976880669593811, 0.3231004774570465, 0.25439029932022095, 0.01589939370751381, 0.6836739182472229, 0.03179878741502762, 0.8519657254219055, 0.07962296903133392, 0.007962296716868877, 0.05573607608675957, 0.007962296716868877, 0.8935508728027344, 0.08377039432525635, 0.02792346477508545, 0.02792346477508545, 0.8588414788246155, 0.18794982135295868, 0.12274274230003357, 0.13424986600875854, 0.5101495385169983, 0.042192816734313965, 0.028788747265934944, 0.8636624217033386, 0.028788747265934944, 0.028788747265934944, 0.05757749453186989, 0.48175883293151855, 0.1590854823589325, 0.2056104689836502, 0.04802580550312996, 0.10655725002288818, 0.8895695209503174, 0.19020596146583557, 0.027172280475497246, 0.7608238458633423, 0.09797437489032745, 0.8164531588554382, 0.09797437489032745, 0.008033175952732563, 0.947914719581604, 0.008033175952732563, 0.024099526926875114, 0.016066351905465126, 0.14550447463989258, 0.022385304793715477, 0.6402196884155273, 0.12311917543411255, 0.06939443945884705, 0.04967291280627251, 0.11687744408845901, 0.036524202674627304, 0.17969907820224762, 0.6165285110473633, 0.0932556614279747, 0.13988348841667175, 0.023313915356993675, 0.7693592309951782, 0.0871950313448906, 0.8719503283500671, 0.06207200512290001, 0.15518000721931458, 0.012414400465786457, 0.6455488204956055, 0.1303512006998062, 0.9262344241142273, 0.8686074614524841, 0.8407171368598938, 0.06511062383651733, 0.2343982458114624, 0.6641283631324768, 0.013022124767303467, 0.026044249534606934, 0.10402058809995651, 0.8321647047996521, 0.07203208655118942, 0.8643850088119507, 0.937531054019928, 0.7543026208877563, 0.12343133985996246, 0.06857296824455261, 0.04114377871155739, 0.013714592903852463, 0.03832927718758583, 0.7972489595413208, 0.05366098880767822, 0.09199026226997375, 0.017886996269226074, 0.14116494357585907, 0.010858842171728611, 0.021717684343457222, 0.07601189613342285, 0.7601189613342285, 0.8943381309509277, 0.07452818006277084, 0.13815708458423615, 0.20992699265480042, 0.3283473551273346, 0.23504646122455597, 0.08791813999414444, 0.06111342832446098, 0.8555879592895508, 0.12173480540513992, 0.020289134234189987, 0.08115653693675995, 0.7912762761116028, 0.2735401391983032, 0.13064603507518768, 0.06124033033847809, 0.46134382486343384, 0.07348839938640594, 0.5345860123634338, 0.071756511926651, 0.16145215928554535, 0.19374258816242218, 0.03946608304977417, 0.06455185264348984, 0.9037259817123413, 0.08108597248792648, 0.08108597248792648, 0.810859739780426, 0.2131665199995041, 0.23961783945560455, 0.1493721604347229, 0.3049681484699249, 0.09180163592100143, 0.9084515571594238, 0.07756363600492477, 0.1776457577943802, 0.20516833662986755, 0.47789210081100464, 0.06004926934838295, 0.29413294792175293, 0.12731127440929413, 0.32047322392463684, 0.17121171951293945, 0.08780088275671005, 0.8682907819747925, 0.07893552631139755, 0.8825098872184753, 0.9215728640556335, 0.03686291351914406, 0.8876843452453613, 0.9516826868057251, 0.0078374482691288, 0.8777942061424255, 0.0470246896147728, 0.054862137883901596, 0.0078374482691288, 0.9244477152824402, 0.05784858018159866, 0.05784858018159866, 0.05784858018159866, 0.8677287101745605, 0.8934083580970764, 0.912752628326416, 0.1934358924627304, 0.020361673086881638, 0.7228394150733948, 0.010180836543440819, 0.06108501926064491, 0.20073415338993073, 0.0361979603767395, 0.13821040093898773, 0.342235267162323, 0.28300222754478455, 0.040507279336452484, 0.6365429759025574, 0.0347205251455307, 0.17938938736915588, 0.10994832962751389, 0.8598178029060364, 0.0955900326371193, 0.0955900326371193, 0.8603102564811707, 0.880082905292511, 0.03934801369905472, 0.7990673780441284, 0.051455095410346985, 0.09685664623975754, 0.012107080779969692, 0.02856989949941635, 0.9142367839813232, 0.02856989949941635, 0.07362207025289536, 0.024540690705180168, 0.03681103512644768, 0.834383487701416, 0.024540690705180168, 0.09796103835105896, 0.04898051917552948, 0.8326687812805176, 0.04898051917552948, 0.9619897603988647, 0.5579754114151001, 0.17157383263111115, 0.1384125053882599, 0.1110183596611023, 0.020185155794024467, 0.02736511453986168, 0.10946045815944672, 0.8209534287452698, 0.05473022907972336, 0.7996867299079895, 0.0410095751285553, 0.02050478756427765, 0.0820191502571106, 0.061514366418123245, 0.1106792464852333, 0.15284276008605957, 0.35048428177833557, 0.35048428177833557, 0.036893080919981, 0.8807227611541748, 0.9137489199638367, 0.07028837502002716, 0.9544017314910889, 0.06817155331373215, 0.7670035362243652, 0.14277856051921844, 0.5877164006233215, 0.16270115971565247, 0.0796903595328331, 0.023243023082613945, 0.22176317870616913, 0.08448120951652527, 0.29568424820899963, 0.36326920986175537, 0.03590451553463936, 0.23329119384288788, 0.015552746132016182, 0.10886922478675842, 0.015552746132016182, 0.6376625895500183, 0.883622407913208, 0.12563380599021912, 0.053209614008665085, 0.14484839141368866, 0.24092130362987518, 0.4345451891422272, 0.12297791242599487, 0.48312750458717346, 0.21521134674549103, 0.14493824541568756, 0.035136546939611435, 0.8591063022613525, 0.026327602565288544, 0.05704313516616821, 0.15357767045497894, 0.5002244114875793, 0.26327601075172424, 0.11332163959741592, 0.0906573161482811, 0.1813146322965622, 0.6069003343582153, 0.007554776035249233, 0.047851353883743286, 0.12228678911924362, 0.2179894894361496, 0.17811337113380432, 0.4306621849536896, 0.8959710001945496, 0.9100005030632019, 0.9265416264533997, 0.12066520750522614, 0.3427988886833191, 0.06033260375261307, 0.4141010642051697, 0.05759021267294884, 0.01428751926869154, 0.00714375963434577, 0.02857503853738308, 0.11430015414953232, 0.8358198404312134, 0.06041563302278519, 0.8055418133735657, 0.06041563302278519, 0.06041563302278519, 0.020138544961810112, 0.06524357199668884, 0.9134100675582886, 0.856575071811676, 0.07138125598430634, 0.5363608598709106, 0.016994958743453026, 0.11148692667484283, 0.25492435693740845, 0.08021619915962219, 0.8925133943557739, 0.0686548724770546, 0.0343274362385273, 0.05431060865521431, 0.05431060865521431, 0.027155304327607155, 0.7875038385391235, 0.05431060865521431, 0.052982717752456665, 0.031789630651474, 0.021193087100982666, 0.11656198650598526, 0.7841442227363586, 0.043402884155511856, 0.043402884155511856, 0.17361153662204742, 0.021701442077755928, 0.7161476016044617, 0.8605971932411194, 0.1131451427936554, 0.47143810987472534, 0.08889975398778915, 0.18049344420433044, 0.1481662541627884, 0.16816279292106628, 0.11210852861404419, 0.5925736427307129, 0.06406201422214508, 0.06406201422214508, 0.2953217029571533, 0.02362573705613613, 0.08269008249044418, 0.02362573705613613, 0.5788305401802063, 0.0414419025182724, 0.0414419025182724, 0.0414419025182724, 0.828838050365448, 0.0414419025182724, 0.7920597195625305, 0.05977809056639671, 0.029889045283198357, 0.07472261786460876, 0.04483357071876526, 0.9249637126922607, 0.7688749432563782, 0.019827719777822495, 0.08812320232391357, 0.09252936393022537, 0.03084312006831169, 0.05236554145812988, 0.07854831218719482, 0.02618277072906494, 0.8378486633300781, 0.2834954261779785, 0.19795802235603333, 0.08798134326934814, 0.32993003726005554, 0.1026448979973793, 0.484485387802124, 0.16450810432434082, 0.05604122206568718, 0.2006637305021286, 0.09581241011619568, 0.9157680869102478, 0.019486812874674797, 0.7794725298881531, 0.17538131773471832, 0.019486812874674797, 0.019486812874674797, 0.14313311874866486, 0.12446358054876328, 0.4698500335216522, 0.1960301399230957, 0.06534337997436523, 0.14997054636478424, 0.1545151174068451, 0.04999018460512161, 0.2454063594341278, 0.3999214768409729, 0.43150240182876587, 0.12356659770011902, 0.14514172077178955, 0.17129337787628174, 0.12814314663410187, 0.18852831423282623, 0.24422986805438995, 0.26351118087768555, 0.08783705532550812, 0.21423672139644623, 0.8740689754486084, 0.020327186211943626, 0.06098155677318573, 0.04065437242388725, 0.04144013300538063, 0.04144013300538063, 0.04144013300538063, 0.8288026452064514, 0.04144013300538063, 0.8983269929885864, 0.8756296038627625, 0.11907780915498734, 0.29333803057670593, 0.20766007900238037, 0.17280803620815277, 0.20620791614055634, 0.08713507652282715, 0.048074524849653244, 0.7872203588485718, 0.030046578496694565, 0.045069869607686996, 0.9023371934890747, 0.2370583415031433, 0.09176451712846756, 0.053529299795627594, 0.09941156208515167, 0.5199989080429077, 0.7239940762519836, 0.06902486085891724, 0.10967282950878143, 0.05982154607772827, 0.038347143679857254, 0.04805030673742294, 0.24292099475860596, 0.41643598675727844, 0.16016769409179688, 0.13080361485481262, 0.8167566061019897, 0.15045516192913055, 0.021493595093488693, 0.9191985130310059, 0.8509232401847839, 0.07419093698263168, 0.8902912735939026, 0.9215887784957886, 0.5480133295059204, 0.1170513927936554, 0.18089760839939117, 0.10641035437583923, 0.050544921308755875, 0.8567204475402832, 0.09970687329769135, 0.14706763625144958, 0.05483878031373024, 0.4387102425098419, 0.2592378556728363, 0.8187835812568665, 0.052213624119758606, 0.8876315951347351, 0.255880743265152, 0.0950414165854454, 0.47155165672302246, 0.13159580528736115, 0.0475207082927227, 0.1882687360048294, 0.6446778178215027, 0.011410227045416832, 0.07987158745527267, 0.07416646927595139, 0.0672459751367569, 0.8741977214813232, 0.03362298756837845, 0.03362298756837845, 0.017006708309054375, 0.136053666472435, 0.7482951879501343, 0.10204025357961655, 0.5067154765129089, 0.05494505167007446, 0.19169718027114868, 0.17338216304779053, 0.07326006889343262, 0.01342006865888834, 0.02684013731777668, 0.12078061699867249, 0.7381038069725037, 0.09394048154354095, 0.08356568962335587, 0.7381635904312134, 0.08356568962335587, 0.013927614316344261, 0.09749329835176468, 0.8047688007354736, 0.006786795798689127, 0.1900302767753601, 0.15609629452228546, 0.18324348330497742, 0.4615021049976349, 0.8596071004867554, 0.13855326175689697, 0.25887584686279297, 0.05469207838177681, 0.46305960416793823, 0.08386118710041046, 0.17181900143623352, 0.4329838752746582, 0.0034363800659775734, 0.27147403359413147, 0.12027329951524734, 0.33268141746520996, 0.13741189241409302, 0.04339323192834854, 0.01446441002190113, 0.47732552886009216, 0.27285608649253845, 0.07346125692129135, 0.041977860033512115, 0.052472326904535294, 0.5667011141777039, 0.93006831407547, 0.05470990017056465, 0.8842670321464539, 0.04912594333291054, 0.04912594333291054, 0.019179897382855415, 0.06712964177131653, 0.7959657907485962, 0.07671958953142166, 0.03835979476571083, 0.043786562979221344, 0.7093423008918762, 0.07005850225687027, 0.0963304340839386, 0.07881581038236618, 0.8534740209579468, 0.943350613117218, 0.9390343427658081, 0.6777942776679993, 0.05648285895586014, 0.048413876444101334, 0.2003796547651291, 0.017482789233326912, 0.03021746128797531, 0.936741292476654, 0.9323108792304993, 0.9133157134056091, 0.08302869647741318, 0.8624972701072693, 0.04312486574053764, 0.04312486574053764, 0.04312486574053764, 0.09859778732061386, 0.02817079797387123, 0.7042699456214905, 0.15493938326835632, 0.014085398986935616, 0.8596458435058594, 0.20432043075561523, 0.32756131887435913, 0.2172931581735611, 0.17351020872592926, 0.07783635705709457, 0.46906808018684387, 0.2805640697479248, 0.04164623096585274, 0.0263028834015131, 0.18192827701568604, 0.9155378937721252, 0.07273119688034058, 0.36074674129486084, 0.04945721477270126, 0.38402071595191956, 0.1338254064321518, 0.060873329639434814, 0.8826633095741272, 0.030436664819717407, 0.030436664819717407, 0.030436664819717407, 0.2216106653213501, 0.5909618139266968, 0.08125724643468857, 0.08125724643468857, 0.02954808995127678, 0.801311731338501, 0.0784974992275238, 0.0392487496137619, 0.804599404335022, 0.01962437480688095, 0.05887312814593315, 0.016439035534858704, 0.016439035534858704, 0.9370250105857849, 0.016439035534858704, 0.016439035534858704, 0.9456482529640198, 0.956318199634552, 0.018390735611319542, 0.018390735611319542, 0.009195367805659771, 0.11040571331977844, 0.03777037560939789, 0.7350696325302124, 0.06972992420196533, 0.046486616134643555, 0.892008364200592, 0.03568033501505852, 0.07136067003011703, 0.03568033501505852, 0.034553855657577515, 0.034553855657577515, 0.7947386503219604, 0.10366156697273254, 0.18226534128189087, 0.1291046142578125, 0.03417475149035454, 0.3151671290397644, 0.33795031905174255, 0.1891208440065384, 0.24986496567726135, 0.24109776318073273, 0.23295681178569794, 0.08641946315765381, 0.05239279940724373, 0.8906776309013367, 0.026196399703621864, 0.026196399703621864, 0.08643757551908493, 0.8355632424354553, 0.028812525793910027, 0.028812525793910027, 0.028812525793910027, 0.05804836004972458, 0.01934945397078991, 0.07739781588315964, 0.04837363585829735, 0.8030023574829102, 0.13772694766521454, 0.18423216044902802, 0.2414693385362625, 0.4060262143611908, 0.030407249927520752, 0.9242861270904541, 0.35057350993156433, 0.09077350050210953, 0.37874460220336914, 0.17215663194656372, 0.006260241381824017, 0.24830098450183868, 0.12275554239749908, 0.26225048303604126, 0.12833534181118011, 0.23993130028247833, 0.9225772023200989, 0.0766972154378891, 0.920366644859314, 0.10655970871448517, 0.7168562412261963, 0.00968724675476551, 0.15499594807624817, 0.01937449350953102, 0.8282321691513062, 0.038522426038980484, 0.019261213019490242, 0.038522426038980484, 0.057783640921115875, 0.08861194550991058, 0.057337142527103424, 0.04864969849586487, 0.4152599275112152, 0.38919758796691895, 0.9284103512763977, 0.13569103181362152, 0.1163066029548645, 0.39322707056999207, 0.16615228354930878, 0.18830592930316925, 0.12902681529521942, 0.03870804235339165, 0.7999662160873413, 0.025805361568927765, 0.8496683239936829, 0.2722979485988617, 0.3238137662410736, 0.26861825585365295, 0.05151582881808281, 0.0864729955792427, 0.19466166198253632, 0.4704323410987854, 0.14599624276161194, 0.12571899592876434, 0.06488721817731857, 0.9369508624076843, 0.20725755393505096, 0.18961861729621887, 0.5027098059654236, 0.004409735091030598, 0.0970141738653183, 0.8817064762115479, 0.038425929844379425, 0.8069445490837097, 0.11527778953313828, 0.0861392691731453, 0.8613926768302917, 0.6439416408538818, 0.18695080280303955, 0.09693745523691177, 0.06231693550944328, 0.013848207890987396, 0.8806110620498657, 0.00934181921184063, 0.7380037307739258, 0.05605091527104378, 0.00934181921184063, 0.186836376786232, 0.3506354093551636, 0.20611676573753357, 0.13030369579792023, 0.08528969436883926, 0.22980834543704987, 0.0765567421913147, 0.8421241641044617, 0.03827837109565735, 0.03827837109565735, 0.07618960738182068, 0.8380856513977051, 0.16158655285835266, 0.48912686109542847, 0.1528521478176117, 0.1266489177942276, 0.06987527012825012, 0.06169270724058151, 0.6169270873069763, 0.12338541448116302, 0.015423176810145378, 0.17993706464767456, 0.6428273916244507, 0.1469319760799408, 0.0734659880399704, 0.110198974609375, 0.02938639372587204, 0.7197023034095764, 0.026988837867975235, 0.07197023183107376, 0.10795535147190094, 0.07197023183107376, 0.2600691318511963, 0.023044100031256676, 0.013168057426810265, 0.5728105306625366, 0.12838855385780334, 0.11282015591859818, 0.05641007795929909, 0.8179461359977722, 0.11613284796476364, 0.038710951805114746, 0.8000262975692749, 0.025807300582528114, 0.2885831296443939, 0.486564576625824, 0.02013370580971241, 0.09060168266296387, 0.11409100145101547, 0.021764399483799934, 0.09249869734048843, 0.3101426959037781, 0.1360274851322174, 0.4407290816307068, 0.9319615960121155, 0.017541667446494102, 0.05262500047683716, 0.19295834004878998, 0.07016666978597641, 0.6841250061988831, 0.19858334958553314, 0.028369048610329628, 0.6170268058776855, 0.11347619444131851, 0.03546131029725075, 0.22261328995227814, 0.14284352958202362, 0.3747323453426361, 0.2189030647277832, 0.04081243649125099, 0.9036967158317566, 0.8683306574821472, 0.0542706660926342, 0.0542706660926342, 0.8404179215431213, 0.9087767601013184, 0.056260429322719574, 0.09376738220453262, 0.7126320600509644, 0.13127432763576508, 0.01821458339691162, 0.15482395887374878, 0.00910729169845581, 0.6830468773841858, 0.13660937547683716, 0.3535974323749542, 0.3209047317504883, 0.17550821602344513, 0.10582113265991211, 0.04473738744854927, 0.9102169275283813, 0.08274699002504349, 0.9443556070327759, 0.8059099316596985, 0.8474442362785339, 0.0672866702079773, 0.0672866702079773, 0.0672866702079773, 0.8747267723083496, 0.8579254150390625, 0.08579254150390625, 0.8726470470428467, 0.923545241355896, 0.0949520617723465, 0.8545685410499573, 0.06398990005254745, 0.6764646768569946, 0.009141414426267147, 0.1645454615354538, 0.09141414612531662, 0.4680880904197693, 0.09616311639547348, 0.1781845986843109, 0.13434553146362305, 0.12303221970796585, 0.0753040611743927, 0.7718666195869446, 0.0753040611743927, 0.018826015293598175, 0.056478045880794525, 0.4048609435558319, 0.0038928936701267958, 0.4243254065513611, 0.09732233732938766, 0.06617919355630875, 0.8488864302635193, 0.03395545482635498, 0.10186637192964554, 0.03076701983809471, 0.13845159113407135, 0.7076414823532104, 0.046150531619787216, 0.07691755145788193, 0.029035596176981926, 0.385758638381958, 0.5019010305404663, 0.04147942364215851, 0.04147942364215851, 0.07143576443195343, 0.8715163469314575, 0.014287153258919716, 0.028574306517839432, 0.014287153258919716, 0.14191289246082306, 0.031536199152469635, 0.7411006689071655, 0.031536199152469635, 0.06307239830493927, 0.06097069010138512, 0.14903946220874786, 0.3093698024749756, 0.22581736743450165, 0.25517362356185913, 0.04844272881746292, 0.6781981587409973, 0.1550167202949524, 0.09688545763492584, 0.009688545018434525, 0.03557298704981804, 0.07114597409963608, 0.10671896487474442, 0.7826057076454163, 0.19066201150417328, 0.2763724625110626, 0.06646932661533356, 0.12069430202245712, 0.3463401794433594, 0.08645250648260117, 0.04682844132184982, 0.1512918919324875, 0.6736091375350952, 0.04322625324130058, 0.06362573057413101, 0.8907601833343506, 0.8991526961326599, 0.16184088587760925, 0.13804075121879578, 0.1094805970788002, 0.15232083201408386, 0.4426824152469635, 0.06345945596694946, 0.8884323835372925, 0.06345945596694946, 0.11777620762586594, 0.04907342046499252, 0.6379544138908386, 0.05888810381293297, 0.13740557432174683, 0.030334187671542168, 0.23508994281291962, 0.12386459857225418, 0.4600684940814972, 0.14914308488368988, 0.911386251449585, 0.03969499096274376, 0.5972291827201843, 0.2074965536594391, 0.0974331647157669, 0.05773817002773285, 0.030442271381616592, 0.8523836135864258, 0.060884542763233185, 0.060884542763233185, 0.0944114625453949, 0.08497031778097153, 0.05664687603712082, 0.08969088643789291, 0.6750419735908508, 0.17364074289798737, 0.519132137298584, 0.1825913041830063, 0.02327144145965576, 0.10203631967306137, 0.033363137394189835, 0.033363137394189835, 0.8674415946006775, 0.033363137394189835, 0.033363137394189835, 0.8912838101387024, 0.07427365332841873, 0.13962312042713165, 0.13962312042713165, 0.05584925040602684, 0.6422663927078247, 0.022339699789881706, 0.4996347427368164, 0.045210566371679306, 0.22837132215499878, 0.030140377581119537, 0.19707170128822327, 0.8733281493186951, 0.9299927353858948], \"Term\": [\"\", \"\", \"\", \"\", \"\", \"12year\", \"12year\", \"12year\", \"12year\", \"12year\", \"13year\", \"13year\", \"13year\", \"13year\", \"13year\", \"14year\", \"14year\", \"14year\", \"14year\", \"14year\", \"16year\", \"16year\", \"16year\", \"16year\", \"22year\", \"25year\", \"25year\", \"40th\", \"40th\", \"60year\", \"6year\", \"6year\", \"6year\", \"6year\", \"8year\", \"8year\", \"8year\", \"abrahams\", \"abrahams\", \"abrahams\", \"abrahams\", \"acceptance\", \"accessory\", \"accommodation\", \"accommodation\", \"accuse\", \"accuse\", \"accuse\", \"accuse\", \"accuse\", \"africa\", \"africa\", \"africa\", \"africa\", \"africa\", \"alison\", \"alison\", \"alison\", \"allegedly\", \"allegedly\", \"allegedly\", \"allegedly\", \"allegedly\", \"alternative\", \"alternative\", \"amendment\", \"amendment\", \"amendment\", \"amy\", \"amy\", \"amy\", \"amy\", \"amy\", \"anniversary\", \"anniversary\", \"anniversary\", \"anniversary\", \"anniversary\", \"announce\", \"announce\", \"announce\", \"announce\", \"announce\", \"app\", \"app\", \"app\", \"app\", \"app\", \"army\", \"army\", \"army\", \"army\", \"arrest\", \"arrest\", \"arrest\", \"arrest\", \"arrest\", \"assassin\", \"assassin\", \"assassin\", \"assassin\", \"astronaut\", \"astronaut\", \"astronaut\", \"astronaut\", \"astronaut\", \"asuka\", \"asuka\", \"attack\", \"attack\", \"attack\", \"attack\", \"attack\", \"aung\", \"b\", \"b\", \"b\", \"b\", \"b\", \"baby\", \"baby\", \"baby\", \"baby\", \"baby\", \"bachelorette\", \"bachelorette\", \"bachelorette\", \"bachelorette\", \"bachelorette\", \"bader\", \"bader\", \"bader\", \"bader\", \"bake\", \"bake\", \"bake\", \"bake\", \"bake\", \"bang\", \"bank\", \"bank\", \"bank\", \"bank\", \"bank\", \"barrett\", \"barrett\", \"barrett\", \"barrett\", \"barrett\", \"batwoman\", \"batwoman\", \"batwoman\", \"biden\", \"biden\", \"biden\", \"biden\", \"biden\", \"big\", \"big\", \"big\", \"big\", \"big\", \"bike\", \"bike\", \"bike\", \"bike\", \"bike\", \"billboard\", \"billboard\", \"billboard\", \"billboard\", \"birthday\", \"birthday\", \"birthday\", \"birthday\", \"birthday\", \"black\", \"black\", \"black\", \"black\", \"black\", \"body\", \"body\", \"body\", \"body\", \"body\", \"bois\", \"braun\", \"braun\", \"braun\", \"brie\", \"brie\", \"britney\", \"britney\", \"britney\", \"britney\", \"britney\", \"bulldog\", \"bulldog\", \"bulldog\", \"business\", \"business\", \"business\", \"business\", \"business\", \"call\", \"call\", \"call\", \"call\", \"call\", \"canal\", \"canal\", \"canal\", \"capitan\", \"capitan\", \"capitan\", \"car\", \"car\", \"car\", \"car\", \"car\", \"cardi\", \"cardi\", \"cardi\", \"cardi\", \"cardi\", \"caster\", \"caster\", \"caster\", \"caster\", \"certify\", \"change\", \"change\", \"change\", \"change\", \"change\", \"channel\", \"channel\", \"child\", \"child\", \"child\", \"child\", \"child\", \"china\", \"china\", \"china\", \"china\", \"china\", \"choke\", \"choke\", \"choke\", \"choke\", \"choke\", \"claim\", \"claim\", \"claim\", \"claim\", \"claim\", \"clare\", \"clare\", \"clare\", \"clare\", \"cocker\", \"come\", \"come\", \"come\", \"come\", \"come\", \"coney\", \"coney\", \"coney\", \"coney\", \"consort\", \"convert\", \"convert\", \"convert\", \"cookbook\", \"coronavirus\", \"coronavirus\", \"coronavirus\", \"coronavirus\", \"coronavirus\", \"course\", \"course\", \"course\", \"course\", \"court\", \"court\", \"court\", \"court\", \"court\", \"covid\", \"covid\", \"covid\", \"covid\", \"covid\", \"covid19\", \"covid19\", \"covid19\", \"covid19\", \"covid19\", \"crawley\", \"creed\", \"creed\", \"creed\", \"crime\", \"crime\", \"crime\", \"crime\", \"crime\", \"cuoco\", \"cuoco\", \"cuoco\", \"cutie\", \"daisy\", \"dale\", \"dan\", \"day\", \"day\", \"day\", \"day\", \"day\", \"dead\", \"dead\", \"dead\", \"dead\", \"dead\", \"death\", \"death\", \"death\", \"death\", \"death\", \"decomposed\", \"delhi\", \"delhi\", \"delhi\", \"delhi\", \"delhi\", \"depp\", \"depp\", \"depp\", \"derail\", \"derail\", \"diana\", \"diana\", \"diana\", \"diana\", \"diana\", \"die\", \"die\", \"die\", \"die\", \"die\", \"diplomat\", \"diplomat\", \"diplomat\", \"diver\", \"dominic\", \"douse\", \"dragon\", \"dragon\", \"drive\", \"drive\", \"drive\", \"drive\", \"drive\", \"duff\", \"easter\", \"easter\", \"easter\", \"election\", \"election\", \"election\", \"election\", \"election\", \"empower\", \"empower\", \"empower\", \"empower\", \"ernst\", \"espncricinfocom\", \"espncricinfocom\", \"espncricinfocom\", \"espncricinfocom\", \"espncricinfocom\", \"expert\", \"expert\", \"expert\", \"expert\", \"expert\", \"eyeball\", \"face\", \"face\", \"face\", \"face\", \"face\", \"family\", \"family\", \"family\", \"family\", \"family\", \"faridabad\", \"ferdinand\", \"find\", \"find\", \"find\", \"find\", \"find\", \"fire\", \"fire\", \"fire\", \"fire\", \"fire\", \"flat\", \"flat\", \"flat\", \"flat\", \"flat\", \"folklore\", \"gaga\", \"gaga\", \"gaga\", \"gaga\", \"gaga\", \"game\", \"game\", \"game\", \"game\", \"game\", \"gandhi\", \"gandhi\", \"gandhi\", \"gandhi\", \"gang\", \"gang\", \"gang\", \"gang\", \"gang\", \"gangrape\", \"gangrape\", \"gangrape\", \"gangrape\", \"garraway\", \"gender\", \"gender\", \"gender\", \"gender\", \"gender\", \"german\", \"german\", \"german\", \"german\", \"german\", \"get\", \"get\", \"get\", \"get\", \"get\", \"gf\", \"ghislaine\", \"ghislaine\", \"ghislaine\", \"gigi\", \"gigi\", \"gigi\", \"ginsburg\", \"ginsburg\", \"ginsburg\", \"ginsburg\", \"ginsburg\", \"go\", \"go\", \"go\", \"go\", \"go\", \"good\", \"good\", \"good\", \"good\", \"good\", \"gossip\", \"gossip\", \"gossip\", \"gossip\", \"goswami\", \"goswami\", \"great\", \"great\", \"great\", \"great\", \"great\", \"grohl\", \"grooming\", \"guatemalan\", \"guide\", \"guide\", \"guide\", \"guide\", \"guide\", \"guild\", \"guild\", \"halep\", \"halep\", \"hammond\", \"harassment\", \"harassment\", \"harassment\", \"harassment\", \"harassment\", \"harris\", \"harris\", \"harris\", \"harris\", \"harris\", \"hbo\", \"hbo\", \"hbo\", \"hbo\", \"hbo\", \"heel\", \"heel\", \"help\", \"help\", \"help\", \"help\", \"help\", \"hilary\", \"hilary\", \"hillary\", \"hillary\", \"hillary\", \"hillary\", \"history\", \"history\", \"history\", \"history\", \"history\", \"hold\", \"hold\", \"hold\", \"hold\", \"hold\", \"hologram\", \"hologram\", \"homage\", \"homage\", \"homage\", \"home\", \"home\", \"home\", \"home\", \"home\", \"hostage\", \"house\", \"house\", \"house\", \"house\", \"house\", \"husband\", \"husband\", \"husband\", \"husband\", \"husband\", \"idol\", \"idol\", \"ig\", \"indira\", \"indira\", \"inhuman\", \"inner\", \"inspire\", \"inspire\", \"inspire\", \"inspire\", \"inspire\", \"isabel\", \"jacket\", \"jacket\", \"jacket\", \"jacket\", \"jason\", \"jio\", \"jk\", \"jk\", \"jk\", \"jk\", \"jk\", \"job\", \"job\", \"job\", \"job\", \"job\", \"joe\", \"joe\", \"joe\", \"joe\", \"joe\", \"jolie\", \"kaley\", \"kaley\", \"kaley\", \"kalk\", \"kamala\", \"kamala\", \"kamala\", \"kamala\", \"kamala\", \"kanye\", \"kanye\", \"kanye\", \"kardashian\", \"kardashian\", \"kardashian\", \"kardashian\", \"kardashian\", \"khloe\", \"khloe\", \"khloe\", \"khloe\", \"khushbu\", \"kill\", \"kill\", \"kill\", \"kill\", \"kill\", \"kiss\", \"kiss\", \"kiss\", \"kiss\", \"knife\", \"knife\", \"knife\", \"knife\", \"knife\", \"know\", \"know\", \"know\", \"know\", \"know\", \"kyi\", \"langsford\", \"langsford\", \"lara\", \"lara\", \"lazy\", \"lead\", \"lead\", \"lead\", \"lead\", \"lead\", \"leave\", \"leave\", \"leave\", \"leave\", \"leave\", \"lesson\", \"lesson\", \"lesson\", \"lesson\", \"lesson\", \"library\", \"life\", \"life\", \"life\", \"life\", \"life\", \"little\", \"little\", \"little\", \"little\", \"little\", \"locker\", \"long\", \"long\", \"long\", \"long\", \"long\", \"look\", \"look\", \"look\", \"look\", \"look\", \"lose\", \"lose\", \"lose\", \"lose\", \"lose\", \"loud\", \"lovecraft\", \"maboe\", \"make\", \"make\", \"make\", \"make\", \"make\", \"makesefakese\", \"makesefakese\", \"makesefakese\", \"makesefakese\", \"makesefakese\", \"makeup\", \"makeup\", \"makeup\", \"makeup\", \"makeup\", \"malik\", \"malik\", \"maluleke\", \"maluleke\", \"man\", \"man\", \"man\", \"man\", \"man\", \"marlins\", \"marlins\", \"marlins\", \"maternity\", \"maternity\", \"maternity\", \"maternity\", \"maternity\", \"max\", \"max\", \"max\", \"max\", \"max\", \"maxwell\", \"maxwell\", \"maxwell\", \"maxwell\", \"maxwell\", \"mcann\", \"meet\", \"meet\", \"meet\", \"meet\", \"meet\", \"megan\", \"megan\", \"megan\", \"megan\", \"megan\", \"michelle\", \"michelle\", \"michelle\", \"michelle\", \"michelle\", \"minaj\", \"minaj\", \"minaj\", \"minaj\", \"minaj\", \"minor\", \"minor\", \"minor\", \"minor\", \"minor\", \"miscarry\", \"miss\", \"miss\", \"miss\", \"miss\", \"miss\", \"mobile\", \"mobile\", \"mobile\", \"mobile\", \"mother\", \"mother\", \"mother\", \"mother\", \"mother\", \"murder\", \"murder\", \"murder\", \"murder\", \"murder\", \"nadal\", \"naomi\", \"naomi\", \"naomi\", \"naomi\", \"naomi\", \"need\", \"need\", \"need\", \"need\", \"need\", \"netflix\", \"netflix\", \"netflix\", \"netflix\", \"netflix\", \"new\", \"new\", \"new\", \"new\", \"new\", \"news\", \"news\", \"news\", \"news\", \"news\", \"ng\", \"ng\", \"ng\", \"ng\", \"nicki\", \"nicki\", \"nicki\", \"nicki\", \"nicki\", \"nikita\", \"nikola\", \"not\", \"not\", \"not\", \"not\", \"not\", \"november\", \"november\", \"november\", \"november\", \"november\", \"nutritionist\", \"obama\", \"obama\", \"obama\", \"obama\", \"obama\", \"old\", \"old\", \"old\", \"old\", \"old\", \"open\", \"open\", \"open\", \"open\", \"open\", \"osaka\", \"osaka\", \"osaka\", \"outdated\", \"outdoor\", \"owens\", \"owens\", \"palin\", \"pandemic\", \"pandemic\", \"pandemic\", \"pandemic\", \"pandemic\", \"parineeti\", \"pay\", \"pay\", \"pay\", \"pay\", \"pay\", \"peaceful\", \"pentagon\", \"pentagon\", \"photo\", \"photo\", \"photo\", \"photo\", \"photo\", \"pick\", \"pick\", \"pick\", \"pick\", \"pick\", \"plant\", \"plant\", \"plant\", \"plant\", \"podcast\", \"podcast\", \"podcast\", \"podcast\", \"police\", \"police\", \"police\", \"police\", \"police\", \"political\", \"political\", \"political\", \"political\", \"political\", \"poll\", \"poll\", \"poll\", \"poll\", \"poll\", \"porsche\", \"power\", \"power\", \"power\", \"power\", \"power\", \"precious\", \"pregnant\", \"pregnant\", \"pregnant\", \"pregnant\", \"pregnant\", \"president\", \"president\", \"president\", \"president\", \"president\", \"princess\", \"princess\", \"princess\", \"princess\", \"princess\", \"prison\", \"prison\", \"prison\", \"prison\", \"prison\", \"promotion\", \"promotion\", \"punjab\", \"punjab\", \"punjab\", \"puppy\", \"puppy\", \"puppy\", \"puppy\", \"puppy\", \"race\", \"race\", \"race\", \"race\", \"race\", \"racecard\", \"rafale\", \"rani\", \"rape\", \"rape\", \"rape\", \"rape\", \"rape\", \"raw\", \"raw\", \"recycle\", \"reddy\", \"reddy\", \"reference\", \"reference\", \"reference\", \"reference\", \"republican\", \"republican\", \"republican\", \"republican\", \"republican\", \"retweet\", \"reveal\", \"reveal\", \"reveal\", \"reveal\", \"reveal\", \"review\", \"review\", \"review\", \"review\", \"review\", \"rewrite\", \"right\", \"right\", \"right\", \"right\", \"right\", \"robbery\", \"robbery\", \"robbery\", \"robbery\", \"robbery\", \"role\", \"role\", \"role\", \"role\", \"role\", \"rollins\", \"rose\", \"rose\", \"rose\", \"rose\", \"rose\", \"rowling\", \"rowling\", \"rowling\", \"rowling\", \"rowling\", \"royals\", \"ruth\", \"ruth\", \"ruth\", \"ruth\", \"sale\", \"sale\", \"sale\", \"sale\", \"sale\", \"salt\", \"salt\", \"salt\", \"salt\", \"sasha\", \"sasha\", \"sasha\", \"sasha\", \"save\", \"save\", \"save\", \"save\", \"save\", \"say\", \"say\", \"say\", \"say\", \"say\", \"scooter\", \"scooter\", \"scooter\", \"scooter\", \"semenya\", \"semenya\", \"semenya\", \"semenya\", \"semenya\", \"sentence\", \"sentence\", \"sentence\", \"sentence\", \"sentence\", \"share\", \"share\", \"share\", \"share\", \"share\", \"sherrock\", \"shoot\", \"shoot\", \"shoot\", \"shoot\", \"shoot\", \"show\", \"show\", \"show\", \"show\", \"show\", \"shroff\", \"simona\", \"simona\", \"singer\", \"singer\", \"singer\", \"singer\", \"singer\", \"soccer\", \"soccer\", \"soccer\", \"soccer\", \"soccer\", \"south\", \"south\", \"south\", \"south\", \"south\", \"spaniel\", \"sport\", \"sport\", \"sport\", \"sport\", \"sport\", \"stallion\", \"stallion\", \"stallion\", \"stallion\", \"stalwart\", \"star\", \"star\", \"star\", \"star\", \"star\", \"state\", \"state\", \"state\", \"state\", \"state\", \"stellenbosch\", \"stop\", \"stop\", \"stop\", \"stop\", \"stop\", \"sundar\", \"sunderland\", \"sunderland\", \"sunderland\", \"survival\", \"survival\", \"suspect\", \"suspect\", \"suspect\", \"suspect\", \"suspect\", \"suu\", \"swift\", \"swift\", \"swift\", \"swift\", \"swift\", \"take\", \"take\", \"take\", \"take\", \"take\", \"talent\", \"talent\", \"talent\", \"talent\", \"taliban\", \"taliban\", \"talk\", \"talk\", \"talk\", \"talk\", \"talk\", \"taylor\", \"taylor\", \"taylor\", \"taylor\", \"taylor\", \"team\", \"team\", \"team\", \"team\", \"team\", \"teenage\", \"teenage\", \"teenage\", \"teenage\", \"teenage\", \"test\", \"test\", \"test\", \"test\", \"test\", \"theater\", \"theater\", \"theater\", \"thee\", \"thee\", \"thee\", \"thee\", \"theill\", \"theill\", \"theill\", \"theill\", \"theill\", \"thing\", \"thing\", \"thing\", \"thing\", \"thing\", \"tick\", \"tik\", \"tik\", \"tik\", \"tik\", \"tik\", \"tikok\", \"tikok\", \"tikok\", \"tikok\", \"tikok\", \"time\", \"time\", \"time\", \"time\", \"time\", \"tomar\", \"tongue\", \"tongue\", \"tongue\", \"toyota\", \"trample\", \"transcript\", \"transcript\", \"transcript\", \"transcript\", \"tribute\", \"tribute\", \"tribute\", \"tribute\", \"tribute\", \"trump\", \"trump\", \"trump\", \"trump\", \"trump\", \"tsakani\", \"tsakani\", \"u17\", \"unapologetically\", \"unisa\", \"upgrade\", \"upgrade\", \"upgrade\", \"upgrade\", \"uri\", \"uri\", \"valhalla\", \"verdict\", \"vermis\", \"vermis\", \"vice\", \"vice\", \"vice\", \"vice\", \"vice\", \"video\", \"video\", \"video\", \"video\", \"video\", \"viewer\", \"viewer\", \"viewer\", \"viewer\", \"viewer\", \"viral\", \"viral\", \"viral\", \"viral\", \"viral\", \"vmas\", \"vmas\", \"vmas\", \"vodacom\", \"vodacom\", \"vodacom\", \"vodacom\", \"vodacom\", \"vote\", \"vote\", \"vote\", \"vote\", \"vote\", \"vp\", \"vp\", \"vp\", \"vp\", \"vp\", \"w\", \"w\", \"w\", \"w\", \"w\", \"want\", \"want\", \"want\", \"want\", \"want\", \"war\", \"war\", \"war\", \"war\", \"war\", \"warning\", \"warning\", \"warning\", \"warning\", \"watch\", \"watch\", \"watch\", \"watch\", \"watch\", \"way\", \"way\", \"way\", \"way\", \"way\", \"wayne\", \"wayne\", \"wednesday\", \"week\", \"week\", \"week\", \"week\", \"week\", \"weinstein\", \"weinstein\", \"weinstein\", \"welcome\", \"welcome\", \"welcome\", \"welcome\", \"welcome\", \"white\", \"white\", \"white\", \"white\", \"white\", \"wilde\", \"win\", \"win\", \"win\", \"win\", \"win\", \"wine\", \"wine\", \"wine\", \"wine\", \"wonder\", \"wonder\", \"wonder\", \"wonder\", \"wonder\", \"world\", \"world\", \"world\", \"world\", \"world\", \"wound\", \"wound\", \"wound\", \"wound\", \"wound\", \"wuhan\", \"wuhan\", \"wwe\", \"wwe\", \"wwe\", \"wwe\", \"wwe\", \"year\", \"year\", \"year\", \"year\", \"year\", \"zayn\", \"zombie\"]}, \"R\": 30, \"lambda.step\": 0.01, \"plot.opts\": {\"xlab\": \"PC1\", \"ylab\": \"PC2\"}, \"topic.order\": [1, 4, 2, 5, 3]};\n",
       "\n",
       "function LDAvis_load_lib(url, callback){\n",
       "  var s = document.createElement('script');\n",
       "  s.src = url;\n",
       "  s.async = true;\n",
       "  s.onreadystatechange = s.onload = callback;\n",
       "  s.onerror = function(){console.warn(\"failed to load library \" + url);};\n",
       "  document.getElementsByTagName(\"head\")[0].appendChild(s);\n",
       "}\n",
       "\n",
       "if(typeof(LDAvis) !== \"undefined\"){\n",
       "   // already loaded: just create the visualization\n",
       "   !function(LDAvis){\n",
       "       new LDAvis(\"#\" + \"ldavis_el1893618007221611208751686551\", ldavis_el1893618007221611208751686551_data);\n",
       "   }(LDAvis);\n",
       "}else if(typeof define === \"function\" && define.amd){\n",
       "   // require.js is available: use it to load d3/LDAvis\n",
       "   require.config({paths: {d3: \"https://cdnjs.cloudflare.com/ajax/libs/d3/3.5.5/d3.min\"}});\n",
       "   require([\"d3\"], function(d3){\n",
       "      window.d3 = d3;\n",
       "      LDAvis_load_lib(\"https://cdn.rawgit.com/bmabey/pyLDAvis/files/ldavis.v1.0.0.js\", function(){\n",
       "        new LDAvis(\"#\" + \"ldavis_el1893618007221611208751686551\", ldavis_el1893618007221611208751686551_data);\n",
       "      });\n",
       "    });\n",
       "}else{\n",
       "    // require.js not available: dynamically load d3 & LDAvis\n",
       "    LDAvis_load_lib(\"https://cdnjs.cloudflare.com/ajax/libs/d3/3.5.5/d3.min.js\", function(){\n",
       "         LDAvis_load_lib(\"https://cdn.rawgit.com/bmabey/pyLDAvis/files/ldavis.v1.0.0.js\", function(){\n",
       "                 new LDAvis(\"#\" + \"ldavis_el1893618007221611208751686551\", ldavis_el1893618007221611208751686551_data);\n",
       "            })\n",
       "         });\n",
       "}\n",
       "</script>"
      ],
      "text/plain": [
       "PreparedData(topic_coordinates=              x         y  topics  cluster       Freq\n",
       "topic                                                \n",
       "0      0.043911  0.027451       1        1  23.801180\n",
       "3      0.008691 -0.093787       2        1  20.029810\n",
       "1      0.055627 -0.040453       3        1  19.845827\n",
       "4      0.051690  0.089494       4        1  19.212656\n",
       "2     -0.159918  0.017296       5        1  17.110525, topic_info=         Term          Freq         Total Category  logprob  loglift\n",
       "26             11870.000000  11870.000000  Default  30.0000  30.0000\n",
       "323       old   1303.000000   1303.000000  Default  29.0000  29.0000\n",
       "141      good    684.000000    684.000000  Default  28.0000  28.0000\n",
       "355       man   1471.000000   1471.000000  Default  27.0000  27.0000\n",
       "49       find    908.000000    908.000000  Default  26.0000  26.0000\n",
       "...       ...           ...           ...      ...      ...      ...\n",
       "355       man    118.140999   1471.024536   Topic5  -6.0014  -0.7564\n",
       "116       day     98.076019    594.370300   Topic5  -6.1875  -0.0363\n",
       "1763     show     86.108673    358.435944   Topic5  -6.3177   0.3393\n",
       "380   covid19     92.129005    738.937073   Topic5  -6.2501  -0.3165\n",
       "333     video     87.450180    707.131836   Topic5  -6.3022  -0.3247\n",
       "\n",
       "[465 rows x 6 columns], token_table=      Topic      Freq    Term\n",
       "term                         \n",
       "26        1  0.059308        \n",
       "26        2  0.106569        \n",
       "26        3  0.025189        \n",
       "26        4  0.019713        \n",
       "26        5  0.789203        \n",
       "...     ...       ...     ...\n",
       "246       3  0.228371    year\n",
       "246       4  0.030140    year\n",
       "246       5  0.197072    year\n",
       "4956      3  0.873328    zayn\n",
       "5526      2  0.929993  zombie\n",
       "\n",
       "[1349 rows x 3 columns], R=30, lambda_step=0.01, plot_opts={'xlab': 'PC1', 'ylab': 'PC2'}, topic_order=[1, 4, 2, 5, 3])"
      ]
     },
     "execution_count": 353,
     "metadata": {},
     "output_type": "execute_result"
    }
   ],
   "source": [
    "#Creating Topic Distance Visualization \n",
    "pyLDAvis.enable_notebook()\n",
    "pyLDAvis.gensim.prepare(base_model, corpus, id2word)"
   ]
  },
  {
   "cell_type": "markdown",
   "metadata": {},
   "source": [
    "#### Hyperparameter Tuning\n",
    "##### Grid Search\n",
    "The most important tuning parameter for LDA models is n_components (number of topics). In addition, we are going to search learning_decay (which controls the learning rate) as well. Besides these, other possible search params could be learning_offset (down weight early iterations. Should be > 1) and max_iter. These could be worth experimenting if you have enough time and computing resources.\n",
    "Be warned, the grid search constructs multiple LDA models for all possible combinations of param values in the param_grid dict. So, this process can consume a lot of time and resources."
   ]
  },
  {
   "cell_type": "code",
   "execution_count": 364,
   "metadata": {},
   "outputs": [
    {
     "name": "stderr",
     "output_type": "stream",
     "text": [
      "C:\\Users\\Leonardo\\Anaconda3\\lib\\site-packages\\ipykernel\\ipkernel.py:287: DeprecationWarning: `should_run_async` will not call `transform_cell` automatically in the future. Please pass the result to `transformed_cell` argument and any exception that happen during thetransform in `preprocessing_exc_tuple` in IPython 7.17 and above.\n",
      "  and should_run_async(code)\n"
     ]
    },
    {
     "name": "stdout",
     "output_type": "stream",
     "text": [
      "Best Model's Params:  {'learning_decay': 0.7, 'n_components': 10}\n",
      "Best Log Likelihood Score:  -669623.7260882035\n",
      "Model Perplexity:  8939.408845358148\n"
     ]
    }
   ],
   "source": [
    "vectorizer = CountVectorizer()\n",
    "data_vectorized = vectorizer.fit_transform(df_cl_sent['clean_headline_str'])\n",
    "\n",
    "# Define Search Param\n",
    "search_params = {'n_components': [10, 15, 20, 25, 30], 'learning_decay': [.5, .7, .9]}\n",
    "\n",
    "# Init the Model\n",
    "lda = LatentDirichletAllocation()\n",
    "\n",
    "# Init Grid Search Class\n",
    "model = GridSearchCV(lda, param_grid=search_params)\n",
    "\n",
    "# Do the Grid Search\n",
    "model.fit(data_vectorized)\n",
    "GridSearchCV(cv=None, error_score='raise',\n",
    "             estimator=LatentDirichletAllocation(batch_size=128, \n",
    "                                                 doc_topic_prior=None,\n",
    "                                                 evaluate_every=-1, \n",
    "                                                 learning_decay=0.7, \n",
    "                                                 learning_method=None,\n",
    "                                                 learning_offset=10.0, \n",
    "                                                 max_doc_update_iter=100, \n",
    "                                                 max_iter=10,\n",
    "                                                 mean_change_tol=0.001, \n",
    "                                                 n_components=10, \n",
    "                                                 n_jobs=1,\n",
    "                                                 perp_tol=0.1, \n",
    "                                                 random_state=None,\n",
    "                                                 topic_word_prior=None, \n",
    "                                                 total_samples=1000000.0, \n",
    "                                                 verbose=0),\n",
    "             iid=True, n_jobs=1,\n",
    "             param_grid={'n_topics': [10, 15, 20, 30], \n",
    "                         'learning_decay': [0.5, 0.7, 0.9]},\n",
    "             pre_dispatch='2*n_jobs', refit=True, return_train_score='warn',\n",
    "             scoring=None, verbose=0)\n",
    "\n",
    "# Best Model\n",
    "best_lda_model = model.best_estimator_\n",
    "\n",
    "# Model Parameters\n",
    "print(\"Best Model's Params: \", model.best_params_)\n",
    "\n",
    "# Log Likelihood Score\n",
    "print(\"Best Log Likelihood Score: \", model.best_score_)\n",
    "\n",
    "# Perplexity\n",
    "print(\"Model Perplexity: \", best_lda_model.perplexity(data_vectorized))"
   ]
  },
  {
   "cell_type": "markdown",
   "metadata": {},
   "source": [
    "#### Optimum number of topics\n",
    "Our approach to finding the optimal number of topics was to build many LDA models with different values of number of topics and pick the one that gives the highest coherence value."
   ]
  },
  {
   "cell_type": "code",
   "execution_count": 365,
   "metadata": {},
   "outputs": [
    {
     "name": "stderr",
     "output_type": "stream",
     "text": [
      "C:\\Users\\Leonardo\\Anaconda3\\lib\\site-packages\\ipykernel\\ipkernel.py:287: DeprecationWarning: `should_run_async` will not call `transform_cell` automatically in the future. Please pass the result to `transformed_cell` argument and any exception that happen during thetransform in `preprocessing_exc_tuple` in IPython 7.17 and above.\n",
      "  and should_run_async(code)\n"
     ]
    }
   ],
   "source": [
    "#Defining a function to loop over number of topics to be used to find an \n",
    "#optimal number of tipics\n",
    "def compute_coherence_values(dictionary, corpus, texts, limit, start=2, step=3):\n",
    "    \"\"\"\n",
    "    Compute c_v coherence for various number of topics\n",
    "\n",
    "    Parameters:\n",
    "    ----------\n",
    "    dictionary : Gensim dictionary\n",
    "    corpus : Gensim corpus\n",
    "    texts : List of input texts\n",
    "    limit : Max num of topics\n",
    "\n",
    "    Returns:\n",
    "    -------\n",
    "    model_list : List of LDA topic models\n",
    "    coherence_values : Coherence values corresponding to the \n",
    "    LDA model with respective number of topics\n",
    "    \"\"\"\n",
    "    coherence_values_topic = []\n",
    "    model_list_topic = []\n",
    "    for num_topics in range(start, limit, step):\n",
    "        model = LdaMulticore(corpus=corpus, num_topics=num_topics, id2word=id2word)\n",
    "        model_list_topic.append(model)\n",
    "        coherencemodel = CoherenceModel(model=model, texts=texts, dictionary=dictionary, coherence='c_v')\n",
    "        coherence_values_topic.append(coherencemodel.get_coherence())\n",
    "\n",
    "    return model_list_topic, coherence_values_topic\n",
    "\n",
    "# Can take a long time to run.\n",
    "model_list_topic, coherence_values_topic = compute_coherence_values(dictionary=id2word,\n",
    "                                                        corpus=corpus,\n",
    "                                                        texts=df_cl_sent['clean_hl_words'],\n",
    "                                                        start=2, limit=200, step=6)"
   ]
  },
  {
   "cell_type": "code",
   "execution_count": null,
   "metadata": {},
   "outputs": [],
   "source": [
    "model_5_2 = LdaMulticore(corpus=corpus,\n",
    "                       id2word=id2word,\n",
    "                       num_topics=68,\n",
    "                       random_state=42,\n",
    "                       chunksize=2000,\n",
    "                       passes=25,\n",
    "                       decay=0.5,\n",
    "                       iterations=70)"
   ]
  },
  {
   "cell_type": "code",
   "execution_count": 367,
   "metadata": {},
   "outputs": [
    {
     "name": "stderr",
     "output_type": "stream",
     "text": [
      "C:\\Users\\Leonardo\\Anaconda3\\lib\\site-packages\\ipykernel\\ipkernel.py:287: DeprecationWarning: `should_run_async` will not call `transform_cell` automatically in the future. Please pass the result to `transformed_cell` argument and any exception that happen during thetransform in `preprocessing_exc_tuple` in IPython 7.17 and above.\n",
      "  and should_run_async(code)\n"
     ]
    },
    {
     "data": {
      "text/plain": [
       "[0.25764475959387223,\n",
       " 0.24157983667736366,\n",
       " 0.29451899295617345,\n",
       " 0.30585544097646034,\n",
       " 0.3303647779185893,\n",
       " 0.3472870542428658,\n",
       " 0.3624408431602036,\n",
       " 0.3890357992540203,\n",
       " 0.40012034189774043,\n",
       " 0.42848743871543127,\n",
       " 0.42864955977219105,\n",
       " 0.450246476955549,\n",
       " 0.4710891597882466,\n",
       " 0.4600439632014659,\n",
       " 0.46845260872098016,\n",
       " 0.47705019212242944,\n",
       " 0.473236597644555,\n",
       " 0.4613507940818985,\n",
       " 0.4723594684586311,\n",
       " 0.45597160826727245,\n",
       " 0.44473965404557214,\n",
       " 0.40394165531731047,\n",
       " 0.350299379610915,\n",
       " 0.3605276760248142,\n",
       " 0.3481259630300554,\n",
       " 0.3832676084865181,\n",
       " 0.47623164404594964,\n",
       " 0.5116027882948676,\n",
       " 0.5386350039890698,\n",
       " 0.5917453119232614,\n",
       " 0.6223158093019352,\n",
       " 0.6439895798799521,\n",
       " 0.6379637521619209]"
      ]
     },
     "execution_count": 367,
     "metadata": {},
     "output_type": "execute_result"
    }
   ],
   "source": [
    "coherence_values_topic"
   ]
  },
  {
   "cell_type": "code",
   "execution_count": null,
   "metadata": {},
   "outputs": [],
   "source": []
  },
  {
   "cell_type": "code",
   "execution_count": null,
   "metadata": {},
   "outputs": [],
   "source": []
  },
  {
   "cell_type": "code",
   "execution_count": null,
   "metadata": {},
   "outputs": [],
   "source": []
  },
  {
   "cell_type": "markdown",
   "metadata": {},
   "source": [
    "#### Topics by Country"
   ]
  },
  {
   "cell_type": "code",
   "execution_count": null,
   "metadata": {},
   "outputs": [],
   "source": []
  },
  {
   "cell_type": "code",
   "execution_count": null,
   "metadata": {},
   "outputs": [],
   "source": []
  },
  {
   "cell_type": "code",
   "execution_count": null,
   "metadata": {},
   "outputs": [],
   "source": []
  },
  {
   "cell_type": "code",
   "execution_count": null,
   "metadata": {},
   "outputs": [],
   "source": []
  },
  {
   "cell_type": "markdown",
   "metadata": {},
   "source": [
    "### Todo\n",
    "- add more words to stopwords\n",
    "- translate time and make time stamps for each one - Sahiti\n",
    "- word frequencies by publication and country - Leo/done\n",
    "- sentiment by publication and country over time\n",
    "- Topic modelling\n",
    "- topics by publication and country over time"
   ]
  },
  {
   "cell_type": "code",
   "execution_count": null,
   "metadata": {},
   "outputs": [],
   "source": []
  },
  {
   "cell_type": "code",
   "execution_count": null,
   "metadata": {},
   "outputs": [],
   "source": []
  },
  {
   "cell_type": "code",
   "execution_count": null,
   "metadata": {},
   "outputs": [],
   "source": []
  }
 ],
 "metadata": {
  "kernelspec": {
   "display_name": "Python 3",
   "language": "python",
   "name": "python3"
  },
  "language_info": {
   "codemirror_mode": {
    "name": "ipython",
    "version": 3
   },
   "file_extension": ".py",
   "mimetype": "text/x-python",
   "name": "python",
   "nbconvert_exporter": "python",
   "pygments_lexer": "ipython3",
   "version": "3.7.3"
  }
 },
 "nbformat": 4,
 "nbformat_minor": 4
}
