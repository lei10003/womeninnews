{
 "cells": [
  {
   "cell_type": "code",
   "execution_count": 1,
   "metadata": {},
   "outputs": [],
   "source": [
    "# importing the necessary packages\n",
    "import requests\n",
    "from bs4 import BeautifulSoup\n",
    "import pandas as pd\n",
    "import numpy as np"
   ]
  },
  {
   "cell_type": "code",
   "execution_count": 2,
   "metadata": {},
   "outputs": [],
   "source": [
    "newsrooms = pd.read_csv('../data/raw/newsrooms.csv')\n",
    "newsrooms.columns = ['site', 'monthly_visits', 'country', 'country_of_pub']\n",
    "newsrooms.dropna(inplace=True)\n",
    "newsrooms = newsrooms.drop_duplicates(subset = 'site')\n",
    "newsrooms = newsrooms.sort_values(by=['country_of_pub', 'monthly_visits'], ascending=False).reset_index().drop('index', axis=1)"
   ]
  },
  {
   "cell_type": "code",
   "execution_count": 3,
   "metadata": {},
   "outputs": [],
   "source": [
    "# set dfs with sites\n",
    "UK = newsrooms[newsrooms['country_of_pub']=='UK'].reset_index().drop('index', axis=1)\n",
    "USA = newsrooms[newsrooms['country_of_pub']=='USA'].reset_index().drop('index', axis=1)\n",
    "India = newsrooms[newsrooms['country_of_pub']=='India'].reset_index().drop('index', axis=1)\n",
    "SA = newsrooms[newsrooms['country_of_pub']=='South Africa'].reset_index().drop('index', axis=1)"
   ]
  },
  {
   "cell_type": "code",
   "execution_count": 4,
   "metadata": {},
   "outputs": [],
   "source": [
    "from requests import get\n",
    "from bs4 import BeautifulSoup\n",
    "from time import sleep\n",
    "import re\n",
    "from random import randint #avoid throttling by not sending too many requests one after the other\n",
    "from warnings import warn\n",
    "from time import time\n",
    "from IPython.core.display import clear_output\n",
    "import numpy as np\n",
    "import datetime"
   ]
  },
  {
   "cell_type": "code",
   "execution_count": 95,
   "metadata": {},
   "outputs": [],
   "source": [
    "def send_request(url):\n",
    "    '''Send request and sleep if a connection error comes up.'''\n",
    "    # send request\n",
    "    try:\n",
    "        r1 = requests.get(url)\n",
    "    except (ConnectionError, OSError, TimeoutError) as e:\n",
    "        print(\"Encountered an error, F*** YOU GOOGLE, sleeping . . .\")\n",
    "        sleep(90)\n",
    "        try:\n",
    "            r1 = requests.get(url)\n",
    "        except (ConnectionError, OSError, TimeoutError) as e:\n",
    "            print(\"Encountered an error, F*** YOU GOOGLE, sleeping . . .\")\n",
    "            sleep(90)\n",
    "            try:\n",
    "                r1 = requests.get(url)\n",
    "            except (ConnectionError, OSError, TimeoutError) as e:\n",
    "                print(\"Encountered an error, F*** YOU GOOGLE, sleeping . . .\")\n",
    "                sleep(90)\n",
    "                r1 = requests.get(url)\n",
    "    # get html content\n",
    "    coverpage = r1.content\n",
    "    soup1 = BeautifulSoup(coverpage, 'html5lib')\n",
    "    \n",
    "    return soup1"
   ]
  },
  {
   "cell_type": "code",
   "execution_count": 8,
   "metadata": {},
   "outputs": [],
   "source": [
    "year = 2020\n",
    "month_ranges = [[[1, 1, year], [31, 1, year]], \n",
    "                [[1, 2, year], [28, 2, year]],\n",
    "                [[1, 3, year], [31, 3, year]],\n",
    "                [[1, 4, year], [30, 4, year]],\n",
    "                [[1, 5, year], [31, 5, year]],\n",
    "                [[1, 6, year], [30, 6, year]],\n",
    "                [[1, 7, year], [31, 7, year]],\n",
    "                [[1, 8, year], [31, 8, year]],\n",
    "                [[1, 9, year], [30, 9, year]],\n",
    "                [[1, 10, year], [31, 10, year]],\n",
    "                [[1, 11, year], [30, 11, year]],\n",
    "                [[1, 12, year], [31, 12, year]]]"
   ]
  },
  {
   "cell_type": "markdown",
   "metadata": {},
   "source": [
    "https://www.google.com/search?q=women+%7C+woman+%7C+girl+%7C+girls+%7C+female+%7C+females+%7C+lady+%7C+ladies+%7C+she+%7C+her++site:ksl.com&tbs=sbd:1,cdr:1,cd_min:1/1/2020,cd_max:1/31/2020&tbm=nws&sxsrf=ALeKk01s2qiIETbDTDSuhPCKn0BzZOKJDg:1619908923324&ei=O9mNYJ-hE_LR0PEP6dqaoAU&start=10&sa=N&ved=0ahUKEwjfqsX_xqnwAhXyKDQIHWmtBlQQ8tMDCIYB&biw=2512&bih=1298&dpr=1.5"
   ]
  },
  {
   "cell_type": "markdown",
   "metadata": {},
   "source": [
    "https://www.google.com/search?q=women+%7C+woman+%7C+girl+%7C+girls+%7C+female+%7C+females+%7C+lady+%7C+ladies+%7C+she+%7C+her++site:ksl.com&amp;tbs=sbd:1,cdr:1,cd_min:2/1/2020,cd_max:2/28/2020&amp;tbm=nws&amp;sxsrf=ALeKk01s2qiIETbDTDSuhPCKn0BzZOKJDg:1619908923324&amp;ei=O9mNYJ-hE_LR0PEP6dqaoAU&amp;start=10&amp;sa=N&amp;ved=0ahUKEwjfqsX_xqnwAhXyKDQIHWmtBlQQ8tMDCIYB&amp;biw=2512&amp;bih=1298&amp;dpr=1.5"
   ]
  },
  {
   "cell_type": "code",
   "execution_count": 104,
   "metadata": {},
   "outputs": [
    {
     "data": {
      "text/plain": [
       "'https://www.google.com/search?q=women+%7C+woman+%7C+girl+%7C+girls+%7C+female+%7C+females+%7C+lady+%7C+ladies+%7C+she+%7C+her++site:drudgereport.com&tbs=sbd:1,cdr:1,cd_min:1/1/2020,cd_max:1/31/2020&tbm=nws&sxsrf=ALeKk01s2qiIETbDTDSuhPCKn0BzZOKJDg:1619908923324&ei=O9mNYJ-hE_LR0PEP6dqaoAU&start=0&sa=N&ved=0ahUKEwjfqsX_xqnwAhXyKDQIHWmtBlQQ8tMDCIYB&biw=2512&bih=1298&dpr=1.5'"
      ]
     },
     "execution_count": 104,
     "metadata": {},
     "output_type": "execute_result"
    }
   ],
   "source": [
    "import html\n",
    "import html.parser    \n",
    "import xml.sax.saxutils as saxutils\n",
    "import urllib.parse\n",
    "from urllib.parse import urlencode\n",
    "# from w3lib.html import replace_entities\n",
    "html.unescape(\"https://www.google.com/search?q=women+%7C+woman+%7C+girl+%7C+girls+%7C+female+%7C+females+%7C+lady+%7C+ladies+%7C+she+%7C+her++site:drudgereport.com&amp;tbs=sbd:1,cdr:1,cd_min:1/1/2020,cd_max:1/31/2020&amp;tbm=nws&amp;sxsrf=ALeKk01s2qiIETbDTDSuhPCKn0BzZOKJDg:1619908923324&amp;ei=O9mNYJ-hE_LR0PEP6dqaoAU&amp;start=0&amp;sa=N&amp;ved=0ahUKEwjfqsX_xqnwAhXyKDQIHWmtBlQQ8tMDCIYB&amp;biw=2512&amp;bih=1298&amp;dpr=1.5\")\n",
    "# html.unescape(\"++site:drudgereport.com&amp;tbs=sbd:1\")"
   ]
  },
  {
   "cell_type": "code",
   "execution_count": 149,
   "metadata": {},
   "outputs": [
    {
     "data": {
      "text/plain": [
       "'https://www.google.com/search?q=women+%7C+woman+%7C+girl+%7C+girls+%7C+female+%7C+females+%7C+lady+%7C+ladies+%7C+she+%7C+her++site:drudgereport.com&tbs=sbd:1,cdr:1,cd_min:1/1/2020,cd_max:1/31/2020&tbm=nws&sxsrf=ALeKk01s2qiIETbDTDSuhPCKn0BzZOKJDg:1619908923324&ei=O9mNYJ-hE_LR0PEP6dqaoAU&start=0&sa=N&ved=0ahUKEwjfqsX_xqnwAhXyKDQIHWmtBlQQ8tMDCIYB&biw=2512&bih=1298&dpr=1.5'"
      ]
     },
     "execution_count": 149,
     "metadata": {},
     "output_type": "execute_result"
    }
   ],
   "source": [
    "t = \"https://www.google.com/search?q=women+%7C+woman+%7C+girl+%7C+girls+%7C+female+%7C+females+%7C+lady+%7C+ladies+%7C+she+%7C+her++site:drudgereport.com&amp;tbs=sbd:1,cdr:1,cd_min:1/1/2020,cd_max:1/31/2020&amp;tbm=nws&amp;sxsrf=ALeKk01s2qiIETbDTDSuhPCKn0BzZOKJDg:1619908923324&amp;ei=O9mNYJ-hE_LR0PEP6dqaoAU&amp;start=0&amp;sa=N&amp;ved=0ahUKEwjfqsX_xqnwAhXyKDQIHWmtBlQQ8tMDCIYB&amp;biw=2512&amp;bih=1298&amp;dpr=1.5\"\n",
    "t.replace(r\"&amp;\", r\"&\")"
   ]
  },
  {
   "cell_type": "code",
   "execution_count": 116,
   "metadata": {},
   "outputs": [
    {
     "data": {
      "text/plain": [
       "'https://www.google.com/search?q=women+%7C+woman+%7C+girl+%7C+girls+%7C+female+%7C+females+%7C+lady+%7C+ladies+%7C+she+%7C+her++site:drudgereport.com&tbs=sbd:1,cdr:1,cd_min:1/1/2020,cd_max:1/31/2020&tbm=nws&sxsrf=ALeKk01s2qiIETbDTDSuhPCKn0BzZOKJDg:1619908923324&ei=O9mNYJ-hE_LR0PEP6dqaoAU&start=0&sa=N&ved=0ahUKEwjfqsX_xqnwAhXyKDQIHWmtBlQQ8tMDCIYB&biw=2512&bih=1298&dpr=1.5'"
      ]
     },
     "execution_count": 116,
     "metadata": {},
     "output_type": "execute_result"
    }
   ],
   "source": [
    "unescape(t)"
   ]
  },
  {
   "cell_type": "code",
   "execution_count": 90,
   "metadata": {},
   "outputs": [
    {
     "data": {
      "text/plain": [
       "'https://www.google.com/search?q=women | woman | girl | girls | female | females | lady | ladies | she | her  site:drudgereport.com&amp;tbs=sbd:1,cdr:1,cd_min:1/1/2020,cd_max:1/31/2020&amp;tbm=nws&amp;sxsrf=ALeKk01s2qiIETbDTDSuhPCKn0BzZOKJDg:1619908923324&amp;ei=O9mNYJ-hE_LR0PEP6dqaoAU&amp;start=0&amp;sa=N&amp;ved=0ahUKEwjfqsX_xqnwAhXyKDQIHWmtBlQQ8tMDCIYB&amp;biw=2512&amp;bih=1298&amp;dpr=1.5'"
      ]
     },
     "execution_count": 90,
     "metadata": {},
     "output_type": "execute_result"
    }
   ],
   "source": [
    "urllib.parse.unquote_plus(t)"
   ]
  },
  {
   "cell_type": "code",
   "execution_count": 55,
   "metadata": {},
   "outputs": [],
   "source": [
    "soup = send_request(html.unescape(f'https://www.google.com/search?q={query[0]}++site:{sites[3]}&tbs=sbd:1,cdr:1,cd_min:{start_month}/{start_day}/{start_year},cd_max:{end_month}/{end_day}/{end_year}&tbm=nws&sxsrf=ALeKk01s2qiIETbDTDSuhPCKn0BzZOKJDg:1619908923324&ei=O9mNYJ-hE_LR0PEP6dqaoAU&start={10}&sa=N&ved=0ahUKEwjfqsX_xqnwAhXyKDQIHWmtBlQQ8tMDCIYB&biw=2512&bih=1298&dpr=1.5'))\n"
   ]
  },
  {
   "cell_type": "code",
   "execution_count": 57,
   "metadata": {},
   "outputs": [
    {
     "data": {
      "text/plain": [
       "'1 day ago'"
      ]
     },
     "execution_count": 57,
     "metadata": {},
     "output_type": "execute_result"
    }
   ],
   "source": [
    "hl = soup.find_all('div', class_='ZINbbc xpd O9g5cc uUPGi')\n",
    "hl[1].span.text"
   ]
  },
  {
   "cell_type": "code",
   "execution_count": 117,
   "metadata": {},
   "outputs": [],
   "source": [
    "r = requests.get(\"https://www.google.com/search?q=women+%7C+woman+%7C+girl+%7C+girls+%7C+female+%7C+females+%7C+lady+%7C+ladies+%7C+she+%7C+her++site:ksl.com%26tbs=sbd:1,cdr:1,cd_min:1/1/2020,cd_max:1/31/2020%26tbm=nws%26sxsrf=ALeKk01s2qiIETbDTDSuhPCKn0BzZOKJDg:1619908923324&ei=O9mNYJ-hE_LR0PEP6dqaoAU%26start=10%26sa=N%26ved=0ahUKEwjfqsX_xqnwAhXyKDQIHWmtBlQQ8tMDCIYB%26biw=2512&bih=1298%26dpr=1.5\")\n"
   ]
  },
  {
   "cell_type": "code",
   "execution_count": 304,
   "metadata": {},
   "outputs": [],
   "source": [
    "params = {\n",
    "#             \"q\":\"women+%7C+woman+%7C+girl+%7C+girls+%7C+female+%7C+females+%7C+lady+%7C+ladies+%7C+she+%7C+her++site:ksl.com\",\n",
    "            \"q\":\"women | woman | girl | girls | female | females | lady | ladies | she | her++site:ksl.com\",\n",
    "            \"tbs\":\"sbd:1,cdr:1,cd_min:1/1/2020,cd_max:1/31/2020\",\n",
    "            \"tbm\":\"nws\",\n",
    "            \"sxsrf\":\"ALeKk01s2qiIETbDTDSuhPCKn0BzZOKJDg:1619908923324\",\n",
    "            \"ei\":\"O9mNYJ-hE_LR0PEP6dqaoAU\",\n",
    "            \"start\":10,\n",
    "            \"sa\":\"N\",\n",
    "            \"ved\":\"0ahUKEwjfqsX_xqnwAhXyKDQIHWmtBlQQ8tMDCIYB\",\n",
    "            \"biw\":2512,\n",
    "            \"bih\":1298,\n",
    "            \"dpr\":1.5\n",
    "}\n",
    "\n",
    "params_str = urllib.parse.urlencode(params, safe=':+')\n",
    "\n",
    "r = requests.get(\"https://www.google.com/search?\", params=params_str)\n",
    "\n",
    "# q=women+%7C+woman+%7C+girl+%7C+girls+%7C+female+%7C+females+%7C+lady+%7C+ladies+%7C+she+%7C+her++site:ksl.com&\n",
    "# tbs=sbd:1,cdr:1,cd_min:2/1/2020,cd_max:2/28/2020&\n",
    "# tbm=nws&\n",
    "# sxsrf=ALeKk01s2qiIETbDTDSuhPCKn0BzZOKJDg:1619908923324&\n",
    "# ei=O9mNYJ-hE_LR0PEP6dqaoAU&\n",
    "# start=10&\n",
    "# sa=N&\n",
    "# ved=0ahUKEwjfqsX_xqnwAhXyKDQIHWmtBlQQ8tMDCIYB&\n",
    "# biw=2512&\n",
    "# bih=1298&\n",
    "# dpr=1.5"
   ]
  },
  {
   "cell_type": "code",
   "execution_count": 221,
   "metadata": {},
   "outputs": [
    {
     "data": {
      "text/plain": [
       "'q=women+%7C+woman+%7C+girl+%7C+girls+%7C+female+%7C+females+%7C+lady+%7C+ladies+%7C+she+%7C+her++site:ksl.com&tbs=sbd:1%2Ccdr:1%2Ccd_min:1%2F1%2F2020%2Ccd_max:1%2F31%2F2020&tbm=nws&sxsrf=ALeKk01s2qiIETbDTDSuhPCKn0BzZOKJDg:1619908923324&ei=O9mNYJ-hE_LR0PEP6dqaoAU&start=10&sa=N&ved=0ahUKEwjfqsX_xqnwAhXyKDQIHWmtBlQQ8tMDCIYB&biw=2512&bih=1298&dpr=1.5'"
      ]
     },
     "execution_count": 221,
     "metadata": {},
     "output_type": "execute_result"
    }
   ],
   "source": [
    "params_str"
   ]
  },
  {
   "cell_type": "code",
   "execution_count": 305,
   "metadata": {},
   "outputs": [
    {
     "name": "stdout",
     "output_type": "stream",
     "text": [
      "https://www.google.com/sorry/index?continue=https://www.google.com/search%3Fq%3Dwomen%2B%257C%2Bwoman%2B%257C%2Bgirl%2B%257C%2Bgirls%2B%257C%2Bfemale%2B%257C%2Bfemales%2B%257C%2Blady%2B%257C%2Bladies%2B%257C%2Bshe%2B%257C%2Bher%2B%2Bsite:ksl.com%26tbs%3Dsbd:1%252Ccdr:1%252Ccd_min:1%252F1%252F2020%252Ccd_max:1%252F31%252F2020%26tbm%3Dnws%26sxsrf%3DALeKk01s2qiIETbDTDSuhPCKn0BzZOKJDg:1619908923324%26ei%3DO9mNYJ-hE_LR0PEP6dqaoAU%26start%3D10%26sa%3DN%26ved%3D0ahUKEwjfqsX_xqnwAhXyKDQIHWmtBlQQ8tMDCIYB%26biw%3D2512%26bih%3D1298%26dpr%3D1.5&q=EgQYUGozGKGuuIQGIhkA8aeDSwQ3ybLJ2yBqYNawzXtE1mnUVGI9MgFy\n"
     ]
    }
   ],
   "source": [
    "print(r.url)"
   ]
  },
  {
   "cell_type": "code",
   "execution_count": 230,
   "metadata": {},
   "outputs": [],
   "source": [
    "coverpage = r.content\n",
    "soup1 = BeautifulSoup(coverpage, 'html5lib')"
   ]
  },
  {
   "cell_type": "code",
   "execution_count": 232,
   "metadata": {},
   "outputs": [],
   "source": [
    "soup1.find_all('div', class_='ZINbbc xpd O9g5cc uUPGi')[5].span.text"
   ]
  },
  {
   "cell_type": "code",
   "execution_count": 119,
   "metadata": {},
   "outputs": [],
   "source": [
    "# def unescape(s):\n",
    "#     s = s.replace(\"&lt;\", \"<\")\n",
    "#     s = s.replace(\"&gt;\", \">\")\n",
    "#     # this has to be last:\n",
    "#     s = s.replace(\"&amp;\", \"&\")\n",
    "#     return s"
   ]
  },
  {
   "cell_type": "code",
   "execution_count": 154,
   "metadata": {},
   "outputs": [],
   "source": [
    "# from urllib.request import urlopen\n",
    "\n",
    "# base_url = 'https://www.google.com/search?'\n",
    "# query = 'q=women+%7C+woman+%7C+girl+%7C+girls+%7C+female+%7C+females+%7C+lady+%7C+ladies+%7C+she+%7C+her++site:ksl.com&tbs=sbd:1,cdr:1,cd_min:1/1/2020,cd_max:1/31/2020&tbm=nws&sxsrf=ALeKk01s2qiIETbDTDSuhPCKn0BzZOKJDg:1619908923324&ei=O9mNYJ-hE_LR0PEP6dqaoAU&start=10&sa=N&ved=0ahUKEwjfqsX_xqnwAhXyKDQIHWmtBlQQ8tMDCIYB&biw=2512&bih=1298&dpr=1.5'\n",
    "# url = base_url + query\n",
    "\n",
    "# response = urlopen(url)\n",
    "# data = response.read()\n",
    "# # response data valid\n",
    "\n",
    "# print(response.url)"
   ]
  },
  {
   "cell_type": "code",
   "execution_count": 177,
   "metadata": {},
   "outputs": [],
   "source": [
    "# from urllib.request import Request, urlopen\n",
    "\n",
    "# req = Request(url, headers={'User-Agent': 'Chrome'})\n",
    "# webpage = urlopen(req).read()"
   ]
  },
  {
   "cell_type": "code",
   "execution_count": 234,
   "metadata": {},
   "outputs": [],
   "source": [
    "# soup1 = BeautifulSoup(webpage, 'html5lib')\n",
    "# soup1.find_all('div', class_='ZINbbc xpd O9g5cc uUPGi')[3].span.text"
   ]
  },
  {
   "cell_type": "code",
   "execution_count": 236,
   "metadata": {},
   "outputs": [],
   "source": []
  },
  {
   "cell_type": "code",
   "execution_count": null,
   "metadata": {},
   "outputs": [],
   "source": []
  },
  {
   "cell_type": "code",
   "execution_count": null,
   "metadata": {},
   "outputs": [],
   "source": []
  },
  {
   "cell_type": "code",
   "execution_count": null,
   "metadata": {},
   "outputs": [],
   "source": []
  },
  {
   "cell_type": "code",
   "execution_count": null,
   "metadata": {},
   "outputs": [],
   "source": []
  },
  {
   "cell_type": "code",
   "execution_count": null,
   "metadata": {},
   "outputs": [],
   "source": []
  },
  {
   "cell_type": "code",
   "execution_count": 58,
   "metadata": {
    "tags": [
     "outputPrepend"
    ]
   },
   "outputs": [
    {
     "name": "stdout",
     "output_type": "stream",
     "text": [
      "Wall time: 0 ns\n",
      "Collecting headlines for usatoday.com from [1, 1, 2020] to [31, 1, 2020]\n",
      "Scraping page 1.0 of usatoday.com google news results, for [1, 1, 2020]  to  [31, 1, 2020]\n",
      "https://www.google.com/search?q=women+%7C+woman+%7C+girl+%7C+girls+%7C+female+%7C+females+%7C+lady+%7C+ladies+%7C+she+%7C+her++site:usatoday.com&tbs=sbd:1,cdr:1,cd_min:1/1/2020,cd_max:1/31/2020&tbm=nws&sxsrf=ALeKk01s2qiIETbDTDSuhPCKn0BzZOKJDg:1619908923324&ei=O9mNYJ-hE_LR0PEP6dqaoAU&start=0&sa=N&ved=0ahUKEwjfqsX_xqnwAhXyKDQIHWmtBlQQ8tMDCIYB&biw=2512&bih=1298&dpr=1.5\n",
      "Scraping page 2.0 of usatoday.com google news results, for [1, 1, 2020]  to  [31, 1, 2020]\n",
      "https://www.google.com/search?q=women+%7C+woman+%7C+girl+%7C+girls+%7C+female+%7C+females+%7C+lady+%7C+ladies+%7C+she+%7C+her++site:usatoday.com&tbs=sbd:1,cdr:1,cd_min:1/1/2020,cd_max:1/31/2020&tbm=nws&sxsrf=ALeKk01s2qiIETbDTDSuhPCKn0BzZOKJDg:1619908923324&ei=O9mNYJ-hE_LR0PEP6dqaoAU&start=10&sa=N&ved=0ahUKEwjfqsX_xqnwAhXyKDQIHWmtBlQQ8tMDCIYB&biw=2512&bih=1298&dpr=1.5\n",
      "Scraping page 3.0 of usatoday.com google news results, for [1, 1, 2020]  to  [31, 1, 2020]\n",
      "https://www.google.com/search?q=women+%7C+woman+%7C+girl+%7C+girls+%7C+female+%7C+females+%7C+lady+%7C+ladies+%7C+she+%7C+her++site:usatoday.com&tbs=sbd:1,cdr:1,cd_min:1/1/2020,cd_max:1/31/2020&tbm=nws&sxsrf=ALeKk01s2qiIETbDTDSuhPCKn0BzZOKJDg:1619908923324&ei=O9mNYJ-hE_LR0PEP6dqaoAU&start=20&sa=N&ved=0ahUKEwjfqsX_xqnwAhXyKDQIHWmtBlQQ8tMDCIYB&biw=2512&bih=1298&dpr=1.5\n",
      "Collecting headlines for usatoday.com from [1, 2, 2020] to [28, 2, 2020]\n",
      "Scraping page 1.0 of usatoday.com google news results, for [1, 2, 2020]  to  [28, 2, 2020]\n",
      "https://www.google.com/search?q=women+%7C+woman+%7C+girl+%7C+girls+%7C+female+%7C+females+%7C+lady+%7C+ladies+%7C+she+%7C+her++site:usatoday.com&tbs=sbd:1,cdr:1,cd_min:2/1/2020,cd_max:2/28/2020&tbm=nws&sxsrf=ALeKk01s2qiIETbDTDSuhPCKn0BzZOKJDg:1619908923324&ei=O9mNYJ-hE_LR0PEP6dqaoAU&start=0&sa=N&ved=0ahUKEwjfqsX_xqnwAhXyKDQIHWmtBlQQ8tMDCIYB&biw=2512&bih=1298&dpr=1.5\n",
      "Scraping page 2.0 of usatoday.com google news results, for [1, 2, 2020]  to  [28, 2, 2020]\n",
      "https://www.google.com/search?q=women+%7C+woman+%7C+girl+%7C+girls+%7C+female+%7C+females+%7C+lady+%7C+ladies+%7C+she+%7C+her++site:usatoday.com&tbs=sbd:1,cdr:1,cd_min:2/1/2020,cd_max:2/28/2020&tbm=nws&sxsrf=ALeKk01s2qiIETbDTDSuhPCKn0BzZOKJDg:1619908923324&ei=O9mNYJ-hE_LR0PEP6dqaoAU&start=10&sa=N&ved=0ahUKEwjfqsX_xqnwAhXyKDQIHWmtBlQQ8tMDCIYB&biw=2512&bih=1298&dpr=1.5\n",
      "Scraping page 3.0 of usatoday.com google news results, for [1, 2, 2020]  to  [28, 2, 2020]\n",
      "https://www.google.com/search?q=women+%7C+woman+%7C+girl+%7C+girls+%7C+female+%7C+females+%7C+lady+%7C+ladies+%7C+she+%7C+her++site:usatoday.com&tbs=sbd:1,cdr:1,cd_min:2/1/2020,cd_max:2/28/2020&tbm=nws&sxsrf=ALeKk01s2qiIETbDTDSuhPCKn0BzZOKJDg:1619908923324&ei=O9mNYJ-hE_LR0PEP6dqaoAU&start=20&sa=N&ved=0ahUKEwjfqsX_xqnwAhXyKDQIHWmtBlQQ8tMDCIYB&biw=2512&bih=1298&dpr=1.5\n",
      "Collecting headlines for nbcnews.com from [1, 1, 2020] to [31, 1, 2020]\n",
      "Scraping page 1.0 of nbcnews.com google news results, for [1, 1, 2020]  to  [31, 1, 2020]\n",
      "https://www.google.com/search?q=women+%7C+woman+%7C+girl+%7C+girls+%7C+female+%7C+females+%7C+lady+%7C+ladies+%7C+she+%7C+her++site:nbcnews.com&tbs=sbd:1,cdr:1,cd_min:1/1/2020,cd_max:1/31/2020&tbm=nws&sxsrf=ALeKk01s2qiIETbDTDSuhPCKn0BzZOKJDg:1619908923324&ei=O9mNYJ-hE_LR0PEP6dqaoAU&start=0&sa=N&ved=0ahUKEwjfqsX_xqnwAhXyKDQIHWmtBlQQ8tMDCIYB&biw=2512&bih=1298&dpr=1.5\n",
      "Scraping page 2.0 of nbcnews.com google news results, for [1, 1, 2020]  to  [31, 1, 2020]\n",
      "https://www.google.com/search?q=women+%7C+woman+%7C+girl+%7C+girls+%7C+female+%7C+females+%7C+lady+%7C+ladies+%7C+she+%7C+her++site:nbcnews.com&tbs=sbd:1,cdr:1,cd_min:1/1/2020,cd_max:1/31/2020&tbm=nws&sxsrf=ALeKk01s2qiIETbDTDSuhPCKn0BzZOKJDg:1619908923324&ei=O9mNYJ-hE_LR0PEP6dqaoAU&start=10&sa=N&ved=0ahUKEwjfqsX_xqnwAhXyKDQIHWmtBlQQ8tMDCIYB&biw=2512&bih=1298&dpr=1.5\n",
      "Scraping page 3.0 of nbcnews.com google news results, for [1, 1, 2020]  to  [31, 1, 2020]\n",
      "https://www.google.com/search?q=women+%7C+woman+%7C+girl+%7C+girls+%7C+female+%7C+females+%7C+lady+%7C+ladies+%7C+she+%7C+her++site:nbcnews.com&tbs=sbd:1,cdr:1,cd_min:1/1/2020,cd_max:1/31/2020&tbm=nws&sxsrf=ALeKk01s2qiIETbDTDSuhPCKn0BzZOKJDg:1619908923324&ei=O9mNYJ-hE_LR0PEP6dqaoAU&start=20&sa=N&ved=0ahUKEwjfqsX_xqnwAhXyKDQIHWmtBlQQ8tMDCIYB&biw=2512&bih=1298&dpr=1.5\n",
      "Collecting headlines for nbcnews.com from [1, 2, 2020] to [28, 2, 2020]\n",
      "Scraping page 1.0 of nbcnews.com google news results, for [1, 2, 2020]  to  [28, 2, 2020]\n",
      "https://www.google.com/search?q=women+%7C+woman+%7C+girl+%7C+girls+%7C+female+%7C+females+%7C+lady+%7C+ladies+%7C+she+%7C+her++site:nbcnews.com&tbs=sbd:1,cdr:1,cd_min:2/1/2020,cd_max:2/28/2020&tbm=nws&sxsrf=ALeKk01s2qiIETbDTDSuhPCKn0BzZOKJDg:1619908923324&ei=O9mNYJ-hE_LR0PEP6dqaoAU&start=0&sa=N&ved=0ahUKEwjfqsX_xqnwAhXyKDQIHWmtBlQQ8tMDCIYB&biw=2512&bih=1298&dpr=1.5\n",
      "Scraping page 2.0 of nbcnews.com google news results, for [1, 2, 2020]  to  [28, 2, 2020]\n",
      "https://www.google.com/search?q=women+%7C+woman+%7C+girl+%7C+girls+%7C+female+%7C+females+%7C+lady+%7C+ladies+%7C+she+%7C+her++site:nbcnews.com&tbs=sbd:1,cdr:1,cd_min:2/1/2020,cd_max:2/28/2020&tbm=nws&sxsrf=ALeKk01s2qiIETbDTDSuhPCKn0BzZOKJDg:1619908923324&ei=O9mNYJ-hE_LR0PEP6dqaoAU&start=10&sa=N&ved=0ahUKEwjfqsX_xqnwAhXyKDQIHWmtBlQQ8tMDCIYB&biw=2512&bih=1298&dpr=1.5\n",
      "Scraping page 3.0 of nbcnews.com google news results, for [1, 2, 2020]  to  [28, 2, 2020]\n",
      "https://www.google.com/search?q=women+%7C+woman+%7C+girl+%7C+girls+%7C+female+%7C+females+%7C+lady+%7C+ladies+%7C+she+%7C+her++site:nbcnews.com&tbs=sbd:1,cdr:1,cd_min:2/1/2020,cd_max:2/28/2020&tbm=nws&sxsrf=ALeKk01s2qiIETbDTDSuhPCKn0BzZOKJDg:1619908923324&ei=O9mNYJ-hE_LR0PEP6dqaoAU&start=20&sa=N&ved=0ahUKEwjfqsX_xqnwAhXyKDQIHWmtBlQQ8tMDCIYB&biw=2512&bih=1298&dpr=1.5\n"
     ]
    }
   ],
   "source": [
    "# loop\n",
    "%time\n",
    "from time import sleep\n",
    "from random import randint\n",
    "# Country: \n",
    "query = ['women+%7C+woman+%7C+girl+%7C+girls+%7C+female+%7C+females+%7C+lady+%7C+ladies+%7C+she+%7C+her']\n",
    "# sites = list(USA.site.unique().flatten())[10:12]\n",
    "sites = list(USA.site.unique().flatten())\n",
    "# starting_result = range(0, 310, 10)\n",
    "starting_result = [0, 10, 20]\n",
    "\n",
    "\n",
    "for site in sites[2:4]:\n",
    "    \n",
    "    urls = []\n",
    "    headlines = []\n",
    "    subtitles = []\n",
    "    times = []\n",
    "    scrape_dates = []\n",
    "    websites = []\n",
    "\n",
    "    for i in range(len(month_ranges[0:2])):\n",
    "        start_date = month_ranges[i][0]\n",
    "        start_day = month_ranges[i][0][0]\n",
    "        start_month = month_ranges[i][0][1]\n",
    "        start_year = month_ranges[i][0][2]\n",
    "\n",
    "        end_day = month_ranges[i][1][0]\n",
    "        end_month = month_ranges[i][1][1]\n",
    "        end_year = month_ranges[i][1][2]\n",
    "        end_date = month_ranges[i][1]\n",
    "    \n",
    "        print(\"Collecting headlines for\", site, \"from\", start_date, \"to\", end_date)\n",
    "        \n",
    "        for start in starting_result:\n",
    "            # keep track\n",
    "#             print(\"Scraping page\", str((start+10)/10), \"of\", site, \"google news results.\")\n",
    "            print(\"Scraping page\", str((start+10)/10), \"of\", site, \"google news results, for\", start_date, \" to \", end_date)\n",
    "            # change url\n",
    "#             url = f'https://www.google.com/search?q={query[0]}+site%3A{site}&biw=1188&bih=962&source=lnt&tbs=cdr%3A1%2Ccd_min%3A{start_month}%2F{start_day}%2F{start_year}%2Ccd_max%3A{end_month}%2F{end_day}%2F{end_year}&tbm=nws'\n",
    "            url = html.unescape(f'https://www.google.com/search?q={query[0]}++site:{site}&tbs=sbd:1,cdr:1,cd_min:{start_month}/{start_day}/{start_year},cd_max:{end_month}/{end_day}/{end_year}&tbm=nws&sxsrf=ALeKk01s2qiIETbDTDSuhPCKn0BzZOKJDg:1619908923324&ei=O9mNYJ-hE_LR0PEP6dqaoAU&start={start}&sa=N&ved=0ahUKEwjfqsX_xqnwAhXyKDQIHWmtBlQQ8tMDCIYB&biw=2512&bih=1298&dpr=1.5')\n",
    "        \n",
    "        # f'https://www.google.com/search?q={query[0]}+site:{site}&tbm=nws&sxsrf=ALeKk02yZ8PpgaqZrEk_lf2SjYFoIO2UFA:1605438024548&ei=SAqxX9v1IIv0kwXI44gY&start={start}&sa=N&ved=0ahUKEwjbuaXZsoTtAhUL-qQKHcgxAgM4FBDy0wMIhgE&biw=1188&bih=962&dpr=1.25'\n",
    "            print(str(url))\n",
    "            # sleep\n",
    "            sleep(randint(10,60))\n",
    "    #         # send request\n",
    "    #         try:\n",
    "    #             r1 = requests.get(url)\n",
    "    #         except ConnectionError:\n",
    "    #             sleep(90)\n",
    "    #             r1 = requests.get(url)\n",
    "    #         # get html content\n",
    "    #         coverpage = r1.content\n",
    "    #         soup1 = BeautifulSoup(coverpage, 'html5lib')\n",
    "            soup1 = send_request(url)\n",
    "            # check whether google is trying to redirect to captcha\n",
    "            if \"Our systems have detected unusual traffic from your computer network\" in str(soup1):\n",
    "                sleep(90)\n",
    "                soup1 = send_request(url)\n",
    "            # continue\n",
    "            coverpage_news = soup1.find_all('div', class_='ZINbbc xpd O9g5cc uUPGi')\n",
    "            if len(coverpage_news)>0:\n",
    "                # get info for each of 10 google results\n",
    "                for i in range(len(coverpage_news)):\n",
    "                    # url\n",
    "                    url = coverpage_news[i].a['href'][7:]\n",
    "                    urls.append(url)\n",
    "                    # headline\n",
    "                    headline = coverpage_news[i].a.text\n",
    "                    headlines.append(headline)\n",
    "                    # subtitle\n",
    "                    subtitle = coverpage_news[i].text.split('�')[1].strip().strip('\"').strip('.')\n",
    "                    subtitles.append(subtitle)\n",
    "                    # time\n",
    "                    time = coverpage_news[i].span.text\n",
    "                    times.append(time)\n",
    "                    print(time)\n",
    "                    # scrape date\n",
    "                    scrape_date = datetime.datetime.now().strftime(\"%d/%m/%Y\")\n",
    "                    scrape_dates.append(scrape_date)\n",
    "                    # website\n",
    "                    websites.append(site)\n",
    "                # keep track\n",
    "                print(str(start + 10) + \" results of site \" + str(site) + \" scraped successfully!\")\n",
    "            else:\n",
    "                break\n",
    "                \n",
    "        # dictionary of results\n",
    "        headlines_dict = {\"url\": urls, \"headline\": headlines,  \"subtitle\": subtitles, \"time\": times, \"scrape_date\": scrape_dates, \"site\": websites}\n",
    "        # df of results\n",
    "        headlines_df = pd.DataFrame.from_dict(headlines_dict)\n",
    "        number_of_articles = len(headlines_df)\n",
    "        # save results to csv\n",
    "        headlines_df.to_csv(f'../data/raw_2/{number_of_articles}_{site}_articles.csv')\n",
    "        # print final statement\n",
    "        print(\"Saved data from \" + str(number_of_articles) + \" articles of \"  + str(site) + \" to .csv!\")\n",
    "        \n",
    "    print(\"Scrape complete!\")"
   ]
  },
  {
   "cell_type": "code",
   "execution_count": 24,
   "metadata": {},
   "outputs": [],
   "source": [
    "headlines_dict = {\"url\": urls, \"headline\": headlines,  \"subtitle\": subtitles, \"time\": times, \"scrape_date\": scrape_dates, \"site\": websites}\n",
    "# df of results\n",
    "headlines_df = pd.DataFrame.from_dict(headlines_dict)\n",
    "number_of_articles = len(headlines_df)\n",
    "# save results to csv\n",
    "headlines_df.to_csv(f'../data/{number_of_articles}_{site}_articles.csv')"
   ]
  },
  {
   "cell_type": "code",
   "execution_count": 20,
   "metadata": {},
   "outputs": [
    {
     "data": {
      "text/plain": [
       "['Dailymaverick.co.za',\n",
       " 'Vodacom.co.za',\n",
       " 'Sowetanlive.co.za',\n",
       " 'mg.co.za',\n",
       " 'MyBroadband.co.za',\n",
       " 'Moneyweb.co.za',\n",
       " 'Businesslive.co.za',\n",
       " 'Enca.com',\n",
       " 'Capetownetc.com',\n",
       " 'iol.co.za',\n",
       " 'heraldlive.co.za',\n",
       " 'dispatchlive.co.za',\n",
       " 'dailysun.co.za',\n",
       " 'cbn.co.za',\n",
       " 'lowvelder.co.za',\n",
       " 'zululandobserver.co.za',\n",
       " 'ziwaphi.com']"
      ]
     },
     "execution_count": 20,
     "metadata": {},
     "output_type": "execute_result"
    }
   ],
   "source": [
    "list(SA.site.unique().flatten())[12:]"
   ]
  },
  {
   "cell_type": "code",
   "execution_count": 11,
   "metadata": {},
   "outputs": [
    {
     "data": {
      "text/plain": [
       "[]"
      ]
     },
     "execution_count": 11,
     "metadata": {},
     "output_type": "execute_result"
    }
   ],
   "source": []
  },
  {
   "cell_type": "markdown",
   "metadata": {},
   "source": [
    "## NEW METHOD"
   ]
  },
  {
   "cell_type": "code",
   "execution_count": 301,
   "metadata": {},
   "outputs": [
    {
     "name": "stdout",
     "output_type": "stream",
     "text": [
      "HTTP Error 429: Too Many Requests\n",
      "HTTP Error 429: Too Many Requests\n"
     ]
    },
    {
     "ename": "KeyboardInterrupt",
     "evalue": "",
     "output_type": "error",
     "traceback": [
      "\u001b[1;31m---------------------------------------------------------------------------\u001b[0m",
      "\u001b[1;31mKeyboardInterrupt\u001b[0m                         Traceback (most recent call last)",
      "\u001b[1;32m<ipython-input-301-9e1572a19ac0>\u001b[0m in \u001b[0;36m<module>\u001b[1;34m\u001b[0m\n\u001b[0;32m      3\u001b[0m \u001b[1;33m\u001b[0m\u001b[0m\n\u001b[0;32m      4\u001b[0m \u001b[1;32mfor\u001b[0m \u001b[0mi\u001b[0m \u001b[1;32min\u001b[0m \u001b[0mrange\u001b[0m\u001b[1;33m(\u001b[0m\u001b[1;36m1\u001b[0m\u001b[1;33m,\u001b[0m\u001b[1;36m30\u001b[0m\u001b[1;33m)\u001b[0m\u001b[1;33m:\u001b[0m\u001b[1;33m\u001b[0m\u001b[1;33m\u001b[0m\u001b[0m\n\u001b[1;32m----> 5\u001b[1;33m     \u001b[0msleep\u001b[0m\u001b[1;33m(\u001b[0m\u001b[0mrandint\u001b[0m\u001b[1;33m(\u001b[0m\u001b[1;36m1\u001b[0m\u001b[1;33m,\u001b[0m\u001b[1;36m5\u001b[0m\u001b[1;33m)\u001b[0m\u001b[1;33m)\u001b[0m\u001b[1;33m\u001b[0m\u001b[1;33m\u001b[0m\u001b[0m\n\u001b[0m\u001b[0;32m      6\u001b[0m     \u001b[0mgooglenews\u001b[0m\u001b[1;33m.\u001b[0m\u001b[0mgetpage\u001b[0m\u001b[1;33m(\u001b[0m\u001b[0mi\u001b[0m\u001b[1;33m)\u001b[0m\u001b[1;33m\u001b[0m\u001b[1;33m\u001b[0m\u001b[0m\n\u001b[0;32m      7\u001b[0m     \u001b[0mresult\u001b[0m\u001b[1;33m=\u001b[0m\u001b[0mgooglenews\u001b[0m\u001b[1;33m.\u001b[0m\u001b[0mresult\u001b[0m\u001b[1;33m(\u001b[0m\u001b[1;33m)\u001b[0m\u001b[1;33m\u001b[0m\u001b[1;33m\u001b[0m\u001b[0m\n",
      "\u001b[1;31mKeyboardInterrupt\u001b[0m: "
     ]
    }
   ],
   "source": [
    "from GoogleNews import GoogleNews\n",
    "# from newspaper import Article\n",
    "import pandas as pd\n",
    "\n",
    "googlenews=GoogleNews(start='02/01/2020',end='02/29/2020')\n",
    "googlenews.search('women|woman|girl|girls|female|females|lady|ladies|she|her site:nbcnews.com')\n",
    "\n",
    "for i in range(1,30):\n",
    "    sleep(randint(1,5))\n",
    "    googlenews.getpage(i)\n",
    "    result=googlenews.result()\n",
    "    df=pd.DataFrame(result)"
   ]
  },
  {
   "cell_type": "code",
   "execution_count": 285,
   "metadata": {},
   "outputs": [],
   "source": [
    "query = ['women|woman|girl|girls|female|females|lady|ladies|she|her']\n",
    "# sites = list(USA.site.unique().flatten())[10:12]\n",
    "sites = list(USA.site.unique().flatten())\n",
    "# starting_result = range(0, 310, 10)\n",
    "starting_result = [0, 10, 20]\n",
    "\n",
    "\n",
    "for site in sites[1:3]:\n",
    "\n",
    "    for i in range(len(month_ranges[0:2])):\n",
    "        start_date = month_ranges[i][0]\n",
    "        start_day = month_ranges[i][0][0]\n",
    "        start_month = month_ranges[i][0][1]\n",
    "        start_year = month_ranges[i][0][2]\n",
    "\n",
    "        end_day = month_ranges[i][1][0]\n",
    "        end_month = month_ranges[i][1][1]\n",
    "        end_year = month_ranges[i][1][2]\n",
    "        end_date = month_ranges[i][1]\n",
    "    \n",
    "        print(\"Collecting headlines for\", site, \"from\", start_date, \"to\", end_date)\n",
    "        \n",
    "        googlenews=GoogleNews(start=f'{start_month}/{start_day}/{start_year}', end=f'{end_month}/{end_day}/{end_year}')\n",
    "        googlenews.search(f'{query[0]} site:{site}')\n",
    "\n",
    "        for i in range(1,30):\n",
    "            sleep(randint(1,10))\n",
    "#             print(\"page\", i, \"scraped!\")\n",
    "            googlenews.getpage(i)\n",
    "            result=googlenews.result()\n",
    "            df=pd.DataFrame(result)\n",
    "            \n",
    "        df.to_csv(f'../data/raw_2/{site}_{start_date}_{end_date}.csv')\n",
    "        # print final statement\n",
    "        number_of_articles = len(df)\n",
    "        print(\"Saved data from \" + str(number_of_articles) + \" articles of \"  + str(site) + \" to .csv!\")   \n",
    "    "
   ]
  },
  {
   "cell_type": "code",
   "execution_count": 279,
   "metadata": {},
   "outputs": [
    {
     "data": {
      "text/plain": [
       "'Her Dream of Becoming a Doctor Turned Into a Nightmare, and a Movie'"
      ]
     },
     "execution_count": 279,
     "metadata": {},
     "output_type": "execute_result"
    }
   ],
   "source": [
    "df.title[34]"
   ]
  },
  {
   "cell_type": "code",
   "execution_count": null,
   "metadata": {},
   "outputs": [],
   "source": []
  },
  {
   "cell_type": "code",
   "execution_count": null,
   "metadata": {},
   "outputs": [],
   "source": []
  },
  {
   "cell_type": "code",
   "execution_count": null,
   "metadata": {},
   "outputs": [],
   "source": []
  },
  {
   "cell_type": "code",
   "execution_count": null,
   "metadata": {},
   "outputs": [],
   "source": []
  },
  {
   "cell_type": "code",
   "execution_count": null,
   "metadata": {},
   "outputs": [],
   "source": []
  },
  {
   "cell_type": "code",
   "execution_count": null,
   "metadata": {},
   "outputs": [],
   "source": []
  },
  {
   "cell_type": "code",
   "execution_count": null,
   "metadata": {},
   "outputs": [],
   "source": []
  },
  {
   "cell_type": "code",
   "execution_count": null,
   "metadata": {},
   "outputs": [],
   "source": []
  },
  {
   "cell_type": "code",
   "execution_count": null,
   "metadata": {},
   "outputs": [],
   "source": []
  },
  {
   "cell_type": "code",
   "execution_count": null,
   "metadata": {},
   "outputs": [],
   "source": []
  },
  {
   "cell_type": "code",
   "execution_count": null,
   "metadata": {},
   "outputs": [],
   "source": []
  },
  {
   "cell_type": "code",
   "execution_count": null,
   "metadata": {},
   "outputs": [],
   "source": []
  },
  {
   "cell_type": "code",
   "execution_count": null,
   "metadata": {},
   "outputs": [],
   "source": []
  },
  {
   "cell_type": "code",
   "execution_count": null,
   "metadata": {},
   "outputs": [],
   "source": []
  },
  {
   "cell_type": "code",
   "execution_count": null,
   "metadata": {},
   "outputs": [],
   "source": []
  },
  {
   "cell_type": "code",
   "execution_count": 334,
   "metadata": {},
   "outputs": [
    {
     "data": {
      "text/plain": [
       "'https://www.theblaze.com/news/leftist-woman-spits-in-face-of-cop&sa=U&ved=2ahUKEwj_2pujuo7tAhUMI6wKHaZdAtUQxfQBMAl6BAgCEAE&usg=AOvVaw2TSZgMP4nTF5XNFsvmKzCh'"
      ]
     },
     "execution_count": 334,
     "metadata": {},
     "output_type": "execute_result"
    }
   ],
   "source": [
    "coverpage_news[i].a['href'][7:]"
   ]
  },
  {
   "cell_type": "code",
   "execution_count": 180,
   "metadata": {},
   "outputs": [],
   "source": [
    "coverpage_news = soup1.find_all('div', class_='ZINbbc xpd O9g5cc uUPGi')\n",
    "# coverpage_news = soup1.find_all('div', class_='kCrYT')\n"
   ]
  },
  {
   "cell_type": "code",
   "execution_count": 352,
   "metadata": {},
   "outputs": [],
   "source": [
    "site = random.choice(sites)"
   ]
  },
  {
   "cell_type": "code",
   "execution_count": 355,
   "metadata": {},
   "outputs": [],
   "source": [
    "headlines_dict = {\"url\": [url], \"headline\": [headline],  \"subtitle\": [subtitle], \"time\": [time], \"scrape_date\": [scrape_date], \"site\":[site]}\n",
    "headlines_df = pd.DataFrame.from_dict(headlines_dict)\n",
    "number_of_articles = len(headlines_df)\n",
    "headlines_df.to_csv(f'../data/{number_of_articles}_articles.csv')"
   ]
  },
  {
   "cell_type": "code",
   "execution_count": 372,
   "metadata": {},
   "outputs": [
    {
     "name": "stdout",
     "output_type": "stream",
     "text": [
      "19-year-old woman ends life in UP''s Bulandshahr, blames three men in suicide noteOutlook India\n",
      "https://www.outlookindia.com/newsscroll/19yearold-woman-ends-life-in-ups-bulandshahr-blames-three-men-in-suicide-note/1977017&sa=U&ved=2ahUKEwiM16CdxY7tAhVDXawKHd_cBnU4ChDF9AEwB3oECAAQAQ&usg=AOvVaw1n2cj0aRpqzPcYPDnrIMth\n",
      "2 giorni fa\n",
      "Bulandshahr (UP), Nov 16 (PTI) A 19-year-old woman allegedly died by suicide in a ... She left behind a suicide note blaming three people for her death. ... and statement) of the CrPC, the girl completely denied the incident\n",
      "19/11/2020\n"
     ]
    }
   ],
   "source": [
    "print(headline)\n",
    "print(url)\n",
    "print(time)\n",
    "print(subtitle)\n",
    "print(scrape_date)"
   ]
  },
  {
   "cell_type": "code",
   "execution_count": 371,
   "metadata": {},
   "outputs": [],
   "source": [
    "# print(soup1.prettify())\n",
    "i = 7\n",
    "url = coverpage_news[i].a['href'][7:]\n",
    "headline = coverpage_news[i].a.text\n",
    "time = coverpage_news[i].span.text\n",
    "subtitle = coverpage_news[i].text.split('�')[1].strip().strip('\"').strip('.')\n",
    "scrape_date = datetime.datetime.now().strftime(\"%d/%m/%Y\")"
   ]
  }
 ],
 "metadata": {
  "kernelspec": {
   "display_name": "Python 3",
   "language": "python",
   "name": "python3"
  },
  "language_info": {
   "codemirror_mode": {
    "name": "ipython",
    "version": 3
   },
   "file_extension": ".py",
   "mimetype": "text/x-python",
   "name": "python",
   "nbconvert_exporter": "python",
   "pygments_lexer": "ipython3",
   "version": "3.7.3"
  }
 },
 "nbformat": 4,
 "nbformat_minor": 4
}
