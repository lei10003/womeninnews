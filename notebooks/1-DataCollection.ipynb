{
 "cells": [
  {
   "cell_type": "code",
   "execution_count": 1,
   "metadata": {},
   "outputs": [],
   "source": [
    "# importing the necessary packages\n",
    "import requests\n",
    "from bs4 import BeautifulSoup\n",
    "import pandas as pd\n",
    "import numpy as np"
   ]
  },
  {
   "cell_type": "code",
   "execution_count": 8,
   "metadata": {},
   "outputs": [],
   "source": [
    "newsrooms = pd.read_csv('../data/raw/newsrooms.csv')\n",
    "newsrooms.columns = ['site', 'monthly_visits', 'country', 'country_of_pub']\n",
    "newsrooms.dropna(inplace=True)\n",
    "newsrooms = newsrooms.drop_duplicates(subset = 'site')\n",
    "newsrooms = newsrooms.sort_values(by=['country_of_pub', 'monthly_visits'], ascending=False).reset_index().drop('index', axis=1)"
   ]
  },
  {
   "cell_type": "code",
   "execution_count": 9,
   "metadata": {},
   "outputs": [],
   "source": [
    "# set dfs with sites\n",
    "UK = newsrooms[newsrooms['country_of_pub']=='UK'].reset_index().drop('index', axis=1)\n",
    "USA = newsrooms[newsrooms['country_of_pub']=='USA'].reset_index().drop('index', axis=1)\n",
    "India = newsrooms[newsrooms['country_of_pub']=='India'].reset_index().drop('index', axis=1)\n",
    "SA = newsrooms[newsrooms['country_of_pub']=='South Africa'].reset_index().drop('index', axis=1)"
   ]
  },
  {
   "cell_type": "code",
   "execution_count": 10,
   "metadata": {},
   "outputs": [],
   "source": [
    "from requests import get\n",
    "from bs4 import BeautifulSoup\n",
    "from time import sleep\n",
    "import re\n",
    "from random import randint #avoid throttling by not sending too many requests one after the other\n",
    "from warnings import warn\n",
    "from time import time\n",
    "from IPython.core.display import clear_output\n",
    "import numpy as np\n",
    "import datetime"
   ]
  },
  {
   "cell_type": "code",
   "execution_count": 11,
   "metadata": {},
   "outputs": [],
   "source": [
    "def send_request(url):\n",
    "    '''Send request and sleep if a connection error comes up.'''\n",
    "    # send request\n",
    "    try:\n",
    "        r1 = requests.get(url)\n",
    "    except (ConnectionError, OSError, TimeoutError) as e:\n",
    "        print(\"Encountered an error, F*** YOU GOOGLE, sleeping . . .\")\n",
    "        sleep(90)\n",
    "        try:\n",
    "            r1 = requests.get(url)\n",
    "        except (ConnectionError, OSError, TimeoutError) as e:\n",
    "            print(\"Encountered an error, F*** YOU GOOGLE, sleeping . . .\")\n",
    "            sleep(90)\n",
    "            try:\n",
    "                r1 = requests.get(url)\n",
    "            except (ConnectionError, OSError, TimeoutError) as e:\n",
    "                print(\"Encountered an error, F*** YOU GOOGLE, sleeping . . .\")\n",
    "                sleep(90)\n",
    "                r1 = requests.get(url)\n",
    "    # get html content\n",
    "    coverpage = r1.content\n",
    "    soup1 = BeautifulSoup(coverpage, 'html5lib')\n",
    "    \n",
    "    return soup1"
   ]
  },
  {
   "cell_type": "code",
   "execution_count": 46,
   "metadata": {},
   "outputs": [],
   "source": [
    "year = 2020\n",
    "month_ranges = [[[1, 1, year], [31, 1, year]], [[1, 2, year], [28, 2, year]],\n",
    "                [[1, 3, year], [31, 3, year]],\n",
    "                [[1, 4, year], [30, 4, year]],\n",
    "                [[1, 5, year], [31, 5, year]],\n",
    "                [[1, 6, year], [30, 6, year]],\n",
    "                [[1, 7, year], [31, 7, year]],\n",
    "                [[1, 8, year], [31, 8, year]],\n",
    "                [[1, 9, year], [30, 9, year]],\n",
    "                [[1, 10, year], [31, 10, year]],\n",
    "                [[1, 11, year], [30, 11, year]],\n",
    "                [[1, 12, year], [31, 12, year]]]"
   ]
  },
  {
   "cell_type": "code",
   "execution_count": 45,
   "metadata": {
    "tags": [
     "outputPrepend"
    ]
   },
   "outputs": [
    {
     "output_type": "stream",
     "name": "stdout",
     "text": [
      "//www.google.com/search?q=women+%7C+woman+%7C+girl+%7C+girls+%7C+female+%7C+females+%7C+lady+%7C+ladies+%7C+she+%7C+her++site%3AEwn.co.za&biw=1188&bih=962&source=lnt&tbs=cdr%3A1%2Ccd_min%3A1%2F1%2F2020%2Ccd_max%3A1%2F31%2F2020&tbm=nws\nScraping page 1.0 of Ewn.co.za google news results.\nhttps://www.google.com/search?q=women+%7C+woman+%7C+girl+%7C+girls+%7C+female+%7C+females+%7C+lady+%7C+ladies+%7C+she+%7C+her++site%3AEwn.co.za&biw=1188&bih=962&source=lnt&tbs=cdr%3A1%2Ccd_min%3A2%2F1%2F2020%2Ccd_max%3A2%2F28%2F2020&tbm=nws\nScraping page 1.0 of Ewn.co.za google news results.\nhttps://www.google.com/search?q=women+%7C+woman+%7C+girl+%7C+girls+%7C+female+%7C+females+%7C+lady+%7C+ladies+%7C+she+%7C+her++site%3AEwn.co.za&biw=1188&bih=962&source=lnt&tbs=cdr%3A1%2Ccd_min%3A3%2F1%2F2020%2Ccd_max%3A3%2F31%2F2020&tbm=nws\nScraping page 1.0 of Thesouthafrican.com google news results.\nhttps://www.google.com/search?q=women+%7C+woman+%7C+girl+%7C+girls+%7C+female+%7C+females+%7C+lady+%7C+ladies+%7C+she+%7C+her++site%3AThesouthafrican.com&biw=1188&bih=962&source=lnt&tbs=cdr%3A1%2Ccd_min%3A1%2F1%2F2020%2Ccd_max%3A1%2F31%2F2020&tbm=nws\nScraping page 1.0 of Thesouthafrican.com google news results.\nhttps://www.google.com/search?q=women+%7C+woman+%7C+girl+%7C+girls+%7C+female+%7C+females+%7C+lady+%7C+ladies+%7C+she+%7C+her++site%3AThesouthafrican.com&biw=1188&bih=962&source=lnt&tbs=cdr%3A1%2Ccd_min%3A2%2F1%2F2020%2Ccd_max%3A2%2F28%2F2020&tbm=nws\nScraping page 1.0 of Thesouthafrican.com google news results.\nhttps://www.google.com/search?q=women+%7C+woman+%7C+girl+%7C+girls+%7C+female+%7C+females+%7C+lady+%7C+ladies+%7C+she+%7C+her++site%3AThesouthafrican.com&biw=1188&bih=962&source=lnt&tbs=cdr%3A1%2Ccd_min%3A3%2F1%2F2020%2Ccd_max%3A3%2F31%2F2020&tbm=nws\nScraping page 1.0 of Businessinsider.co.za google news results.\nhttps://www.google.com/search?q=women+%7C+woman+%7C+girl+%7C+girls+%7C+female+%7C+females+%7C+lady+%7C+ladies+%7C+she+%7C+her++site%3ABusinessinsider.co.za&biw=1188&bih=962&source=lnt&tbs=cdr%3A1%2Ccd_min%3A1%2F1%2F2020%2Ccd_max%3A1%2F31%2F2020&tbm=nws\nScraping page 1.0 of Businessinsider.co.za google news results.\nhttps://www.google.com/search?q=women+%7C+woman+%7C+girl+%7C+girls+%7C+female+%7C+females+%7C+lady+%7C+ladies+%7C+she+%7C+her++site%3ABusinessinsider.co.za&biw=1188&bih=962&source=lnt&tbs=cdr%3A1%2Ccd_min%3A2%2F1%2F2020%2Ccd_max%3A2%2F28%2F2020&tbm=nws\nScraping page 1.0 of Businessinsider.co.za google news results.\nhttps://www.google.com/search?q=women+%7C+woman+%7C+girl+%7C+girls+%7C+female+%7C+females+%7C+lady+%7C+ladies+%7C+she+%7C+her++site%3ABusinessinsider.co.za&biw=1188&bih=962&source=lnt&tbs=cdr%3A1%2Ccd_min%3A3%2F1%2F2020%2Ccd_max%3A3%2F31%2F2020&tbm=nws\nScraping page 1.0 of Citizen.co.za google news results.\nhttps://www.google.com/search?q=women+%7C+woman+%7C+girl+%7C+girls+%7C+female+%7C+females+%7C+lady+%7C+ladies+%7C+she+%7C+her++site%3ACitizen.co.za&biw=1188&bih=962&source=lnt&tbs=cdr%3A1%2Ccd_min%3A1%2F1%2F2020%2Ccd_max%3A1%2F31%2F2020&tbm=nws\nScraping page 1.0 of Citizen.co.za google news results.\nhttps://www.google.com/search?q=women+%7C+woman+%7C+girl+%7C+girls+%7C+female+%7C+females+%7C+lady+%7C+ladies+%7C+she+%7C+her++site%3ACitizen.co.za&biw=1188&bih=962&source=lnt&tbs=cdr%3A1%2Ccd_min%3A2%2F1%2F2020%2Ccd_max%3A2%2F28%2F2020&tbm=nws\nScraping page 1.0 of Citizen.co.za google news results.\nhttps://www.google.com/search?q=women+%7C+woman+%7C+girl+%7C+girls+%7C+female+%7C+females+%7C+lady+%7C+ladies+%7C+she+%7C+her++site%3ACitizen.co.za&biw=1188&bih=962&source=lnt&tbs=cdr%3A1%2Ccd_min%3A3%2F1%2F2020%2Ccd_max%3A3%2F31%2F2020&tbm=nws\nScraping page 1.0 of Netwerk24.com google news results.\nhttps://www.google.com/search?q=women+%7C+woman+%7C+girl+%7C+girls+%7C+female+%7C+females+%7C+lady+%7C+ladies+%7C+she+%7C+her++site%3ANetwerk24.com&biw=1188&bih=962&source=lnt&tbs=cdr%3A1%2Ccd_min%3A1%2F1%2F2020%2Ccd_max%3A1%2F31%2F2020&tbm=nws\nScraping page 1.0 of Netwerk24.com google news results.\nhttps://www.google.com/search?q=women+%7C+woman+%7C+girl+%7C+girls+%7C+female+%7C+females+%7C+lady+%7C+ladies+%7C+she+%7C+her++site%3ANetwerk24.com&biw=1188&bih=962&source=lnt&tbs=cdr%3A1%2Ccd_min%3A2%2F1%2F2020%2Ccd_max%3A2%2F28%2F2020&tbm=nws\nScraping page 1.0 of Netwerk24.com google news results.\nhttps://www.google.com/search?q=women+%7C+woman+%7C+girl+%7C+girls+%7C+female+%7C+females+%7C+lady+%7C+ladies+%7C+she+%7C+her++site%3ANetwerk24.com&biw=1188&bih=962&source=lnt&tbs=cdr%3A1%2Ccd_min%3A3%2F1%2F2020%2Ccd_max%3A3%2F31%2F2020&tbm=nws\nScraping page 1.0 of Dailymaverick.co.za google news results.\nhttps://www.google.com/search?q=women+%7C+woman+%7C+girl+%7C+girls+%7C+female+%7C+females+%7C+lady+%7C+ladies+%7C+she+%7C+her++site%3ADailymaverick.co.za&biw=1188&bih=962&source=lnt&tbs=cdr%3A1%2Ccd_min%3A1%2F1%2F2020%2Ccd_max%3A1%2F31%2F2020&tbm=nws\nScraping page 1.0 of Dailymaverick.co.za google news results.\nhttps://www.google.com/search?q=women+%7C+woman+%7C+girl+%7C+girls+%7C+female+%7C+females+%7C+lady+%7C+ladies+%7C+she+%7C+her++site%3ADailymaverick.co.za&biw=1188&bih=962&source=lnt&tbs=cdr%3A1%2Ccd_min%3A2%2F1%2F2020%2Ccd_max%3A2%2F28%2F2020&tbm=nws\nScraping page 1.0 of Dailymaverick.co.za google news results.\nhttps://www.google.com/search?q=women+%7C+woman+%7C+girl+%7C+girls+%7C+female+%7C+females+%7C+lady+%7C+ladies+%7C+she+%7C+her++site%3ADailymaverick.co.za&biw=1188&bih=962&source=lnt&tbs=cdr%3A1%2Ccd_min%3A3%2F1%2F2020%2Ccd_max%3A3%2F31%2F2020&tbm=nws\nScraping page 1.0 of Vodacom.co.za google news results.\nhttps://www.google.com/search?q=women+%7C+woman+%7C+girl+%7C+girls+%7C+female+%7C+females+%7C+lady+%7C+ladies+%7C+she+%7C+her++site%3AVodacom.co.za&biw=1188&bih=962&source=lnt&tbs=cdr%3A1%2Ccd_min%3A1%2F1%2F2020%2Ccd_max%3A1%2F31%2F2020&tbm=nws\nScraping page 1.0 of Vodacom.co.za google news results.\nhttps://www.google.com/search?q=women+%7C+woman+%7C+girl+%7C+girls+%7C+female+%7C+females+%7C+lady+%7C+ladies+%7C+she+%7C+her++site%3AVodacom.co.za&biw=1188&bih=962&source=lnt&tbs=cdr%3A1%2Ccd_min%3A2%2F1%2F2020%2Ccd_max%3A2%2F28%2F2020&tbm=nws\nScraping page 1.0 of Vodacom.co.za google news results.\nhttps://www.google.com/search?q=women+%7C+woman+%7C+girl+%7C+girls+%7C+female+%7C+females+%7C+lady+%7C+ladies+%7C+she+%7C+her++site%3AVodacom.co.za&biw=1188&bih=962&source=lnt&tbs=cdr%3A1%2Ccd_min%3A3%2F1%2F2020%2Ccd_max%3A3%2F31%2F2020&tbm=nws\nScraping page 1.0 of Sowetanlive.co.za google news results.\nhttps://www.google.com/search?q=women+%7C+woman+%7C+girl+%7C+girls+%7C+female+%7C+females+%7C+lady+%7C+ladies+%7C+she+%7C+her++site%3ASowetanlive.co.za&biw=1188&bih=962&source=lnt&tbs=cdr%3A1%2Ccd_min%3A1%2F1%2F2020%2Ccd_max%3A1%2F31%2F2020&tbm=nws\nScraping page 1.0 of Sowetanlive.co.za google news results.\nhttps://www.google.com/search?q=women+%7C+woman+%7C+girl+%7C+girls+%7C+female+%7C+females+%7C+lady+%7C+ladies+%7C+she+%7C+her++site%3ASowetanlive.co.za&biw=1188&bih=962&source=lnt&tbs=cdr%3A1%2Ccd_min%3A2%2F1%2F2020%2Ccd_max%3A2%2F28%2F2020&tbm=nws\nScraping page 1.0 of Sowetanlive.co.za google news results.\nhttps://www.google.com/search?q=women+%7C+woman+%7C+girl+%7C+girls+%7C+female+%7C+females+%7C+lady+%7C+ladies+%7C+she+%7C+her++site%3ASowetanlive.co.za&biw=1188&bih=962&source=lnt&tbs=cdr%3A1%2Ccd_min%3A3%2F1%2F2020%2Ccd_max%3A3%2F31%2F2020&tbm=nws\nScraping page 1.0 of mg.co.za google news results.\nhttps://www.google.com/search?q=women+%7C+woman+%7C+girl+%7C+girls+%7C+female+%7C+females+%7C+lady+%7C+ladies+%7C+she+%7C+her++site%3Amg.co.za&biw=1188&bih=962&source=lnt&tbs=cdr%3A1%2Ccd_min%3A1%2F1%2F2020%2Ccd_max%3A1%2F31%2F2020&tbm=nws\nScraping page 1.0 of mg.co.za google news results.\nhttps://www.google.com/search?q=women+%7C+woman+%7C+girl+%7C+girls+%7C+female+%7C+females+%7C+lady+%7C+ladies+%7C+she+%7C+her++site%3Amg.co.za&biw=1188&bih=962&source=lnt&tbs=cdr%3A1%2Ccd_min%3A2%2F1%2F2020%2Ccd_max%3A2%2F28%2F2020&tbm=nws\nScraping page 1.0 of mg.co.za google news results.\nhttps://www.google.com/search?q=women+%7C+woman+%7C+girl+%7C+girls+%7C+female+%7C+females+%7C+lady+%7C+ladies+%7C+she+%7C+her++site%3Amg.co.za&biw=1188&bih=962&source=lnt&tbs=cdr%3A1%2Ccd_min%3A3%2F1%2F2020%2Ccd_max%3A3%2F31%2F2020&tbm=nws\nScraping page 1.0 of MyBroadband.co.za google news results.\nhttps://www.google.com/search?q=women+%7C+woman+%7C+girl+%7C+girls+%7C+female+%7C+females+%7C+lady+%7C+ladies+%7C+she+%7C+her++site%3AMyBroadband.co.za&biw=1188&bih=962&source=lnt&tbs=cdr%3A1%2Ccd_min%3A1%2F1%2F2020%2Ccd_max%3A1%2F31%2F2020&tbm=nws\nScraping page 1.0 of MyBroadband.co.za google news results.\nhttps://www.google.com/search?q=women+%7C+woman+%7C+girl+%7C+girls+%7C+female+%7C+females+%7C+lady+%7C+ladies+%7C+she+%7C+her++site%3AMyBroadband.co.za&biw=1188&bih=962&source=lnt&tbs=cdr%3A1%2Ccd_min%3A2%2F1%2F2020%2Ccd_max%3A2%2F28%2F2020&tbm=nws\nScraping page 1.0 of MyBroadband.co.za google news results.\nhttps://www.google.com/search?q=women+%7C+woman+%7C+girl+%7C+girls+%7C+female+%7C+females+%7C+lady+%7C+ladies+%7C+she+%7C+her++site%3AMyBroadband.co.za&biw=1188&bih=962&source=lnt&tbs=cdr%3A1%2Ccd_min%3A3%2F1%2F2020%2Ccd_max%3A3%2F31%2F2020&tbm=nws\nScraping page 1.0 of Moneyweb.co.za google news results.\nhttps://www.google.com/search?q=women+%7C+woman+%7C+girl+%7C+girls+%7C+female+%7C+females+%7C+lady+%7C+ladies+%7C+she+%7C+her++site%3AMoneyweb.co.za&biw=1188&bih=962&source=lnt&tbs=cdr%3A1%2Ccd_min%3A1%2F1%2F2020%2Ccd_max%3A1%2F31%2F2020&tbm=nws\nScraping page 1.0 of Moneyweb.co.za google news results.\nhttps://www.google.com/search?q=women+%7C+woman+%7C+girl+%7C+girls+%7C+female+%7C+females+%7C+lady+%7C+ladies+%7C+she+%7C+her++site%3AMoneyweb.co.za&biw=1188&bih=962&source=lnt&tbs=cdr%3A1%2Ccd_min%3A2%2F1%2F2020%2Ccd_max%3A2%2F28%2F2020&tbm=nws\nScraping page 1.0 of Moneyweb.co.za google news results.\nhttps://www.google.com/search?q=women+%7C+woman+%7C+girl+%7C+girls+%7C+female+%7C+females+%7C+lady+%7C+ladies+%7C+she+%7C+her++site%3AMoneyweb.co.za&biw=1188&bih=962&source=lnt&tbs=cdr%3A1%2Ccd_min%3A3%2F1%2F2020%2Ccd_max%3A3%2F31%2F2020&tbm=nws\nScraping page 1.0 of Businesslive.co.za google news results.\nhttps://www.google.com/search?q=women+%7C+woman+%7C+girl+%7C+girls+%7C+female+%7C+females+%7C+lady+%7C+ladies+%7C+she+%7C+her++site%3ABusinesslive.co.za&biw=1188&bih=962&source=lnt&tbs=cdr%3A1%2Ccd_min%3A1%2F1%2F2020%2Ccd_max%3A1%2F31%2F2020&tbm=nws\nScraping page 1.0 of Businesslive.co.za google news results.\nhttps://www.google.com/search?q=women+%7C+woman+%7C+girl+%7C+girls+%7C+female+%7C+females+%7C+lady+%7C+ladies+%7C+she+%7C+her++site%3ABusinesslive.co.za&biw=1188&bih=962&source=lnt&tbs=cdr%3A1%2Ccd_min%3A2%2F1%2F2020%2Ccd_max%3A2%2F28%2F2020&tbm=nws\nScraping page 1.0 of Businesslive.co.za google news results.\nhttps://www.google.com/search?q=women+%7C+woman+%7C+girl+%7C+girls+%7C+female+%7C+females+%7C+lady+%7C+ladies+%7C+she+%7C+her++site%3ABusinesslive.co.za&biw=1188&bih=962&source=lnt&tbs=cdr%3A1%2Ccd_min%3A3%2F1%2F2020%2Ccd_max%3A3%2F31%2F2020&tbm=nws\nScraping page 1.0 of Enca.com google news results.\nhttps://www.google.com/search?q=women+%7C+woman+%7C+girl+%7C+girls+%7C+female+%7C+females+%7C+lady+%7C+ladies+%7C+she+%7C+her++site%3AEnca.com&biw=1188&bih=962&source=lnt&tbs=cdr%3A1%2Ccd_min%3A1%2F1%2F2020%2Ccd_max%3A1%2F31%2F2020&tbm=nws\nScraping page 1.0 of Enca.com google news results.\nhttps://www.google.com/search?q=women+%7C+woman+%7C+girl+%7C+girls+%7C+female+%7C+females+%7C+lady+%7C+ladies+%7C+she+%7C+her++site%3AEnca.com&biw=1188&bih=962&source=lnt&tbs=cdr%3A1%2Ccd_min%3A2%2F1%2F2020%2Ccd_max%3A2%2F28%2F2020&tbm=nws\nScraping page 1.0 of Enca.com google news results.\nhttps://www.google.com/search?q=women+%7C+woman+%7C+girl+%7C+girls+%7C+female+%7C+females+%7C+lady+%7C+ladies+%7C+she+%7C+her++site%3AEnca.com&biw=1188&bih=962&source=lnt&tbs=cdr%3A1%2Ccd_min%3A3%2F1%2F2020%2Ccd_max%3A3%2F31%2F2020&tbm=nws\nScraping page 1.0 of Capetownetc.com google news results.\nhttps://www.google.com/search?q=women+%7C+woman+%7C+girl+%7C+girls+%7C+female+%7C+females+%7C+lady+%7C+ladies+%7C+she+%7C+her++site%3ACapetownetc.com&biw=1188&bih=962&source=lnt&tbs=cdr%3A1%2Ccd_min%3A1%2F1%2F2020%2Ccd_max%3A1%2F31%2F2020&tbm=nws\nScraping page 1.0 of Capetownetc.com google news results.\nhttps://www.google.com/search?q=women+%7C+woman+%7C+girl+%7C+girls+%7C+female+%7C+females+%7C+lady+%7C+ladies+%7C+she+%7C+her++site%3ACapetownetc.com&biw=1188&bih=962&source=lnt&tbs=cdr%3A1%2Ccd_min%3A2%2F1%2F2020%2Ccd_max%3A2%2F28%2F2020&tbm=nws\nScraping page 1.0 of Capetownetc.com google news results.\nhttps://www.google.com/search?q=women+%7C+woman+%7C+girl+%7C+girls+%7C+female+%7C+females+%7C+lady+%7C+ladies+%7C+she+%7C+her++site%3ACapetownetc.com&biw=1188&bih=962&source=lnt&tbs=cdr%3A1%2Ccd_min%3A3%2F1%2F2020%2Ccd_max%3A3%2F31%2F2020&tbm=nws\nScraping page 1.0 of iol.co.za google news results.\nhttps://www.google.com/search?q=women+%7C+woman+%7C+girl+%7C+girls+%7C+female+%7C+females+%7C+lady+%7C+ladies+%7C+she+%7C+her++site%3Aiol.co.za&biw=1188&bih=962&source=lnt&tbs=cdr%3A1%2Ccd_min%3A1%2F1%2F2020%2Ccd_max%3A1%2F31%2F2020&tbm=nws\nScraping page 1.0 of iol.co.za google news results.\nhttps://www.google.com/search?q=women+%7C+woman+%7C+girl+%7C+girls+%7C+female+%7C+females+%7C+lady+%7C+ladies+%7C+she+%7C+her++site%3Aiol.co.za&biw=1188&bih=962&source=lnt&tbs=cdr%3A1%2Ccd_min%3A2%2F1%2F2020%2Ccd_max%3A2%2F28%2F2020&tbm=nws\nScraping page 1.0 of iol.co.za google news results.\nhttps://www.google.com/search?q=women+%7C+woman+%7C+girl+%7C+girls+%7C+female+%7C+females+%7C+lady+%7C+ladies+%7C+she+%7C+her++site%3Aiol.co.za&biw=1188&bih=962&source=lnt&tbs=cdr%3A1%2Ccd_min%3A3%2F1%2F2020%2Ccd_max%3A3%2F31%2F2020&tbm=nws\nScraping page 1.0 of heraldlive.co.za google news results.\nhttps://www.google.com/search?q=women+%7C+woman+%7C+girl+%7C+girls+%7C+female+%7C+females+%7C+lady+%7C+ladies+%7C+she+%7C+her++site%3Aheraldlive.co.za&biw=1188&bih=962&source=lnt&tbs=cdr%3A1%2Ccd_min%3A1%2F1%2F2020%2Ccd_max%3A1%2F31%2F2020&tbm=nws\nScraping page 1.0 of heraldlive.co.za google news results.\nhttps://www.google.com/search?q=women+%7C+woman+%7C+girl+%7C+girls+%7C+female+%7C+females+%7C+lady+%7C+ladies+%7C+she+%7C+her++site%3Aheraldlive.co.za&biw=1188&bih=962&source=lnt&tbs=cdr%3A1%2Ccd_min%3A2%2F1%2F2020%2Ccd_max%3A2%2F28%2F2020&tbm=nws\nScraping page 1.0 of heraldlive.co.za google news results.\nhttps://www.google.com/search?q=women+%7C+woman+%7C+girl+%7C+girls+%7C+female+%7C+females+%7C+lady+%7C+ladies+%7C+she+%7C+her++site%3Aheraldlive.co.za&biw=1188&bih=962&source=lnt&tbs=cdr%3A1%2Ccd_min%3A3%2F1%2F2020%2Ccd_max%3A3%2F31%2F2020&tbm=nws\nScraping page 1.0 of dispatchlive.co.za google news results.\nhttps://www.google.com/search?q=women+%7C+woman+%7C+girl+%7C+girls+%7C+female+%7C+females+%7C+lady+%7C+ladies+%7C+she+%7C+her++site%3Adispatchlive.co.za&biw=1188&bih=962&source=lnt&tbs=cdr%3A1%2Ccd_min%3A1%2F1%2F2020%2Ccd_max%3A1%2F31%2F2020&tbm=nws\nScraping page 1.0 of dispatchlive.co.za google news results.\nhttps://www.google.com/search?q=women+%7C+woman+%7C+girl+%7C+girls+%7C+female+%7C+females+%7C+lady+%7C+ladies+%7C+she+%7C+her++site%3Adispatchlive.co.za&biw=1188&bih=962&source=lnt&tbs=cdr%3A1%2Ccd_min%3A2%2F1%2F2020%2Ccd_max%3A2%2F28%2F2020&tbm=nws\nScraping page 1.0 of dispatchlive.co.za google news results.\nhttps://www.google.com/search?q=women+%7C+woman+%7C+girl+%7C+girls+%7C+female+%7C+females+%7C+lady+%7C+ladies+%7C+she+%7C+her++site%3Adispatchlive.co.za&biw=1188&bih=962&source=lnt&tbs=cdr%3A1%2Ccd_min%3A3%2F1%2F2020%2Ccd_max%3A3%2F31%2F2020&tbm=nws\nScraping page 1.0 of dailysun.co.za google news results.\nhttps://www.google.com/search?q=women+%7C+woman+%7C+girl+%7C+girls+%7C+female+%7C+females+%7C+lady+%7C+ladies+%7C+she+%7C+her++site%3Adailysun.co.za&biw=1188&bih=962&source=lnt&tbs=cdr%3A1%2Ccd_min%3A1%2F1%2F2020%2Ccd_max%3A1%2F31%2F2020&tbm=nws\nScraping page 1.0 of dailysun.co.za google news results.\nhttps://www.google.com/search?q=women+%7C+woman+%7C+girl+%7C+girls+%7C+female+%7C+females+%7C+lady+%7C+ladies+%7C+she+%7C+her++site%3Adailysun.co.za&biw=1188&bih=962&source=lnt&tbs=cdr%3A1%2Ccd_min%3A2%2F1%2F2020%2Ccd_max%3A2%2F28%2F2020&tbm=nws\nScraping page 1.0 of dailysun.co.za google news results.\nhttps://www.google.com/search?q=women+%7C+woman+%7C+girl+%7C+girls+%7C+female+%7C+females+%7C+lady+%7C+ladies+%7C+she+%7C+her++site%3Adailysun.co.za&biw=1188&bih=962&source=lnt&tbs=cdr%3A1%2Ccd_min%3A3%2F1%2F2020%2Ccd_max%3A3%2F31%2F2020&tbm=nws\nScraping page 1.0 of cbn.co.za google news results.\nhttps://www.google.com/search?q=women+%7C+woman+%7C+girl+%7C+girls+%7C+female+%7C+females+%7C+lady+%7C+ladies+%7C+she+%7C+her++site%3Acbn.co.za&biw=1188&bih=962&source=lnt&tbs=cdr%3A1%2Ccd_min%3A1%2F1%2F2020%2Ccd_max%3A1%2F31%2F2020&tbm=nws\nScraping page 1.0 of cbn.co.za google news results.\nhttps://www.google.com/search?q=women+%7C+woman+%7C+girl+%7C+girls+%7C+female+%7C+females+%7C+lady+%7C+ladies+%7C+she+%7C+her++site%3Acbn.co.za&biw=1188&bih=962&source=lnt&tbs=cdr%3A1%2Ccd_min%3A2%2F1%2F2020%2Ccd_max%3A2%2F28%2F2020&tbm=nws\nScraping page 1.0 of cbn.co.za google news results.\nhttps://www.google.com/search?q=women+%7C+woman+%7C+girl+%7C+girls+%7C+female+%7C+females+%7C+lady+%7C+ladies+%7C+she+%7C+her++site%3Acbn.co.za&biw=1188&bih=962&source=lnt&tbs=cdr%3A1%2Ccd_min%3A3%2F1%2F2020%2Ccd_max%3A3%2F31%2F2020&tbm=nws\nScraping page 1.0 of lowvelder.co.za google news results.\nhttps://www.google.com/search?q=women+%7C+woman+%7C+girl+%7C+girls+%7C+female+%7C+females+%7C+lady+%7C+ladies+%7C+she+%7C+her++site%3Alowvelder.co.za&biw=1188&bih=962&source=lnt&tbs=cdr%3A1%2Ccd_min%3A1%2F1%2F2020%2Ccd_max%3A1%2F31%2F2020&tbm=nws\nScraping page 1.0 of lowvelder.co.za google news results.\nhttps://www.google.com/search?q=women+%7C+woman+%7C+girl+%7C+girls+%7C+female+%7C+females+%7C+lady+%7C+ladies+%7C+she+%7C+her++site%3Alowvelder.co.za&biw=1188&bih=962&source=lnt&tbs=cdr%3A1%2Ccd_min%3A2%2F1%2F2020%2Ccd_max%3A2%2F28%2F2020&tbm=nws\nScraping page 1.0 of lowvelder.co.za google news results.\nhttps://www.google.com/search?q=women+%7C+woman+%7C+girl+%7C+girls+%7C+female+%7C+females+%7C+lady+%7C+ladies+%7C+she+%7C+her++site%3Alowvelder.co.za&biw=1188&bih=962&source=lnt&tbs=cdr%3A1%2Ccd_min%3A3%2F1%2F2020%2Ccd_max%3A3%2F31%2F2020&tbm=nws\nScraping page 1.0 of zululandobserver.co.za google news results.\nhttps://www.google.com/search?q=women+%7C+woman+%7C+girl+%7C+girls+%7C+female+%7C+females+%7C+lady+%7C+ladies+%7C+she+%7C+her++site%3Azululandobserver.co.za&biw=1188&bih=962&source=lnt&tbs=cdr%3A1%2Ccd_min%3A1%2F1%2F2020%2Ccd_max%3A1%2F31%2F2020&tbm=nws\nScraping page 1.0 of zululandobserver.co.za google news results.\nhttps://www.google.com/search?q=women+%7C+woman+%7C+girl+%7C+girls+%7C+female+%7C+females+%7C+lady+%7C+ladies+%7C+she+%7C+her++site%3Azululandobserver.co.za&biw=1188&bih=962&source=lnt&tbs=cdr%3A1%2Ccd_min%3A2%2F1%2F2020%2Ccd_max%3A2%2F28%2F2020&tbm=nws\nScraping page 1.0 of zululandobserver.co.za google news results.\nhttps://www.google.com/search?q=women+%7C+woman+%7C+girl+%7C+girls+%7C+female+%7C+females+%7C+lady+%7C+ladies+%7C+she+%7C+her++site%3Azululandobserver.co.za&biw=1188&bih=962&source=lnt&tbs=cdr%3A1%2Ccd_min%3A3%2F1%2F2020%2Ccd_max%3A3%2F31%2F2020&tbm=nws\nScraping page 1.0 of ziwaphi.com google news results.\nhttps://www.google.com/search?q=women+%7C+woman+%7C+girl+%7C+girls+%7C+female+%7C+females+%7C+lady+%7C+ladies+%7C+she+%7C+her++site%3Aziwaphi.com&biw=1188&bih=962&source=lnt&tbs=cdr%3A1%2Ccd_min%3A1%2F1%2F2020%2Ccd_max%3A1%2F31%2F2020&tbm=nws\nScraping page 1.0 of ziwaphi.com google news results.\nhttps://www.google.com/search?q=women+%7C+woman+%7C+girl+%7C+girls+%7C+female+%7C+females+%7C+lady+%7C+ladies+%7C+she+%7C+her++site%3Aziwaphi.com&biw=1188&bih=962&source=lnt&tbs=cdr%3A1%2Ccd_min%3A2%2F1%2F2020%2Ccd_max%3A2%2F28%2F2020&tbm=nws\nScraping page 1.0 of ziwaphi.com google news results.\nhttps://www.google.com/search?q=women+%7C+woman+%7C+girl+%7C+girls+%7C+female+%7C+females+%7C+lady+%7C+ladies+%7C+she+%7C+her++site%3Aziwaphi.com&biw=1188&bih=962&source=lnt&tbs=cdr%3A1%2Ccd_min%3A3%2F1%2F2020%2Ccd_max%3A3%2F31%2F2020&tbm=nws\n"
     ]
    }
   ],
   "source": [
    "# loop\n",
    "%time\n",
    "from time import sleep\n",
    "from random import randint\n",
    "# Country: \n",
    "query = ['women+%7C+woman+%7C+girl+%7C+girls+%7C+female+%7C+females+%7C+lady+%7C+ladies+%7C+she+%7C+her+']\n",
    "# sites = list(USA.site.unique().flatten())[10:12]\n",
    "sites = list(SA.site.unique().flatten())\n",
    "starting_result = range(0, 10, 10)\n",
    "# starting_result = [0, 10]\n",
    "\n",
    "\n",
    "for site in sites:\n",
    "    \n",
    "    urls = []\n",
    "    headlines = []\n",
    "    subtitles = []\n",
    "    times = []\n",
    "    scrape_dates = []\n",
    "    websites = []\n",
    "\n",
    "    for i in range(len(month_ranges[0:3])):\n",
    "        #start_date = month_ranges[i][0]\n",
    "        start_day = month_ranges[i][0][0]\n",
    "        start_month = month_ranges[i][0][1]\n",
    "        start_year = month_ranges[i][0][2]\n",
    "\n",
    "        end_day = month_ranges[i][1][0]\n",
    "        end_month = month_ranges[i][1][1]\n",
    "        end_year = month_ranges[i][1][2]\n",
    "        #end_date = month_ranges[i][0]\n",
    "    \n",
    "        for start in starting_result:\n",
    "            # keep track\n",
    "            print(\"Scraping page\", str((start+10)/10), \"of\", site, \"google news results.\")\n",
    "            # change url\n",
    "            url = f'https://www.google.com/search?q={query[0]}+site%3A{site}&biw=1188&bih=962&source=lnt&tbs=cdr%3A1%2Ccd_min%3A{start_month}%2F{start_day}%2F{start_year}%2Ccd_max%3A{end_month}%2F{end_day}%2F{end_year}&tbm=nws'\n",
    "        # f'https://www.google.com/search?q={query[0]}+site:{site}&tbm=nws&sxsrf=ALeKk02yZ8PpgaqZrEk_lf2SjYFoIO2UFA:1605438024548&ei=SAqxX9v1IIv0kwXI44gY&start={start}&sa=N&ved=0ahUKEwjbuaXZsoTtAhUL-qQKHcgxAgM4FBDy0wMIhgE&biw=1188&bih=962&dpr=1.25'\n",
    "           # print(url)\n",
    "            # sleep\n",
    "            sleep(randint(10,60))\n",
    "    #         # send request\n",
    "    #         try:\n",
    "    #             r1 = requests.get(url)\n",
    "    #         except ConnectionError:\n",
    "    #             sleep(90)\n",
    "    #             r1 = requests.get(url)\n",
    "    #         # get html content\n",
    "    #         coverpage = r1.content\n",
    "    #         soup1 = BeautifulSoup(coverpage, 'html5lib')\n",
    "            soup1 = send_request(url)\n",
    "            # check whether google is trying to redirect to captcha\n",
    "            if \"Our systems have detected unusual traffic from your computer network\" in str(soup1):\n",
    "                sleep(90)\n",
    "                soup1 = send_request(url)\n",
    "            # continue\n",
    "            coverpage_news = soup1.find_all('div', class_='ZINbbc xpd O9g5cc uUPGi')\n",
    "            if len(coverpage_news)>0:\n",
    "                # get info for each of 10 google results\n",
    "                for i in range(len(coverpage_news)):\n",
    "                    # url\n",
    "                    url = coverpage_news[i].a['href'][7:]\n",
    "                    urls.append(url)\n",
    "                    # headline\n",
    "                    headline = coverpage_news[i].a.text\n",
    "                    headlines.append(headline)\n",
    "                    # subtitle\n",
    "                    subtitle = coverpage_news[i].text.split('�')[1].strip().strip('\"').strip('.')\n",
    "                    subtitles.append(subtitle)\n",
    "                    # time\n",
    "                    time = coverpage_news[i].span.text\n",
    "                    times.append(time)\n",
    "                    # scrape date\n",
    "                    scrape_date = datetime.datetime.now().strftime(\"%d/%m/%Y\")\n",
    "                    scrape_dates.append(scrape_date)\n",
    "                    # website\n",
    "                    websites.append(site)\n",
    "                # keep track\n",
    "                print(str(start + 10) + \" results of site \" + str(site) + \" scraped successfully!\")\n",
    "            else:\n",
    "                break\n",
    "                \n",
    "        # dictionary of results\n",
    "        headlines_dict = {\"url\": urls, \"headline\": headlines,  \"subtitle\": subtitles, \"time\": times, \"scrape_date\": scrape_dates, \"site\": websites}\n",
    "        # df of results\n",
    "        headlines_df = pd.DataFrame.from_dict(headlines_dict)\n",
    "        number_of_articles = len(headlines_df)\n",
    "        # save results to csv\n",
    "        headlines_df.to_csv(f'../data/{number_of_articles}_{site}_articles.csv')\n",
    "        # print final statement\n",
    "        print(\"Saved data from \" + str(number_of_articles) + \" articles of \"  + str(site) + \" to .csv!\")\n",
    "        \n",
    "    print(\"Scrape complete!\")"
   ]
  },
  {
   "cell_type": "code",
   "execution_count": 24,
   "metadata": {},
   "outputs": [],
   "source": [
    "headlines_dict = {\"url\": urls, \"headline\": headlines,  \"subtitle\": subtitles, \"time\": times, \"scrape_date\": scrape_dates, \"site\": websites}\n",
    "# df of results\n",
    "headlines_df = pd.DataFrame.from_dict(headlines_dict)\n",
    "number_of_articles = len(headlines_df)\n",
    "# save results to csv\n",
    "headlines_df.to_csv(f'../data/{number_of_articles}_{site}_articles.csv')"
   ]
  },
  {
   "cell_type": "code",
   "execution_count": 20,
   "metadata": {},
   "outputs": [
    {
     "data": {
      "text/plain": [
       "['Dailymaverick.co.za',\n",
       " 'Vodacom.co.za',\n",
       " 'Sowetanlive.co.za',\n",
       " 'mg.co.za',\n",
       " 'MyBroadband.co.za',\n",
       " 'Moneyweb.co.za',\n",
       " 'Businesslive.co.za',\n",
       " 'Enca.com',\n",
       " 'Capetownetc.com',\n",
       " 'iol.co.za',\n",
       " 'heraldlive.co.za',\n",
       " 'dispatchlive.co.za',\n",
       " 'dailysun.co.za',\n",
       " 'cbn.co.za',\n",
       " 'lowvelder.co.za',\n",
       " 'zululandobserver.co.za',\n",
       " 'ziwaphi.com']"
      ]
     },
     "execution_count": 20,
     "metadata": {},
     "output_type": "execute_result"
    }
   ],
   "source": [
    "list(SA.site.unique().flatten())[12:]"
   ]
  },
  {
   "cell_type": "code",
   "execution_count": 11,
   "metadata": {},
   "outputs": [
    {
     "data": {
      "text/plain": [
       "[]"
      ]
     },
     "execution_count": 11,
     "metadata": {},
     "output_type": "execute_result"
    }
   ],
   "source": []
  },
  {
   "cell_type": "code",
   "execution_count": null,
   "metadata": {},
   "outputs": [],
   "source": []
  },
  {
   "cell_type": "code",
   "execution_count": null,
   "metadata": {},
   "outputs": [],
   "source": []
  },
  {
   "cell_type": "code",
   "execution_count": null,
   "metadata": {},
   "outputs": [],
   "source": []
  },
  {
   "cell_type": "code",
   "execution_count": 334,
   "metadata": {},
   "outputs": [
    {
     "data": {
      "text/plain": [
       "'https://www.theblaze.com/news/leftist-woman-spits-in-face-of-cop&sa=U&ved=2ahUKEwj_2pujuo7tAhUMI6wKHaZdAtUQxfQBMAl6BAgCEAE&usg=AOvVaw2TSZgMP4nTF5XNFsvmKzCh'"
      ]
     },
     "execution_count": 334,
     "metadata": {},
     "output_type": "execute_result"
    }
   ],
   "source": [
    "coverpage_news[i].a['href'][7:]"
   ]
  },
  {
   "cell_type": "code",
   "execution_count": 180,
   "metadata": {},
   "outputs": [],
   "source": [
    "coverpage_news = soup1.find_all('div', class_='ZINbbc xpd O9g5cc uUPGi')\n",
    "# coverpage_news = soup1.find_all('div', class_='kCrYT')\n"
   ]
  },
  {
   "cell_type": "code",
   "execution_count": 352,
   "metadata": {},
   "outputs": [],
   "source": [
    "site = random.choice(sites)"
   ]
  },
  {
   "cell_type": "code",
   "execution_count": 355,
   "metadata": {},
   "outputs": [],
   "source": [
    "headlines_dict = {\"url\": [url], \"headline\": [headline],  \"subtitle\": [subtitle], \"time\": [time], \"scrape_date\": [scrape_date], \"site\":[site]}\n",
    "headlines_df = pd.DataFrame.from_dict(headlines_dict)\n",
    "number_of_articles = len(headlines_df)\n",
    "headlines_df.to_csv(f'../data/{number_of_articles}_articles.csv')"
   ]
  },
  {
   "cell_type": "code",
   "execution_count": 372,
   "metadata": {},
   "outputs": [
    {
     "name": "stdout",
     "output_type": "stream",
     "text": [
      "19-year-old woman ends life in UP''s Bulandshahr, blames three men in suicide noteOutlook India\n",
      "https://www.outlookindia.com/newsscroll/19yearold-woman-ends-life-in-ups-bulandshahr-blames-three-men-in-suicide-note/1977017&sa=U&ved=2ahUKEwiM16CdxY7tAhVDXawKHd_cBnU4ChDF9AEwB3oECAAQAQ&usg=AOvVaw1n2cj0aRpqzPcYPDnrIMth\n",
      "2 giorni fa\n",
      "Bulandshahr (UP), Nov 16 (PTI) A 19-year-old woman allegedly died by suicide in a ... She left behind a suicide note blaming three people for her death. ... and statement) of the CrPC, the girl completely denied the incident\n",
      "19/11/2020\n"
     ]
    }
   ],
   "source": [
    "print(headline)\n",
    "print(url)\n",
    "print(time)\n",
    "print(subtitle)\n",
    "print(scrape_date)"
   ]
  },
  {
   "cell_type": "code",
   "execution_count": 371,
   "metadata": {},
   "outputs": [],
   "source": [
    "# print(soup1.prettify())\n",
    "i = 7\n",
    "url = coverpage_news[i].a['href'][7:]\n",
    "headline = coverpage_news[i].a.text\n",
    "time = coverpage_news[i].span.text\n",
    "subtitle = coverpage_news[i].text.split('�')[1].strip().strip('\"').strip('.')\n",
    "scrape_date = datetime.datetime.now().strftime(\"%d/%m/%Y\")"
   ]
  }
 ],
 "metadata": {
  "kernelspec": {
   "name": "python385jvsc74a57bd0c377a3a05ba1d31fd00218651f72b0a27b3c45e2b83cef10397a5da0ee866dc9",
   "display_name": "Python 3.8.5 64-bit (conda)"
  },
  "language_info": {
   "codemirror_mode": {
    "name": "ipython",
    "version": 3
   },
   "file_extension": ".py",
   "mimetype": "text/x-python",
   "name": "python",
   "nbconvert_exporter": "python",
   "pygments_lexer": "ipython3",
   "version": "3.8.5"
  }
 },
 "nbformat": 4,
 "nbformat_minor": 4
}