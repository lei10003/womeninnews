{
 "metadata": {
  "language_info": {
   "codemirror_mode": {
    "name": "ipython",
    "version": 3
   },
   "file_extension": ".py",
   "mimetype": "text/x-python",
   "name": "python",
   "nbconvert_exporter": "python",
   "pygments_lexer": "ipython3",
   "version": "3.8.5"
  },
  "orig_nbformat": 2,
  "kernelspec": {
   "name": "python385jvsc74a57bd0c377a3a05ba1d31fd00218651f72b0a27b3c45e2b83cef10397a5da0ee866dc9",
   "display_name": "Python 3.8.5 64-bit ('base': conda)"
  }
 },
 "nbformat": 4,
 "nbformat_minor": 2,
 "cells": [
  {
   "cell_type": "code",
   "execution_count": 1,
   "metadata": {},
   "outputs": [],
   "source": [
    "import pandas as pd \n",
    "import numpy as np"
   ]
  },
  {
   "cell_type": "code",
   "execution_count": 2,
   "metadata": {},
   "outputs": [],
   "source": [
    "headlines = pd.read_csv('../data/processed/headlines_cl_sent_pol_rapi.csv')\n",
    "headlines['year'] = pd.to_datetime(headlines['time']).dt.year"
   ]
  },
  {
   "cell_type": "code",
   "execution_count": 3,
   "metadata": {},
   "outputs": [
    {
     "output_type": "execute_result",
     "data": {
      "text/plain": [
       "array(['India', 'USA', 'South Africa'], dtype=object)"
      ]
     },
     "metadata": {},
     "execution_count": 3
    }
   ],
   "source": [
    "title = headlines[(headlines['headline'].str.startswith('Women')==True)]\n",
    "title[title['year']>=2020]['country_of_pub'].unique()"
   ]
  },
  {
   "cell_type": "code",
   "execution_count": 4,
   "metadata": {},
   "outputs": [],
   "source": [
    "title = headlines[(headlines['headline'].str.startswith('Woman')==True) | (headlines['headline'].str.startswith('Women')==True) ]\n",
    "title = title[title['year']>=2020].sort_values(by=['country_of_pub', 'monthly_visits'], ascending = False)"
   ]
  },
  {
   "cell_type": "code",
   "execution_count": 29,
   "metadata": {},
   "outputs": [],
   "source": [
    "title.to_csv('../data/processed/headlines_starting_woman.csv')"
   ]
  },
  {
   "cell_type": "code",
   "execution_count": 20,
   "metadata": {},
   "outputs": [],
   "source": [
    "women_headlines = title['headline_no_site'].str.replace('Woman', '').str.replace('Women', '')"
   ]
  },
  {
   "cell_type": "code",
   "execution_count": 37,
   "metadata": {},
   "outputs": [],
   "source": [
    "women_headlines = women_headlines[~(women_headlines.str.startswith(\"'\"))]"
   ]
  },
  {
   "cell_type": "code",
   "execution_count": 54,
   "metadata": {},
   "outputs": [],
   "source": [
    "women_headlines = women_headlines[~(women_headlines.str.endswith('...'))]\n",
    "women_headlines = women_headlines[~(women_headlines.str.contains(\"'\"))]"
   ]
  },
  {
   "cell_type": "code",
   "execution_count": 55,
   "metadata": {},
   "outputs": [
    {
     "output_type": "execute_result",
     "data": {
      "text/plain": [
       "[' with later start to periods, menopause more likely to reach age 90',\n",
       " ' may be missing out on outpatient hospital care in northern India',\n",
       " ' had fatal heart attack due to years of taking antipsychotics, inquest hears',\n",
       " ' dies after house catches fire in Wythenshawe',\n",
       " ' found dead in River Goyt following major emergency service presence',\n",
       " ', 33, dies following crash on M66 motorway near Bury',\n",
       " ' killed in Oldham named as man charged with murder',\n",
       " ' banned from owning pets after dog left in dark cupboard to starve to death',\n",
       " ' fined £650 for dropping cigarette butt in town centre',\n",
       " ' arrested as armed police close off road for several hours',\n",
       " ' who went missing before being found dead at park was suffering from depression, inquest opening hears',\n",
       " ' dies and girl, 16, seriously hurt after fire rips through home in Birmingham',\n",
       " ' taken to hospital after falling from M60 bridge in early hours',\n",
       " ' taken to hospital after being hit by car in Stockport',\n",
       " ' taken to hospital after being rescued from Stalybridge canal',\n",
       " ' nearly crashes into police officers on M60 after her husband is caught drink driving',\n",
       " ' spends £10k transforming her home into a pink paradise',\n",
       " ' confronts masked gang stealing catalytic converter   then this happened',\n",
       " ' faked terminal cancer to dupe friends into paying for dream wedding',\n",
       " ', 31, found dead in a disused graveyard after 18 day search',\n",
       " ' two days away from being deported stabbed housemate 30 times',\n",
       " ' who stabbed boyfriend while high on crack walks free in time for Christmas',\n",
       " ' who gave birth on flight had no idea she was pregnant',\n",
       " ' suffer more with anxiety, depression during months of isolation due to COVID 19   Gender differences',\n",
       " ' are valuable human resource, there should be zero tolerance towards gender insensitivity: HC',\n",
       " ' in Data Science: Changing the rules of the game',\n",
       " ' capable of creating history, future with formidable grace: Rahul Gandhi']"
      ]
     },
     "metadata": {},
     "execution_count": 55
    }
   ],
   "source": [
    "list(women_headlines.drop_duplicates())"
   ]
  }
 ]
}