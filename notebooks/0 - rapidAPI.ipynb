{
 "metadata": {
  "language_info": {
   "codemirror_mode": {
    "name": "ipython",
    "version": 3
   },
   "file_extension": ".py",
   "mimetype": "text/x-python",
   "name": "python",
   "nbconvert_exporter": "python",
   "pygments_lexer": "ipython3",
   "version": "3.8.5"
  },
  "orig_nbformat": 2,
  "kernelspec": {
   "name": "python385jvsc74a57bd0c377a3a05ba1d31fd00218651f72b0a27b3c45e2b83cef10397a5da0ee866dc9",
   "display_name": "Python 3.8.5 64-bit ('base': conda)"
  }
 },
 "nbformat": 4,
 "nbformat_minor": 2,
 "cells": [
  {
   "cell_type": "code",
   "execution_count": null,
   "metadata": {},
   "outputs": [],
   "source": [
    "import requests\n",
    "from time import sleep"
   ]
  },
  {
   "cell_type": "code",
   "execution_count": 39,
   "metadata": {},
   "outputs": [
    {
     "output_type": "stream",
     "name": "stdout",
     "text": [
      "{'message': 'You have exceeded the rate limit per hour for your plan, BASIC, by the API provider'}\n"
     ]
    },
    {
     "output_type": "error",
     "ename": "KeyError",
     "evalue": "'articles'",
     "traceback": [
      "\u001b[1;31m---------------------------------------------------------------------------\u001b[0m",
      "\u001b[1;31mKeyError\u001b[0m                                  Traceback (most recent call last)",
      "\u001b[1;32m<ipython-input-39-3b31d5b2df3a>\u001b[0m in \u001b[0;36m<module>\u001b[1;34m\u001b[0m\n\u001b[0;32m     32\u001b[0m     \u001b[0mprint\u001b[0m\u001b[1;33m(\u001b[0m\u001b[0mresponse\u001b[0m\u001b[1;33m)\u001b[0m\u001b[1;33m\u001b[0m\u001b[1;33m\u001b[0m\u001b[0m\n\u001b[0;32m     33\u001b[0m \u001b[1;33m\u001b[0m\u001b[0m\n\u001b[1;32m---> 34\u001b[1;33m     \u001b[1;32mfor\u001b[0m \u001b[0mj\u001b[0m \u001b[1;32min\u001b[0m \u001b[0mrange\u001b[0m\u001b[1;33m(\u001b[0m\u001b[0mlen\u001b[0m\u001b[1;33m(\u001b[0m\u001b[0mresponse\u001b[0m\u001b[1;33m[\u001b[0m\u001b[1;34m'articles'\u001b[0m\u001b[1;33m]\u001b[0m\u001b[1;33m)\u001b[0m\u001b[1;33m)\u001b[0m\u001b[1;33m:\u001b[0m\u001b[1;33m\u001b[0m\u001b[1;33m\u001b[0m\u001b[0m\n\u001b[0m\u001b[0;32m     35\u001b[0m         \u001b[0mheadlines\u001b[0m\u001b[1;33m.\u001b[0m\u001b[0mappend\u001b[0m\u001b[1;33m(\u001b[0m\u001b[0mresponse\u001b[0m\u001b[1;33m[\u001b[0m\u001b[1;34m'articles'\u001b[0m\u001b[1;33m]\u001b[0m\u001b[1;33m[\u001b[0m\u001b[0mj\u001b[0m\u001b[1;33m]\u001b[0m\u001b[1;33m[\u001b[0m\u001b[1;34m'title'\u001b[0m\u001b[1;33m]\u001b[0m\u001b[1;33m)\u001b[0m\u001b[1;33m\u001b[0m\u001b[1;33m\u001b[0m\u001b[0m\n\u001b[0;32m     36\u001b[0m         \u001b[0mtimes\u001b[0m\u001b[1;33m.\u001b[0m\u001b[0mappend\u001b[0m\u001b[1;33m(\u001b[0m\u001b[0mresponse\u001b[0m\u001b[1;33m[\u001b[0m\u001b[1;34m'articles'\u001b[0m\u001b[1;33m]\u001b[0m\u001b[1;33m[\u001b[0m\u001b[0mj\u001b[0m\u001b[1;33m]\u001b[0m\u001b[1;33m[\u001b[0m\u001b[1;34m'published_date'\u001b[0m\u001b[1;33m]\u001b[0m\u001b[1;33m)\u001b[0m\u001b[1;33m\u001b[0m\u001b[1;33m\u001b[0m\u001b[0m\n",
      "\u001b[1;31mKeyError\u001b[0m: 'articles'"
     ]
    }
   ],
   "source": [
    "%%time\n",
    "headlines_dict = {}\n",
    "\n",
    "url = \"https://google-news.p.rapidapi.com/v1/search\"\n",
    "\n",
    "urls = []\n",
    "headlines = []\n",
    "summary = []\n",
    "times = []\n",
    "scrape_dates = []\n",
    "websites = []\n",
    "country = []\n",
    "\n",
    "site = 'nytimes.com'\n",
    "\n",
    "for i in range(1,29):\n",
    "    #print(i)\n",
    "\n",
    "    querystring = {\"q\":\"women|woman|girl|girls|female|females|lady|ladies|she|her\",\"lang\":\"en\",\"sort_by\":\"relevancy\",\"from\":\"2020-10-01\",\"to\":\"2020-12-31\",\"sources\":site,\"page\":str(i),\"media\":\"True\"}\n",
    "\n",
    "    headers = {\n",
    "        'x-rapidapi-key': \"3e81132ebdmshafd93b150db164ep13c18fjsn834550268d59\",\n",
    "        'x-rapidapi-host': \"newscatcher.p.rapidapi.com\"\n",
    "        #'X-RapidAPI-Requests-Remaining'\n",
    "        }\n",
    "\n",
    "    sleep(randint(100,120))\n",
    "\n",
    "    response = requests.request(\"GET\", url, headers=headers, params=querystring).json()\n",
    "\n",
    "    print(response)\n",
    "\n",
    "    for j in range(len(response['articles'])):\n",
    "        headlines.append(response['articles'][j]['title'])\n",
    "        times.append(response['articles'][j]['published_date'])\n",
    "        country.append(response['articles'][j]['country'])\n",
    "        summary.append(response['articles'][j]['summary'])\n",
    "        websites.append(response['articles'][j]['clean_url'])\n",
    "        urls.append(response['articles'][j]['link'])\n",
    "\n",
    "headlines_dict = {\"url\": urls, \"headline\": headlines,  \"summary\": summary, \"time\": times, \"scrape_date\": date.today().strftime(\"%d/%m/%Y\"), \"site\": websites, \"country\": country}\n",
    "\n",
    "headlines_df = pd.DataFrame.from_dict(headlines_dict)\n",
    "number_of_articles = len(headlines_df)\n",
    "# save results to csv\n",
    "headlines_df.to_csv(f'../data/raw2/{number_of_articles}_{site}_articles.csv')\n",
    "# print final statement\n",
    "print(\"Saved data from \" + str(number_of_articles) + \" articles of \"  + str(site) + \" to .csv!\")\n",
    "\n",
    "\n"
   ]
  },
  {
   "cell_type": "code",
   "execution_count": 25,
   "metadata": {},
   "outputs": [
    {
     "output_type": "execute_result",
     "data": {
      "text/plain": [
       "'13/05/2021'"
      ]
     },
     "metadata": {},
     "execution_count": 25
    }
   ],
   "source": [
    "from datetime import date\n",
    "date.today().strftime(\"%d/%m/%Y\")"
   ]
  },
  {
   "cell_type": "code",
   "execution_count": 20,
   "metadata": {},
   "outputs": [
    {
     "output_type": "stream",
     "name": "stdout",
     "text": [
      "Kim Kardashian Has Learned Restraint (Published 2020)\nBen Affleck Tried to Drink Away the Pain. Now He's Trying Honesty.\nKeke Palmer Needs Three Alarms to Wake Up (Published 2020)\nThis Millennial ‘Emma' Respects Its Elders (Published 2020)\nStudent Suspended Over Dreadlocks Is Invited to the Oscars (Published 2020)\n"
     ]
    }
   ],
   "source": [
    "for i in range(len(df2['articles'])):\n",
    "    print(df2['articles'][i]['title'])"
   ]
  },
  {
   "cell_type": "code",
   "execution_count": 21,
   "metadata": {},
   "outputs": [
    {
     "output_type": "execute_result",
     "data": {
      "text/plain": [
       "{'summary': \"Continue reading the main storyDeAndre Arnold was told his dreadlocks violated his Texas high school's dress code. Now he has been invited to the Oscars by the celebrity couple Gabrielle Union and Dwyane Wade.Texas high school student DeAndre Arnold has said in interviews that he has been wearing his dreadlocks since seventh grade and has no plans to cut his hair.Credit...KHOU 11, via YouTubeBy Johnny Diaz and Jacey FortinPublished Feb. 1, 2020Updated Feb. 3, 2020A black student in Texas who was suspended because his high school said the way he wore his dreadlocks violated its dress code has been invited to the Oscars.\",\n",
       " 'country': 'US',\n",
       " 'author': 'Johnny Diaz and Jacey Fortin',\n",
       " 'link': 'https://www.nytimes.com/2020/02/01/us/DeAndre-Arnold-dreadlocks.html',\n",
       " 'language': 'en',\n",
       " 'media': 'https://static01.nyt.com/images/2020/02/01/multimedia/01xp-dreadlocks/01xp-dreadlocks-facebookJumbo.png?year=2020&h=549&w=1050&sig=0xfcedcb37cce8ea394d01ef0570256ec5',\n",
       " 'title': 'Student Suspended Over Dreadlocks Is Invited to the Oscars (Published 2020)',\n",
       " 'media_content': None,\n",
       " 'clean_url': 'nytimes.com',\n",
       " 'rights': 'nytimes.com',\n",
       " 'rank': '39',\n",
       " 'topic': 'beauty',\n",
       " 'published_date': '2020-02-03 08:00:00',\n",
       " '_id': 'f5058c67f725c22eac66f1d79eaf7091',\n",
       " '_score': 7.0583653}"
      ]
     },
     "metadata": {},
     "execution_count": 21
    }
   ],
   "source": [
    "title = response['articles'][i]['title']\n",
    "published_date = response['articles'][i]['published_date']\n",
    "author = response['author']\n",
    "country = response['country']\n",
    "urls = response['link']\n",
    "websites = response['clean_url']"
   ]
  },
  {
   "cell_type": "code",
   "execution_count": 15,
   "metadata": {},
   "outputs": [],
   "source": [
    "df2 = response.json()"
   ]
  },
  {
   "cell_type": "code",
   "execution_count": 17,
   "metadata": {},
   "outputs": [
    {
     "output_type": "execute_result",
     "data": {
      "text/plain": [
       "{'status': 'ok',\n",
       " 'total_hits': 20,\n",
       " 'page': 1,\n",
       " 'total_pages': 4,\n",
       " 'page_size': 5,\n",
       " 'articles': [{'summary': \"Continue reading the main storyOne common cause is polycystic ovary syndrome, or PCOS, which is difficult to diagnose in adolescents.Period-tracking apps like Clue can help alert users to irregular cycles.Credit...CluePublished Feb. 24, 2020Updated Feb. 26, 2020I've written recently about teenagers having too-heavy periods and too-painful periods, and now I want to talk about too-irregular periods. These issues can overlap, but let's focus on what it can mean when an adolescent doesn't menstruate regularly — and on the question of how irregular is too irregular.\",\n",
       "   'country': 'US',\n",
       "   'author': 'Perri Klass, M.D.',\n",
       "   'link': 'https://www.nytimes.com/2020/02/24/well/family/teenagers-irregular-menstrual-periods-PCOS.html',\n",
       "   'language': 'en',\n",
       "   'media': 'https://static01.nyt.com/images/2020/02/24/well/24klass-PCOS/24klass-PCOS-facebookJumbo.jpg',\n",
       "   'title': \"When a Teenager's Irregular Periods Are Cause for Concern\",\n",
       "   'media_content': None,\n",
       "   'clean_url': 'nytimes.com',\n",
       "   'rights': 'nytimes.com',\n",
       "   'rank': '39',\n",
       "   'topic': 'science',\n",
       "   'published_date': '2020-02-26 08:00:00',\n",
       "   '_id': 'a03f428da9b83660139f59f1d6e9337d',\n",
       "   '_score': 32.033707},\n",
       "  {'summary': \"Continue reading the main storySome artists say Desert X AlUla is a step toward changing Saudi society. Critics call the government-funded exhibition 'morally corrupt.'For Desert X, the artist Rashed Al Shashai installed 'A Concise Passage' in the sandstone canyons of an ancient oasis in Saudi Arabia.Credit...Rashed AlShashai and Desert X Al Ula; Lance GerberPublished Feb. 11, 2020Updated Feb. 12, 2020AL ULA, Saudi Arabia — The Coachella art crowd had arrived in the Saudi desert, and chic caftans in head-turning colors outnumbered abayas on the sand.\",\n",
       "   'country': 'US',\n",
       "   'author': 'Vivian Yee',\n",
       "   'link': 'https://www.nytimes.com/2020/02/11/arts/design/Desert-X-AlUla-saudi-arabia.html',\n",
       "   'language': 'en',\n",
       "   'media': 'https://static01.nyt.com/images/2020/02/12/arts/11desertx-saudi1/11desertx-saudi1-facebookJumbo.jpg?year=2020&h=550&w=1050&sig=0xad32e147250649fbae4003f276e9d958',\n",
       "   'title': 'Art Rises in the Saudi Desert, Shadowed by Politics (Published 2020)',\n",
       "   'media_content': None,\n",
       "   'clean_url': 'nytimes.com',\n",
       "   'rights': 'nytimes.com',\n",
       "   'rank': '39',\n",
       "   'topic': 'entertainment',\n",
       "   'published_date': '2020-02-12 08:00:00',\n",
       "   '_id': 'c8968eae9ef76491edd6e486a9613ba7',\n",
       "   '_score': 16.583807},\n",
       "  {'summary': \"Continue reading the main storyAmina Cain's ‘Indelicacy' is a cautionary tale and a call to arms.Welcome to Group Text, a monthly column for readers and book clubs about the novels, memoirs and story collections that make you want to talk, ask questions and dwell in another world for a little bit longer.For many book groups, it's hard enough to figure out where and when to meet, whose turn it is to host and whether or not to add or subtract members, let alone what to read next. Group Text will address the main event: what to read — with a focus on the kinds of propulsive, thought-provoking books worthy of discussion.\",\n",
       "   'country': 'US',\n",
       "   'author': 'Elisabeth Egan',\n",
       "   'link': 'https://www.nytimes.com/2020/02/11/books/group-text-amina-cain.html',\n",
       "   'language': 'en',\n",
       "   'media': 'https://static01.nyt.com/images/2020/02/16/books/review/16GroupText/16GroupText-facebookJumbo.jpg?year=2020&h=549&w=1050&sig=0x8c3311d878f457fb98dd261177d0af00',\n",
       "   'title': 'A Novel That Will Get People Talking (Published 2020)',\n",
       "   'media_content': None,\n",
       "   'clean_url': 'nytimes.com',\n",
       "   'rights': 'nytimes.com',\n",
       "   'rank': '39',\n",
       "   'topic': 'entertainment',\n",
       "   'published_date': '2020-02-11 08:00:00',\n",
       "   '_id': '0d32e4a8022942c60b11dcc702367f80',\n",
       "   '_score': 14.12015},\n",
       "  {'summary': 'Nash Kitchens, 7, attended training on how to administer Narcan at the Public Library in Elizabethton, Tenn., in\\xa0 January.Credit...Mike Belleme for The New York TimesIn rural Carter County, Tenn., health officials have embraced a strategy for stemming addiction: Teaching children as young as 6 how to administer Narcan, a nasal spray that can stop an opioid overdose from being fatal.Nash Kitchens, 7, attended training on how to administer Narcan at the Public Library in Elizabethton, Tenn., in\\xa0 January.',\n",
       "   'country': 'US',\n",
       "   'author': 'Dan Levin',\n",
       "   'link': 'https://www.nytimes.com/2020/02/23/us/opioids-tennessee-narcan-training.html',\n",
       "   'language': 'en',\n",
       "   'media': 'https://static01.nyt.com/images/2020/02/20/us/00tennessee-opioids2/00tennessee-opioids2-facebookJumbo-v2.jpg',\n",
       "   'title': 'Teaching Children How to Reverse an Overdose',\n",
       "   'media_content': None,\n",
       "   'clean_url': 'nytimes.com',\n",
       "   'rights': 'nytimes.com',\n",
       "   'rank': '39',\n",
       "   'topic': 'science',\n",
       "   'published_date': '2020-02-24 08:00:00',\n",
       "   '_id': '3c7d9d3b1c11eaed19d79ebe4c3f2cfe',\n",
       "   '_score': 11.633364},\n",
       "  {'summary': 'Continue reading the main storyActivities like walking and lifting weights were both tied to a healthier weight, but combining the two may have the most benefits.Credit...Getty ImagesPublished Feb. 12, 2020Updated Feb. 18, 2020To stave off obesity, we might want to both stride and lift, according to an important, large-scale new study of how different types of exercise affect the incidence of obesity in America.The study, which involved health records for almost 1.7 million men and women, indicates that people who exercise in almost any way are less likely to be obese than those who are sedentary.',\n",
       "   'country': 'US',\n",
       "   'author': 'Gretchen Reynolds',\n",
       "   'link': 'https://www.nytimes.com/2020/02/12/well/move/combining-aerobics-and-weights-tied-to-optimal-weight-control.html',\n",
       "   'language': 'en',\n",
       "   'media': 'https://static01.nyt.com/images/2020/02/18/well/obesity-weights/obesity-weights-facebookJumbo.jpg',\n",
       "   'title': 'Combining Aerobics and Weights Tied to Optimal Weight Control',\n",
       "   'media_content': None,\n",
       "   'clean_url': 'nytimes.com',\n",
       "   'rights': 'nytimes.com',\n",
       "   'rank': '39',\n",
       "   'topic': 'science',\n",
       "   'published_date': '2020-02-18 08:00:00',\n",
       "   '_id': 'f6bf2e6298b0f79d4db06821acc259fd',\n",
       "   '_score': 10.287401}],\n",
       " 'user_input': {'q': 'women|woman|girl|girls|female|females|lady|ladies|she|her',\n",
       "  'search_in': 'title_summary_en',\n",
       "  'lang': 'en',\n",
       "  'country': None,\n",
       "  'from': '2020-02-01 00:00:00',\n",
       "  'to': '2020-03-01 00:00:00',\n",
       "  'ranked_only': 'True',\n",
       "  'from_rank': None,\n",
       "  'to_rank': None,\n",
       "  'sort_by': 'relevancy',\n",
       "  'page': 1,\n",
       "  'size': 5,\n",
       "  'sources': ['nytimes.com'],\n",
       "  'not_sources': None,\n",
       "  'topic': None,\n",
       "  'media': 'True'}}"
      ]
     },
     "metadata": {},
     "execution_count": 17
    }
   ],
   "source": [
    "df"
   ]
  },
  {
   "cell_type": "code",
   "execution_count": 13,
   "metadata": {},
   "outputs": [
    {
     "output_type": "execute_result",
     "data": {
      "text/plain": [
       "5"
      ]
     },
     "metadata": {},
     "execution_count": 13
    }
   ],
   "source": [
    "len(df['articles'])"
   ]
  },
  {
   "cell_type": "code",
   "execution_count": 32,
   "metadata": {},
   "outputs": [
    {
     "output_type": "execute_result",
     "data": {
      "text/plain": [
       "5"
      ]
     },
     "metadata": {},
     "execution_count": 32
    }
   ],
   "source": [
    "len(df['articles'])"
   ]
  },
  {
   "cell_type": "code",
   "execution_count": 20,
   "metadata": {},
   "outputs": [
    {
     "output_type": "execute_result",
     "data": {
      "text/plain": [
       "dict_keys(['status', 'total_hits', 'page', 'total_pages', 'page_size', 'articles', 'user_input'])"
      ]
     },
     "metadata": {},
     "execution_count": 20
    }
   ],
   "source": [
    "df.keys()"
   ]
  }
 ]
}