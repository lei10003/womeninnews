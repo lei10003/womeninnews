{
 "metadata": {
  "language_info": {
   "codemirror_mode": {
    "name": "ipython",
    "version": 3
   },
   "file_extension": ".py",
   "mimetype": "text/x-python",
   "name": "python",
   "nbconvert_exporter": "python",
   "pygments_lexer": "ipython3",
   "version": "3.8.5"
  },
  "orig_nbformat": 2,
  "kernelspec": {
   "name": "python385jvsc74a57bd0c377a3a05ba1d31fd00218651f72b0a27b3c45e2b83cef10397a5da0ee866dc9",
   "display_name": "Python 3.8.5 64-bit (conda)"
  }
 },
 "nbformat": 4,
 "nbformat_minor": 2,
 "cells": [
  {
   "cell_type": "code",
   "execution_count": 1,
   "metadata": {},
   "outputs": [],
   "source": [
    "import requests\n",
    "\n",
    "url = \"https://google-news.p.rapidapi.com/v1/search\"\n",
    "\n",
    "querystring = {\"q\":\"women|woman|girl|girls|female|females|lady|ladies|she|her\",\"lang\":\"en\",\"sort_by\":\"relevancy\",\"from\":\"2020-02-01\",\"to\":\"2020-03-01\",\"sources\":\"nytimes.com\",\"page\":\"1\",\"media\":\"True\"}\n",
    "\n",
    "headers = {\n",
    "    'x-rapidapi-key': \"3e81132ebdmshafd93b150db164ep13c18fjsn834550268d59\",\n",
    "    'x-rapidapi-host': \"newscatcher.p.rapidapi.com\"\n",
    "    #'X-RapidAPI-Requests-Remaining'\n",
    "    }\n",
    "\n",
    "response = requests.request(\"GET\", url, headers=headers, params=querystring)\n"
   ]
  },
  {
   "cell_type": "code",
   "execution_count": 3,
   "metadata": {},
   "outputs": [],
   "source": [
    "df = response.json()"
   ]
  },
  {
   "cell_type": "code",
   "execution_count": 33,
   "metadata": {},
   "outputs": [
    {
     "output_type": "execute_result",
     "data": {
      "text/plain": [
       "{'status': 'ok',\n",
       " 'total_hits': 20,\n",
       " 'page': 1,\n",
       " 'total_pages': 4,\n",
       " 'page_size': 5,\n",
       " 'articles': [{'summary': \"Continue reading the main storyOne common cause is polycystic ovary syndrome, or PCOS, which is difficult to diagnose in adolescents.Period-tracking apps like Clue can help alert users to irregular cycles.Credit...CluePublished Feb. 24, 2020Updated Feb. 26, 2020I've written recently about teenagers having too-heavy periods and too-painful periods, and now I want to talk about too-irregular periods. These issues can overlap, but let's focus on what it can mean when an adolescent doesn't menstruate regularly — and on the question of how irregular is too irregular.\",\n",
       "   'country': 'US',\n",
       "   'author': 'Perri Klass, M.D.',\n",
       "   'link': 'https://www.nytimes.com/2020/02/24/well/family/teenagers-irregular-menstrual-periods-PCOS.html',\n",
       "   'language': 'en',\n",
       "   'media': 'https://static01.nyt.com/images/2020/02/24/well/24klass-PCOS/24klass-PCOS-facebookJumbo.jpg',\n",
       "   'title': \"When a Teenager's Irregular Periods Are Cause for Concern\",\n",
       "   'media_content': None,\n",
       "   'clean_url': 'nytimes.com',\n",
       "   'rights': 'nytimes.com',\n",
       "   'rank': '39',\n",
       "   'topic': 'science',\n",
       "   'published_date': '2020-02-26 08:00:00',\n",
       "   '_id': 'a03f428da9b83660139f59f1d6e9337d',\n",
       "   '_score': 32.033707},\n",
       "  {'summary': \"Continue reading the main storySome artists say Desert X AlUla is a step toward changing Saudi society. Critics call the government-funded exhibition 'morally corrupt.'For Desert X, the artist Rashed Al Shashai installed 'A Concise Passage' in the sandstone canyons of an ancient oasis in Saudi Arabia.Credit...Rashed AlShashai and Desert X Al Ula; Lance GerberPublished Feb. 11, 2020Updated Feb. 12, 2020AL ULA, Saudi Arabia — The Coachella art crowd had arrived in the Saudi desert, and chic caftans in head-turning colors outnumbered abayas on the sand.\",\n",
       "   'country': 'US',\n",
       "   'author': 'Vivian Yee',\n",
       "   'link': 'https://www.nytimes.com/2020/02/11/arts/design/Desert-X-AlUla-saudi-arabia.html',\n",
       "   'language': 'en',\n",
       "   'media': 'https://static01.nyt.com/images/2020/02/12/arts/11desertx-saudi1/11desertx-saudi1-facebookJumbo.jpg?year=2020&h=550&w=1050&sig=0xad32e147250649fbae4003f276e9d958',\n",
       "   'title': 'Art Rises in the Saudi Desert, Shadowed by Politics (Published 2020)',\n",
       "   'media_content': None,\n",
       "   'clean_url': 'nytimes.com',\n",
       "   'rights': 'nytimes.com',\n",
       "   'rank': '39',\n",
       "   'topic': 'entertainment',\n",
       "   'published_date': '2020-02-12 08:00:00',\n",
       "   '_id': 'c8968eae9ef76491edd6e486a9613ba7',\n",
       "   '_score': 16.583807},\n",
       "  {'summary': \"Continue reading the main storyAmina Cain's ‘Indelicacy' is a cautionary tale and a call to arms.Welcome to Group Text, a monthly column for readers and book clubs about the novels, memoirs and story collections that make you want to talk, ask questions and dwell in another world for a little bit longer.For many book groups, it's hard enough to figure out where and when to meet, whose turn it is to host and whether or not to add or subtract members, let alone what to read next. Group Text will address the main event: what to read — with a focus on the kinds of propulsive, thought-provoking books worthy of discussion.\",\n",
       "   'country': 'US',\n",
       "   'author': 'Elisabeth Egan',\n",
       "   'link': 'https://www.nytimes.com/2020/02/11/books/group-text-amina-cain.html',\n",
       "   'language': 'en',\n",
       "   'media': 'https://static01.nyt.com/images/2020/02/16/books/review/16GroupText/16GroupText-facebookJumbo.jpg?year=2020&h=549&w=1050&sig=0x8c3311d878f457fb98dd261177d0af00',\n",
       "   'title': 'A Novel That Will Get People Talking (Published 2020)',\n",
       "   'media_content': None,\n",
       "   'clean_url': 'nytimes.com',\n",
       "   'rights': 'nytimes.com',\n",
       "   'rank': '39',\n",
       "   'topic': 'entertainment',\n",
       "   'published_date': '2020-02-11 08:00:00',\n",
       "   '_id': '0d32e4a8022942c60b11dcc702367f80',\n",
       "   '_score': 14.12015},\n",
       "  {'summary': 'Nash Kitchens, 7, attended training on how to administer Narcan at the Public Library in Elizabethton, Tenn., in\\xa0 January.Credit...Mike Belleme for The New York TimesIn rural Carter County, Tenn., health officials have embraced a strategy for stemming addiction: Teaching children as young as 6 how to administer Narcan, a nasal spray that can stop an opioid overdose from being fatal.Nash Kitchens, 7, attended training on how to administer Narcan at the Public Library in Elizabethton, Tenn., in\\xa0 January.',\n",
       "   'country': 'US',\n",
       "   'author': 'Dan Levin',\n",
       "   'link': 'https://www.nytimes.com/2020/02/23/us/opioids-tennessee-narcan-training.html',\n",
       "   'language': 'en',\n",
       "   'media': 'https://static01.nyt.com/images/2020/02/20/us/00tennessee-opioids2/00tennessee-opioids2-facebookJumbo-v2.jpg',\n",
       "   'title': 'Teaching Children How to Reverse an Overdose',\n",
       "   'media_content': None,\n",
       "   'clean_url': 'nytimes.com',\n",
       "   'rights': 'nytimes.com',\n",
       "   'rank': '39',\n",
       "   'topic': 'science',\n",
       "   'published_date': '2020-02-24 08:00:00',\n",
       "   '_id': '3c7d9d3b1c11eaed19d79ebe4c3f2cfe',\n",
       "   '_score': 11.633364},\n",
       "  {'summary': 'Continue reading the main storyActivities like walking and lifting weights were both tied to a healthier weight, but combining the two may have the most benefits.Credit...Getty ImagesPublished Feb. 12, 2020Updated Feb. 18, 2020To stave off obesity, we might want to both stride and lift, according to an important, large-scale new study of how different types of exercise affect the incidence of obesity in America.The study, which involved health records for almost 1.7 million men and women, indicates that people who exercise in almost any way are less likely to be obese than those who are sedentary.',\n",
       "   'country': 'US',\n",
       "   'author': 'Gretchen Reynolds',\n",
       "   'link': 'https://www.nytimes.com/2020/02/12/well/move/combining-aerobics-and-weights-tied-to-optimal-weight-control.html',\n",
       "   'language': 'en',\n",
       "   'media': 'https://static01.nyt.com/images/2020/02/18/well/obesity-weights/obesity-weights-facebookJumbo.jpg',\n",
       "   'title': 'Combining Aerobics and Weights Tied to Optimal Weight Control',\n",
       "   'media_content': None,\n",
       "   'clean_url': 'nytimes.com',\n",
       "   'rights': 'nytimes.com',\n",
       "   'rank': '39',\n",
       "   'topic': 'science',\n",
       "   'published_date': '2020-02-18 08:00:00',\n",
       "   '_id': 'f6bf2e6298b0f79d4db06821acc259fd',\n",
       "   '_score': 10.287401}],\n",
       " 'user_input': {'q': 'women|woman|girl|girls|female|females|lady|ladies|she|her',\n",
       "  'search_in': 'title_summary_en',\n",
       "  'lang': 'en',\n",
       "  'country': None,\n",
       "  'from': '2020-02-01 00:00:00',\n",
       "  'to': '2020-03-01 00:00:00',\n",
       "  'ranked_only': 'True',\n",
       "  'from_rank': None,\n",
       "  'to_rank': None,\n",
       "  'sort_by': 'relevancy',\n",
       "  'page': 1,\n",
       "  'size': 5,\n",
       "  'sources': ['nytimes.com'],\n",
       "  'not_sources': None,\n",
       "  'topic': None,\n",
       "  'media': 'True'}}"
      ]
     },
     "metadata": {},
     "execution_count": 33
    }
   ],
   "source": [
    "response.json()"
   ]
  },
  {
   "cell_type": "code",
   "execution_count": 32,
   "metadata": {},
   "outputs": [
    {
     "output_type": "execute_result",
     "data": {
      "text/plain": [
       "5"
      ]
     },
     "metadata": {},
     "execution_count": 32
    }
   ],
   "source": [
    "len(df['articles'])"
   ]
  },
  {
   "cell_type": "code",
   "execution_count": 20,
   "metadata": {},
   "outputs": [
    {
     "output_type": "execute_result",
     "data": {
      "text/plain": [
       "dict_keys(['status', 'total_hits', 'page', 'total_pages', 'page_size', 'articles', 'user_input'])"
      ]
     },
     "metadata": {},
     "execution_count": 20
    }
   ],
   "source": [
    "df.keys()"
   ]
  }
 ]
}