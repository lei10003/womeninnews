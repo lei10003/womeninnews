{
 "metadata": {
  "language_info": {
   "codemirror_mode": {
    "name": "ipython",
    "version": 3
   },
   "file_extension": ".py",
   "mimetype": "text/x-python",
   "name": "python",
   "nbconvert_exporter": "python",
   "pygments_lexer": "ipython3",
   "version": "3.8.5"
  },
  "orig_nbformat": 2,
  "kernelspec": {
   "name": "python385jvsc74a57bd0c377a3a05ba1d31fd00218651f72b0a27b3c45e2b83cef10397a5da0ee866dc9",
   "display_name": "Python 3.8.5 64-bit (conda)"
  }
 },
 "nbformat": 4,
 "nbformat_minor": 2,
 "cells": [
  {
   "cell_type": "code",
   "execution_count": 14,
   "metadata": {},
   "outputs": [
    {
     "output_type": "stream",
     "name": "stdout",
     "text": [
      "HTTP Error 429: Too Many Requests\n",
      "HTTP Error 429: Too Many Requests\n",
      "HTTP Error 429: Too Many Requests\n",
      "HTTP Error 429: Too Many Requests\n",
      "HTTP Error 429: Too Many Requests\n",
      "HTTP Error 429: Too Many Requests\n",
      "HTTP Error 429: Too Many Requests\n",
      "HTTP Error 429: Too Many Requests\n",
      "HTTP Error 429: Too Many Requests\n",
      "HTTP Error 429: Too Many Requests\n",
      "HTTP Error 429: Too Many Requests\n",
      "HTTP Error 429: Too Many Requests\n",
      "HTTP Error 429: Too Many Requests\n",
      "HTTP Error 429: Too Many Requests\n",
      "HTTP Error 429: Too Many Requests\n",
      "HTTP Error 429: Too Many Requests\n",
      "HTTP Error 429: Too Many Requests\n",
      "HTTP Error 429: Too Many Requests\n",
      "HTTP Error 429: Too Many Requests\n",
      "HTTP Error 429: Too Many Requests\n",
      "HTTP Error 429: Too Many Requests\n",
      "HTTP Error 429: Too Many Requests\n",
      "HTTP Error 429: Too Many Requests\n",
      "HTTP Error 429: Too Many Requests\n",
      "HTTP Error 429: Too Many Requests\n",
      "HTTP Error 429: Too Many Requests\n",
      "HTTP Error 429: Too Many Requests\n",
      "HTTP Error 429: Too Many Requests\n",
      "HTTP Error 429: Too Many Requests\n",
      "HTTP Error 429: Too Many Requests\n",
      "HTTP Error 429: Too Many Requests\n",
      "HTTP Error 429: Too Many Requests\n",
      "HTTP Error 429: Too Many Requests\n",
      "HTTP Error 429: Too Many Requests\n",
      "HTTP Error 429: Too Many Requests\n",
      "HTTP Error 429: Too Many Requests\n",
      "HTTP Error 429: Too Many Requests\n",
      "HTTP Error 429: Too Many Requests\n",
      "HTTP Error 429: Too Many Requests\n",
      "HTTP Error 429: Too Many Requests\n",
      "HTTP Error 429: Too Many Requests\n",
      "HTTP Error 429: Too Many Requests\n",
      "HTTP Error 429: Too Many Requests\n",
      "HTTP Error 429: Too Many Requests\n",
      "HTTP Error 429: Too Many Requests\n",
      "HTTP Error 429: Too Many Requests\n",
      "HTTP Error 429: Too Many Requests\n",
      "HTTP Error 429: Too Many Requests\n",
      "HTTP Error 429: Too Many Requests\n",
      "HTTP Error 429: Too Many Requests\n",
      "HTTP Error 429: Too Many Requests\n",
      "HTTP Error 429: Too Many Requests\n",
      "HTTP Error 429: Too Many Requests\n",
      "HTTP Error 429: Too Many Requests\n",
      "HTTP Error 429: Too Many Requests\n",
      "HTTP Error 429: Too Many Requests\n",
      "HTTP Error 429: Too Many Requests\n",
      "HTTP Error 429: Too Many Requests\n"
     ]
    }
   ],
   "source": [
    "from GoogleNews import GoogleNews\n",
    "# from newspaper import Article\n",
    "import pandas as pd\n",
    "\n",
    "for i in range(1,30):\n",
    "    try:\n",
    "        googlenews=GoogleNews(start='02/01/2020',end='03/31/2020')\n",
    "        googlenews.search('women|woman|girl|girls|female|females|lady|ladies|she|her site:nbcnews.com')\n",
    "        googlenews.getpage(i)\n",
    "        result=googlenews.result()\n",
    "    except:\n",
    "        print(\"error\")\n",
    "        \n",
    "    # except (ConnectionError, OSError, TimeoutError) as e:\n",
    "    #     print(\"Encountered an error, F*** YOU GOOGLE, sleeping . . .\")\n",
    "    #     sleep(90)\n",
    "    #     googlenews.getpage(i)\n",
    "\n",
    "    # except \"HTTP Error 429: Too Many Requests\" as e:\n",
    "    #     print(\"Encountered too many requests error, F*** YOU GOOGLE, sleeping . . .\")\n",
    "    #     sleep(randint(1,10))\n",
    "    #     googlenews.getpage(i)\n",
    "    # except \"NoneType' object is not iterable\" as e:\n",
    "    #     print(\"This month does not have 30 pages worth of data\")\n",
    "    #print(\"recieved page\")\n",
    "    \n",
    "    #print(\"loaded results\")\n",
    "    df=pd.DataFrame(result)\n",
    "#df"
   ]
  },
  {
   "cell_type": "code",
   "execution_count": 20,
   "metadata": {},
   "outputs": [
    {
     "output_type": "error",
     "ename": "NameError",
     "evalue": "name 'requests' is not defined",
     "traceback": [
      "\u001b[1;31m---------------------------------------------------------------------------\u001b[0m",
      "\u001b[1;31mNameError\u001b[0m                                 Traceback (most recent call last)",
      "\u001b[1;32m<ipython-input-20-2efe21e10525>\u001b[0m in \u001b[0;36m<module>\u001b[1;34m\u001b[0m\n\u001b[1;32m----> 1\u001b[1;33m \u001b[0mr\u001b[0m \u001b[1;33m=\u001b[0m \u001b[0mrequests\u001b[0m\u001b[1;33m.\u001b[0m\u001b[0mget\u001b[0m\u001b[1;33m(\u001b[0m\u001b[1;34m\"https://www.google.com/search?q=women+%7C+woman+%7C+girl+%7C+girls+%7C+female+%7C+females+%7C+lady+%7C+ladies+%7C+she+%7C+her++site:nytimes.com&tbs=sbd:1&tbm=nws&tbas=0&source=lnt&sa=X&ved=0ahUKEwiEhOSI6bLwAhVHDewKHXQuCcoQpwUIKA&biw=982&bih=698&dpr=1.25\"\u001b[0m\u001b[1;33m)\u001b[0m\u001b[1;33m\u001b[0m\u001b[1;33m\u001b[0m\u001b[0m\n\u001b[0m",
      "\u001b[1;31mNameError\u001b[0m: name 'requests' is not defined"
     ]
    }
   ],
   "source": [
    "r = requests.get(\"https://www.google.com/search?q=women+%7C+woman+%7C+girl+%7C+girls+%7C+female+%7C+females+%7C+lady+%7C+ladies+%7C+she+%7C+her++site:nytimes.com&tbs=sbd:1&tbm=nws&tbas=0&source=lnt&sa=X&ved=0ahUKEwiEhOSI6bLwAhVHDewKHXQuCcoQpwUIKA&biw=982&bih=698&dpr=1.25\")"
   ]
  },
  {
   "cell_type": "code",
   "execution_count": 21,
   "metadata": {},
   "outputs": [],
   "source": [
    "import requests\n",
    "try:\n",
    "    r = requests.get(\"https://www.google.com/search?q=women+%7C+woman+%7C+girl+%7C+girls+%7C+female+%7C+females+%7C+lady+%7C+ladies+%7C+she+%7C+her++site:nytimes.com&tbs=sbd:1&tbm=nws&tbas=0&source=lnt&sa=X&ved=0ahUKEwiEhOSI6bLwAhVHDewKHXQuCcoQpwUIKA&biw=982&bih=698&dpr=1.25\")\n",
    "except:\n",
    "    print(\"error\")"
   ]
  },
  {
   "cell_type": "code",
   "execution_count": 45,
   "metadata": {},
   "outputs": [],
   "source": [
    "import requests\n",
    "\n",
    "url = \"https://google-news.p.rapidapi.com/v1/search\"\n",
    "\n",
    "querystring = {\"q\":\"women|woman|girl|girls|female|females|lady|ladies|she|her\",\"lang\":\"en\",\"sort_by\":\"relevancy\",\"from\":\"2020-02-01\",\"to\":\"2020-03-01\",\"sources\":\"nytimes.com\",\"page\":\"1\",\"media\":\"True\"}\n",
    "\n",
    "headers = {\n",
    "    'x-rapidapi-key': \"3e81132ebdmshafd93b150db164ep13c18fjsn834550268d59\",\n",
    "    'x-rapidapi-host': \"newscatcher.p.rapidapi.com\"\n",
    "    }\n",
    "\n",
    "response = requests.request(\"GET\", url, headers=headers, params=querystring)\n"
   ]
  },
  {
   "cell_type": "code",
   "execution_count": 46,
   "metadata": {},
   "outputs": [],
   "source": [
    "df = pd.DataFrame(response)"
   ]
  },
  {
   "cell_type": "code",
   "execution_count": 69,
   "metadata": {},
   "outputs": [],
   "source": [
    "df = response.json()"
   ]
  },
  {
   "cell_type": "code",
   "execution_count": 70,
   "metadata": {},
   "outputs": [
    {
     "output_type": "execute_result",
     "data": {
      "text/plain": [
       "{'status': 'ok',\n",
       " 'total_hits': 20,\n",
       " 'page': 1,\n",
       " 'total_pages': 4,\n",
       " 'page_size': 5,\n",
       " 'articles': [{'summary': \"Continue reading the main storyOne common cause is polycystic ovary syndrome, or PCOS, which is difficult to diagnose in adolescents.Period-tracking apps like Clue can help alert users to irregular cycles.Credit...CluePublished Feb. 24, 2020Updated Feb. 26, 2020I've written recently about teenagers having too-heavy periods and too-painful periods, and now I want to talk about too-irregular periods. These issues can overlap, but let's focus on what it can mean when an adolescent doesn't menstruate regularly — and on the question of how irregular is too irregular.\",\n",
       "   'country': 'US',\n",
       "   'author': 'Perri Klass, M.D.',\n",
       "   'link': 'https://www.nytimes.com/2020/02/24/well/family/teenagers-irregular-menstrual-periods-PCOS.html',\n",
       "   'language': 'en',\n",
       "   'media': 'https://static01.nyt.com/images/2020/02/24/well/24klass-PCOS/24klass-PCOS-facebookJumbo.jpg',\n",
       "   'title': \"When a Teenager's Irregular Periods Are Cause for Concern\",\n",
       "   'media_content': None,\n",
       "   'clean_url': 'nytimes.com',\n",
       "   'rights': 'nytimes.com',\n",
       "   'rank': '39',\n",
       "   'topic': 'science',\n",
       "   'published_date': '2020-02-26 08:00:00',\n",
       "   '_id': 'a03f428da9b83660139f59f1d6e9337d',\n",
       "   '_score': 32.033707},\n",
       "  {'summary': \"Continue reading the main storySome artists say Desert X AlUla is a step toward changing Saudi society. Critics call the government-funded exhibition 'morally corrupt.'For Desert X, the artist Rashed Al Shashai installed 'A Concise Passage' in the sandstone canyons of an ancient oasis in Saudi Arabia.Credit...Rashed AlShashai and Desert X Al Ula; Lance GerberPublished Feb. 11, 2020Updated Feb. 12, 2020AL ULA, Saudi Arabia — The Coachella art crowd had arrived in the Saudi desert, and chic caftans in head-turning colors outnumbered abayas on the sand.\",\n",
       "   'country': 'US',\n",
       "   'author': 'Vivian Yee',\n",
       "   'link': 'https://www.nytimes.com/2020/02/11/arts/design/Desert-X-AlUla-saudi-arabia.html',\n",
       "   'language': 'en',\n",
       "   'media': 'https://static01.nyt.com/images/2020/02/12/arts/11desertx-saudi1/11desertx-saudi1-facebookJumbo.jpg?year=2020&h=550&w=1050&sig=0xad32e147250649fbae4003f276e9d958',\n",
       "   'title': 'Art Rises in the Saudi Desert, Shadowed by Politics (Published 2020)',\n",
       "   'media_content': None,\n",
       "   'clean_url': 'nytimes.com',\n",
       "   'rights': 'nytimes.com',\n",
       "   'rank': '39',\n",
       "   'topic': 'entertainment',\n",
       "   'published_date': '2020-02-12 08:00:00',\n",
       "   '_id': 'c8968eae9ef76491edd6e486a9613ba7',\n",
       "   '_score': 16.583807},\n",
       "  {'summary': \"Continue reading the main storyAmina Cain's ‘Indelicacy' is a cautionary tale and a call to arms.Welcome to Group Text, a monthly column for readers and book clubs about the novels, memoirs and story collections that make you want to talk, ask questions and dwell in another world for a little bit longer.For many book groups, it's hard enough to figure out where and when to meet, whose turn it is to host and whether or not to add or subtract members, let alone what to read next. Group Text will address the main event: what to read — with a focus on the kinds of propulsive, thought-provoking books worthy of discussion.\",\n",
       "   'country': 'US',\n",
       "   'author': 'Elisabeth Egan',\n",
       "   'link': 'https://www.nytimes.com/2020/02/11/books/group-text-amina-cain.html',\n",
       "   'language': 'en',\n",
       "   'media': 'https://static01.nyt.com/images/2020/02/16/books/review/16GroupText/16GroupText-facebookJumbo.jpg?year=2020&h=549&w=1050&sig=0x8c3311d878f457fb98dd261177d0af00',\n",
       "   'title': 'A Novel That Will Get People Talking (Published 2020)',\n",
       "   'media_content': None,\n",
       "   'clean_url': 'nytimes.com',\n",
       "   'rights': 'nytimes.com',\n",
       "   'rank': '39',\n",
       "   'topic': 'entertainment',\n",
       "   'published_date': '2020-02-11 08:00:00',\n",
       "   '_id': '0d32e4a8022942c60b11dcc702367f80',\n",
       "   '_score': 14.12015},\n",
       "  {'summary': 'Nash Kitchens, 7, attended training on how to administer Narcan at the Public Library in Elizabethton, Tenn., in\\xa0 January.Credit...Mike Belleme for The New York TimesIn rural Carter County, Tenn., health officials have embraced a strategy for stemming addiction: Teaching children as young as 6 how to administer Narcan, a nasal spray that can stop an opioid overdose from being fatal.Nash Kitchens, 7, attended training on how to administer Narcan at the Public Library in Elizabethton, Tenn., in\\xa0 January.',\n",
       "   'country': 'US',\n",
       "   'author': 'Dan Levin',\n",
       "   'link': 'https://www.nytimes.com/2020/02/23/us/opioids-tennessee-narcan-training.html',\n",
       "   'language': 'en',\n",
       "   'media': 'https://static01.nyt.com/images/2020/02/20/us/00tennessee-opioids2/00tennessee-opioids2-facebookJumbo-v2.jpg',\n",
       "   'title': 'Teaching Children How to Reverse an Overdose',\n",
       "   'media_content': None,\n",
       "   'clean_url': 'nytimes.com',\n",
       "   'rights': 'nytimes.com',\n",
       "   'rank': '39',\n",
       "   'topic': 'science',\n",
       "   'published_date': '2020-02-24 08:00:00',\n",
       "   '_id': '3c7d9d3b1c11eaed19d79ebe4c3f2cfe',\n",
       "   '_score': 11.633364},\n",
       "  {'summary': 'Continue reading the main storyActivities like walking and lifting weights were both tied to a healthier weight, but combining the two may have the most benefits.Credit...Getty ImagesPublished Feb. 12, 2020Updated Feb. 18, 2020To stave off obesity, we might want to both stride and lift, according to an important, large-scale new study of how different types of exercise affect the incidence of obesity in America.The study, which involved health records for almost 1.7 million men and women, indicates that people who exercise in almost any way are less likely to be obese than those who are sedentary.',\n",
       "   'country': 'US',\n",
       "   'author': 'Gretchen Reynolds',\n",
       "   'link': 'https://www.nytimes.com/2020/02/12/well/move/combining-aerobics-and-weights-tied-to-optimal-weight-control.html',\n",
       "   'language': 'en',\n",
       "   'media': 'https://static01.nyt.com/images/2020/02/18/well/obesity-weights/obesity-weights-facebookJumbo.jpg',\n",
       "   'title': 'Combining Aerobics and Weights Tied to Optimal Weight Control',\n",
       "   'media_content': None,\n",
       "   'clean_url': 'nytimes.com',\n",
       "   'rights': 'nytimes.com',\n",
       "   'rank': '39',\n",
       "   'topic': 'science',\n",
       "   'published_date': '2020-02-18 08:00:00',\n",
       "   '_id': 'f6bf2e6298b0f79d4db06821acc259fd',\n",
       "   '_score': 10.287401}],\n",
       " 'user_input': {'q': 'women|woman|girl|girls|female|females|lady|ladies|she|her',\n",
       "  'search_in': 'title_summary_en',\n",
       "  'lang': 'en',\n",
       "  'country': None,\n",
       "  'from': '2020-02-01 00:00:00',\n",
       "  'to': '2020-03-01 00:00:00',\n",
       "  'ranked_only': 'True',\n",
       "  'from_rank': None,\n",
       "  'to_rank': None,\n",
       "  'sort_by': 'relevancy',\n",
       "  'page': 1,\n",
       "  'size': 5,\n",
       "  'sources': ['nytimes.com'],\n",
       "  'not_sources': None,\n",
       "  'topic': None,\n",
       "  'media': 'True'}}"
      ]
     },
     "metadata": {},
     "execution_count": 70
    }
   ],
   "source": [
    "df"
   ]
  },
  {
   "cell_type": "code",
   "execution_count": 64,
   "metadata": {},
   "outputs": [
    {
     "output_type": "error",
     "ename": "ValueError",
     "evalue": "malformed node or string: <_ast.Name object at 0x0000017D132224C0>",
     "traceback": [
      "\u001b[1;31m---------------------------------------------------------------------------\u001b[0m",
      "\u001b[1;31mValueError\u001b[0m                                Traceback (most recent call last)",
      "\u001b[1;32m<ipython-input-64-91a6ffbc64a4>\u001b[0m in \u001b[0;36m<module>\u001b[1;34m\u001b[0m\n\u001b[0;32m      1\u001b[0m \u001b[1;32mimport\u001b[0m \u001b[0mast\u001b[0m\u001b[1;33m\u001b[0m\u001b[1;33m\u001b[0m\u001b[0m\n\u001b[1;32m----> 2\u001b[1;33m \u001b[0mast\u001b[0m\u001b[1;33m.\u001b[0m\u001b[0mliteral_eval\u001b[0m\u001b[1;33m(\u001b[0m\u001b[0mstr\u001b[0m\u001b[1;33m(\u001b[0m\u001b[0mresponse\u001b[0m\u001b[1;33m.\u001b[0m\u001b[0mtext\u001b[0m\u001b[1;33m)\u001b[0m\u001b[1;33m)\u001b[0m\u001b[1;33m\u001b[0m\u001b[1;33m\u001b[0m\u001b[0m\n\u001b[0m",
      "\u001b[1;32m~\\anaconda3\\lib\\ast.py\u001b[0m in \u001b[0;36mliteral_eval\u001b[1;34m(node_or_string)\u001b[0m\n\u001b[0;32m     97\u001b[0m                     \u001b[1;32mreturn\u001b[0m \u001b[0mleft\u001b[0m \u001b[1;33m-\u001b[0m \u001b[0mright\u001b[0m\u001b[1;33m\u001b[0m\u001b[1;33m\u001b[0m\u001b[0m\n\u001b[0;32m     98\u001b[0m         \u001b[1;32mreturn\u001b[0m \u001b[0m_convert_signed_num\u001b[0m\u001b[1;33m(\u001b[0m\u001b[0mnode\u001b[0m\u001b[1;33m)\u001b[0m\u001b[1;33m\u001b[0m\u001b[1;33m\u001b[0m\u001b[0m\n\u001b[1;32m---> 99\u001b[1;33m     \u001b[1;32mreturn\u001b[0m \u001b[0m_convert\u001b[0m\u001b[1;33m(\u001b[0m\u001b[0mnode_or_string\u001b[0m\u001b[1;33m)\u001b[0m\u001b[1;33m\u001b[0m\u001b[1;33m\u001b[0m\u001b[0m\n\u001b[0m\u001b[0;32m    100\u001b[0m \u001b[1;33m\u001b[0m\u001b[0m\n\u001b[0;32m    101\u001b[0m \u001b[1;33m\u001b[0m\u001b[0m\n",
      "\u001b[1;32m~\\anaconda3\\lib\\ast.py\u001b[0m in \u001b[0;36m_convert\u001b[1;34m(node)\u001b[0m\n\u001b[0;32m     86\u001b[0m             \u001b[1;32mif\u001b[0m \u001b[0mlen\u001b[0m\u001b[1;33m(\u001b[0m\u001b[0mnode\u001b[0m\u001b[1;33m.\u001b[0m\u001b[0mkeys\u001b[0m\u001b[1;33m)\u001b[0m \u001b[1;33m!=\u001b[0m \u001b[0mlen\u001b[0m\u001b[1;33m(\u001b[0m\u001b[0mnode\u001b[0m\u001b[1;33m.\u001b[0m\u001b[0mvalues\u001b[0m\u001b[1;33m)\u001b[0m\u001b[1;33m:\u001b[0m\u001b[1;33m\u001b[0m\u001b[1;33m\u001b[0m\u001b[0m\n\u001b[0;32m     87\u001b[0m                 \u001b[0m_raise_malformed_node\u001b[0m\u001b[1;33m(\u001b[0m\u001b[0mnode\u001b[0m\u001b[1;33m)\u001b[0m\u001b[1;33m\u001b[0m\u001b[1;33m\u001b[0m\u001b[0m\n\u001b[1;32m---> 88\u001b[1;33m             return dict(zip(map(_convert, node.keys),\n\u001b[0m\u001b[0;32m     89\u001b[0m                             map(_convert, node.values)))\n\u001b[0;32m     90\u001b[0m         \u001b[1;32melif\u001b[0m \u001b[0misinstance\u001b[0m\u001b[1;33m(\u001b[0m\u001b[0mnode\u001b[0m\u001b[1;33m,\u001b[0m \u001b[0mBinOp\u001b[0m\u001b[1;33m)\u001b[0m \u001b[1;32mand\u001b[0m \u001b[0misinstance\u001b[0m\u001b[1;33m(\u001b[0m\u001b[0mnode\u001b[0m\u001b[1;33m.\u001b[0m\u001b[0mop\u001b[0m\u001b[1;33m,\u001b[0m \u001b[1;33m(\u001b[0m\u001b[0mAdd\u001b[0m\u001b[1;33m,\u001b[0m \u001b[0mSub\u001b[0m\u001b[1;33m)\u001b[0m\u001b[1;33m)\u001b[0m\u001b[1;33m:\u001b[0m\u001b[1;33m\u001b[0m\u001b[1;33m\u001b[0m\u001b[0m\n",
      "\u001b[1;32m~\\anaconda3\\lib\\ast.py\u001b[0m in \u001b[0;36m_convert\u001b[1;34m(node)\u001b[0m\n\u001b[0;32m     80\u001b[0m             \u001b[1;32mreturn\u001b[0m \u001b[0mtuple\u001b[0m\u001b[1;33m(\u001b[0m\u001b[0mmap\u001b[0m\u001b[1;33m(\u001b[0m\u001b[0m_convert\u001b[0m\u001b[1;33m,\u001b[0m \u001b[0mnode\u001b[0m\u001b[1;33m.\u001b[0m\u001b[0melts\u001b[0m\u001b[1;33m)\u001b[0m\u001b[1;33m)\u001b[0m\u001b[1;33m\u001b[0m\u001b[1;33m\u001b[0m\u001b[0m\n\u001b[0;32m     81\u001b[0m         \u001b[1;32melif\u001b[0m \u001b[0misinstance\u001b[0m\u001b[1;33m(\u001b[0m\u001b[0mnode\u001b[0m\u001b[1;33m,\u001b[0m \u001b[0mList\u001b[0m\u001b[1;33m)\u001b[0m\u001b[1;33m:\u001b[0m\u001b[1;33m\u001b[0m\u001b[1;33m\u001b[0m\u001b[0m\n\u001b[1;32m---> 82\u001b[1;33m             \u001b[1;32mreturn\u001b[0m \u001b[0mlist\u001b[0m\u001b[1;33m(\u001b[0m\u001b[0mmap\u001b[0m\u001b[1;33m(\u001b[0m\u001b[0m_convert\u001b[0m\u001b[1;33m,\u001b[0m \u001b[0mnode\u001b[0m\u001b[1;33m.\u001b[0m\u001b[0melts\u001b[0m\u001b[1;33m)\u001b[0m\u001b[1;33m)\u001b[0m\u001b[1;33m\u001b[0m\u001b[1;33m\u001b[0m\u001b[0m\n\u001b[0m\u001b[0;32m     83\u001b[0m         \u001b[1;32melif\u001b[0m \u001b[0misinstance\u001b[0m\u001b[1;33m(\u001b[0m\u001b[0mnode\u001b[0m\u001b[1;33m,\u001b[0m \u001b[0mSet\u001b[0m\u001b[1;33m)\u001b[0m\u001b[1;33m:\u001b[0m\u001b[1;33m\u001b[0m\u001b[1;33m\u001b[0m\u001b[0m\n\u001b[0;32m     84\u001b[0m             \u001b[1;32mreturn\u001b[0m \u001b[0mset\u001b[0m\u001b[1;33m(\u001b[0m\u001b[0mmap\u001b[0m\u001b[1;33m(\u001b[0m\u001b[0m_convert\u001b[0m\u001b[1;33m,\u001b[0m \u001b[0mnode\u001b[0m\u001b[1;33m.\u001b[0m\u001b[0melts\u001b[0m\u001b[1;33m)\u001b[0m\u001b[1;33m)\u001b[0m\u001b[1;33m\u001b[0m\u001b[1;33m\u001b[0m\u001b[0m\n",
      "\u001b[1;32m~\\anaconda3\\lib\\ast.py\u001b[0m in \u001b[0;36m_convert\u001b[1;34m(node)\u001b[0m\n\u001b[0;32m     86\u001b[0m             \u001b[1;32mif\u001b[0m \u001b[0mlen\u001b[0m\u001b[1;33m(\u001b[0m\u001b[0mnode\u001b[0m\u001b[1;33m.\u001b[0m\u001b[0mkeys\u001b[0m\u001b[1;33m)\u001b[0m \u001b[1;33m!=\u001b[0m \u001b[0mlen\u001b[0m\u001b[1;33m(\u001b[0m\u001b[0mnode\u001b[0m\u001b[1;33m.\u001b[0m\u001b[0mvalues\u001b[0m\u001b[1;33m)\u001b[0m\u001b[1;33m:\u001b[0m\u001b[1;33m\u001b[0m\u001b[1;33m\u001b[0m\u001b[0m\n\u001b[0;32m     87\u001b[0m                 \u001b[0m_raise_malformed_node\u001b[0m\u001b[1;33m(\u001b[0m\u001b[0mnode\u001b[0m\u001b[1;33m)\u001b[0m\u001b[1;33m\u001b[0m\u001b[1;33m\u001b[0m\u001b[0m\n\u001b[1;32m---> 88\u001b[1;33m             return dict(zip(map(_convert, node.keys),\n\u001b[0m\u001b[0;32m     89\u001b[0m                             map(_convert, node.values)))\n\u001b[0;32m     90\u001b[0m         \u001b[1;32melif\u001b[0m \u001b[0misinstance\u001b[0m\u001b[1;33m(\u001b[0m\u001b[0mnode\u001b[0m\u001b[1;33m,\u001b[0m \u001b[0mBinOp\u001b[0m\u001b[1;33m)\u001b[0m \u001b[1;32mand\u001b[0m \u001b[0misinstance\u001b[0m\u001b[1;33m(\u001b[0m\u001b[0mnode\u001b[0m\u001b[1;33m.\u001b[0m\u001b[0mop\u001b[0m\u001b[1;33m,\u001b[0m \u001b[1;33m(\u001b[0m\u001b[0mAdd\u001b[0m\u001b[1;33m,\u001b[0m \u001b[0mSub\u001b[0m\u001b[1;33m)\u001b[0m\u001b[1;33m)\u001b[0m\u001b[1;33m:\u001b[0m\u001b[1;33m\u001b[0m\u001b[1;33m\u001b[0m\u001b[0m\n",
      "\u001b[1;32m~\\anaconda3\\lib\\ast.py\u001b[0m in \u001b[0;36m_convert\u001b[1;34m(node)\u001b[0m\n\u001b[0;32m     96\u001b[0m                 \u001b[1;32melse\u001b[0m\u001b[1;33m:\u001b[0m\u001b[1;33m\u001b[0m\u001b[1;33m\u001b[0m\u001b[0m\n\u001b[0;32m     97\u001b[0m                     \u001b[1;32mreturn\u001b[0m \u001b[0mleft\u001b[0m \u001b[1;33m-\u001b[0m \u001b[0mright\u001b[0m\u001b[1;33m\u001b[0m\u001b[1;33m\u001b[0m\u001b[0m\n\u001b[1;32m---> 98\u001b[1;33m         \u001b[1;32mreturn\u001b[0m \u001b[0m_convert_signed_num\u001b[0m\u001b[1;33m(\u001b[0m\u001b[0mnode\u001b[0m\u001b[1;33m)\u001b[0m\u001b[1;33m\u001b[0m\u001b[1;33m\u001b[0m\u001b[0m\n\u001b[0m\u001b[0;32m     99\u001b[0m     \u001b[1;32mreturn\u001b[0m \u001b[0m_convert\u001b[0m\u001b[1;33m(\u001b[0m\u001b[0mnode_or_string\u001b[0m\u001b[1;33m)\u001b[0m\u001b[1;33m\u001b[0m\u001b[1;33m\u001b[0m\u001b[0m\n\u001b[0;32m    100\u001b[0m \u001b[1;33m\u001b[0m\u001b[0m\n",
      "\u001b[1;32m~\\anaconda3\\lib\\ast.py\u001b[0m in \u001b[0;36m_convert_signed_num\u001b[1;34m(node)\u001b[0m\n\u001b[0;32m     73\u001b[0m             \u001b[1;32melse\u001b[0m\u001b[1;33m:\u001b[0m\u001b[1;33m\u001b[0m\u001b[1;33m\u001b[0m\u001b[0m\n\u001b[0;32m     74\u001b[0m                 \u001b[1;32mreturn\u001b[0m \u001b[1;33m-\u001b[0m \u001b[0moperand\u001b[0m\u001b[1;33m\u001b[0m\u001b[1;33m\u001b[0m\u001b[0m\n\u001b[1;32m---> 75\u001b[1;33m         \u001b[1;32mreturn\u001b[0m \u001b[0m_convert_num\u001b[0m\u001b[1;33m(\u001b[0m\u001b[0mnode\u001b[0m\u001b[1;33m)\u001b[0m\u001b[1;33m\u001b[0m\u001b[1;33m\u001b[0m\u001b[0m\n\u001b[0m\u001b[0;32m     76\u001b[0m     \u001b[1;32mdef\u001b[0m \u001b[0m_convert\u001b[0m\u001b[1;33m(\u001b[0m\u001b[0mnode\u001b[0m\u001b[1;33m)\u001b[0m\u001b[1;33m:\u001b[0m\u001b[1;33m\u001b[0m\u001b[1;33m\u001b[0m\u001b[0m\n\u001b[0;32m     77\u001b[0m         \u001b[1;32mif\u001b[0m \u001b[0misinstance\u001b[0m\u001b[1;33m(\u001b[0m\u001b[0mnode\u001b[0m\u001b[1;33m,\u001b[0m \u001b[0mConstant\u001b[0m\u001b[1;33m)\u001b[0m\u001b[1;33m:\u001b[0m\u001b[1;33m\u001b[0m\u001b[1;33m\u001b[0m\u001b[0m\n",
      "\u001b[1;32m~\\anaconda3\\lib\\ast.py\u001b[0m in \u001b[0;36m_convert_num\u001b[1;34m(node)\u001b[0m\n\u001b[0;32m     64\u001b[0m     \u001b[1;32mdef\u001b[0m \u001b[0m_convert_num\u001b[0m\u001b[1;33m(\u001b[0m\u001b[0mnode\u001b[0m\u001b[1;33m)\u001b[0m\u001b[1;33m:\u001b[0m\u001b[1;33m\u001b[0m\u001b[1;33m\u001b[0m\u001b[0m\n\u001b[0;32m     65\u001b[0m         \u001b[1;32mif\u001b[0m \u001b[1;32mnot\u001b[0m \u001b[0misinstance\u001b[0m\u001b[1;33m(\u001b[0m\u001b[0mnode\u001b[0m\u001b[1;33m,\u001b[0m \u001b[0mConstant\u001b[0m\u001b[1;33m)\u001b[0m \u001b[1;32mor\u001b[0m \u001b[0mtype\u001b[0m\u001b[1;33m(\u001b[0m\u001b[0mnode\u001b[0m\u001b[1;33m.\u001b[0m\u001b[0mvalue\u001b[0m\u001b[1;33m)\u001b[0m \u001b[1;32mnot\u001b[0m \u001b[1;32min\u001b[0m \u001b[1;33m(\u001b[0m\u001b[0mint\u001b[0m\u001b[1;33m,\u001b[0m \u001b[0mfloat\u001b[0m\u001b[1;33m,\u001b[0m \u001b[0mcomplex\u001b[0m\u001b[1;33m)\u001b[0m\u001b[1;33m:\u001b[0m\u001b[1;33m\u001b[0m\u001b[1;33m\u001b[0m\u001b[0m\n\u001b[1;32m---> 66\u001b[1;33m             \u001b[0m_raise_malformed_node\u001b[0m\u001b[1;33m(\u001b[0m\u001b[0mnode\u001b[0m\u001b[1;33m)\u001b[0m\u001b[1;33m\u001b[0m\u001b[1;33m\u001b[0m\u001b[0m\n\u001b[0m\u001b[0;32m     67\u001b[0m         \u001b[1;32mreturn\u001b[0m \u001b[0mnode\u001b[0m\u001b[1;33m.\u001b[0m\u001b[0mvalue\u001b[0m\u001b[1;33m\u001b[0m\u001b[1;33m\u001b[0m\u001b[0m\n\u001b[0;32m     68\u001b[0m     \u001b[1;32mdef\u001b[0m \u001b[0m_convert_signed_num\u001b[0m\u001b[1;33m(\u001b[0m\u001b[0mnode\u001b[0m\u001b[1;33m)\u001b[0m\u001b[1;33m:\u001b[0m\u001b[1;33m\u001b[0m\u001b[1;33m\u001b[0m\u001b[0m\n",
      "\u001b[1;32m~\\anaconda3\\lib\\ast.py\u001b[0m in \u001b[0;36m_raise_malformed_node\u001b[1;34m(node)\u001b[0m\n\u001b[0;32m     61\u001b[0m         \u001b[0mnode_or_string\u001b[0m \u001b[1;33m=\u001b[0m \u001b[0mnode_or_string\u001b[0m\u001b[1;33m.\u001b[0m\u001b[0mbody\u001b[0m\u001b[1;33m\u001b[0m\u001b[1;33m\u001b[0m\u001b[0m\n\u001b[0;32m     62\u001b[0m     \u001b[1;32mdef\u001b[0m \u001b[0m_raise_malformed_node\u001b[0m\u001b[1;33m(\u001b[0m\u001b[0mnode\u001b[0m\u001b[1;33m)\u001b[0m\u001b[1;33m:\u001b[0m\u001b[1;33m\u001b[0m\u001b[1;33m\u001b[0m\u001b[0m\n\u001b[1;32m---> 63\u001b[1;33m         \u001b[1;32mraise\u001b[0m \u001b[0mValueError\u001b[0m\u001b[1;33m(\u001b[0m\u001b[1;34mf'malformed node or string: {node!r}'\u001b[0m\u001b[1;33m)\u001b[0m\u001b[1;33m\u001b[0m\u001b[1;33m\u001b[0m\u001b[0m\n\u001b[0m\u001b[0;32m     64\u001b[0m     \u001b[1;32mdef\u001b[0m \u001b[0m_convert_num\u001b[0m\u001b[1;33m(\u001b[0m\u001b[0mnode\u001b[0m\u001b[1;33m)\u001b[0m\u001b[1;33m:\u001b[0m\u001b[1;33m\u001b[0m\u001b[1;33m\u001b[0m\u001b[0m\n\u001b[0;32m     65\u001b[0m         \u001b[1;32mif\u001b[0m \u001b[1;32mnot\u001b[0m \u001b[0misinstance\u001b[0m\u001b[1;33m(\u001b[0m\u001b[0mnode\u001b[0m\u001b[1;33m,\u001b[0m \u001b[0mConstant\u001b[0m\u001b[1;33m)\u001b[0m \u001b[1;32mor\u001b[0m \u001b[0mtype\u001b[0m\u001b[1;33m(\u001b[0m\u001b[0mnode\u001b[0m\u001b[1;33m.\u001b[0m\u001b[0mvalue\u001b[0m\u001b[1;33m)\u001b[0m \u001b[1;32mnot\u001b[0m \u001b[1;32min\u001b[0m \u001b[1;33m(\u001b[0m\u001b[0mint\u001b[0m\u001b[1;33m,\u001b[0m \u001b[0mfloat\u001b[0m\u001b[1;33m,\u001b[0m \u001b[0mcomplex\u001b[0m\u001b[1;33m)\u001b[0m\u001b[1;33m:\u001b[0m\u001b[1;33m\u001b[0m\u001b[1;33m\u001b[0m\u001b[0m\n",
      "\u001b[1;31mValueError\u001b[0m: malformed node or string: <_ast.Name object at 0x0000017D132224C0>"
     ]
    }
   ],
   "source": [
    "import ast\n",
    "ast.literal_eval(str(response.text))"
   ]
  },
  {
   "cell_type": "code",
   "execution_count": 22,
   "metadata": {},
   "outputs": [
    {
     "output_type": "error",
     "ename": "NameError",
     "evalue": "name 'BeautifulSoup' is not defined",
     "traceback": [
      "\u001b[1;31m---------------------------------------------------------------------------\u001b[0m",
      "\u001b[1;31mNameError\u001b[0m                                 Traceback (most recent call last)",
      "\u001b[1;32m<ipython-input-22-5dacaaf6b1c7>\u001b[0m in \u001b[0;36m<module>\u001b[1;34m\u001b[0m\n\u001b[0;32m      1\u001b[0m \u001b[0mcoverpage\u001b[0m \u001b[1;33m=\u001b[0m \u001b[0mr\u001b[0m\u001b[1;33m.\u001b[0m\u001b[0mcontent\u001b[0m\u001b[1;33m\u001b[0m\u001b[1;33m\u001b[0m\u001b[0m\n\u001b[1;32m----> 2\u001b[1;33m \u001b[0msoup1\u001b[0m \u001b[1;33m=\u001b[0m \u001b[0mBeautifulSoup\u001b[0m\u001b[1;33m(\u001b[0m\u001b[0mcoverpage\u001b[0m\u001b[1;33m,\u001b[0m \u001b[1;34m'html5lib'\u001b[0m\u001b[1;33m)\u001b[0m\u001b[1;33m\u001b[0m\u001b[1;33m\u001b[0m\u001b[0m\n\u001b[0m",
      "\u001b[1;31mNameError\u001b[0m: name 'BeautifulSoup' is not defined"
     ]
    }
   ],
   "source": [
    "coverpage = r.content\n",
    "soup1 = BeautifulSoup(coverpage, 'html5lib')"
   ]
  },
  {
   "cell_type": "code",
   "execution_count": 7,
   "metadata": {},
   "outputs": [
    {
     "output_type": "execute_result",
     "data": {
      "text/plain": [
       "                                                 title     media         date  \\\n",
       "0    'Hell for women': In Mexico, women strike, mar...  NBC News   9 Mar 2020   \n",
       "1    Woman who coughed on $35K worth of grocery sto...  NBC News  27 Mar 2020   \n",
       "2    Missing 6-year-old girl in South Carolina foun...  NBC News  13 Feb 2020   \n",
       "3    Woman posed as photographer, drugged a mom to ...  NBC News  15 Feb 2020   \n",
       "4    Weinstein accuser says trial was proxy for cas...  NBC News  24 Feb 2020   \n",
       "..                                                 ...       ...          ...   \n",
       "246  Kathy Griffin reveals that her mom, Maggie, ha...  NBC News  18 Mar 2020   \n",
       "247  Coronavirus is a 'personal nightmare' for peop...  NBC News  20 Mar 2020   \n",
       "248  Linda Fairstein sues Netflix over portrayal in...  NBC News  18 Mar 2020   \n",
       "249  Miley Cyrus quit church because gay friends 'w...  NBC News  23 Mar 2020   \n",
       "250  Russia-Saudi price war sends oil prices plumme...  NBC News   9 Mar 2020   \n",
       "\n",
       "     datetime                                               desc  \\\n",
       "0         NaN  The high school student who lives in Naucalpan...   \n",
       "1         NaN  A woman who played a \"twisted prank\" at a Penn...   \n",
       "2         NaN  The girl's body was found in her neighborhood ...   \n",
       "3         NaN  A woman in Washington state and her 16-year-ol...   \n",
       "4         NaN  Chiu, who alleges Weinstein told her he \"never...   \n",
       "..        ...                                                ...   \n",
       "246       NaN  She was my family,\" Griffin wrote and posted o...   \n",
       "247       NaN  Sarah Mergens showed signs of obsessive-compul...   \n",
       "248       NaN  Fairstein claims the show falsely depicted her...   \n",
       "249       NaN  During an episode of her new Instagram show \"B...   \n",
       "250       NaN  China alone accounts for about a third of new ...   \n",
       "\n",
       "                                                  link  \\\n",
       "0    https://www.nbcnews.com/news/latino/hell-women...   \n",
       "1    https://www.nbcnews.com/news/us-news/grocery-s...   \n",
       "2    https://www.nbcnews.com/news/us-news/missing-6...   \n",
       "3    https://www.nbcnews.com/news/us-news/woman-pos...   \n",
       "4    https://www.nbcnews.com/news/asian-america/wei...   \n",
       "..                                                 ...   \n",
       "246  https://www.nbcnews.com/pop-culture/celebrity/...   \n",
       "247  https://www.nbcnews.com/news/us-news/coronavir...   \n",
       "248  https://www.nbcnews.com/news/nbcblk/linda-fair...   \n",
       "249  https://www.nbcnews.com/feature/nbc-out/miley-...   \n",
       "250  https://www.nbcnews.com/news/world/russian-sau...   \n",
       "\n",
       "                                                   img  \n",
       "0    data:image/gif;base64,R0lGODlhAQABAIAAAP//////...  \n",
       "1    data:image/gif;base64,R0lGODlhAQABAIAAAP//////...  \n",
       "2    data:image/gif;base64,R0lGODlhAQABAIAAAP//////...  \n",
       "3    data:image/gif;base64,R0lGODlhAQABAIAAAP//////...  \n",
       "4    data:image/gif;base64,R0lGODlhAQABAIAAAP//////...  \n",
       "..                                                 ...  \n",
       "246  data:image/gif;base64,R0lGODlhAQABAIAAAP//////...  \n",
       "247  data:image/gif;base64,R0lGODlhAQABAIAAAP//////...  \n",
       "248  data:image/gif;base64,R0lGODlhAQABAIAAAP//////...  \n",
       "249  data:image/gif;base64,R0lGODlhAQABAIAAAP//////...  \n",
       "250  data:image/gif;base64,R0lGODlhAQABAIAAAP//////...  \n",
       "\n",
       "[251 rows x 7 columns]"
      ],
      "text/html": "<div>\n<style scoped>\n    .dataframe tbody tr th:only-of-type {\n        vertical-align: middle;\n    }\n\n    .dataframe tbody tr th {\n        vertical-align: top;\n    }\n\n    .dataframe thead th {\n        text-align: right;\n    }\n</style>\n<table border=\"1\" class=\"dataframe\">\n  <thead>\n    <tr style=\"text-align: right;\">\n      <th></th>\n      <th>title</th>\n      <th>media</th>\n      <th>date</th>\n      <th>datetime</th>\n      <th>desc</th>\n      <th>link</th>\n      <th>img</th>\n    </tr>\n  </thead>\n  <tbody>\n    <tr>\n      <th>0</th>\n      <td>'Hell for women': In Mexico, women strike, mar...</td>\n      <td>NBC News</td>\n      <td>9 Mar 2020</td>\n      <td>NaN</td>\n      <td>The high school student who lives in Naucalpan...</td>\n      <td>https://www.nbcnews.com/news/latino/hell-women...</td>\n      <td>data:image/gif;base64,R0lGODlhAQABAIAAAP//////...</td>\n    </tr>\n    <tr>\n      <th>1</th>\n      <td>Woman who coughed on $35K worth of grocery sto...</td>\n      <td>NBC News</td>\n      <td>27 Mar 2020</td>\n      <td>NaN</td>\n      <td>A woman who played a \"twisted prank\" at a Penn...</td>\n      <td>https://www.nbcnews.com/news/us-news/grocery-s...</td>\n      <td>data:image/gif;base64,R0lGODlhAQABAIAAAP//////...</td>\n    </tr>\n    <tr>\n      <th>2</th>\n      <td>Missing 6-year-old girl in South Carolina foun...</td>\n      <td>NBC News</td>\n      <td>13 Feb 2020</td>\n      <td>NaN</td>\n      <td>The girl's body was found in her neighborhood ...</td>\n      <td>https://www.nbcnews.com/news/us-news/missing-6...</td>\n      <td>data:image/gif;base64,R0lGODlhAQABAIAAAP//////...</td>\n    </tr>\n    <tr>\n      <th>3</th>\n      <td>Woman posed as photographer, drugged a mom to ...</td>\n      <td>NBC News</td>\n      <td>15 Feb 2020</td>\n      <td>NaN</td>\n      <td>A woman in Washington state and her 16-year-ol...</td>\n      <td>https://www.nbcnews.com/news/us-news/woman-pos...</td>\n      <td>data:image/gif;base64,R0lGODlhAQABAIAAAP//////...</td>\n    </tr>\n    <tr>\n      <th>4</th>\n      <td>Weinstein accuser says trial was proxy for cas...</td>\n      <td>NBC News</td>\n      <td>24 Feb 2020</td>\n      <td>NaN</td>\n      <td>Chiu, who alleges Weinstein told her he \"never...</td>\n      <td>https://www.nbcnews.com/news/asian-america/wei...</td>\n      <td>data:image/gif;base64,R0lGODlhAQABAIAAAP//////...</td>\n    </tr>\n    <tr>\n      <th>...</th>\n      <td>...</td>\n      <td>...</td>\n      <td>...</td>\n      <td>...</td>\n      <td>...</td>\n      <td>...</td>\n      <td>...</td>\n    </tr>\n    <tr>\n      <th>246</th>\n      <td>Kathy Griffin reveals that her mom, Maggie, ha...</td>\n      <td>NBC News</td>\n      <td>18 Mar 2020</td>\n      <td>NaN</td>\n      <td>She was my family,\" Griffin wrote and posted o...</td>\n      <td>https://www.nbcnews.com/pop-culture/celebrity/...</td>\n      <td>data:image/gif;base64,R0lGODlhAQABAIAAAP//////...</td>\n    </tr>\n    <tr>\n      <th>247</th>\n      <td>Coronavirus is a 'personal nightmare' for peop...</td>\n      <td>NBC News</td>\n      <td>20 Mar 2020</td>\n      <td>NaN</td>\n      <td>Sarah Mergens showed signs of obsessive-compul...</td>\n      <td>https://www.nbcnews.com/news/us-news/coronavir...</td>\n      <td>data:image/gif;base64,R0lGODlhAQABAIAAAP//////...</td>\n    </tr>\n    <tr>\n      <th>248</th>\n      <td>Linda Fairstein sues Netflix over portrayal in...</td>\n      <td>NBC News</td>\n      <td>18 Mar 2020</td>\n      <td>NaN</td>\n      <td>Fairstein claims the show falsely depicted her...</td>\n      <td>https://www.nbcnews.com/news/nbcblk/linda-fair...</td>\n      <td>data:image/gif;base64,R0lGODlhAQABAIAAAP//////...</td>\n    </tr>\n    <tr>\n      <th>249</th>\n      <td>Miley Cyrus quit church because gay friends 'w...</td>\n      <td>NBC News</td>\n      <td>23 Mar 2020</td>\n      <td>NaN</td>\n      <td>During an episode of her new Instagram show \"B...</td>\n      <td>https://www.nbcnews.com/feature/nbc-out/miley-...</td>\n      <td>data:image/gif;base64,R0lGODlhAQABAIAAAP//////...</td>\n    </tr>\n    <tr>\n      <th>250</th>\n      <td>Russia-Saudi price war sends oil prices plumme...</td>\n      <td>NBC News</td>\n      <td>9 Mar 2020</td>\n      <td>NaN</td>\n      <td>China alone accounts for about a third of new ...</td>\n      <td>https://www.nbcnews.com/news/world/russian-sau...</td>\n      <td>data:image/gif;base64,R0lGODlhAQABAIAAAP//////...</td>\n    </tr>\n  </tbody>\n</table>\n<p>251 rows × 7 columns</p>\n</div>"
     },
     "metadata": {},
     "execution_count": 7
    }
   ],
   "source": [
    "df"
   ]
  },
  {
   "cell_type": "code",
   "execution_count": 3,
   "metadata": {},
   "outputs": [
    {
     "output_type": "error",
     "ename": "NewsAPIException",
     "evalue": "{'status': 'error', 'code': 'parameterInvalid', 'message': 'You are trying to request results too far in the past. Your plan permits you to request articles as far back as 2021-04-04, but you have requested 2020-02-01. You may need to upgrade to a paid plan.'}",
     "traceback": [
      "\u001b[1;31m---------------------------------------------------------------------------\u001b[0m",
      "\u001b[1;31mNewsAPIException\u001b[0m                          Traceback (most recent call last)",
      "\u001b[1;32m<ipython-input-3-c9f38a69ee3e>\u001b[0m in \u001b[0;36m<module>\u001b[1;34m\u001b[0m\n\u001b[0;32m      3\u001b[0m \u001b[0mnewsapi\u001b[0m \u001b[1;33m=\u001b[0m \u001b[0mNewsApiClient\u001b[0m\u001b[1;33m(\u001b[0m\u001b[0mapi_key\u001b[0m\u001b[1;33m=\u001b[0m\u001b[1;34m'cc1c6faf1c2b4d01b40ac88d639ecdbd'\u001b[0m\u001b[1;33m)\u001b[0m\u001b[1;33m\u001b[0m\u001b[1;33m\u001b[0m\u001b[0m\n\u001b[0;32m      4\u001b[0m \u001b[1;33m\u001b[0m\u001b[0m\n\u001b[1;32m----> 5\u001b[1;33m \u001b[0mall_articles\u001b[0m \u001b[1;33m=\u001b[0m \u001b[0mnewsapi\u001b[0m\u001b[1;33m.\u001b[0m\u001b[0mget_everything\u001b[0m\u001b[1;33m(\u001b[0m\u001b[0mq\u001b[0m \u001b[1;33m=\u001b[0m \u001b[1;34m'women|woman|girl|girls|female|females|lady|ladies|she|her'\u001b[0m\u001b[1;33m,\u001b[0m \u001b[0mdomains\u001b[0m\u001b[1;33m=\u001b[0m \u001b[1;34m'nbcnews.com'\u001b[0m\u001b[1;33m,\u001b[0m \u001b[0mfrom_param\u001b[0m\u001b[1;33m=\u001b[0m\u001b[1;34m'2020-02-01'\u001b[0m\u001b[1;33m,\u001b[0m \u001b[0mto\u001b[0m\u001b[1;33m=\u001b[0m\u001b[1;34m'2020-03-01'\u001b[0m\u001b[1;33m)\u001b[0m\u001b[1;33m\u001b[0m\u001b[1;33m\u001b[0m\u001b[0m\n\u001b[0m",
      "\u001b[1;32m~\\anaconda3\\lib\\site-packages\\newsapi\\newsapi_client.py\u001b[0m in \u001b[0;36mget_everything\u001b[1;34m(self, q, qintitle, sources, domains, exclude_domains, from_param, to, language, sort_by, page, page_size)\u001b[0m\n\u001b[0;32m    324\u001b[0m         \u001b[1;31m# Check Status of Request\u001b[0m\u001b[1;33m\u001b[0m\u001b[1;33m\u001b[0m\u001b[1;33m\u001b[0m\u001b[0m\n\u001b[0;32m    325\u001b[0m         \u001b[1;32mif\u001b[0m \u001b[0mr\u001b[0m\u001b[1;33m.\u001b[0m\u001b[0mstatus_code\u001b[0m \u001b[1;33m!=\u001b[0m \u001b[0mrequests\u001b[0m\u001b[1;33m.\u001b[0m\u001b[0mcodes\u001b[0m\u001b[1;33m.\u001b[0m\u001b[0mok\u001b[0m\u001b[1;33m:\u001b[0m\u001b[1;33m\u001b[0m\u001b[1;33m\u001b[0m\u001b[0m\n\u001b[1;32m--> 326\u001b[1;33m             \u001b[1;32mraise\u001b[0m \u001b[0mNewsAPIException\u001b[0m\u001b[1;33m(\u001b[0m\u001b[0mr\u001b[0m\u001b[1;33m.\u001b[0m\u001b[0mjson\u001b[0m\u001b[1;33m(\u001b[0m\u001b[1;33m)\u001b[0m\u001b[1;33m)\u001b[0m\u001b[1;33m\u001b[0m\u001b[1;33m\u001b[0m\u001b[0m\n\u001b[0m\u001b[0;32m    327\u001b[0m \u001b[1;33m\u001b[0m\u001b[0m\n\u001b[0;32m    328\u001b[0m         \u001b[1;32mreturn\u001b[0m \u001b[0mr\u001b[0m\u001b[1;33m.\u001b[0m\u001b[0mjson\u001b[0m\u001b[1;33m(\u001b[0m\u001b[1;33m)\u001b[0m\u001b[1;33m\u001b[0m\u001b[1;33m\u001b[0m\u001b[0m\n",
      "\u001b[1;31mNewsAPIException\u001b[0m: {'status': 'error', 'code': 'parameterInvalid', 'message': 'You are trying to request results too far in the past. Your plan permits you to request articles as far back as 2021-04-04, but you have requested 2020-02-01. You may need to upgrade to a paid plan.'}"
     ]
    }
   ],
   "source": [
    "from newsapi import NewsApiClient\n",
    "\n",
    "newsapi = NewsApiClient(api_key='cc1c6faf1c2b4d01b40ac88d639ecdbd')\n",
    "\n",
    "all_articles = newsapi.get_everything(q = 'women|woman|girl|girls|female|females|lady|ladies|she|her', domains= 'nbcnews.com', from_param='2020-02-01', to='2020-03-01')"
   ]
  }
 ]
}